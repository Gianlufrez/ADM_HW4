{
 "cells": [
  {
   "cell_type": "markdown",
   "id": "b687b2f4",
   "metadata": {},
   "source": [
    "# Homework 4 - Getting to know your customers\n",
    "\n",
    "## 1. Finding Similar Costumers\n",
    "\n",
    "Companies nowadays are implementing product suggestions to provide users with things they are likely to buy. The process often starts by finding similar behaviours among consumers; for this task, we will focus on this part in the specific.\n",
    "Here you will implement an algorithm to find the most similar match to a consumer given his bank account information. In particular, you will implement your version of the LSH algorithm that takes as input information about a consumer and finds people similar to the one in the study.\n",
    "\n",
    "## 1.1 Set up the data\n",
    "\n",
    "For the sake of this first part, not all columns are necessary since comparing each field single handedly can be quite time-expensive. Then, carefully read the linked guide above and try to understand which features will be appropriate for this task (An heads up: some users have more than one transaction record, make sure to handle them all). Once you have finished, project a version of the dataset to work with.\n"
   ]
  },
  {
   "cell_type": "markdown",
   "id": "9ec219e4",
   "metadata": {},
   "source": [
    "First of all we use pandas to import the dataset of transaction of a bank in India. The features that could be useful to match similar consumer given the bank accont information are: CustomerID, CustomerDOB (to group by similar ages), CustGender, CustAccountBalance (to group by richness) and TransactionAmount (to group by how much money they use). We are not interested in location (all are in India) and the time of the transaction, but we'll keep transaction date to calculate the age of the person at the year in which the data are taken."
   ]
  },
  {
   "cell_type": "code",
   "execution_count": 1,
   "id": "f846e887",
   "metadata": {},
   "outputs": [],
   "source": [
    "import pandas as pd\n",
    "import numpy as np\n",
    "import matplotlib.pyplot as plt\n",
    "from collections import Counter\n",
    "from tqdm import tqdm as tq\n",
    "from math import sqrt\n",
    "import seaborn as sn\n",
    "from statistics import mean\n",
    "import warnings\n",
    "warnings.filterwarnings(\"ignore\")"
   ]
  },
  {
   "cell_type": "code",
   "execution_count": 2,
   "id": "162773eb",
   "metadata": {},
   "outputs": [],
   "source": [
    "df = pd.read_csv('/Users/giacomo/Desktop/locale/bank_transactions.csv', usecols = ['TransactionID', 'CustomerID', 'CustomerDOB', 'CustGender', 'TransactionDate', 'CustAccountBalance', 'TransactionAmount (INR)'])"
   ]
  },
  {
   "cell_type": "code",
   "execution_count": 3,
   "id": "c1f2ea23",
   "metadata": {},
   "outputs": [
    {
     "data": {
      "text/html": [
       "<div>\n",
       "<style scoped>\n",
       "    .dataframe tbody tr th:only-of-type {\n",
       "        vertical-align: middle;\n",
       "    }\n",
       "\n",
       "    .dataframe tbody tr th {\n",
       "        vertical-align: top;\n",
       "    }\n",
       "\n",
       "    .dataframe thead th {\n",
       "        text-align: right;\n",
       "    }\n",
       "</style>\n",
       "<table border=\"1\" class=\"dataframe\">\n",
       "  <thead>\n",
       "    <tr style=\"text-align: right;\">\n",
       "      <th></th>\n",
       "      <th>TransactionID</th>\n",
       "      <th>CustomerID</th>\n",
       "      <th>CustomerDOB</th>\n",
       "      <th>CustGender</th>\n",
       "      <th>CustAccountBalance</th>\n",
       "      <th>TransactionDate</th>\n",
       "      <th>TransactionAmount (INR)</th>\n",
       "    </tr>\n",
       "  </thead>\n",
       "  <tbody>\n",
       "    <tr>\n",
       "      <th>0</th>\n",
       "      <td>T1</td>\n",
       "      <td>C5841053</td>\n",
       "      <td>10/1/94</td>\n",
       "      <td>F</td>\n",
       "      <td>17819.05</td>\n",
       "      <td>2/8/16</td>\n",
       "      <td>25.0</td>\n",
       "    </tr>\n",
       "    <tr>\n",
       "      <th>1</th>\n",
       "      <td>T2</td>\n",
       "      <td>C2142763</td>\n",
       "      <td>4/4/57</td>\n",
       "      <td>M</td>\n",
       "      <td>2270.69</td>\n",
       "      <td>2/8/16</td>\n",
       "      <td>27999.0</td>\n",
       "    </tr>\n",
       "    <tr>\n",
       "      <th>2</th>\n",
       "      <td>T3</td>\n",
       "      <td>C4417068</td>\n",
       "      <td>26/11/96</td>\n",
       "      <td>F</td>\n",
       "      <td>17874.44</td>\n",
       "      <td>2/8/16</td>\n",
       "      <td>459.0</td>\n",
       "    </tr>\n",
       "    <tr>\n",
       "      <th>3</th>\n",
       "      <td>T4</td>\n",
       "      <td>C5342380</td>\n",
       "      <td>14/9/73</td>\n",
       "      <td>F</td>\n",
       "      <td>866503.21</td>\n",
       "      <td>2/8/16</td>\n",
       "      <td>2060.0</td>\n",
       "    </tr>\n",
       "    <tr>\n",
       "      <th>4</th>\n",
       "      <td>T5</td>\n",
       "      <td>C9031234</td>\n",
       "      <td>24/3/88</td>\n",
       "      <td>F</td>\n",
       "      <td>6714.43</td>\n",
       "      <td>2/8/16</td>\n",
       "      <td>1762.5</td>\n",
       "    </tr>\n",
       "    <tr>\n",
       "      <th>...</th>\n",
       "      <td>...</td>\n",
       "      <td>...</td>\n",
       "      <td>...</td>\n",
       "      <td>...</td>\n",
       "      <td>...</td>\n",
       "      <td>...</td>\n",
       "      <td>...</td>\n",
       "    </tr>\n",
       "    <tr>\n",
       "      <th>1048562</th>\n",
       "      <td>T1048563</td>\n",
       "      <td>C8020229</td>\n",
       "      <td>8/4/90</td>\n",
       "      <td>M</td>\n",
       "      <td>7635.19</td>\n",
       "      <td>18/9/16</td>\n",
       "      <td>799.0</td>\n",
       "    </tr>\n",
       "    <tr>\n",
       "      <th>1048563</th>\n",
       "      <td>T1048564</td>\n",
       "      <td>C6459278</td>\n",
       "      <td>20/2/92</td>\n",
       "      <td>M</td>\n",
       "      <td>27311.42</td>\n",
       "      <td>18/9/16</td>\n",
       "      <td>460.0</td>\n",
       "    </tr>\n",
       "    <tr>\n",
       "      <th>1048564</th>\n",
       "      <td>T1048565</td>\n",
       "      <td>C6412354</td>\n",
       "      <td>18/5/89</td>\n",
       "      <td>M</td>\n",
       "      <td>221757.06</td>\n",
       "      <td>18/9/16</td>\n",
       "      <td>770.0</td>\n",
       "    </tr>\n",
       "    <tr>\n",
       "      <th>1048565</th>\n",
       "      <td>T1048566</td>\n",
       "      <td>C6420483</td>\n",
       "      <td>30/8/78</td>\n",
       "      <td>M</td>\n",
       "      <td>10117.87</td>\n",
       "      <td>18/9/16</td>\n",
       "      <td>1000.0</td>\n",
       "    </tr>\n",
       "    <tr>\n",
       "      <th>1048566</th>\n",
       "      <td>T1048567</td>\n",
       "      <td>C8337524</td>\n",
       "      <td>5/3/84</td>\n",
       "      <td>M</td>\n",
       "      <td>75734.42</td>\n",
       "      <td>18/9/16</td>\n",
       "      <td>1166.0</td>\n",
       "    </tr>\n",
       "  </tbody>\n",
       "</table>\n",
       "<p>1048567 rows × 7 columns</p>\n",
       "</div>"
      ],
      "text/plain": [
       "        TransactionID CustomerID CustomerDOB CustGender  CustAccountBalance  \\\n",
       "0                  T1   C5841053     10/1/94          F            17819.05   \n",
       "1                  T2   C2142763      4/4/57          M             2270.69   \n",
       "2                  T3   C4417068    26/11/96          F            17874.44   \n",
       "3                  T4   C5342380     14/9/73          F           866503.21   \n",
       "4                  T5   C9031234     24/3/88          F             6714.43   \n",
       "...               ...        ...         ...        ...                 ...   \n",
       "1048562      T1048563   C8020229      8/4/90          M             7635.19   \n",
       "1048563      T1048564   C6459278     20/2/92          M            27311.42   \n",
       "1048564      T1048565   C6412354     18/5/89          M           221757.06   \n",
       "1048565      T1048566   C6420483     30/8/78          M            10117.87   \n",
       "1048566      T1048567   C8337524      5/3/84          M            75734.42   \n",
       "\n",
       "        TransactionDate  TransactionAmount (INR)  \n",
       "0                2/8/16                     25.0  \n",
       "1                2/8/16                  27999.0  \n",
       "2                2/8/16                    459.0  \n",
       "3                2/8/16                   2060.0  \n",
       "4                2/8/16                   1762.5  \n",
       "...                 ...                      ...  \n",
       "1048562         18/9/16                    799.0  \n",
       "1048563         18/9/16                    460.0  \n",
       "1048564         18/9/16                    770.0  \n",
       "1048565         18/9/16                   1000.0  \n",
       "1048566         18/9/16                   1166.0  \n",
       "\n",
       "[1048567 rows x 7 columns]"
      ]
     },
     "execution_count": 3,
     "metadata": {},
     "output_type": "execute_result"
    }
   ],
   "source": [
    "df.copy()"
   ]
  },
  {
   "cell_type": "markdown",
   "id": "96f94b29",
   "metadata": {},
   "source": [
    "The dataset is composed by 1048567 transactions and 7 features referred to: TransactionID, CustomerID\tCustomerDOB, CustGender, CustAccountBalance, TransactionDate, TransactionAmount (INR). Let's have a look into the missing values:"
   ]
  },
  {
   "cell_type": "code",
   "execution_count": 4,
   "id": "7d7b83fe",
   "metadata": {},
   "outputs": [
    {
     "data": {
      "text/plain": [
       "TransactionID                 0\n",
       "CustomerID                    0\n",
       "CustomerDOB                3397\n",
       "CustGender                 1100\n",
       "CustAccountBalance         2369\n",
       "TransactionDate               0\n",
       "TransactionAmount (INR)       0\n",
       "dtype: int64"
      ]
     },
     "execution_count": 4,
     "metadata": {},
     "output_type": "execute_result"
    }
   ],
   "source": [
    "df.isna().sum()"
   ]
  },
  {
   "cell_type": "markdown",
   "id": "22bcb4c8",
   "metadata": {},
   "source": [
    "Given that the dataset is composed by 1048567 rows the missing values are a small percentage, so we decide to drop them: "
   ]
  },
  {
   "cell_type": "code",
   "execution_count": 5,
   "id": "8395d010",
   "metadata": {},
   "outputs": [],
   "source": [
    "df = df.dropna()"
   ]
  },
  {
   "cell_type": "code",
   "execution_count": 6,
   "id": "3fe9aa5a",
   "metadata": {},
   "outputs": [
    {
     "name": "stdout",
     "output_type": "stream",
     "text": [
      "<class 'pandas.core.frame.DataFrame'>\n",
      "Int64Index: 1041765 entries, 0 to 1048566\n",
      "Data columns (total 7 columns):\n",
      " #   Column                   Non-Null Count    Dtype  \n",
      "---  ------                   --------------    -----  \n",
      " 0   TransactionID            1041765 non-null  object \n",
      " 1   CustomerID               1041765 non-null  object \n",
      " 2   CustomerDOB              1041765 non-null  object \n",
      " 3   CustGender               1041765 non-null  object \n",
      " 4   CustAccountBalance       1041765 non-null  float64\n",
      " 5   TransactionDate          1041765 non-null  object \n",
      " 6   TransactionAmount (INR)  1041765 non-null  float64\n",
      "dtypes: float64(2), object(5)\n",
      "memory usage: 63.6+ MB\n"
     ]
    }
   ],
   "source": [
    "df.info()"
   ]
  },
  {
   "cell_type": "markdown",
   "id": "baba0682",
   "metadata": {},
   "source": [
    "# 1.1.1 Cust Gender\n",
    "\n",
    "We started exploring the Gender of the customers:"
   ]
  },
  {
   "cell_type": "code",
   "execution_count": 7,
   "id": "30e8f4be",
   "metadata": {},
   "outputs": [
    {
     "data": {
      "text/plain": [
       "str"
      ]
     },
     "execution_count": 7,
     "metadata": {},
     "output_type": "execute_result"
    }
   ],
   "source": [
    "type(df['CustGender'][0])"
   ]
  },
  {
   "cell_type": "code",
   "execution_count": 8,
   "id": "bec0ece0",
   "metadata": {},
   "outputs": [
    {
     "data": {
      "text/plain": [
       "M    761098\n",
       "F    280666\n",
       "T         1\n",
       "Name: CustGender, dtype: int64"
      ]
     },
     "execution_count": 8,
     "metadata": {},
     "output_type": "execute_result"
    }
   ],
   "source": [
    "df['CustGender'].value_counts()"
   ]
  },
  {
   "cell_type": "code",
   "execution_count": 9,
   "id": "3b0fa2e6",
   "metadata": {},
   "outputs": [
    {
     "data": {
      "image/png": "[encoded data removed]",
      "text/plain": [
       "<Figure size 432x288 with 1 Axes>"
      ]
     },
     "metadata": {},
     "output_type": "display_data"
    }
   ],
   "source": [
    "df['CustGender'].value_counts().plot(kind='pie', autopct='%.2f')\n",
    "\n",
    "plt.legend()\n",
    " \n",
    "plt.show()"
   ]
  },
  {
   "cell_type": "markdown",
   "id": "0ce61399",
   "metadata": {},
   "source": [
    "We noticed that there is a 'T' classified gender in the dataset: "
   ]
  },
  {
   "cell_type": "code",
   "execution_count": 9,
   "id": "d31b39f1",
   "metadata": {},
   "outputs": [
    {
     "data": {
      "text/html": [
       "<div>\n",
       "<style scoped>\n",
       "    .dataframe tbody tr th:only-of-type {\n",
       "        vertical-align: middle;\n",
       "    }\n",
       "\n",
       "    .dataframe tbody tr th {\n",
       "        vertical-align: top;\n",
       "    }\n",
       "\n",
       "    .dataframe thead th {\n",
       "        text-align: right;\n",
       "    }\n",
       "</style>\n",
       "<table border=\"1\" class=\"dataframe\">\n",
       "  <thead>\n",
       "    <tr style=\"text-align: right;\">\n",
       "      <th></th>\n",
       "      <th>TransactionID</th>\n",
       "      <th>CustomerID</th>\n",
       "      <th>CustomerDOB</th>\n",
       "      <th>CustGender</th>\n",
       "      <th>CustAccountBalance</th>\n",
       "      <th>TransactionDate</th>\n",
       "      <th>TransactionAmount (INR)</th>\n",
       "    </tr>\n",
       "  </thead>\n",
       "  <tbody>\n",
       "    <tr>\n",
       "      <th>959987</th>\n",
       "      <td>T959988</td>\n",
       "      <td>C3380368</td>\n",
       "      <td>1/1/1800</td>\n",
       "      <td>T</td>\n",
       "      <td>50050.0</td>\n",
       "      <td>10/9/16</td>\n",
       "      <td>32500.0</td>\n",
       "    </tr>\n",
       "  </tbody>\n",
       "</table>\n",
       "</div>"
      ],
      "text/plain": [
       "       TransactionID CustomerID CustomerDOB CustGender  CustAccountBalance  \\\n",
       "959987       T959988   C3380368    1/1/1800          T             50050.0   \n",
       "\n",
       "       TransactionDate  TransactionAmount (INR)  \n",
       "959987         10/9/16                  32500.0  "
      ]
     },
     "execution_count": 9,
     "metadata": {},
     "output_type": "execute_result"
    }
   ],
   "source": [
    "df[df[\"CustGender\"] == 'T'] "
   ]
  },
  {
   "cell_type": "code",
   "execution_count": 10,
   "id": "f5d64832",
   "metadata": {},
   "outputs": [
    {
     "data": {
      "text/html": [
       "<div>\n",
       "<style scoped>\n",
       "    .dataframe tbody tr th:only-of-type {\n",
       "        vertical-align: middle;\n",
       "    }\n",
       "\n",
       "    .dataframe tbody tr th {\n",
       "        vertical-align: top;\n",
       "    }\n",
       "\n",
       "    .dataframe thead th {\n",
       "        text-align: right;\n",
       "    }\n",
       "</style>\n",
       "<table border=\"1\" class=\"dataframe\">\n",
       "  <thead>\n",
       "    <tr style=\"text-align: right;\">\n",
       "      <th></th>\n",
       "      <th>TransactionID</th>\n",
       "      <th>CustomerID</th>\n",
       "      <th>CustomerDOB</th>\n",
       "      <th>CustGender</th>\n",
       "      <th>CustAccountBalance</th>\n",
       "      <th>TransactionDate</th>\n",
       "      <th>TransactionAmount (INR)</th>\n",
       "    </tr>\n",
       "  </thead>\n",
       "  <tbody>\n",
       "    <tr>\n",
       "      <th>959987</th>\n",
       "      <td>T959988</td>\n",
       "      <td>C3380368</td>\n",
       "      <td>1/1/1800</td>\n",
       "      <td>T</td>\n",
       "      <td>50050.0</td>\n",
       "      <td>10/9/16</td>\n",
       "      <td>32500.0</td>\n",
       "    </tr>\n",
       "  </tbody>\n",
       "</table>\n",
       "</div>"
      ],
      "text/plain": [
       "       TransactionID CustomerID CustomerDOB CustGender  CustAccountBalance  \\\n",
       "959987       T959988   C3380368    1/1/1800          T             50050.0   \n",
       "\n",
       "       TransactionDate  TransactionAmount (INR)  \n",
       "959987         10/9/16                  32500.0  "
      ]
     },
     "execution_count": 10,
     "metadata": {},
     "output_type": "execute_result"
    }
   ],
   "source": [
    "df[df['CustomerID'] == 'C3380368'] "
   ]
  },
  {
   "cell_type": "markdown",
   "id": "025bbbda",
   "metadata": {},
   "source": [
    "Given that we have 1041614 transaction and there is only one transaction referred to this Customer ID we decided to drop it: "
   ]
  },
  {
   "cell_type": "code",
   "execution_count": 11,
   "id": "9df25a3c",
   "metadata": {},
   "outputs": [],
   "source": [
    "df.drop(df[df.CustGender == 'T'].index, axis=0, inplace=True)"
   ]
  },
  {
   "cell_type": "markdown",
   "id": "0a2c2c67",
   "metadata": {},
   "source": [
    "Then we decided to rearrange CustGender column with 0/1 values (female/male):"
   ]
  },
  {
   "cell_type": "code",
   "execution_count": 12,
   "id": "3dd7b87a",
   "metadata": {},
   "outputs": [],
   "source": [
    "df['CustGender'] = df.CustGender.apply(lambda x: 1 if x == 'M' else 0)"
   ]
  },
  {
   "cell_type": "code",
   "execution_count": 13,
   "id": "6d520756",
   "metadata": {},
   "outputs": [
    {
     "data": {
      "text/html": [
       "<div>\n",
       "<style scoped>\n",
       "    .dataframe tbody tr th:only-of-type {\n",
       "        vertical-align: middle;\n",
       "    }\n",
       "\n",
       "    .dataframe tbody tr th {\n",
       "        vertical-align: top;\n",
       "    }\n",
       "\n",
       "    .dataframe thead th {\n",
       "        text-align: right;\n",
       "    }\n",
       "</style>\n",
       "<table border=\"1\" class=\"dataframe\">\n",
       "  <thead>\n",
       "    <tr style=\"text-align: right;\">\n",
       "      <th></th>\n",
       "      <th>TransactionID</th>\n",
       "      <th>CustomerID</th>\n",
       "      <th>CustomerDOB</th>\n",
       "      <th>CustGender</th>\n",
       "      <th>CustAccountBalance</th>\n",
       "      <th>TransactionDate</th>\n",
       "      <th>TransactionAmount (INR)</th>\n",
       "    </tr>\n",
       "  </thead>\n",
       "  <tbody>\n",
       "    <tr>\n",
       "      <th>0</th>\n",
       "      <td>T1</td>\n",
       "      <td>C5841053</td>\n",
       "      <td>10/1/94</td>\n",
       "      <td>0</td>\n",
       "      <td>17819.05</td>\n",
       "      <td>2/8/16</td>\n",
       "      <td>25.0</td>\n",
       "    </tr>\n",
       "    <tr>\n",
       "      <th>1</th>\n",
       "      <td>T2</td>\n",
       "      <td>C2142763</td>\n",
       "      <td>4/4/57</td>\n",
       "      <td>1</td>\n",
       "      <td>2270.69</td>\n",
       "      <td>2/8/16</td>\n",
       "      <td>27999.0</td>\n",
       "    </tr>\n",
       "    <tr>\n",
       "      <th>2</th>\n",
       "      <td>T3</td>\n",
       "      <td>C4417068</td>\n",
       "      <td>26/11/96</td>\n",
       "      <td>0</td>\n",
       "      <td>17874.44</td>\n",
       "      <td>2/8/16</td>\n",
       "      <td>459.0</td>\n",
       "    </tr>\n",
       "    <tr>\n",
       "      <th>3</th>\n",
       "      <td>T4</td>\n",
       "      <td>C5342380</td>\n",
       "      <td>14/9/73</td>\n",
       "      <td>0</td>\n",
       "      <td>866503.21</td>\n",
       "      <td>2/8/16</td>\n",
       "      <td>2060.0</td>\n",
       "    </tr>\n",
       "    <tr>\n",
       "      <th>4</th>\n",
       "      <td>T5</td>\n",
       "      <td>C9031234</td>\n",
       "      <td>24/3/88</td>\n",
       "      <td>0</td>\n",
       "      <td>6714.43</td>\n",
       "      <td>2/8/16</td>\n",
       "      <td>1762.5</td>\n",
       "    </tr>\n",
       "  </tbody>\n",
       "</table>\n",
       "</div>"
      ],
      "text/plain": [
       "  TransactionID CustomerID CustomerDOB  CustGender  CustAccountBalance  \\\n",
       "0            T1   C5841053     10/1/94           0            17819.05   \n",
       "1            T2   C2142763      4/4/57           1             2270.69   \n",
       "2            T3   C4417068    26/11/96           0            17874.44   \n",
       "3            T4   C5342380     14/9/73           0           866503.21   \n",
       "4            T5   C9031234     24/3/88           0             6714.43   \n",
       "\n",
       "  TransactionDate  TransactionAmount (INR)  \n",
       "0          2/8/16                     25.0  \n",
       "1          2/8/16                  27999.0  \n",
       "2          2/8/16                    459.0  \n",
       "3          2/8/16                   2060.0  \n",
       "4          2/8/16                   1762.5  "
      ]
     },
     "execution_count": 13,
     "metadata": {},
     "output_type": "execute_result"
    }
   ],
   "source": [
    "df.head()"
   ]
  },
  {
   "cell_type": "markdown",
   "id": "9bf5830f",
   "metadata": {},
   "source": [
    "# 1.1.2 Age\n",
    "\n",
    "We decided to convert into datetime the date of birthday of the customers and the date of the transaction:"
   ]
  },
  {
   "cell_type": "code",
   "execution_count": 14,
   "id": "47d3d1fe",
   "metadata": {},
   "outputs": [
    {
     "name": "stdout",
     "output_type": "stream",
     "text": [
      "<class 'str'> <class 'str'>\n"
     ]
    }
   ],
   "source": [
    "print(type(df['CustomerDOB'][0]), type(df['TransactionDate'][0]))"
   ]
  },
  {
   "cell_type": "code",
   "execution_count": 15,
   "id": "298267f9",
   "metadata": {},
   "outputs": [],
   "source": [
    "df['CustomerDOB'] = pd.to_datetime(df['CustomerDOB'])\n",
    "\n",
    "df['TransactionDate'] = pd.to_datetime(df['TransactionDate']) "
   ]
  },
  {
   "cell_type": "code",
   "execution_count": 16,
   "id": "2bc14974",
   "metadata": {},
   "outputs": [
    {
     "data": {
      "text/html": [
       "<div>\n",
       "<style scoped>\n",
       "    .dataframe tbody tr th:only-of-type {\n",
       "        vertical-align: middle;\n",
       "    }\n",
       "\n",
       "    .dataframe tbody tr th {\n",
       "        vertical-align: top;\n",
       "    }\n",
       "\n",
       "    .dataframe thead th {\n",
       "        text-align: right;\n",
       "    }\n",
       "</style>\n",
       "<table border=\"1\" class=\"dataframe\">\n",
       "  <thead>\n",
       "    <tr style=\"text-align: right;\">\n",
       "      <th></th>\n",
       "      <th>TransactionID</th>\n",
       "      <th>CustomerID</th>\n",
       "      <th>CustomerDOB</th>\n",
       "      <th>CustGender</th>\n",
       "      <th>CustAccountBalance</th>\n",
       "      <th>TransactionDate</th>\n",
       "      <th>TransactionAmount (INR)</th>\n",
       "    </tr>\n",
       "  </thead>\n",
       "  <tbody>\n",
       "    <tr>\n",
       "      <th>0</th>\n",
       "      <td>T1</td>\n",
       "      <td>C5841053</td>\n",
       "      <td>1994-10-01</td>\n",
       "      <td>0</td>\n",
       "      <td>17819.05</td>\n",
       "      <td>2016-02-08</td>\n",
       "      <td>25.0</td>\n",
       "    </tr>\n",
       "  </tbody>\n",
       "</table>\n",
       "</div>"
      ],
      "text/plain": [
       "  TransactionID CustomerID CustomerDOB  CustGender  CustAccountBalance  \\\n",
       "0            T1   C5841053  1994-10-01           0            17819.05   \n",
       "\n",
       "  TransactionDate  TransactionAmount (INR)  \n",
       "0      2016-02-08                     25.0  "
      ]
     },
     "execution_count": 16,
     "metadata": {},
     "output_type": "execute_result"
    }
   ],
   "source": [
    "df.head(1)"
   ]
  },
  {
   "cell_type": "code",
   "execution_count": 17,
   "id": "79f4b7dd",
   "metadata": {},
   "outputs": [
    {
     "data": {
      "text/plain": [
       "2016    1041764\n",
       "Name: TransactionDate, dtype: int64"
      ]
     },
     "execution_count": 17,
     "metadata": {},
     "output_type": "execute_result"
    }
   ],
   "source": [
    "df['TransactionDate'].dt.year.value_counts()"
   ]
  },
  {
   "cell_type": "code",
   "execution_count": 18,
   "id": "6d168e76",
   "metadata": {},
   "outputs": [
    {
     "data": {
      "text/plain": [
       "8     427368\n",
       "9     157939\n",
       "10     50742\n",
       "7      48092\n",
       "11     47036\n",
       "4      46963\n",
       "3      46755\n",
       "6      45935\n",
       "2      43510\n",
       "12     42892\n",
       "1      42460\n",
       "5      42072\n",
       "Name: TransactionDate, dtype: int64"
      ]
     },
     "execution_count": 18,
     "metadata": {},
     "output_type": "execute_result"
    }
   ],
   "source": [
    "df['TransactionDate'].dt.month.value_counts()"
   ]
  },
  {
   "cell_type": "markdown",
   "id": "f73267bb",
   "metadata": {},
   "source": [
    "All the data were taken in 2016, so we'll use this year to calculate the ages.\n",
    "Going through the Date of Birthday we can see that there is something strange: there are dates of birthday referred to 1800, probably cause it is a default value when this data is missing, and a right tail that seems to be a part of the main figure with an offset: "
   ]
  },
  {
   "cell_type": "code",
   "execution_count": 19,
   "id": "01d3004c",
   "metadata": {},
   "outputs": [
    {
     "data": {
      "image/png": "[encoded data removed]",
      "text/plain": [
       "<Figure size 432x288 with 1 Axes>"
      ]
     },
     "metadata": {
      "needs_background": "light"
     },
     "output_type": "display_data"
    }
   ],
   "source": [
    "count = Counter(df['CustomerDOB'].dt.year)\n",
    "\n",
    "plt.bar(count.keys(), count.values())\n",
    "\n",
    "plt.xlabel('Year of birth')\n",
    "\n",
    "plt.ylabel('Frequency')\n",
    " \n",
    "plt.show()"
   ]
  },
  {
   "cell_type": "code",
   "execution_count": 20,
   "id": "e9ace8f2",
   "metadata": {},
   "outputs": [
    {
     "data": {
      "text/plain": [
       "1800-01-01    56291\n",
       "Name: CustomerDOB, dtype: int64"
      ]
     },
     "execution_count": 20,
     "metadata": {},
     "output_type": "execute_result"
    }
   ],
   "source": [
    "df.loc[df['CustomerDOB'].dt.year == 1800]['CustomerDOB'].value_counts()"
   ]
  },
  {
   "cell_type": "markdown",
   "id": "b364ede9",
   "metadata": {},
   "source": [
    "We decided to replace DOB referred to year 1800 with 0 values and rearrange the data after year 2000 adjusting the offset. The NaN values will not be a problem cause they will have only zero in the 'bolean' matrix referred to the ages. "
   ]
  },
  {
   "cell_type": "code",
   "execution_count": 21,
   "id": "a2284d9e",
   "metadata": {},
   "outputs": [
    {
     "data": {
      "image/png": "[encoded data removed]",
      "text/plain": [
       "<Figure size 432x288 with 1 Axes>"
      ]
     },
     "metadata": {
      "needs_background": "light"
     },
     "output_type": "display_data"
    }
   ],
   "source": [
    "df.loc[df.CustomerDOB.dt.year > 2000, 'CustomerDOB'] = df.loc[df.CustomerDOB.dt.year > 2000, 'CustomerDOB'] - pd.DateOffset(years = 100)\n",
    "\n",
    "count = Counter(df['CustomerDOB'].dt.year)\n",
    "\n",
    "plt.bar(count.keys(), count.values())\n",
    "\n",
    "plt.xlabel('Year of birth')\n",
    "\n",
    "plt.ylabel('Frequency')\n",
    " \n",
    "plt.show()"
   ]
  },
  {
   "cell_type": "markdown",
   "id": "c27a2ef5",
   "metadata": {},
   "source": [
    "We created a 'CustomerAge' column filling it with 0 values:"
   ]
  },
  {
   "cell_type": "code",
   "execution_count": 22,
   "id": "765cf6cf",
   "metadata": {},
   "outputs": [],
   "source": [
    "df['CustomerAge'] = 0"
   ]
  },
  {
   "cell_type": "markdown",
   "id": "933794bf",
   "metadata": {},
   "source": [
    "Then we substitute ages that have YOB different from 1800:"
   ]
  },
  {
   "cell_type": "code",
   "execution_count": 23,
   "id": "28032e96",
   "metadata": {},
   "outputs": [],
   "source": [
    "df.loc[df['CustomerDOB'].dt.year != 1800, 'CustomerAge'] = df.loc[df['CustomerDOB'].dt.year != 1800, 'TransactionDate'].dt.year - df.loc[df['CustomerDOB'].dt.year != 1800, 'CustomerDOB'].dt.year "
   ]
  },
  {
   "cell_type": "code",
   "execution_count": 24,
   "id": "e7b7501c",
   "metadata": {},
   "outputs": [],
   "source": [
    "df['CustomerAge'] = df['CustomerAge'].astype(int)"
   ]
  },
  {
   "cell_type": "code",
   "execution_count": 25,
   "id": "e25d17e8",
   "metadata": {},
   "outputs": [],
   "source": [
    "del df['TransactionDate']"
   ]
  },
  {
   "cell_type": "code",
   "execution_count": 26,
   "id": "32578a70",
   "metadata": {},
   "outputs": [
    {
     "data": {
      "image/png": "[encoded data removed]",
      "text/plain": [
       "<Figure size 432x288 with 1 Axes>"
      ]
     },
     "metadata": {
      "needs_background": "light"
     },
     "output_type": "display_data"
    }
   ],
   "source": [
    "count = Counter(df['CustomerAge'])\n",
    "\n",
    "plt.bar(count.keys(), count.values())\n",
    "\n",
    "plt.xlabel('Ages')\n",
    "\n",
    "plt.ylabel('Frequency')\n",
    "\n",
    "plt.show()"
   ]
  },
  {
   "cell_type": "markdown",
   "id": "fba97e2b",
   "metadata": {},
   "source": [
    "Exploring the ages at the edges we can see that: "
   ]
  },
  {
   "cell_type": "code",
   "execution_count": 27,
   "id": "56ac912c",
   "metadata": {},
   "outputs": [
    {
     "data": {
      "text/plain": [
       "16"
      ]
     },
     "execution_count": 27,
     "metadata": {},
     "output_type": "execute_result"
    }
   ],
   "source": [
    "df.loc[df['CustomerAge'] != 0]['CustomerAge'].min()"
   ]
  },
  {
   "cell_type": "code",
   "execution_count": 28,
   "id": "2b71a2d2",
   "metadata": {},
   "outputs": [
    {
     "data": {
      "text/plain": [
       "115"
      ]
     },
     "execution_count": 28,
     "metadata": {},
     "output_type": "execute_result"
    }
   ],
   "source": [
    "df['CustomerAge'].max()"
   ]
  },
  {
   "cell_type": "markdown",
   "id": "9c543c43",
   "metadata": {},
   "source": [
    "Considering that the oldest person ever in India was Lucy d'Abreu who lived 113 years and 197 days (ref: Wikipedia) it seems a good choice to drop all the ages over 100 years."
   ]
  },
  {
   "cell_type": "code",
   "execution_count": 29,
   "id": "37d04e2a",
   "metadata": {},
   "outputs": [],
   "source": [
    "df.drop(df[df.CustomerAge > 100].index, axis=0, inplace=True)"
   ]
  },
  {
   "cell_type": "code",
   "execution_count": 30,
   "id": "572be54e",
   "metadata": {},
   "outputs": [
    {
     "data": {
      "image/png": "[encoded data removed]",
      "text/plain": [
       "<Figure size 432x288 with 1 Axes>"
      ]
     },
     "metadata": {
      "needs_background": "light"
     },
     "output_type": "display_data"
    }
   ],
   "source": [
    "count = Counter(df['CustomerAge'])\n",
    "\n",
    "count.pop(0, None)\n",
    "\n",
    "plt.bar(count.keys(), count.values())\n",
    "\n",
    "plt.xlabel('Ages')\n",
    "\n",
    "plt.ylabel('Frequency')\n",
    "\n",
    "plt.show()"
   ]
  },
  {
   "cell_type": "markdown",
   "id": "2feb5365",
   "metadata": {},
   "source": [
    "In order to implement a Minhash function we decide to divide the CustomAge data in class of ages. Similar ages should led to similar interest. For this reason, looking at the distribution of ages and using our intuition, it seems to be a good choice to divide in: \n",
    "\n",
    " - Age_1 --> 16 $\\leq$ Age $\\leq$ 25\n",
    " \n",
    " - Age_2 --> 26 $\\leq$ Age $\\leq$ 35\n",
    " \n",
    " - Age_3 --> 36 $\\leq$ Age $\\leq$ 45\n",
    " \n",
    " - Age_4 --> 46 $\\leq$ Age $\\leq$ 65\n",
    " \n",
    " - Age_5 --> 66 $\\leq$ Age $\\leq$ 85\n",
    " \n",
    " - Age_5 --> 86 $\\leq$ Age $\\leq$ 100"
   ]
  },
  {
   "cell_type": "code",
   "execution_count": 31,
   "id": "1e0ba1d2",
   "metadata": {},
   "outputs": [],
   "source": [
    "bins = np.array([16, 26, 36, 46, 66, 85, 101])\n",
    "\n",
    "def age(age):\n",
    "    \n",
    "    class_age = np.digitize(age, bins, right=False)  #return the number of the bin\n",
    "    \n",
    "    age = 'age_' + str(class_age)\n",
    "        \n",
    "    return age"
   ]
  },
  {
   "cell_type": "code",
   "execution_count": 32,
   "id": "74f78b09",
   "metadata": {},
   "outputs": [],
   "source": [
    "df['CustomerClassAge'] = df.CustomerAge.apply(lambda x: age(x))"
   ]
  },
  {
   "cell_type": "code",
   "execution_count": 33,
   "id": "e36a6408",
   "metadata": {},
   "outputs": [
    {
     "data": {
      "text/html": [
       "<div>\n",
       "<style scoped>\n",
       "    .dataframe tbody tr th:only-of-type {\n",
       "        vertical-align: middle;\n",
       "    }\n",
       "\n",
       "    .dataframe tbody tr th {\n",
       "        vertical-align: top;\n",
       "    }\n",
       "\n",
       "    .dataframe thead th {\n",
       "        text-align: right;\n",
       "    }\n",
       "</style>\n",
       "<table border=\"1\" class=\"dataframe\">\n",
       "  <thead>\n",
       "    <tr style=\"text-align: right;\">\n",
       "      <th></th>\n",
       "      <th>TransactionID</th>\n",
       "      <th>CustomerID</th>\n",
       "      <th>CustomerDOB</th>\n",
       "      <th>CustGender</th>\n",
       "      <th>CustAccountBalance</th>\n",
       "      <th>TransactionAmount (INR)</th>\n",
       "      <th>CustomerAge</th>\n",
       "      <th>CustomerClassAge</th>\n",
       "    </tr>\n",
       "  </thead>\n",
       "  <tbody>\n",
       "    <tr>\n",
       "      <th>0</th>\n",
       "      <td>T1</td>\n",
       "      <td>C5841053</td>\n",
       "      <td>1994-10-01</td>\n",
       "      <td>0</td>\n",
       "      <td>17819.05</td>\n",
       "      <td>25.0</td>\n",
       "      <td>22</td>\n",
       "      <td>age_1</td>\n",
       "    </tr>\n",
       "    <tr>\n",
       "      <th>1</th>\n",
       "      <td>T2</td>\n",
       "      <td>C2142763</td>\n",
       "      <td>1957-04-04</td>\n",
       "      <td>1</td>\n",
       "      <td>2270.69</td>\n",
       "      <td>27999.0</td>\n",
       "      <td>59</td>\n",
       "      <td>age_4</td>\n",
       "    </tr>\n",
       "    <tr>\n",
       "      <th>2</th>\n",
       "      <td>T3</td>\n",
       "      <td>C4417068</td>\n",
       "      <td>1996-11-26</td>\n",
       "      <td>0</td>\n",
       "      <td>17874.44</td>\n",
       "      <td>459.0</td>\n",
       "      <td>20</td>\n",
       "      <td>age_1</td>\n",
       "    </tr>\n",
       "    <tr>\n",
       "      <th>3</th>\n",
       "      <td>T4</td>\n",
       "      <td>C5342380</td>\n",
       "      <td>1973-09-14</td>\n",
       "      <td>0</td>\n",
       "      <td>866503.21</td>\n",
       "      <td>2060.0</td>\n",
       "      <td>43</td>\n",
       "      <td>age_3</td>\n",
       "    </tr>\n",
       "    <tr>\n",
       "      <th>4</th>\n",
       "      <td>T5</td>\n",
       "      <td>C9031234</td>\n",
       "      <td>1988-03-24</td>\n",
       "      <td>0</td>\n",
       "      <td>6714.43</td>\n",
       "      <td>1762.5</td>\n",
       "      <td>28</td>\n",
       "      <td>age_2</td>\n",
       "    </tr>\n",
       "    <tr>\n",
       "      <th>...</th>\n",
       "      <td>...</td>\n",
       "      <td>...</td>\n",
       "      <td>...</td>\n",
       "      <td>...</td>\n",
       "      <td>...</td>\n",
       "      <td>...</td>\n",
       "      <td>...</td>\n",
       "      <td>...</td>\n",
       "    </tr>\n",
       "    <tr>\n",
       "      <th>1048562</th>\n",
       "      <td>T1048563</td>\n",
       "      <td>C8020229</td>\n",
       "      <td>1990-08-04</td>\n",
       "      <td>1</td>\n",
       "      <td>7635.19</td>\n",
       "      <td>799.0</td>\n",
       "      <td>26</td>\n",
       "      <td>age_2</td>\n",
       "    </tr>\n",
       "    <tr>\n",
       "      <th>1048563</th>\n",
       "      <td>T1048564</td>\n",
       "      <td>C6459278</td>\n",
       "      <td>1992-02-20</td>\n",
       "      <td>1</td>\n",
       "      <td>27311.42</td>\n",
       "      <td>460.0</td>\n",
       "      <td>24</td>\n",
       "      <td>age_1</td>\n",
       "    </tr>\n",
       "    <tr>\n",
       "      <th>1048564</th>\n",
       "      <td>T1048565</td>\n",
       "      <td>C6412354</td>\n",
       "      <td>1989-05-18</td>\n",
       "      <td>1</td>\n",
       "      <td>221757.06</td>\n",
       "      <td>770.0</td>\n",
       "      <td>27</td>\n",
       "      <td>age_2</td>\n",
       "    </tr>\n",
       "    <tr>\n",
       "      <th>1048565</th>\n",
       "      <td>T1048566</td>\n",
       "      <td>C6420483</td>\n",
       "      <td>1978-08-30</td>\n",
       "      <td>1</td>\n",
       "      <td>10117.87</td>\n",
       "      <td>1000.0</td>\n",
       "      <td>38</td>\n",
       "      <td>age_3</td>\n",
       "    </tr>\n",
       "    <tr>\n",
       "      <th>1048566</th>\n",
       "      <td>T1048567</td>\n",
       "      <td>C8337524</td>\n",
       "      <td>1984-05-03</td>\n",
       "      <td>1</td>\n",
       "      <td>75734.42</td>\n",
       "      <td>1166.0</td>\n",
       "      <td>32</td>\n",
       "      <td>age_2</td>\n",
       "    </tr>\n",
       "  </tbody>\n",
       "</table>\n",
       "<p>1041144 rows × 8 columns</p>\n",
       "</div>"
      ],
      "text/plain": [
       "        TransactionID CustomerID CustomerDOB  CustGender  CustAccountBalance  \\\n",
       "0                  T1   C5841053  1994-10-01           0            17819.05   \n",
       "1                  T2   C2142763  1957-04-04           1             2270.69   \n",
       "2                  T3   C4417068  1996-11-26           0            17874.44   \n",
       "3                  T4   C5342380  1973-09-14           0           866503.21   \n",
       "4                  T5   C9031234  1988-03-24           0             6714.43   \n",
       "...               ...        ...         ...         ...                 ...   \n",
       "1048562      T1048563   C8020229  1990-08-04           1             7635.19   \n",
       "1048563      T1048564   C6459278  1992-02-20           1            27311.42   \n",
       "1048564      T1048565   C6412354  1989-05-18           1           221757.06   \n",
       "1048565      T1048566   C6420483  1978-08-30           1            10117.87   \n",
       "1048566      T1048567   C8337524  1984-05-03           1            75734.42   \n",
       "\n",
       "         TransactionAmount (INR)  CustomerAge CustomerClassAge  \n",
       "0                           25.0           22            age_1  \n",
       "1                        27999.0           59            age_4  \n",
       "2                          459.0           20            age_1  \n",
       "3                         2060.0           43            age_3  \n",
       "4                         1762.5           28            age_2  \n",
       "...                          ...          ...              ...  \n",
       "1048562                    799.0           26            age_2  \n",
       "1048563                    460.0           24            age_1  \n",
       "1048564                    770.0           27            age_2  \n",
       "1048565                   1000.0           38            age_3  \n",
       "1048566                   1166.0           32            age_2  \n",
       "\n",
       "[1041144 rows x 8 columns]"
      ]
     },
     "execution_count": 33,
     "metadata": {},
     "output_type": "execute_result"
    }
   ],
   "source": [
    "df"
   ]
  },
  {
   "cell_type": "markdown",
   "id": "70df4f92",
   "metadata": {},
   "source": [
    "Customer with age 0 are classified as 'CustomerClassAge' 0: "
   ]
  },
  {
   "cell_type": "code",
   "execution_count": 34,
   "id": "4a86806f",
   "metadata": {},
   "outputs": [
    {
     "data": {
      "text/html": [
       "<div>\n",
       "<style scoped>\n",
       "    .dataframe tbody tr th:only-of-type {\n",
       "        vertical-align: middle;\n",
       "    }\n",
       "\n",
       "    .dataframe tbody tr th {\n",
       "        vertical-align: top;\n",
       "    }\n",
       "\n",
       "    .dataframe thead th {\n",
       "        text-align: right;\n",
       "    }\n",
       "</style>\n",
       "<table border=\"1\" class=\"dataframe\">\n",
       "  <thead>\n",
       "    <tr style=\"text-align: right;\">\n",
       "      <th></th>\n",
       "      <th>TransactionID</th>\n",
       "      <th>CustomerID</th>\n",
       "      <th>CustomerDOB</th>\n",
       "      <th>CustGender</th>\n",
       "      <th>CustAccountBalance</th>\n",
       "      <th>TransactionAmount (INR)</th>\n",
       "      <th>CustomerAge</th>\n",
       "      <th>CustomerClassAge</th>\n",
       "    </tr>\n",
       "  </thead>\n",
       "  <tbody>\n",
       "    <tr>\n",
       "      <th>16</th>\n",
       "      <td>T17</td>\n",
       "      <td>C1376215</td>\n",
       "      <td>1800-01-01</td>\n",
       "      <td>1</td>\n",
       "      <td>77495.15</td>\n",
       "      <td>1423.11</td>\n",
       "      <td>0</td>\n",
       "      <td>age_0</td>\n",
       "    </tr>\n",
       "    <tr>\n",
       "      <th>22</th>\n",
       "      <td>T23</td>\n",
       "      <td>C7018081</td>\n",
       "      <td>1800-01-01</td>\n",
       "      <td>1</td>\n",
       "      <td>143.07</td>\n",
       "      <td>110.00</td>\n",
       "      <td>0</td>\n",
       "      <td>age_0</td>\n",
       "    </tr>\n",
       "    <tr>\n",
       "      <th>28</th>\n",
       "      <td>T29</td>\n",
       "      <td>C7935438</td>\n",
       "      <td>1800-01-01</td>\n",
       "      <td>1</td>\n",
       "      <td>969436.12</td>\n",
       "      <td>36.90</td>\n",
       "      <td>0</td>\n",
       "      <td>age_0</td>\n",
       "    </tr>\n",
       "    <tr>\n",
       "      <th>35</th>\n",
       "      <td>T36</td>\n",
       "      <td>C1211387</td>\n",
       "      <td>1800-01-01</td>\n",
       "      <td>1</td>\n",
       "      <td>11791.25</td>\n",
       "      <td>1075.00</td>\n",
       "      <td>0</td>\n",
       "      <td>age_0</td>\n",
       "    </tr>\n",
       "    <tr>\n",
       "      <th>151</th>\n",
       "      <td>T152</td>\n",
       "      <td>C3334638</td>\n",
       "      <td>1800-01-01</td>\n",
       "      <td>1</td>\n",
       "      <td>700.00</td>\n",
       "      <td>1500.00</td>\n",
       "      <td>0</td>\n",
       "      <td>age_0</td>\n",
       "    </tr>\n",
       "    <tr>\n",
       "      <th>...</th>\n",
       "      <td>...</td>\n",
       "      <td>...</td>\n",
       "      <td>...</td>\n",
       "      <td>...</td>\n",
       "      <td>...</td>\n",
       "      <td>...</td>\n",
       "      <td>...</td>\n",
       "      <td>...</td>\n",
       "    </tr>\n",
       "    <tr>\n",
       "      <th>1048443</th>\n",
       "      <td>T1048444</td>\n",
       "      <td>C7261226</td>\n",
       "      <td>1800-01-01</td>\n",
       "      <td>1</td>\n",
       "      <td>1393.33</td>\n",
       "      <td>200.00</td>\n",
       "      <td>0</td>\n",
       "      <td>age_0</td>\n",
       "    </tr>\n",
       "    <tr>\n",
       "      <th>1048452</th>\n",
       "      <td>T1048453</td>\n",
       "      <td>C3813481</td>\n",
       "      <td>1800-01-01</td>\n",
       "      <td>1</td>\n",
       "      <td>984605.24</td>\n",
       "      <td>219.00</td>\n",
       "      <td>0</td>\n",
       "      <td>age_0</td>\n",
       "    </tr>\n",
       "    <tr>\n",
       "      <th>1048531</th>\n",
       "      <td>T1048532</td>\n",
       "      <td>C6937679</td>\n",
       "      <td>1800-01-01</td>\n",
       "      <td>1</td>\n",
       "      <td>50698.90</td>\n",
       "      <td>598.86</td>\n",
       "      <td>0</td>\n",
       "      <td>age_0</td>\n",
       "    </tr>\n",
       "    <tr>\n",
       "      <th>1048533</th>\n",
       "      <td>T1048534</td>\n",
       "      <td>C7431884</td>\n",
       "      <td>1800-01-01</td>\n",
       "      <td>1</td>\n",
       "      <td>53771.64</td>\n",
       "      <td>520.00</td>\n",
       "      <td>0</td>\n",
       "      <td>age_0</td>\n",
       "    </tr>\n",
       "    <tr>\n",
       "      <th>1048540</th>\n",
       "      <td>T1048541</td>\n",
       "      <td>C1528025</td>\n",
       "      <td>1800-01-01</td>\n",
       "      <td>1</td>\n",
       "      <td>230894.59</td>\n",
       "      <td>290.00</td>\n",
       "      <td>0</td>\n",
       "      <td>age_0</td>\n",
       "    </tr>\n",
       "  </tbody>\n",
       "</table>\n",
       "<p>56291 rows × 8 columns</p>\n",
       "</div>"
      ],
      "text/plain": [
       "        TransactionID CustomerID CustomerDOB  CustGender  CustAccountBalance  \\\n",
       "16                T17   C1376215  1800-01-01           1            77495.15   \n",
       "22                T23   C7018081  1800-01-01           1              143.07   \n",
       "28                T29   C7935438  1800-01-01           1           969436.12   \n",
       "35                T36   C1211387  1800-01-01           1            11791.25   \n",
       "151              T152   C3334638  1800-01-01           1              700.00   \n",
       "...               ...        ...         ...         ...                 ...   \n",
       "1048443      T1048444   C7261226  1800-01-01           1             1393.33   \n",
       "1048452      T1048453   C3813481  1800-01-01           1           984605.24   \n",
       "1048531      T1048532   C6937679  1800-01-01           1            50698.90   \n",
       "1048533      T1048534   C7431884  1800-01-01           1            53771.64   \n",
       "1048540      T1048541   C1528025  1800-01-01           1           230894.59   \n",
       "\n",
       "         TransactionAmount (INR)  CustomerAge CustomerClassAge  \n",
       "16                       1423.11            0            age_0  \n",
       "22                        110.00            0            age_0  \n",
       "28                         36.90            0            age_0  \n",
       "35                       1075.00            0            age_0  \n",
       "151                      1500.00            0            age_0  \n",
       "...                          ...          ...              ...  \n",
       "1048443                   200.00            0            age_0  \n",
       "1048452                   219.00            0            age_0  \n",
       "1048531                   598.86            0            age_0  \n",
       "1048533                   520.00            0            age_0  \n",
       "1048540                   290.00            0            age_0  \n",
       "\n",
       "[56291 rows x 8 columns]"
      ]
     },
     "execution_count": 34,
     "metadata": {},
     "output_type": "execute_result"
    }
   ],
   "source": [
    "df.loc[df['CustomerAge'] == 0]"
   ]
  },
  {
   "cell_type": "markdown",
   "id": "de9ae4af",
   "metadata": {},
   "source": [
    "Age_0 will not be insterted into shingles, such that the one hot vector referred to a missing value of age will have only zeros."
   ]
  },
  {
   "cell_type": "markdown",
   "id": "8f771871",
   "metadata": {},
   "source": [
    "# 1.1.3 Different people with the same CustomerID"
   ]
  },
  {
   "cell_type": "markdown",
   "id": "8f740968",
   "metadata": {},
   "source": [
    "We decided to check the data related to transactions referred to the same CustomerID:"
   ]
  },
  {
   "cell_type": "code",
   "execution_count": 35,
   "id": "ee675b9d",
   "metadata": {},
   "outputs": [
    {
     "data": {
      "text/html": [
       "<div>\n",
       "<style scoped>\n",
       "    .dataframe tbody tr th:only-of-type {\n",
       "        vertical-align: middle;\n",
       "    }\n",
       "\n",
       "    .dataframe tbody tr th {\n",
       "        vertical-align: top;\n",
       "    }\n",
       "\n",
       "    .dataframe thead th {\n",
       "        text-align: right;\n",
       "    }\n",
       "</style>\n",
       "<table border=\"1\" class=\"dataframe\">\n",
       "  <thead>\n",
       "    <tr style=\"text-align: right;\">\n",
       "      <th></th>\n",
       "      <th>TransactionID</th>\n",
       "      <th>CustomerID</th>\n",
       "      <th>CustomerDOB</th>\n",
       "      <th>CustGender</th>\n",
       "      <th>CustAccountBalance</th>\n",
       "      <th>TransactionAmount (INR)</th>\n",
       "      <th>CustomerAge</th>\n",
       "      <th>CustomerClassAge</th>\n",
       "    </tr>\n",
       "  </thead>\n",
       "  <tbody>\n",
       "    <tr>\n",
       "      <th>33670</th>\n",
       "      <td>T33671</td>\n",
       "      <td>C1010011</td>\n",
       "      <td>1992-08-19</td>\n",
       "      <td>0</td>\n",
       "      <td>32500.73</td>\n",
       "      <td>4750.00</td>\n",
       "      <td>24</td>\n",
       "      <td>age_1</td>\n",
       "    </tr>\n",
       "    <tr>\n",
       "      <th>173508</th>\n",
       "      <td>T173509</td>\n",
       "      <td>C1010011</td>\n",
       "      <td>1983-05-08</td>\n",
       "      <td>1</td>\n",
       "      <td>120180.54</td>\n",
       "      <td>356.00</td>\n",
       "      <td>33</td>\n",
       "      <td>age_2</td>\n",
       "    </tr>\n",
       "    <tr>\n",
       "      <th>251647</th>\n",
       "      <td>T251648</td>\n",
       "      <td>C1010014</td>\n",
       "      <td>1984-08-19</td>\n",
       "      <td>1</td>\n",
       "      <td>161848.76</td>\n",
       "      <td>250.00</td>\n",
       "      <td>32</td>\n",
       "      <td>age_2</td>\n",
       "    </tr>\n",
       "    <tr>\n",
       "      <th>89543</th>\n",
       "      <td>T89544</td>\n",
       "      <td>C1010014</td>\n",
       "      <td>1992-04-06</td>\n",
       "      <td>0</td>\n",
       "      <td>38377.14</td>\n",
       "      <td>1205.00</td>\n",
       "      <td>24</td>\n",
       "      <td>age_1</td>\n",
       "    </tr>\n",
       "    <tr>\n",
       "      <th>50880</th>\n",
       "      <td>T50881</td>\n",
       "      <td>C1010031</td>\n",
       "      <td>1984-07-21</td>\n",
       "      <td>1</td>\n",
       "      <td>1754.10</td>\n",
       "      <td>404.00</td>\n",
       "      <td>32</td>\n",
       "      <td>age_2</td>\n",
       "    </tr>\n",
       "    <tr>\n",
       "      <th>...</th>\n",
       "      <td>...</td>\n",
       "      <td>...</td>\n",
       "      <td>...</td>\n",
       "      <td>...</td>\n",
       "      <td>...</td>\n",
       "      <td>...</td>\n",
       "      <td>...</td>\n",
       "      <td>...</td>\n",
       "    </tr>\n",
       "    <tr>\n",
       "      <th>407803</th>\n",
       "      <td>T407804</td>\n",
       "      <td>C9094224</td>\n",
       "      <td>1980-06-24</td>\n",
       "      <td>0</td>\n",
       "      <td>10579.38</td>\n",
       "      <td>2458.00</td>\n",
       "      <td>36</td>\n",
       "      <td>age_3</td>\n",
       "    </tr>\n",
       "    <tr>\n",
       "      <th>673478</th>\n",
       "      <td>T673479</td>\n",
       "      <td>C9095886</td>\n",
       "      <td>1992-06-04</td>\n",
       "      <td>1</td>\n",
       "      <td>284.48</td>\n",
       "      <td>123.89</td>\n",
       "      <td>24</td>\n",
       "      <td>age_1</td>\n",
       "    </tr>\n",
       "    <tr>\n",
       "      <th>500536</th>\n",
       "      <td>T500537</td>\n",
       "      <td>C9095886</td>\n",
       "      <td>1991-06-19</td>\n",
       "      <td>0</td>\n",
       "      <td>27313.55</td>\n",
       "      <td>289.37</td>\n",
       "      <td>25</td>\n",
       "      <td>age_1</td>\n",
       "    </tr>\n",
       "    <tr>\n",
       "      <th>545604</th>\n",
       "      <td>T545605</td>\n",
       "      <td>C9096252</td>\n",
       "      <td>1991-04-03</td>\n",
       "      <td>1</td>\n",
       "      <td>9424.29</td>\n",
       "      <td>50.00</td>\n",
       "      <td>25</td>\n",
       "      <td>age_1</td>\n",
       "    </tr>\n",
       "    <tr>\n",
       "      <th>276357</th>\n",
       "      <td>T276358</td>\n",
       "      <td>C9096252</td>\n",
       "      <td>1997-10-07</td>\n",
       "      <td>1</td>\n",
       "      <td>9631.05</td>\n",
       "      <td>946.00</td>\n",
       "      <td>19</td>\n",
       "      <td>age_1</td>\n",
       "    </tr>\n",
       "  </tbody>\n",
       "</table>\n",
       "<p>303959 rows × 8 columns</p>\n",
       "</div>"
      ],
      "text/plain": [
       "       TransactionID CustomerID CustomerDOB  CustGender  CustAccountBalance  \\\n",
       "33670         T33671   C1010011  1992-08-19           0            32500.73   \n",
       "173508       T173509   C1010011  1983-05-08           1           120180.54   \n",
       "251647       T251648   C1010014  1984-08-19           1           161848.76   \n",
       "89543         T89544   C1010014  1992-04-06           0            38377.14   \n",
       "50880         T50881   C1010031  1984-07-21           1             1754.10   \n",
       "...              ...        ...         ...         ...                 ...   \n",
       "407803       T407804   C9094224  1980-06-24           0            10579.38   \n",
       "673478       T673479   C9095886  1992-06-04           1              284.48   \n",
       "500536       T500537   C9095886  1991-06-19           0            27313.55   \n",
       "545604       T545605   C9096252  1991-04-03           1             9424.29   \n",
       "276357       T276358   C9096252  1997-10-07           1             9631.05   \n",
       "\n",
       "        TransactionAmount (INR)  CustomerAge CustomerClassAge  \n",
       "33670                   4750.00           24            age_1  \n",
       "173508                   356.00           33            age_2  \n",
       "251647                   250.00           32            age_2  \n",
       "89543                   1205.00           24            age_1  \n",
       "50880                    404.00           32            age_2  \n",
       "...                         ...          ...              ...  \n",
       "407803                  2458.00           36            age_3  \n",
       "673478                   123.89           24            age_1  \n",
       "500536                   289.37           25            age_1  \n",
       "545604                    50.00           25            age_1  \n",
       "276357                   946.00           19            age_1  \n",
       "\n",
       "[303959 rows x 8 columns]"
      ]
     },
     "execution_count": 35,
     "metadata": {},
     "output_type": "execute_result"
    }
   ],
   "source": [
    "a = df.groupby('CustomerID').TransactionID.count()  #series with number of transaction per CustomerID\n",
    "\n",
    "df[df.CustomerID.isin(a[a>1].index)].sort_values(by=\"CustomerID\") #same customer with more than one transaction"
   ]
  },
  {
   "cell_type": "code",
   "execution_count": 36,
   "id": "7bce2d7a",
   "metadata": {},
   "outputs": [
    {
     "data": {
      "image/png": "[encoded data removed]",
      "text/plain": [
       "<Figure size 432x288 with 1 Axes>"
      ]
     },
     "metadata": {
      "needs_background": "light"
     },
     "output_type": "display_data"
    }
   ],
   "source": [
    "df.groupby('CustomerID').TransactionID.count().plot.hist()\n",
    "\n",
    "plt.xlabel('Number of transaction per CustomerID')\n",
    "\n",
    "plt.ylabel('Frequency')\n",
    "\n",
    "plt.show()"
   ]
  },
  {
   "cell_type": "markdown",
   "id": "cd9564d3",
   "metadata": {},
   "source": [
    "We can see that transactions addressed to the same CustomerID are instead related to different people but labeled with the same username. We can say that with high probability these kind of CustomerID are referred to a family or in general groups of people. However, if we wanna group by similar transactions this is not a problem for us."
   ]
  },
  {
   "cell_type": "markdown",
   "id": "20ac5327",
   "metadata": {},
   "source": [
    "# 1.1.4 Same people with different CustomerID\n",
    "\n",
    "We decided to check if there could be person labelled with different CustomerID but that have many information in common:"
   ]
  },
  {
   "cell_type": "code",
   "execution_count": 37,
   "id": "c3b58b4f",
   "metadata": {},
   "outputs": [
    {
     "data": {
      "text/html": [
       "<div>\n",
       "<style scoped>\n",
       "    .dataframe tbody tr th:only-of-type {\n",
       "        vertical-align: middle;\n",
       "    }\n",
       "\n",
       "    .dataframe tbody tr th {\n",
       "        vertical-align: top;\n",
       "    }\n",
       "\n",
       "    .dataframe thead th {\n",
       "        text-align: right;\n",
       "    }\n",
       "</style>\n",
       "<table border=\"1\" class=\"dataframe\">\n",
       "  <thead>\n",
       "    <tr style=\"text-align: right;\">\n",
       "      <th></th>\n",
       "      <th>TransactionID</th>\n",
       "      <th>CustomerID</th>\n",
       "      <th>CustomerDOB</th>\n",
       "      <th>CustGender</th>\n",
       "      <th>CustAccountBalance</th>\n",
       "      <th>TransactionAmount (INR)</th>\n",
       "      <th>CustomerAge</th>\n",
       "      <th>CustomerClassAge</th>\n",
       "    </tr>\n",
       "  </thead>\n",
       "  <tbody>\n",
       "    <tr>\n",
       "      <th>114611</th>\n",
       "      <td>T114612</td>\n",
       "      <td>C2846955</td>\n",
       "      <td>1916-02-22</td>\n",
       "      <td>1</td>\n",
       "      <td>16205.90</td>\n",
       "      <td>460.00</td>\n",
       "      <td>100</td>\n",
       "      <td>age_6</td>\n",
       "    </tr>\n",
       "    <tr>\n",
       "      <th>128470</th>\n",
       "      <td>T128471</td>\n",
       "      <td>C6946973</td>\n",
       "      <td>1916-02-22</td>\n",
       "      <td>1</td>\n",
       "      <td>16205.90</td>\n",
       "      <td>294.00</td>\n",
       "      <td>100</td>\n",
       "      <td>age_6</td>\n",
       "    </tr>\n",
       "    <tr>\n",
       "      <th>914000</th>\n",
       "      <td>T914001</td>\n",
       "      <td>C2638825</td>\n",
       "      <td>1918-03-05</td>\n",
       "      <td>0</td>\n",
       "      <td>11725.34</td>\n",
       "      <td>250.00</td>\n",
       "      <td>98</td>\n",
       "      <td>age_6</td>\n",
       "    </tr>\n",
       "    <tr>\n",
       "      <th>26154</th>\n",
       "      <td>T26155</td>\n",
       "      <td>C4925544</td>\n",
       "      <td>1919-12-15</td>\n",
       "      <td>0</td>\n",
       "      <td>27081.15</td>\n",
       "      <td>12580.29</td>\n",
       "      <td>97</td>\n",
       "      <td>age_6</td>\n",
       "    </tr>\n",
       "    <tr>\n",
       "      <th>170160</th>\n",
       "      <td>T170161</td>\n",
       "      <td>C7625552</td>\n",
       "      <td>1919-12-15</td>\n",
       "      <td>0</td>\n",
       "      <td>27081.15</td>\n",
       "      <td>500.00</td>\n",
       "      <td>97</td>\n",
       "      <td>age_6</td>\n",
       "    </tr>\n",
       "    <tr>\n",
       "      <th>...</th>\n",
       "      <td>...</td>\n",
       "      <td>...</td>\n",
       "      <td>...</td>\n",
       "      <td>...</td>\n",
       "      <td>...</td>\n",
       "      <td>...</td>\n",
       "      <td>...</td>\n",
       "      <td>...</td>\n",
       "    </tr>\n",
       "    <tr>\n",
       "      <th>650778</th>\n",
       "      <td>T650779</td>\n",
       "      <td>C7920950</td>\n",
       "      <td>2000-12-20</td>\n",
       "      <td>1</td>\n",
       "      <td>8774.87</td>\n",
       "      <td>195.00</td>\n",
       "      <td>16</td>\n",
       "      <td>age_1</td>\n",
       "    </tr>\n",
       "    <tr>\n",
       "      <th>977850</th>\n",
       "      <td>T977851</td>\n",
       "      <td>C1520914</td>\n",
       "      <td>2000-12-20</td>\n",
       "      <td>1</td>\n",
       "      <td>8774.87</td>\n",
       "      <td>4721.00</td>\n",
       "      <td>16</td>\n",
       "      <td>age_1</td>\n",
       "    </tr>\n",
       "    <tr>\n",
       "      <th>1011847</th>\n",
       "      <td>T1011848</td>\n",
       "      <td>C1228222</td>\n",
       "      <td>2000-12-21</td>\n",
       "      <td>0</td>\n",
       "      <td>7077.98</td>\n",
       "      <td>4275.00</td>\n",
       "      <td>16</td>\n",
       "      <td>age_1</td>\n",
       "    </tr>\n",
       "    <tr>\n",
       "      <th>1015853</th>\n",
       "      <td>T1015854</td>\n",
       "      <td>C5528253</td>\n",
       "      <td>2000-12-21</td>\n",
       "      <td>0</td>\n",
       "      <td>7077.98</td>\n",
       "      <td>2285.00</td>\n",
       "      <td>16</td>\n",
       "      <td>age_1</td>\n",
       "    </tr>\n",
       "    <tr>\n",
       "      <th>713128</th>\n",
       "      <td>T713129</td>\n",
       "      <td>C5023417</td>\n",
       "      <td>2000-12-25</td>\n",
       "      <td>1</td>\n",
       "      <td>8073.60</td>\n",
       "      <td>363.00</td>\n",
       "      <td>16</td>\n",
       "      <td>age_1</td>\n",
       "    </tr>\n",
       "  </tbody>\n",
       "</table>\n",
       "<p>984853 rows × 8 columns</p>\n",
       "</div>"
      ],
      "text/plain": [
       "        TransactionID CustomerID CustomerDOB  CustGender  CustAccountBalance  \\\n",
       "114611        T114612   C2846955  1916-02-22           1            16205.90   \n",
       "128470        T128471   C6946973  1916-02-22           1            16205.90   \n",
       "914000        T914001   C2638825  1918-03-05           0            11725.34   \n",
       "26154          T26155   C4925544  1919-12-15           0            27081.15   \n",
       "170160        T170161   C7625552  1919-12-15           0            27081.15   \n",
       "...               ...        ...         ...         ...                 ...   \n",
       "650778        T650779   C7920950  2000-12-20           1             8774.87   \n",
       "977850        T977851   C1520914  2000-12-20           1             8774.87   \n",
       "1011847      T1011848   C1228222  2000-12-21           0             7077.98   \n",
       "1015853      T1015854   C5528253  2000-12-21           0             7077.98   \n",
       "713128        T713129   C5023417  2000-12-25           1             8073.60   \n",
       "\n",
       "         TransactionAmount (INR)  CustomerAge CustomerClassAge  \n",
       "114611                    460.00          100            age_6  \n",
       "128470                    294.00          100            age_6  \n",
       "914000                    250.00           98            age_6  \n",
       "26154                   12580.29           97            age_6  \n",
       "170160                    500.00           97            age_6  \n",
       "...                          ...          ...              ...  \n",
       "650778                    195.00           16            age_1  \n",
       "977850                   4721.00           16            age_1  \n",
       "1011847                  4275.00           16            age_1  \n",
       "1015853                  2285.00           16            age_1  \n",
       "713128                    363.00           16            age_1  \n",
       "\n",
       "[984853 rows x 8 columns]"
      ]
     },
     "execution_count": 37,
     "metadata": {},
     "output_type": "execute_result"
    }
   ],
   "source": [
    "df.loc[df['CustomerDOB'].dt.year != 1800].sort_values(by = ['CustomerDOB', 'CustAccountBalance', 'CustGender'], ascending = True)"
   ]
  },
  {
   "cell_type": "markdown",
   "id": "fa6a2dff",
   "metadata": {},
   "source": [
    "We can see that there are people who are labelled with different CustomerID but have all the other fields identical. So we can say that, with high probability, they are the same person. We could hypothesize that anytime a person do a different transaction is saved with a different CustomerID, but we do not have enough information to make this assumption. So, we'll threat them as different people. However, this could not be an error in order to implement LSH algorithm: for example, if we group by similar ages, total balance, they will go with high probability to the same bucket (they are different only for the 'TransactionAmount (INR)' value). "
   ]
  },
  {
   "cell_type": "markdown",
   "id": "c0592cab",
   "metadata": {},
   "source": [
    "If we group by similar transaction data we do not need the 'CustomerID' column: "
   ]
  },
  {
   "cell_type": "code",
   "execution_count": 38,
   "id": "4dab839a",
   "metadata": {},
   "outputs": [],
   "source": [
    "del df['CustomerID'], df['CustomerDOB']"
   ]
  },
  {
   "cell_type": "markdown",
   "id": "7ea7c79c",
   "metadata": {},
   "source": [
    "# 1.1.5 Customer Account Balance"
   ]
  },
  {
   "cell_type": "code",
   "execution_count": 39,
   "id": "61529986",
   "metadata": {},
   "outputs": [
    {
     "data": {
      "text/plain": [
       "numpy.float64"
      ]
     },
     "execution_count": 39,
     "metadata": {},
     "output_type": "execute_result"
    }
   ],
   "source": [
    "type(df['CustAccountBalance'][0])"
   ]
  },
  {
   "cell_type": "code",
   "execution_count": 40,
   "id": "933ae7db",
   "metadata": {},
   "outputs": [
    {
     "data": {
      "image/png": "[encoded data removed]",
      "text/plain": [
       "<Figure size 432x288 with 1 Axes>"
      ]
     },
     "metadata": {
      "needs_background": "light"
     },
     "output_type": "display_data"
    }
   ],
   "source": [
    "df[['CustAccountBalance', 'CustomerAge']].plot(kind = 'scatter', x= 'CustomerAge', y = 'CustAccountBalance')\n",
    "\n",
    "plt.show()"
   ]
  },
  {
   "cell_type": "markdown",
   "id": "654e0deb",
   "metadata": {},
   "source": [
    "We decided to binning the CustAccountBalance through the qcut function: \"The pandas documentation describes qcut as a “Quantile-based discretization function.” This basically means that qcut tries to divide up the underlying data into equal sized bins. The function defines the bins using percentiles based on the distribution of the data, not the actual numeric edges of the bins. \""
   ]
  },
  {
   "cell_type": "code",
   "execution_count": 41,
   "id": "e084ce47",
   "metadata": {},
   "outputs": [
    {
     "data": {
      "text/plain": [
       "count    1.041144e+06\n",
       "mean     1.150362e+05\n",
       "std      8.469470e+05\n",
       "min      0.000000e+00\n",
       "25%      4.729190e+03\n",
       "50%      1.677460e+04\n",
       "75%      5.745586e+04\n",
       "max      1.150355e+08\n",
       "Name: CustAccountBalance, dtype: float64"
      ]
     },
     "execution_count": 41,
     "metadata": {},
     "output_type": "execute_result"
    }
   ],
   "source": [
    "df['CustAccountBalance'].describe()"
   ]
  },
  {
   "cell_type": "code",
   "execution_count": 42,
   "id": "3bf4cb96",
   "metadata": {},
   "outputs": [
    {
     "data": {
      "text/plain": [
       "0.000000e+00    2609\n",
       "1.000000e-02     300\n",
       "2.000000e-02      79\n",
       "3.000000e-02      44\n",
       "4.000000e-02      86\n",
       "                ... \n",
       "5.536969e+07      12\n",
       "6.138221e+07       1\n",
       "6.979933e+07       4\n",
       "8.224463e+07      19\n",
       "1.150355e+08      10\n",
       "Name: CustAccountBalance, Length: 160573, dtype: int64"
      ]
     },
     "execution_count": 42,
     "metadata": {},
     "output_type": "execute_result"
    }
   ],
   "source": [
    "df['CustAccountBalance'].value_counts().sort_index()"
   ]
  },
  {
   "cell_type": "markdown",
   "id": "13490ece",
   "metadata": {},
   "source": [
    "We decide to label people with 10 classes of richness, from 1 to 10. We choose to turn into class 0 of richness transaction with CustAccountBalance < 1. In fact these values could be missing values (in the 0 case) or accounts that are not more active:"
   ]
  },
  {
   "cell_type": "code",
   "execution_count": 45,
   "id": "cff7c873",
   "metadata": {},
   "outputs": [],
   "source": [
    "bin_labels = ['richness_1', 'richness_2', 'richness_3', 'richness_4', 'richness_5', 'richness_6', 'richness_7', 'richness_8', 'richness_9', 'richness_10']"
   ]
  },
  {
   "cell_type": "code",
   "execution_count": 46,
   "id": "f7fefae3",
   "metadata": {},
   "outputs": [],
   "source": [
    "df['Richness'] = pd.qcut(df['CustAccountBalance'], q = [0, .1, .2, .3, .4, .5, .6, .7, .8, .9, 1], labels = bin_labels)"
   ]
  },
  {
   "cell_type": "code",
   "execution_count": 47,
   "id": "5051d805",
   "metadata": {},
   "outputs": [
    {
     "data": {
      "text/html": [
       "<div>\n",
       "<style scoped>\n",
       "    .dataframe tbody tr th:only-of-type {\n",
       "        vertical-align: middle;\n",
       "    }\n",
       "\n",
       "    .dataframe tbody tr th {\n",
       "        vertical-align: top;\n",
       "    }\n",
       "\n",
       "    .dataframe thead th {\n",
       "        text-align: right;\n",
       "    }\n",
       "</style>\n",
       "<table border=\"1\" class=\"dataframe\">\n",
       "  <thead>\n",
       "    <tr style=\"text-align: right;\">\n",
       "      <th></th>\n",
       "      <th>TransactionID</th>\n",
       "      <th>CustGender</th>\n",
       "      <th>CustAccountBalance</th>\n",
       "      <th>TransactionAmount (INR)</th>\n",
       "      <th>CustomerAge</th>\n",
       "      <th>CustomerClassAge</th>\n",
       "      <th>Richness</th>\n",
       "    </tr>\n",
       "  </thead>\n",
       "  <tbody>\n",
       "    <tr>\n",
       "      <th>339528</th>\n",
       "      <td>T339529</td>\n",
       "      <td>0</td>\n",
       "      <td>0.0</td>\n",
       "      <td>200.0</td>\n",
       "      <td>30</td>\n",
       "      <td>age_2</td>\n",
       "      <td>richness_1</td>\n",
       "    </tr>\n",
       "    <tr>\n",
       "      <th>416346</th>\n",
       "      <td>T416347</td>\n",
       "      <td>1</td>\n",
       "      <td>0.0</td>\n",
       "      <td>507.0</td>\n",
       "      <td>0</td>\n",
       "      <td>age_0</td>\n",
       "      <td>richness_1</td>\n",
       "    </tr>\n",
       "    <tr>\n",
       "      <th>1000014</th>\n",
       "      <td>T1000015</td>\n",
       "      <td>0</td>\n",
       "      <td>0.0</td>\n",
       "      <td>1800.0</td>\n",
       "      <td>53</td>\n",
       "      <td>age_4</td>\n",
       "      <td>richness_1</td>\n",
       "    </tr>\n",
       "    <tr>\n",
       "      <th>28851</th>\n",
       "      <td>T28852</td>\n",
       "      <td>1</td>\n",
       "      <td>0.0</td>\n",
       "      <td>500.0</td>\n",
       "      <td>32</td>\n",
       "      <td>age_2</td>\n",
       "      <td>richness_1</td>\n",
       "    </tr>\n",
       "    <tr>\n",
       "      <th>648525</th>\n",
       "      <td>T648526</td>\n",
       "      <td>1</td>\n",
       "      <td>0.0</td>\n",
       "      <td>1087.0</td>\n",
       "      <td>54</td>\n",
       "      <td>age_4</td>\n",
       "      <td>richness_1</td>\n",
       "    </tr>\n",
       "    <tr>\n",
       "      <th>...</th>\n",
       "      <td>...</td>\n",
       "      <td>...</td>\n",
       "      <td>...</td>\n",
       "      <td>...</td>\n",
       "      <td>...</td>\n",
       "      <td>...</td>\n",
       "      <td>...</td>\n",
       "    </tr>\n",
       "    <tr>\n",
       "      <th>1001213</th>\n",
       "      <td>T1001214</td>\n",
       "      <td>1</td>\n",
       "      <td>115035495.1</td>\n",
       "      <td>1599.0</td>\n",
       "      <td>49</td>\n",
       "      <td>age_4</td>\n",
       "      <td>richness_10</td>\n",
       "    </tr>\n",
       "    <tr>\n",
       "      <th>835641</th>\n",
       "      <td>T835642</td>\n",
       "      <td>1</td>\n",
       "      <td>115035495.1</td>\n",
       "      <td>600.0</td>\n",
       "      <td>49</td>\n",
       "      <td>age_4</td>\n",
       "      <td>richness_10</td>\n",
       "    </tr>\n",
       "    <tr>\n",
       "      <th>1002072</th>\n",
       "      <td>T1002073</td>\n",
       "      <td>1</td>\n",
       "      <td>115035495.1</td>\n",
       "      <td>5060.0</td>\n",
       "      <td>49</td>\n",
       "      <td>age_4</td>\n",
       "      <td>richness_10</td>\n",
       "    </tr>\n",
       "    <tr>\n",
       "      <th>826721</th>\n",
       "      <td>T826722</td>\n",
       "      <td>1</td>\n",
       "      <td>115035495.1</td>\n",
       "      <td>4699.0</td>\n",
       "      <td>49</td>\n",
       "      <td>age_4</td>\n",
       "      <td>richness_10</td>\n",
       "    </tr>\n",
       "    <tr>\n",
       "      <th>1002847</th>\n",
       "      <td>T1002848</td>\n",
       "      <td>1</td>\n",
       "      <td>115035495.1</td>\n",
       "      <td>3604.0</td>\n",
       "      <td>49</td>\n",
       "      <td>age_4</td>\n",
       "      <td>richness_10</td>\n",
       "    </tr>\n",
       "  </tbody>\n",
       "</table>\n",
       "<p>1041144 rows × 7 columns</p>\n",
       "</div>"
      ],
      "text/plain": [
       "        TransactionID  CustGender  CustAccountBalance  \\\n",
       "339528        T339529           0                 0.0   \n",
       "416346        T416347           1                 0.0   \n",
       "1000014      T1000015           0                 0.0   \n",
       "28851          T28852           1                 0.0   \n",
       "648525        T648526           1                 0.0   \n",
       "...               ...         ...                 ...   \n",
       "1001213      T1001214           1         115035495.1   \n",
       "835641        T835642           1         115035495.1   \n",
       "1002072      T1002073           1         115035495.1   \n",
       "826721        T826722           1         115035495.1   \n",
       "1002847      T1002848           1         115035495.1   \n",
       "\n",
       "         TransactionAmount (INR)  CustomerAge CustomerClassAge     Richness  \n",
       "339528                     200.0           30            age_2   richness_1  \n",
       "416346                     507.0            0            age_0   richness_1  \n",
       "1000014                   1800.0           53            age_4   richness_1  \n",
       "28851                      500.0           32            age_2   richness_1  \n",
       "648525                    1087.0           54            age_4   richness_1  \n",
       "...                          ...          ...              ...          ...  \n",
       "1001213                   1599.0           49            age_4  richness_10  \n",
       "835641                     600.0           49            age_4  richness_10  \n",
       "1002072                   5060.0           49            age_4  richness_10  \n",
       "826721                    4699.0           49            age_4  richness_10  \n",
       "1002847                   3604.0           49            age_4  richness_10  \n",
       "\n",
       "[1041144 rows x 7 columns]"
      ]
     },
     "execution_count": 47,
     "metadata": {},
     "output_type": "execute_result"
    }
   ],
   "source": [
    "df.sort_values(by = 'CustAccountBalance', ascending = True)"
   ]
  },
  {
   "cell_type": "code",
   "execution_count": 48,
   "id": "ffdc87db",
   "metadata": {},
   "outputs": [],
   "source": [
    "del df['CustAccountBalance']"
   ]
  },
  {
   "cell_type": "markdown",
   "id": "3f76c147",
   "metadata": {},
   "source": [
    "# 1.1.6 Transaction Amount (INR)"
   ]
  },
  {
   "cell_type": "code",
   "execution_count": 49,
   "id": "012ef2f4",
   "metadata": {},
   "outputs": [
    {
     "data": {
      "text/plain": [
       "numpy.float64"
      ]
     },
     "execution_count": 49,
     "metadata": {},
     "output_type": "execute_result"
    }
   ],
   "source": [
    "type(df['TransactionAmount (INR)'][0])"
   ]
  },
  {
   "cell_type": "code",
   "execution_count": 50,
   "id": "71cd1f35",
   "metadata": {},
   "outputs": [
    {
     "data": {
      "image/png": "[encoded data removed]",
      "text/plain": [
       "<Figure size 432x288 with 1 Axes>"
      ]
     },
     "metadata": {
      "needs_background": "light"
     },
     "output_type": "display_data"
    }
   ],
   "source": [
    "df[['TransactionAmount (INR)', 'CustomerAge']].plot(kind = 'scatter', x= 'CustomerAge', y = 'TransactionAmount (INR)')\n",
    "\n",
    "plt.show()"
   ]
  },
  {
   "cell_type": "code",
   "execution_count": 51,
   "id": "df757550",
   "metadata": {},
   "outputs": [
    {
     "data": {
      "text/plain": [
       "count    1.041144e+06\n",
       "mean     1.565763e+03\n",
       "std      6.562031e+03\n",
       "min      0.000000e+00\n",
       "25%      1.600000e+02\n",
       "50%      4.570000e+02\n",
       "75%      1.200000e+03\n",
       "max      1.560035e+06\n",
       "Name: TransactionAmount (INR), dtype: float64"
      ]
     },
     "execution_count": 51,
     "metadata": {},
     "output_type": "execute_result"
    }
   ],
   "source": [
    "df['TransactionAmount (INR)'].describe()"
   ]
  },
  {
   "cell_type": "code",
   "execution_count": 52,
   "id": "c488df83",
   "metadata": {},
   "outputs": [],
   "source": [
    "bin_labels = ['exp_1', 'exp_2', 'exp_3', 'exp_4', 'exp_5', 'exp_6', 'exp_7', 'exp_8', 'exp_9', 'exp_10']"
   ]
  },
  {
   "cell_type": "markdown",
   "id": "50245d83",
   "metadata": {},
   "source": [
    "We decided to threat this values in the same way of the previous point: "
   ]
  },
  {
   "cell_type": "code",
   "execution_count": 53,
   "id": "11b10152",
   "metadata": {},
   "outputs": [],
   "source": [
    "df['Expenditure'] = pd.qcut(df['TransactionAmount (INR)'], q = [0, .1, .2, .3, .4, .5, .6, .7, .8, .9, 1], labels = bin_labels)"
   ]
  },
  {
   "cell_type": "code",
   "execution_count": 54,
   "id": "c0bacedb",
   "metadata": {},
   "outputs": [
    {
     "data": {
      "text/html": [
       "<div>\n",
       "<style scoped>\n",
       "    .dataframe tbody tr th:only-of-type {\n",
       "        vertical-align: middle;\n",
       "    }\n",
       "\n",
       "    .dataframe tbody tr th {\n",
       "        vertical-align: top;\n",
       "    }\n",
       "\n",
       "    .dataframe thead th {\n",
       "        text-align: right;\n",
       "    }\n",
       "</style>\n",
       "<table border=\"1\" class=\"dataframe\">\n",
       "  <thead>\n",
       "    <tr style=\"text-align: right;\">\n",
       "      <th></th>\n",
       "      <th>TransactionID</th>\n",
       "      <th>CustGender</th>\n",
       "      <th>TransactionAmount (INR)</th>\n",
       "      <th>CustomerAge</th>\n",
       "      <th>CustomerClassAge</th>\n",
       "      <th>Richness</th>\n",
       "      <th>Expenditure</th>\n",
       "    </tr>\n",
       "  </thead>\n",
       "  <tbody>\n",
       "    <tr>\n",
       "      <th>0</th>\n",
       "      <td>T1</td>\n",
       "      <td>0</td>\n",
       "      <td>25.0</td>\n",
       "      <td>22</td>\n",
       "      <td>age_1</td>\n",
       "      <td>richness_6</td>\n",
       "      <td>exp_1</td>\n",
       "    </tr>\n",
       "    <tr>\n",
       "      <th>1</th>\n",
       "      <td>T2</td>\n",
       "      <td>1</td>\n",
       "      <td>27999.0</td>\n",
       "      <td>59</td>\n",
       "      <td>age_4</td>\n",
       "      <td>richness_2</td>\n",
       "      <td>exp_10</td>\n",
       "    </tr>\n",
       "    <tr>\n",
       "      <th>2</th>\n",
       "      <td>T3</td>\n",
       "      <td>0</td>\n",
       "      <td>459.0</td>\n",
       "      <td>20</td>\n",
       "      <td>age_1</td>\n",
       "      <td>richness_6</td>\n",
       "      <td>exp_6</td>\n",
       "    </tr>\n",
       "    <tr>\n",
       "      <th>3</th>\n",
       "      <td>T4</td>\n",
       "      <td>0</td>\n",
       "      <td>2060.0</td>\n",
       "      <td>43</td>\n",
       "      <td>age_3</td>\n",
       "      <td>richness_10</td>\n",
       "      <td>exp_9</td>\n",
       "    </tr>\n",
       "    <tr>\n",
       "      <th>4</th>\n",
       "      <td>T5</td>\n",
       "      <td>0</td>\n",
       "      <td>1762.5</td>\n",
       "      <td>28</td>\n",
       "      <td>age_2</td>\n",
       "      <td>richness_4</td>\n",
       "      <td>exp_9</td>\n",
       "    </tr>\n",
       "  </tbody>\n",
       "</table>\n",
       "</div>"
      ],
      "text/plain": [
       "  TransactionID  CustGender  TransactionAmount (INR)  CustomerAge  \\\n",
       "0            T1           0                     25.0           22   \n",
       "1            T2           1                  27999.0           59   \n",
       "2            T3           0                    459.0           20   \n",
       "3            T4           0                   2060.0           43   \n",
       "4            T5           0                   1762.5           28   \n",
       "\n",
       "  CustomerClassAge     Richness Expenditure  \n",
       "0            age_1   richness_6       exp_1  \n",
       "1            age_4   richness_2      exp_10  \n",
       "2            age_1   richness_6       exp_6  \n",
       "3            age_3  richness_10       exp_9  \n",
       "4            age_2   richness_4       exp_9  "
      ]
     },
     "execution_count": 54,
     "metadata": {},
     "output_type": "execute_result"
    }
   ],
   "source": [
    "df.head()"
   ]
  },
  {
   "cell_type": "code",
   "execution_count": 55,
   "id": "b706537a",
   "metadata": {},
   "outputs": [],
   "source": [
    "del df['TransactionAmount (INR)'], df['CustomerAge']"
   ]
  },
  {
   "cell_type": "markdown",
   "id": "a4701ab9",
   "metadata": {},
   "source": [
    "# 1.1.7 Final Dataset"
   ]
  },
  {
   "cell_type": "markdown",
   "id": "6b48fbb8",
   "metadata": {},
   "source": [
    "The final result is showed below:"
   ]
  },
  {
   "cell_type": "code",
   "execution_count": 56,
   "id": "5581f5dc",
   "metadata": {},
   "outputs": [
    {
     "data": {
      "text/html": [
       "<div>\n",
       "<style scoped>\n",
       "    .dataframe tbody tr th:only-of-type {\n",
       "        vertical-align: middle;\n",
       "    }\n",
       "\n",
       "    .dataframe tbody tr th {\n",
       "        vertical-align: top;\n",
       "    }\n",
       "\n",
       "    .dataframe thead th {\n",
       "        text-align: right;\n",
       "    }\n",
       "</style>\n",
       "<table border=\"1\" class=\"dataframe\">\n",
       "  <thead>\n",
       "    <tr style=\"text-align: right;\">\n",
       "      <th></th>\n",
       "      <th>TransactionID</th>\n",
       "      <th>CustGender</th>\n",
       "      <th>CustomerClassAge</th>\n",
       "      <th>Richness</th>\n",
       "      <th>Expenditure</th>\n",
       "    </tr>\n",
       "  </thead>\n",
       "  <tbody>\n",
       "    <tr>\n",
       "      <th>0</th>\n",
       "      <td>T1</td>\n",
       "      <td>0</td>\n",
       "      <td>age_1</td>\n",
       "      <td>richness_6</td>\n",
       "      <td>exp_1</td>\n",
       "    </tr>\n",
       "    <tr>\n",
       "      <th>1</th>\n",
       "      <td>T2</td>\n",
       "      <td>1</td>\n",
       "      <td>age_4</td>\n",
       "      <td>richness_2</td>\n",
       "      <td>exp_10</td>\n",
       "    </tr>\n",
       "    <tr>\n",
       "      <th>2</th>\n",
       "      <td>T3</td>\n",
       "      <td>0</td>\n",
       "      <td>age_1</td>\n",
       "      <td>richness_6</td>\n",
       "      <td>exp_6</td>\n",
       "    </tr>\n",
       "    <tr>\n",
       "      <th>3</th>\n",
       "      <td>T4</td>\n",
       "      <td>0</td>\n",
       "      <td>age_3</td>\n",
       "      <td>richness_10</td>\n",
       "      <td>exp_9</td>\n",
       "    </tr>\n",
       "    <tr>\n",
       "      <th>4</th>\n",
       "      <td>T5</td>\n",
       "      <td>0</td>\n",
       "      <td>age_2</td>\n",
       "      <td>richness_4</td>\n",
       "      <td>exp_9</td>\n",
       "    </tr>\n",
       "    <tr>\n",
       "      <th>...</th>\n",
       "      <td>...</td>\n",
       "      <td>...</td>\n",
       "      <td>...</td>\n",
       "      <td>...</td>\n",
       "      <td>...</td>\n",
       "    </tr>\n",
       "    <tr>\n",
       "      <th>1041139</th>\n",
       "      <td>T1048563</td>\n",
       "      <td>1</td>\n",
       "      <td>age_2</td>\n",
       "      <td>richness_4</td>\n",
       "      <td>exp_7</td>\n",
       "    </tr>\n",
       "    <tr>\n",
       "      <th>1041140</th>\n",
       "      <td>T1048564</td>\n",
       "      <td>1</td>\n",
       "      <td>age_1</td>\n",
       "      <td>richness_7</td>\n",
       "      <td>exp_6</td>\n",
       "    </tr>\n",
       "    <tr>\n",
       "      <th>1041141</th>\n",
       "      <td>T1048565</td>\n",
       "      <td>1</td>\n",
       "      <td>age_2</td>\n",
       "      <td>richness_10</td>\n",
       "      <td>exp_7</td>\n",
       "    </tr>\n",
       "    <tr>\n",
       "      <th>1041142</th>\n",
       "      <td>T1048566</td>\n",
       "      <td>1</td>\n",
       "      <td>age_3</td>\n",
       "      <td>richness_4</td>\n",
       "      <td>exp_7</td>\n",
       "    </tr>\n",
       "    <tr>\n",
       "      <th>1041143</th>\n",
       "      <td>T1048567</td>\n",
       "      <td>1</td>\n",
       "      <td>age_2</td>\n",
       "      <td>richness_8</td>\n",
       "      <td>exp_8</td>\n",
       "    </tr>\n",
       "  </tbody>\n",
       "</table>\n",
       "<p>1041144 rows × 5 columns</p>\n",
       "</div>"
      ],
      "text/plain": [
       "        TransactionID  CustGender CustomerClassAge     Richness Expenditure\n",
       "0                  T1           0            age_1   richness_6       exp_1\n",
       "1                  T2           1            age_4   richness_2      exp_10\n",
       "2                  T3           0            age_1   richness_6       exp_6\n",
       "3                  T4           0            age_3  richness_10       exp_9\n",
       "4                  T5           0            age_2   richness_4       exp_9\n",
       "...               ...         ...              ...          ...         ...\n",
       "1041139      T1048563           1            age_2   richness_4       exp_7\n",
       "1041140      T1048564           1            age_1   richness_7       exp_6\n",
       "1041141      T1048565           1            age_2  richness_10       exp_7\n",
       "1041142      T1048566           1            age_3   richness_4       exp_7\n",
       "1041143      T1048567           1            age_2   richness_8       exp_8\n",
       "\n",
       "[1041144 rows x 5 columns]"
      ]
     },
     "execution_count": 56,
     "metadata": {},
     "output_type": "execute_result"
    }
   ],
   "source": [
    "df = df.reset_index(drop = True)\n",
    "df"
   ]
  },
  {
   "cell_type": "code",
   "execution_count": 57,
   "id": "558aab33",
   "metadata": {},
   "outputs": [],
   "source": [
    "df.to_csv('/Users/giacomo/Desktop/locale/data.csv', sep = '\\t')"
   ]
  }
 ],
 "metadata": {
  "kernelspec": {
   "display_name": "Python 3 (ipykernel)",
   "language": "python",
   "name": "python3"
  },
  "language_info": {
   "codemirror_mode": {
    "name": "ipython",
    "version": 3
   },
   "file_extension": ".py",
   "mimetype": "text/x-python",
   "name": "python",
   "nbconvert_exporter": "python",
   "pygments_lexer": "ipython3",
   "version": "3.9.12"
  }
 },
 "nbformat": 4,
 "nbformat_minor": 5
}
