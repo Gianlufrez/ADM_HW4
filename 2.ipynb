{
 "cells": [
  {
   "cell_type": "markdown",
   "id": "7e465c55",
   "metadata": {},
   "source": [
    "# 1.2 Fingerprint hashing\n",
    "\n",
    "Using the previously selected data with the features you found pertinent, you have to:\n",
    "\n",
    "Implement your minhash function from scratch. No ready-made hash functions are allowed. Read the class material and search the internet if you need to. For reference, it may be practical to look at the description of hash functions in the book.\n",
    "\n",
    "Process the dataset and add each record to the MinHash. The subtask's goal is to try and map each consumer to its bin; to ensure this works well, be sure you understand how MinHash works and choose a matching threshold to use. Before moving on, experiment with different thresholds, explaining your choice."
   ]
  },
  {
   "cell_type": "code",
   "execution_count": 22,
   "id": "2e649f53",
   "metadata": {},
   "outputs": [],
   "source": [
    "import pandas as pd\n",
    "from tqdm import tqdm as tq\n",
    "import warnings\n",
    "warnings.filterwarnings(\"ignore\")"
   ]
  },
  {
   "cell_type": "code",
   "execution_count": 9,
   "id": "172d4498",
   "metadata": {},
   "outputs": [],
   "source": [
    "df = pd.read_csv(\"/Users/giacomo/Desktop/locale/data.csv\", sep = '\\t')"
   ]
  },
  {
   "cell_type": "code",
   "execution_count": 10,
   "id": "cbec36df",
   "metadata": {},
   "outputs": [],
   "source": [
    "del df['Unnamed: 0']"
   ]
  },
  {
   "cell_type": "code",
   "execution_count": 11,
   "id": "21aeca64",
   "metadata": {},
   "outputs": [
    {
     "data": {
      "text/plain": [
       "['TransactionID', 'CustGender', 'CustomerClassAge', 'Richness', 'Expenditure']"
      ]
     },
     "execution_count": 11,
     "metadata": {},
     "output_type": "execute_result"
    }
   ],
   "source": [
    "list(df)"
   ]
  },
  {
   "cell_type": "code",
   "execution_count": 12,
   "id": "d55c52e0",
   "metadata": {},
   "outputs": [
    {
     "data": {
      "text/html": [
       "<div>\n",
       "<style scoped>\n",
       "    .dataframe tbody tr th:only-of-type {\n",
       "        vertical-align: middle;\n",
       "    }\n",
       "\n",
       "    .dataframe tbody tr th {\n",
       "        vertical-align: top;\n",
       "    }\n",
       "\n",
       "    .dataframe thead th {\n",
       "        text-align: right;\n",
       "    }\n",
       "</style>\n",
       "<table border=\"1\" class=\"dataframe\">\n",
       "  <thead>\n",
       "    <tr style=\"text-align: right;\">\n",
       "      <th></th>\n",
       "      <th>TransactionID</th>\n",
       "      <th>CustGender</th>\n",
       "      <th>CustomerClassAge</th>\n",
       "      <th>Richness</th>\n",
       "      <th>Expenditure</th>\n",
       "    </tr>\n",
       "  </thead>\n",
       "  <tbody>\n",
       "    <tr>\n",
       "      <th>0</th>\n",
       "      <td>T1</td>\n",
       "      <td>0</td>\n",
       "      <td>1</td>\n",
       "      <td>6</td>\n",
       "      <td>1</td>\n",
       "    </tr>\n",
       "    <tr>\n",
       "      <th>1</th>\n",
       "      <td>T2</td>\n",
       "      <td>1</td>\n",
       "      <td>4</td>\n",
       "      <td>2</td>\n",
       "      <td>10</td>\n",
       "    </tr>\n",
       "    <tr>\n",
       "      <th>2</th>\n",
       "      <td>T3</td>\n",
       "      <td>0</td>\n",
       "      <td>1</td>\n",
       "      <td>6</td>\n",
       "      <td>6</td>\n",
       "    </tr>\n",
       "    <tr>\n",
       "      <th>3</th>\n",
       "      <td>T4</td>\n",
       "      <td>0</td>\n",
       "      <td>3</td>\n",
       "      <td>10</td>\n",
       "      <td>9</td>\n",
       "    </tr>\n",
       "    <tr>\n",
       "      <th>4</th>\n",
       "      <td>T5</td>\n",
       "      <td>0</td>\n",
       "      <td>2</td>\n",
       "      <td>4</td>\n",
       "      <td>9</td>\n",
       "    </tr>\n",
       "    <tr>\n",
       "      <th>...</th>\n",
       "      <td>...</td>\n",
       "      <td>...</td>\n",
       "      <td>...</td>\n",
       "      <td>...</td>\n",
       "      <td>...</td>\n",
       "    </tr>\n",
       "    <tr>\n",
       "      <th>1041139</th>\n",
       "      <td>T1048563</td>\n",
       "      <td>1</td>\n",
       "      <td>2</td>\n",
       "      <td>4</td>\n",
       "      <td>7</td>\n",
       "    </tr>\n",
       "    <tr>\n",
       "      <th>1041140</th>\n",
       "      <td>T1048564</td>\n",
       "      <td>1</td>\n",
       "      <td>1</td>\n",
       "      <td>7</td>\n",
       "      <td>6</td>\n",
       "    </tr>\n",
       "    <tr>\n",
       "      <th>1041141</th>\n",
       "      <td>T1048565</td>\n",
       "      <td>1</td>\n",
       "      <td>2</td>\n",
       "      <td>10</td>\n",
       "      <td>7</td>\n",
       "    </tr>\n",
       "    <tr>\n",
       "      <th>1041142</th>\n",
       "      <td>T1048566</td>\n",
       "      <td>1</td>\n",
       "      <td>3</td>\n",
       "      <td>4</td>\n",
       "      <td>7</td>\n",
       "    </tr>\n",
       "    <tr>\n",
       "      <th>1041143</th>\n",
       "      <td>T1048567</td>\n",
       "      <td>1</td>\n",
       "      <td>2</td>\n",
       "      <td>8</td>\n",
       "      <td>8</td>\n",
       "    </tr>\n",
       "  </tbody>\n",
       "</table>\n",
       "<p>1041144 rows × 5 columns</p>\n",
       "</div>"
      ],
      "text/plain": [
       "        TransactionID  CustGender  CustomerClassAge  Richness  Expenditure\n",
       "0                  T1           0                 1         6            1\n",
       "1                  T2           1                 4         2           10\n",
       "2                  T3           0                 1         6            6\n",
       "3                  T4           0                 3        10            9\n",
       "4                  T5           0                 2         4            9\n",
       "...               ...         ...               ...       ...          ...\n",
       "1041139      T1048563           1                 2         4            7\n",
       "1041140      T1048564           1                 1         7            6\n",
       "1041141      T1048565           1                 2        10            7\n",
       "1041142      T1048566           1                 3         4            7\n",
       "1041143      T1048567           1                 2         8            8\n",
       "\n",
       "[1041144 rows x 5 columns]"
      ]
     },
     "execution_count": 12,
     "metadata": {},
     "output_type": "execute_result"
    }
   ],
   "source": [
    "df"
   ]
  },
  {
   "cell_type": "markdown",
   "id": "9dc8bf41",
   "metadata": {},
   "source": [
    "# 1.2.1 Vocabulary"
   ]
  },
  {
   "cell_type": "markdown",
   "id": "a34e580a",
   "metadata": {},
   "source": [
    "First of all we built the vocabulary: "
   ]
  },
  {
   "cell_type": "code",
   "execution_count": 13,
   "id": "0ec481bd",
   "metadata": {},
   "outputs": [],
   "source": [
    "vocab1 = [0, 1] #adding 0,1 shingles for female, male\n",
    "\n",
    "vocab2 = list(range(1, 7))  #adding customerClassAge shingles without considering 0 class age (nan)\n",
    "\n",
    "vocab3 = list(range(1, 11)) #adding Richness shingles\n",
    "\n",
    "vocab4 = list(range(1, 11)) #adding Expenditure shingles\n",
    "\n",
    "vocabulary = vocab1 + vocab2 + vocab3 + vocab4"
   ]
  },
  {
   "cell_type": "code",
   "execution_count": 14,
   "id": "6200ea50",
   "metadata": {},
   "outputs": [
    {
     "name": "stdout",
     "output_type": "stream",
     "text": [
      "[0, 1, 1, 2, 3, 4, 5, 6, 1, 2, 3, 4, 5, 6, 7, 8, 9, 10, 1, 2, 3, 4, 5, 6, 7, 8, 9, 10]\n"
     ]
    }
   ],
   "source": [
    "print(vocabulary)"
   ]
  },
  {
   "cell_type": "markdown",
   "id": "56a97def",
   "metadata": {},
   "source": [
    "# 1.2.2 Create one hot vector for each transaction"
   ]
  },
  {
   "cell_type": "markdown",
   "id": "2dae9e7b",
   "metadata": {},
   "source": [
    "First of all we created the function which maps each transaction into a vector of 0/1 based on the vocabulary: "
   ]
  },
  {
   "cell_type": "code",
   "execution_count": 15,
   "id": "c3c1c5e5",
   "metadata": {},
   "outputs": [
    {
     "data": {
      "text/plain": [
       "'T2'"
      ]
     },
     "execution_count": 15,
     "metadata": {},
     "output_type": "execute_result"
    }
   ],
   "source": [
    "df.loc[1][0]"
   ]
  },
  {
   "cell_type": "code",
   "execution_count": 16,
   "id": "8dab4d1a",
   "metadata": {},
   "outputs": [],
   "source": [
    "def trans_tovector(index): #argument of loc\n",
    "    \n",
    "    vector = []\n",
    "    \n",
    "    for i in range(len(vocab1)): #compare to shingles of genre\n",
    "    \n",
    "        if df.loc[index][1] == vocab1[i]:\n",
    "            \n",
    "            vector.append(1)\n",
    "            \n",
    "        else: \n",
    "            \n",
    "            vector.append(0)\n",
    "            \n",
    "    for i in range(len(vocab2)): #age\n",
    "        \n",
    "        if df.loc[index][2] == vocab2[i]: \n",
    "            \n",
    "            vector.append(1)\n",
    "            \n",
    "        else:\n",
    "        \n",
    "            vector.append(0)\n",
    "            \n",
    "    for i in range(len(vocab3)): #richness\n",
    "        \n",
    "        if df.loc[index][3] == vocab3[i]: \n",
    "            \n",
    "            vector.append(1)\n",
    "            \n",
    "        else: \n",
    "            \n",
    "            vector.append(0)\n",
    "            \n",
    "    for i in range(len(vocab4)): #expendary\n",
    "        \n",
    "        if df.loc[index][4] == vocab4[i]: \n",
    "            \n",
    "            vector.append(1)\n",
    "            \n",
    "        else:\n",
    "            \n",
    "            vector.append(0)\n",
    "            \n",
    "    return vector"
   ]
  },
  {
   "cell_type": "markdown",
   "id": "1cc887f9",
   "metadata": {},
   "source": [
    "# 1.2.3 Mapping each transaction through vocabulary"
   ]
  },
  {
   "cell_type": "markdown",
   "id": "3fd8d75d",
   "metadata": {},
   "source": [
    "Now we can map the initial dataset to a new dataframe using as shingles the elements of the vocabulary: "
   ]
  },
  {
   "cell_type": "code",
   "execution_count": 26,
   "id": "7ec9e87a",
   "metadata": {},
   "outputs": [],
   "source": [
    "boolean_matrix = pd.DataFrame(vocabulary, columns =['Shingles']) #initialize matrix with shingles"
   ]
  },
  {
   "cell_type": "code",
   "execution_count": null,
   "id": "96ff97d8",
   "metadata": {},
   "outputs": [
    {
     "name": "stderr",
     "output_type": "stream",
     "text": [
      "  1%|▎                               | 11605/1041144 [02:49<10:13:14, 27.98it/s]"
     ]
    }
   ],
   "source": [
    "for i in tq(range(len(df))):\n",
    "    \n",
    "    boolean_matrix[df.loc[i][0]] = trans_tovector(i)   "
   ]
  },
  {
   "cell_type": "code",
   "execution_count": null,
   "id": "fb3f1c8b",
   "metadata": {},
   "outputs": [],
   "source": []
  },
  {
   "cell_type": "code",
   "execution_count": null,
   "id": "0476578e",
   "metadata": {},
   "outputs": [],
   "source": []
  }
 ],
 "metadata": {
  "kernelspec": {
   "display_name": "Python 3 (ipykernel)",
   "language": "python",
   "name": "python3"
  },
  "language_info": {
   "codemirror_mode": {
    "name": "ipython",
    "version": 3
   },
   "file_extension": ".py",
   "mimetype": "text/x-python",
   "name": "python",
   "nbconvert_exporter": "python",
   "pygments_lexer": "ipython3",
   "version": "3.9.12"
  }
 },
 "nbformat": 4,
 "nbformat_minor": 5
}
