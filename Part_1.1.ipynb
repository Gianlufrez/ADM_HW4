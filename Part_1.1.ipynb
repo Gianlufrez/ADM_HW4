{
 "cells": [
  {
   "cell_type": "markdown",
   "id": "014ddf26",
   "metadata": {},
   "source": [
    "# Homework 4 - Getting to know your customers\n",
    "\n",
    "## 1. Finding Similar Costumers\n",
    "\n",
    "Companies nowadays are implementing product suggestions to provide users with things they are likely to buy. The process often starts by finding similar behaviours among consumers; for this task, we will focus on this part in the specific.\n",
    "Here you will implement an algorithm to find the most similar match to a consumer given his bank account information. In particular, you will implement your version of the LSH algorithm that takes as input information about a consumer and finds people similar to the one in the study."
   ]
  },
  {
   "cell_type": "markdown",
   "id": "d42411ea",
   "metadata": {},
   "source": [
    "## 1.1 Set up the data\n",
    "\n",
    "For the sake of this first part, not all columns are necessary since comparing each field single handedly can be quite time-expensive. Then, carefully read the linked guide above and try to understand which features will be appropriate for this task (An heads up: some users have more than one transaction record, make sure to handle them all). Once you have finished, project a version of the dataset to work with.\n"
   ]
  },
  {
   "cell_type": "markdown",
   "id": "c78859d6",
   "metadata": {},
   "source": [
    "First of all we use pandas to import the dataset of transaction of a bank in India. The features that could be useful to match similar consumer given the bank accont information are: CustomerID, CustomerDOB (to group by similar ages), CustGender, CustAccountBalance (to group by richness) and TransactionAmount (to group by how much money they use). We are not interested in location (all are in India) and the time of the transaction, but we'll keep transaction date to calculate the age of the person at the year in which the data are taken."
   ]
  },
  {
   "cell_type": "code",
   "execution_count": 140,
   "id": "75292d05",
   "metadata": {},
   "outputs": [],
   "source": [
    "import pandas as pd\n",
    "import numpy as np\n",
    "import matplotlib.pyplot as plt\n",
    "from collections import Counter\n",
    "import warnings\n",
    "warnings.filterwarnings(\"ignore\")"
   ]
  },
  {
   "cell_type": "code",
   "execution_count": 141,
   "id": "10b7e6d7",
   "metadata": {},
   "outputs": [],
   "source": [
    "df = pd.read_csv('/Users/giacomo/Desktop/ADM_HM4/bank_transactions.csv', usecols = ['TransactionID', 'CustomerID', 'CustomerDOB', 'CustGender', 'TransactionDate', 'CustAccountBalance', 'TransactionAmount (INR)'])"
   ]
  },
  {
   "cell_type": "code",
   "execution_count": 142,
   "id": "ebac4ab2",
   "metadata": {},
   "outputs": [
    {
     "data": {
      "text/html": [
       "<div>\n",
       "<style scoped>\n",
       "    .dataframe tbody tr th:only-of-type {\n",
       "        vertical-align: middle;\n",
       "    }\n",
       "\n",
       "    .dataframe tbody tr th {\n",
       "        vertical-align: top;\n",
       "    }\n",
       "\n",
       "    .dataframe thead th {\n",
       "        text-align: right;\n",
       "    }\n",
       "</style>\n",
       "<table border=\"1\" class=\"dataframe\">\n",
       "  <thead>\n",
       "    <tr style=\"text-align: right;\">\n",
       "      <th></th>\n",
       "      <th>TransactionID</th>\n",
       "      <th>CustomerID</th>\n",
       "      <th>CustomerDOB</th>\n",
       "      <th>CustGender</th>\n",
       "      <th>CustAccountBalance</th>\n",
       "      <th>TransactionDate</th>\n",
       "      <th>TransactionAmount (INR)</th>\n",
       "    </tr>\n",
       "  </thead>\n",
       "  <tbody>\n",
       "    <tr>\n",
       "      <th>0</th>\n",
       "      <td>T1</td>\n",
       "      <td>C5841053</td>\n",
       "      <td>10/1/94</td>\n",
       "      <td>F</td>\n",
       "      <td>17819.05</td>\n",
       "      <td>2/8/16</td>\n",
       "      <td>25.0</td>\n",
       "    </tr>\n",
       "    <tr>\n",
       "      <th>1</th>\n",
       "      <td>T2</td>\n",
       "      <td>C2142763</td>\n",
       "      <td>4/4/57</td>\n",
       "      <td>M</td>\n",
       "      <td>2270.69</td>\n",
       "      <td>2/8/16</td>\n",
       "      <td>27999.0</td>\n",
       "    </tr>\n",
       "    <tr>\n",
       "      <th>2</th>\n",
       "      <td>T3</td>\n",
       "      <td>C4417068</td>\n",
       "      <td>26/11/96</td>\n",
       "      <td>F</td>\n",
       "      <td>17874.44</td>\n",
       "      <td>2/8/16</td>\n",
       "      <td>459.0</td>\n",
       "    </tr>\n",
       "    <tr>\n",
       "      <th>3</th>\n",
       "      <td>T4</td>\n",
       "      <td>C5342380</td>\n",
       "      <td>14/9/73</td>\n",
       "      <td>F</td>\n",
       "      <td>866503.21</td>\n",
       "      <td>2/8/16</td>\n",
       "      <td>2060.0</td>\n",
       "    </tr>\n",
       "    <tr>\n",
       "      <th>4</th>\n",
       "      <td>T5</td>\n",
       "      <td>C9031234</td>\n",
       "      <td>24/3/88</td>\n",
       "      <td>F</td>\n",
       "      <td>6714.43</td>\n",
       "      <td>2/8/16</td>\n",
       "      <td>1762.5</td>\n",
       "    </tr>\n",
       "    <tr>\n",
       "      <th>...</th>\n",
       "      <td>...</td>\n",
       "      <td>...</td>\n",
       "      <td>...</td>\n",
       "      <td>...</td>\n",
       "      <td>...</td>\n",
       "      <td>...</td>\n",
       "      <td>...</td>\n",
       "    </tr>\n",
       "    <tr>\n",
       "      <th>1048562</th>\n",
       "      <td>T1048563</td>\n",
       "      <td>C8020229</td>\n",
       "      <td>8/4/90</td>\n",
       "      <td>M</td>\n",
       "      <td>7635.19</td>\n",
       "      <td>18/9/16</td>\n",
       "      <td>799.0</td>\n",
       "    </tr>\n",
       "    <tr>\n",
       "      <th>1048563</th>\n",
       "      <td>T1048564</td>\n",
       "      <td>C6459278</td>\n",
       "      <td>20/2/92</td>\n",
       "      <td>M</td>\n",
       "      <td>27311.42</td>\n",
       "      <td>18/9/16</td>\n",
       "      <td>460.0</td>\n",
       "    </tr>\n",
       "    <tr>\n",
       "      <th>1048564</th>\n",
       "      <td>T1048565</td>\n",
       "      <td>C6412354</td>\n",
       "      <td>18/5/89</td>\n",
       "      <td>M</td>\n",
       "      <td>221757.06</td>\n",
       "      <td>18/9/16</td>\n",
       "      <td>770.0</td>\n",
       "    </tr>\n",
       "    <tr>\n",
       "      <th>1048565</th>\n",
       "      <td>T1048566</td>\n",
       "      <td>C6420483</td>\n",
       "      <td>30/8/78</td>\n",
       "      <td>M</td>\n",
       "      <td>10117.87</td>\n",
       "      <td>18/9/16</td>\n",
       "      <td>1000.0</td>\n",
       "    </tr>\n",
       "    <tr>\n",
       "      <th>1048566</th>\n",
       "      <td>T1048567</td>\n",
       "      <td>C8337524</td>\n",
       "      <td>5/3/84</td>\n",
       "      <td>M</td>\n",
       "      <td>75734.42</td>\n",
       "      <td>18/9/16</td>\n",
       "      <td>1166.0</td>\n",
       "    </tr>\n",
       "  </tbody>\n",
       "</table>\n",
       "<p>1048567 rows × 7 columns</p>\n",
       "</div>"
      ],
      "text/plain": [
       "        TransactionID CustomerID CustomerDOB CustGender  CustAccountBalance  \\\n",
       "0                  T1   C5841053     10/1/94          F            17819.05   \n",
       "1                  T2   C2142763      4/4/57          M             2270.69   \n",
       "2                  T3   C4417068    26/11/96          F            17874.44   \n",
       "3                  T4   C5342380     14/9/73          F           866503.21   \n",
       "4                  T5   C9031234     24/3/88          F             6714.43   \n",
       "...               ...        ...         ...        ...                 ...   \n",
       "1048562      T1048563   C8020229      8/4/90          M             7635.19   \n",
       "1048563      T1048564   C6459278     20/2/92          M            27311.42   \n",
       "1048564      T1048565   C6412354     18/5/89          M           221757.06   \n",
       "1048565      T1048566   C6420483     30/8/78          M            10117.87   \n",
       "1048566      T1048567   C8337524      5/3/84          M            75734.42   \n",
       "\n",
       "        TransactionDate  TransactionAmount (INR)  \n",
       "0                2/8/16                     25.0  \n",
       "1                2/8/16                  27999.0  \n",
       "2                2/8/16                    459.0  \n",
       "3                2/8/16                   2060.0  \n",
       "4                2/8/16                   1762.5  \n",
       "...                 ...                      ...  \n",
       "1048562         18/9/16                    799.0  \n",
       "1048563         18/9/16                    460.0  \n",
       "1048564         18/9/16                    770.0  \n",
       "1048565         18/9/16                   1000.0  \n",
       "1048566         18/9/16                   1166.0  \n",
       "\n",
       "[1048567 rows x 7 columns]"
      ]
     },
     "execution_count": 142,
     "metadata": {},
     "output_type": "execute_result"
    }
   ],
   "source": [
    "df"
   ]
  },
  {
   "cell_type": "markdown",
   "id": "d21e025e",
   "metadata": {},
   "source": [
    "The dataset is composed by 1048567 transactions and 7 features referred to: TransactionID, CustomerID\tCustomerDOB, CustGender, CustAccountBalance, TransactionDate, TransactionAmount (INR). Let's have a look into the missing values:"
   ]
  },
  {
   "cell_type": "code",
   "execution_count": 143,
   "id": "492d22ef",
   "metadata": {},
   "outputs": [
    {
     "data": {
      "text/plain": [
       "TransactionID                 0\n",
       "CustomerID                    0\n",
       "CustomerDOB                3397\n",
       "CustGender                 1100\n",
       "CustAccountBalance         2369\n",
       "TransactionDate               0\n",
       "TransactionAmount (INR)       0\n",
       "dtype: int64"
      ]
     },
     "execution_count": 143,
     "metadata": {},
     "output_type": "execute_result"
    }
   ],
   "source": [
    "df.isna().sum()"
   ]
  },
  {
   "cell_type": "markdown",
   "id": "9d8bacb4",
   "metadata": {},
   "source": [
    "Given that the dataset is composed by 1048567 rows the missing values are a small percentage, so we decide to drop them: "
   ]
  },
  {
   "cell_type": "code",
   "execution_count": 144,
   "id": "fd105344",
   "metadata": {},
   "outputs": [],
   "source": [
    "df = df.dropna()"
   ]
  },
  {
   "cell_type": "code",
   "execution_count": 145,
   "id": "d2b95dbb",
   "metadata": {},
   "outputs": [
    {
     "name": "stdout",
     "output_type": "stream",
     "text": [
      "<class 'pandas.core.frame.DataFrame'>\n",
      "Int64Index: 1041765 entries, 0 to 1048566\n",
      "Data columns (total 7 columns):\n",
      " #   Column                   Non-Null Count    Dtype  \n",
      "---  ------                   --------------    -----  \n",
      " 0   TransactionID            1041765 non-null  object \n",
      " 1   CustomerID               1041765 non-null  object \n",
      " 2   CustomerDOB              1041765 non-null  object \n",
      " 3   CustGender               1041765 non-null  object \n",
      " 4   CustAccountBalance       1041765 non-null  float64\n",
      " 5   TransactionDate          1041765 non-null  object \n",
      " 6   TransactionAmount (INR)  1041765 non-null  float64\n",
      "dtypes: float64(2), object(5)\n",
      "memory usage: 63.6+ MB\n"
     ]
    }
   ],
   "source": [
    "df.info()"
   ]
  },
  {
   "cell_type": "markdown",
   "id": "24c2ff85",
   "metadata": {},
   "source": [
    "Now we decide to convert into datetime the date of birthday of the customers and the date of the transaction:"
   ]
  },
  {
   "cell_type": "code",
   "execution_count": 146,
   "id": "8a10bb48",
   "metadata": {},
   "outputs": [],
   "source": [
    "df['CustomerDOB'] = pd.to_datetime(df['CustomerDOB'])\n",
    "\n",
    "df['TransactionDate'] = pd.to_datetime(df['TransactionDate']) "
   ]
  },
  {
   "cell_type": "code",
   "execution_count": 147,
   "id": "6c7184f3",
   "metadata": {
    "scrolled": true
   },
   "outputs": [
    {
     "data": {
      "text/html": [
       "<div>\n",
       "<style scoped>\n",
       "    .dataframe tbody tr th:only-of-type {\n",
       "        vertical-align: middle;\n",
       "    }\n",
       "\n",
       "    .dataframe tbody tr th {\n",
       "        vertical-align: top;\n",
       "    }\n",
       "\n",
       "    .dataframe thead th {\n",
       "        text-align: right;\n",
       "    }\n",
       "</style>\n",
       "<table border=\"1\" class=\"dataframe\">\n",
       "  <thead>\n",
       "    <tr style=\"text-align: right;\">\n",
       "      <th></th>\n",
       "      <th>TransactionID</th>\n",
       "      <th>CustomerID</th>\n",
       "      <th>CustomerDOB</th>\n",
       "      <th>CustGender</th>\n",
       "      <th>CustAccountBalance</th>\n",
       "      <th>TransactionDate</th>\n",
       "      <th>TransactionAmount (INR)</th>\n",
       "    </tr>\n",
       "  </thead>\n",
       "  <tbody>\n",
       "    <tr>\n",
       "      <th>0</th>\n",
       "      <td>T1</td>\n",
       "      <td>C5841053</td>\n",
       "      <td>1994-10-01</td>\n",
       "      <td>F</td>\n",
       "      <td>17819.05</td>\n",
       "      <td>2016-02-08</td>\n",
       "      <td>25.0</td>\n",
       "    </tr>\n",
       "    <tr>\n",
       "      <th>1</th>\n",
       "      <td>T2</td>\n",
       "      <td>C2142763</td>\n",
       "      <td>2057-04-04</td>\n",
       "      <td>M</td>\n",
       "      <td>2270.69</td>\n",
       "      <td>2016-02-08</td>\n",
       "      <td>27999.0</td>\n",
       "    </tr>\n",
       "    <tr>\n",
       "      <th>2</th>\n",
       "      <td>T3</td>\n",
       "      <td>C4417068</td>\n",
       "      <td>1996-11-26</td>\n",
       "      <td>F</td>\n",
       "      <td>17874.44</td>\n",
       "      <td>2016-02-08</td>\n",
       "      <td>459.0</td>\n",
       "    </tr>\n",
       "    <tr>\n",
       "      <th>3</th>\n",
       "      <td>T4</td>\n",
       "      <td>C5342380</td>\n",
       "      <td>1973-09-14</td>\n",
       "      <td>F</td>\n",
       "      <td>866503.21</td>\n",
       "      <td>2016-02-08</td>\n",
       "      <td>2060.0</td>\n",
       "    </tr>\n",
       "    <tr>\n",
       "      <th>4</th>\n",
       "      <td>T5</td>\n",
       "      <td>C9031234</td>\n",
       "      <td>1988-03-24</td>\n",
       "      <td>F</td>\n",
       "      <td>6714.43</td>\n",
       "      <td>2016-02-08</td>\n",
       "      <td>1762.5</td>\n",
       "    </tr>\n",
       "    <tr>\n",
       "      <th>...</th>\n",
       "      <td>...</td>\n",
       "      <td>...</td>\n",
       "      <td>...</td>\n",
       "      <td>...</td>\n",
       "      <td>...</td>\n",
       "      <td>...</td>\n",
       "      <td>...</td>\n",
       "    </tr>\n",
       "    <tr>\n",
       "      <th>1048562</th>\n",
       "      <td>T1048563</td>\n",
       "      <td>C8020229</td>\n",
       "      <td>1990-08-04</td>\n",
       "      <td>M</td>\n",
       "      <td>7635.19</td>\n",
       "      <td>2016-09-18</td>\n",
       "      <td>799.0</td>\n",
       "    </tr>\n",
       "    <tr>\n",
       "      <th>1048563</th>\n",
       "      <td>T1048564</td>\n",
       "      <td>C6459278</td>\n",
       "      <td>1992-02-20</td>\n",
       "      <td>M</td>\n",
       "      <td>27311.42</td>\n",
       "      <td>2016-09-18</td>\n",
       "      <td>460.0</td>\n",
       "    </tr>\n",
       "    <tr>\n",
       "      <th>1048564</th>\n",
       "      <td>T1048565</td>\n",
       "      <td>C6412354</td>\n",
       "      <td>1989-05-18</td>\n",
       "      <td>M</td>\n",
       "      <td>221757.06</td>\n",
       "      <td>2016-09-18</td>\n",
       "      <td>770.0</td>\n",
       "    </tr>\n",
       "    <tr>\n",
       "      <th>1048565</th>\n",
       "      <td>T1048566</td>\n",
       "      <td>C6420483</td>\n",
       "      <td>1978-08-30</td>\n",
       "      <td>M</td>\n",
       "      <td>10117.87</td>\n",
       "      <td>2016-09-18</td>\n",
       "      <td>1000.0</td>\n",
       "    </tr>\n",
       "    <tr>\n",
       "      <th>1048566</th>\n",
       "      <td>T1048567</td>\n",
       "      <td>C8337524</td>\n",
       "      <td>1984-05-03</td>\n",
       "      <td>M</td>\n",
       "      <td>75734.42</td>\n",
       "      <td>2016-09-18</td>\n",
       "      <td>1166.0</td>\n",
       "    </tr>\n",
       "  </tbody>\n",
       "</table>\n",
       "<p>1041765 rows × 7 columns</p>\n",
       "</div>"
      ],
      "text/plain": [
       "        TransactionID CustomerID CustomerDOB CustGender  CustAccountBalance  \\\n",
       "0                  T1   C5841053  1994-10-01          F            17819.05   \n",
       "1                  T2   C2142763  2057-04-04          M             2270.69   \n",
       "2                  T3   C4417068  1996-11-26          F            17874.44   \n",
       "3                  T4   C5342380  1973-09-14          F           866503.21   \n",
       "4                  T5   C9031234  1988-03-24          F             6714.43   \n",
       "...               ...        ...         ...        ...                 ...   \n",
       "1048562      T1048563   C8020229  1990-08-04          M             7635.19   \n",
       "1048563      T1048564   C6459278  1992-02-20          M            27311.42   \n",
       "1048564      T1048565   C6412354  1989-05-18          M           221757.06   \n",
       "1048565      T1048566   C6420483  1978-08-30          M            10117.87   \n",
       "1048566      T1048567   C8337524  1984-05-03          M            75734.42   \n",
       "\n",
       "        TransactionDate  TransactionAmount (INR)  \n",
       "0            2016-02-08                     25.0  \n",
       "1            2016-02-08                  27999.0  \n",
       "2            2016-02-08                    459.0  \n",
       "3            2016-02-08                   2060.0  \n",
       "4            2016-02-08                   1762.5  \n",
       "...                 ...                      ...  \n",
       "1048562      2016-09-18                    799.0  \n",
       "1048563      2016-09-18                    460.0  \n",
       "1048564      2016-09-18                    770.0  \n",
       "1048565      2016-09-18                   1000.0  \n",
       "1048566      2016-09-18                   1166.0  \n",
       "\n",
       "[1041765 rows x 7 columns]"
      ]
     },
     "execution_count": 147,
     "metadata": {},
     "output_type": "execute_result"
    }
   ],
   "source": [
    "df"
   ]
  },
  {
   "cell_type": "code",
   "execution_count": 149,
   "id": "bf27009b",
   "metadata": {},
   "outputs": [
    {
     "data": {
      "text/plain": [
       "2016    1041765\n",
       "Name: TransactionDate, dtype: int64"
      ]
     },
     "execution_count": 149,
     "metadata": {},
     "output_type": "execute_result"
    }
   ],
   "source": [
    "df['TransactionDate'].dt.year.value_counts()"
   ]
  },
  {
   "cell_type": "markdown",
   "id": "2e236bee",
   "metadata": {},
   "source": [
    "All the data are taken in 2016, so we'll use this year to calculate the ages."
   ]
  },
  {
   "cell_type": "markdown",
   "id": "0d4d18cd",
   "metadata": {},
   "source": [
    "Going through the Date of Birthday we can see that there is something strange: there are dates of birthday referred to 1800, probably cause it is a default value when this data is missing, and a right tail that seems to be a part of the right graph with an offset: "
   ]
  },
  {
   "cell_type": "code",
   "execution_count": 150,
   "id": "6c936874",
   "metadata": {},
   "outputs": [
    {
     "data": {
      "text/plain": [
       "<BarContainer object of 100 artists>"
      ]
     },
     "execution_count": 150,
     "metadata": {},
     "output_type": "execute_result"
    },
    {
     "data": {
      "image/png": "[encoded data removed]",
      "text/plain": [
       "<Figure size 432x288 with 1 Axes>"
      ]
     },
     "metadata": {
      "needs_background": "light"
     },
     "output_type": "display_data"
    }
   ],
   "source": [
    "count = Counter(df['CustomerDOB'].dt.year)\n",
    "\n",
    "plt.bar(count.keys(), count.values(), label = 'year')"
   ]
  },
  {
   "cell_type": "markdown",
   "id": "7450cbe7",
   "metadata": {},
   "source": [
    "We decide to drop data related to years 1800 and rearrange the data after year 2000: "
   ]
  },
  {
   "cell_type": "code",
   "execution_count": 151,
   "id": "2738d85b",
   "metadata": {},
   "outputs": [
    {
     "data": {
      "text/plain": [
       "<BarContainer object of 99 artists>"
      ]
     },
     "execution_count": 151,
     "metadata": {},
     "output_type": "execute_result"
    },
    {
     "data": {
      "image/png": "[encoded data removed]",
      "text/plain": [
       "<Figure size 432x288 with 1 Axes>"
      ]
     },
     "metadata": {
      "needs_background": "light"
     },
     "output_type": "display_data"
    }
   ],
   "source": [
    "df.loc[df.CustomerDOB.dt.year > 2000, 'CustomerDOB'] = df.loc[df.CustomerDOB.dt.year > 2000, 'CustomerDOB'] - pd.DateOffset(years = 100)\n",
    "\n",
    "df.drop(df[df.CustomerDOB.dt.year == 1800].index, axis=0, inplace=True)\n",
    "\n",
    "count = Counter(df['CustomerDOB'].dt.year)\n",
    "\n",
    "plt.bar(count.keys(), count.values(), label = 'year')"
   ]
  },
  {
   "cell_type": "markdown",
   "id": "f190d333",
   "metadata": {},
   "source": [
    "Now we can create a 'CustomerAge' column: "
   ]
  },
  {
   "cell_type": "code",
   "execution_count": 153,
   "id": "185ca199",
   "metadata": {},
   "outputs": [],
   "source": [
    "df['CustomerAge'] = (df['TransactionDate'].dt.year - df['CustomerDOB'].dt.year)"
   ]
  },
  {
   "cell_type": "code",
   "execution_count": 154,
   "id": "01a9530f",
   "metadata": {},
   "outputs": [
    {
     "data": {
      "text/plain": [
       "<BarContainer object of 99 artists>"
      ]
     },
     "execution_count": 154,
     "metadata": {},
     "output_type": "execute_result"
    },
    {
     "data": {
      "image/png": "[encoded data removed]",
      "text/plain": [
       "<Figure size 432x288 with 1 Axes>"
      ]
     },
     "metadata": {
      "needs_background": "light"
     },
     "output_type": "display_data"
    }
   ],
   "source": [
    "count = Counter(df['CustomerAge'])\n",
    "\n",
    "plt.bar(count.keys(), count.values(), label = 'year')"
   ]
  },
  {
   "cell_type": "markdown",
   "id": "b32f38ea",
   "metadata": {},
   "source": [
    "Exploring the ages at the edges we can see that: "
   ]
  },
  {
   "cell_type": "code",
   "execution_count": 155,
   "id": "2eb5a420",
   "metadata": {},
   "outputs": [
    {
     "data": {
      "text/plain": [
       "16"
      ]
     },
     "execution_count": 155,
     "metadata": {},
     "output_type": "execute_result"
    }
   ],
   "source": [
    "df['CustomerAge'].min()"
   ]
  },
  {
   "cell_type": "code",
   "execution_count": 156,
   "id": "66623723",
   "metadata": {},
   "outputs": [
    {
     "data": {
      "text/plain": [
       "115"
      ]
     },
     "execution_count": 156,
     "metadata": {},
     "output_type": "execute_result"
    }
   ],
   "source": [
    "df['CustomerAge'].max()"
   ]
  },
  {
   "cell_type": "markdown",
   "id": "850d1caa",
   "metadata": {},
   "source": [
    "Considering that the oldest person ever in India was Lucy d'Abreu who lived 113 years and 197 days (ref: Wikipedia) it seems a good choice to drop all the ages over 100 years."
   ]
  },
  {
   "cell_type": "code",
   "execution_count": 158,
   "id": "a2b465bd",
   "metadata": {},
   "outputs": [],
   "source": [
    "df.drop(df[df.CustomerAge > 100].index, axis=0, inplace=True)"
   ]
  },
  {
   "cell_type": "code",
   "execution_count": 159,
   "id": "d6faa6d3",
   "metadata": {},
   "outputs": [
    {
     "data": {
      "text/plain": [
       "<BarContainer object of 84 artists>"
      ]
     },
     "execution_count": 159,
     "metadata": {},
     "output_type": "execute_result"
    },
    {
     "data": {
      "image/png": "[encoded data removed]",
      "text/plain": [
       "<Figure size 432x288 with 1 Axes>"
      ]
     },
     "metadata": {
      "needs_background": "light"
     },
     "output_type": "display_data"
    }
   ],
   "source": [
    "count = Counter(df['CustomerAge'])\n",
    "\n",
    "plt.bar(count.keys(), count.values(), label = 'year')"
   ]
  },
  {
   "cell_type": "markdown",
   "id": "b53922e0",
   "metadata": {},
   "source": [
    "Everythings looks fine now, so we can drop the columns referred to the TransactionDate and CustomerDOB.  "
   ]
  },
  {
   "cell_type": "code",
   "execution_count": 160,
   "id": "fe398cc8",
   "metadata": {},
   "outputs": [],
   "source": [
    "del df['CustomerDOB'], df['TransactionDate'] "
   ]
  },
  {
   "cell_type": "code",
   "execution_count": 161,
   "id": "1098de24",
   "metadata": {},
   "outputs": [
    {
     "data": {
      "text/html": [
       "<div>\n",
       "<style scoped>\n",
       "    .dataframe tbody tr th:only-of-type {\n",
       "        vertical-align: middle;\n",
       "    }\n",
       "\n",
       "    .dataframe tbody tr th {\n",
       "        vertical-align: top;\n",
       "    }\n",
       "\n",
       "    .dataframe thead th {\n",
       "        text-align: right;\n",
       "    }\n",
       "</style>\n",
       "<table border=\"1\" class=\"dataframe\">\n",
       "  <thead>\n",
       "    <tr style=\"text-align: right;\">\n",
       "      <th></th>\n",
       "      <th>TransactionID</th>\n",
       "      <th>CustomerID</th>\n",
       "      <th>CustGender</th>\n",
       "      <th>CustAccountBalance</th>\n",
       "      <th>TransactionAmount (INR)</th>\n",
       "      <th>CustomerAge</th>\n",
       "    </tr>\n",
       "  </thead>\n",
       "  <tbody>\n",
       "    <tr>\n",
       "      <th>0</th>\n",
       "      <td>T1</td>\n",
       "      <td>C5841053</td>\n",
       "      <td>F</td>\n",
       "      <td>17819.05</td>\n",
       "      <td>25.0</td>\n",
       "      <td>22</td>\n",
       "    </tr>\n",
       "    <tr>\n",
       "      <th>1</th>\n",
       "      <td>T2</td>\n",
       "      <td>C2142763</td>\n",
       "      <td>M</td>\n",
       "      <td>2270.69</td>\n",
       "      <td>27999.0</td>\n",
       "      <td>59</td>\n",
       "    </tr>\n",
       "    <tr>\n",
       "      <th>2</th>\n",
       "      <td>T3</td>\n",
       "      <td>C4417068</td>\n",
       "      <td>F</td>\n",
       "      <td>17874.44</td>\n",
       "      <td>459.0</td>\n",
       "      <td>20</td>\n",
       "    </tr>\n",
       "    <tr>\n",
       "      <th>3</th>\n",
       "      <td>T4</td>\n",
       "      <td>C5342380</td>\n",
       "      <td>F</td>\n",
       "      <td>866503.21</td>\n",
       "      <td>2060.0</td>\n",
       "      <td>43</td>\n",
       "    </tr>\n",
       "    <tr>\n",
       "      <th>4</th>\n",
       "      <td>T5</td>\n",
       "      <td>C9031234</td>\n",
       "      <td>F</td>\n",
       "      <td>6714.43</td>\n",
       "      <td>1762.5</td>\n",
       "      <td>28</td>\n",
       "    </tr>\n",
       "    <tr>\n",
       "      <th>...</th>\n",
       "      <td>...</td>\n",
       "      <td>...</td>\n",
       "      <td>...</td>\n",
       "      <td>...</td>\n",
       "      <td>...</td>\n",
       "      <td>...</td>\n",
       "    </tr>\n",
       "    <tr>\n",
       "      <th>1048562</th>\n",
       "      <td>T1048563</td>\n",
       "      <td>C8020229</td>\n",
       "      <td>M</td>\n",
       "      <td>7635.19</td>\n",
       "      <td>799.0</td>\n",
       "      <td>26</td>\n",
       "    </tr>\n",
       "    <tr>\n",
       "      <th>1048563</th>\n",
       "      <td>T1048564</td>\n",
       "      <td>C6459278</td>\n",
       "      <td>M</td>\n",
       "      <td>27311.42</td>\n",
       "      <td>460.0</td>\n",
       "      <td>24</td>\n",
       "    </tr>\n",
       "    <tr>\n",
       "      <th>1048564</th>\n",
       "      <td>T1048565</td>\n",
       "      <td>C6412354</td>\n",
       "      <td>M</td>\n",
       "      <td>221757.06</td>\n",
       "      <td>770.0</td>\n",
       "      <td>27</td>\n",
       "    </tr>\n",
       "    <tr>\n",
       "      <th>1048565</th>\n",
       "      <td>T1048566</td>\n",
       "      <td>C6420483</td>\n",
       "      <td>M</td>\n",
       "      <td>10117.87</td>\n",
       "      <td>1000.0</td>\n",
       "      <td>38</td>\n",
       "    </tr>\n",
       "    <tr>\n",
       "      <th>1048566</th>\n",
       "      <td>T1048567</td>\n",
       "      <td>C8337524</td>\n",
       "      <td>M</td>\n",
       "      <td>75734.42</td>\n",
       "      <td>1166.0</td>\n",
       "      <td>32</td>\n",
       "    </tr>\n",
       "  </tbody>\n",
       "</table>\n",
       "<p>984853 rows × 6 columns</p>\n",
       "</div>"
      ],
      "text/plain": [
       "        TransactionID CustomerID CustGender  CustAccountBalance  \\\n",
       "0                  T1   C5841053          F            17819.05   \n",
       "1                  T2   C2142763          M             2270.69   \n",
       "2                  T3   C4417068          F            17874.44   \n",
       "3                  T4   C5342380          F           866503.21   \n",
       "4                  T5   C9031234          F             6714.43   \n",
       "...               ...        ...        ...                 ...   \n",
       "1048562      T1048563   C8020229          M             7635.19   \n",
       "1048563      T1048564   C6459278          M            27311.42   \n",
       "1048564      T1048565   C6412354          M           221757.06   \n",
       "1048565      T1048566   C6420483          M            10117.87   \n",
       "1048566      T1048567   C8337524          M            75734.42   \n",
       "\n",
       "         TransactionAmount (INR)  CustomerAge  \n",
       "0                           25.0           22  \n",
       "1                        27999.0           59  \n",
       "2                          459.0           20  \n",
       "3                         2060.0           43  \n",
       "4                         1762.5           28  \n",
       "...                          ...          ...  \n",
       "1048562                    799.0           26  \n",
       "1048563                    460.0           24  \n",
       "1048564                    770.0           27  \n",
       "1048565                   1000.0           38  \n",
       "1048566                   1166.0           32  \n",
       "\n",
       "[984853 rows x 6 columns]"
      ]
     },
     "execution_count": 161,
     "metadata": {},
     "output_type": "execute_result"
    }
   ],
   "source": [
    "df"
   ]
  },
  {
   "cell_type": "code",
   "execution_count": null,
   "id": "8e3db1df",
   "metadata": {},
   "outputs": [],
   "source": []
  },
  {
   "cell_type": "markdown",
   "id": "98637e1e",
   "metadata": {},
   "source": [
    "We cast transaction amount and account balance to int: "
   ]
  },
  {
   "cell_type": "code",
   "execution_count": 42,
   "id": "2f35bddc",
   "metadata": {},
   "outputs": [],
   "source": [
    "df['TransactionAmount (INR)'] = df['TransactionAmount (INR)'].astype(int)\n",
    "\n",
    "df['CustAccountBalance'] = df['CustAccountBalance'].astype(int)"
   ]
  },
  {
   "cell_type": "code",
   "execution_count": 43,
   "id": "ef352b9d",
   "metadata": {},
   "outputs": [
    {
     "name": "stdout",
     "output_type": "stream",
     "text": [
      "<class 'pandas.core.frame.DataFrame'>\n",
      "Int64Index: 1041765 entries, 0 to 1048566\n",
      "Data columns (total 6 columns):\n",
      " #   Column                   Non-Null Count    Dtype         \n",
      "---  ------                   --------------    -----         \n",
      " 0   TransactionID            1041765 non-null  object        \n",
      " 1   CustomerID               1041765 non-null  object        \n",
      " 2   CustomerDOB              1041765 non-null  datetime64[ns]\n",
      " 3   CustGender               1041765 non-null  object        \n",
      " 4   CustAccountBalance       1041765 non-null  int64         \n",
      " 5   TransactionAmount (INR)  1041765 non-null  int64         \n",
      "dtypes: datetime64[ns](1), int64(2), object(3)\n",
      "memory usage: 55.6+ MB\n"
     ]
    }
   ],
   "source": [
    "df.info()"
   ]
  },
  {
   "cell_type": "code",
   "execution_count": null,
   "id": "92a1a980",
   "metadata": {},
   "outputs": [],
   "source": []
  },
  {
   "cell_type": "markdown",
   "id": "288c93d4",
   "metadata": {},
   "source": [
    "## 1.2 Fingerprint hashing\n",
    "Using the previously selected data with the features you found pertinent, you have to:\n",
    "\n",
    "1. Implement your minhash function from scratch. No ready-made hash functions are allowed. Read the class material and search the internet if you need to. For reference, it may be practical to look at the description of hash functions in the book.\n",
    "\n",
    "2. Process the dataset and add each record to the MinHash. The subtask's goal is to try and map each consumer to its bin; to ensure this works well, be sure you understand how MinHash works and choose a matching threshold to use. Before moving on, experiment with different thresholds, explaining your choice."
   ]
  },
  {
   "cell_type": "code",
   "execution_count": null,
   "id": "312cc8f4",
   "metadata": {},
   "outputs": [],
   "source": []
  },
  {
   "cell_type": "markdown",
   "id": "357c769c",
   "metadata": {},
   "source": [
    "## 1.3 Locality Sensitive Hashing\n",
    "Now that you prepared your algorithm, it's query time!\n",
    "We have prepared some dummy users for you to work with.\n",
    "\n",
    "Download this csv and report the most similar users (comparing them against the dataset provided in Kaggle).\n",
    "Did your hashing method work properly, what scores have you obtained and how long did it take to run? Provide information and analysis about the results."
   ]
  }
 ],
 "metadata": {
  "kernelspec": {
   "display_name": "Python 3 (ipykernel)",
   "language": "python",
   "name": "python3"
  },
  "language_info": {
   "codemirror_mode": {
    "name": "ipython",
    "version": 3
   },
   "file_extension": ".py",
   "mimetype": "text/x-python",
   "name": "python",
   "nbconvert_exporter": "python",
   "pygments_lexer": "ipython3",
   "version": "3.9.12"
  }
 },
 "nbformat": 4,
 "nbformat_minor": 5
}
