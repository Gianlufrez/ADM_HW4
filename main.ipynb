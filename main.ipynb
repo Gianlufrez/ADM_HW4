{
 "cells": [
  {
   "cell_type": "markdown",
   "id": "b687b2f4",
   "metadata": {},
   "source": [
    "# Homework 4 - Group 20. Getting to know your customers\n",
    "\n",
    "Group members:\n",
    "* Giacomo Vittori\n",
    "* Gianluca Frezza\n",
    "* Jonas Barth\n",
    "\n",
    "# Index\n",
    "\n",
    "- [Finding Similar Customers](#1.-Finding-Similar-Costumers)\n",
    "    - [Set up the data](#1.1-Set-up-the-data)\n",
    "    - [Fingerprint Hashing](#1.2-Fingerprint-hashing)\n",
    "    - [Locality Sensitive Hashing](#1.3-Locality-Sensitive-Hashing)\n",
    "\n",
    "## 1. Finding Similar Costumers\n",
    "\n",
    "Companies nowadays are implementing product suggestions to provide users with things they are likely to buy. The process often starts by finding similar behaviours among consumers; for this task, we will focus on this part in the specific.\n",
    "Here you will implement an algorithm to find the most similar match to a consumer given his bank account information. In particular, you will implement your version of the LSH algorithm that takes as input information about a consumer and finds people similar to the one in the study.\n",
    "\n",
    "## 1.1 Set up the data"
   ]
  },
  {
   "cell_type": "markdown",
   "id": "9ec219e4",
   "metadata": {},
   "source": [
    "First of all we used pandas to import the dataset of transaction of a bank in India. The features that could be useful to match similar consumer given the bank accont information are: CustomerID, CustomerDOB (to group by similar ages), CustGender, CustAccountBalance (to group by richness) and TransactionAmount (to group by how much money they use). We didn't use the location in which the customer do the transaction and the time of it, but we'll keep the date to calculate the age."
   ]
  },
  {
   "cell_type": "code",
   "execution_count": 1,
   "id": "f846e887",
   "metadata": {},
   "outputs": [],
   "source": [
    "import pandas as pd\n",
    "import numpy as np\n",
    "import matplotlib.pyplot as plt\n",
    "from collections import Counter\n",
    "from tqdm import tqdm as tq\n",
    "from math import sqrt\n",
    "import seaborn as sn\n",
    "from statistics import mean\n",
    "import warnings\n",
    "warnings.filterwarnings(\"ignore\")"
   ]
  },
  {
   "cell_type": "code",
   "execution_count": 130,
   "id": "162773eb",
   "metadata": {},
   "outputs": [],
   "source": [
    "df = pd.read_csv('/Users/giacomo/Desktop/locale/bank_transactions.csv', usecols = ['TransactionID', 'CustomerID', 'CustomerDOB', 'CustGender', 'TransactionDate', 'CustAccountBalance', 'TransactionAmount (INR)'])"
   ]
  },
  {
   "cell_type": "code",
   "execution_count": 3,
   "id": "c1f2ea23",
   "metadata": {},
   "outputs": [
    {
     "data": {
      "text/html": [
       "<div>\n",
       "<style scoped>\n",
       "    .dataframe tbody tr th:only-of-type {\n",
       "        vertical-align: middle;\n",
       "    }\n",
       "\n",
       "    .dataframe tbody tr th {\n",
       "        vertical-align: top;\n",
       "    }\n",
       "\n",
       "    .dataframe thead th {\n",
       "        text-align: right;\n",
       "    }\n",
       "</style>\n",
       "<table border=\"1\" class=\"dataframe\">\n",
       "  <thead>\n",
       "    <tr style=\"text-align: right;\">\n",
       "      <th></th>\n",
       "      <th>TransactionID</th>\n",
       "      <th>CustomerID</th>\n",
       "      <th>CustomerDOB</th>\n",
       "      <th>CustGender</th>\n",
       "      <th>CustAccountBalance</th>\n",
       "      <th>TransactionDate</th>\n",
       "      <th>TransactionAmount (INR)</th>\n",
       "    </tr>\n",
       "  </thead>\n",
       "  <tbody>\n",
       "    <tr>\n",
       "      <th>0</th>\n",
       "      <td>T1</td>\n",
       "      <td>C5841053</td>\n",
       "      <td>10/1/94</td>\n",
       "      <td>F</td>\n",
       "      <td>17819.05</td>\n",
       "      <td>2/8/16</td>\n",
       "      <td>25.0</td>\n",
       "    </tr>\n",
       "    <tr>\n",
       "      <th>1</th>\n",
       "      <td>T2</td>\n",
       "      <td>C2142763</td>\n",
       "      <td>4/4/57</td>\n",
       "      <td>M</td>\n",
       "      <td>2270.69</td>\n",
       "      <td>2/8/16</td>\n",
       "      <td>27999.0</td>\n",
       "    </tr>\n",
       "    <tr>\n",
       "      <th>2</th>\n",
       "      <td>T3</td>\n",
       "      <td>C4417068</td>\n",
       "      <td>26/11/96</td>\n",
       "      <td>F</td>\n",
       "      <td>17874.44</td>\n",
       "      <td>2/8/16</td>\n",
       "      <td>459.0</td>\n",
       "    </tr>\n",
       "    <tr>\n",
       "      <th>3</th>\n",
       "      <td>T4</td>\n",
       "      <td>C5342380</td>\n",
       "      <td>14/9/73</td>\n",
       "      <td>F</td>\n",
       "      <td>866503.21</td>\n",
       "      <td>2/8/16</td>\n",
       "      <td>2060.0</td>\n",
       "    </tr>\n",
       "    <tr>\n",
       "      <th>4</th>\n",
       "      <td>T5</td>\n",
       "      <td>C9031234</td>\n",
       "      <td>24/3/88</td>\n",
       "      <td>F</td>\n",
       "      <td>6714.43</td>\n",
       "      <td>2/8/16</td>\n",
       "      <td>1762.5</td>\n",
       "    </tr>\n",
       "    <tr>\n",
       "      <th>...</th>\n",
       "      <td>...</td>\n",
       "      <td>...</td>\n",
       "      <td>...</td>\n",
       "      <td>...</td>\n",
       "      <td>...</td>\n",
       "      <td>...</td>\n",
       "      <td>...</td>\n",
       "    </tr>\n",
       "    <tr>\n",
       "      <th>1048562</th>\n",
       "      <td>T1048563</td>\n",
       "      <td>C8020229</td>\n",
       "      <td>8/4/90</td>\n",
       "      <td>M</td>\n",
       "      <td>7635.19</td>\n",
       "      <td>18/9/16</td>\n",
       "      <td>799.0</td>\n",
       "    </tr>\n",
       "    <tr>\n",
       "      <th>1048563</th>\n",
       "      <td>T1048564</td>\n",
       "      <td>C6459278</td>\n",
       "      <td>20/2/92</td>\n",
       "      <td>M</td>\n",
       "      <td>27311.42</td>\n",
       "      <td>18/9/16</td>\n",
       "      <td>460.0</td>\n",
       "    </tr>\n",
       "    <tr>\n",
       "      <th>1048564</th>\n",
       "      <td>T1048565</td>\n",
       "      <td>C6412354</td>\n",
       "      <td>18/5/89</td>\n",
       "      <td>M</td>\n",
       "      <td>221757.06</td>\n",
       "      <td>18/9/16</td>\n",
       "      <td>770.0</td>\n",
       "    </tr>\n",
       "    <tr>\n",
       "      <th>1048565</th>\n",
       "      <td>T1048566</td>\n",
       "      <td>C6420483</td>\n",
       "      <td>30/8/78</td>\n",
       "      <td>M</td>\n",
       "      <td>10117.87</td>\n",
       "      <td>18/9/16</td>\n",
       "      <td>1000.0</td>\n",
       "    </tr>\n",
       "    <tr>\n",
       "      <th>1048566</th>\n",
       "      <td>T1048567</td>\n",
       "      <td>C8337524</td>\n",
       "      <td>5/3/84</td>\n",
       "      <td>M</td>\n",
       "      <td>75734.42</td>\n",
       "      <td>18/9/16</td>\n",
       "      <td>1166.0</td>\n",
       "    </tr>\n",
       "  </tbody>\n",
       "</table>\n",
       "<p>1048567 rows × 7 columns</p>\n",
       "</div>"
      ],
      "text/plain": [
       "        TransactionID CustomerID CustomerDOB CustGender  CustAccountBalance  \\\n",
       "0                  T1   C5841053     10/1/94          F            17819.05   \n",
       "1                  T2   C2142763      4/4/57          M             2270.69   \n",
       "2                  T3   C4417068    26/11/96          F            17874.44   \n",
       "3                  T4   C5342380     14/9/73          F           866503.21   \n",
       "4                  T5   C9031234     24/3/88          F             6714.43   \n",
       "...               ...        ...         ...        ...                 ...   \n",
       "1048562      T1048563   C8020229      8/4/90          M             7635.19   \n",
       "1048563      T1048564   C6459278     20/2/92          M            27311.42   \n",
       "1048564      T1048565   C6412354     18/5/89          M           221757.06   \n",
       "1048565      T1048566   C6420483     30/8/78          M            10117.87   \n",
       "1048566      T1048567   C8337524      5/3/84          M            75734.42   \n",
       "\n",
       "        TransactionDate  TransactionAmount (INR)  \n",
       "0                2/8/16                     25.0  \n",
       "1                2/8/16                  27999.0  \n",
       "2                2/8/16                    459.0  \n",
       "3                2/8/16                   2060.0  \n",
       "4                2/8/16                   1762.5  \n",
       "...                 ...                      ...  \n",
       "1048562         18/9/16                    799.0  \n",
       "1048563         18/9/16                    460.0  \n",
       "1048564         18/9/16                    770.0  \n",
       "1048565         18/9/16                   1000.0  \n",
       "1048566         18/9/16                   1166.0  \n",
       "\n",
       "[1048567 rows x 7 columns]"
      ]
     },
     "execution_count": 3,
     "metadata": {},
     "output_type": "execute_result"
    }
   ],
   "source": [
    "df.copy()"
   ]
  },
  {
   "cell_type": "markdown",
   "id": "96f94b29",
   "metadata": {},
   "source": [
    "The dataset is composed by 1048567 transactions and 7 features referred to: TransactionID, CustomerID\tCustomerDOB, CustGender, CustAccountBalance, TransactionDate, TransactionAmount (INR). Let's have a look into the missing values:"
   ]
  },
  {
   "cell_type": "code",
   "execution_count": 4,
   "id": "7d7b83fe",
   "metadata": {},
   "outputs": [
    {
     "data": {
      "text/plain": [
       "TransactionID                 0\n",
       "CustomerID                    0\n",
       "CustomerDOB                3397\n",
       "CustGender                 1100\n",
       "CustAccountBalance         2369\n",
       "TransactionDate               0\n",
       "TransactionAmount (INR)       0\n",
       "dtype: int64"
      ]
     },
     "execution_count": 4,
     "metadata": {},
     "output_type": "execute_result"
    }
   ],
   "source": [
    "df.isna().sum()"
   ]
  },
  {
   "cell_type": "markdown",
   "id": "22bcb4c8",
   "metadata": {},
   "source": [
    "Given that the dataset is composed by 1048567 rows the missing values are a small percentage, so we decide to drop them: "
   ]
  },
  {
   "cell_type": "code",
   "execution_count": 5,
   "id": "8395d010",
   "metadata": {},
   "outputs": [],
   "source": [
    "df = df.dropna()"
   ]
  },
  {
   "cell_type": "code",
   "execution_count": 6,
   "id": "3fe9aa5a",
   "metadata": {},
   "outputs": [
    {
     "name": "stdout",
     "output_type": "stream",
     "text": [
      "<class 'pandas.core.frame.DataFrame'>\n",
      "Int64Index: 1041765 entries, 0 to 1048566\n",
      "Data columns (total 7 columns):\n",
      " #   Column                   Non-Null Count    Dtype  \n",
      "---  ------                   --------------    -----  \n",
      " 0   TransactionID            1041765 non-null  object \n",
      " 1   CustomerID               1041765 non-null  object \n",
      " 2   CustomerDOB              1041765 non-null  object \n",
      " 3   CustGender               1041765 non-null  object \n",
      " 4   CustAccountBalance       1041765 non-null  float64\n",
      " 5   TransactionDate          1041765 non-null  object \n",
      " 6   TransactionAmount (INR)  1041765 non-null  float64\n",
      "dtypes: float64(2), object(5)\n",
      "memory usage: 63.6+ MB\n"
     ]
    }
   ],
   "source": [
    "df.info()"
   ]
  },
  {
   "cell_type": "markdown",
   "id": "baba0682",
   "metadata": {},
   "source": [
    "# 1.1.1 Cust Gender\n",
    "\n",
    "We started exploring the Gender of the customers:"
   ]
  },
  {
   "cell_type": "code",
   "execution_count": 7,
   "id": "30e8f4be",
   "metadata": {},
   "outputs": [
    {
     "data": {
      "text/plain": [
       "str"
      ]
     },
     "execution_count": 7,
     "metadata": {},
     "output_type": "execute_result"
    }
   ],
   "source": [
    "type(df['CustGender'][0])"
   ]
  },
  {
   "cell_type": "code",
   "execution_count": 8,
   "id": "bec0ece0",
   "metadata": {},
   "outputs": [
    {
     "data": {
      "text/plain": [
       "M    761098\n",
       "F    280666\n",
       "T         1\n",
       "Name: CustGender, dtype: int64"
      ]
     },
     "execution_count": 8,
     "metadata": {},
     "output_type": "execute_result"
    }
   ],
   "source": [
    "df['CustGender'].value_counts()"
   ]
  },
  {
   "cell_type": "code",
   "execution_count": 9,
   "id": "3b0fa2e6",
   "metadata": {},
   "outputs": [
    {
     "data": {
      "image/png": "[encoded data removed]",
      "text/plain": [
       "<Figure size 432x288 with 1 Axes>"
      ]
     },
     "metadata": {},
     "output_type": "display_data"
    }
   ],
   "source": [
    "df['CustGender'].value_counts().plot(kind='pie', autopct='%.2f')\n",
    "\n",
    "plt.legend()\n",
    " \n",
    "plt.show()"
   ]
  },
  {
   "cell_type": "markdown",
   "id": "0ce61399",
   "metadata": {},
   "source": [
    "We noticed that there is a 'T' classified gender in the dataset: "
   ]
  },
  {
   "cell_type": "code",
   "execution_count": 10,
   "id": "d31b39f1",
   "metadata": {},
   "outputs": [
    {
     "data": {
      "text/html": [
       "<div>\n",
       "<style scoped>\n",
       "    .dataframe tbody tr th:only-of-type {\n",
       "        vertical-align: middle;\n",
       "    }\n",
       "\n",
       "    .dataframe tbody tr th {\n",
       "        vertical-align: top;\n",
       "    }\n",
       "\n",
       "    .dataframe thead th {\n",
       "        text-align: right;\n",
       "    }\n",
       "</style>\n",
       "<table border=\"1\" class=\"dataframe\">\n",
       "  <thead>\n",
       "    <tr style=\"text-align: right;\">\n",
       "      <th></th>\n",
       "      <th>TransactionID</th>\n",
       "      <th>CustomerID</th>\n",
       "      <th>CustomerDOB</th>\n",
       "      <th>CustGender</th>\n",
       "      <th>CustAccountBalance</th>\n",
       "      <th>TransactionDate</th>\n",
       "      <th>TransactionAmount (INR)</th>\n",
       "    </tr>\n",
       "  </thead>\n",
       "  <tbody>\n",
       "    <tr>\n",
       "      <th>959987</th>\n",
       "      <td>T959988</td>\n",
       "      <td>C3380368</td>\n",
       "      <td>1/1/1800</td>\n",
       "      <td>T</td>\n",
       "      <td>50050.0</td>\n",
       "      <td>10/9/16</td>\n",
       "      <td>32500.0</td>\n",
       "    </tr>\n",
       "  </tbody>\n",
       "</table>\n",
       "</div>"
      ],
      "text/plain": [
       "       TransactionID CustomerID CustomerDOB CustGender  CustAccountBalance  \\\n",
       "959987       T959988   C3380368    1/1/1800          T             50050.0   \n",
       "\n",
       "       TransactionDate  TransactionAmount (INR)  \n",
       "959987         10/9/16                  32500.0  "
      ]
     },
     "execution_count": 10,
     "metadata": {},
     "output_type": "execute_result"
    }
   ],
   "source": [
    "df[df[\"CustGender\"] == 'T'] "
   ]
  },
  {
   "cell_type": "markdown",
   "id": "025bbbda",
   "metadata": {},
   "source": [
    "Given the big amount of transactions that we have we decided to drop it, also considering that this customer have a missing value also for the DOB. "
   ]
  },
  {
   "cell_type": "code",
   "execution_count": 11,
   "id": "63acca01",
   "metadata": {},
   "outputs": [],
   "source": [
    "df.drop(df[df.CustGender == 'T'].index, axis=0, inplace=True)"
   ]
  },
  {
   "cell_type": "markdown",
   "id": "9bf5830f",
   "metadata": {},
   "source": [
    "# 1.1.2 Age\n",
    "\n",
    "We decided to convert into datetime the date of birthday of the customers and the date of the transaction:"
   ]
  },
  {
   "cell_type": "code",
   "execution_count": 12,
   "id": "47d3d1fe",
   "metadata": {},
   "outputs": [
    {
     "name": "stdout",
     "output_type": "stream",
     "text": [
      "<class 'str'> <class 'str'>\n"
     ]
    }
   ],
   "source": [
    "print(type(df['CustomerDOB'][0]), type(df['TransactionDate'][0]))"
   ]
  },
  {
   "cell_type": "code",
   "execution_count": 13,
   "id": "298267f9",
   "metadata": {},
   "outputs": [],
   "source": [
    "df['CustomerDOB'] = pd.to_datetime(df['CustomerDOB'])\n",
    "\n",
    "df['TransactionDate'] = pd.to_datetime(df['TransactionDate']) "
   ]
  },
  {
   "cell_type": "code",
   "execution_count": 14,
   "id": "2bc14974",
   "metadata": {},
   "outputs": [
    {
     "data": {
      "text/html": [
       "<div>\n",
       "<style scoped>\n",
       "    .dataframe tbody tr th:only-of-type {\n",
       "        vertical-align: middle;\n",
       "    }\n",
       "\n",
       "    .dataframe tbody tr th {\n",
       "        vertical-align: top;\n",
       "    }\n",
       "\n",
       "    .dataframe thead th {\n",
       "        text-align: right;\n",
       "    }\n",
       "</style>\n",
       "<table border=\"1\" class=\"dataframe\">\n",
       "  <thead>\n",
       "    <tr style=\"text-align: right;\">\n",
       "      <th></th>\n",
       "      <th>TransactionID</th>\n",
       "      <th>CustomerID</th>\n",
       "      <th>CustomerDOB</th>\n",
       "      <th>CustGender</th>\n",
       "      <th>CustAccountBalance</th>\n",
       "      <th>TransactionDate</th>\n",
       "      <th>TransactionAmount (INR)</th>\n",
       "    </tr>\n",
       "  </thead>\n",
       "  <tbody>\n",
       "    <tr>\n",
       "      <th>0</th>\n",
       "      <td>T1</td>\n",
       "      <td>C5841053</td>\n",
       "      <td>1994-10-01</td>\n",
       "      <td>F</td>\n",
       "      <td>17819.05</td>\n",
       "      <td>2016-02-08</td>\n",
       "      <td>25.0</td>\n",
       "    </tr>\n",
       "  </tbody>\n",
       "</table>\n",
       "</div>"
      ],
      "text/plain": [
       "  TransactionID CustomerID CustomerDOB CustGender  CustAccountBalance  \\\n",
       "0            T1   C5841053  1994-10-01          F            17819.05   \n",
       "\n",
       "  TransactionDate  TransactionAmount (INR)  \n",
       "0      2016-02-08                     25.0  "
      ]
     },
     "execution_count": 14,
     "metadata": {},
     "output_type": "execute_result"
    }
   ],
   "source": [
    "df.head(1)"
   ]
  },
  {
   "cell_type": "code",
   "execution_count": 15,
   "id": "79f4b7dd",
   "metadata": {},
   "outputs": [
    {
     "data": {
      "text/plain": [
       "2016    1041764\n",
       "Name: TransactionDate, dtype: int64"
      ]
     },
     "execution_count": 15,
     "metadata": {},
     "output_type": "execute_result"
    }
   ],
   "source": [
    "df['TransactionDate'].dt.year.value_counts()"
   ]
  },
  {
   "cell_type": "code",
   "execution_count": 16,
   "id": "6d168e76",
   "metadata": {},
   "outputs": [
    {
     "data": {
      "text/plain": [
       "8     427368\n",
       "9     157939\n",
       "10     50742\n",
       "7      48092\n",
       "11     47036\n",
       "4      46963\n",
       "3      46755\n",
       "6      45935\n",
       "2      43510\n",
       "12     42892\n",
       "1      42460\n",
       "5      42072\n",
       "Name: TransactionDate, dtype: int64"
      ]
     },
     "execution_count": 16,
     "metadata": {},
     "output_type": "execute_result"
    }
   ],
   "source": [
    "df['TransactionDate'].dt.month.value_counts()"
   ]
  },
  {
   "cell_type": "markdown",
   "id": "f73267bb",
   "metadata": {},
   "source": [
    "All the data were taken in 2016, so we'll use this year to calculate the ages.\n",
    "Going through the Date of Birthday we can see that there is something strange: there are dates of birthday referred to 1800, probably cause it is a default value when this data is missing, and a right tail that seems to be a part of the main figure with an offset: "
   ]
  },
  {
   "cell_type": "code",
   "execution_count": 17,
   "id": "01d3004c",
   "metadata": {},
   "outputs": [
    {
     "data": {
      "image/png": "[encoded data removed]",
      "text/plain": [
       "<Figure size 432x288 with 1 Axes>"
      ]
     },
     "metadata": {
      "needs_background": "light"
     },
     "output_type": "display_data"
    }
   ],
   "source": [
    "count = Counter(df['CustomerDOB'].dt.year)\n",
    "\n",
    "plt.bar(count.keys(), count.values())\n",
    "\n",
    "plt.xlabel('Year of birth')\n",
    "\n",
    "plt.ylabel('Frequency')\n",
    " \n",
    "plt.show()"
   ]
  },
  {
   "cell_type": "code",
   "execution_count": 18,
   "id": "e9ace8f2",
   "metadata": {},
   "outputs": [
    {
     "data": {
      "text/plain": [
       "1800-01-01    56291\n",
       "Name: CustomerDOB, dtype: int64"
      ]
     },
     "execution_count": 18,
     "metadata": {},
     "output_type": "execute_result"
    }
   ],
   "source": [
    "df.loc[df['CustomerDOB'].dt.year == 1800]['CustomerDOB'].value_counts()"
   ]
  },
  {
   "cell_type": "markdown",
   "id": "b364ede9",
   "metadata": {},
   "source": [
    "We decided to replace DOB referred to year 1800 with 0 age values and rearrange the data after year 2000 adjusting the offset."
   ]
  },
  {
   "cell_type": "code",
   "execution_count": 19,
   "id": "a2284d9e",
   "metadata": {},
   "outputs": [
    {
     "data": {
      "image/png": "[encoded data removed]",
      "text/plain": [
       "<Figure size 432x288 with 1 Axes>"
      ]
     },
     "metadata": {
      "needs_background": "light"
     },
     "output_type": "display_data"
    }
   ],
   "source": [
    "df.loc[df.CustomerDOB.dt.year > 2000, 'CustomerDOB'] = df.loc[df.CustomerDOB.dt.year > 2000, 'CustomerDOB'] - pd.DateOffset(years = 100)\n",
    "\n",
    "count = Counter(df['CustomerDOB'].dt.year)\n",
    "\n",
    "plt.bar(count.keys(), count.values())\n",
    "\n",
    "plt.xlabel('Year of birth')\n",
    "\n",
    "plt.ylabel('Frequency')\n",
    " \n",
    "plt.show()"
   ]
  },
  {
   "cell_type": "markdown",
   "id": "c27a2ef5",
   "metadata": {},
   "source": [
    "We created a 'CustomerAge' column filling it with 0 values:"
   ]
  },
  {
   "cell_type": "code",
   "execution_count": 20,
   "id": "765cf6cf",
   "metadata": {},
   "outputs": [],
   "source": [
    "df['CustomerAge'] = 0 #initialize customerAge column with 0 values"
   ]
  },
  {
   "cell_type": "markdown",
   "id": "933794bf",
   "metadata": {},
   "source": [
    "Then we substitute ages that have YOB different from 1800:"
   ]
  },
  {
   "cell_type": "code",
   "execution_count": 21,
   "id": "28032e96",
   "metadata": {},
   "outputs": [],
   "source": [
    "df.loc[df['CustomerDOB'].dt.year != 1800, 'CustomerAge'] = df.loc[df['CustomerDOB'].dt.year != 1800, 'TransactionDate'].dt.year - df.loc[df['CustomerDOB'].dt.year != 1800, 'CustomerDOB'].dt.year "
   ]
  },
  {
   "cell_type": "code",
   "execution_count": 22,
   "id": "e7b7501c",
   "metadata": {},
   "outputs": [],
   "source": [
    "df['CustomerAge'] = df['CustomerAge'].astype(int)"
   ]
  },
  {
   "cell_type": "code",
   "execution_count": 23,
   "id": "e25d17e8",
   "metadata": {},
   "outputs": [],
   "source": [
    "del df['TransactionDate']"
   ]
  },
  {
   "cell_type": "code",
   "execution_count": 24,
   "id": "32578a70",
   "metadata": {},
   "outputs": [
    {
     "data": {
      "image/png": "[encoded data removed]",
      "text/plain": [
       "<Figure size 432x288 with 1 Axes>"
      ]
     },
     "metadata": {
      "needs_background": "light"
     },
     "output_type": "display_data"
    }
   ],
   "source": [
    "count = Counter(df['CustomerAge'])\n",
    "\n",
    "plt.bar(count.keys(), count.values())\n",
    "\n",
    "plt.xlabel('Ages')\n",
    "\n",
    "plt.ylabel('Frequency')\n",
    "\n",
    "plt.show()"
   ]
  },
  {
   "cell_type": "markdown",
   "id": "fba97e2b",
   "metadata": {},
   "source": [
    "Exploring the ages at the edges we can see that: "
   ]
  },
  {
   "cell_type": "code",
   "execution_count": 25,
   "id": "56ac912c",
   "metadata": {},
   "outputs": [
    {
     "data": {
      "text/plain": [
       "16"
      ]
     },
     "execution_count": 25,
     "metadata": {},
     "output_type": "execute_result"
    }
   ],
   "source": [
    "df.loc[df['CustomerAge'] != 0]['CustomerAge'].min()"
   ]
  },
  {
   "cell_type": "code",
   "execution_count": 26,
   "id": "2b71a2d2",
   "metadata": {},
   "outputs": [
    {
     "data": {
      "text/plain": [
       "115"
      ]
     },
     "execution_count": 26,
     "metadata": {},
     "output_type": "execute_result"
    }
   ],
   "source": [
    "df['CustomerAge'].max()"
   ]
  },
  {
   "cell_type": "markdown",
   "id": "9c543c43",
   "metadata": {},
   "source": [
    "Considering that the oldest person ever in India was Lucy d'Abreu who lived 113 years and 197 days (ref: Wikipedia) it seems a good choice to drop all the ages over 100 years."
   ]
  },
  {
   "cell_type": "code",
   "execution_count": 27,
   "id": "37d04e2a",
   "metadata": {},
   "outputs": [],
   "source": [
    "df.drop(df[df.CustomerAge > 100].index, axis=0, inplace=True)"
   ]
  },
  {
   "cell_type": "code",
   "execution_count": 28,
   "id": "572be54e",
   "metadata": {},
   "outputs": [
    {
     "data": {
      "image/png": "[encoded data removed]",
      "text/plain": [
       "<Figure size 432x288 with 1 Axes>"
      ]
     },
     "metadata": {
      "needs_background": "light"
     },
     "output_type": "display_data"
    }
   ],
   "source": [
    "count = Counter(df['CustomerAge'])\n",
    "\n",
    "count.pop(0, None)\n",
    "\n",
    "plt.bar(count.keys(), count.values())\n",
    "\n",
    "plt.xlabel('Ages')\n",
    "\n",
    "plt.ylabel('Frequency')\n",
    "\n",
    "plt.show()"
   ]
  },
  {
   "cell_type": "markdown",
   "id": "2feb5365",
   "metadata": {},
   "source": [
    "In order to implement a Minhash function we decide to divide the CustomAge data in class of ages. Similar ages should led to similar interest. For this reason, looking at the distribution of ages and using our intuition, it seems to be a good choice to divide in class of 5 years from 16 to 101 (18 class):"
   ]
  },
  {
   "cell_type": "code",
   "execution_count": 29,
   "id": "1e0ba1d2",
   "metadata": {},
   "outputs": [],
   "source": [
    "bins = np.array(list(range(16, 102, 5))) #bins\n",
    "\n",
    "def age(age):\n",
    "    \n",
    "    class_age = np.digitize(age, bins, right=False)  #return the number of the bin\n",
    "    \n",
    "    age = 'age_' + str(class_age) #class name\n",
    "        \n",
    "    return age"
   ]
  },
  {
   "cell_type": "code",
   "execution_count": 30,
   "id": "74f78b09",
   "metadata": {},
   "outputs": [],
   "source": [
    "df['CustomerClassAge'] = df.CustomerAge.apply(lambda x: age(x)) #build the customerclass age column"
   ]
  },
  {
   "cell_type": "code",
   "execution_count": 31,
   "id": "e36a6408",
   "metadata": {},
   "outputs": [
    {
     "data": {
      "text/html": [
       "<div>\n",
       "<style scoped>\n",
       "    .dataframe tbody tr th:only-of-type {\n",
       "        vertical-align: middle;\n",
       "    }\n",
       "\n",
       "    .dataframe tbody tr th {\n",
       "        vertical-align: top;\n",
       "    }\n",
       "\n",
       "    .dataframe thead th {\n",
       "        text-align: right;\n",
       "    }\n",
       "</style>\n",
       "<table border=\"1\" class=\"dataframe\">\n",
       "  <thead>\n",
       "    <tr style=\"text-align: right;\">\n",
       "      <th></th>\n",
       "      <th>TransactionID</th>\n",
       "      <th>CustomerID</th>\n",
       "      <th>CustomerDOB</th>\n",
       "      <th>CustGender</th>\n",
       "      <th>CustAccountBalance</th>\n",
       "      <th>TransactionAmount (INR)</th>\n",
       "      <th>CustomerAge</th>\n",
       "      <th>CustomerClassAge</th>\n",
       "    </tr>\n",
       "  </thead>\n",
       "  <tbody>\n",
       "    <tr>\n",
       "      <th>0</th>\n",
       "      <td>T1</td>\n",
       "      <td>C5841053</td>\n",
       "      <td>1994-10-01</td>\n",
       "      <td>F</td>\n",
       "      <td>17819.05</td>\n",
       "      <td>25.0</td>\n",
       "      <td>22</td>\n",
       "      <td>age_2</td>\n",
       "    </tr>\n",
       "    <tr>\n",
       "      <th>1</th>\n",
       "      <td>T2</td>\n",
       "      <td>C2142763</td>\n",
       "      <td>1957-04-04</td>\n",
       "      <td>M</td>\n",
       "      <td>2270.69</td>\n",
       "      <td>27999.0</td>\n",
       "      <td>59</td>\n",
       "      <td>age_9</td>\n",
       "    </tr>\n",
       "    <tr>\n",
       "      <th>2</th>\n",
       "      <td>T3</td>\n",
       "      <td>C4417068</td>\n",
       "      <td>1996-11-26</td>\n",
       "      <td>F</td>\n",
       "      <td>17874.44</td>\n",
       "      <td>459.0</td>\n",
       "      <td>20</td>\n",
       "      <td>age_1</td>\n",
       "    </tr>\n",
       "    <tr>\n",
       "      <th>3</th>\n",
       "      <td>T4</td>\n",
       "      <td>C5342380</td>\n",
       "      <td>1973-09-14</td>\n",
       "      <td>F</td>\n",
       "      <td>866503.21</td>\n",
       "      <td>2060.0</td>\n",
       "      <td>43</td>\n",
       "      <td>age_6</td>\n",
       "    </tr>\n",
       "    <tr>\n",
       "      <th>4</th>\n",
       "      <td>T5</td>\n",
       "      <td>C9031234</td>\n",
       "      <td>1988-03-24</td>\n",
       "      <td>F</td>\n",
       "      <td>6714.43</td>\n",
       "      <td>1762.5</td>\n",
       "      <td>28</td>\n",
       "      <td>age_3</td>\n",
       "    </tr>\n",
       "    <tr>\n",
       "      <th>...</th>\n",
       "      <td>...</td>\n",
       "      <td>...</td>\n",
       "      <td>...</td>\n",
       "      <td>...</td>\n",
       "      <td>...</td>\n",
       "      <td>...</td>\n",
       "      <td>...</td>\n",
       "      <td>...</td>\n",
       "    </tr>\n",
       "    <tr>\n",
       "      <th>1048562</th>\n",
       "      <td>T1048563</td>\n",
       "      <td>C8020229</td>\n",
       "      <td>1990-08-04</td>\n",
       "      <td>M</td>\n",
       "      <td>7635.19</td>\n",
       "      <td>799.0</td>\n",
       "      <td>26</td>\n",
       "      <td>age_3</td>\n",
       "    </tr>\n",
       "    <tr>\n",
       "      <th>1048563</th>\n",
       "      <td>T1048564</td>\n",
       "      <td>C6459278</td>\n",
       "      <td>1992-02-20</td>\n",
       "      <td>M</td>\n",
       "      <td>27311.42</td>\n",
       "      <td>460.0</td>\n",
       "      <td>24</td>\n",
       "      <td>age_2</td>\n",
       "    </tr>\n",
       "    <tr>\n",
       "      <th>1048564</th>\n",
       "      <td>T1048565</td>\n",
       "      <td>C6412354</td>\n",
       "      <td>1989-05-18</td>\n",
       "      <td>M</td>\n",
       "      <td>221757.06</td>\n",
       "      <td>770.0</td>\n",
       "      <td>27</td>\n",
       "      <td>age_3</td>\n",
       "    </tr>\n",
       "    <tr>\n",
       "      <th>1048565</th>\n",
       "      <td>T1048566</td>\n",
       "      <td>C6420483</td>\n",
       "      <td>1978-08-30</td>\n",
       "      <td>M</td>\n",
       "      <td>10117.87</td>\n",
       "      <td>1000.0</td>\n",
       "      <td>38</td>\n",
       "      <td>age_5</td>\n",
       "    </tr>\n",
       "    <tr>\n",
       "      <th>1048566</th>\n",
       "      <td>T1048567</td>\n",
       "      <td>C8337524</td>\n",
       "      <td>1984-05-03</td>\n",
       "      <td>M</td>\n",
       "      <td>75734.42</td>\n",
       "      <td>1166.0</td>\n",
       "      <td>32</td>\n",
       "      <td>age_4</td>\n",
       "    </tr>\n",
       "  </tbody>\n",
       "</table>\n",
       "<p>1041144 rows × 8 columns</p>\n",
       "</div>"
      ],
      "text/plain": [
       "        TransactionID CustomerID CustomerDOB CustGender  CustAccountBalance  \\\n",
       "0                  T1   C5841053  1994-10-01          F            17819.05   \n",
       "1                  T2   C2142763  1957-04-04          M             2270.69   \n",
       "2                  T3   C4417068  1996-11-26          F            17874.44   \n",
       "3                  T4   C5342380  1973-09-14          F           866503.21   \n",
       "4                  T5   C9031234  1988-03-24          F             6714.43   \n",
       "...               ...        ...         ...        ...                 ...   \n",
       "1048562      T1048563   C8020229  1990-08-04          M             7635.19   \n",
       "1048563      T1048564   C6459278  1992-02-20          M            27311.42   \n",
       "1048564      T1048565   C6412354  1989-05-18          M           221757.06   \n",
       "1048565      T1048566   C6420483  1978-08-30          M            10117.87   \n",
       "1048566      T1048567   C8337524  1984-05-03          M            75734.42   \n",
       "\n",
       "         TransactionAmount (INR)  CustomerAge CustomerClassAge  \n",
       "0                           25.0           22            age_2  \n",
       "1                        27999.0           59            age_9  \n",
       "2                          459.0           20            age_1  \n",
       "3                         2060.0           43            age_6  \n",
       "4                         1762.5           28            age_3  \n",
       "...                          ...          ...              ...  \n",
       "1048562                    799.0           26            age_3  \n",
       "1048563                    460.0           24            age_2  \n",
       "1048564                    770.0           27            age_3  \n",
       "1048565                   1000.0           38            age_5  \n",
       "1048566                   1166.0           32            age_4  \n",
       "\n",
       "[1041144 rows x 8 columns]"
      ]
     },
     "execution_count": 31,
     "metadata": {},
     "output_type": "execute_result"
    }
   ],
   "source": [
    "df"
   ]
  },
  {
   "cell_type": "markdown",
   "id": "70df4f92",
   "metadata": {},
   "source": [
    "Customer with age 0 (YOB 1800) are classified as 'CustomerClassAge' 0: "
   ]
  },
  {
   "cell_type": "code",
   "execution_count": 32,
   "id": "4a86806f",
   "metadata": {},
   "outputs": [
    {
     "data": {
      "text/html": [
       "<div>\n",
       "<style scoped>\n",
       "    .dataframe tbody tr th:only-of-type {\n",
       "        vertical-align: middle;\n",
       "    }\n",
       "\n",
       "    .dataframe tbody tr th {\n",
       "        vertical-align: top;\n",
       "    }\n",
       "\n",
       "    .dataframe thead th {\n",
       "        text-align: right;\n",
       "    }\n",
       "</style>\n",
       "<table border=\"1\" class=\"dataframe\">\n",
       "  <thead>\n",
       "    <tr style=\"text-align: right;\">\n",
       "      <th></th>\n",
       "      <th>TransactionID</th>\n",
       "      <th>CustomerID</th>\n",
       "      <th>CustomerDOB</th>\n",
       "      <th>CustGender</th>\n",
       "      <th>CustAccountBalance</th>\n",
       "      <th>TransactionAmount (INR)</th>\n",
       "      <th>CustomerAge</th>\n",
       "      <th>CustomerClassAge</th>\n",
       "    </tr>\n",
       "  </thead>\n",
       "  <tbody>\n",
       "    <tr>\n",
       "      <th>16</th>\n",
       "      <td>T17</td>\n",
       "      <td>C1376215</td>\n",
       "      <td>1800-01-01</td>\n",
       "      <td>M</td>\n",
       "      <td>77495.15</td>\n",
       "      <td>1423.11</td>\n",
       "      <td>0</td>\n",
       "      <td>age_0</td>\n",
       "    </tr>\n",
       "    <tr>\n",
       "      <th>22</th>\n",
       "      <td>T23</td>\n",
       "      <td>C7018081</td>\n",
       "      <td>1800-01-01</td>\n",
       "      <td>M</td>\n",
       "      <td>143.07</td>\n",
       "      <td>110.00</td>\n",
       "      <td>0</td>\n",
       "      <td>age_0</td>\n",
       "    </tr>\n",
       "    <tr>\n",
       "      <th>28</th>\n",
       "      <td>T29</td>\n",
       "      <td>C7935438</td>\n",
       "      <td>1800-01-01</td>\n",
       "      <td>M</td>\n",
       "      <td>969436.12</td>\n",
       "      <td>36.90</td>\n",
       "      <td>0</td>\n",
       "      <td>age_0</td>\n",
       "    </tr>\n",
       "    <tr>\n",
       "      <th>35</th>\n",
       "      <td>T36</td>\n",
       "      <td>C1211387</td>\n",
       "      <td>1800-01-01</td>\n",
       "      <td>M</td>\n",
       "      <td>11791.25</td>\n",
       "      <td>1075.00</td>\n",
       "      <td>0</td>\n",
       "      <td>age_0</td>\n",
       "    </tr>\n",
       "    <tr>\n",
       "      <th>151</th>\n",
       "      <td>T152</td>\n",
       "      <td>C3334638</td>\n",
       "      <td>1800-01-01</td>\n",
       "      <td>M</td>\n",
       "      <td>700.00</td>\n",
       "      <td>1500.00</td>\n",
       "      <td>0</td>\n",
       "      <td>age_0</td>\n",
       "    </tr>\n",
       "    <tr>\n",
       "      <th>...</th>\n",
       "      <td>...</td>\n",
       "      <td>...</td>\n",
       "      <td>...</td>\n",
       "      <td>...</td>\n",
       "      <td>...</td>\n",
       "      <td>...</td>\n",
       "      <td>...</td>\n",
       "      <td>...</td>\n",
       "    </tr>\n",
       "    <tr>\n",
       "      <th>1048443</th>\n",
       "      <td>T1048444</td>\n",
       "      <td>C7261226</td>\n",
       "      <td>1800-01-01</td>\n",
       "      <td>M</td>\n",
       "      <td>1393.33</td>\n",
       "      <td>200.00</td>\n",
       "      <td>0</td>\n",
       "      <td>age_0</td>\n",
       "    </tr>\n",
       "    <tr>\n",
       "      <th>1048452</th>\n",
       "      <td>T1048453</td>\n",
       "      <td>C3813481</td>\n",
       "      <td>1800-01-01</td>\n",
       "      <td>M</td>\n",
       "      <td>984605.24</td>\n",
       "      <td>219.00</td>\n",
       "      <td>0</td>\n",
       "      <td>age_0</td>\n",
       "    </tr>\n",
       "    <tr>\n",
       "      <th>1048531</th>\n",
       "      <td>T1048532</td>\n",
       "      <td>C6937679</td>\n",
       "      <td>1800-01-01</td>\n",
       "      <td>M</td>\n",
       "      <td>50698.90</td>\n",
       "      <td>598.86</td>\n",
       "      <td>0</td>\n",
       "      <td>age_0</td>\n",
       "    </tr>\n",
       "    <tr>\n",
       "      <th>1048533</th>\n",
       "      <td>T1048534</td>\n",
       "      <td>C7431884</td>\n",
       "      <td>1800-01-01</td>\n",
       "      <td>M</td>\n",
       "      <td>53771.64</td>\n",
       "      <td>520.00</td>\n",
       "      <td>0</td>\n",
       "      <td>age_0</td>\n",
       "    </tr>\n",
       "    <tr>\n",
       "      <th>1048540</th>\n",
       "      <td>T1048541</td>\n",
       "      <td>C1528025</td>\n",
       "      <td>1800-01-01</td>\n",
       "      <td>M</td>\n",
       "      <td>230894.59</td>\n",
       "      <td>290.00</td>\n",
       "      <td>0</td>\n",
       "      <td>age_0</td>\n",
       "    </tr>\n",
       "  </tbody>\n",
       "</table>\n",
       "<p>56291 rows × 8 columns</p>\n",
       "</div>"
      ],
      "text/plain": [
       "        TransactionID CustomerID CustomerDOB CustGender  CustAccountBalance  \\\n",
       "16                T17   C1376215  1800-01-01          M            77495.15   \n",
       "22                T23   C7018081  1800-01-01          M              143.07   \n",
       "28                T29   C7935438  1800-01-01          M           969436.12   \n",
       "35                T36   C1211387  1800-01-01          M            11791.25   \n",
       "151              T152   C3334638  1800-01-01          M              700.00   \n",
       "...               ...        ...         ...        ...                 ...   \n",
       "1048443      T1048444   C7261226  1800-01-01          M             1393.33   \n",
       "1048452      T1048453   C3813481  1800-01-01          M           984605.24   \n",
       "1048531      T1048532   C6937679  1800-01-01          M            50698.90   \n",
       "1048533      T1048534   C7431884  1800-01-01          M            53771.64   \n",
       "1048540      T1048541   C1528025  1800-01-01          M           230894.59   \n",
       "\n",
       "         TransactionAmount (INR)  CustomerAge CustomerClassAge  \n",
       "16                       1423.11            0            age_0  \n",
       "22                        110.00            0            age_0  \n",
       "28                         36.90            0            age_0  \n",
       "35                       1075.00            0            age_0  \n",
       "151                      1500.00            0            age_0  \n",
       "...                          ...          ...              ...  \n",
       "1048443                   200.00            0            age_0  \n",
       "1048452                   219.00            0            age_0  \n",
       "1048531                   598.86            0            age_0  \n",
       "1048533                   520.00            0            age_0  \n",
       "1048540                   290.00            0            age_0  \n",
       "\n",
       "[56291 rows x 8 columns]"
      ]
     },
     "execution_count": 32,
     "metadata": {},
     "output_type": "execute_result"
    }
   ],
   "source": [
    "df.loc[df['CustomerAge'] == 0]"
   ]
  },
  {
   "cell_type": "markdown",
   "id": "de9ae4af",
   "metadata": {},
   "source": [
    "Age_0 will not be insterted into shingles, such that the one hot vector referred to a missing value of age will have only zeros and to not group as similar people with year of birthday 1800."
   ]
  },
  {
   "cell_type": "markdown",
   "id": "8f771871",
   "metadata": {},
   "source": [
    "# 1.1.3 Different people with the same CustomerID"
   ]
  },
  {
   "cell_type": "markdown",
   "id": "8f740968",
   "metadata": {},
   "source": [
    "We decided to check the data related to transactions referred to the same CustomerID:"
   ]
  },
  {
   "cell_type": "code",
   "execution_count": 33,
   "id": "f936f205",
   "metadata": {},
   "outputs": [
    {
     "data": {
      "image/png": "[encoded data removed]",
      "text/plain": [
       "<Figure size 432x288 with 1 Axes>"
      ]
     },
     "metadata": {
      "needs_background": "light"
     },
     "output_type": "display_data"
    }
   ],
   "source": [
    "df.groupby('CustomerID').TransactionID.count().plot.hist()\n",
    "\n",
    "plt.xlabel('Number of transaction per CustomerID')\n",
    "\n",
    "plt.ylabel('Frequency')\n",
    "\n",
    "plt.show()"
   ]
  },
  {
   "cell_type": "code",
   "execution_count": 34,
   "id": "ee675b9d",
   "metadata": {},
   "outputs": [
    {
     "data": {
      "text/html": [
       "<div>\n",
       "<style scoped>\n",
       "    .dataframe tbody tr th:only-of-type {\n",
       "        vertical-align: middle;\n",
       "    }\n",
       "\n",
       "    .dataframe tbody tr th {\n",
       "        vertical-align: top;\n",
       "    }\n",
       "\n",
       "    .dataframe thead th {\n",
       "        text-align: right;\n",
       "    }\n",
       "</style>\n",
       "<table border=\"1\" class=\"dataframe\">\n",
       "  <thead>\n",
       "    <tr style=\"text-align: right;\">\n",
       "      <th></th>\n",
       "      <th>TransactionID</th>\n",
       "      <th>CustomerID</th>\n",
       "      <th>CustomerDOB</th>\n",
       "      <th>CustGender</th>\n",
       "      <th>CustAccountBalance</th>\n",
       "      <th>TransactionAmount (INR)</th>\n",
       "      <th>CustomerAge</th>\n",
       "      <th>CustomerClassAge</th>\n",
       "    </tr>\n",
       "  </thead>\n",
       "  <tbody>\n",
       "    <tr>\n",
       "      <th>33670</th>\n",
       "      <td>T33671</td>\n",
       "      <td>C1010011</td>\n",
       "      <td>1992-08-19</td>\n",
       "      <td>F</td>\n",
       "      <td>32500.73</td>\n",
       "      <td>4750.00</td>\n",
       "      <td>24</td>\n",
       "      <td>age_2</td>\n",
       "    </tr>\n",
       "    <tr>\n",
       "      <th>173508</th>\n",
       "      <td>T173509</td>\n",
       "      <td>C1010011</td>\n",
       "      <td>1983-05-08</td>\n",
       "      <td>M</td>\n",
       "      <td>120180.54</td>\n",
       "      <td>356.00</td>\n",
       "      <td>33</td>\n",
       "      <td>age_4</td>\n",
       "    </tr>\n",
       "    <tr>\n",
       "      <th>251647</th>\n",
       "      <td>T251648</td>\n",
       "      <td>C1010014</td>\n",
       "      <td>1984-08-19</td>\n",
       "      <td>M</td>\n",
       "      <td>161848.76</td>\n",
       "      <td>250.00</td>\n",
       "      <td>32</td>\n",
       "      <td>age_4</td>\n",
       "    </tr>\n",
       "    <tr>\n",
       "      <th>89543</th>\n",
       "      <td>T89544</td>\n",
       "      <td>C1010014</td>\n",
       "      <td>1992-04-06</td>\n",
       "      <td>F</td>\n",
       "      <td>38377.14</td>\n",
       "      <td>1205.00</td>\n",
       "      <td>24</td>\n",
       "      <td>age_2</td>\n",
       "    </tr>\n",
       "    <tr>\n",
       "      <th>50880</th>\n",
       "      <td>T50881</td>\n",
       "      <td>C1010031</td>\n",
       "      <td>1984-07-21</td>\n",
       "      <td>M</td>\n",
       "      <td>1754.10</td>\n",
       "      <td>404.00</td>\n",
       "      <td>32</td>\n",
       "      <td>age_4</td>\n",
       "    </tr>\n",
       "    <tr>\n",
       "      <th>...</th>\n",
       "      <td>...</td>\n",
       "      <td>...</td>\n",
       "      <td>...</td>\n",
       "      <td>...</td>\n",
       "      <td>...</td>\n",
       "      <td>...</td>\n",
       "      <td>...</td>\n",
       "      <td>...</td>\n",
       "    </tr>\n",
       "    <tr>\n",
       "      <th>407803</th>\n",
       "      <td>T407804</td>\n",
       "      <td>C9094224</td>\n",
       "      <td>1980-06-24</td>\n",
       "      <td>F</td>\n",
       "      <td>10579.38</td>\n",
       "      <td>2458.00</td>\n",
       "      <td>36</td>\n",
       "      <td>age_5</td>\n",
       "    </tr>\n",
       "    <tr>\n",
       "      <th>673478</th>\n",
       "      <td>T673479</td>\n",
       "      <td>C9095886</td>\n",
       "      <td>1992-06-04</td>\n",
       "      <td>M</td>\n",
       "      <td>284.48</td>\n",
       "      <td>123.89</td>\n",
       "      <td>24</td>\n",
       "      <td>age_2</td>\n",
       "    </tr>\n",
       "    <tr>\n",
       "      <th>500536</th>\n",
       "      <td>T500537</td>\n",
       "      <td>C9095886</td>\n",
       "      <td>1991-06-19</td>\n",
       "      <td>F</td>\n",
       "      <td>27313.55</td>\n",
       "      <td>289.37</td>\n",
       "      <td>25</td>\n",
       "      <td>age_2</td>\n",
       "    </tr>\n",
       "    <tr>\n",
       "      <th>545604</th>\n",
       "      <td>T545605</td>\n",
       "      <td>C9096252</td>\n",
       "      <td>1991-04-03</td>\n",
       "      <td>M</td>\n",
       "      <td>9424.29</td>\n",
       "      <td>50.00</td>\n",
       "      <td>25</td>\n",
       "      <td>age_2</td>\n",
       "    </tr>\n",
       "    <tr>\n",
       "      <th>276357</th>\n",
       "      <td>T276358</td>\n",
       "      <td>C9096252</td>\n",
       "      <td>1997-10-07</td>\n",
       "      <td>M</td>\n",
       "      <td>9631.05</td>\n",
       "      <td>946.00</td>\n",
       "      <td>19</td>\n",
       "      <td>age_1</td>\n",
       "    </tr>\n",
       "  </tbody>\n",
       "</table>\n",
       "<p>303959 rows × 8 columns</p>\n",
       "</div>"
      ],
      "text/plain": [
       "       TransactionID CustomerID CustomerDOB CustGender  CustAccountBalance  \\\n",
       "33670         T33671   C1010011  1992-08-19          F            32500.73   \n",
       "173508       T173509   C1010011  1983-05-08          M           120180.54   \n",
       "251647       T251648   C1010014  1984-08-19          M           161848.76   \n",
       "89543         T89544   C1010014  1992-04-06          F            38377.14   \n",
       "50880         T50881   C1010031  1984-07-21          M             1754.10   \n",
       "...              ...        ...         ...        ...                 ...   \n",
       "407803       T407804   C9094224  1980-06-24          F            10579.38   \n",
       "673478       T673479   C9095886  1992-06-04          M              284.48   \n",
       "500536       T500537   C9095886  1991-06-19          F            27313.55   \n",
       "545604       T545605   C9096252  1991-04-03          M             9424.29   \n",
       "276357       T276358   C9096252  1997-10-07          M             9631.05   \n",
       "\n",
       "        TransactionAmount (INR)  CustomerAge CustomerClassAge  \n",
       "33670                   4750.00           24            age_2  \n",
       "173508                   356.00           33            age_4  \n",
       "251647                   250.00           32            age_4  \n",
       "89543                   1205.00           24            age_2  \n",
       "50880                    404.00           32            age_4  \n",
       "...                         ...          ...              ...  \n",
       "407803                  2458.00           36            age_5  \n",
       "673478                   123.89           24            age_2  \n",
       "500536                   289.37           25            age_2  \n",
       "545604                    50.00           25            age_2  \n",
       "276357                   946.00           19            age_1  \n",
       "\n",
       "[303959 rows x 8 columns]"
      ]
     },
     "execution_count": 34,
     "metadata": {},
     "output_type": "execute_result"
    }
   ],
   "source": [
    "a = df.groupby('CustomerID').TransactionID.count()  #series with number of transaction per CustomerID\n",
    "\n",
    "df[df.CustomerID.isin(a[a > 1].index)].sort_values(by = \"CustomerID\") #same customer with more than one transaction"
   ]
  },
  {
   "cell_type": "markdown",
   "id": "cd9564d3",
   "metadata": {},
   "source": [
    "We can see that transactions addressed to the same CustomerID are instead related to different people but labeled with the same username. We can say that with high probability these kind of CustomerID are referred to a family or in general groups of people. We decided to threat them as different people defining a new ID based on original Customer ID, gender and ID: "
   ]
  },
  {
   "cell_type": "code",
   "execution_count": 35,
   "id": "d2d511b4",
   "metadata": {},
   "outputs": [],
   "source": [
    "df['New_ID'] = df['CustomerID'] + df['CustGender'] + df['CustomerAge'].astype(str) #string concatenation"
   ]
  },
  {
   "cell_type": "code",
   "execution_count": 36,
   "id": "59f3cf6f",
   "metadata": {},
   "outputs": [
    {
     "data": {
      "text/html": [
       "<div>\n",
       "<style scoped>\n",
       "    .dataframe tbody tr th:only-of-type {\n",
       "        vertical-align: middle;\n",
       "    }\n",
       "\n",
       "    .dataframe tbody tr th {\n",
       "        vertical-align: top;\n",
       "    }\n",
       "\n",
       "    .dataframe thead th {\n",
       "        text-align: right;\n",
       "    }\n",
       "</style>\n",
       "<table border=\"1\" class=\"dataframe\">\n",
       "  <thead>\n",
       "    <tr style=\"text-align: right;\">\n",
       "      <th></th>\n",
       "      <th>New_ID</th>\n",
       "      <th>CustomerID</th>\n",
       "      <th>CustGender</th>\n",
       "      <th>CustomerAge</th>\n",
       "    </tr>\n",
       "  </thead>\n",
       "  <tbody>\n",
       "    <tr>\n",
       "      <th>0</th>\n",
       "      <td>C5841053F22</td>\n",
       "      <td>C5841053</td>\n",
       "      <td>F</td>\n",
       "      <td>22</td>\n",
       "    </tr>\n",
       "    <tr>\n",
       "      <th>1</th>\n",
       "      <td>C2142763M59</td>\n",
       "      <td>C2142763</td>\n",
       "      <td>M</td>\n",
       "      <td>59</td>\n",
       "    </tr>\n",
       "    <tr>\n",
       "      <th>2</th>\n",
       "      <td>C4417068F20</td>\n",
       "      <td>C4417068</td>\n",
       "      <td>F</td>\n",
       "      <td>20</td>\n",
       "    </tr>\n",
       "    <tr>\n",
       "      <th>3</th>\n",
       "      <td>C5342380F43</td>\n",
       "      <td>C5342380</td>\n",
       "      <td>F</td>\n",
       "      <td>43</td>\n",
       "    </tr>\n",
       "    <tr>\n",
       "      <th>4</th>\n",
       "      <td>C9031234F28</td>\n",
       "      <td>C9031234</td>\n",
       "      <td>F</td>\n",
       "      <td>28</td>\n",
       "    </tr>\n",
       "    <tr>\n",
       "      <th>...</th>\n",
       "      <td>...</td>\n",
       "      <td>...</td>\n",
       "      <td>...</td>\n",
       "      <td>...</td>\n",
       "    </tr>\n",
       "    <tr>\n",
       "      <th>1048562</th>\n",
       "      <td>C8020229M26</td>\n",
       "      <td>C8020229</td>\n",
       "      <td>M</td>\n",
       "      <td>26</td>\n",
       "    </tr>\n",
       "    <tr>\n",
       "      <th>1048563</th>\n",
       "      <td>C6459278M24</td>\n",
       "      <td>C6459278</td>\n",
       "      <td>M</td>\n",
       "      <td>24</td>\n",
       "    </tr>\n",
       "    <tr>\n",
       "      <th>1048564</th>\n",
       "      <td>C6412354M27</td>\n",
       "      <td>C6412354</td>\n",
       "      <td>M</td>\n",
       "      <td>27</td>\n",
       "    </tr>\n",
       "    <tr>\n",
       "      <th>1048565</th>\n",
       "      <td>C6420483M38</td>\n",
       "      <td>C6420483</td>\n",
       "      <td>M</td>\n",
       "      <td>38</td>\n",
       "    </tr>\n",
       "    <tr>\n",
       "      <th>1048566</th>\n",
       "      <td>C8337524M32</td>\n",
       "      <td>C8337524</td>\n",
       "      <td>M</td>\n",
       "      <td>32</td>\n",
       "    </tr>\n",
       "  </tbody>\n",
       "</table>\n",
       "<p>1041144 rows × 4 columns</p>\n",
       "</div>"
      ],
      "text/plain": [
       "              New_ID CustomerID CustGender  CustomerAge\n",
       "0        C5841053F22   C5841053          F           22\n",
       "1        C2142763M59   C2142763          M           59\n",
       "2        C4417068F20   C4417068          F           20\n",
       "3        C5342380F43   C5342380          F           43\n",
       "4        C9031234F28   C9031234          F           28\n",
       "...              ...        ...        ...          ...\n",
       "1048562  C8020229M26   C8020229          M           26\n",
       "1048563  C6459278M24   C6459278          M           24\n",
       "1048564  C6412354M27   C6412354          M           27\n",
       "1048565  C6420483M38   C6420483          M           38\n",
       "1048566  C8337524M32   C8337524          M           32\n",
       "\n",
       "[1041144 rows x 4 columns]"
      ]
     },
     "execution_count": 36,
     "metadata": {},
     "output_type": "execute_result"
    }
   ],
   "source": [
    "df[['New_ID', 'CustomerID', 'CustGender', 'CustomerAge']]"
   ]
  },
  {
   "cell_type": "markdown",
   "id": "54c77c0b",
   "metadata": {},
   "source": [
    "Now people labelled with same CustomerID but different ages and gender will be labelled with different CustomerID:"
   ]
  },
  {
   "cell_type": "code",
   "execution_count": 37,
   "id": "1055f6b3",
   "metadata": {},
   "outputs": [
    {
     "data": {
      "text/html": [
       "<div>\n",
       "<style scoped>\n",
       "    .dataframe tbody tr th:only-of-type {\n",
       "        vertical-align: middle;\n",
       "    }\n",
       "\n",
       "    .dataframe tbody tr th {\n",
       "        vertical-align: top;\n",
       "    }\n",
       "\n",
       "    .dataframe thead th {\n",
       "        text-align: right;\n",
       "    }\n",
       "</style>\n",
       "<table border=\"1\" class=\"dataframe\">\n",
       "  <thead>\n",
       "    <tr style=\"text-align: right;\">\n",
       "      <th></th>\n",
       "      <th>CustomerID</th>\n",
       "      <th>New_ID</th>\n",
       "    </tr>\n",
       "  </thead>\n",
       "  <tbody>\n",
       "    <tr>\n",
       "      <th>33670</th>\n",
       "      <td>C1010011</td>\n",
       "      <td>C1010011F24</td>\n",
       "    </tr>\n",
       "    <tr>\n",
       "      <th>173508</th>\n",
       "      <td>C1010011</td>\n",
       "      <td>C1010011M33</td>\n",
       "    </tr>\n",
       "    <tr>\n",
       "      <th>251647</th>\n",
       "      <td>C1010014</td>\n",
       "      <td>C1010014M32</td>\n",
       "    </tr>\n",
       "    <tr>\n",
       "      <th>89543</th>\n",
       "      <td>C1010014</td>\n",
       "      <td>C1010014F24</td>\n",
       "    </tr>\n",
       "    <tr>\n",
       "      <th>50880</th>\n",
       "      <td>C1010031</td>\n",
       "      <td>C1010031M32</td>\n",
       "    </tr>\n",
       "    <tr>\n",
       "      <th>...</th>\n",
       "      <td>...</td>\n",
       "      <td>...</td>\n",
       "    </tr>\n",
       "    <tr>\n",
       "      <th>407803</th>\n",
       "      <td>C9094224</td>\n",
       "      <td>C9094224F36</td>\n",
       "    </tr>\n",
       "    <tr>\n",
       "      <th>673478</th>\n",
       "      <td>C9095886</td>\n",
       "      <td>C9095886M24</td>\n",
       "    </tr>\n",
       "    <tr>\n",
       "      <th>500536</th>\n",
       "      <td>C9095886</td>\n",
       "      <td>C9095886F25</td>\n",
       "    </tr>\n",
       "    <tr>\n",
       "      <th>545604</th>\n",
       "      <td>C9096252</td>\n",
       "      <td>C9096252M25</td>\n",
       "    </tr>\n",
       "    <tr>\n",
       "      <th>276357</th>\n",
       "      <td>C9096252</td>\n",
       "      <td>C9096252M19</td>\n",
       "    </tr>\n",
       "  </tbody>\n",
       "</table>\n",
       "<p>303959 rows × 2 columns</p>\n",
       "</div>"
      ],
      "text/plain": [
       "       CustomerID       New_ID\n",
       "33670    C1010011  C1010011F24\n",
       "173508   C1010011  C1010011M33\n",
       "251647   C1010014  C1010014M32\n",
       "89543    C1010014  C1010014F24\n",
       "50880    C1010031  C1010031M32\n",
       "...           ...          ...\n",
       "407803   C9094224  C9094224F36\n",
       "673478   C9095886  C9095886M24\n",
       "500536   C9095886  C9095886F25\n",
       "545604   C9096252  C9096252M25\n",
       "276357   C9096252  C9096252M19\n",
       "\n",
       "[303959 rows x 2 columns]"
      ]
     },
     "execution_count": 37,
     "metadata": {},
     "output_type": "execute_result"
    }
   ],
   "source": [
    "a = df.groupby('CustomerID').TransactionID.count()  #series with number of transaction per CustomerID\n",
    "\n",
    "df[df.CustomerID.isin(a[a>1].index)][['CustomerID', 'New_ID']].sort_values(by=\"CustomerID\") #same customer with more than one transaction"
   ]
  },
  {
   "cell_type": "markdown",
   "id": "8125b3e6",
   "metadata": {},
   "source": [
    "We can see that the max number of transaction per person decreased:"
   ]
  },
  {
   "cell_type": "code",
   "execution_count": 38,
   "id": "7f74e785",
   "metadata": {},
   "outputs": [
    {
     "data": {
      "text/plain": [
       "3"
      ]
     },
     "execution_count": 38,
     "metadata": {},
     "output_type": "execute_result"
    }
   ],
   "source": [
    "df.groupby('New_ID').TransactionID.count().max()"
   ]
  },
  {
   "cell_type": "markdown",
   "id": "297afaeb",
   "metadata": {},
   "source": [
    "We decided to merge togheter different transactions referred to the same ID (New_ID) taking the mean of transaction amount and of account balance. This can be done using aggregate from groupby."
   ]
  },
  {
   "cell_type": "code",
   "execution_count": 39,
   "id": "a54aa21e",
   "metadata": {},
   "outputs": [
    {
     "data": {
      "text/html": [
       "<div>\n",
       "<style scoped>\n",
       "    .dataframe tbody tr th:only-of-type {\n",
       "        vertical-align: middle;\n",
       "    }\n",
       "\n",
       "    .dataframe tbody tr th {\n",
       "        vertical-align: top;\n",
       "    }\n",
       "\n",
       "    .dataframe thead th {\n",
       "        text-align: right;\n",
       "    }\n",
       "</style>\n",
       "<table border=\"1\" class=\"dataframe\">\n",
       "  <thead>\n",
       "    <tr style=\"text-align: right;\">\n",
       "      <th></th>\n",
       "      <th>New_ID</th>\n",
       "      <th>TransactionAmount (INR)</th>\n",
       "      <th>CustAccountBalance</th>\n",
       "    </tr>\n",
       "  </thead>\n",
       "  <tbody>\n",
       "    <tr>\n",
       "      <th>214918</th>\n",
       "      <td>C1010117M29</td>\n",
       "      <td>840.0</td>\n",
       "      <td>11787.98</td>\n",
       "    </tr>\n",
       "    <tr>\n",
       "      <th>1027304</th>\n",
       "      <td>C1010117M29</td>\n",
       "      <td>275.0</td>\n",
       "      <td>7634.23</td>\n",
       "    </tr>\n",
       "  </tbody>\n",
       "</table>\n",
       "</div>"
      ],
      "text/plain": [
       "              New_ID  TransactionAmount (INR)  CustAccountBalance\n",
       "214918   C1010117M29                    840.0            11787.98\n",
       "1027304  C1010117M29                    275.0             7634.23"
      ]
     },
     "execution_count": 39,
     "metadata": {},
     "output_type": "execute_result"
    }
   ],
   "source": [
    "df[df['New_ID'] == 'C1010117M29'][['New_ID', 'TransactionAmount (INR)', 'CustAccountBalance']] #example"
   ]
  },
  {
   "cell_type": "code",
   "execution_count": 40,
   "id": "9abd13f9",
   "metadata": {},
   "outputs": [],
   "source": [
    "df = df.groupby('New_ID').agg({'New_ID': 'first', 'CustGender': 'first', 'CustomerAge' : 'first', 'CustomerClassAge': 'first', 'TransactionAmount (INR)': 'mean', 'CustAccountBalance': 'mean'})"
   ]
  },
  {
   "cell_type": "code",
   "execution_count": 41,
   "id": "e8f31d5d",
   "metadata": {},
   "outputs": [
    {
     "data": {
      "text/html": [
       "<div>\n",
       "<style scoped>\n",
       "    .dataframe tbody tr th:only-of-type {\n",
       "        vertical-align: middle;\n",
       "    }\n",
       "\n",
       "    .dataframe tbody tr th {\n",
       "        vertical-align: top;\n",
       "    }\n",
       "\n",
       "    .dataframe thead th {\n",
       "        text-align: right;\n",
       "    }\n",
       "</style>\n",
       "<table border=\"1\" class=\"dataframe\">\n",
       "  <thead>\n",
       "    <tr style=\"text-align: right;\">\n",
       "      <th></th>\n",
       "      <th>New_ID</th>\n",
       "      <th>TransactionAmount (INR)</th>\n",
       "      <th>CustAccountBalance</th>\n",
       "    </tr>\n",
       "    <tr>\n",
       "      <th>New_ID</th>\n",
       "      <th></th>\n",
       "      <th></th>\n",
       "      <th></th>\n",
       "    </tr>\n",
       "  </thead>\n",
       "  <tbody>\n",
       "    <tr>\n",
       "      <th>C1010117M29</th>\n",
       "      <td>C1010117M29</td>\n",
       "      <td>557.5</td>\n",
       "      <td>9711.105</td>\n",
       "    </tr>\n",
       "  </tbody>\n",
       "</table>\n",
       "</div>"
      ],
      "text/plain": [
       "                  New_ID  TransactionAmount (INR)  CustAccountBalance\n",
       "New_ID                                                               \n",
       "C1010117M29  C1010117M29                    557.5            9711.105"
      ]
     },
     "execution_count": 41,
     "metadata": {},
     "output_type": "execute_result"
    }
   ],
   "source": [
    "df[df['New_ID'] == 'C1010117M29'][['New_ID', 'TransactionAmount (INR)', 'CustAccountBalance']] #example"
   ]
  },
  {
   "cell_type": "code",
   "execution_count": 42,
   "id": "aa54cef4",
   "metadata": {},
   "outputs": [],
   "source": [
    "df = df.reset_index(drop = True) #reset the indexes "
   ]
  },
  {
   "cell_type": "code",
   "execution_count": 43,
   "id": "a03b72ee",
   "metadata": {},
   "outputs": [
    {
     "data": {
      "text/html": [
       "<div>\n",
       "<style scoped>\n",
       "    .dataframe tbody tr th:only-of-type {\n",
       "        vertical-align: middle;\n",
       "    }\n",
       "\n",
       "    .dataframe tbody tr th {\n",
       "        vertical-align: top;\n",
       "    }\n",
       "\n",
       "    .dataframe thead th {\n",
       "        text-align: right;\n",
       "    }\n",
       "</style>\n",
       "<table border=\"1\" class=\"dataframe\">\n",
       "  <thead>\n",
       "    <tr style=\"text-align: right;\">\n",
       "      <th></th>\n",
       "      <th>New_ID</th>\n",
       "      <th>CustGender</th>\n",
       "      <th>CustomerAge</th>\n",
       "      <th>CustomerClassAge</th>\n",
       "      <th>TransactionAmount (INR)</th>\n",
       "      <th>CustAccountBalance</th>\n",
       "    </tr>\n",
       "  </thead>\n",
       "  <tbody>\n",
       "    <tr>\n",
       "      <th>0</th>\n",
       "      <td>C1010011F24</td>\n",
       "      <td>F</td>\n",
       "      <td>24</td>\n",
       "      <td>age_2</td>\n",
       "      <td>4750.0</td>\n",
       "      <td>32500.73</td>\n",
       "    </tr>\n",
       "    <tr>\n",
       "      <th>1</th>\n",
       "      <td>C1010011M33</td>\n",
       "      <td>M</td>\n",
       "      <td>33</td>\n",
       "      <td>age_4</td>\n",
       "      <td>356.0</td>\n",
       "      <td>120180.54</td>\n",
       "    </tr>\n",
       "    <tr>\n",
       "      <th>2</th>\n",
       "      <td>C1010012M22</td>\n",
       "      <td>M</td>\n",
       "      <td>22</td>\n",
       "      <td>age_2</td>\n",
       "      <td>1499.0</td>\n",
       "      <td>24204.49</td>\n",
       "    </tr>\n",
       "    <tr>\n",
       "      <th>3</th>\n",
       "      <td>C1010014F24</td>\n",
       "      <td>F</td>\n",
       "      <td>24</td>\n",
       "      <td>age_2</td>\n",
       "      <td>1205.0</td>\n",
       "      <td>38377.14</td>\n",
       "    </tr>\n",
       "    <tr>\n",
       "      <th>4</th>\n",
       "      <td>C1010014M32</td>\n",
       "      <td>M</td>\n",
       "      <td>32</td>\n",
       "      <td>age_4</td>\n",
       "      <td>250.0</td>\n",
       "      <td>161848.76</td>\n",
       "    </tr>\n",
       "    <tr>\n",
       "      <th>...</th>\n",
       "      <td>...</td>\n",
       "      <td>...</td>\n",
       "      <td>...</td>\n",
       "      <td>...</td>\n",
       "      <td>...</td>\n",
       "      <td>...</td>\n",
       "    </tr>\n",
       "    <tr>\n",
       "      <th>1034947</th>\n",
       "      <td>C9099836M26</td>\n",
       "      <td>M</td>\n",
       "      <td>26</td>\n",
       "      <td>age_3</td>\n",
       "      <td>691.0</td>\n",
       "      <td>133067.23</td>\n",
       "    </tr>\n",
       "    <tr>\n",
       "      <th>1034948</th>\n",
       "      <td>C9099877M20</td>\n",
       "      <td>M</td>\n",
       "      <td>20</td>\n",
       "      <td>age_1</td>\n",
       "      <td>222.0</td>\n",
       "      <td>96063.46</td>\n",
       "    </tr>\n",
       "    <tr>\n",
       "      <th>1034949</th>\n",
       "      <td>C9099919M23</td>\n",
       "      <td>M</td>\n",
       "      <td>23</td>\n",
       "      <td>age_2</td>\n",
       "      <td>126.0</td>\n",
       "      <td>5559.75</td>\n",
       "    </tr>\n",
       "    <tr>\n",
       "      <th>1034950</th>\n",
       "      <td>C9099941M21</td>\n",
       "      <td>M</td>\n",
       "      <td>21</td>\n",
       "      <td>age_2</td>\n",
       "      <td>50.0</td>\n",
       "      <td>35295.92</td>\n",
       "    </tr>\n",
       "    <tr>\n",
       "      <th>1034951</th>\n",
       "      <td>C9099956M34</td>\n",
       "      <td>M</td>\n",
       "      <td>34</td>\n",
       "      <td>age_4</td>\n",
       "      <td>855.0</td>\n",
       "      <td>6968.93</td>\n",
       "    </tr>\n",
       "  </tbody>\n",
       "</table>\n",
       "<p>1034952 rows × 6 columns</p>\n",
       "</div>"
      ],
      "text/plain": [
       "              New_ID CustGender  CustomerAge CustomerClassAge  \\\n",
       "0        C1010011F24          F           24            age_2   \n",
       "1        C1010011M33          M           33            age_4   \n",
       "2        C1010012M22          M           22            age_2   \n",
       "3        C1010014F24          F           24            age_2   \n",
       "4        C1010014M32          M           32            age_4   \n",
       "...              ...        ...          ...              ...   \n",
       "1034947  C9099836M26          M           26            age_3   \n",
       "1034948  C9099877M20          M           20            age_1   \n",
       "1034949  C9099919M23          M           23            age_2   \n",
       "1034950  C9099941M21          M           21            age_2   \n",
       "1034951  C9099956M34          M           34            age_4   \n",
       "\n",
       "         TransactionAmount (INR)  CustAccountBalance  \n",
       "0                         4750.0            32500.73  \n",
       "1                          356.0           120180.54  \n",
       "2                         1499.0            24204.49  \n",
       "3                         1205.0            38377.14  \n",
       "4                          250.0           161848.76  \n",
       "...                          ...                 ...  \n",
       "1034947                    691.0           133067.23  \n",
       "1034948                    222.0            96063.46  \n",
       "1034949                    126.0             5559.75  \n",
       "1034950                     50.0            35295.92  \n",
       "1034951                    855.0             6968.93  \n",
       "\n",
       "[1034952 rows x 6 columns]"
      ]
     },
     "execution_count": 43,
     "metadata": {},
     "output_type": "execute_result"
    }
   ],
   "source": [
    "df\n"
   ]
  },
  {
   "cell_type": "code",
   "execution_count": 44,
   "id": "b7e0c861",
   "metadata": {},
   "outputs": [
    {
     "data": {
      "text/plain": [
       "False"
      ]
     },
     "execution_count": 44,
     "metadata": {},
     "output_type": "execute_result"
    }
   ],
   "source": [
    "df.duplicated(subset = ['New_ID']).any() #chechink for duplicates to be sure that all worked properly"
   ]
  },
  {
   "cell_type": "markdown",
   "id": "7ea7c79c",
   "metadata": {},
   "source": [
    "# 1.1.5 Customer Account Balance"
   ]
  },
  {
   "cell_type": "markdown",
   "id": "6f1e5ce5",
   "metadata": {},
   "source": [
    "First of all we check the type:"
   ]
  },
  {
   "cell_type": "code",
   "execution_count": 45,
   "id": "61529986",
   "metadata": {},
   "outputs": [
    {
     "data": {
      "text/plain": [
       "numpy.float64"
      ]
     },
     "execution_count": 45,
     "metadata": {},
     "output_type": "execute_result"
    }
   ],
   "source": [
    "type(df['CustAccountBalance'][0])"
   ]
  },
  {
   "cell_type": "markdown",
   "id": "17f8efa5",
   "metadata": {},
   "source": [
    "Let's have a look to the distribution of the bank amount in function of ages:"
   ]
  },
  {
   "cell_type": "code",
   "execution_count": 46,
   "id": "933ae7db",
   "metadata": {},
   "outputs": [
    {
     "data": {
      "image/png": "[encoded data removed]",
      "text/plain": [
       "<Figure size 432x288 with 1 Axes>"
      ]
     },
     "metadata": {
      "needs_background": "light"
     },
     "output_type": "display_data"
    }
   ],
   "source": [
    "df[['CustAccountBalance', 'CustomerAge']].plot.scatter(x = 'CustomerAge', y = 'CustAccountBalance', c = 'red')\n",
    "\n",
    "\n",
    "plt.show()"
   ]
  },
  {
   "cell_type": "markdown",
   "id": "654e0deb",
   "metadata": {},
   "source": [
    "We decided to binning the CustAccountBalance through the qcut function: \"The pandas documentation describes qcut as a “Quantile-based discretization function.” This basically means that qcut tries to divide up the underlying data into equal sized bins. The function defines the bins using percentiles based on the distribution of the data, not the actual numeric edges of the bins. \""
   ]
  },
  {
   "cell_type": "code",
   "execution_count": 47,
   "id": "e084ce47",
   "metadata": {},
   "outputs": [
    {
     "data": {
      "text/plain": [
       "count    1.034952e+06\n",
       "mean     1.150577e+05\n",
       "std      8.427398e+05\n",
       "min      0.000000e+00\n",
       "25%      4.754290e+03\n",
       "50%      1.682766e+04\n",
       "75%      5.757180e+04\n",
       "max      1.150355e+08\n",
       "Name: CustAccountBalance, dtype: float64"
      ]
     },
     "execution_count": 47,
     "metadata": {},
     "output_type": "execute_result"
    }
   ],
   "source": [
    "df['CustAccountBalance'].describe()"
   ]
  },
  {
   "cell_type": "code",
   "execution_count": 48,
   "id": "3bf4cb96",
   "metadata": {},
   "outputs": [
    {
     "data": {
      "text/plain": [
       "0.000000e+00    2595\n",
       "1.000000e-02     299\n",
       "2.000000e-02      79\n",
       "3.000000e-02      44\n",
       "4.000000e-02      86\n",
       "                ... \n",
       "5.536969e+07      11\n",
       "6.138221e+07       1\n",
       "6.979933e+07       4\n",
       "8.224463e+07      18\n",
       "1.150355e+08      10\n",
       "Name: CustAccountBalance, Length: 164951, dtype: int64"
      ]
     },
     "execution_count": 48,
     "metadata": {},
     "output_type": "execute_result"
    }
   ],
   "source": [
    "df['CustAccountBalance'].value_counts().sort_index()"
   ]
  },
  {
   "cell_type": "markdown",
   "id": "13490ece",
   "metadata": {},
   "source": [
    "We decide to label people with 11 classes of richness, from 0 to 10. The 'richness_0' class contains all the accounts with bank amount less than 3.37 (0-0,01 bin) that could corresponds to people which have inactive account or that do not use too much that bank account. For that reason we decided to group them togheter."
   ]
  },
  {
   "cell_type": "code",
   "execution_count": 49,
   "id": "cff7c873",
   "metadata": {},
   "outputs": [],
   "source": [
    "bin_labels = ['richness_0', 'richness_1', 'richness_2', 'richness_3', 'richness_4', 'richness_5', 'richness_6', 'richness_7', 'richness_8', 'richness_9', 'richness_10']"
   ]
  },
  {
   "cell_type": "code",
   "execution_count": 50,
   "id": "f7fefae3",
   "metadata": {},
   "outputs": [],
   "source": [
    "#Use qcut to put into the right bin each value of bank amount creating richness class column \n",
    "\n",
    "df['Richness'] = pd.qcut(df['CustAccountBalance'], q = [0,0.01, .1, .2, .3, .4, .5, .6, .7, .8, .9, 1], labels = bin_labels)"
   ]
  },
  {
   "cell_type": "markdown",
   "id": "3f86e0e2",
   "metadata": {},
   "source": [
    "We need to save the edges values of the bins to use them in part 1.3 of the homework:"
   ]
  },
  {
   "cell_type": "code",
   "execution_count": 51,
   "id": "1cc6d0be",
   "metadata": {},
   "outputs": [],
   "source": [
    "query_bins_richness = np.quantile(df['CustAccountBalance'], [0,0.01, .1, .2, .3, .4, .5, .6, .7, .8, .9, 1])"
   ]
  },
  {
   "cell_type": "code",
   "execution_count": 53,
   "id": "5051d805",
   "metadata": {},
   "outputs": [
    {
     "data": {
      "text/html": [
       "<div>\n",
       "<style scoped>\n",
       "    .dataframe tbody tr th:only-of-type {\n",
       "        vertical-align: middle;\n",
       "    }\n",
       "\n",
       "    .dataframe tbody tr th {\n",
       "        vertical-align: top;\n",
       "    }\n",
       "\n",
       "    .dataframe thead th {\n",
       "        text-align: right;\n",
       "    }\n",
       "</style>\n",
       "<table border=\"1\" class=\"dataframe\">\n",
       "  <thead>\n",
       "    <tr style=\"text-align: right;\">\n",
       "      <th></th>\n",
       "      <th>New_ID</th>\n",
       "      <th>CustGender</th>\n",
       "      <th>CustomerAge</th>\n",
       "      <th>CustomerClassAge</th>\n",
       "      <th>TransactionAmount (INR)</th>\n",
       "      <th>CustAccountBalance</th>\n",
       "      <th>Richness</th>\n",
       "    </tr>\n",
       "  </thead>\n",
       "  <tbody>\n",
       "    <tr>\n",
       "      <th>206988</th>\n",
       "      <td>C2618951F0</td>\n",
       "      <td>F</td>\n",
       "      <td>0</td>\n",
       "      <td>age_0</td>\n",
       "      <td>17196.00</td>\n",
       "      <td>0.0</td>\n",
       "      <td>richness_0</td>\n",
       "    </tr>\n",
       "    <tr>\n",
       "      <th>80572</th>\n",
       "      <td>C1622848M23</td>\n",
       "      <td>M</td>\n",
       "      <td>23</td>\n",
       "      <td>age_2</td>\n",
       "      <td>350.00</td>\n",
       "      <td>0.0</td>\n",
       "      <td>richness_0</td>\n",
       "    </tr>\n",
       "    <tr>\n",
       "      <th>941651</th>\n",
       "      <td>C8338070M42</td>\n",
       "      <td>M</td>\n",
       "      <td>42</td>\n",
       "      <td>age_6</td>\n",
       "      <td>490.00</td>\n",
       "      <td>0.0</td>\n",
       "      <td>richness_0</td>\n",
       "    </tr>\n",
       "    <tr>\n",
       "      <th>427475</th>\n",
       "      <td>C4328426M33</td>\n",
       "      <td>M</td>\n",
       "      <td>33</td>\n",
       "      <td>age_4</td>\n",
       "      <td>1000.00</td>\n",
       "      <td>0.0</td>\n",
       "      <td>richness_0</td>\n",
       "    </tr>\n",
       "    <tr>\n",
       "      <th>488009</th>\n",
       "      <td>C4817922M67</td>\n",
       "      <td>M</td>\n",
       "      <td>67</td>\n",
       "      <td>age_11</td>\n",
       "      <td>480.00</td>\n",
       "      <td>0.0</td>\n",
       "      <td>richness_0</td>\n",
       "    </tr>\n",
       "    <tr>\n",
       "      <th>...</th>\n",
       "      <td>...</td>\n",
       "      <td>...</td>\n",
       "      <td>...</td>\n",
       "      <td>...</td>\n",
       "      <td>...</td>\n",
       "      <td>...</td>\n",
       "      <td>...</td>\n",
       "    </tr>\n",
       "    <tr>\n",
       "      <th>295881</th>\n",
       "      <td>C3316830M49</td>\n",
       "      <td>M</td>\n",
       "      <td>49</td>\n",
       "      <td>age_7</td>\n",
       "      <td>28019.32</td>\n",
       "      <td>115035495.1</td>\n",
       "      <td>richness_10</td>\n",
       "    </tr>\n",
       "    <tr>\n",
       "      <th>423744</th>\n",
       "      <td>C4316889M49</td>\n",
       "      <td>M</td>\n",
       "      <td>49</td>\n",
       "      <td>age_7</td>\n",
       "      <td>4364.00</td>\n",
       "      <td>115035495.1</td>\n",
       "      <td>richness_10</td>\n",
       "    </tr>\n",
       "    <tr>\n",
       "      <th>244635</th>\n",
       "      <td>C2916887M49</td>\n",
       "      <td>M</td>\n",
       "      <td>49</td>\n",
       "      <td>age_7</td>\n",
       "      <td>600.00</td>\n",
       "      <td>115035495.1</td>\n",
       "      <td>richness_10</td>\n",
       "    </tr>\n",
       "    <tr>\n",
       "      <th>908942</th>\n",
       "      <td>C8116818M49</td>\n",
       "      <td>M</td>\n",
       "      <td>49</td>\n",
       "      <td>age_7</td>\n",
       "      <td>3149.00</td>\n",
       "      <td>115035495.1</td>\n",
       "      <td>richness_10</td>\n",
       "    </tr>\n",
       "    <tr>\n",
       "      <th>155471</th>\n",
       "      <td>C2216823M49</td>\n",
       "      <td>M</td>\n",
       "      <td>49</td>\n",
       "      <td>age_7</td>\n",
       "      <td>4699.00</td>\n",
       "      <td>115035495.1</td>\n",
       "      <td>richness_10</td>\n",
       "    </tr>\n",
       "  </tbody>\n",
       "</table>\n",
       "<p>1034952 rows × 7 columns</p>\n",
       "</div>"
      ],
      "text/plain": [
       "             New_ID CustGender  CustomerAge CustomerClassAge  \\\n",
       "206988   C2618951F0          F            0            age_0   \n",
       "80572   C1622848M23          M           23            age_2   \n",
       "941651  C8338070M42          M           42            age_6   \n",
       "427475  C4328426M33          M           33            age_4   \n",
       "488009  C4817922M67          M           67           age_11   \n",
       "...             ...        ...          ...              ...   \n",
       "295881  C3316830M49          M           49            age_7   \n",
       "423744  C4316889M49          M           49            age_7   \n",
       "244635  C2916887M49          M           49            age_7   \n",
       "908942  C8116818M49          M           49            age_7   \n",
       "155471  C2216823M49          M           49            age_7   \n",
       "\n",
       "        TransactionAmount (INR)  CustAccountBalance     Richness  \n",
       "206988                 17196.00                 0.0   richness_0  \n",
       "80572                    350.00                 0.0   richness_0  \n",
       "941651                   490.00                 0.0   richness_0  \n",
       "427475                  1000.00                 0.0   richness_0  \n",
       "488009                   480.00                 0.0   richness_0  \n",
       "...                         ...                 ...          ...  \n",
       "295881                 28019.32         115035495.1  richness_10  \n",
       "423744                  4364.00         115035495.1  richness_10  \n",
       "244635                   600.00         115035495.1  richness_10  \n",
       "908942                  3149.00         115035495.1  richness_10  \n",
       "155471                  4699.00         115035495.1  richness_10  \n",
       "\n",
       "[1034952 rows x 7 columns]"
      ]
     },
     "execution_count": 53,
     "metadata": {},
     "output_type": "execute_result"
    }
   ],
   "source": [
    "df.sort_values(by = 'CustAccountBalance', ascending = True)"
   ]
  },
  {
   "cell_type": "code",
   "execution_count": 54,
   "id": "ffdc87db",
   "metadata": {},
   "outputs": [],
   "source": [
    "del df['CustAccountBalance']"
   ]
  },
  {
   "cell_type": "markdown",
   "id": "3f76c147",
   "metadata": {},
   "source": [
    "# 1.1.6 Transaction Amount (INR)"
   ]
  },
  {
   "cell_type": "markdown",
   "id": "5b12a2af",
   "metadata": {},
   "source": [
    "Check the type:"
   ]
  },
  {
   "cell_type": "code",
   "execution_count": 55,
   "id": "012ef2f4",
   "metadata": {},
   "outputs": [
    {
     "data": {
      "text/plain": [
       "numpy.float64"
      ]
     },
     "execution_count": 55,
     "metadata": {},
     "output_type": "execute_result"
    }
   ],
   "source": [
    "type(df['TransactionAmount (INR)'][0])"
   ]
  },
  {
   "cell_type": "markdown",
   "id": "67ac56c3",
   "metadata": {},
   "source": [
    "Let's have a look to the distribution of the transaction amount in function of ages:"
   ]
  },
  {
   "cell_type": "code",
   "execution_count": 56,
   "id": "71cd1f35",
   "metadata": {},
   "outputs": [
    {
     "data": {
      "image/png": "[encoded data removed]",
      "text/plain": [
       "<Figure size 432x288 with 1 Axes>"
      ]
     },
     "metadata": {
      "needs_background": "light"
     },
     "output_type": "display_data"
    }
   ],
   "source": [
    "df[['TransactionAmount (INR)', 'CustomerAge']].plot(kind = 'scatter', x= 'CustomerAge', y = 'TransactionAmount (INR)', c = 'green')\n",
    "\n",
    "plt.show()"
   ]
  },
  {
   "cell_type": "code",
   "execution_count": 57,
   "id": "df757550",
   "metadata": {},
   "outputs": [
    {
     "data": {
      "text/plain": [
       "count    1.034952e+06\n",
       "mean     1.566104e+03\n",
       "std      6.541172e+03\n",
       "min      0.000000e+00\n",
       "25%      1.620000e+02\n",
       "50%      4.590000e+02\n",
       "75%      1.200000e+03\n",
       "max      1.560035e+06\n",
       "Name: TransactionAmount (INR), dtype: float64"
      ]
     },
     "execution_count": 57,
     "metadata": {},
     "output_type": "execute_result"
    }
   ],
   "source": [
    "df['TransactionAmount (INR)'].describe()"
   ]
  },
  {
   "cell_type": "markdown",
   "id": "5bc3a559",
   "metadata": {},
   "source": [
    "The procedure is the same of the previous point and consists in creating a new column called 'expenditure' in which are inserted the class of 'how much does a user spend'."
   ]
  },
  {
   "cell_type": "code",
   "execution_count": 58,
   "id": "c488df83",
   "metadata": {},
   "outputs": [],
   "source": [
    "bin_labels = ['exp_1', 'exp_2', 'exp_3', 'exp_4', 'exp_5', 'exp_6', 'exp_7', 'exp_8', 'exp_9', 'exp_10']"
   ]
  },
  {
   "cell_type": "code",
   "execution_count": 59,
   "id": "11b10152",
   "metadata": {},
   "outputs": [],
   "source": [
    "#Use qcut to create the expenditure column\n",
    "\n",
    "df['Expenditure'] = pd.qcut(df['TransactionAmount (INR)'], q = [0, .1, .2, .3, .4, .5, .6, .7, .8, .9, 1], labels = bin_labels)"
   ]
  },
  {
   "cell_type": "markdown",
   "id": "b83aed02",
   "metadata": {},
   "source": [
    "We need to save the values of the edges of the bin to insert into them the query in the following point:"
   ]
  },
  {
   "cell_type": "code",
   "execution_count": 60,
   "id": "7f5563f5",
   "metadata": {},
   "outputs": [],
   "source": [
    "query_bins_expenditure = np.quantile(df['TransactionAmount (INR)'], [0, .1, .2, .3, .4, .5, .6, .7, .8, .9, 1])"
   ]
  },
  {
   "cell_type": "code",
   "execution_count": 62,
   "id": "c0bacedb",
   "metadata": {},
   "outputs": [
    {
     "data": {
      "text/html": [
       "<div>\n",
       "<style scoped>\n",
       "    .dataframe tbody tr th:only-of-type {\n",
       "        vertical-align: middle;\n",
       "    }\n",
       "\n",
       "    .dataframe tbody tr th {\n",
       "        vertical-align: top;\n",
       "    }\n",
       "\n",
       "    .dataframe thead th {\n",
       "        text-align: right;\n",
       "    }\n",
       "</style>\n",
       "<table border=\"1\" class=\"dataframe\">\n",
       "  <thead>\n",
       "    <tr style=\"text-align: right;\">\n",
       "      <th></th>\n",
       "      <th>New_ID</th>\n",
       "      <th>CustGender</th>\n",
       "      <th>CustomerAge</th>\n",
       "      <th>CustomerClassAge</th>\n",
       "      <th>TransactionAmount (INR)</th>\n",
       "      <th>Richness</th>\n",
       "      <th>Expenditure</th>\n",
       "    </tr>\n",
       "  </thead>\n",
       "  <tbody>\n",
       "    <tr>\n",
       "      <th>0</th>\n",
       "      <td>C1010011F24</td>\n",
       "      <td>F</td>\n",
       "      <td>24</td>\n",
       "      <td>age_2</td>\n",
       "      <td>4750.0</td>\n",
       "      <td>richness_7</td>\n",
       "      <td>exp_10</td>\n",
       "    </tr>\n",
       "    <tr>\n",
       "      <th>1</th>\n",
       "      <td>C1010011M33</td>\n",
       "      <td>M</td>\n",
       "      <td>33</td>\n",
       "      <td>age_4</td>\n",
       "      <td>356.0</td>\n",
       "      <td>richness_9</td>\n",
       "      <td>exp_5</td>\n",
       "    </tr>\n",
       "    <tr>\n",
       "      <th>2</th>\n",
       "      <td>C1010012M22</td>\n",
       "      <td>M</td>\n",
       "      <td>22</td>\n",
       "      <td>age_2</td>\n",
       "      <td>1499.0</td>\n",
       "      <td>richness_6</td>\n",
       "      <td>exp_8</td>\n",
       "    </tr>\n",
       "    <tr>\n",
       "      <th>3</th>\n",
       "      <td>C1010014F24</td>\n",
       "      <td>F</td>\n",
       "      <td>24</td>\n",
       "      <td>age_2</td>\n",
       "      <td>1205.0</td>\n",
       "      <td>richness_7</td>\n",
       "      <td>exp_8</td>\n",
       "    </tr>\n",
       "    <tr>\n",
       "      <th>4</th>\n",
       "      <td>C1010014M32</td>\n",
       "      <td>M</td>\n",
       "      <td>32</td>\n",
       "      <td>age_4</td>\n",
       "      <td>250.0</td>\n",
       "      <td>richness_9</td>\n",
       "      <td>exp_4</td>\n",
       "    </tr>\n",
       "  </tbody>\n",
       "</table>\n",
       "</div>"
      ],
      "text/plain": [
       "        New_ID CustGender  CustomerAge CustomerClassAge  \\\n",
       "0  C1010011F24          F           24            age_2   \n",
       "1  C1010011M33          M           33            age_4   \n",
       "2  C1010012M22          M           22            age_2   \n",
       "3  C1010014F24          F           24            age_2   \n",
       "4  C1010014M32          M           32            age_4   \n",
       "\n",
       "   TransactionAmount (INR)    Richness Expenditure  \n",
       "0                   4750.0  richness_7      exp_10  \n",
       "1                    356.0  richness_9       exp_5  \n",
       "2                   1499.0  richness_6       exp_8  \n",
       "3                   1205.0  richness_7       exp_8  \n",
       "4                    250.0  richness_9       exp_4  "
      ]
     },
     "execution_count": 62,
     "metadata": {},
     "output_type": "execute_result"
    }
   ],
   "source": [
    "df.head()"
   ]
  },
  {
   "cell_type": "code",
   "execution_count": 63,
   "id": "b706537a",
   "metadata": {},
   "outputs": [],
   "source": [
    "del df['TransactionAmount (INR)'], df['CustomerAge']"
   ]
  },
  {
   "cell_type": "markdown",
   "id": "a4701ab9",
   "metadata": {},
   "source": [
    "# 1.1.7 Final Dataset"
   ]
  },
  {
   "cell_type": "markdown",
   "id": "6b48fbb8",
   "metadata": {},
   "source": [
    "The final result is the following: "
   ]
  },
  {
   "cell_type": "code",
   "execution_count": 64,
   "id": "5581f5dc",
   "metadata": {},
   "outputs": [
    {
     "data": {
      "text/html": [
       "<div>\n",
       "<style scoped>\n",
       "    .dataframe tbody tr th:only-of-type {\n",
       "        vertical-align: middle;\n",
       "    }\n",
       "\n",
       "    .dataframe tbody tr th {\n",
       "        vertical-align: top;\n",
       "    }\n",
       "\n",
       "    .dataframe thead th {\n",
       "        text-align: right;\n",
       "    }\n",
       "</style>\n",
       "<table border=\"1\" class=\"dataframe\">\n",
       "  <thead>\n",
       "    <tr style=\"text-align: right;\">\n",
       "      <th></th>\n",
       "      <th>New_ID</th>\n",
       "      <th>CustGender</th>\n",
       "      <th>CustomerClassAge</th>\n",
       "      <th>Richness</th>\n",
       "      <th>Expenditure</th>\n",
       "    </tr>\n",
       "  </thead>\n",
       "  <tbody>\n",
       "    <tr>\n",
       "      <th>0</th>\n",
       "      <td>C1010011F24</td>\n",
       "      <td>F</td>\n",
       "      <td>age_2</td>\n",
       "      <td>richness_7</td>\n",
       "      <td>exp_10</td>\n",
       "    </tr>\n",
       "    <tr>\n",
       "      <th>1</th>\n",
       "      <td>C1010011M33</td>\n",
       "      <td>M</td>\n",
       "      <td>age_4</td>\n",
       "      <td>richness_9</td>\n",
       "      <td>exp_5</td>\n",
       "    </tr>\n",
       "    <tr>\n",
       "      <th>2</th>\n",
       "      <td>C1010012M22</td>\n",
       "      <td>M</td>\n",
       "      <td>age_2</td>\n",
       "      <td>richness_6</td>\n",
       "      <td>exp_8</td>\n",
       "    </tr>\n",
       "    <tr>\n",
       "      <th>3</th>\n",
       "      <td>C1010014F24</td>\n",
       "      <td>F</td>\n",
       "      <td>age_2</td>\n",
       "      <td>richness_7</td>\n",
       "      <td>exp_8</td>\n",
       "    </tr>\n",
       "    <tr>\n",
       "      <th>4</th>\n",
       "      <td>C1010014M32</td>\n",
       "      <td>M</td>\n",
       "      <td>age_4</td>\n",
       "      <td>richness_9</td>\n",
       "      <td>exp_4</td>\n",
       "    </tr>\n",
       "    <tr>\n",
       "      <th>...</th>\n",
       "      <td>...</td>\n",
       "      <td>...</td>\n",
       "      <td>...</td>\n",
       "      <td>...</td>\n",
       "      <td>...</td>\n",
       "    </tr>\n",
       "    <tr>\n",
       "      <th>1034947</th>\n",
       "      <td>C9099836M26</td>\n",
       "      <td>M</td>\n",
       "      <td>age_3</td>\n",
       "      <td>richness_9</td>\n",
       "      <td>exp_7</td>\n",
       "    </tr>\n",
       "    <tr>\n",
       "      <th>1034948</th>\n",
       "      <td>C9099877M20</td>\n",
       "      <td>M</td>\n",
       "      <td>age_1</td>\n",
       "      <td>richness_9</td>\n",
       "      <td>exp_4</td>\n",
       "    </tr>\n",
       "    <tr>\n",
       "      <th>1034949</th>\n",
       "      <td>C9099919M23</td>\n",
       "      <td>M</td>\n",
       "      <td>age_2</td>\n",
       "      <td>richness_3</td>\n",
       "      <td>exp_3</td>\n",
       "    </tr>\n",
       "    <tr>\n",
       "      <th>1034950</th>\n",
       "      <td>C9099941M21</td>\n",
       "      <td>M</td>\n",
       "      <td>age_2</td>\n",
       "      <td>richness_7</td>\n",
       "      <td>exp_1</td>\n",
       "    </tr>\n",
       "    <tr>\n",
       "      <th>1034951</th>\n",
       "      <td>C9099956M34</td>\n",
       "      <td>M</td>\n",
       "      <td>age_4</td>\n",
       "      <td>richness_4</td>\n",
       "      <td>exp_7</td>\n",
       "    </tr>\n",
       "  </tbody>\n",
       "</table>\n",
       "<p>1034952 rows × 5 columns</p>\n",
       "</div>"
      ],
      "text/plain": [
       "              New_ID CustGender CustomerClassAge    Richness Expenditure\n",
       "0        C1010011F24          F            age_2  richness_7      exp_10\n",
       "1        C1010011M33          M            age_4  richness_9       exp_5\n",
       "2        C1010012M22          M            age_2  richness_6       exp_8\n",
       "3        C1010014F24          F            age_2  richness_7       exp_8\n",
       "4        C1010014M32          M            age_4  richness_9       exp_4\n",
       "...              ...        ...              ...         ...         ...\n",
       "1034947  C9099836M26          M            age_3  richness_9       exp_7\n",
       "1034948  C9099877M20          M            age_1  richness_9       exp_4\n",
       "1034949  C9099919M23          M            age_2  richness_3       exp_3\n",
       "1034950  C9099941M21          M            age_2  richness_7       exp_1\n",
       "1034951  C9099956M34          M            age_4  richness_4       exp_7\n",
       "\n",
       "[1034952 rows x 5 columns]"
      ]
     },
     "execution_count": 64,
     "metadata": {},
     "output_type": "execute_result"
    }
   ],
   "source": [
    "df = df.reset_index(drop = True)\n",
    "df"
   ]
  },
  {
   "cell_type": "code",
   "execution_count": 65,
   "id": "558aab33",
   "metadata": {},
   "outputs": [],
   "source": [
    "df.to_csv('data/data.csv', sep = '\\t') #save the dataset"
   ]
  },
  {
   "cell_type": "markdown",
   "id": "7e465c55",
   "metadata": {},
   "source": [
    "# 1.2 Fingerprint hashing\n",
    "\n",
    "Using the previously selected data with the features you found pertinent, you have to:\n",
    "\n",
    "Implement your minhash function from scratch. No ready-made hash functions are allowed. Read the class material and search the internet if you need to. For reference, it may be practical to look at the description of hash functions in the book.\n",
    "\n",
    "Process the dataset and add each record to the MinHash. The subtask's goal is to try and map each consumer to its bin; to ensure this works well, be sure you understand how MinHash works and choose a matching threshold to use. Before moving on, experiment with different thresholds, explaining your choice."
   ]
  },
  {
   "cell_type": "code",
   "execution_count": 65,
   "id": "2e649f53",
   "metadata": {},
   "outputs": [],
   "source": [
    "import pandas as pd\n",
    "from tqdm import tqdm as tq\n",
    "import warnings\n",
    "import numpy as np\n",
    "warnings.filterwarnings(\"ignore\")"
   ]
  },
  {
   "cell_type": "code",
   "execution_count": 143,
   "id": "172d4498",
   "metadata": {},
   "outputs": [],
   "source": [
    "df = pd.read_csv(\"data/data.csv\", sep = '\\t') #load the \"cleaned\" dataset"
   ]
  },
  {
   "cell_type": "code",
   "execution_count": 144,
   "id": "1dae9645",
   "metadata": {},
   "outputs": [
    {
     "data": {
      "text/html": [
       "<div>\n",
       "<style scoped>\n",
       "    .dataframe tbody tr th:only-of-type {\n",
       "        vertical-align: middle;\n",
       "    }\n",
       "\n",
       "    .dataframe tbody tr th {\n",
       "        vertical-align: top;\n",
       "    }\n",
       "\n",
       "    .dataframe thead th {\n",
       "        text-align: right;\n",
       "    }\n",
       "</style>\n",
       "<table border=\"1\" class=\"dataframe\">\n",
       "  <thead>\n",
       "    <tr style=\"text-align: right;\">\n",
       "      <th></th>\n",
       "      <th>Unnamed: 0</th>\n",
       "      <th>New_ID</th>\n",
       "      <th>CustGender</th>\n",
       "      <th>CustomerClassAge</th>\n",
       "      <th>Richness</th>\n",
       "      <th>Expenditure</th>\n",
       "    </tr>\n",
       "  </thead>\n",
       "  <tbody>\n",
       "    <tr>\n",
       "      <th>0</th>\n",
       "      <td>0</td>\n",
       "      <td>C1010011F24</td>\n",
       "      <td>F</td>\n",
       "      <td>age_2</td>\n",
       "      <td>richness_7</td>\n",
       "      <td>exp_10</td>\n",
       "    </tr>\n",
       "    <tr>\n",
       "      <th>1</th>\n",
       "      <td>1</td>\n",
       "      <td>C1010011M33</td>\n",
       "      <td>M</td>\n",
       "      <td>age_4</td>\n",
       "      <td>richness_9</td>\n",
       "      <td>exp_5</td>\n",
       "    </tr>\n",
       "    <tr>\n",
       "      <th>2</th>\n",
       "      <td>2</td>\n",
       "      <td>C1010012M22</td>\n",
       "      <td>M</td>\n",
       "      <td>age_2</td>\n",
       "      <td>richness_6</td>\n",
       "      <td>exp_8</td>\n",
       "    </tr>\n",
       "    <tr>\n",
       "      <th>3</th>\n",
       "      <td>3</td>\n",
       "      <td>C1010014F24</td>\n",
       "      <td>F</td>\n",
       "      <td>age_2</td>\n",
       "      <td>richness_7</td>\n",
       "      <td>exp_8</td>\n",
       "    </tr>\n",
       "    <tr>\n",
       "      <th>4</th>\n",
       "      <td>4</td>\n",
       "      <td>C1010014M32</td>\n",
       "      <td>M</td>\n",
       "      <td>age_4</td>\n",
       "      <td>richness_9</td>\n",
       "      <td>exp_4</td>\n",
       "    </tr>\n",
       "    <tr>\n",
       "      <th>...</th>\n",
       "      <td>...</td>\n",
       "      <td>...</td>\n",
       "      <td>...</td>\n",
       "      <td>...</td>\n",
       "      <td>...</td>\n",
       "      <td>...</td>\n",
       "    </tr>\n",
       "    <tr>\n",
       "      <th>1034947</th>\n",
       "      <td>1034947</td>\n",
       "      <td>C9099836M26</td>\n",
       "      <td>M</td>\n",
       "      <td>age_3</td>\n",
       "      <td>richness_9</td>\n",
       "      <td>exp_7</td>\n",
       "    </tr>\n",
       "    <tr>\n",
       "      <th>1034948</th>\n",
       "      <td>1034948</td>\n",
       "      <td>C9099877M20</td>\n",
       "      <td>M</td>\n",
       "      <td>age_1</td>\n",
       "      <td>richness_9</td>\n",
       "      <td>exp_4</td>\n",
       "    </tr>\n",
       "    <tr>\n",
       "      <th>1034949</th>\n",
       "      <td>1034949</td>\n",
       "      <td>C9099919M23</td>\n",
       "      <td>M</td>\n",
       "      <td>age_2</td>\n",
       "      <td>richness_3</td>\n",
       "      <td>exp_3</td>\n",
       "    </tr>\n",
       "    <tr>\n",
       "      <th>1034950</th>\n",
       "      <td>1034950</td>\n",
       "      <td>C9099941M21</td>\n",
       "      <td>M</td>\n",
       "      <td>age_2</td>\n",
       "      <td>richness_7</td>\n",
       "      <td>exp_1</td>\n",
       "    </tr>\n",
       "    <tr>\n",
       "      <th>1034951</th>\n",
       "      <td>1034951</td>\n",
       "      <td>C9099956M34</td>\n",
       "      <td>M</td>\n",
       "      <td>age_4</td>\n",
       "      <td>richness_4</td>\n",
       "      <td>exp_7</td>\n",
       "    </tr>\n",
       "  </tbody>\n",
       "</table>\n",
       "<p>1034952 rows × 6 columns</p>\n",
       "</div>"
      ],
      "text/plain": [
       "         Unnamed: 0       New_ID CustGender CustomerClassAge    Richness  \\\n",
       "0                 0  C1010011F24          F            age_2  richness_7   \n",
       "1                 1  C1010011M33          M            age_4  richness_9   \n",
       "2                 2  C1010012M22          M            age_2  richness_6   \n",
       "3                 3  C1010014F24          F            age_2  richness_7   \n",
       "4                 4  C1010014M32          M            age_4  richness_9   \n",
       "...             ...          ...        ...              ...         ...   \n",
       "1034947     1034947  C9099836M26          M            age_3  richness_9   \n",
       "1034948     1034948  C9099877M20          M            age_1  richness_9   \n",
       "1034949     1034949  C9099919M23          M            age_2  richness_3   \n",
       "1034950     1034950  C9099941M21          M            age_2  richness_7   \n",
       "1034951     1034951  C9099956M34          M            age_4  richness_4   \n",
       "\n",
       "        Expenditure  \n",
       "0            exp_10  \n",
       "1             exp_5  \n",
       "2             exp_8  \n",
       "3             exp_8  \n",
       "4             exp_4  \n",
       "...             ...  \n",
       "1034947       exp_7  \n",
       "1034948       exp_4  \n",
       "1034949       exp_3  \n",
       "1034950       exp_1  \n",
       "1034951       exp_7  \n",
       "\n",
       "[1034952 rows x 6 columns]"
      ]
     },
     "execution_count": 144,
     "metadata": {},
     "output_type": "execute_result"
    }
   ],
   "source": [
    "df"
   ]
  },
  {
   "cell_type": "code",
   "execution_count": 145,
   "id": "cbec36df",
   "metadata": {},
   "outputs": [],
   "source": [
    "del df['Unnamed: 0']"
   ]
  },
  {
   "cell_type": "markdown",
   "id": "9dc8bf41",
   "metadata": {},
   "source": [
    "# 1.2.1 Shingles"
   ]
  },
  {
   "cell_type": "markdown",
   "id": "a34e580a",
   "metadata": {},
   "source": [
    "First of all we build the shingles from all the unique values per column in the loaded dataset. We ignore the `TransactionID` column because it is not a shingle."
   ]
  },
  {
   "cell_type": "code",
   "execution_count": 69,
   "id": "ce2defe3",
   "metadata": {},
   "outputs": [],
   "source": [
    "shingles = [] #initialize shingles\n",
    "for column_name in df.columns[1:]: \n",
    "    shingles += sorted(list(df[column_name].unique())) \n",
    "    \n",
    "shingles.remove('age_0')\n",
    "\n",
    "#In order to not aggregate people who are labelled with age_0, corresponding to the Customer DOB with year 1800 \n",
    "#(nan), we decided to remove age_0 from shingles such that those people will not have any 1 in the shingle matrix.\n",
    "#For that reason they will not be considered similar to anyone for the age, but only for the other fields."
   ]
  },
  {
   "cell_type": "code",
   "execution_count": 70,
   "id": "f6735222",
   "metadata": {},
   "outputs": [
    {
     "name": "stdout",
     "output_type": "stream",
     "text": [
      "['F', 'M', 'age_1', 'age_10', 'age_11', 'age_12', 'age_13', 'age_14', 'age_15', 'age_16', 'age_17', 'age_2', 'age_3', 'age_4', 'age_5', 'age_6', 'age_7', 'age_8', 'age_9', 'richness_0', 'richness_1', 'richness_10', 'richness_2', 'richness_3', 'richness_4', 'richness_5', 'richness_6', 'richness_7', 'richness_8', 'richness_9', 'exp_1', 'exp_10', 'exp_2', 'exp_3', 'exp_4', 'exp_5', 'exp_6', 'exp_7', 'exp_8', 'exp_9']\n"
     ]
    }
   ],
   "source": [
    "print(shingles)"
   ]
  },
  {
   "cell_type": "markdown",
   "id": "56a97def",
   "metadata": {},
   "source": [
    "# 1.2.2 Create Shingle Matrix"
   ]
  },
  {
   "cell_type": "markdown",
   "id": "2dae9e7b",
   "metadata": {},
   "source": [
    "First of all we create the function which maps each transaction into a vector of 0/1 based on the shingles. "
   ]
  },
  {
   "cell_type": "code",
   "execution_count": 71,
   "id": "b838ed76",
   "metadata": {},
   "outputs": [],
   "source": [
    "def one_hot_vector(data, index):\n",
    "    \"\"\"Creates a one hot vector for the row found in the data at the given index based on the shingles.\n",
    "    \n",
    "    :args\n",
    "    data - a pandas dataframe containing the data.\n",
    "    index - an int which corresponds to the row that will be turned into a one hot vector.\n",
    "    \n",
    "    :returns\n",
    "    a numpy array one hot representation of the row\n",
    "    \"\"\"\n",
    "    \n",
    "    values = data.loc[index][['CustGender', 'CustomerClassAge', 'Richness', 'Expenditure']].values #extract values\n",
    "    \n",
    "    indeces = np.where(values.reshape(values.size, 1) == shingles)[1]  #save indexes\n",
    "    \n",
    "    vector = np.zeros(len(shingles), dtype = int)  #initialize vector\n",
    "    \n",
    "    vector[indeces] = 1  #substitute 1 in the correct positions\n",
    "    \n",
    "    return vector"
   ]
  },
  {
   "cell_type": "markdown",
   "id": "579bb582",
   "metadata": {},
   "source": [
    "Example:"
   ]
  },
  {
   "cell_type": "code",
   "execution_count": 73,
   "id": "487e1675",
   "metadata": {},
   "outputs": [
    {
     "data": {
      "text/plain": [
       "New_ID              C1010011M33\n",
       "CustGender                    M\n",
       "CustomerClassAge          age_4\n",
       "Richness             richness_9\n",
       "Expenditure               exp_5\n",
       "Name: 1, dtype: object"
      ]
     },
     "execution_count": 73,
     "metadata": {},
     "output_type": "execute_result"
    }
   ],
   "source": [
    "df.loc[1]"
   ]
  },
  {
   "cell_type": "code",
   "execution_count": 74,
   "id": "c41f5cfb",
   "metadata": {},
   "outputs": [
    {
     "name": "stdout",
     "output_type": "stream",
     "text": [
      "[0 1 0 0 0 0 0 0 0 0 0 0 0 1 0 0 0 0 0 0 0 0 0 0 0 0 0 0 0 1 0 0 0 0 0 1 0\n",
      " 0 0 0]\n"
     ]
    }
   ],
   "source": [
    "print(one_hot_vector(df, 1)) #one hot vector of user C1010011M33"
   ]
  },
  {
   "cell_type": "markdown",
   "id": "e6a3d5da",
   "metadata": {},
   "source": [
    "Now we can build a sparse matrix with all the encoded transaction. We don't need to insert into the matrix the name of the Customer cause they are linked to the index of the shingle matrix through the index of the column.  "
   ]
  },
  {
   "cell_type": "code",
   "execution_count": 76,
   "id": "77acd2db",
   "metadata": {},
   "outputs": [
    {
     "name": "stderr",
     "output_type": "stream",
     "text": [
      "100%|███████████████████████████████| 1034952/1034952 [12:49<00:00, 1344.65it/s]\n"
     ]
    }
   ],
   "source": [
    "shingle_matrix = np.zeros((len(df), 40), dtype = int)\n",
    "\n",
    "for i in tq(range(len(df))):\n",
    "    # Append the one hot vectors as rows\n",
    "    shingle_matrix[df.index[i]] = one_hot_vector(df, i) \n",
    "\n",
    "# We need to transpose because for the shuffling, the Shingles need to be the rows\n",
    "shingle_matrix = shingle_matrix.T"
   ]
  },
  {
   "cell_type": "markdown",
   "id": "0555b759",
   "metadata": {},
   "source": [
    "# 1.2.3 Create the Signature Matrix\n",
    "From the Shingle Matrix, we will now create the signature matrix by doing the following:\n",
    "1. Shuffle the rows of the Shingle Matrix.\n",
    "1. Create a vector where each element corresponds to the index of the row of each column (Shingle) where the first 1 is found.\n",
    "1. Append this vector to the Signature Matrix.\n",
    "1. Repeat $n$ times.\n",
    "\n",
    "The goal of the MinHash is to replace a large set with a smaller \"signature\" that still preserves the underlying similarity metric."
   ]
  },
  {
   "cell_type": "code",
   "execution_count": 80,
   "id": "01a28ff4",
   "metadata": {},
   "outputs": [],
   "source": [
    "n_permutations = 20 #number of permutations = number of rows of the signature matrix\n",
    "signature_matrix = np.zeros((20, shingle_matrix.shape[1]), dtype = int) #initialize signature matrix\n",
    "seed = np.random.randint(0, 100000)\n",
    "np.random.seed(seed) #set seed for reproducibility"
   ]
  },
  {
   "cell_type": "code",
   "execution_count": 81,
   "id": "55cee0c8",
   "metadata": {},
   "outputs": [
    {
     "name": "stderr",
     "output_type": "stream",
     "text": [
      "100%|███████████████████████████████████████████| 20/20 [00:34<00:00,  1.72s/it]\n"
     ]
    }
   ],
   "source": [
    "for i in tq(range(n_permutations)):\n",
    "    # 1. Shuffle rows\n",
    "    np.random.shuffle(shingle_matrix)\n",
    "    \n",
    "    # 2. Create the vector of indeces where the first 1 is found. np.argmax stops at the first occurrence\n",
    "    signature_row = np.argmax(shingle_matrix == 1, axis=0) + 1\n",
    "    \n",
    "    # 3. Add to signature matrix\n",
    "    signature_matrix[i] = signature_row"
   ]
  },
  {
   "cell_type": "code",
   "execution_count": 82,
   "id": "42835b12",
   "metadata": {},
   "outputs": [
    {
     "data": {
      "text/plain": [
       "array([[17, 14, 16, ..., 16, 16, 16],\n",
       "       [ 9, 11, 23, ...,  6,  2,  3],\n",
       "       [ 9, 14, 27, ...,  7, 13, 14],\n",
       "       ...,\n",
       "       [ 7, 17,  8, ...,  8,  3, 16],\n",
       "       [24,  3, 10, ...,  6, 20,  7],\n",
       "       [ 2,  1,  1, ...,  1,  1,  1]])"
      ]
     },
     "execution_count": 82,
     "metadata": {},
     "output_type": "execute_result"
    }
   ],
   "source": [
    "signature_matrix"
   ]
  },
  {
   "cell_type": "code",
   "execution_count": 83,
   "id": "8e6c2a16",
   "metadata": {},
   "outputs": [
    {
     "data": {
      "text/plain": [
       "(20, 1034952)"
      ]
     },
     "execution_count": 83,
     "metadata": {},
     "output_type": "execute_result"
    }
   ],
   "source": [
    "signature_matrix.shape"
   ]
  },
  {
   "cell_type": "markdown",
   "id": "b96bf70c",
   "metadata": {},
   "source": [
    "The index of the column can be referred to the customer ID looking at the index of the initial dataframe: "
   ]
  },
  {
   "cell_type": "code",
   "execution_count": 84,
   "id": "5f6e9b2f",
   "metadata": {},
   "outputs": [
    {
     "data": {
      "text/html": [
       "<div>\n",
       "<style scoped>\n",
       "    .dataframe tbody tr th:only-of-type {\n",
       "        vertical-align: middle;\n",
       "    }\n",
       "\n",
       "    .dataframe tbody tr th {\n",
       "        vertical-align: top;\n",
       "    }\n",
       "\n",
       "    .dataframe thead th {\n",
       "        text-align: right;\n",
       "    }\n",
       "</style>\n",
       "<table border=\"1\" class=\"dataframe\">\n",
       "  <thead>\n",
       "    <tr style=\"text-align: right;\">\n",
       "      <th></th>\n",
       "      <th>New_ID</th>\n",
       "      <th>CustGender</th>\n",
       "      <th>CustomerClassAge</th>\n",
       "      <th>Richness</th>\n",
       "      <th>Expenditure</th>\n",
       "    </tr>\n",
       "  </thead>\n",
       "  <tbody>\n",
       "    <tr>\n",
       "      <th>0</th>\n",
       "      <td>C1010011F24</td>\n",
       "      <td>F</td>\n",
       "      <td>age_2</td>\n",
       "      <td>richness_7</td>\n",
       "      <td>exp_10</td>\n",
       "    </tr>\n",
       "    <tr>\n",
       "      <th>1</th>\n",
       "      <td>C1010011M33</td>\n",
       "      <td>M</td>\n",
       "      <td>age_4</td>\n",
       "      <td>richness_9</td>\n",
       "      <td>exp_5</td>\n",
       "    </tr>\n",
       "    <tr>\n",
       "      <th>2</th>\n",
       "      <td>C1010012M22</td>\n",
       "      <td>M</td>\n",
       "      <td>age_2</td>\n",
       "      <td>richness_6</td>\n",
       "      <td>exp_8</td>\n",
       "    </tr>\n",
       "    <tr>\n",
       "      <th>3</th>\n",
       "      <td>C1010014F24</td>\n",
       "      <td>F</td>\n",
       "      <td>age_2</td>\n",
       "      <td>richness_7</td>\n",
       "      <td>exp_8</td>\n",
       "    </tr>\n",
       "    <tr>\n",
       "      <th>4</th>\n",
       "      <td>C1010014M32</td>\n",
       "      <td>M</td>\n",
       "      <td>age_4</td>\n",
       "      <td>richness_9</td>\n",
       "      <td>exp_4</td>\n",
       "    </tr>\n",
       "    <tr>\n",
       "      <th>...</th>\n",
       "      <td>...</td>\n",
       "      <td>...</td>\n",
       "      <td>...</td>\n",
       "      <td>...</td>\n",
       "      <td>...</td>\n",
       "    </tr>\n",
       "    <tr>\n",
       "      <th>1034947</th>\n",
       "      <td>C9099836M26</td>\n",
       "      <td>M</td>\n",
       "      <td>age_3</td>\n",
       "      <td>richness_9</td>\n",
       "      <td>exp_7</td>\n",
       "    </tr>\n",
       "    <tr>\n",
       "      <th>1034948</th>\n",
       "      <td>C9099877M20</td>\n",
       "      <td>M</td>\n",
       "      <td>age_1</td>\n",
       "      <td>richness_9</td>\n",
       "      <td>exp_4</td>\n",
       "    </tr>\n",
       "    <tr>\n",
       "      <th>1034949</th>\n",
       "      <td>C9099919M23</td>\n",
       "      <td>M</td>\n",
       "      <td>age_2</td>\n",
       "      <td>richness_3</td>\n",
       "      <td>exp_3</td>\n",
       "    </tr>\n",
       "    <tr>\n",
       "      <th>1034950</th>\n",
       "      <td>C9099941M21</td>\n",
       "      <td>M</td>\n",
       "      <td>age_2</td>\n",
       "      <td>richness_7</td>\n",
       "      <td>exp_1</td>\n",
       "    </tr>\n",
       "    <tr>\n",
       "      <th>1034951</th>\n",
       "      <td>C9099956M34</td>\n",
       "      <td>M</td>\n",
       "      <td>age_4</td>\n",
       "      <td>richness_4</td>\n",
       "      <td>exp_7</td>\n",
       "    </tr>\n",
       "  </tbody>\n",
       "</table>\n",
       "<p>1034952 rows × 5 columns</p>\n",
       "</div>"
      ],
      "text/plain": [
       "              New_ID CustGender CustomerClassAge    Richness Expenditure\n",
       "0        C1010011F24          F            age_2  richness_7      exp_10\n",
       "1        C1010011M33          M            age_4  richness_9       exp_5\n",
       "2        C1010012M22          M            age_2  richness_6       exp_8\n",
       "3        C1010014F24          F            age_2  richness_7       exp_8\n",
       "4        C1010014M32          M            age_4  richness_9       exp_4\n",
       "...              ...        ...              ...         ...         ...\n",
       "1034947  C9099836M26          M            age_3  richness_9       exp_7\n",
       "1034948  C9099877M20          M            age_1  richness_9       exp_4\n",
       "1034949  C9099919M23          M            age_2  richness_3       exp_3\n",
       "1034950  C9099941M21          M            age_2  richness_7       exp_1\n",
       "1034951  C9099956M34          M            age_4  richness_4       exp_7\n",
       "\n",
       "[1034952 rows x 5 columns]"
      ]
     },
     "execution_count": 84,
     "metadata": {},
     "output_type": "execute_result"
    }
   ],
   "source": [
    "df"
   ]
  },
  {
   "cell_type": "markdown",
   "id": "202e5dac",
   "metadata": {},
   "source": [
    "For example the first column of the signature matrix is referred to the customer C1010011F24."
   ]
  },
  {
   "cell_type": "markdown",
   "id": "c5e4a7fc",
   "metadata": {},
   "source": [
    "# 1.2.4 Divide Signature Matrix into Bands"
   ]
  },
  {
   "cell_type": "markdown",
   "id": "be0d2a0f",
   "metadata": {},
   "source": [
    "The example signature matrix below is divided into $b$ bands of $r$ rows each, and each band is hashed separately. For this example, we are setting band , which means that we will consider any titles with the same first two rows to be similar. The larger we make b the less likely there will be another Paper that matches all of the same permutations."
   ]
  },
  {
   "cell_type": "markdown",
   "id": "47d1a09d",
   "metadata": {},
   "source": [
    "![signature_matrix_into_bands](https://storage.googleapis.com/lds-media/images/locality-sensitive-hashing-lsh-buckets.width-1200.png)"
   ]
  },
  {
   "cell_type": "markdown",
   "id": "2cbfbb53",
   "metadata": {},
   "source": [
    "The $\\textit{probability}$ that the minhash function for a random permutation of rows produces the $\\textbf{same values}$ for two sets is equal to the $\\textbf{Jaccard similarity}$ of those sets.\n"
   ]
  },
  {
   "cell_type": "markdown",
   "id": "3d14c2ab",
   "metadata": {},
   "source": [
    "The size of the bands control the probability that two items with a given Jaccard similarity end up in the same bucket. If the number of bands is larger, you will end up with much smaller sets. For instance, $b = p$, where $p$ is the number of permutations (i.e. rows in the signature matrix) would almost certainly lead to $N$ buckets of only one item because there would be only one item that was perfect similar across every permutation."
   ]
  },
  {
   "cell_type": "markdown",
   "id": "9d80f180",
   "metadata": {},
   "source": [
    "In order to create the buckets we decide to create a dictionary that will have the sub_vector as keys and the indexes of the column where they are found as values. These indexes will allow us to substistute the related customer:"
   ]
  },
  {
   "cell_type": "code",
   "execution_count": 85,
   "id": "e1b2a6fd",
   "metadata": {},
   "outputs": [],
   "source": [
    "def create_buckets(b, signature):\n",
    "    \n",
    "    indexes = list(range(signature.shape[1])) #create a list of indexes \n",
    "\n",
    "    signature_matrix_transposed = signature.T #transpose the matrix to get subvectors column\n",
    "\n",
    "    cluster = {} #initialize the dictionary containing as keys the subvector and as values the indexes of the customer\n",
    "\n",
    "    for i in tq(range(0, signature.shape[0], b)):  #iterate over the row with step size equal to bandsize\n",
    "    \n",
    "        #take the subvector of dimension i, i+b (band size) from the column\n",
    "        mini_vectors = signature_matrix_transposed[:, i:i+b] \n",
    "    \n",
    "    # sorts the subvectors associated to the indexes to maintain the relationship with the index of the customers.\n",
    "    # We use a tuple instead of a list because tuples can be hashable and therefore \n",
    "    # usable as keys for dictionaries. Sorting will allow us to have the same subvector as neighbors\n",
    "    \n",
    "        c = [(i, tuple(v)) for v, i in sorted(zip(mini_vectors.tolist(), indexes))]\n",
    "    \n",
    "        curr_vector = c[0][1] #take the subvector from the tuple composed by index and subvector\n",
    "    \n",
    "    #Now we have equal subvector as neighbor, so we can iterate over these groups of equal subvector\n",
    "        for i, v in c:  \n",
    "        \n",
    "            if v not in cluster: #if the subvector is not a key in the cluster --> initialize it \n",
    "            \n",
    "                cluster[v] = []\n",
    "        \n",
    "            if curr_vector != v: #when the iteration go over the group of equal subvector updtate the current vector\n",
    "            \n",
    "                curr_vector = v\n",
    "\n",
    "            cluster[v].append(i) #append as values the indexes where that subvector is found \n",
    "    \n",
    "    return cluster"
   ]
  },
  {
   "cell_type": "markdown",
   "id": "9513e5b2",
   "metadata": {},
   "source": [
    "We can create a dictionary containing the buckets with band size 4:"
   ]
  },
  {
   "cell_type": "code",
   "execution_count": 86,
   "id": "07468cb2",
   "metadata": {},
   "outputs": [
    {
     "name": "stderr",
     "output_type": "stream",
     "text": [
      "100%|█████████████████████████████████████████████| 5/5 [00:26<00:00,  5.34s/it]\n"
     ]
    }
   ],
   "source": [
    "cluster_4 = create_buckets(4, signature_matrix)"
   ]
  },
  {
   "cell_type": "markdown",
   "id": "d6603439",
   "metadata": {},
   "source": [
    "We can see that the keys are the subvector:"
   ]
  },
  {
   "cell_type": "code",
   "execution_count": 87,
   "id": "7b4f09d2",
   "metadata": {},
   "outputs": [
    {
     "name": "stdout",
     "output_type": "stream",
     "text": [
      "[(1, 4, 1, 1), (1, 4, 1, 13), (1, 4, 2, 1), (1, 4, 2, 13), (1, 4, 6, 1)]\n"
     ]
    }
   ],
   "source": [
    "print(list(cluster_4.keys())[:5])"
   ]
  },
  {
   "cell_type": "markdown",
   "id": "376c03ba",
   "metadata": {},
   "source": [
    "And the values are the column index where they've been found:"
   ]
  },
  {
   "cell_type": "code",
   "execution_count": 88,
   "id": "ad023f15",
   "metadata": {},
   "outputs": [
    {
     "data": {
      "text/plain": [
       "[810, 4964, 6058, 7325, 9634]"
      ]
     },
     "execution_count": 88,
     "metadata": {},
     "output_type": "execute_result"
    }
   ],
   "source": [
    "cluster_4[list(cluster_4.keys())[0]][0:5]  #first 5 index referred to the first key of the dictionary:"
   ]
  },
  {
   "cell_type": "markdown",
   "id": "520a5562",
   "metadata": {},
   "source": [
    "Through them we can recover the name of the customers defining a function that substitute the values of each keys with the 'New_ID' value in the dataframe:"
   ]
  },
  {
   "cell_type": "code",
   "execution_count": 89,
   "id": "3b9f0cc5",
   "metadata": {},
   "outputs": [],
   "source": [
    "def substitute_keys(buckets, data):\n",
    "    \n",
    "    for key in list(buckets.keys()):\n",
    "    \n",
    "        buckets[key] = data.loc[buckets[key]]['New_ID'].to_list() #subtitute the indexes with the customers name\n",
    "\n",
    "    return buckets"
   ]
  },
  {
   "cell_type": "code",
   "execution_count": 90,
   "id": "a147d058",
   "metadata": {},
   "outputs": [],
   "source": [
    "cluster_4 = substitute_keys(cluster_4, df)"
   ]
  },
  {
   "cell_type": "markdown",
   "id": "eca7df30",
   "metadata": {},
   "source": [
    "We can see that now the values of each key are the customer name:"
   ]
  },
  {
   "cell_type": "code",
   "execution_count": 91,
   "id": "67934ce2",
   "metadata": {},
   "outputs": [
    {
     "data": {
      "text/plain": [
       "['C1012563M20', 'C1024912M20', 'C1028262M20', 'C1032276M20', 'C1039184M20']"
      ]
     },
     "execution_count": 91,
     "metadata": {},
     "output_type": "execute_result"
    }
   ],
   "source": [
    "cluster_4[list(cluster_4.keys())[0]][0:5]"
   ]
  },
  {
   "cell_type": "markdown",
   "id": "8fcf5dc1",
   "metadata": {},
   "source": [
    "We can now visually check how much similar the customer in a bucket are:"
   ]
  },
  {
   "cell_type": "code",
   "execution_count": 92,
   "id": "04f32080",
   "metadata": {},
   "outputs": [
    {
     "data": {
      "text/html": [
       "<div>\n",
       "<style scoped>\n",
       "    .dataframe tbody tr th:only-of-type {\n",
       "        vertical-align: middle;\n",
       "    }\n",
       "\n",
       "    .dataframe tbody tr th {\n",
       "        vertical-align: top;\n",
       "    }\n",
       "\n",
       "    .dataframe thead th {\n",
       "        text-align: right;\n",
       "    }\n",
       "</style>\n",
       "<table border=\"1\" class=\"dataframe\">\n",
       "  <thead>\n",
       "    <tr style=\"text-align: right;\">\n",
       "      <th></th>\n",
       "      <th>New_ID</th>\n",
       "      <th>CustGender</th>\n",
       "      <th>CustomerClassAge</th>\n",
       "      <th>Richness</th>\n",
       "      <th>Expenditure</th>\n",
       "    </tr>\n",
       "  </thead>\n",
       "  <tbody>\n",
       "    <tr>\n",
       "      <th>810</th>\n",
       "      <td>C1012563M20</td>\n",
       "      <td>M</td>\n",
       "      <td>age_1</td>\n",
       "      <td>richness_4</td>\n",
       "      <td>exp_4</td>\n",
       "    </tr>\n",
       "    <tr>\n",
       "      <th>4964</th>\n",
       "      <td>C1024912M20</td>\n",
       "      <td>M</td>\n",
       "      <td>age_1</td>\n",
       "      <td>richness_4</td>\n",
       "      <td>exp_4</td>\n",
       "    </tr>\n",
       "    <tr>\n",
       "      <th>6058</th>\n",
       "      <td>C1028262M20</td>\n",
       "      <td>M</td>\n",
       "      <td>age_1</td>\n",
       "      <td>richness_4</td>\n",
       "      <td>exp_4</td>\n",
       "    </tr>\n",
       "    <tr>\n",
       "      <th>7325</th>\n",
       "      <td>C1032276M20</td>\n",
       "      <td>M</td>\n",
       "      <td>age_1</td>\n",
       "      <td>richness_4</td>\n",
       "      <td>exp_4</td>\n",
       "    </tr>\n",
       "    <tr>\n",
       "      <th>9634</th>\n",
       "      <td>C1039184M20</td>\n",
       "      <td>M</td>\n",
       "      <td>age_1</td>\n",
       "      <td>richness_4</td>\n",
       "      <td>exp_4</td>\n",
       "    </tr>\n",
       "    <tr>\n",
       "      <th>...</th>\n",
       "      <td>...</td>\n",
       "      <td>...</td>\n",
       "      <td>...</td>\n",
       "      <td>...</td>\n",
       "      <td>...</td>\n",
       "    </tr>\n",
       "    <tr>\n",
       "      <th>1030000</th>\n",
       "      <td>C9033312M20</td>\n",
       "      <td>M</td>\n",
       "      <td>age_1</td>\n",
       "      <td>richness_4</td>\n",
       "      <td>exp_4</td>\n",
       "    </tr>\n",
       "    <tr>\n",
       "      <th>1030481</th>\n",
       "      <td>C9034785M18</td>\n",
       "      <td>M</td>\n",
       "      <td>age_1</td>\n",
       "      <td>richness_4</td>\n",
       "      <td>exp_4</td>\n",
       "    </tr>\n",
       "    <tr>\n",
       "      <th>1030514</th>\n",
       "      <td>C9034858M20</td>\n",
       "      <td>M</td>\n",
       "      <td>age_1</td>\n",
       "      <td>richness_4</td>\n",
       "      <td>exp_4</td>\n",
       "    </tr>\n",
       "    <tr>\n",
       "      <th>1031887</th>\n",
       "      <td>C9039191M20</td>\n",
       "      <td>M</td>\n",
       "      <td>age_1</td>\n",
       "      <td>richness_4</td>\n",
       "      <td>exp_4</td>\n",
       "    </tr>\n",
       "    <tr>\n",
       "      <th>1032678</th>\n",
       "      <td>C9041722M19</td>\n",
       "      <td>M</td>\n",
       "      <td>age_1</td>\n",
       "      <td>richness_4</td>\n",
       "      <td>exp_4</td>\n",
       "    </tr>\n",
       "  </tbody>\n",
       "</table>\n",
       "<p>254 rows × 5 columns</p>\n",
       "</div>"
      ],
      "text/plain": [
       "              New_ID CustGender CustomerClassAge    Richness Expenditure\n",
       "810      C1012563M20          M            age_1  richness_4       exp_4\n",
       "4964     C1024912M20          M            age_1  richness_4       exp_4\n",
       "6058     C1028262M20          M            age_1  richness_4       exp_4\n",
       "7325     C1032276M20          M            age_1  richness_4       exp_4\n",
       "9634     C1039184M20          M            age_1  richness_4       exp_4\n",
       "...              ...        ...              ...         ...         ...\n",
       "1030000  C9033312M20          M            age_1  richness_4       exp_4\n",
       "1030481  C9034785M18          M            age_1  richness_4       exp_4\n",
       "1030514  C9034858M20          M            age_1  richness_4       exp_4\n",
       "1031887  C9039191M20          M            age_1  richness_4       exp_4\n",
       "1032678  C9041722M19          M            age_1  richness_4       exp_4\n",
       "\n",
       "[254 rows x 5 columns]"
      ]
     },
     "execution_count": 92,
     "metadata": {},
     "output_type": "execute_result"
    }
   ],
   "source": [
    "df[df['New_ID'].isin(cluster_4[list(cluster_4.keys())[0]])] "
   ]
  },
  {
   "cell_type": "markdown",
   "id": "807c3071",
   "metadata": {},
   "source": [
    "And the number of bucket that we have: "
   ]
  },
  {
   "cell_type": "code",
   "execution_count": 93,
   "id": "e7d33636",
   "metadata": {},
   "outputs": [
    {
     "data": {
      "text/plain": [
       "4798"
      ]
     },
     "execution_count": 93,
     "metadata": {},
     "output_type": "execute_result"
    }
   ],
   "source": [
    "len(cluster_4)"
   ]
  },
  {
   "cell_type": "markdown",
   "id": "4d85dcc9",
   "metadata": {},
   "source": [
    "We can now visually check what happen for $\\textbf{band size = 2}$:"
   ]
  },
  {
   "cell_type": "code",
   "execution_count": 94,
   "id": "31adc967",
   "metadata": {},
   "outputs": [
    {
     "name": "stderr",
     "output_type": "stream",
     "text": [
      "100%|███████████████████████████████████████████| 10/10 [01:10<00:00,  7.08s/it]\n"
     ]
    },
    {
     "name": "stdout",
     "output_type": "stream",
     "text": [
      "The number of buckets is  599\n"
     ]
    },
    {
     "data": {
      "text/html": [
       "<div>\n",
       "<style scoped>\n",
       "    .dataframe tbody tr th:only-of-type {\n",
       "        vertical-align: middle;\n",
       "    }\n",
       "\n",
       "    .dataframe tbody tr th {\n",
       "        vertical-align: top;\n",
       "    }\n",
       "\n",
       "    .dataframe thead th {\n",
       "        text-align: right;\n",
       "    }\n",
       "</style>\n",
       "<table border=\"1\" class=\"dataframe\">\n",
       "  <thead>\n",
       "    <tr style=\"text-align: right;\">\n",
       "      <th></th>\n",
       "      <th>New_ID</th>\n",
       "      <th>CustGender</th>\n",
       "      <th>CustomerClassAge</th>\n",
       "      <th>Richness</th>\n",
       "      <th>Expenditure</th>\n",
       "    </tr>\n",
       "  </thead>\n",
       "  <tbody>\n",
       "    <tr>\n",
       "      <th>5</th>\n",
       "      <td>C1010018F26</td>\n",
       "      <td>F</td>\n",
       "      <td>age_3</td>\n",
       "      <td>richness_1</td>\n",
       "      <td>exp_1</td>\n",
       "    </tr>\n",
       "    <tr>\n",
       "      <th>7</th>\n",
       "      <td>C1010028F28</td>\n",
       "      <td>F</td>\n",
       "      <td>age_3</td>\n",
       "      <td>richness_10</td>\n",
       "      <td>exp_6</td>\n",
       "    </tr>\n",
       "    <tr>\n",
       "      <th>10</th>\n",
       "      <td>C1010035M24</td>\n",
       "      <td>M</td>\n",
       "      <td>age_2</td>\n",
       "      <td>richness_4</td>\n",
       "      <td>exp_1</td>\n",
       "    </tr>\n",
       "    <tr>\n",
       "      <th>19</th>\n",
       "      <td>C1010045M29</td>\n",
       "      <td>M</td>\n",
       "      <td>age_3</td>\n",
       "      <td>richness_4</td>\n",
       "      <td>exp_4</td>\n",
       "    </tr>\n",
       "    <tr>\n",
       "      <th>55</th>\n",
       "      <td>C1010157M24</td>\n",
       "      <td>M</td>\n",
       "      <td>age_2</td>\n",
       "      <td>richness_4</td>\n",
       "      <td>exp_1</td>\n",
       "    </tr>\n",
       "    <tr>\n",
       "      <th>...</th>\n",
       "      <td>...</td>\n",
       "      <td>...</td>\n",
       "      <td>...</td>\n",
       "      <td>...</td>\n",
       "      <td>...</td>\n",
       "    </tr>\n",
       "    <tr>\n",
       "      <th>1034926</th>\n",
       "      <td>C9099142M46</td>\n",
       "      <td>M</td>\n",
       "      <td>age_7</td>\n",
       "      <td>richness_4</td>\n",
       "      <td>exp_9</td>\n",
       "    </tr>\n",
       "    <tr>\n",
       "      <th>1034930</th>\n",
       "      <td>C9099183M25</td>\n",
       "      <td>M</td>\n",
       "      <td>age_2</td>\n",
       "      <td>richness_4</td>\n",
       "      <td>exp_1</td>\n",
       "    </tr>\n",
       "    <tr>\n",
       "      <th>1034943</th>\n",
       "      <td>C9099740M24</td>\n",
       "      <td>M</td>\n",
       "      <td>age_2</td>\n",
       "      <td>richness_4</td>\n",
       "      <td>exp_6</td>\n",
       "    </tr>\n",
       "    <tr>\n",
       "      <th>1034946</th>\n",
       "      <td>C9099832M32</td>\n",
       "      <td>M</td>\n",
       "      <td>age_4</td>\n",
       "      <td>richness_4</td>\n",
       "      <td>exp_6</td>\n",
       "    </tr>\n",
       "    <tr>\n",
       "      <th>1034951</th>\n",
       "      <td>C9099956M34</td>\n",
       "      <td>M</td>\n",
       "      <td>age_4</td>\n",
       "      <td>richness_4</td>\n",
       "      <td>exp_7</td>\n",
       "    </tr>\n",
       "  </tbody>\n",
       "</table>\n",
       "<p>91990 rows × 5 columns</p>\n",
       "</div>"
      ],
      "text/plain": [
       "              New_ID CustGender CustomerClassAge     Richness Expenditure\n",
       "5        C1010018F26          F            age_3   richness_1       exp_1\n",
       "7        C1010028F28          F            age_3  richness_10       exp_6\n",
       "10       C1010035M24          M            age_2   richness_4       exp_1\n",
       "19       C1010045M29          M            age_3   richness_4       exp_4\n",
       "55       C1010157M24          M            age_2   richness_4       exp_1\n",
       "...              ...        ...              ...          ...         ...\n",
       "1034926  C9099142M46          M            age_7   richness_4       exp_9\n",
       "1034930  C9099183M25          M            age_2   richness_4       exp_1\n",
       "1034943  C9099740M24          M            age_2   richness_4       exp_6\n",
       "1034946  C9099832M32          M            age_4   richness_4       exp_6\n",
       "1034951  C9099956M34          M            age_4   richness_4       exp_7\n",
       "\n",
       "[91990 rows x 5 columns]"
      ]
     },
     "execution_count": 94,
     "metadata": {},
     "output_type": "execute_result"
    }
   ],
   "source": [
    "cluster_2 = create_buckets(2, signature_matrix) #create buckets with band size 2\n",
    "\n",
    "cluster_2 = substitute_keys(cluster_2, df) #substitute index with customer names\n",
    "\n",
    "print('The number of buckets is ', len(cluster_2))\n",
    "\n",
    "df[df['New_ID'].isin(cluster_2[list(cluster_2.keys())[0]])] #show the member of a bucket as example"
   ]
  },
  {
   "cell_type": "markdown",
   "id": "f2c0c556",
   "metadata": {},
   "source": [
    "Decreasing the size of the bands the number of buckets decrease cause are grouped togheter customer that have different values in some fields."
   ]
  },
  {
   "cell_type": "markdown",
   "id": "0dfc5932",
   "metadata": {},
   "source": [
    "Checking what happen with $\\textbf{band size = 5}$:"
   ]
  },
  {
   "cell_type": "code",
   "execution_count": 95,
   "id": "e33a0ed4",
   "metadata": {},
   "outputs": [
    {
     "name": "stderr",
     "output_type": "stream",
     "text": [
      "100%|█████████████████████████████████████████████| 4/4 [00:41<00:00, 10.34s/it]\n"
     ]
    },
    {
     "name": "stdout",
     "output_type": "stream",
     "text": [
      "The number of buckets is  6110\n"
     ]
    },
    {
     "data": {
      "text/html": [
       "<div>\n",
       "<style scoped>\n",
       "    .dataframe tbody tr th:only-of-type {\n",
       "        vertical-align: middle;\n",
       "    }\n",
       "\n",
       "    .dataframe tbody tr th {\n",
       "        vertical-align: top;\n",
       "    }\n",
       "\n",
       "    .dataframe thead th {\n",
       "        text-align: right;\n",
       "    }\n",
       "</style>\n",
       "<table border=\"1\" class=\"dataframe\">\n",
       "  <thead>\n",
       "    <tr style=\"text-align: right;\">\n",
       "      <th></th>\n",
       "      <th>New_ID</th>\n",
       "      <th>CustGender</th>\n",
       "      <th>CustomerClassAge</th>\n",
       "      <th>Richness</th>\n",
       "      <th>Expenditure</th>\n",
       "    </tr>\n",
       "  </thead>\n",
       "  <tbody>\n",
       "    <tr>\n",
       "      <th>810</th>\n",
       "      <td>C1012563M20</td>\n",
       "      <td>M</td>\n",
       "      <td>age_1</td>\n",
       "      <td>richness_4</td>\n",
       "      <td>exp_4</td>\n",
       "    </tr>\n",
       "    <tr>\n",
       "      <th>4964</th>\n",
       "      <td>C1024912M20</td>\n",
       "      <td>M</td>\n",
       "      <td>age_1</td>\n",
       "      <td>richness_4</td>\n",
       "      <td>exp_4</td>\n",
       "    </tr>\n",
       "    <tr>\n",
       "      <th>6058</th>\n",
       "      <td>C1028262M20</td>\n",
       "      <td>M</td>\n",
       "      <td>age_1</td>\n",
       "      <td>richness_4</td>\n",
       "      <td>exp_4</td>\n",
       "    </tr>\n",
       "    <tr>\n",
       "      <th>7325</th>\n",
       "      <td>C1032276M20</td>\n",
       "      <td>M</td>\n",
       "      <td>age_1</td>\n",
       "      <td>richness_4</td>\n",
       "      <td>exp_4</td>\n",
       "    </tr>\n",
       "    <tr>\n",
       "      <th>9634</th>\n",
       "      <td>C1039184M20</td>\n",
       "      <td>M</td>\n",
       "      <td>age_1</td>\n",
       "      <td>richness_4</td>\n",
       "      <td>exp_4</td>\n",
       "    </tr>\n",
       "    <tr>\n",
       "      <th>...</th>\n",
       "      <td>...</td>\n",
       "      <td>...</td>\n",
       "      <td>...</td>\n",
       "      <td>...</td>\n",
       "      <td>...</td>\n",
       "    </tr>\n",
       "    <tr>\n",
       "      <th>1030000</th>\n",
       "      <td>C9033312M20</td>\n",
       "      <td>M</td>\n",
       "      <td>age_1</td>\n",
       "      <td>richness_4</td>\n",
       "      <td>exp_4</td>\n",
       "    </tr>\n",
       "    <tr>\n",
       "      <th>1030481</th>\n",
       "      <td>C9034785M18</td>\n",
       "      <td>M</td>\n",
       "      <td>age_1</td>\n",
       "      <td>richness_4</td>\n",
       "      <td>exp_4</td>\n",
       "    </tr>\n",
       "    <tr>\n",
       "      <th>1030514</th>\n",
       "      <td>C9034858M20</td>\n",
       "      <td>M</td>\n",
       "      <td>age_1</td>\n",
       "      <td>richness_4</td>\n",
       "      <td>exp_4</td>\n",
       "    </tr>\n",
       "    <tr>\n",
       "      <th>1031887</th>\n",
       "      <td>C9039191M20</td>\n",
       "      <td>M</td>\n",
       "      <td>age_1</td>\n",
       "      <td>richness_4</td>\n",
       "      <td>exp_4</td>\n",
       "    </tr>\n",
       "    <tr>\n",
       "      <th>1032678</th>\n",
       "      <td>C9041722M19</td>\n",
       "      <td>M</td>\n",
       "      <td>age_1</td>\n",
       "      <td>richness_4</td>\n",
       "      <td>exp_4</td>\n",
       "    </tr>\n",
       "  </tbody>\n",
       "</table>\n",
       "<p>254 rows × 5 columns</p>\n",
       "</div>"
      ],
      "text/plain": [
       "              New_ID CustGender CustomerClassAge    Richness Expenditure\n",
       "810      C1012563M20          M            age_1  richness_4       exp_4\n",
       "4964     C1024912M20          M            age_1  richness_4       exp_4\n",
       "6058     C1028262M20          M            age_1  richness_4       exp_4\n",
       "7325     C1032276M20          M            age_1  richness_4       exp_4\n",
       "9634     C1039184M20          M            age_1  richness_4       exp_4\n",
       "...              ...        ...              ...         ...         ...\n",
       "1030000  C9033312M20          M            age_1  richness_4       exp_4\n",
       "1030481  C9034785M18          M            age_1  richness_4       exp_4\n",
       "1030514  C9034858M20          M            age_1  richness_4       exp_4\n",
       "1031887  C9039191M20          M            age_1  richness_4       exp_4\n",
       "1032678  C9041722M19          M            age_1  richness_4       exp_4\n",
       "\n",
       "[254 rows x 5 columns]"
      ]
     },
     "execution_count": 95,
     "metadata": {},
     "output_type": "execute_result"
    }
   ],
   "source": [
    "cluster_5 = create_buckets(5, signature_matrix) #create buckets with band size 2\n",
    "\n",
    "cluster_5 = substitute_keys(cluster_5, df) #substitute index with customer names\n",
    "\n",
    "print('The number of buckets is ', len(cluster_5))\n",
    "\n",
    "df[df['New_ID'].isin(cluster_5[list(cluster_5.keys())[0]])] "
   ]
  },
  {
   "cell_type": "markdown",
   "id": "16989f38",
   "metadata": {},
   "source": [
    "There is a larger number of bucket (so a less number of customer per bucket) and the customers have all the same values in the different fields.  \n",
    "\n",
    "So, the choice of the band size $depends$ on how much similar customer do you want in your bucket. Supposing our request is not too restrictive we can choose $\\textbf{4 as band size}$ to execute the query for the next point. "
   ]
  },
  {
   "cell_type": "markdown",
   "id": "addaa88b",
   "metadata": {},
   "source": [
    "# 1.3 Locality Sensitive Hashing\n",
    "\n",
    "Now that you prepared your algorithm, it's query time!\n",
    "We have prepared some dummy users for you to work with.\n",
    "\n",
    "Download this csv and report the most similar users (comparing them against the dataset provided in Kaggle).\n",
    "Did your hashing method work properly, what scores have you obtained and how long did it take to run? Provide information and analysis about the results"
   ]
  },
  {
   "cell_type": "markdown",
   "id": "cc07dbfc",
   "metadata": {},
   "source": [
    "# 1.3.1 Pre-processing Query dataset"
   ]
  },
  {
   "cell_type": "markdown",
   "id": "315ade6a",
   "metadata": {},
   "source": [
    "First of all we need to pre-process the query dataset in the same way we pre-process the initial Kaggle dataset dividing the procedure in the following steps: \n",
    "\n",
    "    - Create classes through the ages\n",
    "    \n",
    "    - Create classes through the bank amount\n",
    "    \n",
    "    - Create classes through the transaction amount\n",
    "    \n",
    "    - Create a name for the customers"
   ]
  },
  {
   "cell_type": "code",
   "execution_count": 146,
   "id": "177961ed",
   "metadata": {},
   "outputs": [],
   "source": [
    "query = pd.read_csv(\"query_users/query_users.csv\")"
   ]
  },
  {
   "cell_type": "code",
   "execution_count": 147,
   "id": "8ff96075",
   "metadata": {},
   "outputs": [
    {
     "data": {
      "text/html": [
       "<div>\n",
       "<style scoped>\n",
       "    .dataframe tbody tr th:only-of-type {\n",
       "        vertical-align: middle;\n",
       "    }\n",
       "\n",
       "    .dataframe tbody tr th {\n",
       "        vertical-align: top;\n",
       "    }\n",
       "\n",
       "    .dataframe thead th {\n",
       "        text-align: right;\n",
       "    }\n",
       "</style>\n",
       "<table border=\"1\" class=\"dataframe\">\n",
       "  <thead>\n",
       "    <tr style=\"text-align: right;\">\n",
       "      <th></th>\n",
       "      <th>CustomerDOB</th>\n",
       "      <th>CustGender</th>\n",
       "      <th>CustLocation</th>\n",
       "      <th>CustAccountBalance</th>\n",
       "      <th>TransactionDate</th>\n",
       "      <th>TransactionTime</th>\n",
       "      <th>TransactionAmount (INR)</th>\n",
       "    </tr>\n",
       "  </thead>\n",
       "  <tbody>\n",
       "    <tr>\n",
       "      <th>0</th>\n",
       "      <td>27/7/78</td>\n",
       "      <td>M</td>\n",
       "      <td>DELHI</td>\n",
       "      <td>94695.61</td>\n",
       "      <td>2/9/16</td>\n",
       "      <td>140310</td>\n",
       "      <td>65.0</td>\n",
       "    </tr>\n",
       "    <tr>\n",
       "      <th>1</th>\n",
       "      <td>6/11/92</td>\n",
       "      <td>M</td>\n",
       "      <td>PANCHKULA</td>\n",
       "      <td>7584.09</td>\n",
       "      <td>2/9/16</td>\n",
       "      <td>120214</td>\n",
       "      <td>6025.0</td>\n",
       "    </tr>\n",
       "    <tr>\n",
       "      <th>2</th>\n",
       "      <td>14/8/91</td>\n",
       "      <td>M</td>\n",
       "      <td>PATNA</td>\n",
       "      <td>7180.60</td>\n",
       "      <td>10/8/16</td>\n",
       "      <td>221732</td>\n",
       "      <td>541.5</td>\n",
       "    </tr>\n",
       "    <tr>\n",
       "      <th>3</th>\n",
       "      <td>3/1/87</td>\n",
       "      <td>M</td>\n",
       "      <td>CHENNAI</td>\n",
       "      <td>56847.75</td>\n",
       "      <td>29/8/16</td>\n",
       "      <td>144138</td>\n",
       "      <td>1000.0</td>\n",
       "    </tr>\n",
       "    <tr>\n",
       "      <th>4</th>\n",
       "      <td>4/1/95</td>\n",
       "      <td>M</td>\n",
       "      <td>GURGAON</td>\n",
       "      <td>84950.13</td>\n",
       "      <td>25/9/16</td>\n",
       "      <td>233309</td>\n",
       "      <td>80.0</td>\n",
       "    </tr>\n",
       "  </tbody>\n",
       "</table>\n",
       "</div>"
      ],
      "text/plain": [
       "  CustomerDOB CustGender CustLocation  CustAccountBalance TransactionDate  \\\n",
       "0     27/7/78          M        DELHI            94695.61          2/9/16   \n",
       "1     6/11/92          M    PANCHKULA             7584.09          2/9/16   \n",
       "2     14/8/91          M        PATNA             7180.60         10/8/16   \n",
       "3      3/1/87          M      CHENNAI            56847.75         29/8/16   \n",
       "4      4/1/95          M      GURGAON            84950.13         25/9/16   \n",
       "\n",
       "   TransactionTime  TransactionAmount (INR)  \n",
       "0           140310                     65.0  \n",
       "1           120214                   6025.0  \n",
       "2           221732                    541.5  \n",
       "3           144138                   1000.0  \n",
       "4           233309                     80.0  "
      ]
     },
     "execution_count": 147,
     "metadata": {},
     "output_type": "execute_result"
    }
   ],
   "source": [
    "query.head()"
   ]
  },
  {
   "cell_type": "code",
   "execution_count": 148,
   "id": "812535b3",
   "metadata": {},
   "outputs": [],
   "source": [
    "del query['CustLocation'], query['TransactionTime'] #Delete the data that we don't need "
   ]
  },
  {
   "cell_type": "markdown",
   "id": "a36f44c8",
   "metadata": {},
   "source": [
    "First of all we convert them into class of age, richness and expenditure."
   ]
  },
  {
   "cell_type": "markdown",
   "id": "8ebca7cf",
   "metadata": {},
   "source": [
    "### Customer Class Age\n",
    "\n",
    "Starting with the age, we used the same procedure of point 1.1:"
   ]
  },
  {
   "cell_type": "code",
   "execution_count": 149,
   "id": "7153e938",
   "metadata": {},
   "outputs": [],
   "source": [
    "#In order to calculate the ages we need to transform into datetime birthday and year of the transactions\n",
    "\n",
    "query['CustomerDOB'] = pd.to_datetime(query['CustomerDOB']) \n",
    "\n",
    "query['TransactionDate'] = pd.to_datetime(query['TransactionDate'])\n",
    "\n",
    "query['CustomerAge'] = 0 #initialize with values zero the ages\n",
    "\n",
    "#give an age only to queries that have a different YOB from 1800\n",
    "query.loc[query['CustomerDOB'].dt.year != 1800, 'CustomerAge'] = query.loc[query['CustomerDOB'].dt.year != 1800, 'TransactionDate'].dt.year - query.loc[query['CustomerDOB'].dt.year != 1800, 'CustomerDOB'].dt.year "
   ]
  },
  {
   "cell_type": "code",
   "execution_count": 150,
   "id": "4217a4b4",
   "metadata": {},
   "outputs": [
    {
     "data": {
      "text/html": [
       "<div>\n",
       "<style scoped>\n",
       "    .dataframe tbody tr th:only-of-type {\n",
       "        vertical-align: middle;\n",
       "    }\n",
       "\n",
       "    .dataframe tbody tr th {\n",
       "        vertical-align: top;\n",
       "    }\n",
       "\n",
       "    .dataframe thead th {\n",
       "        text-align: right;\n",
       "    }\n",
       "</style>\n",
       "<table border=\"1\" class=\"dataframe\">\n",
       "  <thead>\n",
       "    <tr style=\"text-align: right;\">\n",
       "      <th></th>\n",
       "      <th>CustomerDOB</th>\n",
       "      <th>CustGender</th>\n",
       "      <th>CustAccountBalance</th>\n",
       "      <th>TransactionDate</th>\n",
       "      <th>TransactionAmount (INR)</th>\n",
       "      <th>CustomerAge</th>\n",
       "    </tr>\n",
       "  </thead>\n",
       "  <tbody>\n",
       "    <tr>\n",
       "      <th>0</th>\n",
       "      <td>1978-07-27</td>\n",
       "      <td>M</td>\n",
       "      <td>94695.61</td>\n",
       "      <td>2016-02-09</td>\n",
       "      <td>65.0</td>\n",
       "      <td>38</td>\n",
       "    </tr>\n",
       "    <tr>\n",
       "      <th>1</th>\n",
       "      <td>1992-06-11</td>\n",
       "      <td>M</td>\n",
       "      <td>7584.09</td>\n",
       "      <td>2016-02-09</td>\n",
       "      <td>6025.0</td>\n",
       "      <td>24</td>\n",
       "    </tr>\n",
       "    <tr>\n",
       "      <th>2</th>\n",
       "      <td>1991-08-14</td>\n",
       "      <td>M</td>\n",
       "      <td>7180.60</td>\n",
       "      <td>2016-10-08</td>\n",
       "      <td>541.5</td>\n",
       "      <td>25</td>\n",
       "    </tr>\n",
       "    <tr>\n",
       "      <th>3</th>\n",
       "      <td>1987-03-01</td>\n",
       "      <td>M</td>\n",
       "      <td>56847.75</td>\n",
       "      <td>2016-08-29</td>\n",
       "      <td>1000.0</td>\n",
       "      <td>29</td>\n",
       "    </tr>\n",
       "    <tr>\n",
       "      <th>4</th>\n",
       "      <td>1995-04-01</td>\n",
       "      <td>M</td>\n",
       "      <td>84950.13</td>\n",
       "      <td>2016-09-25</td>\n",
       "      <td>80.0</td>\n",
       "      <td>21</td>\n",
       "    </tr>\n",
       "  </tbody>\n",
       "</table>\n",
       "</div>"
      ],
      "text/plain": [
       "  CustomerDOB CustGender  CustAccountBalance TransactionDate  \\\n",
       "0  1978-07-27          M            94695.61      2016-02-09   \n",
       "1  1992-06-11          M             7584.09      2016-02-09   \n",
       "2  1991-08-14          M             7180.60      2016-10-08   \n",
       "3  1987-03-01          M            56847.75      2016-08-29   \n",
       "4  1995-04-01          M            84950.13      2016-09-25   \n",
       "\n",
       "   TransactionAmount (INR)  CustomerAge  \n",
       "0                     65.0           38  \n",
       "1                   6025.0           24  \n",
       "2                    541.5           25  \n",
       "3                   1000.0           29  \n",
       "4                     80.0           21  "
      ]
     },
     "execution_count": 150,
     "metadata": {},
     "output_type": "execute_result"
    }
   ],
   "source": [
    "query.head(5)"
   ]
  },
  {
   "cell_type": "code",
   "execution_count": 151,
   "id": "f3c1caf0",
   "metadata": {},
   "outputs": [],
   "source": [
    "del query['TransactionDate'], query['CustomerDOB'] #deleting the data that we don't need"
   ]
  },
  {
   "cell_type": "markdown",
   "id": "b2b9bc70",
   "metadata": {},
   "source": [
    "We $\\textit{binned the ages}$ into the same classes of point 1.1, using the function $\"\\textbf{age}\"$: "
   ]
  },
  {
   "cell_type": "code",
   "execution_count": 152,
   "id": "eb97a388",
   "metadata": {},
   "outputs": [],
   "source": [
    "bins = np.array(list(range(16, 102, 5)))  #bins\n",
    "\n",
    "query['CustomerClassAge'] = query.CustomerAge.apply(lambda x: age(x)) #build a new column called class age"
   ]
  },
  {
   "cell_type": "code",
   "execution_count": 153,
   "id": "b83d7646",
   "metadata": {},
   "outputs": [],
   "source": [
    "del query['CustomerAge'] #deleting the column with the ages"
   ]
  },
  {
   "cell_type": "code",
   "execution_count": 154,
   "id": "6a9af51a",
   "metadata": {},
   "outputs": [
    {
     "data": {
      "text/html": [
       "<div>\n",
       "<style scoped>\n",
       "    .dataframe tbody tr th:only-of-type {\n",
       "        vertical-align: middle;\n",
       "    }\n",
       "\n",
       "    .dataframe tbody tr th {\n",
       "        vertical-align: top;\n",
       "    }\n",
       "\n",
       "    .dataframe thead th {\n",
       "        text-align: right;\n",
       "    }\n",
       "</style>\n",
       "<table border=\"1\" class=\"dataframe\">\n",
       "  <thead>\n",
       "    <tr style=\"text-align: right;\">\n",
       "      <th></th>\n",
       "      <th>CustGender</th>\n",
       "      <th>CustAccountBalance</th>\n",
       "      <th>TransactionAmount (INR)</th>\n",
       "      <th>CustomerClassAge</th>\n",
       "    </tr>\n",
       "  </thead>\n",
       "  <tbody>\n",
       "    <tr>\n",
       "      <th>0</th>\n",
       "      <td>M</td>\n",
       "      <td>94695.61</td>\n",
       "      <td>65.0</td>\n",
       "      <td>age_5</td>\n",
       "    </tr>\n",
       "    <tr>\n",
       "      <th>1</th>\n",
       "      <td>M</td>\n",
       "      <td>7584.09</td>\n",
       "      <td>6025.0</td>\n",
       "      <td>age_2</td>\n",
       "    </tr>\n",
       "    <tr>\n",
       "      <th>2</th>\n",
       "      <td>M</td>\n",
       "      <td>7180.60</td>\n",
       "      <td>541.5</td>\n",
       "      <td>age_2</td>\n",
       "    </tr>\n",
       "    <tr>\n",
       "      <th>3</th>\n",
       "      <td>M</td>\n",
       "      <td>56847.75</td>\n",
       "      <td>1000.0</td>\n",
       "      <td>age_3</td>\n",
       "    </tr>\n",
       "    <tr>\n",
       "      <th>4</th>\n",
       "      <td>M</td>\n",
       "      <td>84950.13</td>\n",
       "      <td>80.0</td>\n",
       "      <td>age_2</td>\n",
       "    </tr>\n",
       "  </tbody>\n",
       "</table>\n",
       "</div>"
      ],
      "text/plain": [
       "  CustGender  CustAccountBalance  TransactionAmount (INR) CustomerClassAge\n",
       "0          M            94695.61                     65.0            age_5\n",
       "1          M             7584.09                   6025.0            age_2\n",
       "2          M             7180.60                    541.5            age_2\n",
       "3          M            56847.75                   1000.0            age_3\n",
       "4          M            84950.13                     80.0            age_2"
      ]
     },
     "execution_count": 154,
     "metadata": {},
     "output_type": "execute_result"
    }
   ],
   "source": [
    "query.head()"
   ]
  },
  {
   "cell_type": "markdown",
   "id": "71d476b4",
   "metadata": {},
   "source": [
    "### Richness"
   ]
  },
  {
   "cell_type": "markdown",
   "id": "793feafb",
   "metadata": {},
   "source": [
    "In this case we cannot use the quantiles function 'qcut' to divide into bins the account balance of the customer cause it will be a different results from the classes of the point 1.1. For this reason we used the bins that we saved in point 1.1 and the $\\textit{function pd.cut}$ that binned the values with the bins we insert labelling them with the names of the classes. "
   ]
  },
  {
   "cell_type": "code",
   "execution_count": 155,
   "id": "7e0ef813",
   "metadata": {},
   "outputs": [],
   "source": [
    "bin_labels = ['richness_0', 'richness_1', 'richness_2', 'richness_3', 'richness_4', 'richness_5', 'richness_6', 'richness_7', 'richness_8', 'richness_9', 'richness_10']"
   ]
  },
  {
   "cell_type": "markdown",
   "id": "b5d24295",
   "metadata": {},
   "source": [
    "We recalled from memory the bins of the classes of richness:"
   ]
  },
  {
   "cell_type": "code",
   "execution_count": 157,
   "id": "f6e83732",
   "metadata": {},
   "outputs": [],
   "source": [
    "#create the column with the classes of richness:\n",
    "\n",
    "query['Richness'] = pd.cut(query.CustAccountBalance, bins = query_bins_richness, labels=bin_labels, right=False)"
   ]
  },
  {
   "cell_type": "code",
   "execution_count": 158,
   "id": "03009d76",
   "metadata": {},
   "outputs": [],
   "source": [
    "del query['CustAccountBalance'] #deleting the column that we don't need"
   ]
  },
  {
   "cell_type": "code",
   "execution_count": 159,
   "id": "e69fbf0d",
   "metadata": {},
   "outputs": [
    {
     "data": {
      "text/html": [
       "<div>\n",
       "<style scoped>\n",
       "    .dataframe tbody tr th:only-of-type {\n",
       "        vertical-align: middle;\n",
       "    }\n",
       "\n",
       "    .dataframe tbody tr th {\n",
       "        vertical-align: top;\n",
       "    }\n",
       "\n",
       "    .dataframe thead th {\n",
       "        text-align: right;\n",
       "    }\n",
       "</style>\n",
       "<table border=\"1\" class=\"dataframe\">\n",
       "  <thead>\n",
       "    <tr style=\"text-align: right;\">\n",
       "      <th></th>\n",
       "      <th>CustGender</th>\n",
       "      <th>TransactionAmount (INR)</th>\n",
       "      <th>CustomerClassAge</th>\n",
       "      <th>Richness</th>\n",
       "    </tr>\n",
       "  </thead>\n",
       "  <tbody>\n",
       "    <tr>\n",
       "      <th>0</th>\n",
       "      <td>M</td>\n",
       "      <td>65.0</td>\n",
       "      <td>age_5</td>\n",
       "      <td>richness_9</td>\n",
       "    </tr>\n",
       "    <tr>\n",
       "      <th>1</th>\n",
       "      <td>M</td>\n",
       "      <td>6025.0</td>\n",
       "      <td>age_2</td>\n",
       "      <td>richness_4</td>\n",
       "    </tr>\n",
       "    <tr>\n",
       "      <th>2</th>\n",
       "      <td>M</td>\n",
       "      <td>541.5</td>\n",
       "      <td>age_2</td>\n",
       "      <td>richness_4</td>\n",
       "    </tr>\n",
       "    <tr>\n",
       "      <th>3</th>\n",
       "      <td>M</td>\n",
       "      <td>1000.0</td>\n",
       "      <td>age_3</td>\n",
       "      <td>richness_8</td>\n",
       "    </tr>\n",
       "    <tr>\n",
       "      <th>4</th>\n",
       "      <td>M</td>\n",
       "      <td>80.0</td>\n",
       "      <td>age_2</td>\n",
       "      <td>richness_9</td>\n",
       "    </tr>\n",
       "  </tbody>\n",
       "</table>\n",
       "</div>"
      ],
      "text/plain": [
       "  CustGender  TransactionAmount (INR) CustomerClassAge    Richness\n",
       "0          M                     65.0            age_5  richness_9\n",
       "1          M                   6025.0            age_2  richness_4\n",
       "2          M                    541.5            age_2  richness_4\n",
       "3          M                   1000.0            age_3  richness_8\n",
       "4          M                     80.0            age_2  richness_9"
      ]
     },
     "execution_count": 159,
     "metadata": {},
     "output_type": "execute_result"
    }
   ],
   "source": [
    "query.head() #check the result"
   ]
  },
  {
   "cell_type": "markdown",
   "id": "7bbbb908",
   "metadata": {},
   "source": [
    "### Expenditure"
   ]
  },
  {
   "cell_type": "markdown",
   "id": "489843d0",
   "metadata": {},
   "source": [
    "We repeated the same procedure of the richness for the expenditure class:"
   ]
  },
  {
   "cell_type": "code",
   "execution_count": 161,
   "id": "c0e0c515",
   "metadata": {},
   "outputs": [],
   "source": [
    "#create the column expenditure\n",
    "\n",
    "bin_labels = ['exp_1', 'exp_2', 'exp_3', 'exp_4', 'exp_5', 'exp_6', 'exp_7', 'exp_8', 'exp_9', 'exp_10']\n",
    "\n",
    "query['Expenditure'] = pd.cut(query['TransactionAmount (INR)'], bins = query_bins_expenditure, labels=bin_labels, right=False)"
   ]
  },
  {
   "cell_type": "code",
   "execution_count": 162,
   "id": "1e8dc6f2",
   "metadata": {},
   "outputs": [],
   "source": [
    "del query['TransactionAmount (INR)'] #deleting the column that we don't need"
   ]
  },
  {
   "cell_type": "code",
   "execution_count": 163,
   "id": "65ee30ec",
   "metadata": {},
   "outputs": [
    {
     "data": {
      "text/html": [
       "<div>\n",
       "<style scoped>\n",
       "    .dataframe tbody tr th:only-of-type {\n",
       "        vertical-align: middle;\n",
       "    }\n",
       "\n",
       "    .dataframe tbody tr th {\n",
       "        vertical-align: top;\n",
       "    }\n",
       "\n",
       "    .dataframe thead th {\n",
       "        text-align: right;\n",
       "    }\n",
       "</style>\n",
       "<table border=\"1\" class=\"dataframe\">\n",
       "  <thead>\n",
       "    <tr style=\"text-align: right;\">\n",
       "      <th></th>\n",
       "      <th>CustGender</th>\n",
       "      <th>CustomerClassAge</th>\n",
       "      <th>Richness</th>\n",
       "      <th>Expenditure</th>\n",
       "    </tr>\n",
       "  </thead>\n",
       "  <tbody>\n",
       "    <tr>\n",
       "      <th>0</th>\n",
       "      <td>M</td>\n",
       "      <td>age_5</td>\n",
       "      <td>richness_9</td>\n",
       "      <td>exp_2</td>\n",
       "    </tr>\n",
       "    <tr>\n",
       "      <th>1</th>\n",
       "      <td>M</td>\n",
       "      <td>age_2</td>\n",
       "      <td>richness_4</td>\n",
       "      <td>exp_10</td>\n",
       "    </tr>\n",
       "    <tr>\n",
       "      <th>2</th>\n",
       "      <td>M</td>\n",
       "      <td>age_2</td>\n",
       "      <td>richness_4</td>\n",
       "      <td>exp_6</td>\n",
       "    </tr>\n",
       "    <tr>\n",
       "      <th>3</th>\n",
       "      <td>M</td>\n",
       "      <td>age_3</td>\n",
       "      <td>richness_8</td>\n",
       "      <td>exp_8</td>\n",
       "    </tr>\n",
       "    <tr>\n",
       "      <th>4</th>\n",
       "      <td>M</td>\n",
       "      <td>age_2</td>\n",
       "      <td>richness_9</td>\n",
       "      <td>exp_2</td>\n",
       "    </tr>\n",
       "  </tbody>\n",
       "</table>\n",
       "</div>"
      ],
      "text/plain": [
       "  CustGender CustomerClassAge    Richness Expenditure\n",
       "0          M            age_5  richness_9       exp_2\n",
       "1          M            age_2  richness_4      exp_10\n",
       "2          M            age_2  richness_4       exp_6\n",
       "3          M            age_3  richness_8       exp_8\n",
       "4          M            age_2  richness_9       exp_2"
      ]
     },
     "execution_count": 163,
     "metadata": {},
     "output_type": "execute_result"
    }
   ],
   "source": [
    "query.head() #check the result"
   ]
  },
  {
   "cell_type": "markdown",
   "id": "5bf1887d",
   "metadata": {},
   "source": [
    "### Giving a Name to Query-Customer"
   ]
  },
  {
   "cell_type": "markdown",
   "id": "bd9416c8",
   "metadata": {},
   "source": [
    "The last step that we decided to make is to give a name to this customer -> Query_User_i where i goes from 0 to 49:"
   ]
  },
  {
   "cell_type": "code",
   "execution_count": 164,
   "id": "8e10fdf1",
   "metadata": {
    "scrolled": true
   },
   "outputs": [],
   "source": [
    "#create two column and combine them to create the name:\n",
    "\n",
    "query['sub'] = 'Query_User_' #prefix\n",
    "\n",
    "query['num'] = range(50) #numbers\n",
    "\n",
    "query['New_ID'] = query['sub'] + query['num'].astype(str) #concatenating prefix and number\n",
    "\n",
    "del query['num'], query['sub'] #deleting the prefix and the numbers"
   ]
  },
  {
   "cell_type": "code",
   "execution_count": 165,
   "id": "d4dc19ab",
   "metadata": {},
   "outputs": [],
   "source": [
    "query = query[['New_ID', 'CustGender', 'CustomerClassAge', 'Richness', 'Expenditure']] #reorder the column"
   ]
  },
  {
   "cell_type": "code",
   "execution_count": 166,
   "id": "fc473082",
   "metadata": {},
   "outputs": [
    {
     "data": {
      "text/html": [
       "<div>\n",
       "<style scoped>\n",
       "    .dataframe tbody tr th:only-of-type {\n",
       "        vertical-align: middle;\n",
       "    }\n",
       "\n",
       "    .dataframe tbody tr th {\n",
       "        vertical-align: top;\n",
       "    }\n",
       "\n",
       "    .dataframe thead th {\n",
       "        text-align: right;\n",
       "    }\n",
       "</style>\n",
       "<table border=\"1\" class=\"dataframe\">\n",
       "  <thead>\n",
       "    <tr style=\"text-align: right;\">\n",
       "      <th></th>\n",
       "      <th>New_ID</th>\n",
       "      <th>CustGender</th>\n",
       "      <th>CustomerClassAge</th>\n",
       "      <th>Richness</th>\n",
       "      <th>Expenditure</th>\n",
       "    </tr>\n",
       "  </thead>\n",
       "  <tbody>\n",
       "    <tr>\n",
       "      <th>0</th>\n",
       "      <td>Query_User_0</td>\n",
       "      <td>M</td>\n",
       "      <td>age_5</td>\n",
       "      <td>richness_9</td>\n",
       "      <td>exp_2</td>\n",
       "    </tr>\n",
       "    <tr>\n",
       "      <th>1</th>\n",
       "      <td>Query_User_1</td>\n",
       "      <td>M</td>\n",
       "      <td>age_2</td>\n",
       "      <td>richness_4</td>\n",
       "      <td>exp_10</td>\n",
       "    </tr>\n",
       "    <tr>\n",
       "      <th>2</th>\n",
       "      <td>Query_User_2</td>\n",
       "      <td>M</td>\n",
       "      <td>age_2</td>\n",
       "      <td>richness_4</td>\n",
       "      <td>exp_6</td>\n",
       "    </tr>\n",
       "    <tr>\n",
       "      <th>3</th>\n",
       "      <td>Query_User_3</td>\n",
       "      <td>M</td>\n",
       "      <td>age_3</td>\n",
       "      <td>richness_8</td>\n",
       "      <td>exp_8</td>\n",
       "    </tr>\n",
       "    <tr>\n",
       "      <th>4</th>\n",
       "      <td>Query_User_4</td>\n",
       "      <td>M</td>\n",
       "      <td>age_2</td>\n",
       "      <td>richness_9</td>\n",
       "      <td>exp_2</td>\n",
       "    </tr>\n",
       "  </tbody>\n",
       "</table>\n",
       "</div>"
      ],
      "text/plain": [
       "         New_ID CustGender CustomerClassAge    Richness Expenditure\n",
       "0  Query_User_0          M            age_5  richness_9       exp_2\n",
       "1  Query_User_1          M            age_2  richness_4      exp_10\n",
       "2  Query_User_2          M            age_2  richness_4       exp_6\n",
       "3  Query_User_3          M            age_3  richness_8       exp_8\n",
       "4  Query_User_4          M            age_2  richness_9       exp_2"
      ]
     },
     "execution_count": 166,
     "metadata": {},
     "output_type": "execute_result"
    }
   ],
   "source": [
    "query.head() #cheching the result query dataset"
   ]
  },
  {
   "cell_type": "markdown",
   "id": "d1f30809",
   "metadata": {},
   "source": [
    "# 1.3.2 Execute the query"
   ]
  },
  {
   "cell_type": "markdown",
   "id": "b14afc1c",
   "metadata": {},
   "source": [
    "$\\textbf{Procedure:}$\n",
    "\n",
    "To execute the query and return as output the most similar customer to each query we need to do the same MinHash procedure with the same type of shuffling to the rows. Such that the algorithm to divide into bucket is fast (less than 40 seconds) we decided to concatenate the new shingle matrix (shingle query) to the shingle matrix of the initial dataset and to re-execute the bucket-creation procedure. Then we will create a function that takes as input the the name of the query and gives as output the buckets that contain the most similar users to him. "
   ]
  },
  {
   "cell_type": "markdown",
   "id": "b2d97b11",
   "metadata": {},
   "source": [
    "### Shingle matrix for the query"
   ]
  },
  {
   "cell_type": "markdown",
   "id": "8701d021",
   "metadata": {},
   "source": [
    "First of all we define the shingles:"
   ]
  },
  {
   "cell_type": "code",
   "execution_count": 167,
   "id": "42f98498",
   "metadata": {},
   "outputs": [],
   "source": [
    "shingles = ['F', 'M', 'age_1', 'age_10', 'age_11', 'age_12', 'age_13', 'age_14', 'age_15', 'age_16', 'age_17', 'age_2', 'age_3', 'age_4', 'age_5', 'age_6', 'age_7', 'age_8', 'age_9', 'richness_0', 'richness_1', 'richness_10', 'richness_2', 'richness_3', 'richness_4', 'richness_5', 'richness_6', 'richness_7', 'richness_8', 'richness_9', 'exp_1', 'exp_10', 'exp_2', 'exp_3', 'exp_4', 'exp_5', 'exp_6', 'exp_7', 'exp_8', 'exp_9']"
   ]
  },
  {
   "cell_type": "markdown",
   "id": "fdf4c982",
   "metadata": {},
   "source": [
    "We build the $\\textit{\"shingle query\"}$ using the 'one_hot_vector' function:"
   ]
  },
  {
   "cell_type": "code",
   "execution_count": 168,
   "id": "c36a843b",
   "metadata": {},
   "outputs": [
    {
     "name": "stderr",
     "output_type": "stream",
     "text": [
      "100%|█████████████████████████████████████████| 50/50 [00:00<00:00, 1002.42it/s]\n"
     ]
    }
   ],
   "source": [
    "shingle_query = np.zeros((len(query), 40), dtype = int)\n",
    "\n",
    "for i in tq(range(len(query))):\n",
    "    # Append the one hot vectors as rows\n",
    "    shingle_query[query.index[i]] = one_hot_vector(query, i) \n",
    "\n",
    "# We need to transpose because for the shuffling, the Shingles need to be the rows\n",
    "shingle_query = shingle_query.T"
   ]
  },
  {
   "cell_type": "markdown",
   "id": "9a8f3ce2",
   "metadata": {},
   "source": [
    "An example to see if it worked properly:"
   ]
  },
  {
   "cell_type": "code",
   "execution_count": 169,
   "id": "56773908",
   "metadata": {},
   "outputs": [
    {
     "data": {
      "text/plain": [
       "New_ID              Query_User_1\n",
       "CustGender                     M\n",
       "CustomerClassAge           age_2\n",
       "Richness              richness_4\n",
       "Expenditure               exp_10\n",
       "Name: 1, dtype: object"
      ]
     },
     "execution_count": 169,
     "metadata": {},
     "output_type": "execute_result"
    }
   ],
   "source": [
    "query.loc[1]"
   ]
  },
  {
   "cell_type": "code",
   "execution_count": 170,
   "id": "3b235aa8",
   "metadata": {},
   "outputs": [
    {
     "name": "stdout",
     "output_type": "stream",
     "text": [
      "['F', 'M', 'age_1', 'age_10', 'age_11', 'age_12', 'age_13', 'age_14', 'age_15', 'age_16', 'age_17', 'age_2', 'age_3', 'age_4', 'age_5', 'age_6', 'age_7', 'age_8', 'age_9', 'richness_0', 'richness_1', 'richness_10', 'richness_2', 'richness_3', 'richness_4', 'richness_5', 'richness_6', 'richness_7', 'richness_8', 'richness_9', 'exp_1', 'exp_10', 'exp_2', 'exp_3', 'exp_4', 'exp_5', 'exp_6', 'exp_7', 'exp_8', 'exp_9']\n"
     ]
    }
   ],
   "source": [
    "print(shingles)"
   ]
  },
  {
   "cell_type": "code",
   "execution_count": 171,
   "id": "028cb82d",
   "metadata": {},
   "outputs": [
    {
     "data": {
      "text/plain": [
       "array([0, 1, 0, 0, 0, 0, 0, 0, 0, 0, 0, 1, 0, 0, 0, 0, 0, 0, 0, 0, 0, 0,\n",
       "       0, 0, 1, 0, 0, 0, 0, 0, 0, 1, 0, 0, 0, 0, 0, 0, 0, 0])"
      ]
     },
     "execution_count": 171,
     "metadata": {},
     "output_type": "execute_result"
    }
   ],
   "source": [
    "shingle_query[:, 1]"
   ]
  },
  {
   "cell_type": "markdown",
   "id": "ee242fcd",
   "metadata": {},
   "source": [
    "Then we concatenate the shingle query matrix to the initial shingle matrix: "
   ]
  },
  {
   "cell_type": "code",
   "execution_count": 173,
   "id": "4de4d590",
   "metadata": {},
   "outputs": [],
   "source": [
    "new_shingle_matrix = np.concatenate((shingle_matrix, shingle_query), axis = 1) #concatenate the two matrix"
   ]
  },
  {
   "cell_type": "code",
   "execution_count": 174,
   "id": "cb5d72f5",
   "metadata": {},
   "outputs": [
    {
     "data": {
      "text/plain": [
       "(40, 1035002)"
      ]
     },
     "execution_count": 174,
     "metadata": {},
     "output_type": "execute_result"
    }
   ],
   "source": [
    "new_shingle_matrix.shape"
   ]
  },
  {
   "cell_type": "markdown",
   "id": "dbdbdd4a",
   "metadata": {},
   "source": [
    "### Create the new signature matrix"
   ]
  },
  {
   "cell_type": "markdown",
   "id": "18c77232",
   "metadata": {},
   "source": [
    "Now we can repeat the same MinHash procedure to build the signature matrix: "
   ]
  },
  {
   "cell_type": "code",
   "execution_count": 175,
   "id": "0e364f22",
   "metadata": {},
   "outputs": [
    {
     "name": "stderr",
     "output_type": "stream",
     "text": [
      "100%|███████████████████████████████████████████| 20/20 [00:34<00:00,  1.70s/it]\n"
     ]
    }
   ],
   "source": [
    "n_permutations = 20 #number of permutations = number of rows of the signature matrix\n",
    "\n",
    "new_signature_matrix = np.zeros((20, new_shingle_matrix.shape[1]), dtype = int) #initialize signature matrix\n",
    "\n",
    "for i in tq(range(n_permutations)):\n",
    "    # 1. Shuffle rows\n",
    "    np.random.shuffle(new_shingle_matrix)\n",
    "    \n",
    "    # 2. Create the vector of indeces where the first 1 is found. np.argmax stops at the first occurrence\n",
    "    signature_row = np.argmax(new_shingle_matrix == 1, axis=0) + 1\n",
    "    \n",
    "    # 3. Add to signature matrix\n",
    "    new_signature_matrix[i] = signature_row\n"
   ]
  },
  {
   "cell_type": "markdown",
   "id": "d2f6a18e",
   "metadata": {},
   "source": [
    "To use the \"$\\textit{substitute_keys}$\" function we need to concatenate to the initial dataframe the data related to the query: "
   ]
  },
  {
   "cell_type": "code",
   "execution_count": 176,
   "id": "0467b12b",
   "metadata": {},
   "outputs": [],
   "source": [
    "df = df.append(query, ignore_index = True) #append query dataframe to the initial dataframe"
   ]
  },
  {
   "cell_type": "code",
   "execution_count": 177,
   "id": "331268b6",
   "metadata": {},
   "outputs": [
    {
     "data": {
      "text/html": [
       "<div>\n",
       "<style scoped>\n",
       "    .dataframe tbody tr th:only-of-type {\n",
       "        vertical-align: middle;\n",
       "    }\n",
       "\n",
       "    .dataframe tbody tr th {\n",
       "        vertical-align: top;\n",
       "    }\n",
       "\n",
       "    .dataframe thead th {\n",
       "        text-align: right;\n",
       "    }\n",
       "</style>\n",
       "<table border=\"1\" class=\"dataframe\">\n",
       "  <thead>\n",
       "    <tr style=\"text-align: right;\">\n",
       "      <th></th>\n",
       "      <th>New_ID</th>\n",
       "      <th>CustGender</th>\n",
       "      <th>CustomerClassAge</th>\n",
       "      <th>Richness</th>\n",
       "      <th>Expenditure</th>\n",
       "    </tr>\n",
       "  </thead>\n",
       "  <tbody>\n",
       "    <tr>\n",
       "      <th>0</th>\n",
       "      <td>C1010011F24</td>\n",
       "      <td>F</td>\n",
       "      <td>age_2</td>\n",
       "      <td>richness_7</td>\n",
       "      <td>exp_10</td>\n",
       "    </tr>\n",
       "    <tr>\n",
       "      <th>1</th>\n",
       "      <td>C1010011M33</td>\n",
       "      <td>M</td>\n",
       "      <td>age_4</td>\n",
       "      <td>richness_9</td>\n",
       "      <td>exp_5</td>\n",
       "    </tr>\n",
       "    <tr>\n",
       "      <th>2</th>\n",
       "      <td>C1010012M22</td>\n",
       "      <td>M</td>\n",
       "      <td>age_2</td>\n",
       "      <td>richness_6</td>\n",
       "      <td>exp_8</td>\n",
       "    </tr>\n",
       "    <tr>\n",
       "      <th>3</th>\n",
       "      <td>C1010014F24</td>\n",
       "      <td>F</td>\n",
       "      <td>age_2</td>\n",
       "      <td>richness_7</td>\n",
       "      <td>exp_8</td>\n",
       "    </tr>\n",
       "    <tr>\n",
       "      <th>4</th>\n",
       "      <td>C1010014M32</td>\n",
       "      <td>M</td>\n",
       "      <td>age_4</td>\n",
       "      <td>richness_9</td>\n",
       "      <td>exp_4</td>\n",
       "    </tr>\n",
       "    <tr>\n",
       "      <th>...</th>\n",
       "      <td>...</td>\n",
       "      <td>...</td>\n",
       "      <td>...</td>\n",
       "      <td>...</td>\n",
       "      <td>...</td>\n",
       "    </tr>\n",
       "    <tr>\n",
       "      <th>1034997</th>\n",
       "      <td>Query_User_45</td>\n",
       "      <td>F</td>\n",
       "      <td>age_3</td>\n",
       "      <td>richness_10</td>\n",
       "      <td>exp_4</td>\n",
       "    </tr>\n",
       "    <tr>\n",
       "      <th>1034998</th>\n",
       "      <td>Query_User_46</td>\n",
       "      <td>M</td>\n",
       "      <td>age_6</td>\n",
       "      <td>richness_6</td>\n",
       "      <td>exp_2</td>\n",
       "    </tr>\n",
       "    <tr>\n",
       "      <th>1034999</th>\n",
       "      <td>Query_User_47</td>\n",
       "      <td>M</td>\n",
       "      <td>age_2</td>\n",
       "      <td>richness_10</td>\n",
       "      <td>exp_2</td>\n",
       "    </tr>\n",
       "    <tr>\n",
       "      <th>1035000</th>\n",
       "      <td>Query_User_48</td>\n",
       "      <td>F</td>\n",
       "      <td>age_2</td>\n",
       "      <td>richness_4</td>\n",
       "      <td>exp_8</td>\n",
       "    </tr>\n",
       "    <tr>\n",
       "      <th>1035001</th>\n",
       "      <td>Query_User_49</td>\n",
       "      <td>M</td>\n",
       "      <td>age_3</td>\n",
       "      <td>richness_5</td>\n",
       "      <td>exp_4</td>\n",
       "    </tr>\n",
       "  </tbody>\n",
       "</table>\n",
       "<p>1035002 rows × 5 columns</p>\n",
       "</div>"
      ],
      "text/plain": [
       "                New_ID CustGender CustomerClassAge     Richness Expenditure\n",
       "0          C1010011F24          F            age_2   richness_7      exp_10\n",
       "1          C1010011M33          M            age_4   richness_9       exp_5\n",
       "2          C1010012M22          M            age_2   richness_6       exp_8\n",
       "3          C1010014F24          F            age_2   richness_7       exp_8\n",
       "4          C1010014M32          M            age_4   richness_9       exp_4\n",
       "...                ...        ...              ...          ...         ...\n",
       "1034997  Query_User_45          F            age_3  richness_10       exp_4\n",
       "1034998  Query_User_46          M            age_6   richness_6       exp_2\n",
       "1034999  Query_User_47          M            age_2  richness_10       exp_2\n",
       "1035000  Query_User_48          F            age_2   richness_4       exp_8\n",
       "1035001  Query_User_49          M            age_3   richness_5       exp_4\n",
       "\n",
       "[1035002 rows x 5 columns]"
      ]
     },
     "execution_count": 177,
     "metadata": {},
     "output_type": "execute_result"
    }
   ],
   "source": [
    "df"
   ]
  },
  {
   "cell_type": "markdown",
   "id": "bdf02df0",
   "metadata": {},
   "source": [
    "### Buckets creation"
   ]
  },
  {
   "cell_type": "markdown",
   "id": "719457f2",
   "metadata": {},
   "source": [
    "We choose the band size b and then we can created the dictionary with the buckets:"
   ]
  },
  {
   "cell_type": "code",
   "execution_count": 180,
   "id": "2fa59b80",
   "metadata": {},
   "outputs": [
    {
     "name": "stderr",
     "output_type": "stream",
     "text": [
      "100%|█████████████████████████████████████████████| 5/5 [00:52<00:00, 10.44s/it]\n"
     ]
    },
    {
     "name": "stdout",
     "output_type": "stream",
     "text": [
      "The number of buckets is  4679\n"
     ]
    },
    {
     "data": {
      "text/html": [
       "<div>\n",
       "<style scoped>\n",
       "    .dataframe tbody tr th:only-of-type {\n",
       "        vertical-align: middle;\n",
       "    }\n",
       "\n",
       "    .dataframe tbody tr th {\n",
       "        vertical-align: top;\n",
       "    }\n",
       "\n",
       "    .dataframe thead th {\n",
       "        text-align: right;\n",
       "    }\n",
       "</style>\n",
       "<table border=\"1\" class=\"dataframe\">\n",
       "  <thead>\n",
       "    <tr style=\"text-align: right;\">\n",
       "      <th></th>\n",
       "      <th>New_ID</th>\n",
       "      <th>CustGender</th>\n",
       "      <th>CustomerClassAge</th>\n",
       "      <th>Richness</th>\n",
       "      <th>Expenditure</th>\n",
       "    </tr>\n",
       "  </thead>\n",
       "  <tbody>\n",
       "    <tr>\n",
       "      <th>6913</th>\n",
       "      <td>C1031019M57</td>\n",
       "      <td>M</td>\n",
       "      <td>age_9</td>\n",
       "      <td>richness_7</td>\n",
       "      <td>exp_8</td>\n",
       "    </tr>\n",
       "    <tr>\n",
       "      <th>10075</th>\n",
       "      <td>C1040536F60</td>\n",
       "      <td>F</td>\n",
       "      <td>age_9</td>\n",
       "      <td>richness_7</td>\n",
       "      <td>exp_8</td>\n",
       "    </tr>\n",
       "    <tr>\n",
       "      <th>10638</th>\n",
       "      <td>C1042285F60</td>\n",
       "      <td>F</td>\n",
       "      <td>age_9</td>\n",
       "      <td>richness_7</td>\n",
       "      <td>exp_8</td>\n",
       "    </tr>\n",
       "    <tr>\n",
       "      <th>17829</th>\n",
       "      <td>C1125238M56</td>\n",
       "      <td>M</td>\n",
       "      <td>age_9</td>\n",
       "      <td>richness_7</td>\n",
       "      <td>exp_8</td>\n",
       "    </tr>\n",
       "    <tr>\n",
       "      <th>25721</th>\n",
       "      <td>C1210613F58</td>\n",
       "      <td>F</td>\n",
       "      <td>age_9</td>\n",
       "      <td>richness_7</td>\n",
       "      <td>exp_8</td>\n",
       "    </tr>\n",
       "    <tr>\n",
       "      <th>...</th>\n",
       "      <td>...</td>\n",
       "      <td>...</td>\n",
       "      <td>...</td>\n",
       "      <td>...</td>\n",
       "      <td>...</td>\n",
       "    </tr>\n",
       "    <tr>\n",
       "      <th>987429</th>\n",
       "      <td>C8721514F56</td>\n",
       "      <td>F</td>\n",
       "      <td>age_9</td>\n",
       "      <td>richness_7</td>\n",
       "      <td>exp_8</td>\n",
       "    </tr>\n",
       "    <tr>\n",
       "      <th>1011667</th>\n",
       "      <td>C8917230M57</td>\n",
       "      <td>M</td>\n",
       "      <td>age_9</td>\n",
       "      <td>richness_7</td>\n",
       "      <td>exp_8</td>\n",
       "    </tr>\n",
       "    <tr>\n",
       "      <th>1014438</th>\n",
       "      <td>C8925228M56</td>\n",
       "      <td>M</td>\n",
       "      <td>age_9</td>\n",
       "      <td>richness_7</td>\n",
       "      <td>exp_8</td>\n",
       "    </tr>\n",
       "    <tr>\n",
       "      <th>1024523</th>\n",
       "      <td>C9017164F59</td>\n",
       "      <td>F</td>\n",
       "      <td>age_9</td>\n",
       "      <td>richness_7</td>\n",
       "      <td>exp_8</td>\n",
       "    </tr>\n",
       "    <tr>\n",
       "      <th>1030764</th>\n",
       "      <td>C9035728M60</td>\n",
       "      <td>M</td>\n",
       "      <td>age_9</td>\n",
       "      <td>richness_7</td>\n",
       "      <td>exp_8</td>\n",
       "    </tr>\n",
       "  </tbody>\n",
       "</table>\n",
       "<p>79 rows × 5 columns</p>\n",
       "</div>"
      ],
      "text/plain": [
       "              New_ID CustGender CustomerClassAge    Richness Expenditure\n",
       "6913     C1031019M57          M            age_9  richness_7       exp_8\n",
       "10075    C1040536F60          F            age_9  richness_7       exp_8\n",
       "10638    C1042285F60          F            age_9  richness_7       exp_8\n",
       "17829    C1125238M56          M            age_9  richness_7       exp_8\n",
       "25721    C1210613F58          F            age_9  richness_7       exp_8\n",
       "...              ...        ...              ...         ...         ...\n",
       "987429   C8721514F56          F            age_9  richness_7       exp_8\n",
       "1011667  C8917230M57          M            age_9  richness_7       exp_8\n",
       "1014438  C8925228M56          M            age_9  richness_7       exp_8\n",
       "1024523  C9017164F59          F            age_9  richness_7       exp_8\n",
       "1030764  C9035728M60          M            age_9  richness_7       exp_8\n",
       "\n",
       "[79 rows x 5 columns]"
      ]
     },
     "execution_count": 180,
     "metadata": {},
     "output_type": "execute_result"
    }
   ],
   "source": [
    "cluster_query = create_buckets(4, new_signature_matrix) #create buckets with band size 4\n",
    "\n",
    "cluster_query = substitute_keys(cluster_query, df) #substitute index with customer names\n",
    "\n",
    "print('The number of buckets is ', len(cluster_query))\n",
    "\n",
    "df[df['New_ID'].isin(cluster_query[list(cluster_query.keys())[0]])] #show as example the first group of similar customers"
   ]
  },
  {
   "cell_type": "markdown",
   "id": "2e713140",
   "metadata": {},
   "source": [
    "### Search the buckets where the query is included"
   ]
  },
  {
   "cell_type": "markdown",
   "id": "eef91b28",
   "metadata": {},
   "source": [
    "We created a function that takes as $\\textbf{input}$ the name of the query (e.g. $\\textit{Query_user_35}$) and gives as $\\textbf{output}$ the keys of the buckets in which it's contained(e.g. $\\textit{Query_user_35: [(1,1,1,2), (1,3,4,3), ...]}$):"
   ]
  },
  {
   "cell_type": "code",
   "execution_count": 181,
   "id": "6cde5a4b",
   "metadata": {},
   "outputs": [],
   "source": [
    "def search_bucket(name):\n",
    "    \n",
    "    index = [] #initialize the list where will be inserted the keys where the name is found\n",
    "    \n",
    "    keys = list(cluster_query.keys()) #list of keys of the dictionary containing the buckets\n",
    "\n",
    "    values = list(cluster_query.values()) #list of values of the dictionary containing the buckets\n",
    "    \n",
    "    #values is a list of lists where the inner contains the values related to the keys.\n",
    "\n",
    "    for i, v in enumerate(values): # i -> index of the keys, v -> list of values\n",
    "        \n",
    "        if name in v:\n",
    "            \n",
    "            index.append(keys[i]) #append the keys where the name is found using the index\n",
    "            \n",
    "    return index #return the list of keys"
   ]
  },
  {
   "cell_type": "markdown",
   "id": "1b1a6449",
   "metadata": {},
   "source": [
    "Now we decided to create a $\\textbf{dictionary}$ where we store as $keys$ the name of the query customer and as $values$ a list of buckets keys where the query customer is inserted. Through them we can find groups of customer similar to the queries: "
   ]
  },
  {
   "cell_type": "code",
   "execution_count": 183,
   "id": "203f5ed3",
   "metadata": {},
   "outputs": [],
   "source": [
    "# Creation of a dictionary where all the info about the similar users to all the queries all inserted: \n",
    "\n",
    "# Keys   -> Query names (e.g. 'Query_User_2', 'Query_User_41', ...)\n",
    "\n",
    "# Values -> List of keys, i.e. The link to the buckets (e.g. [(9, 4, 8, 12), (21, 20, 19, 10), ...] )\n",
    "\n",
    "query_buckets = {} #initialize query_bucket\n",
    "\n",
    "queries_name = list(df.iloc[-50:]['New_ID']) #list of query customer name\n",
    "\n",
    "for q in queries_name:\n",
    "    \n",
    "    query_buckets[q] = search_bucket(q) #keys = query customer name, values = list of bucket where it's found"
   ]
  },
  {
   "cell_type": "markdown",
   "id": "a89080cb",
   "metadata": {},
   "source": [
    "Example: "
   ]
  },
  {
   "cell_type": "code",
   "execution_count": 186,
   "id": "7bf8f36c",
   "metadata": {},
   "outputs": [
    {
     "name": "stdout",
     "output_type": "stream",
     "text": [
      "[(9, 4, 8, 12), (21, 20, 19, 10), (7, 14, 5, 10), (11, 4, 12, 5), (8, 2, 9, 9)]\n"
     ]
    }
   ],
   "source": [
    "print(query_buckets['Query_User_32'])"
   ]
  },
  {
   "cell_type": "markdown",
   "id": "00db899d",
   "metadata": {},
   "source": [
    "The work is done! "
   ]
  },
  {
   "cell_type": "markdown",
   "id": "f25b3fe7",
   "metadata": {},
   "source": [
    "### Find the similar customers gived the query_name"
   ]
  },
  {
   "cell_type": "markdown",
   "id": "d92c908d",
   "metadata": {},
   "source": [
    "We decided to create a function $\\textit{similar_to_query}$ that takes as $\\textbf{input}$ the name of the query (e.g. $\\textit{Query_User_43})$ and gives as $\\textbf{output}$ the components of all the different $\\textit{clusters}$ where this users is inserted. In the follow lines we can see an example on how it works:"
   ]
  },
  {
   "cell_type": "code",
   "execution_count": 187,
   "id": "d5ff0818",
   "metadata": {},
   "outputs": [],
   "source": [
    "def similar_to_query(query_name):\n",
    "    \n",
    "    keys = query_buckets[query_name] #list of bucket keys of where the name is found\n",
    "    \n",
    "    similar_customers = {}  #initialize a dict: keys = name of the group, values = similar customer to the query\n",
    "    \n",
    "    for i,k in enumerate(keys):\n",
    "        \n",
    "        similar_customers['Group_' + str(i)] = cluster_query[k] #build the dictionary\n",
    "       \n",
    "    return similar_customers"
   ]
  },
  {
   "cell_type": "code",
   "execution_count": 190,
   "id": "2812c5a8",
   "metadata": {},
   "outputs": [],
   "source": [
    "similar_to_34 = similar_to_query('Query_User_34')"
   ]
  },
  {
   "cell_type": "code",
   "execution_count": 199,
   "id": "8a2225ed",
   "metadata": {},
   "outputs": [
    {
     "name": "stdout",
     "output_type": "stream",
     "text": [
      "['C1010876F30', 'C1010921F28', 'C1011387F30', 'C1011643F26', 'C1012035F30']\n"
     ]
    }
   ],
   "source": [
    "print(similar_to_34['Group_2'][0:5]) #first 5 components of the second group of similar customer to query_user_34"
   ]
  },
  {
   "cell_type": "markdown",
   "id": "8a0af938",
   "metadata": {},
   "source": [
    "For example we can take one of the members of a group and compare them to the query user: "
   ]
  },
  {
   "cell_type": "code",
   "execution_count": 192,
   "id": "0384662c",
   "metadata": {},
   "outputs": [
    {
     "data": {
      "text/html": [
       "<div>\n",
       "<style scoped>\n",
       "    .dataframe tbody tr th:only-of-type {\n",
       "        vertical-align: middle;\n",
       "    }\n",
       "\n",
       "    .dataframe tbody tr th {\n",
       "        vertical-align: top;\n",
       "    }\n",
       "\n",
       "    .dataframe thead th {\n",
       "        text-align: right;\n",
       "    }\n",
       "</style>\n",
       "<table border=\"1\" class=\"dataframe\">\n",
       "  <thead>\n",
       "    <tr style=\"text-align: right;\">\n",
       "      <th></th>\n",
       "      <th>New_ID</th>\n",
       "      <th>CustGender</th>\n",
       "      <th>CustomerClassAge</th>\n",
       "      <th>Richness</th>\n",
       "      <th>Expenditure</th>\n",
       "    </tr>\n",
       "  </thead>\n",
       "  <tbody>\n",
       "    <tr>\n",
       "      <th>1034986</th>\n",
       "      <td>Query_User_34</td>\n",
       "      <td>M</td>\n",
       "      <td>age_2</td>\n",
       "      <td>richness_10</td>\n",
       "      <td>exp_10</td>\n",
       "    </tr>\n",
       "  </tbody>\n",
       "</table>\n",
       "</div>"
      ],
      "text/plain": [
       "                New_ID CustGender CustomerClassAge     Richness Expenditure\n",
       "1034986  Query_User_34          M            age_2  richness_10      exp_10"
      ]
     },
     "execution_count": 192,
     "metadata": {},
     "output_type": "execute_result"
    }
   ],
   "source": [
    "df[df['New_ID'] == 'Query_User_34']"
   ]
  },
  {
   "cell_type": "code",
   "execution_count": 193,
   "id": "5bfb9b76",
   "metadata": {},
   "outputs": [
    {
     "data": {
      "text/html": [
       "<div>\n",
       "<style scoped>\n",
       "    .dataframe tbody tr th:only-of-type {\n",
       "        vertical-align: middle;\n",
       "    }\n",
       "\n",
       "    .dataframe tbody tr th {\n",
       "        vertical-align: top;\n",
       "    }\n",
       "\n",
       "    .dataframe thead th {\n",
       "        text-align: right;\n",
       "    }\n",
       "</style>\n",
       "<table border=\"1\" class=\"dataframe\">\n",
       "  <thead>\n",
       "    <tr style=\"text-align: right;\">\n",
       "      <th></th>\n",
       "      <th>New_ID</th>\n",
       "      <th>CustGender</th>\n",
       "      <th>CustomerClassAge</th>\n",
       "      <th>Richness</th>\n",
       "      <th>Expenditure</th>\n",
       "    </tr>\n",
       "  </thead>\n",
       "  <tbody>\n",
       "    <tr>\n",
       "      <th>1034953</th>\n",
       "      <td>Query_User_1</td>\n",
       "      <td>M</td>\n",
       "      <td>age_2</td>\n",
       "      <td>richness_4</td>\n",
       "      <td>exp_10</td>\n",
       "    </tr>\n",
       "    <tr>\n",
       "      <th>1034986</th>\n",
       "      <td>Query_User_34</td>\n",
       "      <td>M</td>\n",
       "      <td>age_2</td>\n",
       "      <td>richness_10</td>\n",
       "      <td>exp_10</td>\n",
       "    </tr>\n",
       "  </tbody>\n",
       "</table>\n",
       "</div>"
      ],
      "text/plain": [
       "                New_ID CustGender CustomerClassAge     Richness Expenditure\n",
       "1034953   Query_User_1          M            age_2   richness_4      exp_10\n",
       "1034986  Query_User_34          M            age_2  richness_10      exp_10"
      ]
     },
     "execution_count": 193,
     "metadata": {},
     "output_type": "execute_result"
    }
   ],
   "source": [
    "df[df['New_ID'].isin(similar_to_query('Query_User_34')['Group_3'])] "
   ]
  }
 ],
 "metadata": {
  "kernelspec": {
   "display_name": "Python 3 (ipykernel)",
   "language": "python",
   "name": "python3"
  },
  "language_info": {
   "codemirror_mode": {
    "name": "ipython",
    "version": 3
   },
   "file_extension": ".py",
   "mimetype": "text/x-python",
   "name": "python",
   "nbconvert_exporter": "python",
   "pygments_lexer": "ipython3",
   "version": "3.9.0"
  }
 },
 "nbformat": 4,
 "nbformat_minor": 5
}
