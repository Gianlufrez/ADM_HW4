{
 "cells": [
  {
   "cell_type": "markdown",
   "id": "f6689694",
   "metadata": {},
   "source": [
    "## How the algorithm works\n",
    "There are two possible outcomes of the algorithm:\n",
    "1. **YES** -> We have enough guards.\n",
    "2. **NO** -> We don't have enough guards.\n",
    "\n",
    "### 1. How do we know that we have enough guards?\n",
    "We know that we have enough guards, if **all** students were able to enter the university.\n",
    "\n",
    "### 2. How do we know that we don't have enough guards?\n",
    "We know that we don't have enough guards if we have to remove a guard from a gate that **still** has students waiting.\n",
    "\n",
    "### Components\n",
    "From the problem definition, we can identify three components of the algorithm:\n",
    "1. Gates\n",
    "2. Students\n",
    "3. Guards\n",
    "\n",
    "The diagram below shows the three components for the first example input\n",
    "```\n",
    "4 5 1\n",
    "1 1 3 3 3\n",
    "```\n",
    "There are 4 gates (orange), 5 students (green), and 1 guard (blue). The students are queued up in front of their respective gates in ascending order, so that they enter in the correct order. The first two students `1 1`, are labelled `Student 1, Student 2`, and queue in front of gate 1. The next three students, `3 3 3` are labelled `Student 3, Student 4, Student 5`, and are queueing in front of gate 3. There is also a single guard in the guard pool.\n",
    "\n",
    "![algorithm_overview](docs/algorithmic_question_overview.svg)"
   ]
  },
  {
   "cell_type": "markdown",
   "id": "0af4d8e2",
   "metadata": {},
   "source": [
    "## Imports"
   ]
  },
  {
   "cell_type": "code",
   "execution_count": 2,
   "id": "60807719",
   "metadata": {},
   "outputs": [],
   "source": [
    "from domain import Gate\n",
    "from queue import PriorityQueue"
   ]
  },
  {
   "cell_type": "markdown",
   "id": "97beabd2",
   "metadata": {},
   "source": [
    "## Read inputs\n",
    "We will read from a file."
   ]
  },
  {
   "cell_type": "code",
   "execution_count": 5,
   "id": "651e4a7b",
   "metadata": {},
   "outputs": [],
   "source": [
    "file_path = 'data/students_yes.txt'\n",
    "\n",
    "with open(file_path, 'r') as file:\n",
    "    n_gates, n_students, n_guards = map(int, file.readline().split())\n",
    "    student_gates = list(map(int, file.readline().split()))"
   ]
  },
  {
   "cell_type": "markdown",
   "id": "564f949f",
   "metadata": {},
   "source": [
    "## 1. Gates\n",
    "We can think of both the guards and students being assigned to gates. Students need to enter a specific gate and guards need to supervise an assigned gate. For this reason, we decided to create a `Gate` class that will hold students queueing for the gate as well as the guard that is supervising the gate. The class will help to facilitate interactions between all three components and suppor the logic of the overall algorithm. \n",
    "\n",
    "Gate class [documentation](https://jonasbarth.github.io/uni/msc/year/1/adm/hw/4/docs/gate.html).\n",
    "\n",
    "Here, we create a mapping from gate numbers to gates."
   ]
  },
  {
   "cell_type": "code",
   "execution_count": 7,
   "id": "c5ff30b1",
   "metadata": {},
   "outputs": [],
   "source": [
    "gates = {gate_number: Gate(gate_number) for gate_number in range(1, n_gates + 1)}"
   ]
  },
  {
   "cell_type": "code",
   "execution_count": 15,
   "id": "d51f7bf5",
   "metadata": {},
   "outputs": [],
   "source": [
    "def are_students_left(gates):\n",
    "    \"\"\"Helper method to check whether there are students waiting to be let in at any gate.\n",
    "    \n",
    "    :arg\n",
    "    gates - a list of Gate objects.\n",
    "    \"\"\"\n",
    "    return any(map(lambda gate: not gate.can_be_closed(), gates))   "
   ]
  },
  {
   "cell_type": "markdown",
   "id": "5198d6a2",
   "metadata": {},
   "source": [
    "## 2. Students\n",
    "This is a list of integers $[1..M]$. Each student (integer) will be placed into a FIFO queue of a gate."
   ]
  },
  {
   "cell_type": "code",
   "execution_count": 8,
   "id": "3f6b6b5e",
   "metadata": {},
   "outputs": [],
   "source": [
    "for student, student_gate in zip(range(n_students), student_gates):\n",
    "    gates[student_gate].add_student(student)"
   ]
  },
  {
   "cell_type": "markdown",
   "id": "bcb1f383",
   "metadata": {},
   "source": [
    "## 3. Guards\n",
    "We have a pool of $G$ guards that is represented as a list of integers $[1..G]$. We remove a guard from the list when we have a gate where students are waiting but no supervising guard. We add a guard when all students at the gate that the guard is supervising, have been let in."
   ]
  },
  {
   "cell_type": "code",
   "execution_count": 14,
   "id": "414fde27",
   "metadata": {},
   "outputs": [],
   "source": [
    "guards = list(range(1, n_guards + 1))"
   ]
  },
  {
   "cell_type": "markdown",
   "id": "b688a6ef",
   "metadata": {},
   "source": [
    "## Algorithm\n",
    "### The idea behind the algorithm is that\n",
    "* we find the gate where the next student will be let in.\n",
    "* if the gate has a guard, we can let the student in.\n",
    "* if the gate does not have a guard, we try to assign one. If there are no free guards, we know that don't have enough guards because all guards are supervising gates where students are still waiting.\n",
    "\n",
    "Here are the steps of the algorithm.\n",
    "```\n",
    "while students are waiting to be let in:\n",
    "    get the gate where the next student will be let in.\n",
    "    \n",
    "    if the gate has a guard:\n",
    "        let in the next student\n",
    "        \n",
    "    if the gate has no guard:\n",
    "        if there are free guards in the pool:\n",
    "            assign a guard from the pool.\n",
    "            let in the next student.\n",
    "            \n",
    "        if there are no free guards:\n",
    "            break the loop because all guards are occupied\n",
    "            \n",
    "    if the gate has no more students waiting:\n",
    "        remove guard and put back into the guard pool.\n",
    "```"
   ]
  },
  {
   "cell_type": "code",
   "execution_count": 10,
   "id": "752e9210",
   "metadata": {},
   "outputs": [
    {
     "name": "stdout",
     "output_type": "stream",
     "text": [
      "YES\n"
     ]
    }
   ],
   "source": [
    "queue = PriorityQueue(maxsize=n_gates)\n",
    "for gate in gates.values():\n",
    "    queue.put((gate.priority, gate))\n",
    "\n",
    "students_left = are_students_left(gates.values())\n",
    "\n",
    "while students_left:\n",
    "    _, gate = queue.get()\n",
    "\n",
    "    # If a gate has a guard, I want to let a student in\n",
    "    if gate.has_guard():\n",
    "        gate.let_student_in()\n",
    "\n",
    "    else:\n",
    "        # If a gate has no guards I need to add a free guard\n",
    "        if guards:\n",
    "            guard = guards.pop(0)\n",
    "            gate.set_guard(guard)\n",
    "            gate.let_student_in()\n",
    "\n",
    "        # If there are no free guards at this stage, we don't have enough guards and exit the loop\n",
    "        else:\n",
    "            break\n",
    "\n",
    "    # If no more students are waiting, put the guard back into the pool\n",
    "    if gate.can_be_closed():\n",
    "        guards.append(gate.remove_guard())\n",
    "    \n",
    "    # Add the gate back into the priority queue with its updated priority\n",
    "    queue.put((gate.priority, gate))\n",
    "    \n",
    "    students_left = are_students_left(gates.values())\n",
    "\n",
    "if guards:\n",
    "    print(\"YES\")\n",
    "else:\n",
    "    print(\"NO\")"
   ]
  },
  {
   "cell_type": "markdown",
   "id": "cb891def",
   "metadata": {},
   "source": [
    "## Space Complexity\n",
    "Since we have $G$ guards and $M$ students that we store, we have a space complexity of $O(G + M)$."
   ]
  },
  {
   "cell_type": "markdown",
   "id": "26be858d",
   "metadata": {},
   "source": [
    "## Time Complexity"
   ]
  },
  {
   "cell_type": "markdown",
   "id": "2f3a2a1d",
   "metadata": {},
   "source": [
    "We have a priority queue which we have to build once and then deque $N$ times, one for each gate.\n",
    "\n",
    "* build once $O(n log n)$\n",
    "* deque $n$ items $O(n log n)$. Dequeing one time takes $O(log n)$.\n",
    "\n"
   ]
  }
 ],
 "metadata": {
  "kernelspec": {
   "display_name": "Python 3 (ipykernel)",
   "language": "python",
   "name": "python3"
  },
  "language_info": {
   "codemirror_mode": {
    "name": "ipython",
    "version": 3
   },
   "file_extension": ".py",
   "mimetype": "text/x-python",
   "name": "python",
   "nbconvert_exporter": "python",
   "pygments_lexer": "ipython3",
   "version": "3.9.0"
  }
 },
 "nbformat": 4,
 "nbformat_minor": 5
}
