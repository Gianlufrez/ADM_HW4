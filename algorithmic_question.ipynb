{
 "cells": [
  {
   "cell_type": "markdown",
   "id": "93346d6c",
   "metadata": {},
   "source": [
    "### How the algorithm works\n",
    "#### How do we know that we don't have enough guards?\n",
    "If we have to remove a guard from a gate that still has students waiting\n",
    "\n",
    "#### How do we know that we have enough guards?\n",
    "If all students have entered.\n",
    "\n",
    "#### The idea behind the algorithm is that\n",
    "* we map the guards and students to a specific gate.\n",
    "* we find the gate where the next student will be let in.\n",
    "* if the gate has a guard, we can let the student in.\n",
    "* if the gate does not have a guard, we try to assign on. If there are no free guards, we know that don't have enough guards because all guards are supervising gates where students are still waiting.\n",
    "\n",
    "We have a pool of guards that \n",
    "* we remove guards from when we have a gate that has students waiting but no guard\n",
    "* we add guards to when a guard has let in all the students that are waiting at the gate.\n",
    "\n",
    "Here are the steps of the algorithm.\n",
    "```\n",
    "while students are waiting:\n",
    "    get the gate where the next student will be let in.\n",
    "    \n",
    "    if the gate has a guard:\n",
    "        let in the next student\n",
    "        \n",
    "    if the gate has no guard:\n",
    "        if there are free guards in the pool:\n",
    "            assign a guard from the pool.\n",
    "            let in the next student.\n",
    "            \n",
    "        if there are no free guards:\n",
    "            break the loop because all guards are occupied\n",
    "            \n",
    "    if the gate has no more students waiting:\n",
    "        remove guard and put back into the guard pool.\n",
    "```\n",
    "\n",
    "Each gate object will have a queue students and a guard. We get the gate where the next student will be let in with the help of a priority queue."
   ]
  },
  {
   "cell_type": "markdown",
   "id": "8882dd38",
   "metadata": {},
   "source": [
    "## Imports"
   ]
  },
  {
   "cell_type": "code",
   "execution_count": 14,
   "id": "15abec39",
   "metadata": {},
   "outputs": [],
   "source": [
    "from domain import Gate\n",
    "from queue import PriorityQueue"
   ]
  },
  {
   "cell_type": "markdown",
   "id": "97beabd2",
   "metadata": {},
   "source": [
    "## Read inputs\n"
   ]
  },
  {
   "cell_type": "code",
   "execution_count": 15,
   "id": "651e4a7b",
   "metadata": {},
   "outputs": [],
   "source": [
    "with open('students_no.txt', 'r') as file:\n",
    "    n_gates, n_students, n_guards = map(int, file.readline().split())\n",
    "    student_gates = list(map(int, file.readline().split()))"
   ]
  },
  {
   "cell_type": "markdown",
   "id": "bcb1f383",
   "metadata": {},
   "source": [
    "## Setup guards"
   ]
  },
  {
   "cell_type": "code",
   "execution_count": 16,
   "id": "414fde27",
   "metadata": {},
   "outputs": [],
   "source": [
    "guards = list(range(n_guards))"
   ]
  },
  {
   "cell_type": "markdown",
   "id": "c24e48e8",
   "metadata": {},
   "source": [
    "## Setup gates"
   ]
  },
  {
   "cell_type": "code",
   "execution_count": 17,
   "id": "c5ff30b1",
   "metadata": {},
   "outputs": [],
   "source": [
    "gates = {gate_number: Gate(gate_number) for gate_number in range(1, n_gates + 1)}"
   ]
  },
  {
   "cell_type": "markdown",
   "id": "5aac6dc2",
   "metadata": {},
   "source": [
    "## Assign students to the queue of their gate"
   ]
  },
  {
   "cell_type": "code",
   "execution_count": 18,
   "id": "3f6b6b5e",
   "metadata": {},
   "outputs": [],
   "source": [
    "for student, student_gate in zip(range(n_students), student_gates):\n",
    "    gates[student_gate].add_student(student)"
   ]
  },
  {
   "cell_type": "markdown",
   "id": "b688a6ef",
   "metadata": {},
   "source": [
    "## Algorithm"
   ]
  },
  {
   "cell_type": "code",
   "execution_count": 19,
   "id": "a1785343",
   "metadata": {},
   "outputs": [
    {
     "name": "stdout",
     "output_type": "stream",
     "text": [
      "NO\n"
     ]
    }
   ],
   "source": [
    "queue = PriorityQueue(maxsize=n_gates)\n",
    "for gate in gates.values():\n",
    "    queue.put((gate.priority, gate))\n",
    "\n",
    "students_left = any(map(lambda gate: not gate.can_be_closed(), gates.values()))\n",
    "\n",
    "while students_left:\n",
    "    _, gate = queue.get()\n",
    "\n",
    "    # If a gate has a guard, I want to let a student in\n",
    "    if gate.has_guard():\n",
    "        gate.let_student_in()\n",
    "\n",
    "    else:\n",
    "        # If a gate has no guards I need to add a free guard\n",
    "        if guards:\n",
    "            guard = guards.pop(0)\n",
    "            gate.set_guard(guard)\n",
    "            gate.let_student_in()\n",
    "\n",
    "        # If there are no free guards at this stage, we don't have enough guards and exit the loop\n",
    "        else:\n",
    "            break\n",
    "\n",
    "    # If no more students are waiting, put the guard back into the pool\n",
    "    if gate.can_be_closed():\n",
    "        guards.append(gate.remove_guard())\n",
    "    \n",
    "    # Add the gate back into the priority queue with its updated priority\n",
    "    queue.put((gate.priority, gate))\n",
    "    \n",
    "    students_left = any(map(lambda gate: not gate.can_be_closed(), gates.values()))\n",
    "\n",
    "if guards:\n",
    "    print(\"YES\")\n",
    "else:\n",
    "    print(\"NO\")"
   ]
  }
 ],
 "metadata": {
  "kernelspec": {
   "display_name": "Python 3 (ipykernel)",
   "language": "python",
   "name": "python3"
  },
  "language_info": {
   "codemirror_mode": {
    "name": "ipython",
    "version": 3
   },
   "file_extension": ".py",
   "mimetype": "text/x-python",
   "name": "python",
   "nbconvert_exporter": "python",
   "pygments_lexer": "ipython3",
   "version": "3.9.0"
  }
 },
 "nbformat": 4,
 "nbformat_minor": 5
}
