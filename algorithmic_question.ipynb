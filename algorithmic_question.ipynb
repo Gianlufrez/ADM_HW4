{
 "cells": [
  {
   "cell_type": "markdown",
   "id": "2a033f5b",
   "metadata": {},
   "source": [
    "# Problem Statement\n",
    "An imaginary university wants to restrict its student’s entrance to the campus. Suppose that there are N entrances, M students and G guards. Due to the security measures, each student is known to be assigned a gate through which they should enter the university.\n",
    "\n",
    "The N entrances will be numbered from 1 to N. Regarding one entry, the entrance will be opened right before the first student’s arrival and closed right after the arrival of the last student that should enter through that specific entrance. We will assume that two students can not enter the university simultaneously. For an entry to be protected, a guard should be assigned to it. Notice that a guard cannot leave his post until the door he was given is closed.\n",
    "\n",
    "Assume that the university's head of the guards knows the order in which the students are coming to the university (yeah, they know you more than you know about yourself!). He wants you to help him if having only G guards is enough to address the restrictions they wish to apply (in other words, whether there will be a moment when more than G entrances should be opened or not)."
   ]
  },
  {
   "cell_type": "markdown",
   "id": "b207e3fd",
   "metadata": {},
   "source": [
    "**Input:**\n",
    "\n",
    "In the first line, you will be given the values of N, M and G, which correspond to the number of entrances to the university, the number of students in the university and the number of guards that the head of the guards intends to use to apply these restrictions respectively.\n",
    "$$1 \\le N \\le 10^6$$\n",
    "$$1 \\le M \\le 10^3$$\n",
    "$$1 \\le G \\le 100$$\n",
    "In the second line, you will be given M integers which the ith integer corresponds to the entrance that has been assigned to the ith student to enter the university. Students will enter the university in the same order . \n",
    "\n",
    "**Ouptut:**\n",
    "\n",
    "Output “YES” if having G guards is enough to respect the restrictions, and “NO” if it is not enough. \n",
    "\n",
    "**Examples:**\n",
    "\n",
    "__Input 1__\n",
    "```\n",
    "4 5 1\n",
    "1 1 3 3 3\n",
    "```\n",
    "__Output 2__\n",
    "```\n",
    "YES\n",
    "```\n",
    "In this example, we only have one guard in the university. Initially, the guard will be assigned to protect entrance 1'. After the second student arrives, the guard will close access ‘1' and go to entrance '3'. In this case, having only one guard is enough to address the restrictions. \n",
    "___\n",
    "\n",
    "__Input 2__\n",
    "```\n",
    "2 5 1 \n",
    "1 2 1 2 2\n",
    "```\n",
    "__Output 2__\n",
    "```\n",
    "NO\n",
    "```"
   ]
  },
  {
   "cell_type": "markdown",
   "id": "18884f76",
   "metadata": {},
   "source": [
    "Ideas\n",
    "* gates to guards\n",
    "* pop and push guards onto a stack\n",
    "* loop over student gates\n",
    "* if a gate is closed, it cannot be opened again\n",
    "* I must sort the students somehow because with more guards, I need to know which gates can be closed\n",
    "\n",
    "How do I know which gates can be closed?\n",
    "* If there are no more students waiting\n",
    "\n",
    "So I need to create a line of students for each gate, and if the line is empty only then can I remove the guard.\n",
    "\n",
    "```\n",
    "- create n gates\n",
    "- go over students and put each student in a queue\n",
    "\n",
    "- find the current first student\n",
    "- if gate has guard\n",
    "- let student in\n",
    "- if gate has no guard\n",
    "- find a guard \n",
    "\n",
    "for each student gate\n",
    "    if has guard\n",
    "        go to next student\n",
    "    if has no guard\n",
    "        if guard left\n",
    "            pop guard\n",
    "            assign to new gate\n",
    "        if no guard left\n",
    "            remove guard from gate\n",
    "```"
   ]
  },
  {
   "cell_type": "markdown",
   "id": "97beabd2",
   "metadata": {},
   "source": [
    "## Read inputs\n"
   ]
  },
  {
   "cell_type": "code",
   "execution_count": 1,
   "id": "651e4a7b",
   "metadata": {},
   "outputs": [],
   "source": [
    "with open('students.txt', 'r') as file:\n",
    "    n_gates, n_students, n_guards = map(int, file.readline().split())\n",
    "    student_gates = list(map(int, file.readline().split()))"
   ]
  },
  {
   "cell_type": "code",
   "execution_count": 2,
   "id": "8e535127",
   "metadata": {},
   "outputs": [],
   "source": [
    "class Gate:\n",
    "    def __init__(self, number):\n",
    "        self.number = number\n",
    "        self.closed = False\n",
    "        self.students = []\n",
    "        self.priority = 10**3 + 1 # 10**3 is the max number of students possible, so this gate will be last\n",
    "        self.guard = None\n",
    "        \n",
    "    def close(self):\n",
    "        self.closed = True\n",
    "        \n",
    "    def set_guard(self, guard):\n",
    "        self.guard = guard\n",
    "        \n",
    "    def has_guard(self):\n",
    "        return self.guard != None\n",
    "        \n",
    "    def remove_guard(self):\n",
    "        guard = self.guard\n",
    "        self.guard = None\n",
    "        self.close()\n",
    "        \n",
    "        return guard\n",
    "    \n",
    "    def add_student(self, student):\n",
    "        self.students.append(student)\n",
    "        \n",
    "    def let_student_in(self):\n",
    "        self.students.pop(0)\n",
    "        \n",
    "    def can_be_closed(self):\n",
    "        return len(self.students) == 0\n",
    "    \n",
    "    def set_priority(self):\n",
    "        if self.students:\n",
    "            self.priority = self.students[0]\n",
    "        else:\n",
    "            self.priority = 10**3 + 1\n",
    "        \n",
    "    def __lt__(self, other):\n",
    "        return self.priority < other.priority\n",
    "    \n",
    "    def __repr__(self):\n",
    "        return f'Gate; {self.number}. Closed; {self.closed}. Students waiting; {self.students}'"
   ]
  },
  {
   "cell_type": "markdown",
   "id": "bcb1f383",
   "metadata": {},
   "source": [
    "## Setup objects"
   ]
  },
  {
   "cell_type": "code",
   "execution_count": 3,
   "id": "414fde27",
   "metadata": {},
   "outputs": [],
   "source": [
    "guards = list(range(n_guards))"
   ]
  },
  {
   "cell_type": "code",
   "execution_count": 4,
   "id": "c5ff30b1",
   "metadata": {},
   "outputs": [],
   "source": [
    "gates = {gate_number: Gate(gate_number) for gate_number in range(1, n_gates + 1)}"
   ]
  },
  {
   "cell_type": "code",
   "execution_count": 5,
   "id": "3f6b6b5e",
   "metadata": {},
   "outputs": [],
   "source": [
    "for student, student_gate in zip(range(n_students), student_gates):\n",
    "    gates[student_gate].add_student(student)\n",
    "    gates[student_gate].set_priority()"
   ]
  },
  {
   "cell_type": "markdown",
   "id": "b688a6ef",
   "metadata": {},
   "source": [
    "## Make sure we always let the first student enter"
   ]
  },
  {
   "cell_type": "code",
   "execution_count": 6,
   "id": "641bcb3e",
   "metadata": {},
   "outputs": [],
   "source": [
    "from functools import reduce"
   ]
  },
  {
   "cell_type": "code",
   "execution_count": 7,
   "id": "b90b43c2",
   "metadata": {},
   "outputs": [],
   "source": [
    "from queue import PriorityQueue\n",
    "\n",
    "queue = PriorityQueue(maxsize=n_gates)\n",
    "for gate in gates.values():\n",
    "    queue.put((gate.priority, gate))"
   ]
  },
  {
   "cell_type": "code",
   "execution_count": 8,
   "id": "53b48fd1",
   "metadata": {},
   "outputs": [
    {
     "name": "stdout",
     "output_type": "stream",
     "text": [
      "[(0, Gate; 1. Closed; False. Students waiting; [0, 1]), (1001, Gate; 2. Closed; False. Students waiting; []), (2, Gate; 3. Closed; False. Students waiting; [2, 3, 4]), (1001, Gate; 4. Closed; False. Students waiting; [])]\n",
      "Gate; 1. Closed; False. Students waiting; [0, 1] [0]\n",
      "[False, True, False, True]\n",
      "Gate; 1. Closed; False. Students waiting; [1] []\n",
      "[True, True, False, True]\n",
      "Gate; 3. Closed; False. Students waiting; [2, 3, 4] [0]\n",
      "[True, True, False, True]\n",
      "Gate; 3. Closed; False. Students waiting; [3, 4] []\n",
      "[True, True, False, True]\n",
      "Gate; 3. Closed; False. Students waiting; [4] []\n",
      "[True, True, True, True]\n",
      "Gate; 2. Closed; False. Students waiting; [] [0]\n"
     ]
    },
    {
     "ename": "IndexError",
     "evalue": "pop from empty list",
     "output_type": "error",
     "traceback": [
      "\u001b[1;31m---------------------------------------------------------------------------\u001b[0m",
      "\u001b[1;31mIndexError\u001b[0m                                Traceback (most recent call last)",
      "Input \u001b[1;32mIn [8]\u001b[0m, in \u001b[0;36m<cell line: 3>\u001b[1;34m()\u001b[0m\n\u001b[0;32m     19\u001b[0m guard \u001b[38;5;241m=\u001b[39m guards\u001b[38;5;241m.\u001b[39mpop(\u001b[38;5;241m0\u001b[39m)\n\u001b[0;32m     20\u001b[0m gate\u001b[38;5;241m.\u001b[39mset_guard(guard)\n\u001b[1;32m---> 21\u001b[0m \u001b[43mgate\u001b[49m\u001b[38;5;241;43m.\u001b[39;49m\u001b[43mlet_student_in\u001b[49m\u001b[43m(\u001b[49m\u001b[43m)\u001b[49m\n\u001b[0;32m     22\u001b[0m gate\u001b[38;5;241m.\u001b[39mset_priority()\n\u001b[0;32m     24\u001b[0m \u001b[38;5;28;01mif\u001b[39;00m gate\u001b[38;5;241m.\u001b[39mcan_be_closed():\n",
      "Input \u001b[1;32mIn [2]\u001b[0m, in \u001b[0;36mGate.let_student_in\u001b[1;34m(self)\u001b[0m\n\u001b[0;32m     28\u001b[0m \u001b[38;5;28;01mdef\u001b[39;00m \u001b[38;5;21mlet_student_in\u001b[39m(\u001b[38;5;28mself\u001b[39m):\n\u001b[1;32m---> 29\u001b[0m     \u001b[38;5;28;43mself\u001b[39;49m\u001b[38;5;241;43m.\u001b[39;49m\u001b[43mstudents\u001b[49m\u001b[38;5;241;43m.\u001b[39;49m\u001b[43mpop\u001b[49m\u001b[43m(\u001b[49m\u001b[38;5;241;43m0\u001b[39;49m\u001b[43m)\u001b[49m\n",
      "\u001b[1;31mIndexError\u001b[0m: pop from empty list"
     ]
    }
   ],
   "source": [
    "students_left = True\n",
    "print(queue.queue)\n",
    "while students_left:\n",
    "    _, gate = queue.get()\n",
    "    print(gate, guards)\n",
    "    # If a gate has a guard, I want to let a student in\n",
    "    if gate.has_guard():\n",
    "        gate.let_student_in()\n",
    "        gate.set_priority()\n",
    "        \n",
    "        # If this was the last student, we can remove the guard\n",
    "        if gate.can_be_closed():\n",
    "            guards.append(gate.remove_guard())\n",
    "        \n",
    "    else:\n",
    "        # If a gate has no guards I need to add a free guard\n",
    "        if guards:\n",
    "                \n",
    "            guard = guards.pop(0)\n",
    "            gate.set_guard(guard)\n",
    "            gate.let_student_in()\n",
    "            gate.set_priority()\n",
    "            \n",
    "            if gate.can_be_closed():\n",
    "                guards.append(gate.remove_guard())\n",
    "                \n",
    "             # If this was the last student, we can remove the guard\n",
    "            \n",
    "            \n",
    "        # If there are no guards left\n",
    "        else:\n",
    "            print(\"NO\", guards)\n",
    "            break\n",
    "            \n",
    "    queue.put((gate.priority, gate))\n",
    "            \n",
    "    students_left = any(map(lambda gate: gate.can_be_closed(), gates.values()))\n",
    "    print(list(map(lambda gate: gate.can_be_closed(), gates.values())))\n",
    "            \n",
    "print(\"YES\")"
   ]
  }
 ],
 "metadata": {
  "kernelspec": {
   "display_name": "Python 3 (ipykernel)",
   "language": "python",
   "name": "python3"
  },
  "language_info": {
   "codemirror_mode": {
    "name": "ipython",
    "version": 3
   },
   "file_extension": ".py",
   "mimetype": "text/x-python",
   "name": "python",
   "nbconvert_exporter": "python",
   "pygments_lexer": "ipython3",
   "version": "3.9.0"
  }
 },
 "nbformat": 4,
 "nbformat_minor": 5
}
