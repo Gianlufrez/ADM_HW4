{
 "cells": [
  {
   "cell_type": "markdown",
   "id": "7e465c55",
   "metadata": {},
   "source": [
    "# 1.2 Fingerprint hashing\n",
    "\n",
    "Using the previously selected data with the features you found pertinent, you have to:\n",
    "\n",
    "Implement your minhash function from scratch. No ready-made hash functions are allowed. Read the class material and search the internet if you need to. For reference, it may be practical to look at the description of hash functions in the book.\n",
    "\n",
    "Process the dataset and add each record to the MinHash. The subtask's goal is to try and map each consumer to its bin; to ensure this works well, be sure you understand how MinHash works and choose a matching threshold to use. Before moving on, experiment with different thresholds, explaining your choice."
   ]
  },
  {
   "cell_type": "code",
   "execution_count": 30,
   "id": "2e649f53",
   "metadata": {},
   "outputs": [],
   "source": [
    "import pandas as pd\n",
    "from tqdm import tqdm as tq\n",
    "import warnings\n",
    "warnings.filterwarnings(\"ignore\")"
   ]
  },
  {
   "cell_type": "code",
   "execution_count": 31,
   "id": "172d4498",
   "metadata": {},
   "outputs": [],
   "source": [
    "df = pd.read_csv(\"/Users/giacomo/Desktop/locale/data.csv\", sep = '\\t')"
   ]
  },
  {
   "cell_type": "code",
   "execution_count": 32,
   "id": "1dae9645",
   "metadata": {},
   "outputs": [
    {
     "data": {
      "text/html": [
       "<div>\n",
       "<style scoped>\n",
       "    .dataframe tbody tr th:only-of-type {\n",
       "        vertical-align: middle;\n",
       "    }\n",
       "\n",
       "    .dataframe tbody tr th {\n",
       "        vertical-align: top;\n",
       "    }\n",
       "\n",
       "    .dataframe thead th {\n",
       "        text-align: right;\n",
       "    }\n",
       "</style>\n",
       "<table border=\"1\" class=\"dataframe\">\n",
       "  <thead>\n",
       "    <tr style=\"text-align: right;\">\n",
       "      <th></th>\n",
       "      <th>Unnamed: 0</th>\n",
       "      <th>TransactionID</th>\n",
       "      <th>CustGender</th>\n",
       "      <th>CustomerClassAge</th>\n",
       "      <th>Richness</th>\n",
       "      <th>Expenditure</th>\n",
       "    </tr>\n",
       "  </thead>\n",
       "  <tbody>\n",
       "    <tr>\n",
       "      <th>0</th>\n",
       "      <td>0</td>\n",
       "      <td>T1</td>\n",
       "      <td>0</td>\n",
       "      <td>age_1</td>\n",
       "      <td>richness_6</td>\n",
       "      <td>exp_1</td>\n",
       "    </tr>\n",
       "    <tr>\n",
       "      <th>1</th>\n",
       "      <td>1</td>\n",
       "      <td>T2</td>\n",
       "      <td>1</td>\n",
       "      <td>age_4</td>\n",
       "      <td>richness_2</td>\n",
       "      <td>exp_10</td>\n",
       "    </tr>\n",
       "    <tr>\n",
       "      <th>2</th>\n",
       "      <td>2</td>\n",
       "      <td>T3</td>\n",
       "      <td>0</td>\n",
       "      <td>age_1</td>\n",
       "      <td>richness_6</td>\n",
       "      <td>exp_6</td>\n",
       "    </tr>\n",
       "    <tr>\n",
       "      <th>3</th>\n",
       "      <td>3</td>\n",
       "      <td>T4</td>\n",
       "      <td>0</td>\n",
       "      <td>age_3</td>\n",
       "      <td>richness_10</td>\n",
       "      <td>exp_9</td>\n",
       "    </tr>\n",
       "    <tr>\n",
       "      <th>4</th>\n",
       "      <td>4</td>\n",
       "      <td>T5</td>\n",
       "      <td>0</td>\n",
       "      <td>age_2</td>\n",
       "      <td>richness_4</td>\n",
       "      <td>exp_9</td>\n",
       "    </tr>\n",
       "    <tr>\n",
       "      <th>...</th>\n",
       "      <td>...</td>\n",
       "      <td>...</td>\n",
       "      <td>...</td>\n",
       "      <td>...</td>\n",
       "      <td>...</td>\n",
       "      <td>...</td>\n",
       "    </tr>\n",
       "    <tr>\n",
       "      <th>1041139</th>\n",
       "      <td>1041139</td>\n",
       "      <td>T1048563</td>\n",
       "      <td>1</td>\n",
       "      <td>age_2</td>\n",
       "      <td>richness_4</td>\n",
       "      <td>exp_7</td>\n",
       "    </tr>\n",
       "    <tr>\n",
       "      <th>1041140</th>\n",
       "      <td>1041140</td>\n",
       "      <td>T1048564</td>\n",
       "      <td>1</td>\n",
       "      <td>age_1</td>\n",
       "      <td>richness_7</td>\n",
       "      <td>exp_6</td>\n",
       "    </tr>\n",
       "    <tr>\n",
       "      <th>1041141</th>\n",
       "      <td>1041141</td>\n",
       "      <td>T1048565</td>\n",
       "      <td>1</td>\n",
       "      <td>age_2</td>\n",
       "      <td>richness_10</td>\n",
       "      <td>exp_7</td>\n",
       "    </tr>\n",
       "    <tr>\n",
       "      <th>1041142</th>\n",
       "      <td>1041142</td>\n",
       "      <td>T1048566</td>\n",
       "      <td>1</td>\n",
       "      <td>age_3</td>\n",
       "      <td>richness_4</td>\n",
       "      <td>exp_7</td>\n",
       "    </tr>\n",
       "    <tr>\n",
       "      <th>1041143</th>\n",
       "      <td>1041143</td>\n",
       "      <td>T1048567</td>\n",
       "      <td>1</td>\n",
       "      <td>age_2</td>\n",
       "      <td>richness_8</td>\n",
       "      <td>exp_8</td>\n",
       "    </tr>\n",
       "  </tbody>\n",
       "</table>\n",
       "<p>1041144 rows × 6 columns</p>\n",
       "</div>"
      ],
      "text/plain": [
       "         Unnamed: 0 TransactionID  CustGender CustomerClassAge     Richness  \\\n",
       "0                 0            T1           0            age_1   richness_6   \n",
       "1                 1            T2           1            age_4   richness_2   \n",
       "2                 2            T3           0            age_1   richness_6   \n",
       "3                 3            T4           0            age_3  richness_10   \n",
       "4                 4            T5           0            age_2   richness_4   \n",
       "...             ...           ...         ...              ...          ...   \n",
       "1041139     1041139      T1048563           1            age_2   richness_4   \n",
       "1041140     1041140      T1048564           1            age_1   richness_7   \n",
       "1041141     1041141      T1048565           1            age_2  richness_10   \n",
       "1041142     1041142      T1048566           1            age_3   richness_4   \n",
       "1041143     1041143      T1048567           1            age_2   richness_8   \n",
       "\n",
       "        Expenditure  \n",
       "0             exp_1  \n",
       "1            exp_10  \n",
       "2             exp_6  \n",
       "3             exp_9  \n",
       "4             exp_9  \n",
       "...             ...  \n",
       "1041139       exp_7  \n",
       "1041140       exp_6  \n",
       "1041141       exp_7  \n",
       "1041142       exp_7  \n",
       "1041143       exp_8  \n",
       "\n",
       "[1041144 rows x 6 columns]"
      ]
     },
     "execution_count": 32,
     "metadata": {},
     "output_type": "execute_result"
    }
   ],
   "source": [
    "df"
   ]
  },
  {
   "cell_type": "code",
   "execution_count": 33,
   "id": "cbec36df",
   "metadata": {},
   "outputs": [],
   "source": [
    "del df['Unnamed: 0']"
   ]
  },
  {
   "cell_type": "code",
   "execution_count": 34,
   "id": "21aeca64",
   "metadata": {},
   "outputs": [
    {
     "data": {
      "text/plain": [
       "['TransactionID', 'CustGender', 'CustomerClassAge', 'Richness', 'Expenditure']"
      ]
     },
     "execution_count": 34,
     "metadata": {},
     "output_type": "execute_result"
    }
   ],
   "source": [
    "list(df)"
   ]
  },
  {
   "cell_type": "markdown",
   "id": "9dc8bf41",
   "metadata": {},
   "source": [
    "# 1.2.1 Vocabulary"
   ]
  },
  {
   "cell_type": "markdown",
   "id": "a34e580a",
   "metadata": {},
   "source": [
    "First of all we built the vocabulary: "
   ]
  },
  {
   "cell_type": "code",
   "execution_count": 35,
   "id": "0ec481bd",
   "metadata": {},
   "outputs": [],
   "source": [
    "vocab1 = [0, 1] #adding 0,1 shingles for female, male\n",
    "\n",
    "vocab2 = ['age_1', 'age_2', 'age_3', 'age_4', 'age_5', 'age_6']  #adding customerClassAge shingles without considering 0 class age (nan)\n",
    "\n",
    "vocab3 = ['richness_1', 'richness_2', 'richness_3', 'richness_4', 'richness_5', 'richness_6', 'richness_7', 'richness_8', 'richness_9', 'richness_10']\n",
    "\n",
    "#adding Richness shingles\n",
    "\n",
    "vocab4 = ['exp_1', 'exp_2', 'exp_3', 'exp_4', 'exp_5', 'exp_6', 'exp_7', 'exp_8', 'exp_9', 'exp_10']\n",
    "\n",
    "#adding Expenditure shingles\n",
    "\n",
    "vocabulary = vocab1 + vocab2 + vocab3 + vocab4"
   ]
  },
  {
   "cell_type": "code",
   "execution_count": 36,
   "id": "6200ea50",
   "metadata": {},
   "outputs": [
    {
     "name": "stdout",
     "output_type": "stream",
     "text": [
      "[0, 1, 'age_1', 'age_2', 'age_3', 'age_4', 'age_5', 'age_6', 'richness_1', 'richness_2', 'richness_3', 'richness_4', 'richness_5', 'richness_6', 'richness_7', 'richness_8', 'richness_9', 'richness_10', 'exp_1', 'exp_2', 'exp_3', 'exp_4', 'exp_5', 'exp_6', 'exp_7', 'exp_8', 'exp_9', 'exp_10']\n"
     ]
    }
   ],
   "source": [
    "print(vocabulary)"
   ]
  },
  {
   "cell_type": "markdown",
   "id": "95481264",
   "metadata": {},
   "source": [
    "We found different approaches to build the signature matrix and we decide to show all of them:"
   ]
  },
  {
   "cell_type": "markdown",
   "id": "56a97def",
   "metadata": {},
   "source": [
    "# First Approach: create one hot vector for each transaction"
   ]
  },
  {
   "cell_type": "markdown",
   "id": "2dae9e7b",
   "metadata": {},
   "source": [
    "First of all we created the function which maps each transaction into a vector of 0/1 based on the vocabulary: "
   ]
  },
  {
   "cell_type": "code",
   "execution_count": 37,
   "id": "b838ed76",
   "metadata": {},
   "outputs": [],
   "source": [
    "#1 approach\n",
    "\n",
    "def hot_vector(data, index):  #create one hot vector with all the zeros and ones\n",
    "    \n",
    "    vector = [1 if elem in list(data.loc[index][['CustGender', 'CustomerClassAge', 'Richness', 'Expenditure']]) else 0 for elem in vocabulary]\n",
    "    \n",
    "    return vector"
   ]
  },
  {
   "cell_type": "markdown",
   "id": "f3c5c282",
   "metadata": {},
   "source": [
    "Example: "
   ]
  },
  {
   "cell_type": "code",
   "execution_count": 38,
   "id": "c41f5cfb",
   "metadata": {},
   "outputs": [
    {
     "name": "stdout",
     "output_type": "stream",
     "text": [
      "[0, 1, 0, 0, 0, 1, 0, 0, 0, 1, 0, 0, 0, 0, 0, 0, 0, 0, 0, 0, 0, 0, 0, 0, 0, 0, 0, 1]\n"
     ]
    }
   ],
   "source": [
    "print(hot_vector(df, 1))"
   ]
  },
  {
   "cell_type": "markdown",
   "id": "e6a3d5da",
   "metadata": {},
   "source": [
    "Now we can build a sparse matrix with all the encoded transiction: "
   ]
  },
  {
   "cell_type": "code",
   "execution_count": null,
   "id": "77acd2db",
   "metadata": {},
   "outputs": [],
   "source": [
    "boolean_matrix = pd.DataFrame(vocabulary, columns =['Shingles']) #initialize matrix shingles\n",
    "\n",
    "for i in tq(range(len(df))): #iterate over the dataset\n",
    "    \n",
    "    boolean_matrix[df.loc[i][0]] = hot_vector(df, i) #column name: transaction ID, values: hot vector"
   ]
  },
  {
   "cell_type": "markdown",
   "id": "3d3ea0bf",
   "metadata": {},
   "source": [
    "With this matrix we can built the signature matrix simply taking the first occurrence of 1 in each column and shuffling the shingles for each row. "
   ]
  },
  {
   "cell_type": "markdown",
   "id": "67e9e2a6",
   "metadata": {},
   "source": [
    "# Second approach: build the boolean matrix storing the index of the ones."
   ]
  },
  {
   "cell_type": "markdown",
   "id": "30b7abe1",
   "metadata": {},
   "source": [
    "Instead of storing all the zeros we defined a function that encodes the one hot vector in a list that contains the indexes of the 1. "
   ]
  },
  {
   "cell_type": "code",
   "execution_count": 39,
   "id": "57ca5565",
   "metadata": {},
   "outputs": [],
   "source": [
    "#version 1\n",
    "\n",
    "def position_1(data, index): #take as input the dataframe and the index of the row\n",
    "    \n",
    "    ind = [] #initialize the list that will contain the indexes\n",
    "    \n",
    "    for (i,elem) in enumerate(vocabulary): \n",
    "        \n",
    "        #iterate over the element of the vocabulary and if a match is found append the index i to the list\n",
    "        \n",
    "        if elem in list(data.loc[index][['CustGender', 'CustomerClassAge', 'Richness', 'Expenditure']]): \n",
    "            \n",
    "            ind.append(i)\n",
    "    \n",
    "    return ind"
   ]
  },
  {
   "cell_type": "code",
   "execution_count": 40,
   "id": "4bde10b6",
   "metadata": {},
   "outputs": [],
   "source": [
    "#version 2: same idea with the list comprehension --> more compact way\n",
    "\n",
    "def position_2(data, index):\n",
    "    \n",
    "    ind = [i for i, elem in enumerate(vocabulary) if elem in list(data.loc[index][['CustGender', 'CustomerClassAge', 'Richness', 'Expenditure']])]\n",
    "    \n",
    "    return ind"
   ]
  },
  {
   "cell_type": "code",
   "execution_count": 41,
   "id": "75175232",
   "metadata": {},
   "outputs": [
    {
     "name": "stdout",
     "output_type": "stream",
     "text": [
      "[0, 1, 0, 0, 0, 1, 0, 0, 0, 1, 0, 0, 0, 0, 0, 0, 0, 0, 0, 0, 0, 0, 0, 0, 0, 0, 0, 1]\n"
     ]
    }
   ],
   "source": [
    "print(hot_vector(df, 1))"
   ]
  },
  {
   "cell_type": "code",
   "execution_count": 42,
   "id": "79c22e08",
   "metadata": {},
   "outputs": [
    {
     "name": "stdout",
     "output_type": "stream",
     "text": [
      "[1, 5, 9, 27]\n"
     ]
    }
   ],
   "source": [
    "print(position_2(df, 1))"
   ]
  },
  {
   "cell_type": "code",
   "execution_count": 43,
   "id": "ad704854",
   "metadata": {},
   "outputs": [
    {
     "name": "stdout",
     "output_type": "stream",
     "text": [
      "[1, 5, 9, 27]\n"
     ]
    }
   ],
   "source": [
    "print(position_1(df, 1))"
   ]
  },
  {
   "cell_type": "markdown",
   "id": "c207e4b5",
   "metadata": {},
   "source": [
    "Now we can map the dataframe into a dictionary: the keys are the transaction ID and the values ar list of indexes where 1 appears:"
   ]
  },
  {
   "cell_type": "code",
   "execution_count": null,
   "id": "29bc8d54",
   "metadata": {},
   "outputs": [],
   "source": [
    "boolean_matrix = dict() #initialize the dict\n",
    "\n",
    "for i in tq(range(len(df))):  #iterate over the dataframe\n",
    "    \n",
    "    boolean_matrix[df.loc[i][0]] = position_2(df, i)  #append keys: transaction id, value: list of indexes"
   ]
  },
  {
   "cell_type": "markdown",
   "id": "64f4a776",
   "metadata": {},
   "source": [
    "# Third approach: build directly the signature matrix: "
   ]
  },
  {
   "cell_type": "markdown",
   "id": "84173c87",
   "metadata": {},
   "source": [
    "The goal of the MinHash is to replace a large set with a smaller \"signature\" that still preserves the underlying similarity metric. In order to create a MinHash signature for each set:\n",
    "\n",
    " - Randomly permute the rows of the shingle matrix (permuting the indexes)\n",
    " \n",
    " - For each set, start from the first index and find the position of the first shingle with a 1 in its cell. Use this shingle number to represent the set. This is the \"signature\"."
   ]
  },
  {
   "cell_type": "markdown",
   "id": "95d709da",
   "metadata": {},
   "source": [
    "The idea started from shuffling the vocabulary instead of the rows of the boolean matrix: "
   ]
  },
  {
   "cell_type": "code",
   "execution_count": 44,
   "id": "304b601b",
   "metadata": {},
   "outputs": [],
   "source": [
    "import random as ran #shuffle the elements of a list\n",
    "ran.seed(7) #set seed for reproducibility"
   ]
  },
  {
   "cell_type": "markdown",
   "id": "182ccc9a",
   "metadata": {},
   "source": [
    "How does it work: "
   ]
  },
  {
   "cell_type": "code",
   "execution_count": 45,
   "id": "9794b387",
   "metadata": {},
   "outputs": [
    {
     "name": "stdout",
     "output_type": "stream",
     "text": [
      "[0, 1, 'age_1', 'age_2', 'age_3', 'age_4', 'age_5', 'age_6', 'richness_1', 'richness_2', 'richness_3', 'richness_4', 'richness_5', 'richness_6', 'richness_7', 'richness_8', 'richness_9', 'richness_10', 'exp_1', 'exp_2', 'exp_3', 'exp_4', 'exp_5', 'exp_6', 'exp_7', 'exp_8', 'exp_9', 'exp_10']\n"
     ]
    }
   ],
   "source": [
    "print(vocabulary)"
   ]
  },
  {
   "cell_type": "code",
   "execution_count": 46,
   "id": "80204f46",
   "metadata": {},
   "outputs": [],
   "source": [
    "ran.shuffle(vocabulary)"
   ]
  },
  {
   "cell_type": "code",
   "execution_count": 47,
   "id": "3e22162f",
   "metadata": {},
   "outputs": [
    {
     "name": "stdout",
     "output_type": "stream",
     "text": [
      "['richness_2', 'age_4', 'exp_5', 'richness_1', 'age_6', 'exp_9', 'richness_7', 'exp_2', 'exp_10', 'exp_7', 'richness_6', 'exp_8', 'richness_8', 'exp_4', 0, 'age_5', 'richness_9', 'exp_6', 'exp_1', 'richness_4', 'age_2', 'richness_10', 'age_1', 1, 'exp_3', 'richness_5', 'age_3', 'richness_3']\n"
     ]
    }
   ],
   "source": [
    "print(vocabulary)"
   ]
  },
  {
   "cell_type": "markdown",
   "id": "eb290a99",
   "metadata": {},
   "source": [
    "The logic is similar to the previous points but the idea is the following: iterate over the vocabulary and return the position of the occurrence of the first 1, i.e. the first match with the current position of the elements in the vocabulary."
   ]
  },
  {
   "cell_type": "code",
   "execution_count": 48,
   "id": "ffefe44e",
   "metadata": {},
   "outputs": [],
   "source": [
    "def position_shuffle(data, index): #take as input the dataframe and the index of the row\n",
    "    \n",
    "    for (i, elem) in enumerate(vocabulary): #iterate over the vocabulary\n",
    "        \n",
    "        #search for a match\n",
    "        if elem in list(data.loc[index][['CustGender', 'CustomerClassAge', 'Richness', 'Expenditure']]):\n",
    "        \n",
    "            return i  #return the index of the first match"
   ]
  },
  {
   "cell_type": "markdown",
   "id": "0e9a2e3a",
   "metadata": {},
   "source": [
    "Example:"
   ]
  },
  {
   "cell_type": "code",
   "execution_count": 49,
   "id": "1179377c",
   "metadata": {},
   "outputs": [
    {
     "data": {
      "text/plain": [
       "CustGender                   1\n",
       "CustomerClassAge         age_4\n",
       "Richness            richness_2\n",
       "Expenditure             exp_10\n",
       "Name: 1, dtype: object"
      ]
     },
     "execution_count": 49,
     "metadata": {},
     "output_type": "execute_result"
    }
   ],
   "source": [
    "df.loc[1][['CustGender', 'CustomerClassAge', 'Richness', 'Expenditure']]"
   ]
  },
  {
   "cell_type": "code",
   "execution_count": 50,
   "id": "8ab1003a",
   "metadata": {},
   "outputs": [
    {
     "name": "stdout",
     "output_type": "stream",
     "text": [
      "['richness_2', 'age_4', 'exp_5', 'richness_1', 'age_6', 'exp_9', 'richness_7', 'exp_2', 'exp_10', 'exp_7', 'richness_6', 'exp_8', 'richness_8', 'exp_4', 0, 'age_5', 'richness_9', 'exp_6', 'exp_1', 'richness_4', 'age_2', 'richness_10', 'age_1', 1, 'exp_3', 'richness_5', 'age_3', 'richness_3']\n"
     ]
    }
   ],
   "source": [
    "print(vocabulary)"
   ]
  },
  {
   "cell_type": "code",
   "execution_count": 51,
   "id": "e48bb0ca",
   "metadata": {},
   "outputs": [
    {
     "data": {
      "text/plain": [
       "0"
      ]
     },
     "execution_count": 51,
     "metadata": {},
     "output_type": "execute_result"
    }
   ],
   "source": [
    "position_shuffle(df, 1)"
   ]
  },
  {
   "cell_type": "code",
   "execution_count": 52,
   "id": "b5146025",
   "metadata": {},
   "outputs": [],
   "source": [
    "ran.shuffle(vocabulary)"
   ]
  },
  {
   "cell_type": "code",
   "execution_count": 79,
   "id": "9e744b36",
   "metadata": {},
   "outputs": [
    {
     "name": "stdout",
     "output_type": "stream",
     "text": [
      "[1, 'richness_3', 'richness_7', 'exp_9', 'richness_6', 'exp_4', 'richness_1', 'richness_4', 'exp_7', 'age_4', 'richness_9', 'richness_5', 'exp_3', 'richness_2', 'exp_5', 'exp_2', 'age_2', 'richness_10', 'age_1', 'age_6', 0, 'exp_6', 'exp_10', 'richness_8', 'exp_8', 'age_3', 'exp_1', 'age_5']\n"
     ]
    }
   ],
   "source": [
    "print(vocabulary)"
   ]
  },
  {
   "cell_type": "code",
   "execution_count": 54,
   "id": "41fb00fd",
   "metadata": {},
   "outputs": [
    {
     "data": {
      "text/plain": [
       "3"
      ]
     },
     "execution_count": 54,
     "metadata": {},
     "output_type": "execute_result"
    }
   ],
   "source": [
    "position_shuffle(df, 1)"
   ]
  },
  {
   "cell_type": "markdown",
   "id": "f0865024",
   "metadata": {},
   "source": [
    "We created a list of the transactionID to initialize the column names of the signature matrix"
   ]
  },
  {
   "cell_type": "code",
   "execution_count": 84,
   "id": "d50ee938",
   "metadata": {},
   "outputs": [],
   "source": [
    "TID = list(df['TransactionID']) #transaction names"
   ]
  },
  {
   "cell_type": "code",
   "execution_count": 85,
   "id": "eff3c94c",
   "metadata": {},
   "outputs": [],
   "source": [
    "signature_matrix = pd.DataFrame(columns = TID) #initialize dataframe with transactionID"
   ]
  },
  {
   "cell_type": "markdown",
   "id": "6d967a2d",
   "metadata": {},
   "source": [
    "Choosing 10 as the number of permutation, we iterate shuffling the vocabulary at each step and appending "
   ]
  },
  {
   "cell_type": "code",
   "execution_count": null,
   "id": "e1c2db26",
   "metadata": {},
   "outputs": [
    {
     "name": "stderr",
     "output_type": "stream",
     "text": [
      "\r",
      "  0%|                                                    | 0/12 [00:00<?, ?it/s]"
     ]
    }
   ],
   "source": [
    "for i in tq(range(12)): #number of permutation\n",
    "    \n",
    "    ran.shuffle(vocabulary) #shuffle the vocabulary\n",
    "    \n",
    "    rows = {} #initialize the row\n",
    "    \n",
    "    for j in range(len(TID)): \n",
    "        \n",
    "        rows[TID[j]] = position_shuffle(df, j)  #key: transactionID, value: number of the firs occurrence of a 1\n",
    "        \n",
    "    signature_matrix = signature_matrix.append(rows, ignore_index=True) #append rows to signature matrix\n",
    "    \n",
    "signature_matrix.to_csv('/Users/giacomo/Desktop/locale/signature_matrix.csv', sep = '\\t')"
   ]
  },
  {
   "cell_type": "code",
   "execution_count": 67,
   "id": "9ebe27d3",
   "metadata": {},
   "outputs": [
    {
     "data": {
      "text/html": [
       "<div>\n",
       "<style scoped>\n",
       "    .dataframe tbody tr th:only-of-type {\n",
       "        vertical-align: middle;\n",
       "    }\n",
       "\n",
       "    .dataframe tbody tr th {\n",
       "        vertical-align: top;\n",
       "    }\n",
       "\n",
       "    .dataframe thead th {\n",
       "        text-align: right;\n",
       "    }\n",
       "</style>\n",
       "<table border=\"1\" class=\"dataframe\">\n",
       "  <thead>\n",
       "    <tr style=\"text-align: right;\">\n",
       "      <th></th>\n",
       "      <th>T2</th>\n",
       "      <th>T3</th>\n",
       "      <th>T4</th>\n",
       "      <th>T5</th>\n",
       "      <th>T6</th>\n",
       "      <th>T7</th>\n",
       "      <th>T8</th>\n",
       "      <th>T9</th>\n",
       "      <th>T10</th>\n",
       "      <th>T11</th>\n",
       "      <th>...</th>\n",
       "      <th>T995</th>\n",
       "      <th>T996</th>\n",
       "      <th>T997</th>\n",
       "      <th>T998</th>\n",
       "      <th>T999</th>\n",
       "      <th>T1000</th>\n",
       "      <th>T1001</th>\n",
       "      <th>T1002</th>\n",
       "      <th>T1003</th>\n",
       "      <th>T1004</th>\n",
       "    </tr>\n",
       "  </thead>\n",
       "  <tbody>\n",
       "    <tr>\n",
       "      <th>0</th>\n",
       "      <td>3</td>\n",
       "      <td>6</td>\n",
       "      <td>3</td>\n",
       "      <td>3</td>\n",
       "      <td>0</td>\n",
       "      <td>3</td>\n",
       "      <td>3</td>\n",
       "      <td>0</td>\n",
       "      <td>0</td>\n",
       "      <td>0</td>\n",
       "      <td>...</td>\n",
       "      <td>0</td>\n",
       "      <td>0</td>\n",
       "      <td>0</td>\n",
       "      <td>0</td>\n",
       "      <td>11</td>\n",
       "      <td>3</td>\n",
       "      <td>0</td>\n",
       "      <td>13</td>\n",
       "      <td>6</td>\n",
       "      <td>0</td>\n",
       "    </tr>\n",
       "    <tr>\n",
       "      <th>1</th>\n",
       "      <td>12</td>\n",
       "      <td>8</td>\n",
       "      <td>0</td>\n",
       "      <td>13</td>\n",
       "      <td>4</td>\n",
       "      <td>9</td>\n",
       "      <td>0</td>\n",
       "      <td>1</td>\n",
       "      <td>4</td>\n",
       "      <td>4</td>\n",
       "      <td>...</td>\n",
       "      <td>4</td>\n",
       "      <td>4</td>\n",
       "      <td>4</td>\n",
       "      <td>4</td>\n",
       "      <td>2</td>\n",
       "      <td>5</td>\n",
       "      <td>4</td>\n",
       "      <td>1</td>\n",
       "      <td>8</td>\n",
       "      <td>4</td>\n",
       "    </tr>\n",
       "    <tr>\n",
       "      <th>2</th>\n",
       "      <td>3</td>\n",
       "      <td>11</td>\n",
       "      <td>0</td>\n",
       "      <td>4</td>\n",
       "      <td>4</td>\n",
       "      <td>1</td>\n",
       "      <td>0</td>\n",
       "      <td>10</td>\n",
       "      <td>1</td>\n",
       "      <td>2</td>\n",
       "      <td>...</td>\n",
       "      <td>14</td>\n",
       "      <td>6</td>\n",
       "      <td>14</td>\n",
       "      <td>12</td>\n",
       "      <td>2</td>\n",
       "      <td>6</td>\n",
       "      <td>13</td>\n",
       "      <td>9</td>\n",
       "      <td>11</td>\n",
       "      <td>3</td>\n",
       "    </tr>\n",
       "    <tr>\n",
       "      <th>3</th>\n",
       "      <td>0</td>\n",
       "      <td>4</td>\n",
       "      <td>0</td>\n",
       "      <td>9</td>\n",
       "      <td>10</td>\n",
       "      <td>8</td>\n",
       "      <td>12</td>\n",
       "      <td>1</td>\n",
       "      <td>7</td>\n",
       "      <td>4</td>\n",
       "      <td>...</td>\n",
       "      <td>4</td>\n",
       "      <td>2</td>\n",
       "      <td>2</td>\n",
       "      <td>9</td>\n",
       "      <td>4</td>\n",
       "      <td>2</td>\n",
       "      <td>4</td>\n",
       "      <td>4</td>\n",
       "      <td>4</td>\n",
       "      <td>0</td>\n",
       "    </tr>\n",
       "    <tr>\n",
       "      <th>4</th>\n",
       "      <td>9</td>\n",
       "      <td>11</td>\n",
       "      <td>3</td>\n",
       "      <td>5</td>\n",
       "      <td>5</td>\n",
       "      <td>14</td>\n",
       "      <td>3</td>\n",
       "      <td>12</td>\n",
       "      <td>0</td>\n",
       "      <td>2</td>\n",
       "      <td>...</td>\n",
       "      <td>2</td>\n",
       "      <td>9</td>\n",
       "      <td>9</td>\n",
       "      <td>2</td>\n",
       "      <td>4</td>\n",
       "      <td>9</td>\n",
       "      <td>15</td>\n",
       "      <td>12</td>\n",
       "      <td>6</td>\n",
       "      <td>2</td>\n",
       "    </tr>\n",
       "    <tr>\n",
       "      <th>5</th>\n",
       "      <td>3</td>\n",
       "      <td>1</td>\n",
       "      <td>7</td>\n",
       "      <td>0</td>\n",
       "      <td>0</td>\n",
       "      <td>5</td>\n",
       "      <td>7</td>\n",
       "      <td>8</td>\n",
       "      <td>5</td>\n",
       "      <td>11</td>\n",
       "      <td>...</td>\n",
       "      <td>11</td>\n",
       "      <td>3</td>\n",
       "      <td>3</td>\n",
       "      <td>2</td>\n",
       "      <td>7</td>\n",
       "      <td>3</td>\n",
       "      <td>6</td>\n",
       "      <td>8</td>\n",
       "      <td>1</td>\n",
       "      <td>11</td>\n",
       "    </tr>\n",
       "    <tr>\n",
       "      <th>6</th>\n",
       "      <td>2</td>\n",
       "      <td>16</td>\n",
       "      <td>2</td>\n",
       "      <td>2</td>\n",
       "      <td>2</td>\n",
       "      <td>0</td>\n",
       "      <td>2</td>\n",
       "      <td>8</td>\n",
       "      <td>0</td>\n",
       "      <td>9</td>\n",
       "      <td>...</td>\n",
       "      <td>19</td>\n",
       "      <td>1</td>\n",
       "      <td>14</td>\n",
       "      <td>2</td>\n",
       "      <td>4</td>\n",
       "      <td>1</td>\n",
       "      <td>11</td>\n",
       "      <td>4</td>\n",
       "      <td>5</td>\n",
       "      <td>12</td>\n",
       "    </tr>\n",
       "    <tr>\n",
       "      <th>7</th>\n",
       "      <td>5</td>\n",
       "      <td>9</td>\n",
       "      <td>15</td>\n",
       "      <td>1</td>\n",
       "      <td>8</td>\n",
       "      <td>1</td>\n",
       "      <td>15</td>\n",
       "      <td>0</td>\n",
       "      <td>7</td>\n",
       "      <td>2</td>\n",
       "      <td>...</td>\n",
       "      <td>8</td>\n",
       "      <td>5</td>\n",
       "      <td>5</td>\n",
       "      <td>6</td>\n",
       "      <td>2</td>\n",
       "      <td>5</td>\n",
       "      <td>8</td>\n",
       "      <td>0</td>\n",
       "      <td>6</td>\n",
       "      <td>8</td>\n",
       "    </tr>\n",
       "    <tr>\n",
       "      <th>8</th>\n",
       "      <td>2</td>\n",
       "      <td>0</td>\n",
       "      <td>2</td>\n",
       "      <td>3</td>\n",
       "      <td>3</td>\n",
       "      <td>10</td>\n",
       "      <td>2</td>\n",
       "      <td>11</td>\n",
       "      <td>10</td>\n",
       "      <td>13</td>\n",
       "      <td>...</td>\n",
       "      <td>5</td>\n",
       "      <td>6</td>\n",
       "      <td>5</td>\n",
       "      <td>13</td>\n",
       "      <td>2</td>\n",
       "      <td>2</td>\n",
       "      <td>1</td>\n",
       "      <td>15</td>\n",
       "      <td>0</td>\n",
       "      <td>13</td>\n",
       "    </tr>\n",
       "    <tr>\n",
       "      <th>9</th>\n",
       "      <td>4</td>\n",
       "      <td>0</td>\n",
       "      <td>4</td>\n",
       "      <td>3</td>\n",
       "      <td>3</td>\n",
       "      <td>8</td>\n",
       "      <td>13</td>\n",
       "      <td>0</td>\n",
       "      <td>8</td>\n",
       "      <td>0</td>\n",
       "      <td>...</td>\n",
       "      <td>0</td>\n",
       "      <td>0</td>\n",
       "      <td>0</td>\n",
       "      <td>5</td>\n",
       "      <td>0</td>\n",
       "      <td>6</td>\n",
       "      <td>0</td>\n",
       "      <td>0</td>\n",
       "      <td>0</td>\n",
       "      <td>0</td>\n",
       "    </tr>\n",
       "  </tbody>\n",
       "</table>\n",
       "<p>10 rows × 999 columns</p>\n",
       "</div>"
      ],
      "text/plain": [
       "   T2  T3  T4  T5  T6  T7  T8  T9 T10 T11  ... T995 T996 T997 T998 T999 T1000  \\\n",
       "0   3   6   3   3   0   3   3   0   0   0  ...    0    0    0    0   11     3   \n",
       "1  12   8   0  13   4   9   0   1   4   4  ...    4    4    4    4    2     5   \n",
       "2   3  11   0   4   4   1   0  10   1   2  ...   14    6   14   12    2     6   \n",
       "3   0   4   0   9  10   8  12   1   7   4  ...    4    2    2    9    4     2   \n",
       "4   9  11   3   5   5  14   3  12   0   2  ...    2    9    9    2    4     9   \n",
       "5   3   1   7   0   0   5   7   8   5  11  ...   11    3    3    2    7     3   \n",
       "6   2  16   2   2   2   0   2   8   0   9  ...   19    1   14    2    4     1   \n",
       "7   5   9  15   1   8   1  15   0   7   2  ...    8    5    5    6    2     5   \n",
       "8   2   0   2   3   3  10   2  11  10  13  ...    5    6    5   13    2     2   \n",
       "9   4   0   4   3   3   8  13   0   8   0  ...    0    0    0    5    0     6   \n",
       "\n",
       "  T1001 T1002 T1003 T1004  \n",
       "0     0    13     6     0  \n",
       "1     4     1     8     4  \n",
       "2    13     9    11     3  \n",
       "3     4     4     4     0  \n",
       "4    15    12     6     2  \n",
       "5     6     8     1    11  \n",
       "6    11     4     5    12  \n",
       "7     8     0     6     8  \n",
       "8     1    15     0    13  \n",
       "9     0     0     0     0  \n",
       "\n",
       "[10 rows x 999 columns]"
      ]
     },
     "execution_count": 67,
     "metadata": {},
     "output_type": "execute_result"
    }
   ],
   "source": [
    "signature_matrix"
   ]
  }
 ],
 "metadata": {
  "kernelspec": {
   "display_name": "Python 3 (ipykernel)",
   "language": "python",
   "name": "python3"
  },
  "language_info": {
   "codemirror_mode": {
    "name": "ipython",
    "version": 3
   },
   "file_extension": ".py",
   "mimetype": "text/x-python",
   "name": "python",
   "nbconvert_exporter": "python",
   "pygments_lexer": "ipython3",
   "version": "3.9.12"
  }
 },
 "nbformat": 4,
 "nbformat_minor": 5
}
