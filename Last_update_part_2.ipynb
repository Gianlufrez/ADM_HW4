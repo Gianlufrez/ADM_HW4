{
 "cells": [
  {
   "cell_type": "markdown",
   "id": "7e465c55",
   "metadata": {},
   "source": [
    "# 1.2 Fingerprint hashing\n",
    "\n",
    "Using the previously selected data with the features you found pertinent, you have to:\n",
    "\n",
    "Implement your minhash function from scratch. No ready-made hash functions are allowed. Read the class material and search the internet if you need to. For reference, it may be practical to look at the description of hash functions in the book.\n",
    "\n",
    "Process the dataset and add each record to the MinHash. The subtask's goal is to try and map each consumer to its bin; to ensure this works well, be sure you understand how MinHash works and choose a matching threshold to use. Before moving on, experiment with different thresholds, explaining your choice."
   ]
  },
  {
   "cell_type": "code",
   "execution_count": 6,
   "id": "2e649f53",
   "metadata": {},
   "outputs": [],
   "source": [
    "import pandas as pd\n",
    "from tqdm import tqdm as tq\n",
    "import warnings\n",
    "import numpy as np\n",
    "warnings.filterwarnings(\"ignore\")"
   ]
  },
  {
   "cell_type": "code",
   "execution_count": 7,
   "id": "172d4498",
   "metadata": {},
   "outputs": [],
   "source": [
    "df = pd.read_csv(\"data/data.csv\", sep = '\\t')"
   ]
  },
  {
   "cell_type": "markdown",
   "id": "3f4127f3",
   "metadata": {},
   "source": [
    "### SAVE GENDER AS STRING IN PART 1 INSTEAD OF CONVERTING IT HERE"
   ]
  },
  {
   "cell_type": "code",
   "execution_count": 8,
   "id": "01e59378",
   "metadata": {},
   "outputs": [],
   "source": [
    "df.CustGender = df.CustGender.astype(str)"
   ]
  },
  {
   "cell_type": "code",
   "execution_count": 32,
   "id": "1dae9645",
   "metadata": {},
   "outputs": [
    {
     "data": {
      "text/html": [
       "<div>\n",
       "<style scoped>\n",
       "    .dataframe tbody tr th:only-of-type {\n",
       "        vertical-align: middle;\n",
       "    }\n",
       "\n",
       "    .dataframe tbody tr th {\n",
       "        vertical-align: top;\n",
       "    }\n",
       "\n",
       "    .dataframe thead th {\n",
       "        text-align: right;\n",
       "    }\n",
       "</style>\n",
       "<table border=\"1\" class=\"dataframe\">\n",
       "  <thead>\n",
       "    <tr style=\"text-align: right;\">\n",
       "      <th></th>\n",
       "      <th>Unnamed: 0</th>\n",
       "      <th>TransactionID</th>\n",
       "      <th>CustGender</th>\n",
       "      <th>CustomerClassAge</th>\n",
       "      <th>Richness</th>\n",
       "      <th>Expenditure</th>\n",
       "    </tr>\n",
       "  </thead>\n",
       "  <tbody>\n",
       "    <tr>\n",
       "      <th>0</th>\n",
       "      <td>0</td>\n",
       "      <td>T1</td>\n",
       "      <td>0</td>\n",
       "      <td>age_1</td>\n",
       "      <td>richness_6</td>\n",
       "      <td>exp_1</td>\n",
       "    </tr>\n",
       "    <tr>\n",
       "      <th>1</th>\n",
       "      <td>1</td>\n",
       "      <td>T2</td>\n",
       "      <td>1</td>\n",
       "      <td>age_4</td>\n",
       "      <td>richness_2</td>\n",
       "      <td>exp_10</td>\n",
       "    </tr>\n",
       "    <tr>\n",
       "      <th>2</th>\n",
       "      <td>2</td>\n",
       "      <td>T3</td>\n",
       "      <td>0</td>\n",
       "      <td>age_1</td>\n",
       "      <td>richness_6</td>\n",
       "      <td>exp_6</td>\n",
       "    </tr>\n",
       "    <tr>\n",
       "      <th>3</th>\n",
       "      <td>3</td>\n",
       "      <td>T4</td>\n",
       "      <td>0</td>\n",
       "      <td>age_3</td>\n",
       "      <td>richness_10</td>\n",
       "      <td>exp_9</td>\n",
       "    </tr>\n",
       "    <tr>\n",
       "      <th>4</th>\n",
       "      <td>4</td>\n",
       "      <td>T5</td>\n",
       "      <td>0</td>\n",
       "      <td>age_2</td>\n",
       "      <td>richness_4</td>\n",
       "      <td>exp_9</td>\n",
       "    </tr>\n",
       "    <tr>\n",
       "      <th>...</th>\n",
       "      <td>...</td>\n",
       "      <td>...</td>\n",
       "      <td>...</td>\n",
       "      <td>...</td>\n",
       "      <td>...</td>\n",
       "      <td>...</td>\n",
       "    </tr>\n",
       "    <tr>\n",
       "      <th>1041139</th>\n",
       "      <td>1041139</td>\n",
       "      <td>T1048563</td>\n",
       "      <td>1</td>\n",
       "      <td>age_2</td>\n",
       "      <td>richness_4</td>\n",
       "      <td>exp_7</td>\n",
       "    </tr>\n",
       "    <tr>\n",
       "      <th>1041140</th>\n",
       "      <td>1041140</td>\n",
       "      <td>T1048564</td>\n",
       "      <td>1</td>\n",
       "      <td>age_1</td>\n",
       "      <td>richness_7</td>\n",
       "      <td>exp_6</td>\n",
       "    </tr>\n",
       "    <tr>\n",
       "      <th>1041141</th>\n",
       "      <td>1041141</td>\n",
       "      <td>T1048565</td>\n",
       "      <td>1</td>\n",
       "      <td>age_2</td>\n",
       "      <td>richness_10</td>\n",
       "      <td>exp_7</td>\n",
       "    </tr>\n",
       "    <tr>\n",
       "      <th>1041142</th>\n",
       "      <td>1041142</td>\n",
       "      <td>T1048566</td>\n",
       "      <td>1</td>\n",
       "      <td>age_3</td>\n",
       "      <td>richness_4</td>\n",
       "      <td>exp_7</td>\n",
       "    </tr>\n",
       "    <tr>\n",
       "      <th>1041143</th>\n",
       "      <td>1041143</td>\n",
       "      <td>T1048567</td>\n",
       "      <td>1</td>\n",
       "      <td>age_2</td>\n",
       "      <td>richness_8</td>\n",
       "      <td>exp_8</td>\n",
       "    </tr>\n",
       "  </tbody>\n",
       "</table>\n",
       "<p>1041144 rows × 6 columns</p>\n",
       "</div>"
      ],
      "text/plain": [
       "         Unnamed: 0 TransactionID  CustGender CustomerClassAge     Richness  \\\n",
       "0                 0            T1           0            age_1   richness_6   \n",
       "1                 1            T2           1            age_4   richness_2   \n",
       "2                 2            T3           0            age_1   richness_6   \n",
       "3                 3            T4           0            age_3  richness_10   \n",
       "4                 4            T5           0            age_2   richness_4   \n",
       "...             ...           ...         ...              ...          ...   \n",
       "1041139     1041139      T1048563           1            age_2   richness_4   \n",
       "1041140     1041140      T1048564           1            age_1   richness_7   \n",
       "1041141     1041141      T1048565           1            age_2  richness_10   \n",
       "1041142     1041142      T1048566           1            age_3   richness_4   \n",
       "1041143     1041143      T1048567           1            age_2   richness_8   \n",
       "\n",
       "        Expenditure  \n",
       "0             exp_1  \n",
       "1            exp_10  \n",
       "2             exp_6  \n",
       "3             exp_9  \n",
       "4             exp_9  \n",
       "...             ...  \n",
       "1041139       exp_7  \n",
       "1041140       exp_6  \n",
       "1041141       exp_7  \n",
       "1041142       exp_7  \n",
       "1041143       exp_8  \n",
       "\n",
       "[1041144 rows x 6 columns]"
      ]
     },
     "execution_count": 32,
     "metadata": {},
     "output_type": "execute_result"
    }
   ],
   "source": [
    "df"
   ]
  },
  {
   "cell_type": "code",
   "execution_count": 9,
   "id": "cbec36df",
   "metadata": {},
   "outputs": [],
   "source": [
    "del df['Unnamed: 0']"
   ]
  },
  {
   "cell_type": "markdown",
   "id": "9dc8bf41",
   "metadata": {},
   "source": [
    "# 1.2.1 Shingles"
   ]
  },
  {
   "cell_type": "markdown",
   "id": "a34e580a",
   "metadata": {},
   "source": [
    "First of all we build the shingles from all the unique values per column in the loaded dataset. We ignore the `TransactionID` column because it is not a shingle."
   ]
  },
  {
   "cell_type": "code",
   "execution_count": 98,
   "id": "ce2defe3",
   "metadata": {},
   "outputs": [],
   "source": [
    "shingles = []\n",
    "for column_name in df.columns[1:]:\n",
    "    shingles += sorted(list(df[column_name].unique()))"
   ]
  },
  {
   "cell_type": "code",
   "execution_count": 99,
   "id": "f6735222",
   "metadata": {},
   "outputs": [
    {
     "data": {
      "text/plain": [
       "['0',\n",
       " '1',\n",
       " 'age_0',\n",
       " 'age_1',\n",
       " 'age_2',\n",
       " 'age_3',\n",
       " 'age_4',\n",
       " 'age_5',\n",
       " 'age_6',\n",
       " 'richness_1',\n",
       " 'richness_10',\n",
       " 'richness_2',\n",
       " 'richness_3',\n",
       " 'richness_4',\n",
       " 'richness_5',\n",
       " 'richness_6',\n",
       " 'richness_7',\n",
       " 'richness_8',\n",
       " 'richness_9',\n",
       " 'exp_1',\n",
       " 'exp_10',\n",
       " 'exp_2',\n",
       " 'exp_3',\n",
       " 'exp_4',\n",
       " 'exp_5',\n",
       " 'exp_6',\n",
       " 'exp_7',\n",
       " 'exp_8',\n",
       " 'exp_9']"
      ]
     },
     "execution_count": 99,
     "metadata": {},
     "output_type": "execute_result"
    }
   ],
   "source": [
    "shingles"
   ]
  },
  {
   "cell_type": "markdown",
   "id": "56a97def",
   "metadata": {},
   "source": [
    "# 1.2.2 Create Shingle Matrix"
   ]
  },
  {
   "cell_type": "markdown",
   "id": "2dae9e7b",
   "metadata": {},
   "source": [
    "First of all we create the function which maps each transaction into a vector of 0/1 based on the shingles. "
   ]
  },
  {
   "cell_type": "code",
   "execution_count": 11,
   "id": "b838ed76",
   "metadata": {},
   "outputs": [],
   "source": [
    "def one_hot_vector(data, index):\n",
    "    \"\"\"Creates a one hot vector for the row found in the data at the given index based on the shingles.\n",
    "    \n",
    "    :args\n",
    "    data - a pandas dataframe containing the data.\n",
    "    index - an int which corresponds to the row that will be turned into a one hot vector.\n",
    "    \n",
    "    :returns\n",
    "    a numpy array one hot representation of the row\n",
    "    \"\"\"\n",
    "    \n",
    "    values = data.loc[index][['CustGender', 'CustomerClassAge', 'Richness', 'Expenditure']].values\n",
    "    \n",
    "    indeces = np.where(values.reshape(values.size, 1) == vocabulary)[1]\n",
    "    vector = np.zeros(len(shingles))\n",
    "    vector[indeces] = 1\n",
    "    \n",
    "    return vector"
   ]
  },
  {
   "cell_type": "markdown",
   "id": "f3c5c282",
   "metadata": {},
   "source": [
    "Example: "
   ]
  },
  {
   "cell_type": "code",
   "execution_count": 38,
   "id": "c41f5cfb",
   "metadata": {},
   "outputs": [
    {
     "name": "stdout",
     "output_type": "stream",
     "text": [
      "[0, 1, 0, 0, 0, 1, 0, 0, 0, 1, 0, 0, 0, 0, 0, 0, 0, 0, 0, 0, 0, 0, 0, 0, 0, 0, 0, 1]\n"
     ]
    }
   ],
   "source": [
    "print(one_hot_vector(df, 1))"
   ]
  },
  {
   "cell_type": "markdown",
   "id": "e6a3d5da",
   "metadata": {},
   "source": [
    "Now we can build a sparse matrix with all the encoded transiction: "
   ]
  },
  {
   "cell_type": "code",
   "execution_count": 29,
   "id": "77acd2db",
   "metadata": {},
   "outputs": [
    {
     "name": "stderr",
     "output_type": "stream",
     "text": [
      "100%|██████████████████████████████████████████████████████████████████████| 1041144/1041144 [13:10<00:00, 1317.41it/s]\n"
     ]
    }
   ],
   "source": [
    "shingle_matrix = np.zeros((1041144, 28))\n",
    "\n",
    "for i in tq(range(len(df))):\n",
    "    # Append the one hot vectors as rows\n",
    "    shingle_matrix[df.index[i]] = one_hot_vector(df, i) \n",
    "\n",
    "# We need to transpose because for the shuffling, the Shingles need to be the rows.\n",
    "shingle_matrix = shingle_matrix.T"
   ]
  },
  {
   "cell_type": "code",
   "execution_count": 30,
   "id": "cc15b117",
   "metadata": {},
   "outputs": [
    {
     "name": "stdout",
     "output_type": "stream",
     "text": [
      "Stored 'boolean_matrix' (ndarray)\n"
     ]
    }
   ],
   "source": [
    "%store shingle_matrix"
   ]
  },
  {
   "cell_type": "markdown",
   "id": "0555b759",
   "metadata": {},
   "source": [
    "# 1.2.3 Create the Signature Matrix\n",
    "From the Shingle Matrix, we will now create the signature matrix by doing the following:\n",
    "1. Shuffle the rows of the Shingle Matrix.\n",
    "1. Create a vector where each element corresponds to the index of the row of each column (Shingle) where the first 1 is found.\n",
    "1. Append this vector to the Signature Matrix.\n",
    "1. Repeat $n$ times."
   ]
  },
  {
   "cell_type": "code",
   "execution_count": 79,
   "id": "01a28ff4",
   "metadata": {},
   "outputs": [],
   "source": [
    "n_permutations = 12\n",
    "signature_matrix = np.zeros((12, shingle_matrix.shape[1]))"
   ]
  },
  {
   "cell_type": "code",
   "execution_count": 80,
   "id": "55cee0c8",
   "metadata": {},
   "outputs": [
    {
     "name": "stderr",
     "output_type": "stream",
     "text": [
      "100%|██████████████████████████████████████████████████████████████████████████████████| 12/12 [00:12<00:00,  1.05s/it]\n"
     ]
    }
   ],
   "source": [
    "for i in tq(range(n_permutations)):\n",
    "    # 1. Shuffle rows\n",
    "    np.random.shuffle(shingle_matrix)\n",
    "    \n",
    "    # 2. Create the vector of indeces where the first 1 is found. np.argmax stops at the first occurrence\n",
    "    signature_row = np.argmax(shingle_matrix == 1, axis=0) + 1\n",
    "    \n",
    "    # 3. Add to signature matrix\n",
    "    signature_matrix[i] = signature_row"
   ]
  },
  {
   "cell_type": "markdown",
   "id": "c5e4a7fc",
   "metadata": {},
   "source": [
    "# 1.2.4 Divide into Signature Matrix into Bands"
   ]
  },
  {
   "cell_type": "markdown",
   "id": "be0d2a0f",
   "metadata": {},
   "source": [
    "The example signature matrix below is divided into $b$ bands of $r$ rows each, and each band is hashed separately. For this example, we are setting band , which means that we will consider any titles with the same first two rows to be similar. The larger we make b the less likely there will be another Paper that matches all of the same permutations."
   ]
  },
  {
   "cell_type": "markdown",
   "id": "47d1a09d",
   "metadata": {},
   "source": [
    "![signature_matrix_into_bands](https://storage.googleapis.com/lds-media/images/locality-sensitive-hashing-lsh-buckets.width-1200.png)"
   ]
  },
  {
   "cell_type": "markdown",
   "id": "3d14c2ab",
   "metadata": {},
   "source": [
    "Ultimately, the size of the bands control the probability that two items with a given Jaccard similarity end up in the same bucket. If the number of bands is larger, you will end up with much smaller sets. For instance, $b = p$, where $p$ is the number of permutations (i.e. rows in the signature matrix) would almost certainly lead to $N$ buckets of only one item because there would be only one item that was perfect similar across every permutation."
   ]
  },
  {
   "cell_type": "code",
   "execution_count": 101,
   "id": "d50e8fa3",
   "metadata": {},
   "outputs": [],
   "source": [
    "b = 2"
   ]
  },
  {
   "cell_type": "markdown",
   "id": "6565f4f7",
   "metadata": {},
   "source": [
    "How to put the items into buckets?\n",
    "* create $p \\times \\frac{b}{p}$ chunks of the signature matrix such that each chunk has $b$ rows.\n",
    "* "
   ]
  }
 ],
 "metadata": {
  "kernelspec": {
   "display_name": "Python 3 (ipykernel)",
   "language": "python",
   "name": "python3"
  },
  "language_info": {
   "codemirror_mode": {
    "name": "ipython",
    "version": 3
   },
   "file_extension": ".py",
   "mimetype": "text/x-python",
   "name": "python",
   "nbconvert_exporter": "python",
   "pygments_lexer": "ipython3",
   "version": "3.9.0"
  }
 },
 "nbformat": 4,
 "nbformat_minor": 5
}
