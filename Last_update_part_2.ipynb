{
 "cells": [
  {
   "cell_type": "markdown",
   "id": "7e465c55",
   "metadata": {},
   "source": [
    "# 1.2 Fingerprint hashing\n",
    "\n",
    "Using the previously selected data with the features you found pertinent, you have to:\n",
    "\n",
    "Implement your minhash function from scratch. No ready-made hash functions are allowed. Read the class material and search the internet if you need to. For reference, it may be practical to look at the description of hash functions in the book.\n",
    "\n",
    "Process the dataset and add each record to the MinHash. The subtask's goal is to try and map each consumer to its bin; to ensure this works well, be sure you understand how MinHash works and choose a matching threshold to use. Before moving on, experiment with different thresholds, explaining your choice."
   ]
  },
  {
   "cell_type": "code",
   "execution_count": 22,
   "id": "2e649f53",
   "metadata": {},
   "outputs": [],
   "source": [
    "import pandas as pd\n",
    "from tqdm import tqdm as tq\n",
    "import warnings\n",
    "import numpy as np\n",
    "warnings.filterwarnings(\"ignore\")"
   ]
  },
  {
   "cell_type": "code",
   "execution_count": 23,
   "id": "172d4498",
   "metadata": {},
   "outputs": [],
   "source": [
    "df = pd.read_csv(\"/Users/giacomo/Desktop/ADM_HW4/data.csv\", sep = '\\t')"
   ]
  },
  {
   "cell_type": "code",
   "execution_count": 24,
   "id": "1dae9645",
   "metadata": {},
   "outputs": [
    {
     "data": {
      "text/html": [
       "<div>\n",
       "<style scoped>\n",
       "    .dataframe tbody tr th:only-of-type {\n",
       "        vertical-align: middle;\n",
       "    }\n",
       "\n",
       "    .dataframe tbody tr th {\n",
       "        vertical-align: top;\n",
       "    }\n",
       "\n",
       "    .dataframe thead th {\n",
       "        text-align: right;\n",
       "    }\n",
       "</style>\n",
       "<table border=\"1\" class=\"dataframe\">\n",
       "  <thead>\n",
       "    <tr style=\"text-align: right;\">\n",
       "      <th></th>\n",
       "      <th>Unnamed: 0</th>\n",
       "      <th>New_ID</th>\n",
       "      <th>CustGender</th>\n",
       "      <th>CustomerClassAge</th>\n",
       "      <th>Richness</th>\n",
       "      <th>Expenditure</th>\n",
       "    </tr>\n",
       "  </thead>\n",
       "  <tbody>\n",
       "    <tr>\n",
       "      <th>0</th>\n",
       "      <td>0</td>\n",
       "      <td>C1010011F24</td>\n",
       "      <td>F</td>\n",
       "      <td>age_2</td>\n",
       "      <td>richness_7</td>\n",
       "      <td>exp_10</td>\n",
       "    </tr>\n",
       "    <tr>\n",
       "      <th>1</th>\n",
       "      <td>1</td>\n",
       "      <td>C1010011M33</td>\n",
       "      <td>M</td>\n",
       "      <td>age_4</td>\n",
       "      <td>richness_9</td>\n",
       "      <td>exp_5</td>\n",
       "    </tr>\n",
       "    <tr>\n",
       "      <th>2</th>\n",
       "      <td>2</td>\n",
       "      <td>C1010012M22</td>\n",
       "      <td>M</td>\n",
       "      <td>age_2</td>\n",
       "      <td>richness_6</td>\n",
       "      <td>exp_8</td>\n",
       "    </tr>\n",
       "    <tr>\n",
       "      <th>3</th>\n",
       "      <td>3</td>\n",
       "      <td>C1010014F24</td>\n",
       "      <td>F</td>\n",
       "      <td>age_2</td>\n",
       "      <td>richness_7</td>\n",
       "      <td>exp_8</td>\n",
       "    </tr>\n",
       "    <tr>\n",
       "      <th>4</th>\n",
       "      <td>4</td>\n",
       "      <td>C1010014M32</td>\n",
       "      <td>M</td>\n",
       "      <td>age_4</td>\n",
       "      <td>richness_9</td>\n",
       "      <td>exp_4</td>\n",
       "    </tr>\n",
       "    <tr>\n",
       "      <th>...</th>\n",
       "      <td>...</td>\n",
       "      <td>...</td>\n",
       "      <td>...</td>\n",
       "      <td>...</td>\n",
       "      <td>...</td>\n",
       "      <td>...</td>\n",
       "    </tr>\n",
       "    <tr>\n",
       "      <th>1034947</th>\n",
       "      <td>1034947</td>\n",
       "      <td>C9099836M26</td>\n",
       "      <td>M</td>\n",
       "      <td>age_3</td>\n",
       "      <td>richness_9</td>\n",
       "      <td>exp_7</td>\n",
       "    </tr>\n",
       "    <tr>\n",
       "      <th>1034948</th>\n",
       "      <td>1034948</td>\n",
       "      <td>C9099877M20</td>\n",
       "      <td>M</td>\n",
       "      <td>age_1</td>\n",
       "      <td>richness_9</td>\n",
       "      <td>exp_4</td>\n",
       "    </tr>\n",
       "    <tr>\n",
       "      <th>1034949</th>\n",
       "      <td>1034949</td>\n",
       "      <td>C9099919M23</td>\n",
       "      <td>M</td>\n",
       "      <td>age_2</td>\n",
       "      <td>richness_3</td>\n",
       "      <td>exp_3</td>\n",
       "    </tr>\n",
       "    <tr>\n",
       "      <th>1034950</th>\n",
       "      <td>1034950</td>\n",
       "      <td>C9099941M21</td>\n",
       "      <td>M</td>\n",
       "      <td>age_2</td>\n",
       "      <td>richness_7</td>\n",
       "      <td>exp_1</td>\n",
       "    </tr>\n",
       "    <tr>\n",
       "      <th>1034951</th>\n",
       "      <td>1034951</td>\n",
       "      <td>C9099956M34</td>\n",
       "      <td>M</td>\n",
       "      <td>age_4</td>\n",
       "      <td>richness_4</td>\n",
       "      <td>exp_7</td>\n",
       "    </tr>\n",
       "  </tbody>\n",
       "</table>\n",
       "<p>1034952 rows × 6 columns</p>\n",
       "</div>"
      ],
      "text/plain": [
       "         Unnamed: 0       New_ID CustGender CustomerClassAge    Richness  \\\n",
       "0                 0  C1010011F24          F            age_2  richness_7   \n",
       "1                 1  C1010011M33          M            age_4  richness_9   \n",
       "2                 2  C1010012M22          M            age_2  richness_6   \n",
       "3                 3  C1010014F24          F            age_2  richness_7   \n",
       "4                 4  C1010014M32          M            age_4  richness_9   \n",
       "...             ...          ...        ...              ...         ...   \n",
       "1034947     1034947  C9099836M26          M            age_3  richness_9   \n",
       "1034948     1034948  C9099877M20          M            age_1  richness_9   \n",
       "1034949     1034949  C9099919M23          M            age_2  richness_3   \n",
       "1034950     1034950  C9099941M21          M            age_2  richness_7   \n",
       "1034951     1034951  C9099956M34          M            age_4  richness_4   \n",
       "\n",
       "        Expenditure  \n",
       "0            exp_10  \n",
       "1             exp_5  \n",
       "2             exp_8  \n",
       "3             exp_8  \n",
       "4             exp_4  \n",
       "...             ...  \n",
       "1034947       exp_7  \n",
       "1034948       exp_4  \n",
       "1034949       exp_3  \n",
       "1034950       exp_1  \n",
       "1034951       exp_7  \n",
       "\n",
       "[1034952 rows x 6 columns]"
      ]
     },
     "execution_count": 24,
     "metadata": {},
     "output_type": "execute_result"
    }
   ],
   "source": [
    "df"
   ]
  },
  {
   "cell_type": "code",
   "execution_count": 25,
   "id": "cbec36df",
   "metadata": {},
   "outputs": [],
   "source": [
    "del df['Unnamed: 0']"
   ]
  },
  {
   "cell_type": "markdown",
   "id": "9dc8bf41",
   "metadata": {},
   "source": [
    "# 1.2.1 Shingles"
   ]
  },
  {
   "cell_type": "markdown",
   "id": "a34e580a",
   "metadata": {},
   "source": [
    "First of all we build the shingles from all the unique values per column in the loaded dataset. We ignore the `TransactionID` column because it is not a shingle."
   ]
  },
  {
   "cell_type": "code",
   "execution_count": 26,
   "id": "ce2defe3",
   "metadata": {},
   "outputs": [],
   "source": [
    "shingles = [] #initialize shingles\n",
    "for column_name in df.columns[1:]: \n",
    "    shingles += sorted(list(df[column_name].unique())) \n",
    "    \n",
    "shingles.remove('age_0')\n",
    "\n",
    "#In order to not aggregate people who are labelled with age_0, corresponding to the Customer DOB with year 1800 \n",
    "#(nan), we decided to remove age_0 from shingles such that those people will not have any 1 in the shingle matrix.\n",
    "#For that reason they will not be considered similar to anyone for the age, but only for the other fields."
   ]
  },
  {
   "cell_type": "code",
   "execution_count": 27,
   "id": "f6735222",
   "metadata": {},
   "outputs": [
    {
     "name": "stdout",
     "output_type": "stream",
     "text": [
      "['F', 'M', 'age_1', 'age_10', 'age_11', 'age_12', 'age_13', 'age_14', 'age_15', 'age_16', 'age_17', 'age_2', 'age_3', 'age_4', 'age_5', 'age_6', 'age_7', 'age_8', 'age_9', 'richness_0', 'richness_1', 'richness_10', 'richness_2', 'richness_3', 'richness_4', 'richness_5', 'richness_6', 'richness_7', 'richness_8', 'richness_9', 'exp_1', 'exp_10', 'exp_2', 'exp_3', 'exp_4', 'exp_5', 'exp_6', 'exp_7', 'exp_8', 'exp_9']\n"
     ]
    }
   ],
   "source": [
    "print(shingles)"
   ]
  },
  {
   "cell_type": "markdown",
   "id": "56a97def",
   "metadata": {},
   "source": [
    "# 1.2.2 Create Shingle Matrix"
   ]
  },
  {
   "cell_type": "markdown",
   "id": "2dae9e7b",
   "metadata": {},
   "source": [
    "First of all we create the function which maps each transaction into a vector of 0/1 based on the shingles. "
   ]
  },
  {
   "cell_type": "code",
   "execution_count": 28,
   "id": "b838ed76",
   "metadata": {},
   "outputs": [],
   "source": [
    "def one_hot_vector(data, index):\n",
    "    \"\"\"Creates a one hot vector for the row found in the data at the given index based on the shingles.\n",
    "    \n",
    "    :args\n",
    "    data - a pandas dataframe containing the data.\n",
    "    index - an int which corresponds to the row that will be turned into a one hot vector.\n",
    "    \n",
    "    :returns\n",
    "    a numpy array one hot representation of the row\n",
    "    \"\"\"\n",
    "    \n",
    "    values = data.loc[index][['CustGender', 'CustomerClassAge', 'Richness', 'Expenditure']].values #extract values\n",
    "    \n",
    "    indeces = np.where(values.reshape(values.size, 1) == shingles)[1]  #save indexes\n",
    "    \n",
    "    vector = np.zeros(len(shingles), dtype = int)  #initialize vector\n",
    "    \n",
    "    vector[indeces] = 1  #substitute 1 in the correct positions\n",
    "    \n",
    "    return vector"
   ]
  },
  {
   "cell_type": "markdown",
   "id": "579bb582",
   "metadata": {},
   "source": [
    "Example:"
   ]
  },
  {
   "cell_type": "code",
   "execution_count": 29,
   "id": "d1700709",
   "metadata": {},
   "outputs": [
    {
     "name": "stdout",
     "output_type": "stream",
     "text": [
      "['F', 'M', 'age_1', 'age_10', 'age_11', 'age_12', 'age_13', 'age_14', 'age_15', 'age_16', 'age_17', 'age_2', 'age_3', 'age_4', 'age_5', 'age_6', 'age_7', 'age_8', 'age_9', 'richness_0', 'richness_1', 'richness_10', 'richness_2', 'richness_3', 'richness_4', 'richness_5', 'richness_6', 'richness_7', 'richness_8', 'richness_9', 'exp_1', 'exp_10', 'exp_2', 'exp_3', 'exp_4', 'exp_5', 'exp_6', 'exp_7', 'exp_8', 'exp_9']\n"
     ]
    }
   ],
   "source": [
    "print(shingles)"
   ]
  },
  {
   "cell_type": "code",
   "execution_count": 30,
   "id": "487e1675",
   "metadata": {},
   "outputs": [
    {
     "data": {
      "text/plain": [
       "New_ID              C1010011M33\n",
       "CustGender                    M\n",
       "CustomerClassAge          age_4\n",
       "Richness             richness_9\n",
       "Expenditure               exp_5\n",
       "Name: 1, dtype: object"
      ]
     },
     "execution_count": 30,
     "metadata": {},
     "output_type": "execute_result"
    }
   ],
   "source": [
    "df.loc[1]"
   ]
  },
  {
   "cell_type": "code",
   "execution_count": 31,
   "id": "c41f5cfb",
   "metadata": {},
   "outputs": [
    {
     "name": "stdout",
     "output_type": "stream",
     "text": [
      "[0 1 0 0 0 0 0 0 0 0 0 0 0 1 0 0 0 0 0 0 0 0 0 0 0 0 0 0 0 1 0 0 0 0 0 1 0\n",
      " 0 0 0]\n"
     ]
    }
   ],
   "source": [
    "print(one_hot_vector(df, 1))"
   ]
  },
  {
   "cell_type": "code",
   "execution_count": 32,
   "id": "4e82e829",
   "metadata": {},
   "outputs": [
    {
     "data": {
      "text/plain": [
       "1034952"
      ]
     },
     "execution_count": 32,
     "metadata": {},
     "output_type": "execute_result"
    }
   ],
   "source": [
    "len(df)"
   ]
  },
  {
   "cell_type": "markdown",
   "id": "e6a3d5da",
   "metadata": {},
   "source": [
    "Now we can build a sparse matrix with all the encoded transaction. We don't need to insert into the matrix the name of the Customer cause they are linked to the index of the shingle matrix through the index of the column.  "
   ]
  },
  {
   "cell_type": "code",
   "execution_count": 33,
   "id": "77acd2db",
   "metadata": {},
   "outputs": [
    {
     "name": "stderr",
     "output_type": "stream",
     "text": [
      "100%|███████████████████████████████| 1034952/1034952 [13:53<00:00, 1242.37it/s]\n"
     ]
    }
   ],
   "source": [
    "shingle_matrix = np.zeros((len(df), 40), dtype = int)\n",
    "\n",
    "for i in tq(range(len(df))):\n",
    "    # Append the one hot vectors as rows\n",
    "    shingle_matrix[df.index[i]] = one_hot_vector(df, i) \n",
    "\n",
    "# We need to transpose because for the shuffling, the Shingles need to be the rows\n",
    "shingle_matrix = shingle_matrix.T"
   ]
  },
  {
   "cell_type": "code",
   "execution_count": 34,
   "id": "cc15b117",
   "metadata": {},
   "outputs": [
    {
     "name": "stdout",
     "output_type": "stream",
     "text": [
      "Stored 'shingle_matrix' (ndarray)\n"
     ]
    }
   ],
   "source": [
    "%store shingle_matrix"
   ]
  },
  {
   "cell_type": "code",
   "execution_count": 88,
   "id": "7eb74d9c",
   "metadata": {},
   "outputs": [],
   "source": [
    "%store -r shingle_matrix"
   ]
  },
  {
   "cell_type": "markdown",
   "id": "0555b759",
   "metadata": {},
   "source": [
    "# 1.2.3 Create the Signature Matrix\n",
    "From the Shingle Matrix, we will now create the signature matrix by doing the following:\n",
    "1. Shuffle the rows of the Shingle Matrix.\n",
    "1. Create a vector where each element corresponds to the index of the row of each column (Shingle) where the first 1 is found.\n",
    "1. Append this vector to the Signature Matrix.\n",
    "1. Repeat $n$ times.\n",
    "\n",
    "The goal of the MinHash is to replace a large set with a smaller \"signature\" that still preserves the underlying similarity metric."
   ]
  },
  {
   "cell_type": "code",
   "execution_count": 36,
   "id": "01a28ff4",
   "metadata": {},
   "outputs": [],
   "source": [
    "n_permutations = 20 #number of permutations = number of rows of the signature matrix\n",
    "signature_matrix = np.zeros((20, shingle_matrix.shape[1]), dtype = int) #initialize signature matrix\n",
    "seed = np.random.randint(0, 100000)\n",
    "np.random.seed(seed) #set seed for reproducibility"
   ]
  },
  {
   "cell_type": "code",
   "execution_count": 37,
   "id": "55cee0c8",
   "metadata": {},
   "outputs": [
    {
     "name": "stderr",
     "output_type": "stream",
     "text": [
      "100%|███████████████████████████████████████████| 20/20 [00:34<00:00,  1.74s/it]\n"
     ]
    }
   ],
   "source": [
    "for i in tq(range(n_permutations)):\n",
    "    # 1. Shuffle rows\n",
    "    np.random.shuffle(shingle_matrix)\n",
    "    \n",
    "    # 2. Create the vector of indeces where the first 1 is found. np.argmax stops at the first occurrence\n",
    "    signature_row = np.argmax(shingle_matrix == 1, axis=0) + 1\n",
    "    \n",
    "    # 3. Add to signature matrix\n",
    "    signature_matrix[i] = signature_row"
   ]
  },
  {
   "cell_type": "code",
   "execution_count": 38,
   "id": "42835b12",
   "metadata": {},
   "outputs": [
    {
     "data": {
      "text/plain": [
       "array([[ 9, 15, 16, ..., 18, 11,  5],\n",
       "       [14,  3, 13, ..., 13, 13,  2],\n",
       "       [ 8, 17,  6, ...,  9,  9,  1],\n",
       "       ...,\n",
       "       [15,  3,  3, ...,  3,  3,  3],\n",
       "       [ 2,  3,  2, ...,  2,  2, 19],\n",
       "       [15,  1,  3, ..., 13, 23,  1]])"
      ]
     },
     "execution_count": 38,
     "metadata": {},
     "output_type": "execute_result"
    }
   ],
   "source": [
    "signature_matrix"
   ]
  },
  {
   "cell_type": "code",
   "execution_count": 39,
   "id": "8e6c2a16",
   "metadata": {},
   "outputs": [
    {
     "data": {
      "text/plain": [
       "(20, 1034952)"
      ]
     },
     "execution_count": 39,
     "metadata": {},
     "output_type": "execute_result"
    }
   ],
   "source": [
    "signature_matrix.shape"
   ]
  },
  {
   "cell_type": "markdown",
   "id": "b96bf70c",
   "metadata": {},
   "source": [
    "The index of the column can be referred to the customer ID looking at the index of the initial dataframe: "
   ]
  },
  {
   "cell_type": "code",
   "execution_count": 40,
   "id": "5f6e9b2f",
   "metadata": {},
   "outputs": [
    {
     "data": {
      "text/html": [
       "<div>\n",
       "<style scoped>\n",
       "    .dataframe tbody tr th:only-of-type {\n",
       "        vertical-align: middle;\n",
       "    }\n",
       "\n",
       "    .dataframe tbody tr th {\n",
       "        vertical-align: top;\n",
       "    }\n",
       "\n",
       "    .dataframe thead th {\n",
       "        text-align: right;\n",
       "    }\n",
       "</style>\n",
       "<table border=\"1\" class=\"dataframe\">\n",
       "  <thead>\n",
       "    <tr style=\"text-align: right;\">\n",
       "      <th></th>\n",
       "      <th>New_ID</th>\n",
       "      <th>CustGender</th>\n",
       "      <th>CustomerClassAge</th>\n",
       "      <th>Richness</th>\n",
       "      <th>Expenditure</th>\n",
       "    </tr>\n",
       "  </thead>\n",
       "  <tbody>\n",
       "    <tr>\n",
       "      <th>0</th>\n",
       "      <td>C1010011F24</td>\n",
       "      <td>F</td>\n",
       "      <td>age_2</td>\n",
       "      <td>richness_7</td>\n",
       "      <td>exp_10</td>\n",
       "    </tr>\n",
       "    <tr>\n",
       "      <th>1</th>\n",
       "      <td>C1010011M33</td>\n",
       "      <td>M</td>\n",
       "      <td>age_4</td>\n",
       "      <td>richness_9</td>\n",
       "      <td>exp_5</td>\n",
       "    </tr>\n",
       "    <tr>\n",
       "      <th>2</th>\n",
       "      <td>C1010012M22</td>\n",
       "      <td>M</td>\n",
       "      <td>age_2</td>\n",
       "      <td>richness_6</td>\n",
       "      <td>exp_8</td>\n",
       "    </tr>\n",
       "    <tr>\n",
       "      <th>3</th>\n",
       "      <td>C1010014F24</td>\n",
       "      <td>F</td>\n",
       "      <td>age_2</td>\n",
       "      <td>richness_7</td>\n",
       "      <td>exp_8</td>\n",
       "    </tr>\n",
       "    <tr>\n",
       "      <th>4</th>\n",
       "      <td>C1010014M32</td>\n",
       "      <td>M</td>\n",
       "      <td>age_4</td>\n",
       "      <td>richness_9</td>\n",
       "      <td>exp_4</td>\n",
       "    </tr>\n",
       "    <tr>\n",
       "      <th>...</th>\n",
       "      <td>...</td>\n",
       "      <td>...</td>\n",
       "      <td>...</td>\n",
       "      <td>...</td>\n",
       "      <td>...</td>\n",
       "    </tr>\n",
       "    <tr>\n",
       "      <th>1034947</th>\n",
       "      <td>C9099836M26</td>\n",
       "      <td>M</td>\n",
       "      <td>age_3</td>\n",
       "      <td>richness_9</td>\n",
       "      <td>exp_7</td>\n",
       "    </tr>\n",
       "    <tr>\n",
       "      <th>1034948</th>\n",
       "      <td>C9099877M20</td>\n",
       "      <td>M</td>\n",
       "      <td>age_1</td>\n",
       "      <td>richness_9</td>\n",
       "      <td>exp_4</td>\n",
       "    </tr>\n",
       "    <tr>\n",
       "      <th>1034949</th>\n",
       "      <td>C9099919M23</td>\n",
       "      <td>M</td>\n",
       "      <td>age_2</td>\n",
       "      <td>richness_3</td>\n",
       "      <td>exp_3</td>\n",
       "    </tr>\n",
       "    <tr>\n",
       "      <th>1034950</th>\n",
       "      <td>C9099941M21</td>\n",
       "      <td>M</td>\n",
       "      <td>age_2</td>\n",
       "      <td>richness_7</td>\n",
       "      <td>exp_1</td>\n",
       "    </tr>\n",
       "    <tr>\n",
       "      <th>1034951</th>\n",
       "      <td>C9099956M34</td>\n",
       "      <td>M</td>\n",
       "      <td>age_4</td>\n",
       "      <td>richness_4</td>\n",
       "      <td>exp_7</td>\n",
       "    </tr>\n",
       "  </tbody>\n",
       "</table>\n",
       "<p>1034952 rows × 5 columns</p>\n",
       "</div>"
      ],
      "text/plain": [
       "              New_ID CustGender CustomerClassAge    Richness Expenditure\n",
       "0        C1010011F24          F            age_2  richness_7      exp_10\n",
       "1        C1010011M33          M            age_4  richness_9       exp_5\n",
       "2        C1010012M22          M            age_2  richness_6       exp_8\n",
       "3        C1010014F24          F            age_2  richness_7       exp_8\n",
       "4        C1010014M32          M            age_4  richness_9       exp_4\n",
       "...              ...        ...              ...         ...         ...\n",
       "1034947  C9099836M26          M            age_3  richness_9       exp_7\n",
       "1034948  C9099877M20          M            age_1  richness_9       exp_4\n",
       "1034949  C9099919M23          M            age_2  richness_3       exp_3\n",
       "1034950  C9099941M21          M            age_2  richness_7       exp_1\n",
       "1034951  C9099956M34          M            age_4  richness_4       exp_7\n",
       "\n",
       "[1034952 rows x 5 columns]"
      ]
     },
     "execution_count": 40,
     "metadata": {},
     "output_type": "execute_result"
    }
   ],
   "source": [
    "df"
   ]
  },
  {
   "cell_type": "markdown",
   "id": "202e5dac",
   "metadata": {},
   "source": [
    "For example the first column of the signature matrix is referred to the customer C1010011F24."
   ]
  },
  {
   "cell_type": "markdown",
   "id": "c5e4a7fc",
   "metadata": {},
   "source": [
    "# 1.2.4 Divide Signature Matrix into Bands"
   ]
  },
  {
   "cell_type": "markdown",
   "id": "be0d2a0f",
   "metadata": {},
   "source": [
    "The example signature matrix below is divided into $b$ bands of $r$ rows each, and each band is hashed separately. For this example, we are setting band , which means that we will consider any titles with the same first two rows to be similar. The larger we make b the less likely there will be another Paper that matches all of the same permutations."
   ]
  },
  {
   "cell_type": "markdown",
   "id": "47d1a09d",
   "metadata": {},
   "source": [
    "![signature_matrix_into_bands](https://storage.googleapis.com/lds-media/images/locality-sensitive-hashing-lsh-buckets.width-1200.png)"
   ]
  },
  {
   "cell_type": "markdown",
   "id": "d96cf52d",
   "metadata": {},
   "source": [
    "The $\\textit{probability}$ that the minhash function for a random permutation of rows produces the $\\textbf{same values}$ for two sets is equal to the $\\textbf{Jaccard similarity}$ of those sets.\n"
   ]
  },
  {
   "cell_type": "markdown",
   "id": "3d14c2ab",
   "metadata": {},
   "source": [
    "The size of the bands control the probability that two items with a given Jaccard similarity end up in the same bucket. If the number of bands is larger, you will end up with much smaller sets. For instance, $b = p$, where $p$ is the number of permutations (i.e. rows in the signature matrix) would almost certainly lead to $N$ buckets of only one item because there would be only one item that was perfect similar across every permutation."
   ]
  },
  {
   "cell_type": "markdown",
   "id": "9d80f180",
   "metadata": {},
   "source": [
    "In order to create the buckets we decide to create a dictionary that will have the sub_vector as keys and the indexes that contains that subvector. These indexes will allow us to substistute the related customer:"
   ]
  },
  {
   "cell_type": "code",
   "execution_count": 41,
   "id": "f859cbb5",
   "metadata": {},
   "outputs": [],
   "source": [
    "def create_buckets(b, signature):\n",
    "    \n",
    "    indexes = list(range(signature.shape[1])) #create a list of indexes \n",
    "\n",
    "    signature_matrix_transposed = signature.T #transpose the matrix to get subvectors column\n",
    "\n",
    "    cluster = {} #initialize the dictionary containing as keys the subvector and as values the indexes of the customer\n",
    "\n",
    "    for i in tq(range(0, signature.shape[0], b)):  #iterate over the row with step size equal to bandsize\n",
    "    \n",
    "        #take the subvector of dimension i, i+b (band size) from the column\n",
    "        mini_vectors = signature_matrix_transposed[:, i:i+b] \n",
    "    \n",
    "    # sorts the subvectors associated to the indexes to maintain the relationship with the index of the customers.\n",
    "    # We use a tuple instead of a list because tuples can be hashable and therefore \n",
    "    # usable as keys for dictionaries. Sorting will allow us to have the same subvector as neighbors\n",
    "    \n",
    "        c = [(i, tuple(v)) for v, i in sorted(zip(mini_vectors.tolist(), indexes))]\n",
    "    \n",
    "        curr_vector = c[0][1] #take the subvector from the tuple composed by index and subvector\n",
    "    \n",
    "    #Now we have equal subvector as neighbor, so we can iterate over these groups of equal subvector\n",
    "        for i, v in c:  \n",
    "        \n",
    "            if v not in cluster: #if the subvector is not a key in the cluster --> initialize it \n",
    "            \n",
    "                cluster[v] = []\n",
    "        \n",
    "            if curr_vector != v: #when the iteration go over the group of equal subvector updtate the current vector\n",
    "            \n",
    "                curr_vector = v\n",
    "\n",
    "            cluster[v].append(i) #append as values the indexes where that subvector is found \n",
    "    \n",
    "    return cluster"
   ]
  },
  {
   "cell_type": "markdown",
   "id": "6363e351",
   "metadata": {},
   "source": [
    "We can create a dictionary containing the buckets with band size 4:"
   ]
  },
  {
   "cell_type": "code",
   "execution_count": 43,
   "id": "c33e669a",
   "metadata": {},
   "outputs": [
    {
     "name": "stderr",
     "output_type": "stream",
     "text": [
      "100%|█████████████████████████████████████████████| 5/5 [00:29<00:00,  5.92s/it]\n"
     ]
    }
   ],
   "source": [
    "cluster_4 = create_buckets(4, signature_matrix)"
   ]
  },
  {
   "cell_type": "markdown",
   "id": "22326226",
   "metadata": {},
   "source": [
    "We can see that the keys are the subvector:"
   ]
  },
  {
   "cell_type": "code",
   "execution_count": 44,
   "id": "a4239ee4",
   "metadata": {},
   "outputs": [
    {
     "name": "stdout",
     "output_type": "stream",
     "text": [
      "[(1, 2, 1, 6), (1, 2, 1, 15), (1, 2, 3, 6), (1, 2, 3, 12), (1, 2, 5, 6)]\n"
     ]
    }
   ],
   "source": [
    "print(list(cluster_4.keys())[:5])"
   ]
  },
  {
   "cell_type": "markdown",
   "id": "9a9c1115",
   "metadata": {},
   "source": [
    "And the values are the column index where they've been found:"
   ]
  },
  {
   "cell_type": "code",
   "execution_count": 47,
   "id": "9e42dd62",
   "metadata": {},
   "outputs": [
    {
     "data": {
      "text/plain": [
       "[571, 38876, 41344, 58949, 62939]"
      ]
     },
     "execution_count": 47,
     "metadata": {},
     "output_type": "execute_result"
    }
   ],
   "source": [
    "cluster_4[list(cluster_4.keys())[0]][0:5]  #first 5 index referred to the first key of the dictionary:"
   ]
  },
  {
   "cell_type": "markdown",
   "id": "1a35802c",
   "metadata": {},
   "source": [
    "Through them we can recover the name of the customers defining a function that substitute the values of each keys with the 'New_ID' value in the dataframe:"
   ]
  },
  {
   "cell_type": "code",
   "execution_count": 51,
   "id": "00eab831",
   "metadata": {},
   "outputs": [],
   "source": [
    "def substitute_keys(buckets, data):\n",
    "    \n",
    "    for key in list(buckets.keys()):\n",
    "    \n",
    "        buckets[key] = data.loc[buckets[key]]['New_ID'].to_list() #subtitute the indexes with the customers name\n",
    "\n",
    "    return buckets"
   ]
  },
  {
   "cell_type": "code",
   "execution_count": 52,
   "id": "e9e7bcb5",
   "metadata": {},
   "outputs": [],
   "source": [
    "cluster_4 = substitute_keys(cluster_4, df)"
   ]
  },
  {
   "cell_type": "markdown",
   "id": "2542445e",
   "metadata": {},
   "source": [
    "We can see that now the values of each key are the customer name:"
   ]
  },
  {
   "cell_type": "code",
   "execution_count": 57,
   "id": "7fe49080",
   "metadata": {},
   "outputs": [
    {
     "data": {
      "text/plain": [
       "['C1011736M55', 'C1311745M55', 'C1319157M53', 'C1434417M52', 'C1474376M51']"
      ]
     },
     "execution_count": 57,
     "metadata": {},
     "output_type": "execute_result"
    }
   ],
   "source": [
    "cluster_4[list(cluster_4.keys())[0]][0:5]"
   ]
  },
  {
   "cell_type": "markdown",
   "id": "e547b348",
   "metadata": {},
   "source": [
    "We can now visually check how much similar the customer in a bucket are:"
   ]
  },
  {
   "cell_type": "code",
   "execution_count": 61,
   "id": "e08ed6cb",
   "metadata": {},
   "outputs": [
    {
     "data": {
      "text/html": [
       "<div>\n",
       "<style scoped>\n",
       "    .dataframe tbody tr th:only-of-type {\n",
       "        vertical-align: middle;\n",
       "    }\n",
       "\n",
       "    .dataframe tbody tr th {\n",
       "        vertical-align: top;\n",
       "    }\n",
       "\n",
       "    .dataframe thead th {\n",
       "        text-align: right;\n",
       "    }\n",
       "</style>\n",
       "<table border=\"1\" class=\"dataframe\">\n",
       "  <thead>\n",
       "    <tr style=\"text-align: right;\">\n",
       "      <th></th>\n",
       "      <th>New_ID</th>\n",
       "      <th>CustGender</th>\n",
       "      <th>CustomerClassAge</th>\n",
       "      <th>Richness</th>\n",
       "      <th>Expenditure</th>\n",
       "    </tr>\n",
       "  </thead>\n",
       "  <tbody>\n",
       "    <tr>\n",
       "      <th>571</th>\n",
       "      <td>C1011736M55</td>\n",
       "      <td>M</td>\n",
       "      <td>age_8</td>\n",
       "      <td>richness_4</td>\n",
       "      <td>exp_7</td>\n",
       "    </tr>\n",
       "    <tr>\n",
       "      <th>38876</th>\n",
       "      <td>C1311745M55</td>\n",
       "      <td>M</td>\n",
       "      <td>age_8</td>\n",
       "      <td>richness_4</td>\n",
       "      <td>exp_7</td>\n",
       "    </tr>\n",
       "    <tr>\n",
       "      <th>41344</th>\n",
       "      <td>C1319157M53</td>\n",
       "      <td>M</td>\n",
       "      <td>age_8</td>\n",
       "      <td>richness_4</td>\n",
       "      <td>exp_7</td>\n",
       "    </tr>\n",
       "    <tr>\n",
       "      <th>58949</th>\n",
       "      <td>C1434417M52</td>\n",
       "      <td>M</td>\n",
       "      <td>age_8</td>\n",
       "      <td>richness_4</td>\n",
       "      <td>exp_7</td>\n",
       "    </tr>\n",
       "    <tr>\n",
       "      <th>62939</th>\n",
       "      <td>C1474376M51</td>\n",
       "      <td>M</td>\n",
       "      <td>age_8</td>\n",
       "      <td>richness_4</td>\n",
       "      <td>exp_7</td>\n",
       "    </tr>\n",
       "    <tr>\n",
       "      <th>...</th>\n",
       "      <td>...</td>\n",
       "      <td>...</td>\n",
       "      <td>...</td>\n",
       "      <td>...</td>\n",
       "      <td>...</td>\n",
       "    </tr>\n",
       "    <tr>\n",
       "      <th>990528</th>\n",
       "      <td>C8730518M54</td>\n",
       "      <td>M</td>\n",
       "      <td>age_8</td>\n",
       "      <td>richness_4</td>\n",
       "      <td>exp_7</td>\n",
       "    </tr>\n",
       "    <tr>\n",
       "      <th>995924</th>\n",
       "      <td>C8784092M54</td>\n",
       "      <td>M</td>\n",
       "      <td>age_8</td>\n",
       "      <td>richness_4</td>\n",
       "      <td>exp_7</td>\n",
       "    </tr>\n",
       "    <tr>\n",
       "      <th>1011225</th>\n",
       "      <td>C8915869M54</td>\n",
       "      <td>M</td>\n",
       "      <td>age_8</td>\n",
       "      <td>richness_4</td>\n",
       "      <td>exp_7</td>\n",
       "    </tr>\n",
       "    <tr>\n",
       "      <th>1024636</th>\n",
       "      <td>C9017478M52</td>\n",
       "      <td>M</td>\n",
       "      <td>age_8</td>\n",
       "      <td>richness_4</td>\n",
       "      <td>exp_7</td>\n",
       "    </tr>\n",
       "    <tr>\n",
       "      <th>1028324</th>\n",
       "      <td>C9028415M51</td>\n",
       "      <td>M</td>\n",
       "      <td>age_8</td>\n",
       "      <td>richness_4</td>\n",
       "      <td>exp_7</td>\n",
       "    </tr>\n",
       "  </tbody>\n",
       "</table>\n",
       "<p>87 rows × 5 columns</p>\n",
       "</div>"
      ],
      "text/plain": [
       "              New_ID CustGender CustomerClassAge    Richness Expenditure\n",
       "571      C1011736M55          M            age_8  richness_4       exp_7\n",
       "38876    C1311745M55          M            age_8  richness_4       exp_7\n",
       "41344    C1319157M53          M            age_8  richness_4       exp_7\n",
       "58949    C1434417M52          M            age_8  richness_4       exp_7\n",
       "62939    C1474376M51          M            age_8  richness_4       exp_7\n",
       "...              ...        ...              ...         ...         ...\n",
       "990528   C8730518M54          M            age_8  richness_4       exp_7\n",
       "995924   C8784092M54          M            age_8  richness_4       exp_7\n",
       "1011225  C8915869M54          M            age_8  richness_4       exp_7\n",
       "1024636  C9017478M52          M            age_8  richness_4       exp_7\n",
       "1028324  C9028415M51          M            age_8  richness_4       exp_7\n",
       "\n",
       "[87 rows x 5 columns]"
      ]
     },
     "execution_count": 61,
     "metadata": {},
     "output_type": "execute_result"
    }
   ],
   "source": [
    "df[df['New_ID'].isin(cluster_4[list(cluster_4.keys())[0]])] "
   ]
  },
  {
   "cell_type": "markdown",
   "id": "61298c8c",
   "metadata": {},
   "source": [
    "And the number of bucket that we have: "
   ]
  },
  {
   "cell_type": "code",
   "execution_count": 62,
   "id": "132656eb",
   "metadata": {},
   "outputs": [
    {
     "data": {
      "text/plain": [
       "5361"
      ]
     },
     "execution_count": 62,
     "metadata": {},
     "output_type": "execute_result"
    }
   ],
   "source": [
    "len(cluster_4)"
   ]
  },
  {
   "cell_type": "markdown",
   "id": "bff09a4e",
   "metadata": {},
   "source": [
    "We can now visually check what happen for $\\textbf{band size = 2}$:"
   ]
  },
  {
   "cell_type": "code",
   "execution_count": 63,
   "id": "b117f74a",
   "metadata": {},
   "outputs": [
    {
     "name": "stderr",
     "output_type": "stream",
     "text": [
      "100%|███████████████████████████████████████████| 10/10 [01:07<00:00,  6.74s/it]\n"
     ]
    },
    {
     "name": "stdout",
     "output_type": "stream",
     "text": [
      "The number of buckets are  651\n"
     ]
    },
    {
     "data": {
      "text/html": [
       "<div>\n",
       "<style scoped>\n",
       "    .dataframe tbody tr th:only-of-type {\n",
       "        vertical-align: middle;\n",
       "    }\n",
       "\n",
       "    .dataframe tbody tr th {\n",
       "        vertical-align: top;\n",
       "    }\n",
       "\n",
       "    .dataframe thead th {\n",
       "        text-align: right;\n",
       "    }\n",
       "</style>\n",
       "<table border=\"1\" class=\"dataframe\">\n",
       "  <thead>\n",
       "    <tr style=\"text-align: right;\">\n",
       "      <th></th>\n",
       "      <th>New_ID</th>\n",
       "      <th>CustGender</th>\n",
       "      <th>CustomerClassAge</th>\n",
       "      <th>Richness</th>\n",
       "      <th>Expenditure</th>\n",
       "    </tr>\n",
       "  </thead>\n",
       "  <tbody>\n",
       "    <tr>\n",
       "      <th>10</th>\n",
       "      <td>C1010035M24</td>\n",
       "      <td>M</td>\n",
       "      <td>age_2</td>\n",
       "      <td>richness_4</td>\n",
       "      <td>exp_1</td>\n",
       "    </tr>\n",
       "    <tr>\n",
       "      <th>17</th>\n",
       "      <td>C1010041F24</td>\n",
       "      <td>F</td>\n",
       "      <td>age_2</td>\n",
       "      <td>richness_2</td>\n",
       "      <td>exp_1</td>\n",
       "    </tr>\n",
       "    <tr>\n",
       "      <th>18</th>\n",
       "      <td>C1010041F41</td>\n",
       "      <td>F</td>\n",
       "      <td>age_6</td>\n",
       "      <td>richness_10</td>\n",
       "      <td>exp_9</td>\n",
       "    </tr>\n",
       "    <tr>\n",
       "      <th>44</th>\n",
       "      <td>C1010116M22</td>\n",
       "      <td>M</td>\n",
       "      <td>age_2</td>\n",
       "      <td>richness_5</td>\n",
       "      <td>exp_1</td>\n",
       "    </tr>\n",
       "    <tr>\n",
       "      <th>55</th>\n",
       "      <td>C1010157M24</td>\n",
       "      <td>M</td>\n",
       "      <td>age_2</td>\n",
       "      <td>richness_4</td>\n",
       "      <td>exp_1</td>\n",
       "    </tr>\n",
       "    <tr>\n",
       "      <th>...</th>\n",
       "      <td>...</td>\n",
       "      <td>...</td>\n",
       "      <td>...</td>\n",
       "      <td>...</td>\n",
       "      <td>...</td>\n",
       "    </tr>\n",
       "    <tr>\n",
       "      <th>1034927</th>\n",
       "      <td>C9099170M23</td>\n",
       "      <td>M</td>\n",
       "      <td>age_2</td>\n",
       "      <td>richness_1</td>\n",
       "      <td>exp_1</td>\n",
       "    </tr>\n",
       "    <tr>\n",
       "      <th>1034930</th>\n",
       "      <td>C9099183M25</td>\n",
       "      <td>M</td>\n",
       "      <td>age_2</td>\n",
       "      <td>richness_4</td>\n",
       "      <td>exp_1</td>\n",
       "    </tr>\n",
       "    <tr>\n",
       "      <th>1034938</th>\n",
       "      <td>C9099628M22</td>\n",
       "      <td>M</td>\n",
       "      <td>age_2</td>\n",
       "      <td>richness_0</td>\n",
       "      <td>exp_1</td>\n",
       "    </tr>\n",
       "    <tr>\n",
       "      <th>1034939</th>\n",
       "      <td>C9099661F24</td>\n",
       "      <td>F</td>\n",
       "      <td>age_2</td>\n",
       "      <td>richness_5</td>\n",
       "      <td>exp_1</td>\n",
       "    </tr>\n",
       "    <tr>\n",
       "      <th>1034950</th>\n",
       "      <td>C9099941M21</td>\n",
       "      <td>M</td>\n",
       "      <td>age_2</td>\n",
       "      <td>richness_7</td>\n",
       "      <td>exp_1</td>\n",
       "    </tr>\n",
       "  </tbody>\n",
       "</table>\n",
       "<p>88588 rows × 5 columns</p>\n",
       "</div>"
      ],
      "text/plain": [
       "              New_ID CustGender CustomerClassAge     Richness Expenditure\n",
       "10       C1010035M24          M            age_2   richness_4       exp_1\n",
       "17       C1010041F24          F            age_2   richness_2       exp_1\n",
       "18       C1010041F41          F            age_6  richness_10       exp_9\n",
       "44       C1010116M22          M            age_2   richness_5       exp_1\n",
       "55       C1010157M24          M            age_2   richness_4       exp_1\n",
       "...              ...        ...              ...          ...         ...\n",
       "1034927  C9099170M23          M            age_2   richness_1       exp_1\n",
       "1034930  C9099183M25          M            age_2   richness_4       exp_1\n",
       "1034938  C9099628M22          M            age_2   richness_0       exp_1\n",
       "1034939  C9099661F24          F            age_2   richness_5       exp_1\n",
       "1034950  C9099941M21          M            age_2   richness_7       exp_1\n",
       "\n",
       "[88588 rows x 5 columns]"
      ]
     },
     "execution_count": 63,
     "metadata": {},
     "output_type": "execute_result"
    }
   ],
   "source": [
    "cluster_2 = create_buckets(2, signature_matrix) #create buckets with band size 2\n",
    "\n",
    "cluster_2 = substitute_keys(cluster_2, df) #substitute index with customer names\n",
    "\n",
    "print('The number of buckets is ', len(cluster_2))\n",
    "\n",
    "df[df['New_ID'].isin(cluster_2[list(cluster_2.keys())[0]])] "
   ]
  },
  {
   "cell_type": "markdown",
   "id": "9d9ae61a",
   "metadata": {},
   "source": [
    "Decreasing the size of the bands the number of buckets decrease cause are grouped togheter customer that have different values in some fields."
   ]
  },
  {
   "cell_type": "markdown",
   "id": "1c18959d",
   "metadata": {},
   "source": [
    "Checking what happen with $\\textbf{band size = 5}$:"
   ]
  },
  {
   "cell_type": "code",
   "execution_count": 64,
   "id": "f8c2b4ee",
   "metadata": {},
   "outputs": [
    {
     "name": "stderr",
     "output_type": "stream",
     "text": [
      "100%|█████████████████████████████████████████████| 4/4 [00:35<00:00,  8.82s/it]\n"
     ]
    },
    {
     "name": "stdout",
     "output_type": "stream",
     "text": [
      "The number of buckets are  6351\n"
     ]
    },
    {
     "data": {
      "text/html": [
       "<div>\n",
       "<style scoped>\n",
       "    .dataframe tbody tr th:only-of-type {\n",
       "        vertical-align: middle;\n",
       "    }\n",
       "\n",
       "    .dataframe tbody tr th {\n",
       "        vertical-align: top;\n",
       "    }\n",
       "\n",
       "    .dataframe thead th {\n",
       "        text-align: right;\n",
       "    }\n",
       "</style>\n",
       "<table border=\"1\" class=\"dataframe\">\n",
       "  <thead>\n",
       "    <tr style=\"text-align: right;\">\n",
       "      <th></th>\n",
       "      <th>New_ID</th>\n",
       "      <th>CustGender</th>\n",
       "      <th>CustomerClassAge</th>\n",
       "      <th>Richness</th>\n",
       "      <th>Expenditure</th>\n",
       "    </tr>\n",
       "  </thead>\n",
       "  <tbody>\n",
       "    <tr>\n",
       "      <th>571</th>\n",
       "      <td>C1011736M55</td>\n",
       "      <td>M</td>\n",
       "      <td>age_8</td>\n",
       "      <td>richness_4</td>\n",
       "      <td>exp_7</td>\n",
       "    </tr>\n",
       "    <tr>\n",
       "      <th>38876</th>\n",
       "      <td>C1311745M55</td>\n",
       "      <td>M</td>\n",
       "      <td>age_8</td>\n",
       "      <td>richness_4</td>\n",
       "      <td>exp_7</td>\n",
       "    </tr>\n",
       "    <tr>\n",
       "      <th>41344</th>\n",
       "      <td>C1319157M53</td>\n",
       "      <td>M</td>\n",
       "      <td>age_8</td>\n",
       "      <td>richness_4</td>\n",
       "      <td>exp_7</td>\n",
       "    </tr>\n",
       "    <tr>\n",
       "      <th>58949</th>\n",
       "      <td>C1434417M52</td>\n",
       "      <td>M</td>\n",
       "      <td>age_8</td>\n",
       "      <td>richness_4</td>\n",
       "      <td>exp_7</td>\n",
       "    </tr>\n",
       "    <tr>\n",
       "      <th>62939</th>\n",
       "      <td>C1474376M51</td>\n",
       "      <td>M</td>\n",
       "      <td>age_8</td>\n",
       "      <td>richness_4</td>\n",
       "      <td>exp_7</td>\n",
       "    </tr>\n",
       "    <tr>\n",
       "      <th>...</th>\n",
       "      <td>...</td>\n",
       "      <td>...</td>\n",
       "      <td>...</td>\n",
       "      <td>...</td>\n",
       "      <td>...</td>\n",
       "    </tr>\n",
       "    <tr>\n",
       "      <th>990528</th>\n",
       "      <td>C8730518M54</td>\n",
       "      <td>M</td>\n",
       "      <td>age_8</td>\n",
       "      <td>richness_4</td>\n",
       "      <td>exp_7</td>\n",
       "    </tr>\n",
       "    <tr>\n",
       "      <th>995924</th>\n",
       "      <td>C8784092M54</td>\n",
       "      <td>M</td>\n",
       "      <td>age_8</td>\n",
       "      <td>richness_4</td>\n",
       "      <td>exp_7</td>\n",
       "    </tr>\n",
       "    <tr>\n",
       "      <th>1011225</th>\n",
       "      <td>C8915869M54</td>\n",
       "      <td>M</td>\n",
       "      <td>age_8</td>\n",
       "      <td>richness_4</td>\n",
       "      <td>exp_7</td>\n",
       "    </tr>\n",
       "    <tr>\n",
       "      <th>1024636</th>\n",
       "      <td>C9017478M52</td>\n",
       "      <td>M</td>\n",
       "      <td>age_8</td>\n",
       "      <td>richness_4</td>\n",
       "      <td>exp_7</td>\n",
       "    </tr>\n",
       "    <tr>\n",
       "      <th>1028324</th>\n",
       "      <td>C9028415M51</td>\n",
       "      <td>M</td>\n",
       "      <td>age_8</td>\n",
       "      <td>richness_4</td>\n",
       "      <td>exp_7</td>\n",
       "    </tr>\n",
       "  </tbody>\n",
       "</table>\n",
       "<p>87 rows × 5 columns</p>\n",
       "</div>"
      ],
      "text/plain": [
       "              New_ID CustGender CustomerClassAge    Richness Expenditure\n",
       "571      C1011736M55          M            age_8  richness_4       exp_7\n",
       "38876    C1311745M55          M            age_8  richness_4       exp_7\n",
       "41344    C1319157M53          M            age_8  richness_4       exp_7\n",
       "58949    C1434417M52          M            age_8  richness_4       exp_7\n",
       "62939    C1474376M51          M            age_8  richness_4       exp_7\n",
       "...              ...        ...              ...         ...         ...\n",
       "990528   C8730518M54          M            age_8  richness_4       exp_7\n",
       "995924   C8784092M54          M            age_8  richness_4       exp_7\n",
       "1011225  C8915869M54          M            age_8  richness_4       exp_7\n",
       "1024636  C9017478M52          M            age_8  richness_4       exp_7\n",
       "1028324  C9028415M51          M            age_8  richness_4       exp_7\n",
       "\n",
       "[87 rows x 5 columns]"
      ]
     },
     "execution_count": 64,
     "metadata": {},
     "output_type": "execute_result"
    }
   ],
   "source": [
    "cluster_5 = create_buckets(5, signature_matrix) #create buckets with band size 2\n",
    "\n",
    "cluster_5 = substitute_keys(cluster_5, df) #substitute index with customer names\n",
    "\n",
    "print('The number of buckets is ', len(cluster_5))\n",
    "\n",
    "df[df['New_ID'].isin(cluster_5[list(cluster_5.keys())[0]])] "
   ]
  },
  {
   "cell_type": "markdown",
   "id": "dd236706",
   "metadata": {},
   "source": [
    "There is a larger number of bucket (so a less number of customer per bucket) and the customers have all the same values in the different fields.  \n",
    "\n",
    "So, the choice of the band size $depends$ on how much similar customer do you want in your bucket. Supposing our request is not too restrictive we can choose 4 as band size to execute the query for the next point. "
   ]
  },
  {
   "cell_type": "markdown",
   "id": "addaa88b",
   "metadata": {},
   "source": [
    "# 1.3 Locality Sensitive Hashing\n",
    "\n",
    "Now that you prepared your algorithm, it's query time!\n",
    "We have prepared some dummy users for you to work with.\n",
    "\n",
    "Download this csv and report the most similar users (comparing them against the dataset provided in Kaggle).\n",
    "Did your hashing method work properly, what scores have you obtained and how long did it take to run? Provide information and analysis about the results"
   ]
  },
  {
   "cell_type": "markdown",
   "id": "cc07dbfc",
   "metadata": {},
   "source": [
    "# 1.3.1 Pre-processing Query dataset"
   ]
  },
  {
   "cell_type": "markdown",
   "id": "afc6ead9",
   "metadata": {},
   "source": [
    "First of all we need to pre-process the query dataset in the same way we pre-process the initial Kaggle dataset:"
   ]
  },
  {
   "cell_type": "code",
   "execution_count": 65,
   "id": "177961ed",
   "metadata": {},
   "outputs": [],
   "source": [
    "query = pd.read_csv(\"/Users/giacomo/Desktop/ADM_HW4/query_users.csv\")"
   ]
  },
  {
   "cell_type": "code",
   "execution_count": 66,
   "id": "8ff96075",
   "metadata": {},
   "outputs": [
    {
     "data": {
      "text/html": [
       "<div>\n",
       "<style scoped>\n",
       "    .dataframe tbody tr th:only-of-type {\n",
       "        vertical-align: middle;\n",
       "    }\n",
       "\n",
       "    .dataframe tbody tr th {\n",
       "        vertical-align: top;\n",
       "    }\n",
       "\n",
       "    .dataframe thead th {\n",
       "        text-align: right;\n",
       "    }\n",
       "</style>\n",
       "<table border=\"1\" class=\"dataframe\">\n",
       "  <thead>\n",
       "    <tr style=\"text-align: right;\">\n",
       "      <th></th>\n",
       "      <th>CustomerDOB</th>\n",
       "      <th>CustGender</th>\n",
       "      <th>CustLocation</th>\n",
       "      <th>CustAccountBalance</th>\n",
       "      <th>TransactionDate</th>\n",
       "      <th>TransactionTime</th>\n",
       "      <th>TransactionAmount (INR)</th>\n",
       "    </tr>\n",
       "  </thead>\n",
       "  <tbody>\n",
       "    <tr>\n",
       "      <th>0</th>\n",
       "      <td>27/7/78</td>\n",
       "      <td>M</td>\n",
       "      <td>DELHI</td>\n",
       "      <td>94695.61</td>\n",
       "      <td>2/9/16</td>\n",
       "      <td>140310</td>\n",
       "      <td>65.0</td>\n",
       "    </tr>\n",
       "    <tr>\n",
       "      <th>1</th>\n",
       "      <td>6/11/92</td>\n",
       "      <td>M</td>\n",
       "      <td>PANCHKULA</td>\n",
       "      <td>7584.09</td>\n",
       "      <td>2/9/16</td>\n",
       "      <td>120214</td>\n",
       "      <td>6025.0</td>\n",
       "    </tr>\n",
       "    <tr>\n",
       "      <th>2</th>\n",
       "      <td>14/8/91</td>\n",
       "      <td>M</td>\n",
       "      <td>PATNA</td>\n",
       "      <td>7180.60</td>\n",
       "      <td>10/8/16</td>\n",
       "      <td>221732</td>\n",
       "      <td>541.5</td>\n",
       "    </tr>\n",
       "    <tr>\n",
       "      <th>3</th>\n",
       "      <td>3/1/87</td>\n",
       "      <td>M</td>\n",
       "      <td>CHENNAI</td>\n",
       "      <td>56847.75</td>\n",
       "      <td>29/8/16</td>\n",
       "      <td>144138</td>\n",
       "      <td>1000.0</td>\n",
       "    </tr>\n",
       "    <tr>\n",
       "      <th>4</th>\n",
       "      <td>4/1/95</td>\n",
       "      <td>M</td>\n",
       "      <td>GURGAON</td>\n",
       "      <td>84950.13</td>\n",
       "      <td>25/9/16</td>\n",
       "      <td>233309</td>\n",
       "      <td>80.0</td>\n",
       "    </tr>\n",
       "  </tbody>\n",
       "</table>\n",
       "</div>"
      ],
      "text/plain": [
       "  CustomerDOB CustGender CustLocation  CustAccountBalance TransactionDate  \\\n",
       "0     27/7/78          M        DELHI            94695.61          2/9/16   \n",
       "1     6/11/92          M    PANCHKULA             7584.09          2/9/16   \n",
       "2     14/8/91          M        PATNA             7180.60         10/8/16   \n",
       "3      3/1/87          M      CHENNAI            56847.75         29/8/16   \n",
       "4      4/1/95          M      GURGAON            84950.13         25/9/16   \n",
       "\n",
       "   TransactionTime  TransactionAmount (INR)  \n",
       "0           140310                     65.0  \n",
       "1           120214                   6025.0  \n",
       "2           221732                    541.5  \n",
       "3           144138                   1000.0  \n",
       "4           233309                     80.0  "
      ]
     },
     "execution_count": 66,
     "metadata": {},
     "output_type": "execute_result"
    }
   ],
   "source": [
    "query.head()"
   ]
  },
  {
   "cell_type": "code",
   "execution_count": 67,
   "id": "812535b3",
   "metadata": {},
   "outputs": [],
   "source": [
    "del query['CustLocation'], query['TransactionTime'] #We didn't those features for the customers "
   ]
  },
  {
   "cell_type": "markdown",
   "id": "8ebca7cf",
   "metadata": {},
   "source": [
    "First of all we convert them into class of age, richness and expenditure.\n",
    "\n",
    "Starting with the age, we used the same procedure of point 1.1:"
   ]
  },
  {
   "cell_type": "code",
   "execution_count": 68,
   "id": "7153e938",
   "metadata": {},
   "outputs": [],
   "source": [
    "#In order to calculate the ages we need to transform into datetime birthday and year of the transactions\n",
    "\n",
    "query['CustomerDOB'] = pd.to_datetime(query['CustomerDOB']) \n",
    "\n",
    "query['TransactionDate'] = pd.to_datetime(query['TransactionDate']) "
   ]
  },
  {
   "cell_type": "code",
   "execution_count": 69,
   "id": "e54bc963",
   "metadata": {},
   "outputs": [],
   "source": [
    "query['CustomerAge'] = 0 #initialize with values zero the ages"
   ]
  },
  {
   "cell_type": "code",
   "execution_count": 70,
   "id": "3568442b",
   "metadata": {},
   "outputs": [],
   "source": [
    "#give an age only to queries that have a different YOB from 1800\n",
    "\n",
    "query.loc[query['CustomerDOB'].dt.year != 1800, 'CustomerAge'] = query.loc[query['CustomerDOB'].dt.year != 1800, 'TransactionDate'].dt.year - query.loc[query['CustomerDOB'].dt.year != 1800, 'CustomerDOB'].dt.year "
   ]
  },
  {
   "cell_type": "code",
   "execution_count": 71,
   "id": "4217a4b4",
   "metadata": {},
   "outputs": [
    {
     "data": {
      "text/html": [
       "<div>\n",
       "<style scoped>\n",
       "    .dataframe tbody tr th:only-of-type {\n",
       "        vertical-align: middle;\n",
       "    }\n",
       "\n",
       "    .dataframe tbody tr th {\n",
       "        vertical-align: top;\n",
       "    }\n",
       "\n",
       "    .dataframe thead th {\n",
       "        text-align: right;\n",
       "    }\n",
       "</style>\n",
       "<table border=\"1\" class=\"dataframe\">\n",
       "  <thead>\n",
       "    <tr style=\"text-align: right;\">\n",
       "      <th></th>\n",
       "      <th>CustomerDOB</th>\n",
       "      <th>CustGender</th>\n",
       "      <th>CustAccountBalance</th>\n",
       "      <th>TransactionDate</th>\n",
       "      <th>TransactionAmount (INR)</th>\n",
       "      <th>CustomerAge</th>\n",
       "    </tr>\n",
       "  </thead>\n",
       "  <tbody>\n",
       "    <tr>\n",
       "      <th>0</th>\n",
       "      <td>1978-07-27</td>\n",
       "      <td>M</td>\n",
       "      <td>94695.61</td>\n",
       "      <td>2016-02-09</td>\n",
       "      <td>65.0</td>\n",
       "      <td>38</td>\n",
       "    </tr>\n",
       "    <tr>\n",
       "      <th>1</th>\n",
       "      <td>1992-06-11</td>\n",
       "      <td>M</td>\n",
       "      <td>7584.09</td>\n",
       "      <td>2016-02-09</td>\n",
       "      <td>6025.0</td>\n",
       "      <td>24</td>\n",
       "    </tr>\n",
       "    <tr>\n",
       "      <th>2</th>\n",
       "      <td>1991-08-14</td>\n",
       "      <td>M</td>\n",
       "      <td>7180.60</td>\n",
       "      <td>2016-10-08</td>\n",
       "      <td>541.5</td>\n",
       "      <td>25</td>\n",
       "    </tr>\n",
       "    <tr>\n",
       "      <th>3</th>\n",
       "      <td>1987-03-01</td>\n",
       "      <td>M</td>\n",
       "      <td>56847.75</td>\n",
       "      <td>2016-08-29</td>\n",
       "      <td>1000.0</td>\n",
       "      <td>29</td>\n",
       "    </tr>\n",
       "    <tr>\n",
       "      <th>4</th>\n",
       "      <td>1995-04-01</td>\n",
       "      <td>M</td>\n",
       "      <td>84950.13</td>\n",
       "      <td>2016-09-25</td>\n",
       "      <td>80.0</td>\n",
       "      <td>21</td>\n",
       "    </tr>\n",
       "  </tbody>\n",
       "</table>\n",
       "</div>"
      ],
      "text/plain": [
       "  CustomerDOB CustGender  CustAccountBalance TransactionDate  \\\n",
       "0  1978-07-27          M            94695.61      2016-02-09   \n",
       "1  1992-06-11          M             7584.09      2016-02-09   \n",
       "2  1991-08-14          M             7180.60      2016-10-08   \n",
       "3  1987-03-01          M            56847.75      2016-08-29   \n",
       "4  1995-04-01          M            84950.13      2016-09-25   \n",
       "\n",
       "   TransactionAmount (INR)  CustomerAge  \n",
       "0                     65.0           38  \n",
       "1                   6025.0           24  \n",
       "2                    541.5           25  \n",
       "3                   1000.0           29  \n",
       "4                     80.0           21  "
      ]
     },
     "execution_count": 71,
     "metadata": {},
     "output_type": "execute_result"
    }
   ],
   "source": [
    "query.head(5)"
   ]
  },
  {
   "cell_type": "code",
   "execution_count": 72,
   "id": "f3c1caf0",
   "metadata": {},
   "outputs": [],
   "source": [
    "del query['TransactionDate'], query['CustomerDOB'] #deleting the data that we don't need"
   ]
  },
  {
   "cell_type": "markdown",
   "id": "ccdd440f",
   "metadata": {},
   "source": [
    "We binned the ages into the same classes of point 1.1:"
   ]
  },
  {
   "cell_type": "code",
   "execution_count": 73,
   "id": "eb97a388",
   "metadata": {},
   "outputs": [],
   "source": [
    "bins = np.array(list(range(16, 102, 5)))  #bins\n",
    "\n",
    "def age(age):\n",
    "    \n",
    "    class_age = np.digitize(age, bins, right=False)  #return the number of the bin\n",
    "    \n",
    "    age = 'age_' + str(class_age) #create a string of class age\n",
    "        \n",
    "    return age\n",
    "\n",
    "query['CustomerClassAge'] = query.CustomerAge.apply(lambda x: age(x)) #build a new column called class age"
   ]
  },
  {
   "cell_type": "code",
   "execution_count": 74,
   "id": "b83d7646",
   "metadata": {},
   "outputs": [],
   "source": [
    "del query['CustomerAge'] #deleting the column with the ages"
   ]
  },
  {
   "cell_type": "code",
   "execution_count": 75,
   "id": "b74da447",
   "metadata": {},
   "outputs": [
    {
     "data": {
      "text/html": [
       "<div>\n",
       "<style scoped>\n",
       "    .dataframe tbody tr th:only-of-type {\n",
       "        vertical-align: middle;\n",
       "    }\n",
       "\n",
       "    .dataframe tbody tr th {\n",
       "        vertical-align: top;\n",
       "    }\n",
       "\n",
       "    .dataframe thead th {\n",
       "        text-align: right;\n",
       "    }\n",
       "</style>\n",
       "<table border=\"1\" class=\"dataframe\">\n",
       "  <thead>\n",
       "    <tr style=\"text-align: right;\">\n",
       "      <th></th>\n",
       "      <th>CustGender</th>\n",
       "      <th>CustAccountBalance</th>\n",
       "      <th>TransactionAmount (INR)</th>\n",
       "      <th>CustomerClassAge</th>\n",
       "    </tr>\n",
       "  </thead>\n",
       "  <tbody>\n",
       "    <tr>\n",
       "      <th>0</th>\n",
       "      <td>M</td>\n",
       "      <td>94695.61</td>\n",
       "      <td>65.0</td>\n",
       "      <td>age_5</td>\n",
       "    </tr>\n",
       "    <tr>\n",
       "      <th>1</th>\n",
       "      <td>M</td>\n",
       "      <td>7584.09</td>\n",
       "      <td>6025.0</td>\n",
       "      <td>age_2</td>\n",
       "    </tr>\n",
       "    <tr>\n",
       "      <th>2</th>\n",
       "      <td>M</td>\n",
       "      <td>7180.60</td>\n",
       "      <td>541.5</td>\n",
       "      <td>age_2</td>\n",
       "    </tr>\n",
       "    <tr>\n",
       "      <th>3</th>\n",
       "      <td>M</td>\n",
       "      <td>56847.75</td>\n",
       "      <td>1000.0</td>\n",
       "      <td>age_3</td>\n",
       "    </tr>\n",
       "    <tr>\n",
       "      <th>4</th>\n",
       "      <td>M</td>\n",
       "      <td>84950.13</td>\n",
       "      <td>80.0</td>\n",
       "      <td>age_2</td>\n",
       "    </tr>\n",
       "  </tbody>\n",
       "</table>\n",
       "</div>"
      ],
      "text/plain": [
       "  CustGender  CustAccountBalance  TransactionAmount (INR) CustomerClassAge\n",
       "0          M            94695.61                     65.0            age_5\n",
       "1          M             7584.09                   6025.0            age_2\n",
       "2          M             7180.60                    541.5            age_2\n",
       "3          M            56847.75                   1000.0            age_3\n",
       "4          M            84950.13                     80.0            age_2"
      ]
     },
     "execution_count": 75,
     "metadata": {},
     "output_type": "execute_result"
    }
   ],
   "source": [
    "query.head()"
   ]
  },
  {
   "cell_type": "markdown",
   "id": "d3c1c72f",
   "metadata": {},
   "source": [
    "Now it's the turn of the column of richness. In this case we cannot use the quantiles to divide into bins the account balance of the customer cause it will be a different results from the classes of the point 1.1. For this reason we used the bins that we saved in point 1.1 and the function pd.cut that binned the values with the bins we insert labelling them with the labels we want. "
   ]
  },
  {
   "cell_type": "code",
   "execution_count": 76,
   "id": "7e0ef813",
   "metadata": {},
   "outputs": [],
   "source": [
    "bin_labels = ['richness_0', 'richness_1', 'richness_2', 'richness_3', 'richness_4', 'richness_5', 'richness_6', 'richness_7', 'richness_8', 'richness_9', 'richness_10']"
   ]
  },
  {
   "cell_type": "markdown",
   "id": "7b4462d8",
   "metadata": {},
   "source": [
    "We recalled from memory the bins of the classes of richness:"
   ]
  },
  {
   "cell_type": "code",
   "execution_count": 77,
   "id": "bed58616",
   "metadata": {},
   "outputs": [],
   "source": [
    "%store -r query_bins_richness  "
   ]
  },
  {
   "cell_type": "code",
   "execution_count": 78,
   "id": "f6e83732",
   "metadata": {},
   "outputs": [],
   "source": [
    "#create the column with the classes of richness:\n",
    "\n",
    "query['Richness'] = pd.cut(query.CustAccountBalance, bins = query_bins_richness, labels=bin_labels, right=False)"
   ]
  },
  {
   "cell_type": "code",
   "execution_count": 79,
   "id": "bbbbea49",
   "metadata": {},
   "outputs": [],
   "source": [
    "del query['CustAccountBalance'] #deleting the column that we don't need"
   ]
  },
  {
   "cell_type": "code",
   "execution_count": 80,
   "id": "544e2661",
   "metadata": {},
   "outputs": [
    {
     "data": {
      "text/html": [
       "<div>\n",
       "<style scoped>\n",
       "    .dataframe tbody tr th:only-of-type {\n",
       "        vertical-align: middle;\n",
       "    }\n",
       "\n",
       "    .dataframe tbody tr th {\n",
       "        vertical-align: top;\n",
       "    }\n",
       "\n",
       "    .dataframe thead th {\n",
       "        text-align: right;\n",
       "    }\n",
       "</style>\n",
       "<table border=\"1\" class=\"dataframe\">\n",
       "  <thead>\n",
       "    <tr style=\"text-align: right;\">\n",
       "      <th></th>\n",
       "      <th>CustGender</th>\n",
       "      <th>TransactionAmount (INR)</th>\n",
       "      <th>CustomerClassAge</th>\n",
       "      <th>Richness</th>\n",
       "    </tr>\n",
       "  </thead>\n",
       "  <tbody>\n",
       "    <tr>\n",
       "      <th>0</th>\n",
       "      <td>M</td>\n",
       "      <td>65.0</td>\n",
       "      <td>age_5</td>\n",
       "      <td>richness_9</td>\n",
       "    </tr>\n",
       "    <tr>\n",
       "      <th>1</th>\n",
       "      <td>M</td>\n",
       "      <td>6025.0</td>\n",
       "      <td>age_2</td>\n",
       "      <td>richness_4</td>\n",
       "    </tr>\n",
       "    <tr>\n",
       "      <th>2</th>\n",
       "      <td>M</td>\n",
       "      <td>541.5</td>\n",
       "      <td>age_2</td>\n",
       "      <td>richness_4</td>\n",
       "    </tr>\n",
       "    <tr>\n",
       "      <th>3</th>\n",
       "      <td>M</td>\n",
       "      <td>1000.0</td>\n",
       "      <td>age_3</td>\n",
       "      <td>richness_8</td>\n",
       "    </tr>\n",
       "    <tr>\n",
       "      <th>4</th>\n",
       "      <td>M</td>\n",
       "      <td>80.0</td>\n",
       "      <td>age_2</td>\n",
       "      <td>richness_9</td>\n",
       "    </tr>\n",
       "  </tbody>\n",
       "</table>\n",
       "</div>"
      ],
      "text/plain": [
       "  CustGender  TransactionAmount (INR) CustomerClassAge    Richness\n",
       "0          M                     65.0            age_5  richness_9\n",
       "1          M                   6025.0            age_2  richness_4\n",
       "2          M                    541.5            age_2  richness_4\n",
       "3          M                   1000.0            age_3  richness_8\n",
       "4          M                     80.0            age_2  richness_9"
      ]
     },
     "execution_count": 80,
     "metadata": {},
     "output_type": "execute_result"
    }
   ],
   "source": [
    "query.head() #check the result"
   ]
  },
  {
   "cell_type": "markdown",
   "id": "e374cec6",
   "metadata": {},
   "source": [
    "We repeated the same procedure of the richness for the expenditure class:"
   ]
  },
  {
   "cell_type": "code",
   "execution_count": 81,
   "id": "9b26907e",
   "metadata": {},
   "outputs": [],
   "source": [
    "%store -r query_bins_expenditure"
   ]
  },
  {
   "cell_type": "code",
   "execution_count": 82,
   "id": "c0e0c515",
   "metadata": {},
   "outputs": [],
   "source": [
    "#create the column expenditure\n",
    "\n",
    "bin_labels = ['exp_1', 'exp_2', 'exp_3', 'exp_4', 'exp_5', 'exp_6', 'exp_7', 'exp_8', 'exp_9', 'exp_10']\n",
    "\n",
    "query['Expenditure'] = pd.cut(query['TransactionAmount (INR)'], bins = query_bins_expenditure, labels=bin_labels, right=False)"
   ]
  },
  {
   "cell_type": "code",
   "execution_count": 83,
   "id": "1e8dc6f2",
   "metadata": {},
   "outputs": [],
   "source": [
    "del query['TransactionAmount (INR)'] #deleting the column that we don't need"
   ]
  },
  {
   "cell_type": "code",
   "execution_count": 84,
   "id": "c85841d7",
   "metadata": {},
   "outputs": [
    {
     "data": {
      "text/html": [
       "<div>\n",
       "<style scoped>\n",
       "    .dataframe tbody tr th:only-of-type {\n",
       "        vertical-align: middle;\n",
       "    }\n",
       "\n",
       "    .dataframe tbody tr th {\n",
       "        vertical-align: top;\n",
       "    }\n",
       "\n",
       "    .dataframe thead th {\n",
       "        text-align: right;\n",
       "    }\n",
       "</style>\n",
       "<table border=\"1\" class=\"dataframe\">\n",
       "  <thead>\n",
       "    <tr style=\"text-align: right;\">\n",
       "      <th></th>\n",
       "      <th>CustGender</th>\n",
       "      <th>CustomerClassAge</th>\n",
       "      <th>Richness</th>\n",
       "      <th>Expenditure</th>\n",
       "    </tr>\n",
       "  </thead>\n",
       "  <tbody>\n",
       "    <tr>\n",
       "      <th>0</th>\n",
       "      <td>M</td>\n",
       "      <td>age_5</td>\n",
       "      <td>richness_9</td>\n",
       "      <td>exp_2</td>\n",
       "    </tr>\n",
       "    <tr>\n",
       "      <th>1</th>\n",
       "      <td>M</td>\n",
       "      <td>age_2</td>\n",
       "      <td>richness_4</td>\n",
       "      <td>exp_10</td>\n",
       "    </tr>\n",
       "    <tr>\n",
       "      <th>2</th>\n",
       "      <td>M</td>\n",
       "      <td>age_2</td>\n",
       "      <td>richness_4</td>\n",
       "      <td>exp_6</td>\n",
       "    </tr>\n",
       "    <tr>\n",
       "      <th>3</th>\n",
       "      <td>M</td>\n",
       "      <td>age_3</td>\n",
       "      <td>richness_8</td>\n",
       "      <td>exp_8</td>\n",
       "    </tr>\n",
       "    <tr>\n",
       "      <th>4</th>\n",
       "      <td>M</td>\n",
       "      <td>age_2</td>\n",
       "      <td>richness_9</td>\n",
       "      <td>exp_2</td>\n",
       "    </tr>\n",
       "  </tbody>\n",
       "</table>\n",
       "</div>"
      ],
      "text/plain": [
       "  CustGender CustomerClassAge    Richness Expenditure\n",
       "0          M            age_5  richness_9       exp_2\n",
       "1          M            age_2  richness_4      exp_10\n",
       "2          M            age_2  richness_4       exp_6\n",
       "3          M            age_3  richness_8       exp_8\n",
       "4          M            age_2  richness_9       exp_2"
      ]
     },
     "execution_count": 84,
     "metadata": {},
     "output_type": "execute_result"
    }
   ],
   "source": [
    "query.head() #check the result"
   ]
  },
  {
   "cell_type": "markdown",
   "id": "56f73a25",
   "metadata": {},
   "source": [
    "The last step that we decided to make is to give a name to this customer -> Query_User_i where i goes from 0 to 49:"
   ]
  },
  {
   "cell_type": "code",
   "execution_count": 85,
   "id": "8e10fdf1",
   "metadata": {
    "scrolled": true
   },
   "outputs": [],
   "source": [
    "#create two column and combine them to create the name:\n",
    "\n",
    "query['sub'] = 'Query_User_' #prefix\n",
    "\n",
    "query['num'] = range(50) #numbers\n",
    "\n",
    "query['New_ID'] = query['sub'] + query['num'].astype(str) #concatenating prefix and number\n",
    "\n",
    "del query['num'], query['sub'] #deleting the prefix and the numbers"
   ]
  },
  {
   "cell_type": "code",
   "execution_count": 86,
   "id": "d4dc19ab",
   "metadata": {},
   "outputs": [],
   "source": [
    "query = query[['New_ID', 'CustGender', 'CustomerClassAge', 'Richness', 'Expenditure']] #reorder the column"
   ]
  },
  {
   "cell_type": "code",
   "execution_count": 87,
   "id": "fc473082",
   "metadata": {},
   "outputs": [
    {
     "data": {
      "text/html": [
       "<div>\n",
       "<style scoped>\n",
       "    .dataframe tbody tr th:only-of-type {\n",
       "        vertical-align: middle;\n",
       "    }\n",
       "\n",
       "    .dataframe tbody tr th {\n",
       "        vertical-align: top;\n",
       "    }\n",
       "\n",
       "    .dataframe thead th {\n",
       "        text-align: right;\n",
       "    }\n",
       "</style>\n",
       "<table border=\"1\" class=\"dataframe\">\n",
       "  <thead>\n",
       "    <tr style=\"text-align: right;\">\n",
       "      <th></th>\n",
       "      <th>New_ID</th>\n",
       "      <th>CustGender</th>\n",
       "      <th>CustomerClassAge</th>\n",
       "      <th>Richness</th>\n",
       "      <th>Expenditure</th>\n",
       "    </tr>\n",
       "  </thead>\n",
       "  <tbody>\n",
       "    <tr>\n",
       "      <th>0</th>\n",
       "      <td>Query_User_0</td>\n",
       "      <td>M</td>\n",
       "      <td>age_5</td>\n",
       "      <td>richness_9</td>\n",
       "      <td>exp_2</td>\n",
       "    </tr>\n",
       "    <tr>\n",
       "      <th>1</th>\n",
       "      <td>Query_User_1</td>\n",
       "      <td>M</td>\n",
       "      <td>age_2</td>\n",
       "      <td>richness_4</td>\n",
       "      <td>exp_10</td>\n",
       "    </tr>\n",
       "    <tr>\n",
       "      <th>2</th>\n",
       "      <td>Query_User_2</td>\n",
       "      <td>M</td>\n",
       "      <td>age_2</td>\n",
       "      <td>richness_4</td>\n",
       "      <td>exp_6</td>\n",
       "    </tr>\n",
       "    <tr>\n",
       "      <th>3</th>\n",
       "      <td>Query_User_3</td>\n",
       "      <td>M</td>\n",
       "      <td>age_3</td>\n",
       "      <td>richness_8</td>\n",
       "      <td>exp_8</td>\n",
       "    </tr>\n",
       "    <tr>\n",
       "      <th>4</th>\n",
       "      <td>Query_User_4</td>\n",
       "      <td>M</td>\n",
       "      <td>age_2</td>\n",
       "      <td>richness_9</td>\n",
       "      <td>exp_2</td>\n",
       "    </tr>\n",
       "  </tbody>\n",
       "</table>\n",
       "</div>"
      ],
      "text/plain": [
       "         New_ID CustGender CustomerClassAge    Richness Expenditure\n",
       "0  Query_User_0          M            age_5  richness_9       exp_2\n",
       "1  Query_User_1          M            age_2  richness_4      exp_10\n",
       "2  Query_User_2          M            age_2  richness_4       exp_6\n",
       "3  Query_User_3          M            age_3  richness_8       exp_8\n",
       "4  Query_User_4          M            age_2  richness_9       exp_2"
      ]
     },
     "execution_count": 87,
     "metadata": {},
     "output_type": "execute_result"
    }
   ],
   "source": [
    "query.head() #cheching the result query dataset"
   ]
  },
  {
   "cell_type": "markdown",
   "id": "d1f30809",
   "metadata": {},
   "source": [
    "# 1.3.2 Execute the query step by step."
   ]
  },
  {
   "cell_type": "markdown",
   "id": "f8583dce",
   "metadata": {},
   "source": [
    "To execute the query and return as output the most similar customer to each query we need to do the same MinHash procedure with the same type of shuffling to the rows. Such that the algorithm to divide into bucket is fast (less than 40 seconds) we decided to add the new shingle matrix (shingle query) to the shingle matrix of the initial dataset as new columns and to re-execute the bucket procedure. Then we will create a function that takes as input the the name of the query and gives as output the buckets that contain the most similar users to him:"
   ]
  },
  {
   "cell_type": "markdown",
   "id": "25e78e0f",
   "metadata": {},
   "source": [
    "First of all we define the shingles:"
   ]
  },
  {
   "cell_type": "code",
   "execution_count": 95,
   "id": "42f98498",
   "metadata": {},
   "outputs": [],
   "source": [
    "shingles = ['F', 'M', 'age_1', 'age_10', 'age_11', 'age_12', 'age_13', 'age_14', 'age_15', 'age_16', 'age_17', 'age_2', 'age_3', 'age_4', 'age_5', 'age_6', 'age_7', 'age_8', 'age_9', 'richness_0', 'richness_1', 'richness_10', 'richness_2', 'richness_3', 'richness_4', 'richness_5', 'richness_6', 'richness_7', 'richness_8', 'richness_9', 'exp_1', 'exp_10', 'exp_2', 'exp_3', 'exp_4', 'exp_5', 'exp_6', 'exp_7', 'exp_8', 'exp_9']"
   ]
  },
  {
   "cell_type": "markdown",
   "id": "4621b8f5",
   "metadata": {},
   "source": [
    "We build the shingle query using the 'one_hot_vector' function:"
   ]
  },
  {
   "cell_type": "code",
   "execution_count": 96,
   "id": "d1ead64f",
   "metadata": {},
   "outputs": [
    {
     "name": "stderr",
     "output_type": "stream",
     "text": [
      "100%|█████████████████████████████████████████| 50/50 [00:00<00:00, 1026.82it/s]\n"
     ]
    }
   ],
   "source": [
    "shingle_query = np.zeros((len(query), 40), dtype = int)\n",
    "\n",
    "for i in tq(range(len(query))):\n",
    "    # Append the one hot vectors as rows\n",
    "    shingle_query[query.index[i]] = one_hot_vector(query, i) \n",
    "\n",
    "# We need to transpose because for the shuffling, the Shingles need to be the rows\n",
    "shingle_query = shingle_query.T"
   ]
  },
  {
   "cell_type": "markdown",
   "id": "fb424bc4",
   "metadata": {},
   "source": [
    "An example to see if it worked properly:"
   ]
  },
  {
   "cell_type": "code",
   "execution_count": 97,
   "id": "56773908",
   "metadata": {},
   "outputs": [
    {
     "data": {
      "text/plain": [
       "New_ID              Query_User_1\n",
       "CustGender                     M\n",
       "CustomerClassAge           age_2\n",
       "Richness              richness_4\n",
       "Expenditure               exp_10\n",
       "Name: 1, dtype: object"
      ]
     },
     "execution_count": 97,
     "metadata": {},
     "output_type": "execute_result"
    }
   ],
   "source": [
    "query.loc[1]"
   ]
  },
  {
   "cell_type": "code",
   "execution_count": 98,
   "id": "d1d8ba16",
   "metadata": {},
   "outputs": [
    {
     "name": "stdout",
     "output_type": "stream",
     "text": [
      "['F', 'M', 'age_1', 'age_10', 'age_11', 'age_12', 'age_13', 'age_14', 'age_15', 'age_16', 'age_17', 'age_2', 'age_3', 'age_4', 'age_5', 'age_6', 'age_7', 'age_8', 'age_9', 'richness_0', 'richness_1', 'richness_10', 'richness_2', 'richness_3', 'richness_4', 'richness_5', 'richness_6', 'richness_7', 'richness_8', 'richness_9', 'exp_1', 'exp_10', 'exp_2', 'exp_3', 'exp_4', 'exp_5', 'exp_6', 'exp_7', 'exp_8', 'exp_9']\n"
     ]
    }
   ],
   "source": [
    "print(shingles)"
   ]
  },
  {
   "cell_type": "code",
   "execution_count": 99,
   "id": "028cb82d",
   "metadata": {},
   "outputs": [
    {
     "data": {
      "text/plain": [
       "array([0, 1, 0, 0, 0, 0, 0, 0, 0, 0, 0, 1, 0, 0, 0, 0, 0, 0, 0, 0, 0, 0,\n",
       "       0, 0, 1, 0, 0, 0, 0, 0, 0, 1, 0, 0, 0, 0, 0, 0, 0, 0])"
      ]
     },
     "execution_count": 99,
     "metadata": {},
     "output_type": "execute_result"
    }
   ],
   "source": [
    "shingle_query[:, 1]"
   ]
  },
  {
   "cell_type": "markdown",
   "id": "5445686a",
   "metadata": {},
   "source": [
    "Then we concatenate the shingle query matrix to the initial shingle matrix: "
   ]
  },
  {
   "cell_type": "code",
   "execution_count": 100,
   "id": "259124a3",
   "metadata": {},
   "outputs": [],
   "source": [
    "%store -r shingle_matrix"
   ]
  },
  {
   "cell_type": "code",
   "execution_count": 101,
   "id": "bd32c95d",
   "metadata": {},
   "outputs": [
    {
     "data": {
      "text/plain": [
       "(40, 1034952)"
      ]
     },
     "execution_count": 101,
     "metadata": {},
     "output_type": "execute_result"
    }
   ],
   "source": [
    "shingle_matrix.shape"
   ]
  },
  {
   "cell_type": "code",
   "execution_count": 102,
   "id": "df11974e",
   "metadata": {},
   "outputs": [
    {
     "data": {
      "text/plain": [
       "(40, 50)"
      ]
     },
     "execution_count": 102,
     "metadata": {},
     "output_type": "execute_result"
    }
   ],
   "source": [
    "shingle_query.shape"
   ]
  },
  {
   "cell_type": "code",
   "execution_count": 103,
   "id": "47072cdb",
   "metadata": {},
   "outputs": [],
   "source": [
    "new_shingle_matrix = np.concatenate((shingle_matrix, shingle_query), axis = 1) #concatenate the two matrix"
   ]
  },
  {
   "cell_type": "code",
   "execution_count": 104,
   "id": "0d756a5b",
   "metadata": {},
   "outputs": [
    {
     "data": {
      "text/plain": [
       "(40, 1035002)"
      ]
     },
     "execution_count": 104,
     "metadata": {},
     "output_type": "execute_result"
    }
   ],
   "source": [
    "new_shingle_matrix.shape"
   ]
  },
  {
   "cell_type": "markdown",
   "id": "8b7547a8",
   "metadata": {},
   "source": [
    "Now we can repeat the same MinHash procedure to build the signature matrix: "
   ]
  },
  {
   "cell_type": "code",
   "execution_count": 105,
   "id": "0e364f22",
   "metadata": {},
   "outputs": [
    {
     "name": "stderr",
     "output_type": "stream",
     "text": [
      "100%|███████████████████████████████████████████| 20/20 [00:37<00:00,  1.86s/it]\n"
     ]
    }
   ],
   "source": [
    "n_permutations = 20 #number of permutations = number of rows of the signature matrix\n",
    "\n",
    "new_signature_matrix = np.zeros((20, new_shingle_matrix.shape[1]), dtype = int) #initialize signature matrix\n",
    "\n",
    "for i in tq(range(n_permutations)):\n",
    "    # 1. Shuffle rows\n",
    "    np.random.shuffle(new_shingle_matrix)\n",
    "    \n",
    "    # 2. Create the vector of indeces where the first 1 is found. np.argmax stops at the first occurrence\n",
    "    signature_row = np.argmax(new_shingle_matrix == 1, axis=0) + 1\n",
    "    \n",
    "    # 3. Add to signature matrix\n",
    "    new_signature_matrix[i] = signature_row\n"
   ]
  },
  {
   "cell_type": "markdown",
   "id": "873ea4d5",
   "metadata": {},
   "source": [
    "To use the substitute keys function we need to add to the initial dataframe the data related to the query: "
   ]
  },
  {
   "cell_type": "code",
   "execution_count": 107,
   "id": "0071bcfc",
   "metadata": {},
   "outputs": [],
   "source": [
    "df = df.append(query, ignore_index = True) #append query dataframe to the initial dataframe"
   ]
  },
  {
   "cell_type": "code",
   "execution_count": 108,
   "id": "822bc94c",
   "metadata": {},
   "outputs": [
    {
     "data": {
      "text/html": [
       "<div>\n",
       "<style scoped>\n",
       "    .dataframe tbody tr th:only-of-type {\n",
       "        vertical-align: middle;\n",
       "    }\n",
       "\n",
       "    .dataframe tbody tr th {\n",
       "        vertical-align: top;\n",
       "    }\n",
       "\n",
       "    .dataframe thead th {\n",
       "        text-align: right;\n",
       "    }\n",
       "</style>\n",
       "<table border=\"1\" class=\"dataframe\">\n",
       "  <thead>\n",
       "    <tr style=\"text-align: right;\">\n",
       "      <th></th>\n",
       "      <th>New_ID</th>\n",
       "      <th>CustGender</th>\n",
       "      <th>CustomerClassAge</th>\n",
       "      <th>Richness</th>\n",
       "      <th>Expenditure</th>\n",
       "    </tr>\n",
       "  </thead>\n",
       "  <tbody>\n",
       "    <tr>\n",
       "      <th>0</th>\n",
       "      <td>C1010011F24</td>\n",
       "      <td>F</td>\n",
       "      <td>age_2</td>\n",
       "      <td>richness_7</td>\n",
       "      <td>exp_10</td>\n",
       "    </tr>\n",
       "    <tr>\n",
       "      <th>1</th>\n",
       "      <td>C1010011M33</td>\n",
       "      <td>M</td>\n",
       "      <td>age_4</td>\n",
       "      <td>richness_9</td>\n",
       "      <td>exp_5</td>\n",
       "    </tr>\n",
       "    <tr>\n",
       "      <th>2</th>\n",
       "      <td>C1010012M22</td>\n",
       "      <td>M</td>\n",
       "      <td>age_2</td>\n",
       "      <td>richness_6</td>\n",
       "      <td>exp_8</td>\n",
       "    </tr>\n",
       "    <tr>\n",
       "      <th>3</th>\n",
       "      <td>C1010014F24</td>\n",
       "      <td>F</td>\n",
       "      <td>age_2</td>\n",
       "      <td>richness_7</td>\n",
       "      <td>exp_8</td>\n",
       "    </tr>\n",
       "    <tr>\n",
       "      <th>4</th>\n",
       "      <td>C1010014M32</td>\n",
       "      <td>M</td>\n",
       "      <td>age_4</td>\n",
       "      <td>richness_9</td>\n",
       "      <td>exp_4</td>\n",
       "    </tr>\n",
       "    <tr>\n",
       "      <th>...</th>\n",
       "      <td>...</td>\n",
       "      <td>...</td>\n",
       "      <td>...</td>\n",
       "      <td>...</td>\n",
       "      <td>...</td>\n",
       "    </tr>\n",
       "    <tr>\n",
       "      <th>1034997</th>\n",
       "      <td>Query_User_45</td>\n",
       "      <td>F</td>\n",
       "      <td>age_3</td>\n",
       "      <td>richness_10</td>\n",
       "      <td>exp_4</td>\n",
       "    </tr>\n",
       "    <tr>\n",
       "      <th>1034998</th>\n",
       "      <td>Query_User_46</td>\n",
       "      <td>M</td>\n",
       "      <td>age_6</td>\n",
       "      <td>richness_6</td>\n",
       "      <td>exp_2</td>\n",
       "    </tr>\n",
       "    <tr>\n",
       "      <th>1034999</th>\n",
       "      <td>Query_User_47</td>\n",
       "      <td>M</td>\n",
       "      <td>age_2</td>\n",
       "      <td>richness_10</td>\n",
       "      <td>exp_2</td>\n",
       "    </tr>\n",
       "    <tr>\n",
       "      <th>1035000</th>\n",
       "      <td>Query_User_48</td>\n",
       "      <td>F</td>\n",
       "      <td>age_2</td>\n",
       "      <td>richness_4</td>\n",
       "      <td>exp_8</td>\n",
       "    </tr>\n",
       "    <tr>\n",
       "      <th>1035001</th>\n",
       "      <td>Query_User_49</td>\n",
       "      <td>M</td>\n",
       "      <td>age_3</td>\n",
       "      <td>richness_5</td>\n",
       "      <td>exp_4</td>\n",
       "    </tr>\n",
       "  </tbody>\n",
       "</table>\n",
       "<p>1035002 rows × 5 columns</p>\n",
       "</div>"
      ],
      "text/plain": [
       "                New_ID CustGender CustomerClassAge     Richness Expenditure\n",
       "0          C1010011F24          F            age_2   richness_7      exp_10\n",
       "1          C1010011M33          M            age_4   richness_9       exp_5\n",
       "2          C1010012M22          M            age_2   richness_6       exp_8\n",
       "3          C1010014F24          F            age_2   richness_7       exp_8\n",
       "4          C1010014M32          M            age_4   richness_9       exp_4\n",
       "...                ...        ...              ...          ...         ...\n",
       "1034997  Query_User_45          F            age_3  richness_10       exp_4\n",
       "1034998  Query_User_46          M            age_6   richness_6       exp_2\n",
       "1034999  Query_User_47          M            age_2  richness_10       exp_2\n",
       "1035000  Query_User_48          F            age_2   richness_4       exp_8\n",
       "1035001  Query_User_49          M            age_3   richness_5       exp_4\n",
       "\n",
       "[1035002 rows x 5 columns]"
      ]
     },
     "execution_count": 108,
     "metadata": {},
     "output_type": "execute_result"
    }
   ],
   "source": [
    "df"
   ]
  },
  {
   "cell_type": "markdown",
   "id": "5711030c",
   "metadata": {},
   "source": [
    "We choose the band size b and then we can created the dictionary with the buckets:"
   ]
  },
  {
   "cell_type": "code",
   "execution_count": 106,
   "id": "dc4c0f04",
   "metadata": {},
   "outputs": [
    {
     "data": {
      "text/plain": [
       "(20, 1035002)"
      ]
     },
     "execution_count": 106,
     "metadata": {},
     "output_type": "execute_result"
    }
   ],
   "source": [
    "new_signature_matrix.shape #shape of the new matrix"
   ]
  },
  {
   "cell_type": "code",
   "execution_count": 196,
   "id": "2fa59b80",
   "metadata": {},
   "outputs": [
    {
     "name": "stderr",
     "output_type": "stream",
     "text": [
      "100%|█████████████████████████████████████████████| 5/5 [00:56<00:00, 11.37s/it]\n"
     ]
    },
    {
     "name": "stdout",
     "output_type": "stream",
     "text": [
      "The number of buckets is  4683\n"
     ]
    },
    {
     "data": {
      "text/html": [
       "<div>\n",
       "<style scoped>\n",
       "    .dataframe tbody tr th:only-of-type {\n",
       "        vertical-align: middle;\n",
       "    }\n",
       "\n",
       "    .dataframe tbody tr th {\n",
       "        vertical-align: top;\n",
       "    }\n",
       "\n",
       "    .dataframe thead th {\n",
       "        text-align: right;\n",
       "    }\n",
       "</style>\n",
       "<table border=\"1\" class=\"dataframe\">\n",
       "  <thead>\n",
       "    <tr style=\"text-align: right;\">\n",
       "      <th></th>\n",
       "      <th>New_ID</th>\n",
       "      <th>CustGender</th>\n",
       "      <th>CustomerClassAge</th>\n",
       "      <th>Richness</th>\n",
       "      <th>Expenditure</th>\n",
       "    </tr>\n",
       "  </thead>\n",
       "  <tbody>\n",
       "    <tr>\n",
       "      <th>509</th>\n",
       "      <td>C1011553M30</td>\n",
       "      <td>M</td>\n",
       "      <td>age_3</td>\n",
       "      <td>richness_2</td>\n",
       "      <td>exp_8</td>\n",
       "    </tr>\n",
       "    <tr>\n",
       "      <th>735</th>\n",
       "      <td>C1012320M28</td>\n",
       "      <td>M</td>\n",
       "      <td>age_3</td>\n",
       "      <td>richness_2</td>\n",
       "      <td>exp_8</td>\n",
       "    </tr>\n",
       "    <tr>\n",
       "      <th>1183</th>\n",
       "      <td>C1013712M28</td>\n",
       "      <td>M</td>\n",
       "      <td>age_3</td>\n",
       "      <td>richness_2</td>\n",
       "      <td>exp_8</td>\n",
       "    </tr>\n",
       "    <tr>\n",
       "      <th>1716</th>\n",
       "      <td>C1015271M28</td>\n",
       "      <td>M</td>\n",
       "      <td>age_3</td>\n",
       "      <td>richness_2</td>\n",
       "      <td>exp_8</td>\n",
       "    </tr>\n",
       "    <tr>\n",
       "      <th>1817</th>\n",
       "      <td>C1015626M27</td>\n",
       "      <td>M</td>\n",
       "      <td>age_3</td>\n",
       "      <td>richness_2</td>\n",
       "      <td>exp_8</td>\n",
       "    </tr>\n",
       "    <tr>\n",
       "      <th>...</th>\n",
       "      <td>...</td>\n",
       "      <td>...</td>\n",
       "      <td>...</td>\n",
       "      <td>...</td>\n",
       "      <td>...</td>\n",
       "    </tr>\n",
       "    <tr>\n",
       "      <th>1030455</th>\n",
       "      <td>C9034686F27</td>\n",
       "      <td>F</td>\n",
       "      <td>age_3</td>\n",
       "      <td>richness_2</td>\n",
       "      <td>exp_8</td>\n",
       "    </tr>\n",
       "    <tr>\n",
       "      <th>1030557</th>\n",
       "      <td>C9035034F29</td>\n",
       "      <td>F</td>\n",
       "      <td>age_3</td>\n",
       "      <td>richness_2</td>\n",
       "      <td>exp_8</td>\n",
       "    </tr>\n",
       "    <tr>\n",
       "      <th>1031062</th>\n",
       "      <td>C9036665M29</td>\n",
       "      <td>M</td>\n",
       "      <td>age_3</td>\n",
       "      <td>richness_2</td>\n",
       "      <td>exp_8</td>\n",
       "    </tr>\n",
       "    <tr>\n",
       "      <th>1031803</th>\n",
       "      <td>C9038870M26</td>\n",
       "      <td>M</td>\n",
       "      <td>age_3</td>\n",
       "      <td>richness_2</td>\n",
       "      <td>exp_8</td>\n",
       "    </tr>\n",
       "    <tr>\n",
       "      <th>1032240</th>\n",
       "      <td>C9040324M30</td>\n",
       "      <td>M</td>\n",
       "      <td>age_3</td>\n",
       "      <td>richness_2</td>\n",
       "      <td>exp_8</td>\n",
       "    </tr>\n",
       "  </tbody>\n",
       "</table>\n",
       "<p>1950 rows × 5 columns</p>\n",
       "</div>"
      ],
      "text/plain": [
       "              New_ID CustGender CustomerClassAge    Richness Expenditure\n",
       "509      C1011553M30          M            age_3  richness_2       exp_8\n",
       "735      C1012320M28          M            age_3  richness_2       exp_8\n",
       "1183     C1013712M28          M            age_3  richness_2       exp_8\n",
       "1716     C1015271M28          M            age_3  richness_2       exp_8\n",
       "1817     C1015626M27          M            age_3  richness_2       exp_8\n",
       "...              ...        ...              ...         ...         ...\n",
       "1030455  C9034686F27          F            age_3  richness_2       exp_8\n",
       "1030557  C9035034F29          F            age_3  richness_2       exp_8\n",
       "1031062  C9036665M29          M            age_3  richness_2       exp_8\n",
       "1031803  C9038870M26          M            age_3  richness_2       exp_8\n",
       "1032240  C9040324M30          M            age_3  richness_2       exp_8\n",
       "\n",
       "[1950 rows x 5 columns]"
      ]
     },
     "execution_count": 196,
     "metadata": {},
     "output_type": "execute_result"
    }
   ],
   "source": [
    "cluster_query = create_buckets(4, new_signature_matrix) #create buckets with band size 4\n",
    "\n",
    "cluster_query = substitute_keys(cluster_query, df) #substitute index with customer names\n",
    "\n",
    "print('The number of buckets is ', len(cluster_query))\n",
    "\n",
    "df[df['New_ID'].isin(cluster_query[list(cluster_query.keys())[0]])] "
   ]
  },
  {
   "cell_type": "markdown",
   "id": "8b2d5f4b",
   "metadata": {},
   "source": [
    "Then we created a function that takes as input the name of the query and gives as result the keys of the buckets in which it's contained: "
   ]
  },
  {
   "cell_type": "code",
   "execution_count": 199,
   "id": "c1db3fff",
   "metadata": {},
   "outputs": [],
   "source": [
    "def search_bucket(name):\n",
    "    \n",
    "    index = [] #initialize the list of keys where the name is found\n",
    "    \n",
    "    keys = list(cluster_query.keys()) #list of keys of buckets\n",
    "\n",
    "    values = list(cluster_query.values()) #list of values of buckets\n",
    "\n",
    "    for i, v in enumerate(values):\n",
    "        \n",
    "        if name in v:\n",
    "            \n",
    "            index.append(keys[i]) #append the keys where the name is found\n",
    "            \n",
    "    return index "
   ]
  },
  {
   "cell_type": "markdown",
   "id": "08f5ee69",
   "metadata": {},
   "source": [
    "Now we decided to create a dictionary where we store as keys the name of the query customer and as values a list buckets (keys of 'cluster_query') where the query customer is inserted. Through them we can find groups of customer similar to the queries: "
   ]
  },
  {
   "cell_type": "code",
   "execution_count": 200,
   "id": "b829f697",
   "metadata": {},
   "outputs": [],
   "source": [
    "query_buckets = {} #initialize query_bucket\n",
    "\n",
    "queries_name = list(df.iloc[-50:]['New_ID']) #list of query customer name\n",
    "\n",
    "for q in queries_name:\n",
    "    \n",
    "    query_buckets[q] = search_bucket(q) #keys = query customer name, values = list of bucket where it's found"
   ]
  },
  {
   "cell_type": "markdown",
   "id": "68e29142",
   "metadata": {},
   "source": [
    "The work is done! "
   ]
  },
  {
   "cell_type": "markdown",
   "id": "5b1efa8b",
   "metadata": {},
   "source": [
    "To see the group of all the similar customers to a query we define a function that takes as input the name of the query and give as output the group of similar customers:"
   ]
  },
  {
   "cell_type": "code",
   "execution_count": 205,
   "id": "6980ecf9",
   "metadata": {},
   "outputs": [],
   "source": [
    "def similar_to_query(query_name):\n",
    "    \n",
    "    keys = query_buckets[query_name] #list of bucket keys of where the name is found\n",
    "    \n",
    "    similar_customers = {}  #initialize a dict: keys = name of the group, values = similar customer to the query\n",
    "    \n",
    "    for i,k in enumerate(keys):\n",
    "        \n",
    "        similar_customers['Group_' + str(i)] = cluster_query[k] #build the dictionary\n",
    "       \n",
    "    return similar_customers"
   ]
  },
  {
   "cell_type": "code",
   "execution_count": 209,
   "id": "c21274c2",
   "metadata": {},
   "outputs": [
    {
     "name": "stdout",
     "output_type": "stream",
     "text": [
      "{'Group_0': ['Query_User_34'], 'Group_1': ['Query_User_1', 'Query_User_7', 'Query_User_34', 'Query_User_47'], 'Group_2': ['Query_User_34'], 'Group_3': ['C1530761F77', 'C2633565M77', 'C2722384F76', 'C2911021M77', 'C3333537M77', 'C4011090M77', 'C6515330M79', 'C6533526M77', 'C6948022F77', 'C7815329M79', 'C8221631M77', 'C8918537M77', 'Query_User_20', 'Query_User_31', 'Query_User_34'], 'Group_4': ['C1213252F88', 'C7713218F88', 'Query_User_31', 'Query_User_34']}\n"
     ]
    }
   ],
   "source": [
    "print(similar_to_query('Query_User_34'))"
   ]
  },
  {
   "cell_type": "markdown",
   "id": "b8966962",
   "metadata": {},
   "source": [
    "For example we can take one of the members of a group and compare them to the query user: "
   ]
  },
  {
   "cell_type": "code",
   "execution_count": 210,
   "id": "993741d1",
   "metadata": {},
   "outputs": [
    {
     "data": {
      "text/html": [
       "<div>\n",
       "<style scoped>\n",
       "    .dataframe tbody tr th:only-of-type {\n",
       "        vertical-align: middle;\n",
       "    }\n",
       "\n",
       "    .dataframe tbody tr th {\n",
       "        vertical-align: top;\n",
       "    }\n",
       "\n",
       "    .dataframe thead th {\n",
       "        text-align: right;\n",
       "    }\n",
       "</style>\n",
       "<table border=\"1\" class=\"dataframe\">\n",
       "  <thead>\n",
       "    <tr style=\"text-align: right;\">\n",
       "      <th></th>\n",
       "      <th>New_ID</th>\n",
       "      <th>CustGender</th>\n",
       "      <th>CustomerClassAge</th>\n",
       "      <th>Richness</th>\n",
       "      <th>Expenditure</th>\n",
       "    </tr>\n",
       "  </thead>\n",
       "  <tbody>\n",
       "    <tr>\n",
       "      <th>1034986</th>\n",
       "      <td>Query_User_34</td>\n",
       "      <td>M</td>\n",
       "      <td>age_2</td>\n",
       "      <td>richness_10</td>\n",
       "      <td>exp_10</td>\n",
       "    </tr>\n",
       "  </tbody>\n",
       "</table>\n",
       "</div>"
      ],
      "text/plain": [
       "                New_ID CustGender CustomerClassAge     Richness Expenditure\n",
       "1034986  Query_User_34          M            age_2  richness_10      exp_10"
      ]
     },
     "execution_count": 210,
     "metadata": {},
     "output_type": "execute_result"
    }
   ],
   "source": [
    "df[df['New_ID'] == 'Query_User_34']"
   ]
  },
  {
   "cell_type": "code",
   "execution_count": 208,
   "id": "82c47559",
   "metadata": {},
   "outputs": [
    {
     "data": {
      "text/html": [
       "<div>\n",
       "<style scoped>\n",
       "    .dataframe tbody tr th:only-of-type {\n",
       "        vertical-align: middle;\n",
       "    }\n",
       "\n",
       "    .dataframe tbody tr th {\n",
       "        vertical-align: top;\n",
       "    }\n",
       "\n",
       "    .dataframe thead th {\n",
       "        text-align: right;\n",
       "    }\n",
       "</style>\n",
       "<table border=\"1\" class=\"dataframe\">\n",
       "  <thead>\n",
       "    <tr style=\"text-align: right;\">\n",
       "      <th></th>\n",
       "      <th>New_ID</th>\n",
       "      <th>CustGender</th>\n",
       "      <th>CustomerClassAge</th>\n",
       "      <th>Richness</th>\n",
       "      <th>Expenditure</th>\n",
       "    </tr>\n",
       "  </thead>\n",
       "  <tbody>\n",
       "    <tr>\n",
       "      <th>70726</th>\n",
       "      <td>C1530761F77</td>\n",
       "      <td>F</td>\n",
       "      <td>age_13</td>\n",
       "      <td>richness_4</td>\n",
       "      <td>exp_10</td>\n",
       "    </tr>\n",
       "    <tr>\n",
       "      <th>211764</th>\n",
       "      <td>C2633565M77</td>\n",
       "      <td>M</td>\n",
       "      <td>age_13</td>\n",
       "      <td>richness_5</td>\n",
       "      <td>exp_10</td>\n",
       "    </tr>\n",
       "    <tr>\n",
       "      <th>220784</th>\n",
       "      <td>C2722384F76</td>\n",
       "      <td>F</td>\n",
       "      <td>age_13</td>\n",
       "      <td>richness_5</td>\n",
       "      <td>exp_10</td>\n",
       "    </tr>\n",
       "    <tr>\n",
       "      <th>242624</th>\n",
       "      <td>C2911021M77</td>\n",
       "      <td>M</td>\n",
       "      <td>age_13</td>\n",
       "      <td>richness_5</td>\n",
       "      <td>exp_10</td>\n",
       "    </tr>\n",
       "    <tr>\n",
       "      <th>301367</th>\n",
       "      <td>C3333537M77</td>\n",
       "      <td>M</td>\n",
       "      <td>age_13</td>\n",
       "      <td>richness_5</td>\n",
       "      <td>exp_10</td>\n",
       "    </tr>\n",
       "    <tr>\n",
       "      <th>383499</th>\n",
       "      <td>C4011090M77</td>\n",
       "      <td>M</td>\n",
       "      <td>age_13</td>\n",
       "      <td>richness_5</td>\n",
       "      <td>exp_10</td>\n",
       "    </tr>\n",
       "    <tr>\n",
       "      <th>703775</th>\n",
       "      <td>C6515330M79</td>\n",
       "      <td>M</td>\n",
       "      <td>age_13</td>\n",
       "      <td>richness_1</td>\n",
       "      <td>exp_10</td>\n",
       "    </tr>\n",
       "    <tr>\n",
       "      <th>709690</th>\n",
       "      <td>C6533526M77</td>\n",
       "      <td>M</td>\n",
       "      <td>age_13</td>\n",
       "      <td>richness_5</td>\n",
       "      <td>exp_10</td>\n",
       "    </tr>\n",
       "    <tr>\n",
       "      <th>764034</th>\n",
       "      <td>C6948022F77</td>\n",
       "      <td>F</td>\n",
       "      <td>age_13</td>\n",
       "      <td>richness_5</td>\n",
       "      <td>exp_10</td>\n",
       "    </tr>\n",
       "    <tr>\n",
       "      <th>870225</th>\n",
       "      <td>C7815329M79</td>\n",
       "      <td>M</td>\n",
       "      <td>age_13</td>\n",
       "      <td>richness_1</td>\n",
       "      <td>exp_10</td>\n",
       "    </tr>\n",
       "    <tr>\n",
       "      <th>923266</th>\n",
       "      <td>C8221631M77</td>\n",
       "      <td>M</td>\n",
       "      <td>age_13</td>\n",
       "      <td>richness_2</td>\n",
       "      <td>exp_10</td>\n",
       "    </tr>\n",
       "    <tr>\n",
       "      <th>1012095</th>\n",
       "      <td>C8918537M77</td>\n",
       "      <td>M</td>\n",
       "      <td>age_13</td>\n",
       "      <td>richness_1</td>\n",
       "      <td>exp_10</td>\n",
       "    </tr>\n",
       "    <tr>\n",
       "      <th>1034972</th>\n",
       "      <td>Query_User_20</td>\n",
       "      <td>F</td>\n",
       "      <td>age_4</td>\n",
       "      <td>richness_10</td>\n",
       "      <td>exp_10</td>\n",
       "    </tr>\n",
       "    <tr>\n",
       "      <th>1034983</th>\n",
       "      <td>Query_User_31</td>\n",
       "      <td>M</td>\n",
       "      <td>age_0</td>\n",
       "      <td>richness_10</td>\n",
       "      <td>exp_10</td>\n",
       "    </tr>\n",
       "    <tr>\n",
       "      <th>1034986</th>\n",
       "      <td>Query_User_34</td>\n",
       "      <td>M</td>\n",
       "      <td>age_2</td>\n",
       "      <td>richness_10</td>\n",
       "      <td>exp_10</td>\n",
       "    </tr>\n",
       "  </tbody>\n",
       "</table>\n",
       "</div>"
      ],
      "text/plain": [
       "                New_ID CustGender CustomerClassAge     Richness Expenditure\n",
       "70726      C1530761F77          F           age_13   richness_4      exp_10\n",
       "211764     C2633565M77          M           age_13   richness_5      exp_10\n",
       "220784     C2722384F76          F           age_13   richness_5      exp_10\n",
       "242624     C2911021M77          M           age_13   richness_5      exp_10\n",
       "301367     C3333537M77          M           age_13   richness_5      exp_10\n",
       "383499     C4011090M77          M           age_13   richness_5      exp_10\n",
       "703775     C6515330M79          M           age_13   richness_1      exp_10\n",
       "709690     C6533526M77          M           age_13   richness_5      exp_10\n",
       "764034     C6948022F77          F           age_13   richness_5      exp_10\n",
       "870225     C7815329M79          M           age_13   richness_1      exp_10\n",
       "923266     C8221631M77          M           age_13   richness_2      exp_10\n",
       "1012095    C8918537M77          M           age_13   richness_1      exp_10\n",
       "1034972  Query_User_20          F            age_4  richness_10      exp_10\n",
       "1034983  Query_User_31          M            age_0  richness_10      exp_10\n",
       "1034986  Query_User_34          M            age_2  richness_10      exp_10"
      ]
     },
     "execution_count": 208,
     "metadata": {},
     "output_type": "execute_result"
    }
   ],
   "source": [
    "df[df['New_ID'].isin(similar_to_query('Query_User_34')['Group_3'])] "
   ]
  }
 ],
 "metadata": {
  "kernelspec": {
   "display_name": "Python 3 (ipykernel)",
   "language": "python",
   "name": "python3"
  },
  "language_info": {
   "codemirror_mode": {
    "name": "ipython",
    "version": 3
   },
   "file_extension": ".py",
   "mimetype": "text/x-python",
   "name": "python",
   "nbconvert_exporter": "python",
   "pygments_lexer": "ipython3",
   "version": "3.9.12"
  }
 },
 "nbformat": 4,
 "nbformat_minor": 5
}
