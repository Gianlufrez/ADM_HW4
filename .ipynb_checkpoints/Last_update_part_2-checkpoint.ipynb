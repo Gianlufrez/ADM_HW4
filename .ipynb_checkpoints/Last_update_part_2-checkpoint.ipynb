{
 "cells": [
  {
   "cell_type": "markdown",
   "id": "7e465c55",
   "metadata": {},
   "source": [
    "# 1.2 Fingerprint hashing\n",
    "\n",
    "Using the previously selected data with the features you found pertinent, you have to:\n",
    "\n",
    "Implement your minhash function from scratch. No ready-made hash functions are allowed. Read the class material and search the internet if you need to. For reference, it may be practical to look at the description of hash functions in the book.\n",
    "\n",
    "Process the dataset and add each record to the MinHash. The subtask's goal is to try and map each consumer to its bin; to ensure this works well, be sure you understand how MinHash works and choose a matching threshold to use. Before moving on, experiment with different thresholds, explaining your choice."
   ]
  },
  {
   "cell_type": "code",
   "execution_count": 1,
   "id": "2e649f53",
   "metadata": {},
   "outputs": [],
   "source": [
    "import pandas as pd\n",
    "from tqdm import tqdm as tq\n",
    "import warnings\n",
    "import numpy as np\n",
    "warnings.filterwarnings(\"ignore\")"
   ]
  },
  {
   "cell_type": "code",
   "execution_count": 2,
   "id": "172d4498",
   "metadata": {},
   "outputs": [],
   "source": [
    "df = pd.read_csv(\"/Users/giacomo/Desktop/ADM_HW4/data.csv\", sep = '\\t')"
   ]
  },
  {
   "cell_type": "code",
   "execution_count": 3,
   "id": "1dae9645",
   "metadata": {},
   "outputs": [
    {
     "data": {
      "text/html": [
       "<div>\n",
       "<style scoped>\n",
       "    .dataframe tbody tr th:only-of-type {\n",
       "        vertical-align: middle;\n",
       "    }\n",
       "\n",
       "    .dataframe tbody tr th {\n",
       "        vertical-align: top;\n",
       "    }\n",
       "\n",
       "    .dataframe thead th {\n",
       "        text-align: right;\n",
       "    }\n",
       "</style>\n",
       "<table border=\"1\" class=\"dataframe\">\n",
       "  <thead>\n",
       "    <tr style=\"text-align: right;\">\n",
       "      <th></th>\n",
       "      <th>Unnamed: 0</th>\n",
       "      <th>New_ID</th>\n",
       "      <th>CustGender</th>\n",
       "      <th>CustomerClassAge</th>\n",
       "      <th>Richness</th>\n",
       "      <th>Expenditure</th>\n",
       "    </tr>\n",
       "  </thead>\n",
       "  <tbody>\n",
       "    <tr>\n",
       "      <th>0</th>\n",
       "      <td>0</td>\n",
       "      <td>C1010011F24</td>\n",
       "      <td>F</td>\n",
       "      <td>age_2</td>\n",
       "      <td>richness_7</td>\n",
       "      <td>exp_10</td>\n",
       "    </tr>\n",
       "    <tr>\n",
       "      <th>1</th>\n",
       "      <td>1</td>\n",
       "      <td>C1010011M33</td>\n",
       "      <td>M</td>\n",
       "      <td>age_4</td>\n",
       "      <td>richness_9</td>\n",
       "      <td>exp_5</td>\n",
       "    </tr>\n",
       "    <tr>\n",
       "      <th>2</th>\n",
       "      <td>2</td>\n",
       "      <td>C1010012M22</td>\n",
       "      <td>M</td>\n",
       "      <td>age_2</td>\n",
       "      <td>richness_6</td>\n",
       "      <td>exp_8</td>\n",
       "    </tr>\n",
       "    <tr>\n",
       "      <th>3</th>\n",
       "      <td>3</td>\n",
       "      <td>C1010014F24</td>\n",
       "      <td>F</td>\n",
       "      <td>age_2</td>\n",
       "      <td>richness_7</td>\n",
       "      <td>exp_8</td>\n",
       "    </tr>\n",
       "    <tr>\n",
       "      <th>4</th>\n",
       "      <td>4</td>\n",
       "      <td>C1010014M32</td>\n",
       "      <td>M</td>\n",
       "      <td>age_4</td>\n",
       "      <td>richness_9</td>\n",
       "      <td>exp_4</td>\n",
       "    </tr>\n",
       "    <tr>\n",
       "      <th>...</th>\n",
       "      <td>...</td>\n",
       "      <td>...</td>\n",
       "      <td>...</td>\n",
       "      <td>...</td>\n",
       "      <td>...</td>\n",
       "      <td>...</td>\n",
       "    </tr>\n",
       "    <tr>\n",
       "      <th>1034947</th>\n",
       "      <td>1034947</td>\n",
       "      <td>C9099836M26</td>\n",
       "      <td>M</td>\n",
       "      <td>age_3</td>\n",
       "      <td>richness_9</td>\n",
       "      <td>exp_7</td>\n",
       "    </tr>\n",
       "    <tr>\n",
       "      <th>1034948</th>\n",
       "      <td>1034948</td>\n",
       "      <td>C9099877M20</td>\n",
       "      <td>M</td>\n",
       "      <td>age_1</td>\n",
       "      <td>richness_9</td>\n",
       "      <td>exp_4</td>\n",
       "    </tr>\n",
       "    <tr>\n",
       "      <th>1034949</th>\n",
       "      <td>1034949</td>\n",
       "      <td>C9099919M23</td>\n",
       "      <td>M</td>\n",
       "      <td>age_2</td>\n",
       "      <td>richness_3</td>\n",
       "      <td>exp_3</td>\n",
       "    </tr>\n",
       "    <tr>\n",
       "      <th>1034950</th>\n",
       "      <td>1034950</td>\n",
       "      <td>C9099941M21</td>\n",
       "      <td>M</td>\n",
       "      <td>age_2</td>\n",
       "      <td>richness_7</td>\n",
       "      <td>exp_1</td>\n",
       "    </tr>\n",
       "    <tr>\n",
       "      <th>1034951</th>\n",
       "      <td>1034951</td>\n",
       "      <td>C9099956M34</td>\n",
       "      <td>M</td>\n",
       "      <td>age_4</td>\n",
       "      <td>richness_4</td>\n",
       "      <td>exp_7</td>\n",
       "    </tr>\n",
       "  </tbody>\n",
       "</table>\n",
       "<p>1034952 rows × 6 columns</p>\n",
       "</div>"
      ],
      "text/plain": [
       "         Unnamed: 0       New_ID CustGender CustomerClassAge    Richness  \\\n",
       "0                 0  C1010011F24          F            age_2  richness_7   \n",
       "1                 1  C1010011M33          M            age_4  richness_9   \n",
       "2                 2  C1010012M22          M            age_2  richness_6   \n",
       "3                 3  C1010014F24          F            age_2  richness_7   \n",
       "4                 4  C1010014M32          M            age_4  richness_9   \n",
       "...             ...          ...        ...              ...         ...   \n",
       "1034947     1034947  C9099836M26          M            age_3  richness_9   \n",
       "1034948     1034948  C9099877M20          M            age_1  richness_9   \n",
       "1034949     1034949  C9099919M23          M            age_2  richness_3   \n",
       "1034950     1034950  C9099941M21          M            age_2  richness_7   \n",
       "1034951     1034951  C9099956M34          M            age_4  richness_4   \n",
       "\n",
       "        Expenditure  \n",
       "0            exp_10  \n",
       "1             exp_5  \n",
       "2             exp_8  \n",
       "3             exp_8  \n",
       "4             exp_4  \n",
       "...             ...  \n",
       "1034947       exp_7  \n",
       "1034948       exp_4  \n",
       "1034949       exp_3  \n",
       "1034950       exp_1  \n",
       "1034951       exp_7  \n",
       "\n",
       "[1034952 rows x 6 columns]"
      ]
     },
     "execution_count": 3,
     "metadata": {},
     "output_type": "execute_result"
    }
   ],
   "source": [
    "df"
   ]
  },
  {
   "cell_type": "code",
   "execution_count": 4,
   "id": "cbec36df",
   "metadata": {},
   "outputs": [],
   "source": [
    "del df['Unnamed: 0']"
   ]
  },
  {
   "cell_type": "markdown",
   "id": "9dc8bf41",
   "metadata": {},
   "source": [
    "# 1.2.1 Shingles"
   ]
  },
  {
   "cell_type": "markdown",
   "id": "a34e580a",
   "metadata": {},
   "source": [
    "First of all we build the shingles from all the unique values per column in the loaded dataset. We ignore the `TransactionID` column because it is not a shingle."
   ]
  },
  {
   "cell_type": "code",
   "execution_count": 5,
   "id": "ce2defe3",
   "metadata": {},
   "outputs": [],
   "source": [
    "shingles = []\n",
    "for column_name in df.columns[1:]:\n",
    "    shingles += sorted(list(df[column_name].unique()))\n",
    "    \n",
    "shingles.remove('age_0')\n",
    "\n",
    "#In order to not aggregate people who are labelled with age_0, corresponding to the Customer DOB with year 1800,\n",
    "#we decided to remove age_0 from shingles such that those people will not have any 1 in age class\n"
   ]
  },
  {
   "cell_type": "code",
   "execution_count": 7,
   "id": "f6735222",
   "metadata": {},
   "outputs": [
    {
     "name": "stdout",
     "output_type": "stream",
     "text": [
      "['F', 'M', 'age_1', 'age_10', 'age_11', 'age_12', 'age_13', 'age_14', 'age_15', 'age_16', 'age_17', 'age_2', 'age_3', 'age_4', 'age_5', 'age_6', 'age_7', 'age_8', 'age_9', 'richness_0', 'richness_1', 'richness_10', 'richness_2', 'richness_3', 'richness_4', 'richness_5', 'richness_6', 'richness_7', 'richness_8', 'richness_9', 'exp_1', 'exp_10', 'exp_2', 'exp_3', 'exp_4', 'exp_5', 'exp_6', 'exp_7', 'exp_8', 'exp_9']\n"
     ]
    }
   ],
   "source": [
    "print(shingles)"
   ]
  },
  {
   "cell_type": "markdown",
   "id": "56a97def",
   "metadata": {},
   "source": [
    "# 1.2.2 Create Shingle Matrix"
   ]
  },
  {
   "cell_type": "markdown",
   "id": "2dae9e7b",
   "metadata": {},
   "source": [
    "First of all we create the function which maps each transaction into a vector of 0/1 based on the shingles. "
   ]
  },
  {
   "cell_type": "code",
   "execution_count": 8,
   "id": "b838ed76",
   "metadata": {},
   "outputs": [],
   "source": [
    "def one_hot_vector(data, index):\n",
    "    \"\"\"Creates a one hot vector for the row found in the data at the given index based on the shingles.\n",
    "    \n",
    "    :args\n",
    "    data - a pandas dataframe containing the data.\n",
    "    index - an int which corresponds to the row that will be turned into a one hot vector.\n",
    "    \n",
    "    :returns\n",
    "    a numpy array one hot representation of the row\n",
    "    \"\"\"\n",
    "    \n",
    "    values = data.loc[index][['CustGender', 'CustomerClassAge', 'Richness', 'Expenditure']].values\n",
    "    \n",
    "    indeces = np.where(values.reshape(values.size, 1) == shingles)[1]  #save indexes\n",
    "    vector = np.zeros(len(shingles), dtype = int)  #initialize vector\n",
    "    vector[indeces] = 1  #substitute 1 in te correct positions\n",
    "    \n",
    "    return vector"
   ]
  },
  {
   "cell_type": "markdown",
   "id": "579bb582",
   "metadata": {},
   "source": [
    "Example:"
   ]
  },
  {
   "cell_type": "code",
   "execution_count": 9,
   "id": "d1700709",
   "metadata": {},
   "outputs": [
    {
     "name": "stdout",
     "output_type": "stream",
     "text": [
      "['F', 'M', 'age_1', 'age_10', 'age_11', 'age_12', 'age_13', 'age_14', 'age_15', 'age_16', 'age_17', 'age_2', 'age_3', 'age_4', 'age_5', 'age_6', 'age_7', 'age_8', 'age_9', 'richness_0', 'richness_1', 'richness_10', 'richness_2', 'richness_3', 'richness_4', 'richness_5', 'richness_6', 'richness_7', 'richness_8', 'richness_9', 'exp_1', 'exp_10', 'exp_2', 'exp_3', 'exp_4', 'exp_5', 'exp_6', 'exp_7', 'exp_8', 'exp_9']\n"
     ]
    }
   ],
   "source": [
    "print(shingles)"
   ]
  },
  {
   "cell_type": "code",
   "execution_count": 10,
   "id": "487e1675",
   "metadata": {},
   "outputs": [
    {
     "data": {
      "text/plain": [
       "New_ID              C1010011M33\n",
       "CustGender                    M\n",
       "CustomerClassAge          age_4\n",
       "Richness             richness_9\n",
       "Expenditure               exp_5\n",
       "Name: 1, dtype: object"
      ]
     },
     "execution_count": 10,
     "metadata": {},
     "output_type": "execute_result"
    }
   ],
   "source": [
    "df.loc[1]"
   ]
  },
  {
   "cell_type": "code",
   "execution_count": 11,
   "id": "c41f5cfb",
   "metadata": {},
   "outputs": [
    {
     "name": "stdout",
     "output_type": "stream",
     "text": [
      "[0 1 0 0 0 0 0 0 0 0 0 0 0 1 0 0 0 0 0 0 0 0 0 0 0 0 0 0 0 1 0 0 0 0 0 1 0\n",
      " 0 0 0]\n"
     ]
    }
   ],
   "source": [
    "print(one_hot_vector(df, 1))"
   ]
  },
  {
   "cell_type": "code",
   "execution_count": 13,
   "id": "02c9f261",
   "metadata": {},
   "outputs": [],
   "source": [
    "shingle_matrix = np.zeros((1041144, 40), dtype = int)"
   ]
  },
  {
   "cell_type": "code",
   "execution_count": 14,
   "id": "d6af6d22",
   "metadata": {},
   "outputs": [
    {
     "data": {
      "text/plain": [
       "array([0, 0, 0, 0, 0, 0, 0, 0, 0, 0, 0, 0, 0, 0, 0, 0, 0, 0, 0, 0, 0, 0,\n",
       "       0, 0, 0, 0, 0, 0, 0, 0, 0, 0, 0, 0, 0, 0, 0, 0, 0, 0])"
      ]
     },
     "execution_count": 14,
     "metadata": {},
     "output_type": "execute_result"
    }
   ],
   "source": [
    "shingle_matrix[1]"
   ]
  },
  {
   "cell_type": "markdown",
   "id": "e6a3d5da",
   "metadata": {},
   "source": [
    "Now we can build a sparse matrix with all the encoded transaction: "
   ]
  },
  {
   "cell_type": "code",
   "execution_count": 78,
   "id": "77acd2db",
   "metadata": {},
   "outputs": [
    {
     "name": "stderr",
     "output_type": "stream",
     "text": [
      "100%|████████████████████████████████| 1041144/1041144 [34:09<00:00, 508.01it/s]\n"
     ]
    }
   ],
   "source": [
    "shingle_matrix = np.zeros((1041144, 40), dtype = int)\n",
    "\n",
    "for i in tq(range(len(df))):\n",
    "    # Append the one hot vectors as rows\n",
    "    shingle_matrix[df.index[i]] = one_hot_vector(df, i) \n",
    "\n",
    "# We need to transpose because for the shuffling, the Shingles need to be the rows\n",
    "shingle_matrix = shingle_matrix.T"
   ]
  },
  {
   "cell_type": "code",
   "execution_count": 63,
   "id": "cc15b117",
   "metadata": {},
   "outputs": [
    {
     "name": "stdout",
     "output_type": "stream",
     "text": [
      "Stored 'shingle_matrix' (ndarray)\n"
     ]
    }
   ],
   "source": [
    "%store shingle_matrix"
   ]
  },
  {
   "cell_type": "markdown",
   "id": "0555b759",
   "metadata": {},
   "source": [
    "# 1.2.3 Create the Signature Matrix\n",
    "From the Shingle Matrix, we will now create the signature matrix by doing the following:\n",
    "1. Shuffle the rows of the Shingle Matrix.\n",
    "1. Create a vector where each element corresponds to the index of the row of each column (Shingle) where the first 1 is found.\n",
    "1. Append this vector to the Signature Matrix.\n",
    "1. Repeat $n$ times."
   ]
  },
  {
   "cell_type": "code",
   "execution_count": 64,
   "id": "01a28ff4",
   "metadata": {},
   "outputs": [],
   "source": [
    "n_permutations = 12\n",
    "signature_matrix = np.zeros((12, shingle_matrix.shape[1]), dtype = int)"
   ]
  },
  {
   "cell_type": "code",
   "execution_count": 65,
   "id": "55cee0c8",
   "metadata": {},
   "outputs": [
    {
     "name": "stderr",
     "output_type": "stream",
     "text": [
      "100%|███████████████████████████████████████████| 12/12 [00:21<00:00,  1.81s/it]\n"
     ]
    }
   ],
   "source": [
    "for i in tq(range(n_permutations)):\n",
    "    # 1. Shuffle rows\n",
    "    np.random.shuffle(shingle_matrix)\n",
    "    \n",
    "    # 2. Create the vector of indeces where the first 1 is found. np.argmax stops at the first occurrence\n",
    "    signature_row = np.argmax(shingle_matrix == 1, axis=0) + 1\n",
    "    \n",
    "    # 3. Add to signature matrix\n",
    "    signature_matrix[i] = signature_row"
   ]
  },
  {
   "cell_type": "code",
   "execution_count": 72,
   "id": "42835b12",
   "metadata": {},
   "outputs": [
    {
     "data": {
      "text/plain": [
       "2.0"
      ]
     },
     "execution_count": 72,
     "metadata": {},
     "output_type": "execute_result"
    }
   ],
   "source": [
    "signature_matrix"
   ]
  },
  {
   "cell_type": "markdown",
   "id": "c5e4a7fc",
   "metadata": {},
   "source": [
    "# 1.2.4 Divide into Signature Matrix into Bands"
   ]
  },
  {
   "cell_type": "markdown",
   "id": "be0d2a0f",
   "metadata": {},
   "source": [
    "The example signature matrix below is divided into $b$ bands of $r$ rows each, and each band is hashed separately. For this example, we are setting band , which means that we will consider any titles with the same first two rows to be similar. The larger we make b the less likely there will be another Paper that matches all of the same permutations."
   ]
  },
  {
   "cell_type": "markdown",
   "id": "47d1a09d",
   "metadata": {},
   "source": [
    "![signature_matrix_into_bands](https://storage.googleapis.com/lds-media/images/locality-sensitive-hashing-lsh-buckets.width-1200.png)"
   ]
  },
  {
   "cell_type": "markdown",
   "id": "3d14c2ab",
   "metadata": {},
   "source": [
    "Ultimately, the size of the bands control the probability that two items with a given Jaccard similarity end up in the same bucket. If the number of bands is larger, you will end up with much smaller sets. For instance, $b = p$, where $p$ is the number of permutations (i.e. rows in the signature matrix) would almost certainly lead to $N$ buckets of only one item because there would be only one item that was perfect similar across every permutation."
   ]
  },
  {
   "cell_type": "code",
   "execution_count": 101,
   "id": "d50e8fa3",
   "metadata": {},
   "outputs": [],
   "source": [
    "b = 2"
   ]
  },
  {
   "cell_type": "code",
   "execution_count": null,
   "id": "3f1954a5",
   "metadata": {},
   "outputs": [],
   "source": [
    "number_of_rows = "
   ]
  }
 ],
 "metadata": {
  "kernelspec": {
   "display_name": "Python 3 (ipykernel)",
   "language": "python",
   "name": "python3"
  },
  "language_info": {
   "codemirror_mode": {
    "name": "ipython",
    "version": 3
   },
   "file_extension": ".py",
   "mimetype": "text/x-python",
   "name": "python",
   "nbconvert_exporter": "python",
   "pygments_lexer": "ipython3",
   "version": "3.9.12"
  }
 },
 "nbformat": 4,
 "nbformat_minor": 5
}
