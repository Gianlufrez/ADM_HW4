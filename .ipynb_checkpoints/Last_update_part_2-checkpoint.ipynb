{
 "cells": [
  {
   "cell_type": "markdown",
   "id": "7e465c55",
   "metadata": {},
   "source": [
    "# 1.2 Fingerprint hashing\n",
    "\n",
    "Using the previously selected data with the features you found pertinent, you have to:\n",
    "\n",
    "Implement your minhash function from scratch. No ready-made hash functions are allowed. Read the class material and search the internet if you need to. For reference, it may be practical to look at the description of hash functions in the book.\n",
    "\n",
    "Process the dataset and add each record to the MinHash. The subtask's goal is to try and map each consumer to its bin; to ensure this works well, be sure you understand how MinHash works and choose a matching threshold to use. Before moving on, experiment with different thresholds, explaining your choice."
   ]
  },
  {
   "cell_type": "code",
   "execution_count": 1,
   "id": "2e649f53",
   "metadata": {},
   "outputs": [],
   "source": [
    "import pandas as pd\n",
    "from tqdm import tqdm as tq\n",
    "import warnings\n",
    "import numpy as np\n",
    "warnings.filterwarnings(\"ignore\")"
   ]
  },
  {
   "cell_type": "code",
   "execution_count": 2,
   "id": "172d4498",
   "metadata": {},
   "outputs": [],
   "source": [
    "df = pd.read_csv(\"/Users/giacomo/Desktop/ADM_HW4/data.csv\", sep = '\\t')"
   ]
  },
  {
   "cell_type": "code",
   "execution_count": 3,
   "id": "1dae9645",
   "metadata": {},
   "outputs": [
    {
     "data": {
      "text/html": [
       "<div>\n",
       "<style scoped>\n",
       "    .dataframe tbody tr th:only-of-type {\n",
       "        vertical-align: middle;\n",
       "    }\n",
       "\n",
       "    .dataframe tbody tr th {\n",
       "        vertical-align: top;\n",
       "    }\n",
       "\n",
       "    .dataframe thead th {\n",
       "        text-align: right;\n",
       "    }\n",
       "</style>\n",
       "<table border=\"1\" class=\"dataframe\">\n",
       "  <thead>\n",
       "    <tr style=\"text-align: right;\">\n",
       "      <th></th>\n",
       "      <th>Unnamed: 0</th>\n",
       "      <th>New_ID</th>\n",
       "      <th>CustGender</th>\n",
       "      <th>CustomerClassAge</th>\n",
       "      <th>Richness</th>\n",
       "      <th>Expenditure</th>\n",
       "    </tr>\n",
       "  </thead>\n",
       "  <tbody>\n",
       "    <tr>\n",
       "      <th>0</th>\n",
       "      <td>0</td>\n",
       "      <td>C1010011F24</td>\n",
       "      <td>F</td>\n",
       "      <td>age_2</td>\n",
       "      <td>richness_7</td>\n",
       "      <td>exp_10</td>\n",
       "    </tr>\n",
       "    <tr>\n",
       "      <th>1</th>\n",
       "      <td>1</td>\n",
       "      <td>C1010011M33</td>\n",
       "      <td>M</td>\n",
       "      <td>age_4</td>\n",
       "      <td>richness_9</td>\n",
       "      <td>exp_5</td>\n",
       "    </tr>\n",
       "    <tr>\n",
       "      <th>2</th>\n",
       "      <td>2</td>\n",
       "      <td>C1010012M22</td>\n",
       "      <td>M</td>\n",
       "      <td>age_2</td>\n",
       "      <td>richness_6</td>\n",
       "      <td>exp_8</td>\n",
       "    </tr>\n",
       "    <tr>\n",
       "      <th>3</th>\n",
       "      <td>3</td>\n",
       "      <td>C1010014F24</td>\n",
       "      <td>F</td>\n",
       "      <td>age_2</td>\n",
       "      <td>richness_7</td>\n",
       "      <td>exp_8</td>\n",
       "    </tr>\n",
       "    <tr>\n",
       "      <th>4</th>\n",
       "      <td>4</td>\n",
       "      <td>C1010014M32</td>\n",
       "      <td>M</td>\n",
       "      <td>age_4</td>\n",
       "      <td>richness_9</td>\n",
       "      <td>exp_4</td>\n",
       "    </tr>\n",
       "    <tr>\n",
       "      <th>...</th>\n",
       "      <td>...</td>\n",
       "      <td>...</td>\n",
       "      <td>...</td>\n",
       "      <td>...</td>\n",
       "      <td>...</td>\n",
       "      <td>...</td>\n",
       "    </tr>\n",
       "    <tr>\n",
       "      <th>1034947</th>\n",
       "      <td>1034947</td>\n",
       "      <td>C9099836M26</td>\n",
       "      <td>M</td>\n",
       "      <td>age_3</td>\n",
       "      <td>richness_9</td>\n",
       "      <td>exp_7</td>\n",
       "    </tr>\n",
       "    <tr>\n",
       "      <th>1034948</th>\n",
       "      <td>1034948</td>\n",
       "      <td>C9099877M20</td>\n",
       "      <td>M</td>\n",
       "      <td>age_1</td>\n",
       "      <td>richness_9</td>\n",
       "      <td>exp_4</td>\n",
       "    </tr>\n",
       "    <tr>\n",
       "      <th>1034949</th>\n",
       "      <td>1034949</td>\n",
       "      <td>C9099919M23</td>\n",
       "      <td>M</td>\n",
       "      <td>age_2</td>\n",
       "      <td>richness_3</td>\n",
       "      <td>exp_3</td>\n",
       "    </tr>\n",
       "    <tr>\n",
       "      <th>1034950</th>\n",
       "      <td>1034950</td>\n",
       "      <td>C9099941M21</td>\n",
       "      <td>M</td>\n",
       "      <td>age_2</td>\n",
       "      <td>richness_7</td>\n",
       "      <td>exp_1</td>\n",
       "    </tr>\n",
       "    <tr>\n",
       "      <th>1034951</th>\n",
       "      <td>1034951</td>\n",
       "      <td>C9099956M34</td>\n",
       "      <td>M</td>\n",
       "      <td>age_4</td>\n",
       "      <td>richness_4</td>\n",
       "      <td>exp_7</td>\n",
       "    </tr>\n",
       "  </tbody>\n",
       "</table>\n",
       "<p>1034952 rows × 6 columns</p>\n",
       "</div>"
      ],
      "text/plain": [
       "         Unnamed: 0       New_ID CustGender CustomerClassAge    Richness  \\\n",
       "0                 0  C1010011F24          F            age_2  richness_7   \n",
       "1                 1  C1010011M33          M            age_4  richness_9   \n",
       "2                 2  C1010012M22          M            age_2  richness_6   \n",
       "3                 3  C1010014F24          F            age_2  richness_7   \n",
       "4                 4  C1010014M32          M            age_4  richness_9   \n",
       "...             ...          ...        ...              ...         ...   \n",
       "1034947     1034947  C9099836M26          M            age_3  richness_9   \n",
       "1034948     1034948  C9099877M20          M            age_1  richness_9   \n",
       "1034949     1034949  C9099919M23          M            age_2  richness_3   \n",
       "1034950     1034950  C9099941M21          M            age_2  richness_7   \n",
       "1034951     1034951  C9099956M34          M            age_4  richness_4   \n",
       "\n",
       "        Expenditure  \n",
       "0            exp_10  \n",
       "1             exp_5  \n",
       "2             exp_8  \n",
       "3             exp_8  \n",
       "4             exp_4  \n",
       "...             ...  \n",
       "1034947       exp_7  \n",
       "1034948       exp_4  \n",
       "1034949       exp_3  \n",
       "1034950       exp_1  \n",
       "1034951       exp_7  \n",
       "\n",
       "[1034952 rows x 6 columns]"
      ]
     },
     "execution_count": 3,
     "metadata": {},
     "output_type": "execute_result"
    }
   ],
   "source": [
    "df"
   ]
  },
  {
   "cell_type": "code",
   "execution_count": 4,
   "id": "cbec36df",
   "metadata": {},
   "outputs": [],
   "source": [
    "del df['Unnamed: 0']"
   ]
  },
  {
   "cell_type": "markdown",
   "id": "9dc8bf41",
   "metadata": {},
   "source": [
    "# 1.2.1 Shingles"
   ]
  },
  {
   "cell_type": "markdown",
   "id": "a34e580a",
   "metadata": {},
   "source": [
    "First of all we build the shingles from all the unique values per column in the loaded dataset. We ignore the `TransactionID` column because it is not a shingle."
   ]
  },
  {
   "cell_type": "code",
   "execution_count": 19,
   "id": "ce2defe3",
   "metadata": {},
   "outputs": [],
   "source": [
    "shingles = [] #initialize shingles\n",
    "for column_name in df.columns[1:]: \n",
    "    shingles += sorted(list(df[column_name].unique())) \n",
    "    \n",
    "shingles.remove('age_0')\n",
    "\n",
    "#In order to not aggregate people who are labelled with age_0, corresponding to the Customer DOB with year 1800 \n",
    "#(nan), we decided to remove age_0 from shingles such that those people will not have any 1 in the shingle matrix.\n",
    "#For that reason they will not be considered similar to anyone for the age, but only for the other fields."
   ]
  },
  {
   "cell_type": "code",
   "execution_count": 20,
   "id": "f6735222",
   "metadata": {},
   "outputs": [
    {
     "name": "stdout",
     "output_type": "stream",
     "text": [
      "['F', 'M', 'age_1', 'age_10', 'age_11', 'age_12', 'age_13', 'age_14', 'age_15', 'age_16', 'age_17', 'age_2', 'age_3', 'age_4', 'age_5', 'age_6', 'age_7', 'age_8', 'age_9', 'richness_0', 'richness_1', 'richness_10', 'richness_2', 'richness_3', 'richness_4', 'richness_5', 'richness_6', 'richness_7', 'richness_8', 'richness_9', 'exp_1', 'exp_10', 'exp_2', 'exp_3', 'exp_4', 'exp_5', 'exp_6', 'exp_7', 'exp_8', 'exp_9']\n"
     ]
    }
   ],
   "source": [
    "print(shingles)"
   ]
  },
  {
   "cell_type": "markdown",
   "id": "56a97def",
   "metadata": {},
   "source": [
    "# 1.2.2 Create Shingle Matrix"
   ]
  },
  {
   "cell_type": "markdown",
   "id": "2dae9e7b",
   "metadata": {},
   "source": [
    "First of all we create the function which maps each transaction into a vector of 0/1 based on the shingles. "
   ]
  },
  {
   "cell_type": "code",
   "execution_count": 21,
   "id": "b838ed76",
   "metadata": {},
   "outputs": [],
   "source": [
    "def one_hot_vector(data, index):\n",
    "    \"\"\"Creates a one hot vector for the row found in the data at the given index based on the shingles.\n",
    "    \n",
    "    :args\n",
    "    data - a pandas dataframe containing the data.\n",
    "    index - an int which corresponds to the row that will be turned into a one hot vector.\n",
    "    \n",
    "    :returns\n",
    "    a numpy array one hot representation of the row\n",
    "    \"\"\"\n",
    "    \n",
    "    values = data.loc[index][['CustGender', 'CustomerClassAge', 'Richness', 'Expenditure']].values #extract values\n",
    "    \n",
    "    indeces = np.where(values.reshape(values.size, 1) == shingles)[1]  #save indexes\n",
    "    \n",
    "    vector = np.zeros(len(shingles), dtype = int)  #initialize vector\n",
    "    \n",
    "    vector[indeces] = 1  #substitute 1 in the correct positions\n",
    "    \n",
    "    return vector"
   ]
  },
  {
   "cell_type": "markdown",
   "id": "579bb582",
   "metadata": {},
   "source": [
    "Example:"
   ]
  },
  {
   "cell_type": "code",
   "execution_count": 22,
   "id": "d1700709",
   "metadata": {},
   "outputs": [
    {
     "name": "stdout",
     "output_type": "stream",
     "text": [
      "['F', 'M', 'age_1', 'age_10', 'age_11', 'age_12', 'age_13', 'age_14', 'age_15', 'age_16', 'age_17', 'age_2', 'age_3', 'age_4', 'age_5', 'age_6', 'age_7', 'age_8', 'age_9', 'richness_0', 'richness_1', 'richness_10', 'richness_2', 'richness_3', 'richness_4', 'richness_5', 'richness_6', 'richness_7', 'richness_8', 'richness_9', 'exp_1', 'exp_10', 'exp_2', 'exp_3', 'exp_4', 'exp_5', 'exp_6', 'exp_7', 'exp_8', 'exp_9']\n"
     ]
    }
   ],
   "source": [
    "print(shingles)"
   ]
  },
  {
   "cell_type": "code",
   "execution_count": 23,
   "id": "487e1675",
   "metadata": {},
   "outputs": [
    {
     "data": {
      "text/plain": [
       "New_ID              C1010011M33\n",
       "CustGender                    M\n",
       "CustomerClassAge          age_4\n",
       "Richness             richness_9\n",
       "Expenditure               exp_5\n",
       "Name: 1, dtype: object"
      ]
     },
     "execution_count": 23,
     "metadata": {},
     "output_type": "execute_result"
    }
   ],
   "source": [
    "df.loc[1]"
   ]
  },
  {
   "cell_type": "code",
   "execution_count": 24,
   "id": "c41f5cfb",
   "metadata": {},
   "outputs": [
    {
     "name": "stdout",
     "output_type": "stream",
     "text": [
      "[0 1 0 0 0 0 0 0 0 0 0 0 0 1 0 0 0 0 0 0 0 0 0 0 0 0 0 0 0 1 0 0 0 0 0 1 0\n",
      " 0 0 0]\n"
     ]
    }
   ],
   "source": [
    "print(one_hot_vector(df, 1))"
   ]
  },
  {
   "cell_type": "code",
   "execution_count": 25,
   "id": "4e82e829",
   "metadata": {},
   "outputs": [
    {
     "data": {
      "text/plain": [
       "1034952"
      ]
     },
     "execution_count": 25,
     "metadata": {},
     "output_type": "execute_result"
    }
   ],
   "source": [
    "len(df)"
   ]
  },
  {
   "cell_type": "markdown",
   "id": "e6a3d5da",
   "metadata": {},
   "source": [
    "Now we can build a sparse matrix with all the encoded transaction. We don't need to insert into the matrix the name of the Customer cause they are linked to the index of the shingle matrix through the index of the column.  "
   ]
  },
  {
   "cell_type": "code",
   "execution_count": 26,
   "id": "77acd2db",
   "metadata": {},
   "outputs": [
    {
     "name": "stderr",
     "output_type": "stream",
     "text": [
      "100%|███████████████████████████████| 1034952/1034952 [12:47<00:00, 1348.35it/s]\n"
     ]
    }
   ],
   "source": [
    "shingle_matrix = np.zeros((1034952, 40), dtype = int)\n",
    "\n",
    "for i in tq(range(len(df))):\n",
    "    # Append the one hot vectors as rows\n",
    "    shingle_matrix[df.index[i]] = one_hot_vector(df, i) \n",
    "\n",
    "# We need to transpose because for the shuffling, the Shingles need to be the rows\n",
    "shingle_matrix = shingle_matrix.T"
   ]
  },
  {
   "cell_type": "code",
   "execution_count": 27,
   "id": "cc15b117",
   "metadata": {},
   "outputs": [
    {
     "name": "stdout",
     "output_type": "stream",
     "text": [
      "Stored 'shingle_matrix' (ndarray)\n"
     ]
    }
   ],
   "source": [
    "%store shingle_matrix"
   ]
  },
  {
   "cell_type": "code",
   "execution_count": 28,
   "id": "7eb74d9c",
   "metadata": {},
   "outputs": [],
   "source": [
    "%store -r shingle_matrix"
   ]
  },
  {
   "cell_type": "markdown",
   "id": "0555b759",
   "metadata": {},
   "source": [
    "# 1.2.3 Create the Signature Matrix\n",
    "From the Shingle Matrix, we will now create the signature matrix by doing the following:\n",
    "1. Shuffle the rows of the Shingle Matrix.\n",
    "1. Create a vector where each element corresponds to the index of the row of each column (Shingle) where the first 1 is found.\n",
    "1. Append this vector to the Signature Matrix.\n",
    "1. Repeat $n$ times.\n",
    "\n",
    "The goal of the MinHash is to replace a large set with a smaller \"signature\" that still preserves the underlying similarity metric."
   ]
  },
  {
   "cell_type": "code",
   "execution_count": 29,
   "id": "01a28ff4",
   "metadata": {},
   "outputs": [],
   "source": [
    "n_permutations = 20 #number of permutations = number of rows of the signature matrix\n",
    "signature_matrix = np.zeros((20, shingle_matrix.shape[1]), dtype = int) #initialize signature matrix\n",
    "seed = np.random.randint(0, 100000)\n",
    "np.random.seed(seed) #set seed for reproducibility"
   ]
  },
  {
   "cell_type": "code",
   "execution_count": 30,
   "id": "55cee0c8",
   "metadata": {},
   "outputs": [
    {
     "name": "stderr",
     "output_type": "stream",
     "text": [
      "100%|███████████████████████████████████████████| 20/20 [00:35<00:00,  1.75s/it]\n"
     ]
    }
   ],
   "source": [
    "for i in tq(range(n_permutations)):\n",
    "    # 1. Shuffle rows\n",
    "    np.random.shuffle(shingle_matrix)\n",
    "    \n",
    "    # 2. Create the vector of indeces where the first 1 is found. np.argmax stops at the first occurrence\n",
    "    signature_row = np.argmax(shingle_matrix == 1, axis=0) + 1\n",
    "    \n",
    "    # 3. Add to signature matrix\n",
    "    signature_matrix[i] = signature_row"
   ]
  },
  {
   "cell_type": "code",
   "execution_count": 31,
   "id": "42835b12",
   "metadata": {},
   "outputs": [
    {
     "data": {
      "text/plain": [
       "array([[ 1, 17,  9, ...,  9,  9,  3],\n",
       "       [ 5,  4, 15, ..., 12, 10,  4],\n",
       "       [23,  1,  3, ...,  3,  3,  3],\n",
       "       ...,\n",
       "       [ 4,  2, 24, ..., 18, 23,  2],\n",
       "       [ 9,  5,  7, ..., 10, 13, 12],\n",
       "       [ 5,  1, 20, ...,  8,  6, 25]])"
      ]
     },
     "execution_count": 31,
     "metadata": {},
     "output_type": "execute_result"
    }
   ],
   "source": [
    "signature_matrix"
   ]
  },
  {
   "cell_type": "code",
   "execution_count": 32,
   "id": "8e6c2a16",
   "metadata": {},
   "outputs": [
    {
     "data": {
      "text/plain": [
       "(20, 1034952)"
      ]
     },
     "execution_count": 32,
     "metadata": {},
     "output_type": "execute_result"
    }
   ],
   "source": [
    "signature_matrix.shape"
   ]
  },
  {
   "cell_type": "markdown",
   "id": "b96bf70c",
   "metadata": {},
   "source": [
    "The index of the column can be referred to the customer ID looking at the index of the initial dataframe: "
   ]
  },
  {
   "cell_type": "code",
   "execution_count": 33,
   "id": "5f6e9b2f",
   "metadata": {},
   "outputs": [
    {
     "data": {
      "text/html": [
       "<div>\n",
       "<style scoped>\n",
       "    .dataframe tbody tr th:only-of-type {\n",
       "        vertical-align: middle;\n",
       "    }\n",
       "\n",
       "    .dataframe tbody tr th {\n",
       "        vertical-align: top;\n",
       "    }\n",
       "\n",
       "    .dataframe thead th {\n",
       "        text-align: right;\n",
       "    }\n",
       "</style>\n",
       "<table border=\"1\" class=\"dataframe\">\n",
       "  <thead>\n",
       "    <tr style=\"text-align: right;\">\n",
       "      <th></th>\n",
       "      <th>New_ID</th>\n",
       "      <th>CustGender</th>\n",
       "      <th>CustomerClassAge</th>\n",
       "      <th>Richness</th>\n",
       "      <th>Expenditure</th>\n",
       "    </tr>\n",
       "  </thead>\n",
       "  <tbody>\n",
       "    <tr>\n",
       "      <th>0</th>\n",
       "      <td>C1010011F24</td>\n",
       "      <td>F</td>\n",
       "      <td>age_2</td>\n",
       "      <td>richness_7</td>\n",
       "      <td>exp_10</td>\n",
       "    </tr>\n",
       "    <tr>\n",
       "      <th>1</th>\n",
       "      <td>C1010011M33</td>\n",
       "      <td>M</td>\n",
       "      <td>age_4</td>\n",
       "      <td>richness_9</td>\n",
       "      <td>exp_5</td>\n",
       "    </tr>\n",
       "    <tr>\n",
       "      <th>2</th>\n",
       "      <td>C1010012M22</td>\n",
       "      <td>M</td>\n",
       "      <td>age_2</td>\n",
       "      <td>richness_6</td>\n",
       "      <td>exp_8</td>\n",
       "    </tr>\n",
       "    <tr>\n",
       "      <th>3</th>\n",
       "      <td>C1010014F24</td>\n",
       "      <td>F</td>\n",
       "      <td>age_2</td>\n",
       "      <td>richness_7</td>\n",
       "      <td>exp_8</td>\n",
       "    </tr>\n",
       "    <tr>\n",
       "      <th>4</th>\n",
       "      <td>C1010014M32</td>\n",
       "      <td>M</td>\n",
       "      <td>age_4</td>\n",
       "      <td>richness_9</td>\n",
       "      <td>exp_4</td>\n",
       "    </tr>\n",
       "    <tr>\n",
       "      <th>...</th>\n",
       "      <td>...</td>\n",
       "      <td>...</td>\n",
       "      <td>...</td>\n",
       "      <td>...</td>\n",
       "      <td>...</td>\n",
       "    </tr>\n",
       "    <tr>\n",
       "      <th>1034947</th>\n",
       "      <td>C9099836M26</td>\n",
       "      <td>M</td>\n",
       "      <td>age_3</td>\n",
       "      <td>richness_9</td>\n",
       "      <td>exp_7</td>\n",
       "    </tr>\n",
       "    <tr>\n",
       "      <th>1034948</th>\n",
       "      <td>C9099877M20</td>\n",
       "      <td>M</td>\n",
       "      <td>age_1</td>\n",
       "      <td>richness_9</td>\n",
       "      <td>exp_4</td>\n",
       "    </tr>\n",
       "    <tr>\n",
       "      <th>1034949</th>\n",
       "      <td>C9099919M23</td>\n",
       "      <td>M</td>\n",
       "      <td>age_2</td>\n",
       "      <td>richness_3</td>\n",
       "      <td>exp_3</td>\n",
       "    </tr>\n",
       "    <tr>\n",
       "      <th>1034950</th>\n",
       "      <td>C9099941M21</td>\n",
       "      <td>M</td>\n",
       "      <td>age_2</td>\n",
       "      <td>richness_7</td>\n",
       "      <td>exp_1</td>\n",
       "    </tr>\n",
       "    <tr>\n",
       "      <th>1034951</th>\n",
       "      <td>C9099956M34</td>\n",
       "      <td>M</td>\n",
       "      <td>age_4</td>\n",
       "      <td>richness_4</td>\n",
       "      <td>exp_7</td>\n",
       "    </tr>\n",
       "  </tbody>\n",
       "</table>\n",
       "<p>1034952 rows × 5 columns</p>\n",
       "</div>"
      ],
      "text/plain": [
       "              New_ID CustGender CustomerClassAge    Richness Expenditure\n",
       "0        C1010011F24          F            age_2  richness_7      exp_10\n",
       "1        C1010011M33          M            age_4  richness_9       exp_5\n",
       "2        C1010012M22          M            age_2  richness_6       exp_8\n",
       "3        C1010014F24          F            age_2  richness_7       exp_8\n",
       "4        C1010014M32          M            age_4  richness_9       exp_4\n",
       "...              ...        ...              ...         ...         ...\n",
       "1034947  C9099836M26          M            age_3  richness_9       exp_7\n",
       "1034948  C9099877M20          M            age_1  richness_9       exp_4\n",
       "1034949  C9099919M23          M            age_2  richness_3       exp_3\n",
       "1034950  C9099941M21          M            age_2  richness_7       exp_1\n",
       "1034951  C9099956M34          M            age_4  richness_4       exp_7\n",
       "\n",
       "[1034952 rows x 5 columns]"
      ]
     },
     "execution_count": 33,
     "metadata": {},
     "output_type": "execute_result"
    }
   ],
   "source": [
    "df"
   ]
  },
  {
   "cell_type": "markdown",
   "id": "202e5dac",
   "metadata": {},
   "source": [
    "For example the first column of the signature matrix is referred to the customer C1010011F24."
   ]
  },
  {
   "cell_type": "markdown",
   "id": "c5e4a7fc",
   "metadata": {},
   "source": [
    "# 1.2.4 Divide Signature Matrix into Bands"
   ]
  },
  {
   "cell_type": "markdown",
   "id": "be0d2a0f",
   "metadata": {},
   "source": [
    "The example signature matrix below is divided into $b$ bands of $r$ rows each, and each band is hashed separately. For this example, we are setting band , which means that we will consider any titles with the same first two rows to be similar. The larger we make b the less likely there will be another Paper that matches all of the same permutations."
   ]
  },
  {
   "cell_type": "markdown",
   "id": "47d1a09d",
   "metadata": {},
   "source": [
    "![signature_matrix_into_bands](https://storage.googleapis.com/lds-media/images/locality-sensitive-hashing-lsh-buckets.width-1200.png)"
   ]
  },
  {
   "cell_type": "markdown",
   "id": "3d14c2ab",
   "metadata": {},
   "source": [
    "Ultimately, the size of the bands control the probability that two items with a given Jaccard similarity end up in the same bucket. If the number of bands is larger, you will end up with much smaller sets. For instance, $b = p$, where $p$ is the number of permutations (i.e. rows in the signature matrix) would almost certainly lead to $N$ buckets of only one item because there would be only one item that was perfect similar across every permutation."
   ]
  },
  {
   "cell_type": "code",
   "execution_count": 67,
   "id": "d50e8fa3",
   "metadata": {},
   "outputs": [],
   "source": [
    "b = 4"
   ]
  },
  {
   "cell_type": "code",
   "execution_count": 68,
   "id": "9559c333",
   "metadata": {
    "scrolled": true
   },
   "outputs": [
    {
     "data": {
      "text/plain": [
       "array([[ 1,  5, 23,  2],\n",
       "       [17,  4,  1,  5],\n",
       "       [ 9, 15,  3,  2],\n",
       "       ...,\n",
       "       [ 9, 12,  3,  2],\n",
       "       [ 9, 10,  3,  2],\n",
       "       [ 3,  4,  3,  3]])"
      ]
     },
     "execution_count": 68,
     "metadata": {},
     "output_type": "execute_result"
    }
   ],
   "source": [
    "signature_matrix.T[:, 0:4] #to build the minivector"
   ]
  },
  {
   "cell_type": "markdown",
   "id": "9d80f180",
   "metadata": {},
   "source": [
    "In order to create the buckets we decide to create a dictionary that will have the sub_vector as keys and the indexes that contains that subvector. These indexes will allow us to substistute the related customer:"
   ]
  },
  {
   "cell_type": "code",
   "execution_count": 69,
   "id": "acf72b94",
   "metadata": {},
   "outputs": [
    {
     "name": "stderr",
     "output_type": "stream",
     "text": [
      "100%|█████████████████████████████████████████████| 5/5 [00:28<00:00,  5.79s/it]\n"
     ]
    }
   ],
   "source": [
    "indexes = list(range(signature_matrix.shape[1])) #create a list of indexes \n",
    "\n",
    "signature_matrix_transposed = signature_matrix.T #transpose the matrix to get subvectors column\n",
    "\n",
    "cluster = {} #initialize the dictionary containing as keys the subvector and as values the indexes of the customer\n",
    "\n",
    "for i in tq(range(0, signature_matrix.shape[0], b)):  #iterate over the row with step size equal to bandsize\n",
    "    \n",
    "    #take the subvector of dimension i, i+b (band size) from the column\n",
    "    mini_vectors = signature_matrix_transposed[:, i:i+b] \n",
    "    \n",
    "    # sorts the subvectors associated to the indexes to maintain the relationship with the index of the customers.\n",
    "    # We use a tuple instead of a list because tuples can be hashable and therefore \n",
    "    # usable as keys for dictionaries. In this way we will have the same subvector as neighbors\n",
    "    \n",
    "    c = [(i, tuple(v)) for v, i in sorted(zip(mini_vectors.tolist(), indexes))]\n",
    "    \n",
    "    curr_vector = c[0][1] #take the subvector from the tuple composed by index and subvector\n",
    "    \n",
    "    #Now we have equal subvector as neighbor, so we can iterate over these groups of equal subvector\n",
    "    for i, v in c:  \n",
    "        \n",
    "        if v not in cluster: #if the subvector is not a key in the cluster --> initialize it \n",
    "            \n",
    "            cluster[v] = []\n",
    "        \n",
    "        if curr_vector != v: #when the iteration go over the group of equal subvector updtate the current vector\n",
    "            \n",
    "            curr_vector = v\n",
    "\n",
    "        cluster[v].append(i) #append as values the indexes\n",
    "            "
   ]
  },
  {
   "cell_type": "markdown",
   "id": "77ab34b9",
   "metadata": {},
   "source": [
    "As example we print the first 5 keys -> subvector:"
   ]
  },
  {
   "cell_type": "code",
   "execution_count": 70,
   "id": "795fbfef",
   "metadata": {},
   "outputs": [
    {
     "name": "stdout",
     "output_type": "stream",
     "text": [
      "[(1, 1, 1, 1), (1, 1, 1, 6), (1, 1, 1, 9), (1, 1, 1, 10), (1, 1, 1, 11)]\n"
     ]
    }
   ],
   "source": [
    "print(list(cluster.keys())[:5])"
   ]
  },
  {
   "cell_type": "markdown",
   "id": "46bb4efc",
   "metadata": {},
   "source": [
    "For example for the subvector 1,1,1,9 we have as values the indexes of the Customers that have been mapped in the same bucket:"
   ]
  },
  {
   "cell_type": "code",
   "execution_count": 71,
   "id": "1352fefe",
   "metadata": {},
   "outputs": [
    {
     "data": {
      "text/plain": [
       "[3997,\n",
       " 16727,\n",
       " 22546,\n",
       " 50596,\n",
       " 54957,\n",
       " 61582,\n",
       " 74913,\n",
       " 81269,\n",
       " 87577,\n",
       " 101048,\n",
       " 122981,\n",
       " 129307,\n",
       " 129657,\n",
       " 158264,\n",
       " 158271,\n",
       " 159128,\n",
       " 161268,\n",
       " 161510,\n",
       " 167960,\n",
       " 172795,\n",
       " 174181,\n",
       " 175537,\n",
       " 180180,\n",
       " 185977,\n",
       " 189867,\n",
       " 193851,\n",
       " 197078,\n",
       " 198032,\n",
       " 200351,\n",
       " 203579,\n",
       " 216170,\n",
       " 225865,\n",
       " 235053,\n",
       " 237205,\n",
       " 248076,\n",
       " 254689,\n",
       " 257562,\n",
       " 257877,\n",
       " 265372,\n",
       " 273864,\n",
       " 277430,\n",
       " 281417,\n",
       " 312549,\n",
       " 315738,\n",
       " 325323,\n",
       " 334497,\n",
       " 337051,\n",
       " 354246,\n",
       " 368141,\n",
       " 387175,\n",
       " 394729,\n",
       " 400242,\n",
       " 404212,\n",
       " 416022,\n",
       " 418735,\n",
       " 425453,\n",
       " 436318,\n",
       " 442312,\n",
       " 453108,\n",
       " 454457,\n",
       " 472604,\n",
       " 491404,\n",
       " 501904,\n",
       " 507897,\n",
       " 518301,\n",
       " 532668,\n",
       " 550429,\n",
       " 554896,\n",
       " 572278,\n",
       " 596462,\n",
       " 602312,\n",
       " 611036,\n",
       " 633989,\n",
       " 635792,\n",
       " 644139,\n",
       " 648730,\n",
       " 649847,\n",
       " 655276,\n",
       " 661254,\n",
       " 671868,\n",
       " 672550,\n",
       " 673159,\n",
       " 683112,\n",
       " 684784,\n",
       " 688053,\n",
       " 706393,\n",
       " 711176,\n",
       " 714130,\n",
       " 731421,\n",
       " 735681,\n",
       " 748049,\n",
       " 750563,\n",
       " 752627,\n",
       " 757535,\n",
       " 763587,\n",
       " 765242,\n",
       " 771220,\n",
       " 787765,\n",
       " 791049,\n",
       " 807342,\n",
       " 816022,\n",
       " 823059,\n",
       " 823752,\n",
       " 825122,\n",
       " 838165,\n",
       " 844669,\n",
       " 844777,\n",
       " 845971,\n",
       " 851159,\n",
       " 863841,\n",
       " 865359,\n",
       " 880782,\n",
       " 889550,\n",
       " 909153,\n",
       " 913396,\n",
       " 921097,\n",
       " 925018,\n",
       " 941660,\n",
       " 949109,\n",
       " 970279,\n",
       " 975723,\n",
       " 978124,\n",
       " 981635,\n",
       " 989083,\n",
       " 1007108,\n",
       " 1009537,\n",
       " 1018945,\n",
       " 1019316,\n",
       " 1032262,\n",
       " 1032756]"
      ]
     },
     "execution_count": 71,
     "metadata": {},
     "output_type": "execute_result"
    }
   ],
   "source": [
    "cluster[(1, 1, 1, 1)]"
   ]
  },
  {
   "cell_type": "markdown",
   "id": "49b2f5ec",
   "metadata": {},
   "source": [
    "Through them we can recover the customers and visually check for their similarity. We noticed that band size = 0 means a strong similarity between the Customers."
   ]
  },
  {
   "cell_type": "code",
   "execution_count": 72,
   "id": "c582b0aa",
   "metadata": {},
   "outputs": [
    {
     "data": {
      "text/html": [
       "<div>\n",
       "<style scoped>\n",
       "    .dataframe tbody tr th:only-of-type {\n",
       "        vertical-align: middle;\n",
       "    }\n",
       "\n",
       "    .dataframe tbody tr th {\n",
       "        vertical-align: top;\n",
       "    }\n",
       "\n",
       "    .dataframe thead th {\n",
       "        text-align: right;\n",
       "    }\n",
       "</style>\n",
       "<table border=\"1\" class=\"dataframe\">\n",
       "  <thead>\n",
       "    <tr style=\"text-align: right;\">\n",
       "      <th></th>\n",
       "      <th>New_ID</th>\n",
       "      <th>CustGender</th>\n",
       "      <th>CustomerClassAge</th>\n",
       "      <th>Richness</th>\n",
       "      <th>Expenditure</th>\n",
       "    </tr>\n",
       "  </thead>\n",
       "  <tbody>\n",
       "    <tr>\n",
       "      <th>3997</th>\n",
       "      <td>C1022121F52</td>\n",
       "      <td>F</td>\n",
       "      <td>age_8</td>\n",
       "      <td>richness_9</td>\n",
       "      <td>exp_9</td>\n",
       "    </tr>\n",
       "    <tr>\n",
       "      <th>16727</th>\n",
       "      <td>C1121945F54</td>\n",
       "      <td>F</td>\n",
       "      <td>age_8</td>\n",
       "      <td>richness_9</td>\n",
       "      <td>exp_9</td>\n",
       "    </tr>\n",
       "    <tr>\n",
       "      <th>22546</th>\n",
       "      <td>C1139926F55</td>\n",
       "      <td>F</td>\n",
       "      <td>age_8</td>\n",
       "      <td>richness_9</td>\n",
       "      <td>exp_9</td>\n",
       "    </tr>\n",
       "    <tr>\n",
       "      <th>50596</th>\n",
       "      <td>C1392321F52</td>\n",
       "      <td>F</td>\n",
       "      <td>age_8</td>\n",
       "      <td>richness_9</td>\n",
       "      <td>exp_9</td>\n",
       "    </tr>\n",
       "    <tr>\n",
       "      <th>54957</th>\n",
       "      <td>C1422151F52</td>\n",
       "      <td>F</td>\n",
       "      <td>age_8</td>\n",
       "      <td>richness_9</td>\n",
       "      <td>exp_9</td>\n",
       "    </tr>\n",
       "    <tr>\n",
       "      <th>...</th>\n",
       "      <td>...</td>\n",
       "      <td>...</td>\n",
       "      <td>...</td>\n",
       "      <td>...</td>\n",
       "      <td>...</td>\n",
       "    </tr>\n",
       "    <tr>\n",
       "      <th>1009537</th>\n",
       "      <td>C8910950F53</td>\n",
       "      <td>F</td>\n",
       "      <td>age_8</td>\n",
       "      <td>richness_9</td>\n",
       "      <td>exp_9</td>\n",
       "    </tr>\n",
       "    <tr>\n",
       "      <th>1018945</th>\n",
       "      <td>C8938859F52</td>\n",
       "      <td>F</td>\n",
       "      <td>age_8</td>\n",
       "      <td>richness_9</td>\n",
       "      <td>exp_9</td>\n",
       "    </tr>\n",
       "    <tr>\n",
       "      <th>1019316</th>\n",
       "      <td>C8940043F53</td>\n",
       "      <td>F</td>\n",
       "      <td>age_8</td>\n",
       "      <td>richness_9</td>\n",
       "      <td>exp_9</td>\n",
       "    </tr>\n",
       "    <tr>\n",
       "      <th>1032262</th>\n",
       "      <td>C9040385F51</td>\n",
       "      <td>F</td>\n",
       "      <td>age_8</td>\n",
       "      <td>richness_9</td>\n",
       "      <td>exp_9</td>\n",
       "    </tr>\n",
       "    <tr>\n",
       "      <th>1032756</th>\n",
       "      <td>C9041990F53</td>\n",
       "      <td>F</td>\n",
       "      <td>age_8</td>\n",
       "      <td>richness_9</td>\n",
       "      <td>exp_9</td>\n",
       "    </tr>\n",
       "  </tbody>\n",
       "</table>\n",
       "<p>130 rows × 5 columns</p>\n",
       "</div>"
      ],
      "text/plain": [
       "              New_ID CustGender CustomerClassAge    Richness Expenditure\n",
       "3997     C1022121F52          F            age_8  richness_9       exp_9\n",
       "16727    C1121945F54          F            age_8  richness_9       exp_9\n",
       "22546    C1139926F55          F            age_8  richness_9       exp_9\n",
       "50596    C1392321F52          F            age_8  richness_9       exp_9\n",
       "54957    C1422151F52          F            age_8  richness_9       exp_9\n",
       "...              ...        ...              ...         ...         ...\n",
       "1009537  C8910950F53          F            age_8  richness_9       exp_9\n",
       "1018945  C8938859F52          F            age_8  richness_9       exp_9\n",
       "1019316  C8940043F53          F            age_8  richness_9       exp_9\n",
       "1032262  C9040385F51          F            age_8  richness_9       exp_9\n",
       "1032756  C9041990F53          F            age_8  richness_9       exp_9\n",
       "\n",
       "[130 rows x 5 columns]"
      ]
     },
     "execution_count": 72,
     "metadata": {},
     "output_type": "execute_result"
    }
   ],
   "source": [
    "df.loc[cluster[(1, 1, 1, 1)]]"
   ]
  },
  {
   "cell_type": "markdown",
   "id": "2a4d14f8",
   "metadata": {},
   "source": [
    "We decided to convert each list of indexes of every keys with the list of the related Customers"
   ]
  },
  {
   "cell_type": "code",
   "execution_count": 73,
   "id": "96384f30",
   "metadata": {},
   "outputs": [],
   "source": [
    "for key in cluster.keys():\n",
    "    \n",
    "    cluster[key] = df.loc[cluster[key]]['New_ID'].to_list() #subtitute the indexes with the customers name"
   ]
  },
  {
   "cell_type": "markdown",
   "id": "0135dcb4",
   "metadata": {},
   "source": [
    "Now the dictionary cluster contains as keys the name of the bucket (subvector) and as values the CustomerIDs."
   ]
  },
  {
   "cell_type": "code",
   "execution_count": 74,
   "id": "639762ee",
   "metadata": {},
   "outputs": [
    {
     "data": {
      "text/plain": [
       "['C1022121F52', 'C1121945F54', 'C1139926F55', 'C1392321F52', 'C1422151F52']"
      ]
     },
     "execution_count": 74,
     "metadata": {},
     "output_type": "execute_result"
    }
   ],
   "source": [
    "cluster[(1, 1, 1, 1)][0:5]"
   ]
  },
  {
   "cell_type": "code",
   "execution_count": 75,
   "id": "2c71a565",
   "metadata": {},
   "outputs": [
    {
     "data": {
      "text/plain": [
       "5767"
      ]
     },
     "execution_count": 75,
     "metadata": {},
     "output_type": "execute_result"
    }
   ],
   "source": [
    "len(cluster.keys())"
   ]
  },
  {
   "cell_type": "markdown",
   "id": "b81a6b79",
   "metadata": {},
   "source": [
    "There are 5767 buckets in the dictionary "
   ]
  },
  {
   "cell_type": "markdown",
   "id": "472b25d3",
   "metadata": {},
   "source": [
    "Now let's have a try with other band sizes repeating the same procedure. With a smaller band size we will expect for a less number of buckets with less similar users:"
   ]
  },
  {
   "cell_type": "code",
   "execution_count": 76,
   "id": "ff7e1e61",
   "metadata": {},
   "outputs": [
    {
     "name": "stderr",
     "output_type": "stream",
     "text": [
      "100%|███████████████████████████████████████████| 10/10 [00:57<00:00,  5.75s/it]\n"
     ]
    }
   ],
   "source": [
    "b = 2\n",
    "\n",
    "indexes = list(range(signature_matrix.shape[1])) #create a list of indexes \n",
    "\n",
    "signature_matrix_transposed = signature_matrix.T #transpose the matrix to get subvectors column\n",
    "\n",
    "cluster = {} #initialize the dictionary containing as keys the subvector and as values the indexes of the customer\n",
    "\n",
    "for i in tq(range(0, signature_matrix.shape[0], b)):  #iterate over the row with step size equal to bandsize\n",
    "    \n",
    "    #take the subvector of dimension i, i+b (band size) from the column\n",
    "    mini_vectors = signature_matrix_transposed[:, i:i+b] \n",
    "    \n",
    "    # sorts the subvectors associated to the indexes to maintain the relationship with the index of the customers.\n",
    "    # We use a tuple instead of a list because tuples can be hashable and therefore \n",
    "    # usable as keys for dictionaries. In this way we will have the same subvector as neighbors\n",
    "    \n",
    "    c = [(i, tuple(v)) for v, i in sorted(zip(mini_vectors.tolist(), indexes))]\n",
    "    \n",
    "    curr_vector = c[0][1] #take the subvector from the tuple composed by index and subvector\n",
    "    \n",
    "    #Now we have equal subvector as neighbor, so we can iterate over these groups of equal subvector\n",
    "    for i, v in c:  \n",
    "        \n",
    "        if v not in cluster: #if the subvector is not a key in the cluster --> initialize it \n",
    "            \n",
    "            cluster[v] = []\n",
    "        \n",
    "        if curr_vector != v: #when the iteration go over the group of equal subvector updtate the current vector\n",
    "            \n",
    "            curr_vector = v\n",
    "\n",
    "        cluster[v].append(i) #append as values the indexes\n",
    "            "
   ]
  },
  {
   "cell_type": "code",
   "execution_count": 77,
   "id": "0a028981",
   "metadata": {},
   "outputs": [],
   "source": [
    "for key in cluster.keys():\n",
    "    \n",
    "    cluster[key] = df.loc[cluster[key]]['New_ID'].to_list()"
   ]
  },
  {
   "cell_type": "code",
   "execution_count": 79,
   "id": "303a36f9",
   "metadata": {},
   "outputs": [
    {
     "data": {
      "text/plain": [
       "['C1010958F53', 'C1011252F55', 'C1012669F53', 'C1012970F52', 'C1013372F55']"
      ]
     },
     "execution_count": 79,
     "metadata": {},
     "output_type": "execute_result"
    }
   ],
   "source": [
    "cluster[(1, 1)][0:5]"
   ]
  },
  {
   "cell_type": "code",
   "execution_count": 80,
   "id": "5fffd5b8",
   "metadata": {},
   "outputs": [
    {
     "data": {
      "text/html": [
       "<div>\n",
       "<style scoped>\n",
       "    .dataframe tbody tr th:only-of-type {\n",
       "        vertical-align: middle;\n",
       "    }\n",
       "\n",
       "    .dataframe tbody tr th {\n",
       "        vertical-align: top;\n",
       "    }\n",
       "\n",
       "    .dataframe thead th {\n",
       "        text-align: right;\n",
       "    }\n",
       "</style>\n",
       "<table border=\"1\" class=\"dataframe\">\n",
       "  <thead>\n",
       "    <tr style=\"text-align: right;\">\n",
       "      <th></th>\n",
       "      <th>New_ID</th>\n",
       "      <th>CustGender</th>\n",
       "      <th>CustomerClassAge</th>\n",
       "      <th>Richness</th>\n",
       "      <th>Expenditure</th>\n",
       "    </tr>\n",
       "  </thead>\n",
       "  <tbody>\n",
       "    <tr>\n",
       "      <th>1</th>\n",
       "      <td>C1010011M33</td>\n",
       "      <td>M</td>\n",
       "      <td>age_4</td>\n",
       "      <td>richness_9</td>\n",
       "      <td>exp_5</td>\n",
       "    </tr>\n",
       "    <tr>\n",
       "      <th>4</th>\n",
       "      <td>C1010014M32</td>\n",
       "      <td>M</td>\n",
       "      <td>age_4</td>\n",
       "      <td>richness_9</td>\n",
       "      <td>exp_4</td>\n",
       "    </tr>\n",
       "    <tr>\n",
       "      <th>6</th>\n",
       "      <td>C1010024M51</td>\n",
       "      <td>M</td>\n",
       "      <td>age_8</td>\n",
       "      <td>richness_9</td>\n",
       "      <td>exp_10</td>\n",
       "    </tr>\n",
       "    <tr>\n",
       "      <th>13</th>\n",
       "      <td>C1010037M35</td>\n",
       "      <td>M</td>\n",
       "      <td>age_4</td>\n",
       "      <td>richness_9</td>\n",
       "      <td>exp_10</td>\n",
       "    </tr>\n",
       "    <tr>\n",
       "      <th>23</th>\n",
       "      <td>C1010051M0</td>\n",
       "      <td>M</td>\n",
       "      <td>age_0</td>\n",
       "      <td>richness_9</td>\n",
       "      <td>exp_9</td>\n",
       "    </tr>\n",
       "    <tr>\n",
       "      <th>...</th>\n",
       "      <td>...</td>\n",
       "      <td>...</td>\n",
       "      <td>...</td>\n",
       "      <td>...</td>\n",
       "      <td>...</td>\n",
       "    </tr>\n",
       "    <tr>\n",
       "      <th>1034891</th>\n",
       "      <td>C9098146M27</td>\n",
       "      <td>M</td>\n",
       "      <td>age_3</td>\n",
       "      <td>richness_9</td>\n",
       "      <td>exp_5</td>\n",
       "    </tr>\n",
       "    <tr>\n",
       "      <th>1034904</th>\n",
       "      <td>C9098525M0</td>\n",
       "      <td>M</td>\n",
       "      <td>age_0</td>\n",
       "      <td>richness_9</td>\n",
       "      <td>exp_6</td>\n",
       "    </tr>\n",
       "    <tr>\n",
       "      <th>1034945</th>\n",
       "      <td>C9099828M20</td>\n",
       "      <td>M</td>\n",
       "      <td>age_1</td>\n",
       "      <td>richness_9</td>\n",
       "      <td>exp_2</td>\n",
       "    </tr>\n",
       "    <tr>\n",
       "      <th>1034947</th>\n",
       "      <td>C9099836M26</td>\n",
       "      <td>M</td>\n",
       "      <td>age_3</td>\n",
       "      <td>richness_9</td>\n",
       "      <td>exp_7</td>\n",
       "    </tr>\n",
       "    <tr>\n",
       "      <th>1034948</th>\n",
       "      <td>C9099877M20</td>\n",
       "      <td>M</td>\n",
       "      <td>age_1</td>\n",
       "      <td>richness_9</td>\n",
       "      <td>exp_4</td>\n",
       "    </tr>\n",
       "  </tbody>\n",
       "</table>\n",
       "<p>121147 rows × 5 columns</p>\n",
       "</div>"
      ],
      "text/plain": [
       "              New_ID CustGender CustomerClassAge    Richness Expenditure\n",
       "1        C1010011M33          M            age_4  richness_9       exp_5\n",
       "4        C1010014M32          M            age_4  richness_9       exp_4\n",
       "6        C1010024M51          M            age_8  richness_9      exp_10\n",
       "13       C1010037M35          M            age_4  richness_9      exp_10\n",
       "23        C1010051M0          M            age_0  richness_9       exp_9\n",
       "...              ...        ...              ...         ...         ...\n",
       "1034891  C9098146M27          M            age_3  richness_9       exp_5\n",
       "1034904   C9098525M0          M            age_0  richness_9       exp_6\n",
       "1034945  C9099828M20          M            age_1  richness_9       exp_2\n",
       "1034947  C9099836M26          M            age_3  richness_9       exp_7\n",
       "1034948  C9099877M20          M            age_1  richness_9       exp_4\n",
       "\n",
       "[121147 rows x 5 columns]"
      ]
     },
     "execution_count": 80,
     "metadata": {},
     "output_type": "execute_result"
    }
   ],
   "source": [
    "df[df['New_ID'].isin(cluster[(1,1)])]  #print the customers of bucket (1,1)"
   ]
  },
  {
   "cell_type": "code",
   "execution_count": 81,
   "id": "6d1b177f",
   "metadata": {},
   "outputs": [
    {
     "data": {
      "text/plain": [
       "746"
      ]
     },
     "execution_count": 81,
     "metadata": {},
     "output_type": "execute_result"
    }
   ],
   "source": [
    "len(cluster.keys())"
   ]
  },
  {
   "cell_type": "markdown",
   "id": "2e01773f",
   "metadata": {},
   "source": [
    "As we wanted to prove, we have a less number of buckets and less similar customer. "
   ]
  },
  {
   "cell_type": "markdown",
   "id": "b89fbd7d",
   "metadata": {},
   "source": [
    "Let's try with a larger number of band size:"
   ]
  },
  {
   "cell_type": "code",
   "execution_count": 82,
   "id": "5739837b",
   "metadata": {},
   "outputs": [
    {
     "name": "stderr",
     "output_type": "stream",
     "text": [
      "100%|█████████████████████████████████████████████| 4/4 [00:30<00:00,  7.71s/it]\n"
     ]
    }
   ],
   "source": [
    "b = 5\n",
    "\n",
    "indexes = list(range(signature_matrix.shape[1])) #create a list of indexes \n",
    "\n",
    "signature_matrix_transposed = signature_matrix.T #transpose the matrix to get subvectors column\n",
    "\n",
    "cluster = {} #initialize the dictionary containing as keys the subvector and as values the indexes of the customer\n",
    "\n",
    "for i in tq(range(0, signature_matrix.shape[0], b)):  #iterate over the row with step size equal to bandsize\n",
    "    \n",
    "    #take the subvector of dimension i, i+b (band size) from the column\n",
    "    mini_vectors = signature_matrix_transposed[:, i:i+b] \n",
    "    \n",
    "    # sorts the subvectors associated to the indexes to maintain the relationship with the index of the customers.\n",
    "    # We use a tuple instead of a list because tuples can be hashable and therefore \n",
    "    # usable as keys for dictionaries. In this way we will have the same subvector as neighbors\n",
    "    \n",
    "    c = [(i, tuple(v)) for v, i in sorted(zip(mini_vectors.tolist(), indexes))]\n",
    "    \n",
    "    curr_vector = c[0][1] #take the subvector from the tuple composed by index and subvector\n",
    "    \n",
    "    #Now we have equal subvector as neighbor, so we can iterate over these groups of equal subvector\n",
    "    for i, v in c:  \n",
    "        \n",
    "        if v not in cluster: #if the subvector is not a key in the cluster --> initialize it \n",
    "            \n",
    "            cluster[v] = []\n",
    "        \n",
    "        if curr_vector != v: #when the iteration go over the group of equal subvector updtate the current vector\n",
    "            \n",
    "            curr_vector = v\n",
    "\n",
    "        cluster[v].append(i) #append as values the indexes"
   ]
  },
  {
   "cell_type": "code",
   "execution_count": 83,
   "id": "3cdeaa17",
   "metadata": {},
   "outputs": [],
   "source": [
    "for key in cluster.keys():\n",
    "    \n",
    "    cluster[key] = df.loc[cluster[key]]['New_ID'].to_list()"
   ]
  },
  {
   "cell_type": "code",
   "execution_count": 91,
   "id": "506635eb",
   "metadata": {},
   "outputs": [
    {
     "data": {
      "text/plain": [
       "(1, 1, 1, 6, 11)"
      ]
     },
     "execution_count": 91,
     "metadata": {},
     "output_type": "execute_result"
    }
   ],
   "source": [
    "list(cluster.keys())[1]"
   ]
  },
  {
   "cell_type": "code",
   "execution_count": 92,
   "id": "5cb49ddb",
   "metadata": {},
   "outputs": [
    {
     "data": {
      "text/html": [
       "<div>\n",
       "<style scoped>\n",
       "    .dataframe tbody tr th:only-of-type {\n",
       "        vertical-align: middle;\n",
       "    }\n",
       "\n",
       "    .dataframe tbody tr th {\n",
       "        vertical-align: top;\n",
       "    }\n",
       "\n",
       "    .dataframe thead th {\n",
       "        text-align: right;\n",
       "    }\n",
       "</style>\n",
       "<table border=\"1\" class=\"dataframe\">\n",
       "  <thead>\n",
       "    <tr style=\"text-align: right;\">\n",
       "      <th></th>\n",
       "      <th>New_ID</th>\n",
       "      <th>CustGender</th>\n",
       "      <th>CustomerClassAge</th>\n",
       "      <th>Richness</th>\n",
       "      <th>Expenditure</th>\n",
       "    </tr>\n",
       "  </thead>\n",
       "  <tbody>\n",
       "    <tr>\n",
       "      <th>326</th>\n",
       "      <td>C1010958F53</td>\n",
       "      <td>F</td>\n",
       "      <td>age_8</td>\n",
       "      <td>richness_9</td>\n",
       "      <td>exp_1</td>\n",
       "    </tr>\n",
       "    <tr>\n",
       "      <th>5553</th>\n",
       "      <td>C1026782F55</td>\n",
       "      <td>F</td>\n",
       "      <td>age_8</td>\n",
       "      <td>richness_9</td>\n",
       "      <td>exp_1</td>\n",
       "    </tr>\n",
       "    <tr>\n",
       "      <th>5833</th>\n",
       "      <td>C1027552F52</td>\n",
       "      <td>F</td>\n",
       "      <td>age_8</td>\n",
       "      <td>richness_9</td>\n",
       "      <td>exp_1</td>\n",
       "    </tr>\n",
       "    <tr>\n",
       "      <th>15736</th>\n",
       "      <td>C1118939F54</td>\n",
       "      <td>F</td>\n",
       "      <td>age_8</td>\n",
       "      <td>richness_9</td>\n",
       "      <td>exp_1</td>\n",
       "    </tr>\n",
       "    <tr>\n",
       "      <th>33560</th>\n",
       "      <td>C1234222F54</td>\n",
       "      <td>F</td>\n",
       "      <td>age_8</td>\n",
       "      <td>richness_9</td>\n",
       "      <td>exp_1</td>\n",
       "    </tr>\n",
       "    <tr>\n",
       "      <th>...</th>\n",
       "      <td>...</td>\n",
       "      <td>...</td>\n",
       "      <td>...</td>\n",
       "      <td>...</td>\n",
       "      <td>...</td>\n",
       "    </tr>\n",
       "    <tr>\n",
       "      <th>966881</th>\n",
       "      <td>C8536983F54</td>\n",
       "      <td>F</td>\n",
       "      <td>age_8</td>\n",
       "      <td>richness_9</td>\n",
       "      <td>exp_1</td>\n",
       "    </tr>\n",
       "    <tr>\n",
       "      <th>976325</th>\n",
       "      <td>C8626736F55</td>\n",
       "      <td>F</td>\n",
       "      <td>age_8</td>\n",
       "      <td>richness_9</td>\n",
       "      <td>exp_1</td>\n",
       "    </tr>\n",
       "    <tr>\n",
       "      <th>1002020</th>\n",
       "      <td>C8826764F55</td>\n",
       "      <td>F</td>\n",
       "      <td>age_8</td>\n",
       "      <td>richness_9</td>\n",
       "      <td>exp_1</td>\n",
       "    </tr>\n",
       "    <tr>\n",
       "      <th>1004509</th>\n",
       "      <td>C8834279F54</td>\n",
       "      <td>F</td>\n",
       "      <td>age_8</td>\n",
       "      <td>richness_9</td>\n",
       "      <td>exp_1</td>\n",
       "    </tr>\n",
       "    <tr>\n",
       "      <th>1014308</th>\n",
       "      <td>C8924812F53</td>\n",
       "      <td>F</td>\n",
       "      <td>age_8</td>\n",
       "      <td>richness_9</td>\n",
       "      <td>exp_1</td>\n",
       "    </tr>\n",
       "  </tbody>\n",
       "</table>\n",
       "<p>78 rows × 5 columns</p>\n",
       "</div>"
      ],
      "text/plain": [
       "              New_ID CustGender CustomerClassAge    Richness Expenditure\n",
       "326      C1010958F53          F            age_8  richness_9       exp_1\n",
       "5553     C1026782F55          F            age_8  richness_9       exp_1\n",
       "5833     C1027552F52          F            age_8  richness_9       exp_1\n",
       "15736    C1118939F54          F            age_8  richness_9       exp_1\n",
       "33560    C1234222F54          F            age_8  richness_9       exp_1\n",
       "...              ...        ...              ...         ...         ...\n",
       "966881   C8536983F54          F            age_8  richness_9       exp_1\n",
       "976325   C8626736F55          F            age_8  richness_9       exp_1\n",
       "1002020  C8826764F55          F            age_8  richness_9       exp_1\n",
       "1004509  C8834279F54          F            age_8  richness_9       exp_1\n",
       "1014308  C8924812F53          F            age_8  richness_9       exp_1\n",
       "\n",
       "[78 rows x 5 columns]"
      ]
     },
     "execution_count": 92,
     "metadata": {},
     "output_type": "execute_result"
    }
   ],
   "source": [
    "df[df['New_ID'].isin(cluster[(1, 1, 1, 6, 11)])]  #print the customers of bucket (1,1)"
   ]
  },
  {
   "cell_type": "code",
   "execution_count": 93,
   "id": "53f9beda",
   "metadata": {},
   "outputs": [
    {
     "data": {
      "text/plain": [
       "7218"
      ]
     },
     "execution_count": 93,
     "metadata": {},
     "output_type": "execute_result"
    }
   ],
   "source": [
    "len(cluster)"
   ]
  },
  {
   "cell_type": "markdown",
   "id": "2738d5d1",
   "metadata": {},
   "source": [
    "As we wanted to prove there is a larger number of bucket and the customers have all the same values in the different fields. \n",
    "\n",
    "So, the choice of the band size $depends$ on how much similar customer do you want in your bucket. Supposing our request is not too restrictive we can choose 2 as band size to execute the query for the next point. "
   ]
  },
  {
   "cell_type": "markdown",
   "id": "addaa88b",
   "metadata": {},
   "source": [
    "# 1.3 Locality Sensitive Hashing\n",
    "\n",
    "Now that you prepared your algorithm, it's query time!\n",
    "We have prepared some dummy users for you to work with.\n",
    "\n",
    "Download this csv and report the most similar users (comparing them against the dataset provided in Kaggle).\n",
    "Did your hashing method work properly, what scores have you obtained and how long did it take to run? Provide information and analysis about the results"
   ]
  },
  {
   "cell_type": "markdown",
   "id": "cc07dbfc",
   "metadata": {},
   "source": [
    "# 1.3.1 Pre-processing Query dataset"
   ]
  },
  {
   "cell_type": "markdown",
   "id": "39133040",
   "metadata": {},
   "source": [
    "First of all we need to pre-process the query dataset in the same way we pre-process the initial Kaggle dataset:"
   ]
  },
  {
   "cell_type": "code",
   "execution_count": 98,
   "id": "177961ed",
   "metadata": {},
   "outputs": [],
   "source": [
    "query = pd.read_csv(\"/Users/giacomo/Desktop/ADM_HW4/query_users.csv\")"
   ]
  },
  {
   "cell_type": "code",
   "execution_count": 99,
   "id": "8ff96075",
   "metadata": {},
   "outputs": [
    {
     "data": {
      "text/html": [
       "<div>\n",
       "<style scoped>\n",
       "    .dataframe tbody tr th:only-of-type {\n",
       "        vertical-align: middle;\n",
       "    }\n",
       "\n",
       "    .dataframe tbody tr th {\n",
       "        vertical-align: top;\n",
       "    }\n",
       "\n",
       "    .dataframe thead th {\n",
       "        text-align: right;\n",
       "    }\n",
       "</style>\n",
       "<table border=\"1\" class=\"dataframe\">\n",
       "  <thead>\n",
       "    <tr style=\"text-align: right;\">\n",
       "      <th></th>\n",
       "      <th>CustomerDOB</th>\n",
       "      <th>CustGender</th>\n",
       "      <th>CustLocation</th>\n",
       "      <th>CustAccountBalance</th>\n",
       "      <th>TransactionDate</th>\n",
       "      <th>TransactionTime</th>\n",
       "      <th>TransactionAmount (INR)</th>\n",
       "    </tr>\n",
       "  </thead>\n",
       "  <tbody>\n",
       "    <tr>\n",
       "      <th>0</th>\n",
       "      <td>27/7/78</td>\n",
       "      <td>M</td>\n",
       "      <td>DELHI</td>\n",
       "      <td>94695.61</td>\n",
       "      <td>2/9/16</td>\n",
       "      <td>140310</td>\n",
       "      <td>65.0</td>\n",
       "    </tr>\n",
       "    <tr>\n",
       "      <th>1</th>\n",
       "      <td>6/11/92</td>\n",
       "      <td>M</td>\n",
       "      <td>PANCHKULA</td>\n",
       "      <td>7584.09</td>\n",
       "      <td>2/9/16</td>\n",
       "      <td>120214</td>\n",
       "      <td>6025.0</td>\n",
       "    </tr>\n",
       "    <tr>\n",
       "      <th>2</th>\n",
       "      <td>14/8/91</td>\n",
       "      <td>M</td>\n",
       "      <td>PATNA</td>\n",
       "      <td>7180.60</td>\n",
       "      <td>10/8/16</td>\n",
       "      <td>221732</td>\n",
       "      <td>541.5</td>\n",
       "    </tr>\n",
       "    <tr>\n",
       "      <th>3</th>\n",
       "      <td>3/1/87</td>\n",
       "      <td>M</td>\n",
       "      <td>CHENNAI</td>\n",
       "      <td>56847.75</td>\n",
       "      <td>29/8/16</td>\n",
       "      <td>144138</td>\n",
       "      <td>1000.0</td>\n",
       "    </tr>\n",
       "    <tr>\n",
       "      <th>4</th>\n",
       "      <td>4/1/95</td>\n",
       "      <td>M</td>\n",
       "      <td>GURGAON</td>\n",
       "      <td>84950.13</td>\n",
       "      <td>25/9/16</td>\n",
       "      <td>233309</td>\n",
       "      <td>80.0</td>\n",
       "    </tr>\n",
       "  </tbody>\n",
       "</table>\n",
       "</div>"
      ],
      "text/plain": [
       "  CustomerDOB CustGender CustLocation  CustAccountBalance TransactionDate  \\\n",
       "0     27/7/78          M        DELHI            94695.61          2/9/16   \n",
       "1     6/11/92          M    PANCHKULA             7584.09          2/9/16   \n",
       "2     14/8/91          M        PATNA             7180.60         10/8/16   \n",
       "3      3/1/87          M      CHENNAI            56847.75         29/8/16   \n",
       "4      4/1/95          M      GURGAON            84950.13         25/9/16   \n",
       "\n",
       "   TransactionTime  TransactionAmount (INR)  \n",
       "0           140310                     65.0  \n",
       "1           120214                   6025.0  \n",
       "2           221732                    541.5  \n",
       "3           144138                   1000.0  \n",
       "4           233309                     80.0  "
      ]
     },
     "execution_count": 99,
     "metadata": {},
     "output_type": "execute_result"
    }
   ],
   "source": [
    "query.head()"
   ]
  },
  {
   "cell_type": "code",
   "execution_count": 100,
   "id": "812535b3",
   "metadata": {},
   "outputs": [],
   "source": [
    "del query['CustLocation'], query['TransactionTime'] #We didn't those features for the customers "
   ]
  },
  {
   "cell_type": "markdown",
   "id": "8ebca7cf",
   "metadata": {},
   "source": [
    "First of all we convert them into class of age, richness and expenditure.\n",
    "\n",
    "Starting with the age, we used the same procedure of point 1.1:"
   ]
  },
  {
   "cell_type": "code",
   "execution_count": 101,
   "id": "7153e938",
   "metadata": {},
   "outputs": [],
   "source": [
    "#In order to calculate the ages we need to transform into datetime birthday and year of the transactions\n",
    "\n",
    "query['CustomerDOB'] = pd.to_datetime(query['CustomerDOB']) \n",
    "\n",
    "query['TransactionDate'] = pd.to_datetime(query['TransactionDate']) "
   ]
  },
  {
   "cell_type": "code",
   "execution_count": 103,
   "id": "e54bc963",
   "metadata": {},
   "outputs": [],
   "source": [
    "query['CustomerAge'] = 0 #initialize with values zero the ages"
   ]
  },
  {
   "cell_type": "code",
   "execution_count": 104,
   "id": "3568442b",
   "metadata": {},
   "outputs": [],
   "source": [
    "#give an age only to queries that have a different YOB from 1800\n",
    "\n",
    "query.loc[query['CustomerDOB'].dt.year != 1800, 'CustomerAge'] = query.loc[query['CustomerDOB'].dt.year != 1800, 'TransactionDate'].dt.year - query.loc[query['CustomerDOB'].dt.year != 1800, 'CustomerDOB'].dt.year "
   ]
  },
  {
   "cell_type": "code",
   "execution_count": 105,
   "id": "4217a4b4",
   "metadata": {},
   "outputs": [
    {
     "data": {
      "text/html": [
       "<div>\n",
       "<style scoped>\n",
       "    .dataframe tbody tr th:only-of-type {\n",
       "        vertical-align: middle;\n",
       "    }\n",
       "\n",
       "    .dataframe tbody tr th {\n",
       "        vertical-align: top;\n",
       "    }\n",
       "\n",
       "    .dataframe thead th {\n",
       "        text-align: right;\n",
       "    }\n",
       "</style>\n",
       "<table border=\"1\" class=\"dataframe\">\n",
       "  <thead>\n",
       "    <tr style=\"text-align: right;\">\n",
       "      <th></th>\n",
       "      <th>CustomerDOB</th>\n",
       "      <th>CustGender</th>\n",
       "      <th>CustAccountBalance</th>\n",
       "      <th>TransactionDate</th>\n",
       "      <th>TransactionAmount (INR)</th>\n",
       "      <th>CustomerAge</th>\n",
       "    </tr>\n",
       "  </thead>\n",
       "  <tbody>\n",
       "    <tr>\n",
       "      <th>0</th>\n",
       "      <td>1978-07-27</td>\n",
       "      <td>M</td>\n",
       "      <td>94695.61</td>\n",
       "      <td>2016-02-09</td>\n",
       "      <td>65.0</td>\n",
       "      <td>38</td>\n",
       "    </tr>\n",
       "    <tr>\n",
       "      <th>1</th>\n",
       "      <td>1992-06-11</td>\n",
       "      <td>M</td>\n",
       "      <td>7584.09</td>\n",
       "      <td>2016-02-09</td>\n",
       "      <td>6025.0</td>\n",
       "      <td>24</td>\n",
       "    </tr>\n",
       "    <tr>\n",
       "      <th>2</th>\n",
       "      <td>1991-08-14</td>\n",
       "      <td>M</td>\n",
       "      <td>7180.60</td>\n",
       "      <td>2016-10-08</td>\n",
       "      <td>541.5</td>\n",
       "      <td>25</td>\n",
       "    </tr>\n",
       "    <tr>\n",
       "      <th>3</th>\n",
       "      <td>1987-03-01</td>\n",
       "      <td>M</td>\n",
       "      <td>56847.75</td>\n",
       "      <td>2016-08-29</td>\n",
       "      <td>1000.0</td>\n",
       "      <td>29</td>\n",
       "    </tr>\n",
       "    <tr>\n",
       "      <th>4</th>\n",
       "      <td>1995-04-01</td>\n",
       "      <td>M</td>\n",
       "      <td>84950.13</td>\n",
       "      <td>2016-09-25</td>\n",
       "      <td>80.0</td>\n",
       "      <td>21</td>\n",
       "    </tr>\n",
       "  </tbody>\n",
       "</table>\n",
       "</div>"
      ],
      "text/plain": [
       "  CustomerDOB CustGender  CustAccountBalance TransactionDate  \\\n",
       "0  1978-07-27          M            94695.61      2016-02-09   \n",
       "1  1992-06-11          M             7584.09      2016-02-09   \n",
       "2  1991-08-14          M             7180.60      2016-10-08   \n",
       "3  1987-03-01          M            56847.75      2016-08-29   \n",
       "4  1995-04-01          M            84950.13      2016-09-25   \n",
       "\n",
       "   TransactionAmount (INR)  CustomerAge  \n",
       "0                     65.0           38  \n",
       "1                   6025.0           24  \n",
       "2                    541.5           25  \n",
       "3                   1000.0           29  \n",
       "4                     80.0           21  "
      ]
     },
     "execution_count": 105,
     "metadata": {},
     "output_type": "execute_result"
    }
   ],
   "source": [
    "query.head(5)"
   ]
  },
  {
   "cell_type": "code",
   "execution_count": 106,
   "id": "f3c1caf0",
   "metadata": {},
   "outputs": [],
   "source": [
    "del query['TransactionDate'], query['CustomerDOB'] #deleting the data that we don't need"
   ]
  },
  {
   "cell_type": "markdown",
   "id": "11218287",
   "metadata": {},
   "source": [
    "We binned the ages into the same classes of point 1.1:"
   ]
  },
  {
   "cell_type": "code",
   "execution_count": 110,
   "id": "eb97a388",
   "metadata": {},
   "outputs": [],
   "source": [
    "bins = np.array(list(range(16, 102, 5)))  #bins\n",
    "\n",
    "def age(age):\n",
    "    \n",
    "    class_age = np.digitize(age, bins, right=False)  #return the number of the bin\n",
    "    \n",
    "    age = 'age_' + str(class_age) #create a string of class age\n",
    "        \n",
    "    return age\n",
    "\n",
    "query['CustomerClassAge'] = query.CustomerAge.apply(lambda x: age(x)) #build a new column called class age"
   ]
  },
  {
   "cell_type": "code",
   "execution_count": 111,
   "id": "b83d7646",
   "metadata": {},
   "outputs": [],
   "source": [
    "del query['CustomerAge'] #deleting the column with the ages"
   ]
  },
  {
   "cell_type": "code",
   "execution_count": 112,
   "id": "043e64dd",
   "metadata": {},
   "outputs": [
    {
     "data": {
      "text/html": [
       "<div>\n",
       "<style scoped>\n",
       "    .dataframe tbody tr th:only-of-type {\n",
       "        vertical-align: middle;\n",
       "    }\n",
       "\n",
       "    .dataframe tbody tr th {\n",
       "        vertical-align: top;\n",
       "    }\n",
       "\n",
       "    .dataframe thead th {\n",
       "        text-align: right;\n",
       "    }\n",
       "</style>\n",
       "<table border=\"1\" class=\"dataframe\">\n",
       "  <thead>\n",
       "    <tr style=\"text-align: right;\">\n",
       "      <th></th>\n",
       "      <th>CustGender</th>\n",
       "      <th>CustAccountBalance</th>\n",
       "      <th>TransactionAmount (INR)</th>\n",
       "      <th>CustomerClassAge</th>\n",
       "    </tr>\n",
       "  </thead>\n",
       "  <tbody>\n",
       "    <tr>\n",
       "      <th>0</th>\n",
       "      <td>M</td>\n",
       "      <td>94695.61</td>\n",
       "      <td>65.0</td>\n",
       "      <td>age_5</td>\n",
       "    </tr>\n",
       "    <tr>\n",
       "      <th>1</th>\n",
       "      <td>M</td>\n",
       "      <td>7584.09</td>\n",
       "      <td>6025.0</td>\n",
       "      <td>age_2</td>\n",
       "    </tr>\n",
       "    <tr>\n",
       "      <th>2</th>\n",
       "      <td>M</td>\n",
       "      <td>7180.60</td>\n",
       "      <td>541.5</td>\n",
       "      <td>age_2</td>\n",
       "    </tr>\n",
       "    <tr>\n",
       "      <th>3</th>\n",
       "      <td>M</td>\n",
       "      <td>56847.75</td>\n",
       "      <td>1000.0</td>\n",
       "      <td>age_3</td>\n",
       "    </tr>\n",
       "    <tr>\n",
       "      <th>4</th>\n",
       "      <td>M</td>\n",
       "      <td>84950.13</td>\n",
       "      <td>80.0</td>\n",
       "      <td>age_2</td>\n",
       "    </tr>\n",
       "  </tbody>\n",
       "</table>\n",
       "</div>"
      ],
      "text/plain": [
       "  CustGender  CustAccountBalance  TransactionAmount (INR) CustomerClassAge\n",
       "0          M            94695.61                     65.0            age_5\n",
       "1          M             7584.09                   6025.0            age_2\n",
       "2          M             7180.60                    541.5            age_2\n",
       "3          M            56847.75                   1000.0            age_3\n",
       "4          M            84950.13                     80.0            age_2"
      ]
     },
     "execution_count": 112,
     "metadata": {},
     "output_type": "execute_result"
    }
   ],
   "source": [
    "query.head()"
   ]
  },
  {
   "cell_type": "markdown",
   "id": "b8408d90",
   "metadata": {},
   "source": [
    "Now it's the turn of the column of richness. In this case we cannot use the quantiles to divide into bins the account balance of the customer cause it will be a different results from the classes of the point 1.1. For this reason we used the bins that we saved in point 1.1 and the function pd.cut that binned the values with the bins we insert labelling them with the labels we want. "
   ]
  },
  {
   "cell_type": "code",
   "execution_count": 113,
   "id": "7e0ef813",
   "metadata": {},
   "outputs": [],
   "source": [
    "bin_labels = ['richness_0', 'richness_1', 'richness_2', 'richness_3', 'richness_4', 'richness_5', 'richness_6', 'richness_7', 'richness_8', 'richness_9', 'richness_10']"
   ]
  },
  {
   "cell_type": "markdown",
   "id": "49c23166",
   "metadata": {},
   "source": [
    "We recalled from memory the bins of the classes of richness:"
   ]
  },
  {
   "cell_type": "code",
   "execution_count": 117,
   "id": "bed58616",
   "metadata": {},
   "outputs": [],
   "source": [
    "%store -r query_bins_richness  "
   ]
  },
  {
   "cell_type": "code",
   "execution_count": 119,
   "id": "f6e83732",
   "metadata": {},
   "outputs": [],
   "source": [
    "#create the column with the classes of richness:\n",
    "\n",
    "query['Richness'] = pd.cut(query.CustAccountBalance, bins = query_bins_richness, labels=bin_labels, right=False)"
   ]
  },
  {
   "cell_type": "code",
   "execution_count": 120,
   "id": "551e9d31",
   "metadata": {},
   "outputs": [],
   "source": [
    "del query['CustAccountBalance'] #deleting the column that we don't need"
   ]
  },
  {
   "cell_type": "code",
   "execution_count": 121,
   "id": "65edba9a",
   "metadata": {},
   "outputs": [
    {
     "data": {
      "text/html": [
       "<div>\n",
       "<style scoped>\n",
       "    .dataframe tbody tr th:only-of-type {\n",
       "        vertical-align: middle;\n",
       "    }\n",
       "\n",
       "    .dataframe tbody tr th {\n",
       "        vertical-align: top;\n",
       "    }\n",
       "\n",
       "    .dataframe thead th {\n",
       "        text-align: right;\n",
       "    }\n",
       "</style>\n",
       "<table border=\"1\" class=\"dataframe\">\n",
       "  <thead>\n",
       "    <tr style=\"text-align: right;\">\n",
       "      <th></th>\n",
       "      <th>CustGender</th>\n",
       "      <th>TransactionAmount (INR)</th>\n",
       "      <th>CustomerClassAge</th>\n",
       "      <th>Richness</th>\n",
       "    </tr>\n",
       "  </thead>\n",
       "  <tbody>\n",
       "    <tr>\n",
       "      <th>0</th>\n",
       "      <td>M</td>\n",
       "      <td>65.0</td>\n",
       "      <td>age_5</td>\n",
       "      <td>richness_9</td>\n",
       "    </tr>\n",
       "    <tr>\n",
       "      <th>1</th>\n",
       "      <td>M</td>\n",
       "      <td>6025.0</td>\n",
       "      <td>age_2</td>\n",
       "      <td>richness_4</td>\n",
       "    </tr>\n",
       "    <tr>\n",
       "      <th>2</th>\n",
       "      <td>M</td>\n",
       "      <td>541.5</td>\n",
       "      <td>age_2</td>\n",
       "      <td>richness_4</td>\n",
       "    </tr>\n",
       "    <tr>\n",
       "      <th>3</th>\n",
       "      <td>M</td>\n",
       "      <td>1000.0</td>\n",
       "      <td>age_3</td>\n",
       "      <td>richness_8</td>\n",
       "    </tr>\n",
       "    <tr>\n",
       "      <th>4</th>\n",
       "      <td>M</td>\n",
       "      <td>80.0</td>\n",
       "      <td>age_2</td>\n",
       "      <td>richness_9</td>\n",
       "    </tr>\n",
       "  </tbody>\n",
       "</table>\n",
       "</div>"
      ],
      "text/plain": [
       "  CustGender  TransactionAmount (INR) CustomerClassAge    Richness\n",
       "0          M                     65.0            age_5  richness_9\n",
       "1          M                   6025.0            age_2  richness_4\n",
       "2          M                    541.5            age_2  richness_4\n",
       "3          M                   1000.0            age_3  richness_8\n",
       "4          M                     80.0            age_2  richness_9"
      ]
     },
     "execution_count": 121,
     "metadata": {},
     "output_type": "execute_result"
    }
   ],
   "source": [
    "query.head() #check the result"
   ]
  },
  {
   "cell_type": "markdown",
   "id": "9820b084",
   "metadata": {},
   "source": [
    "We repeated the same procedure of the richness for the expenditure class:"
   ]
  },
  {
   "cell_type": "code",
   "execution_count": 123,
   "id": "31cbecc4",
   "metadata": {},
   "outputs": [],
   "source": [
    "%store -r query_bins_expenditure"
   ]
  },
  {
   "cell_type": "code",
   "execution_count": 124,
   "id": "c0e0c515",
   "metadata": {},
   "outputs": [],
   "source": [
    "#create the column expenditure\n",
    "\n",
    "bin_labels = ['exp_1', 'exp_2', 'exp_3', 'exp_4', 'exp_5', 'exp_6', 'exp_7', 'exp_8', 'exp_9', 'exp_10']\n",
    "\n",
    "query['Expenditure'] = pd.cut(query['TransactionAmount (INR)'], bins = query_bins_expenditure, labels=bin_labels, right=False)"
   ]
  },
  {
   "cell_type": "code",
   "execution_count": 126,
   "id": "1e8dc6f2",
   "metadata": {},
   "outputs": [],
   "source": [
    "del query['TransactionAmount (INR)'] #deleting the column that we don't need"
   ]
  },
  {
   "cell_type": "code",
   "execution_count": 127,
   "id": "e5789108",
   "metadata": {},
   "outputs": [
    {
     "data": {
      "text/html": [
       "<div>\n",
       "<style scoped>\n",
       "    .dataframe tbody tr th:only-of-type {\n",
       "        vertical-align: middle;\n",
       "    }\n",
       "\n",
       "    .dataframe tbody tr th {\n",
       "        vertical-align: top;\n",
       "    }\n",
       "\n",
       "    .dataframe thead th {\n",
       "        text-align: right;\n",
       "    }\n",
       "</style>\n",
       "<table border=\"1\" class=\"dataframe\">\n",
       "  <thead>\n",
       "    <tr style=\"text-align: right;\">\n",
       "      <th></th>\n",
       "      <th>CustGender</th>\n",
       "      <th>CustomerClassAge</th>\n",
       "      <th>Richness</th>\n",
       "      <th>Expenditure</th>\n",
       "    </tr>\n",
       "  </thead>\n",
       "  <tbody>\n",
       "    <tr>\n",
       "      <th>0</th>\n",
       "      <td>M</td>\n",
       "      <td>age_5</td>\n",
       "      <td>richness_9</td>\n",
       "      <td>exp_2</td>\n",
       "    </tr>\n",
       "    <tr>\n",
       "      <th>1</th>\n",
       "      <td>M</td>\n",
       "      <td>age_2</td>\n",
       "      <td>richness_4</td>\n",
       "      <td>exp_10</td>\n",
       "    </tr>\n",
       "    <tr>\n",
       "      <th>2</th>\n",
       "      <td>M</td>\n",
       "      <td>age_2</td>\n",
       "      <td>richness_4</td>\n",
       "      <td>exp_6</td>\n",
       "    </tr>\n",
       "    <tr>\n",
       "      <th>3</th>\n",
       "      <td>M</td>\n",
       "      <td>age_3</td>\n",
       "      <td>richness_8</td>\n",
       "      <td>exp_8</td>\n",
       "    </tr>\n",
       "    <tr>\n",
       "      <th>4</th>\n",
       "      <td>M</td>\n",
       "      <td>age_2</td>\n",
       "      <td>richness_9</td>\n",
       "      <td>exp_2</td>\n",
       "    </tr>\n",
       "  </tbody>\n",
       "</table>\n",
       "</div>"
      ],
      "text/plain": [
       "  CustGender CustomerClassAge    Richness Expenditure\n",
       "0          M            age_5  richness_9       exp_2\n",
       "1          M            age_2  richness_4      exp_10\n",
       "2          M            age_2  richness_4       exp_6\n",
       "3          M            age_3  richness_8       exp_8\n",
       "4          M            age_2  richness_9       exp_2"
      ]
     },
     "execution_count": 127,
     "metadata": {},
     "output_type": "execute_result"
    }
   ],
   "source": [
    "query.head() #check the result"
   ]
  },
  {
   "cell_type": "markdown",
   "id": "5501db2e",
   "metadata": {},
   "source": [
    "The last step that we decided to make is to give a name to this customer -> Query_User_i where i goes from 0 to 49:"
   ]
  },
  {
   "cell_type": "code",
   "execution_count": 130,
   "id": "8e10fdf1",
   "metadata": {
    "scrolled": true
   },
   "outputs": [],
   "source": [
    "#create two column and combine them to create the name:\n",
    "\n",
    "query['sub'] = 'Query_User_' #prefix\n",
    "\n",
    "query['num'] = range(50) #numbers\n",
    "\n",
    "query['Name'] = query['sub'] + query['num'].astype(str) #concatenating prefix and number\n",
    "\n",
    "del query['num'], query['sub'] #deleting the prefix and the numbers"
   ]
  },
  {
   "cell_type": "code",
   "execution_count": 131,
   "id": "d4dc19ab",
   "metadata": {},
   "outputs": [],
   "source": [
    "query = query[['Name', 'CustGender', 'CustomerClassAge', 'Richness', 'Expenditure']] #reorder the column"
   ]
  },
  {
   "cell_type": "code",
   "execution_count": 133,
   "id": "fc473082",
   "metadata": {},
   "outputs": [
    {
     "data": {
      "text/html": [
       "<div>\n",
       "<style scoped>\n",
       "    .dataframe tbody tr th:only-of-type {\n",
       "        vertical-align: middle;\n",
       "    }\n",
       "\n",
       "    .dataframe tbody tr th {\n",
       "        vertical-align: top;\n",
       "    }\n",
       "\n",
       "    .dataframe thead th {\n",
       "        text-align: right;\n",
       "    }\n",
       "</style>\n",
       "<table border=\"1\" class=\"dataframe\">\n",
       "  <thead>\n",
       "    <tr style=\"text-align: right;\">\n",
       "      <th></th>\n",
       "      <th>Name</th>\n",
       "      <th>CustGender</th>\n",
       "      <th>CustomerClassAge</th>\n",
       "      <th>Richness</th>\n",
       "      <th>Expenditure</th>\n",
       "    </tr>\n",
       "  </thead>\n",
       "  <tbody>\n",
       "    <tr>\n",
       "      <th>0</th>\n",
       "      <td>Query_User_0</td>\n",
       "      <td>M</td>\n",
       "      <td>age_5</td>\n",
       "      <td>richness_9</td>\n",
       "      <td>exp_2</td>\n",
       "    </tr>\n",
       "    <tr>\n",
       "      <th>1</th>\n",
       "      <td>Query_User_1</td>\n",
       "      <td>M</td>\n",
       "      <td>age_2</td>\n",
       "      <td>richness_4</td>\n",
       "      <td>exp_10</td>\n",
       "    </tr>\n",
       "    <tr>\n",
       "      <th>2</th>\n",
       "      <td>Query_User_2</td>\n",
       "      <td>M</td>\n",
       "      <td>age_2</td>\n",
       "      <td>richness_4</td>\n",
       "      <td>exp_6</td>\n",
       "    </tr>\n",
       "    <tr>\n",
       "      <th>3</th>\n",
       "      <td>Query_User_3</td>\n",
       "      <td>M</td>\n",
       "      <td>age_3</td>\n",
       "      <td>richness_8</td>\n",
       "      <td>exp_8</td>\n",
       "    </tr>\n",
       "    <tr>\n",
       "      <th>4</th>\n",
       "      <td>Query_User_4</td>\n",
       "      <td>M</td>\n",
       "      <td>age_2</td>\n",
       "      <td>richness_9</td>\n",
       "      <td>exp_2</td>\n",
       "    </tr>\n",
       "  </tbody>\n",
       "</table>\n",
       "</div>"
      ],
      "text/plain": [
       "           Name CustGender CustomerClassAge    Richness Expenditure\n",
       "0  Query_User_0          M            age_5  richness_9       exp_2\n",
       "1  Query_User_1          M            age_2  richness_4      exp_10\n",
       "2  Query_User_2          M            age_2  richness_4       exp_6\n",
       "3  Query_User_3          M            age_3  richness_8       exp_8\n",
       "4  Query_User_4          M            age_2  richness_9       exp_2"
      ]
     },
     "execution_count": 133,
     "metadata": {},
     "output_type": "execute_result"
    }
   ],
   "source": [
    "query.head() #cheching the result"
   ]
  },
  {
   "cell_type": "markdown",
   "id": "d1f30809",
   "metadata": {},
   "source": [
    "# 1.3.2 Minhash on query "
   ]
  },
  {
   "cell_type": "code",
   "execution_count": 267,
   "id": "42f98498",
   "metadata": {},
   "outputs": [],
   "source": [
    "shingles = ['F', 'M', 'age_1', 'age_10', 'age_11', 'age_12', 'age_13', 'age_14', 'age_15', 'age_16', 'age_17', 'age_2', 'age_3', 'age_4', 'age_5', 'age_6', 'age_7', 'age_8', 'age_9', 'richness_0', 'richness_1', 'richness_10', 'richness_2', 'richness_3', 'richness_4', 'richness_5', 'richness_6', 'richness_7', 'richness_8', 'richness_9', 'exp_1', 'exp_10', 'exp_2', 'exp_3', 'exp_4', 'exp_5', 'exp_6', 'exp_7', 'exp_8', 'exp_9']"
   ]
  },
  {
   "cell_type": "code",
   "execution_count": 268,
   "id": "d345b5e9",
   "metadata": {},
   "outputs": [
    {
     "name": "stderr",
     "output_type": "stream",
     "text": [
      "100%|██████████████████████████████████████████| 50/50 [00:00<00:00, 902.87it/s]\n"
     ]
    }
   ],
   "source": [
    "shingle_query = np.zeros((50, 40), dtype = int)\n",
    "\n",
    "for i in tq(range(len(query))):\n",
    "    # Append the one hot vectors as rows\n",
    "    shingle_query[query.index[i]] = one_hot_vector(query, i) \n",
    "\n",
    "# We need to transpose because for the shuffling, the Shingles need to be the rows\n",
    "shingle_query = shingle_query.T"
   ]
  },
  {
   "cell_type": "code",
   "execution_count": 272,
   "id": "56773908",
   "metadata": {},
   "outputs": [
    {
     "data": {
      "text/plain": [
       "Name                Query_User_1\n",
       "CustGender                     M\n",
       "CustomerClassAge           age_2\n",
       "Richness              richness_4\n",
       "Expenditure               exp_10\n",
       "Name: 1, dtype: object"
      ]
     },
     "execution_count": 272,
     "metadata": {},
     "output_type": "execute_result"
    }
   ],
   "source": [
    "query.loc[1]"
   ]
  },
  {
   "cell_type": "code",
   "execution_count": 277,
   "id": "028cb82d",
   "metadata": {},
   "outputs": [
    {
     "data": {
      "text/plain": [
       "array([0, 1, 0, 0, 0, 0, 0, 0, 0, 0, 0, 1, 0, 0, 0, 0, 0, 0, 0, 0, 0, 0,\n",
       "       0, 0, 1, 0, 0, 0, 0, 0, 0, 1, 0, 0, 0, 0, 0, 0, 0, 0])"
      ]
     },
     "execution_count": 277,
     "metadata": {},
     "output_type": "execute_result"
    }
   ],
   "source": [
    "shingle_query[:, 1]"
   ]
  },
  {
   "cell_type": "code",
   "execution_count": 279,
   "id": "0e364f22",
   "metadata": {},
   "outputs": [
    {
     "name": "stderr",
     "output_type": "stream",
     "text": [
      "100%|█████████████████████████████████████████| 20/20 [00:00<00:00, 5839.62it/s]\n"
     ]
    }
   ],
   "source": [
    "n_permutations = 20 #number of permutations = number of rows of the signature matrix\n",
    "np.random.seed(145)\n",
    "signature_query= np.zeros((20, shingle_query.shape[1]), dtype = int)\n",
    "\n",
    "for i in tq(range(n_permutations)):\n",
    "    # 1. Shuffle rows\n",
    "    np.random.shuffle(shingle_query)\n",
    "    \n",
    "    # 2. Create the vector of indeces where the first 1 is found. np.argmax stops at the first occurrence\n",
    "    signature_row = np.argmax(shingle_query == 1, axis=0) + 1\n",
    "    \n",
    "    # 3. Add to signature matrix\n",
    "    signature_query[i] = signature_row"
   ]
  },
  {
   "cell_type": "code",
   "execution_count": 233,
   "id": "2fa59b80",
   "metadata": {},
   "outputs": [
    {
     "name": "stderr",
     "output_type": "stream",
     "text": [
      "100%|█████████████████████████████████████████████| 5/5 [00:00<00:00, 29.96it/s]\n"
     ]
    }
   ],
   "source": [
    "indexes = list(range(signature_query.shape[1])) #create a list of indexes \n",
    "\n",
    "signature_query_transposed = signature_query.T \n",
    "\n",
    "for i in tq(range(0, signature_query.shape[0], b)):\n",
    "    \n",
    "    mini_vectors = signature_query_transposed[:, i:i+b]\n",
    "    \n",
    "    c = [(i, tuple(v)) for v, i in sorted(zip(mini_vectors.tolist(), indexes))]\n",
    "    \n",
    "    curr_vector = c[0][1] #take the subvector from the tuple composed by index and subvector\n",
    "    \n",
    "    #Now we have equal subvector as neighbor, so we can iterate over these groups of equal subvector\n",
    "    for i, v in c:  \n",
    "        \n",
    "        if v not in cluster: #if the subvector is not a key in the cluster --> initialize it \n",
    "            \n",
    "            cluster[v] = []\n",
    "        \n",
    "        if curr_vector != v: #when the iteration go over the group of equal subvector updtate the current vector\n",
    "            \n",
    "            curr = v\n",
    "\n",
    "        cluster[v].append(query.loc[i]['Name'])"
   ]
  },
  {
   "cell_type": "code",
   "execution_count": 235,
   "id": "411660ba",
   "metadata": {},
   "outputs": [],
   "source": []
  },
  {
   "cell_type": "code",
   "execution_count": 238,
   "id": "5c97d4cc",
   "metadata": {},
   "outputs": [],
   "source": [
    "from collections import defaultdict"
   ]
  },
  {
   "cell_type": "code",
   "execution_count": 239,
   "id": "cf84edce",
   "metadata": {},
   "outputs": [],
   "source": [
    "dd = defaultdict(list)\n",
    "\n",
    "for d in (cluster, cluster_query): \n",
    "    for key, value in d.items():\n",
    "        \n",
    "        dd[key].append(value)"
   ]
  },
  {
   "cell_type": "code",
   "execution_count": 240,
   "id": "871f361e",
   "metadata": {},
   "outputs": [
    {
     "data": {
      "text/plain": [
       "[['Query_User_3']]"
      ]
     },
     "execution_count": 240,
     "metadata": {},
     "output_type": "execute_result"
    }
   ],
   "source": []
  }
 ],
 "metadata": {
  "kernelspec": {
   "display_name": "Python 3 (ipykernel)",
   "language": "python",
   "name": "python3"
  },
  "language_info": {
   "codemirror_mode": {
    "name": "ipython",
    "version": 3
   },
   "file_extension": ".py",
   "mimetype": "text/x-python",
   "name": "python",
   "nbconvert_exporter": "python",
   "pygments_lexer": "ipython3",
   "version": "3.9.12"
  }
 },
 "nbformat": 4,
 "nbformat_minor": 5
}
