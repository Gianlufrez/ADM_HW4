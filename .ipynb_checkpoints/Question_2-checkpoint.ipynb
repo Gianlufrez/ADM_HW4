{
 "cells": [
  {
   "cell_type": "markdown",
   "id": "dfd07b88",
   "metadata": {},
   "source": [
    "# QUESTION 2"
   ]
  },
  {
   "cell_type": "markdown",
   "id": "33d26d5f",
   "metadata": {},
   "source": [
    "## Import dataset and data cleaning"
   ]
  },
  {
   "cell_type": "code",
   "execution_count": 315,
   "id": "2eec795a",
   "metadata": {},
   "outputs": [],
   "source": [
    "import pandas as pd\n",
    "from datetime import datetime"
   ]
  },
  {
   "cell_type": "code",
   "execution_count": 316,
   "id": "7b5561af",
   "metadata": {},
   "outputs": [],
   "source": [
    "df=pd.read_csv(r\"C:\\Users\\gianl\\Documents\\Università_4°anno(2022-2023\\ADM\\HOMEWORK\\HOMEWORK 4\\bank_transactions.csv\", sep=\",\")"
   ]
  },
  {
   "cell_type": "code",
   "execution_count": 317,
   "id": "75ed8542",
   "metadata": {},
   "outputs": [],
   "source": [
    "df['TransactionTime'] = df['TransactionTime'].apply(lambda x: datetime.strptime(str(x).zfill(6), '%H%M%S'))\n",
    "df['CustomerDOB'] = pd.to_datetime(df['CustomerDOB'], format = '%d/%m/%y', errors = 'coerce')\n",
    "df['TransactionDate'] = pd.to_datetime(df['TransactionDate'], format = '%d/%m/%y', errors = 'coerce')"
   ]
  },
  {
   "cell_type": "code",
   "execution_count": null,
   "id": "af517caa",
   "metadata": {},
   "outputs": [],
   "source": []
  },
  {
   "cell_type": "code",
   "execution_count": 191,
   "id": "01b879bc",
   "metadata": {},
   "outputs": [],
   "source": [
    "a = df.groupby('CustomerID')"
   ]
  },
  {
   "cell_type": "code",
   "execution_count": 353,
   "id": "f2a39624",
   "metadata": {},
   "outputs": [],
   "source": [
    "#for i in a:\n",
    "#    print(i)"
   ]
  },
  {
   "cell_type": "markdown",
   "id": "fc2ee807",
   "metadata": {},
   "source": [
    "**There are some values missing but very few compering to the rest of the dataset, so we can drop it**"
   ]
  },
  {
   "cell_type": "code",
   "execution_count": 318,
   "id": "c651ac1a",
   "metadata": {},
   "outputs": [],
   "source": [
    "df = df.dropna()"
   ]
  },
  {
   "cell_type": "markdown",
   "id": "0bd6bb11",
   "metadata": {},
   "source": [
    "**As we can see, there are a lot of birthdates on January 1st, which seems a little strange. There's also a lot of customers birth on 1/1/1800. This is probably some default the bank has where this information is unknown, althought that is a little strange. I'll remove them.**"
   ]
  },
  {
   "cell_type": "code",
   "execution_count": 180,
   "id": "bd12573a",
   "metadata": {
    "collapsed": true
   },
   "outputs": [
    {
     "data": {
      "text/plain": [
       "1989-01-01    809\n",
       "1990-01-01    784\n",
       "1991-08-06    698\n",
       "1991-01-01    665\n",
       "1992-01-01    631\n",
       "             ... \n",
       "2005-02-23      1\n",
       "2042-11-28      1\n",
       "2049-09-23      1\n",
       "2040-03-14      1\n",
       "2044-10-24      1\n",
       "Name: CustomerDOB, Length: 17232, dtype: int64"
      ]
     },
     "execution_count": 180,
     "metadata": {},
     "output_type": "execute_result"
    }
   ],
   "source": [
    "df['CustomerDOB'].value_counts()"
   ]
  },
  {
   "cell_type": "code",
   "execution_count": 319,
   "id": "60bc824d",
   "metadata": {},
   "outputs": [],
   "source": [
    "df = df.loc[~(df['CustomerDOB'] == '1/1/1800')]"
   ]
  },
  {
   "cell_type": "markdown",
   "id": "3962d221",
   "metadata": {},
   "source": [
    "**There are people born after 2021, so just subtract 100 from the year of birth of these people**"
   ]
  },
  {
   "cell_type": "code",
   "execution_count": 320,
   "id": "694dd33d",
   "metadata": {},
   "outputs": [],
   "source": [
    "df.loc[df['CustomerDOB'].dt.year >= 2021, ['CustomerDOB']] -= pd.DateOffset(years = 100)"
   ]
  },
  {
   "cell_type": "markdown",
   "id": "193d247f",
   "metadata": {},
   "source": [
    "# 2.1"
   ]
  },
  {
   "cell_type": "code",
   "execution_count": 302,
   "id": "1eb8c225",
   "metadata": {},
   "outputs": [],
   "source": [
    "#Let's create a new dataframe called new_df\n",
    "new_df = pd.DataFrame()"
   ]
  },
  {
   "cell_type": "markdown",
   "id": "8c5ff98c",
   "metadata": {},
   "source": [
    "**Number of transactions**"
   ]
  },
  {
   "cell_type": "code",
   "execution_count": 303,
   "id": "b9e3b7e0",
   "metadata": {},
   "outputs": [],
   "source": [
    "num_transaction = df.groupby(['CustomerID'])['TransactionID'].count()\n",
    "new_df['NumTransaction'] = num_transaction"
   ]
  },
  {
   "cell_type": "markdown",
   "id": "8b368dcd",
   "metadata": {},
   "source": [
    "**Number of transactions > 100????**"
   ]
  },
  {
   "cell_type": "code",
   "execution_count": 219,
   "id": "9e7a9347",
   "metadata": {
    "collapsed": true
   },
   "outputs": [
    {
     "ename": "NameError",
     "evalue": "name 'train' is not defined",
     "output_type": "error",
     "traceback": [
      "\u001b[1;31m---------------------------------------------------------------------------\u001b[0m",
      "\u001b[1;31mNameError\u001b[0m                                 Traceback (most recent call last)",
      "Input \u001b[1;32mIn [219]\u001b[0m, in \u001b[0;36m<cell line: 1>\u001b[1;34m()\u001b[0m\n\u001b[1;32m----> 1\u001b[0m \u001b[43mtrain\u001b[49m\u001b[38;5;241m.\u001b[39mgroupby([\u001b[38;5;124m'\u001b[39m\u001b[38;5;124mCustomerID\u001b[39m\u001b[38;5;124m'\u001b[39m])[train[\u001b[38;5;124m'\u001b[39m\u001b[38;5;124mTransactionAmount (INR)\u001b[39m\u001b[38;5;124m'\u001b[39m] \u001b[38;5;241m>\u001b[39m \u001b[38;5;241m100\u001b[39m]\n",
      "\u001b[1;31mNameError\u001b[0m: name 'train' is not defined"
     ]
    }
   ],
   "source": [
    "train.groupby(['CustomerID'])[train['TransactionAmount (INR)'] > 100]"
   ]
  },
  {
   "cell_type": "code",
   "execution_count": null,
   "id": "b0a7f3cb",
   "metadata": {},
   "outputs": [],
   "source": [
    "df[df['TransactionAmount (INR)']  > 100]"
   ]
  },
  {
   "cell_type": "markdown",
   "id": "c632b921",
   "metadata": {},
   "source": [
    "**Average amount of transaction**"
   ]
  },
  {
   "cell_type": "code",
   "execution_count": 304,
   "id": "6ec49212",
   "metadata": {},
   "outputs": [],
   "source": [
    "avg_amount_transaction = df.groupby(['CustomerID'])['TransactionAmount (INR)'].agg('mean')\n",
    "new_df['AvgAmountTransaction'] = avg_amount_transaction"
   ]
  },
  {
   "cell_type": "markdown",
   "id": "0acb4104",
   "metadata": {},
   "source": [
    "**Average balance**"
   ]
  },
  {
   "cell_type": "code",
   "execution_count": 305,
   "id": "1681f8d1",
   "metadata": {},
   "outputs": [],
   "source": [
    "#This command is to visualize a float number and not an exponential number\n",
    "pd.options.display.float_format = '{:.2f}'.format  #This command is to visualize a float number and not an exponential number\n",
    "avg_balance = df.groupby(['CustomerID'])['CustAccountBalance'].agg('mean')\n",
    "new_df['AvgBalance'] = avg_balance"
   ]
  },
  {
   "cell_type": "markdown",
   "id": "128dc8ed",
   "metadata": {},
   "source": [
    "**Average difference between the balance and the transaction amount for each customer**"
   ]
  },
  {
   "cell_type": "code",
   "execution_count": 306,
   "id": "80d3280e",
   "metadata": {},
   "outputs": [],
   "source": [
    "df['provvisoria'] = df['CustAccountBalance'] - df['TransactionAmount (INR)']\n",
    "AvgDiffBalTrans = df.groupby(['CustomerID'])['provvisoria'].agg('mean')\n",
    "new_df['AvgDiffBalTrans'] = AvgDiffBalTrans\n",
    "del df['provvisoria']"
   ]
  },
  {
   "cell_type": "markdown",
   "id": "7d755e4b",
   "metadata": {},
   "source": [
    "**Gender of customers???**"
   ]
  },
  {
   "cell_type": "code",
   "execution_count": 307,
   "id": "fc5820e8",
   "metadata": {},
   "outputs": [],
   "source": [
    "Gender = df.groupby(['CustomerID'])['CustGender'].first()\n",
    "new_df['Gender'] = Gender"
   ]
  },
  {
   "cell_type": "code",
   "execution_count": 204,
   "id": "54546d31",
   "metadata": {
    "collapsed": true
   },
   "outputs": [
    {
     "data": {
      "text/html": [
       "<div>\n",
       "<style scoped>\n",
       "    .dataframe tbody tr th:only-of-type {\n",
       "        vertical-align: middle;\n",
       "    }\n",
       "\n",
       "    .dataframe tbody tr th {\n",
       "        vertical-align: top;\n",
       "    }\n",
       "\n",
       "    .dataframe thead th {\n",
       "        text-align: right;\n",
       "    }\n",
       "</style>\n",
       "<table border=\"1\" class=\"dataframe\">\n",
       "  <thead>\n",
       "    <tr style=\"text-align: right;\">\n",
       "      <th></th>\n",
       "      <th>NumTransaction</th>\n",
       "      <th>AvgAmountTransaction</th>\n",
       "      <th>AvgBalance</th>\n",
       "      <th>AvgDiffBalTrans</th>\n",
       "    </tr>\n",
       "    <tr>\n",
       "      <th>Gender</th>\n",
       "      <th></th>\n",
       "      <th></th>\n",
       "      <th></th>\n",
       "      <th></th>\n",
       "    </tr>\n",
       "  </thead>\n",
       "  <tbody>\n",
       "    <tr>\n",
       "      <th>F</th>\n",
       "      <td>273256</td>\n",
       "      <td>367447135.92</td>\n",
       "      <td>23877167001.38</td>\n",
       "      <td>23509719865.46</td>\n",
       "    </tr>\n",
       "    <tr>\n",
       "      <th>M</th>\n",
       "      <td>712066</td>\n",
       "      <td>852260783.19</td>\n",
       "      <td>64943365789.12</td>\n",
       "      <td>64091105005.93</td>\n",
       "    </tr>\n",
       "  </tbody>\n",
       "</table>\n",
       "</div>"
      ],
      "text/plain": [
       "        NumTransaction  AvgAmountTransaction     AvgBalance  AvgDiffBalTrans\n",
       "Gender                                                                      \n",
       "F               273256          367447135.92 23877167001.38   23509719865.46\n",
       "M               712066          852260783.19 64943365789.12   64091105005.93"
      ]
     },
     "execution_count": 204,
     "metadata": {},
     "output_type": "execute_result"
    }
   ],
   "source": [
    "new_df.groupby('Gender').count()"
   ]
  },
  {
   "cell_type": "markdown",
   "id": "d031ba50",
   "metadata": {},
   "source": [
    "**Most frequent location of the customer???**"
   ]
  },
  {
   "cell_type": "code",
   "execution_count": null,
   "id": "2030b01c",
   "metadata": {},
   "outputs": [],
   "source": [
    "Most frequent location of the customer"
   ]
  },
  {
   "cell_type": "code",
   "execution_count": 54,
   "id": "eb8d80a3",
   "metadata": {},
   "outputs": [],
   "source": [
    "avg_balance = df.groupby(['CustomerID','CustLocation'])['TransactionID'].count()"
   ]
  },
  {
   "cell_type": "code",
   "execution_count": 55,
   "id": "48a0cd98",
   "metadata": {
    "collapsed": true
   },
   "outputs": [
    {
     "data": {
      "text/plain": [
       "CustomerID  CustLocation\n",
       "C1010011    NEW DELHI       1\n",
       "            NOIDA           1\n",
       "C1010012    MUMBAI          1\n",
       "C1010014    MUMBAI          2\n",
       "C1010018    CHAMPARAN       1\n",
       "                           ..\n",
       "C9099836    BHIWANDI        1\n",
       "C9099877    BANGALORE       1\n",
       "C9099919    GUNTUR          1\n",
       "C9099941    CHENNAI         1\n",
       "C9099956    MUSSOORIE       1\n",
       "Name: TransactionID, Length: 1040343, dtype: int64"
      ]
     },
     "execution_count": 55,
     "metadata": {},
     "output_type": "execute_result"
    }
   ],
   "source": [
    "avg_balance"
   ]
  },
  {
   "cell_type": "code",
   "execution_count": 190,
   "id": "c00d797e",
   "metadata": {},
   "outputs": [
    {
     "data": {
      "text/html": [
       "<div>\n",
       "<style scoped>\n",
       "    .dataframe tbody tr th:only-of-type {\n",
       "        vertical-align: middle;\n",
       "    }\n",
       "\n",
       "    .dataframe tbody tr th {\n",
       "        vertical-align: top;\n",
       "    }\n",
       "\n",
       "    .dataframe thead th {\n",
       "        text-align: right;\n",
       "    }\n",
       "</style>\n",
       "<table border=\"1\" class=\"dataframe\">\n",
       "  <thead>\n",
       "    <tr style=\"text-align: right;\">\n",
       "      <th></th>\n",
       "      <th>TransactionID</th>\n",
       "      <th>CustomerID</th>\n",
       "      <th>CustomerDOB</th>\n",
       "      <th>CustGender</th>\n",
       "      <th>CustLocation</th>\n",
       "      <th>CustAccountBalance</th>\n",
       "      <th>TransactionDate</th>\n",
       "      <th>TransactionTime</th>\n",
       "      <th>TransactionAmount (INR)</th>\n",
       "    </tr>\n",
       "  </thead>\n",
       "  <tbody>\n",
       "    <tr>\n",
       "      <th>0</th>\n",
       "      <td>T1</td>\n",
       "      <td>C5841053</td>\n",
       "      <td>1994-01-10</td>\n",
       "      <td>F</td>\n",
       "      <td>JAMSHEDPUR</td>\n",
       "      <td>17819.05</td>\n",
       "      <td>2016-08-02</td>\n",
       "      <td>1900-01-01 14:32:07</td>\n",
       "      <td>25.00</td>\n",
       "    </tr>\n",
       "    <tr>\n",
       "      <th>1</th>\n",
       "      <td>T2</td>\n",
       "      <td>C2142763</td>\n",
       "      <td>1957-04-04</td>\n",
       "      <td>M</td>\n",
       "      <td>JHAJJAR</td>\n",
       "      <td>2270.69</td>\n",
       "      <td>2016-08-02</td>\n",
       "      <td>1900-01-01 14:18:58</td>\n",
       "      <td>27999.00</td>\n",
       "    </tr>\n",
       "    <tr>\n",
       "      <th>2</th>\n",
       "      <td>T3</td>\n",
       "      <td>C4417068</td>\n",
       "      <td>1996-11-26</td>\n",
       "      <td>F</td>\n",
       "      <td>MUMBAI</td>\n",
       "      <td>17874.44</td>\n",
       "      <td>2016-08-02</td>\n",
       "      <td>1900-01-01 14:27:12</td>\n",
       "      <td>459.00</td>\n",
       "    </tr>\n",
       "    <tr>\n",
       "      <th>3</th>\n",
       "      <td>T4</td>\n",
       "      <td>C5342380</td>\n",
       "      <td>1973-09-14</td>\n",
       "      <td>F</td>\n",
       "      <td>MUMBAI</td>\n",
       "      <td>866503.21</td>\n",
       "      <td>2016-08-02</td>\n",
       "      <td>1900-01-01 14:27:14</td>\n",
       "      <td>2060.00</td>\n",
       "    </tr>\n",
       "    <tr>\n",
       "      <th>4</th>\n",
       "      <td>T5</td>\n",
       "      <td>C9031234</td>\n",
       "      <td>1988-03-24</td>\n",
       "      <td>F</td>\n",
       "      <td>NAVI MUMBAI</td>\n",
       "      <td>6714.43</td>\n",
       "      <td>2016-08-02</td>\n",
       "      <td>1900-01-01 18:11:56</td>\n",
       "      <td>1762.50</td>\n",
       "    </tr>\n",
       "    <tr>\n",
       "      <th>...</th>\n",
       "      <td>...</td>\n",
       "      <td>...</td>\n",
       "      <td>...</td>\n",
       "      <td>...</td>\n",
       "      <td>...</td>\n",
       "      <td>...</td>\n",
       "      <td>...</td>\n",
       "      <td>...</td>\n",
       "      <td>...</td>\n",
       "    </tr>\n",
       "    <tr>\n",
       "      <th>1048562</th>\n",
       "      <td>T1048563</td>\n",
       "      <td>C8020229</td>\n",
       "      <td>1990-04-08</td>\n",
       "      <td>M</td>\n",
       "      <td>NEW DELHI</td>\n",
       "      <td>7635.19</td>\n",
       "      <td>2016-09-18</td>\n",
       "      <td>1900-01-01 18:48:24</td>\n",
       "      <td>799.00</td>\n",
       "    </tr>\n",
       "    <tr>\n",
       "      <th>1048563</th>\n",
       "      <td>T1048564</td>\n",
       "      <td>C6459278</td>\n",
       "      <td>1992-02-20</td>\n",
       "      <td>M</td>\n",
       "      <td>NASHIK</td>\n",
       "      <td>27311.42</td>\n",
       "      <td>2016-09-18</td>\n",
       "      <td>1900-01-01 18:37:34</td>\n",
       "      <td>460.00</td>\n",
       "    </tr>\n",
       "    <tr>\n",
       "      <th>1048564</th>\n",
       "      <td>T1048565</td>\n",
       "      <td>C6412354</td>\n",
       "      <td>1989-05-18</td>\n",
       "      <td>M</td>\n",
       "      <td>HYDERABAD</td>\n",
       "      <td>221757.06</td>\n",
       "      <td>2016-09-18</td>\n",
       "      <td>1900-01-01 18:33:13</td>\n",
       "      <td>770.00</td>\n",
       "    </tr>\n",
       "    <tr>\n",
       "      <th>1048565</th>\n",
       "      <td>T1048566</td>\n",
       "      <td>C6420483</td>\n",
       "      <td>1978-08-30</td>\n",
       "      <td>M</td>\n",
       "      <td>VISAKHAPATNAM</td>\n",
       "      <td>10117.87</td>\n",
       "      <td>2016-09-18</td>\n",
       "      <td>1900-01-01 18:47:06</td>\n",
       "      <td>1000.00</td>\n",
       "    </tr>\n",
       "    <tr>\n",
       "      <th>1048566</th>\n",
       "      <td>T1048567</td>\n",
       "      <td>C8337524</td>\n",
       "      <td>1984-03-05</td>\n",
       "      <td>M</td>\n",
       "      <td>PUNE</td>\n",
       "      <td>75734.42</td>\n",
       "      <td>2016-09-18</td>\n",
       "      <td>1900-01-01 18:12:22</td>\n",
       "      <td>1166.00</td>\n",
       "    </tr>\n",
       "  </tbody>\n",
       "</table>\n",
       "<p>985322 rows × 9 columns</p>\n",
       "</div>"
      ],
      "text/plain": [
       "        TransactionID CustomerID CustomerDOB CustGender   CustLocation  \\\n",
       "0                  T1   C5841053  1994-01-10          F     JAMSHEDPUR   \n",
       "1                  T2   C2142763  1957-04-04          M        JHAJJAR   \n",
       "2                  T3   C4417068  1996-11-26          F         MUMBAI   \n",
       "3                  T4   C5342380  1973-09-14          F         MUMBAI   \n",
       "4                  T5   C9031234  1988-03-24          F    NAVI MUMBAI   \n",
       "...               ...        ...         ...        ...            ...   \n",
       "1048562      T1048563   C8020229  1990-04-08          M      NEW DELHI   \n",
       "1048563      T1048564   C6459278  1992-02-20          M         NASHIK   \n",
       "1048564      T1048565   C6412354  1989-05-18          M      HYDERABAD   \n",
       "1048565      T1048566   C6420483  1978-08-30          M  VISAKHAPATNAM   \n",
       "1048566      T1048567   C8337524  1984-03-05          M           PUNE   \n",
       "\n",
       "         CustAccountBalance TransactionDate     TransactionTime  \\\n",
       "0                  17819.05      2016-08-02 1900-01-01 14:32:07   \n",
       "1                   2270.69      2016-08-02 1900-01-01 14:18:58   \n",
       "2                  17874.44      2016-08-02 1900-01-01 14:27:12   \n",
       "3                 866503.21      2016-08-02 1900-01-01 14:27:14   \n",
       "4                   6714.43      2016-08-02 1900-01-01 18:11:56   \n",
       "...                     ...             ...                 ...   \n",
       "1048562             7635.19      2016-09-18 1900-01-01 18:48:24   \n",
       "1048563            27311.42      2016-09-18 1900-01-01 18:37:34   \n",
       "1048564           221757.06      2016-09-18 1900-01-01 18:33:13   \n",
       "1048565            10117.87      2016-09-18 1900-01-01 18:47:06   \n",
       "1048566            75734.42      2016-09-18 1900-01-01 18:12:22   \n",
       "\n",
       "         TransactionAmount (INR)  \n",
       "0                          25.00  \n",
       "1                       27999.00  \n",
       "2                         459.00  \n",
       "3                        2060.00  \n",
       "4                        1762.50  \n",
       "...                          ...  \n",
       "1048562                   799.00  \n",
       "1048563                   460.00  \n",
       "1048564                   770.00  \n",
       "1048565                  1000.00  \n",
       "1048566                  1166.00  \n",
       "\n",
       "[985322 rows x 9 columns]"
      ]
     },
     "execution_count": 190,
     "metadata": {},
     "output_type": "execute_result"
    }
   ],
   "source": [
    "df"
   ]
  },
  {
   "cell_type": "markdown",
   "id": "ea733ccb",
   "metadata": {},
   "source": [
    "## Create 20 additional features"
   ]
  },
  {
   "cell_type": "markdown",
   "id": "703a42d2",
   "metadata": {},
   "source": [
    "The addictional futures that we will cosider are:\n",
    "\n",
    "1. Highest transiction amount\n",
    "2. Lowest transiction amount\n",
    "3. Highest balance a customer has ever had\n",
    "4. Lowest balance a customer has ever had\n",
    "5. Number of transaction carried out just during the summer (June, July, August and September)\n",
    "6. Number of transaction carried out just during the winter (November, Dicember, January and February)\n",
    "7. Number of transaction carried out not in the rest of the months (March, April, May and October)\n",
    "8. Age of customers on transition days\n",
    "9. Number of transactions > 1000\n",
    "10. Number of transactions > 5000\n",
    "11. Number of transactions > 10000\n",
    "12. Number of times a transition has been made in the most frequent location of the customer\n",
    "13. Number of transitions made in the night (22-06)\n",
    "14. Number of transitions made in the morning (06-14)\n",
    "15. Number of transitions made in the evening (14-22)\n",
    "16.\n",
    "17.\n",
    "18.\n",
    "19.\n",
    "20."
   ]
  },
  {
   "cell_type": "markdown",
   "id": "b4081bb9",
   "metadata": {},
   "source": [
    "#### Once the additional features considered have been defined, we create them and add them to the 'new_df' dataset."
   ]
  },
  {
   "cell_type": "markdown",
   "id": "669f9966",
   "metadata": {},
   "source": [
    "**1** (Highest transiction amount)"
   ]
  },
  {
   "cell_type": "code",
   "execution_count": 308,
   "id": "27b84bd6",
   "metadata": {},
   "outputs": [],
   "source": [
    "max_amount_transaction = df.groupby(['CustomerID'])['TransactionAmount (INR)'].agg('max')\n",
    "new_df['MaxAmountTransaction'] = max_amount_transaction"
   ]
  },
  {
   "cell_type": "markdown",
   "id": "01953c14",
   "metadata": {},
   "source": [
    "**2** (Lowest transiction amount)"
   ]
  },
  {
   "cell_type": "code",
   "execution_count": 309,
   "id": "34fa2530",
   "metadata": {},
   "outputs": [],
   "source": [
    "min_amount_transaction = df.groupby(['CustomerID'])['TransactionAmount (INR)'].agg('min')\n",
    "new_df['MinAmountTransaction'] = min_amount_transaction"
   ]
  },
  {
   "cell_type": "markdown",
   "id": "ddb60d1f",
   "metadata": {},
   "source": [
    "**3** (Highest balance a customer has ever had)"
   ]
  },
  {
   "cell_type": "code",
   "execution_count": 310,
   "id": "59628f3a",
   "metadata": {},
   "outputs": [],
   "source": [
    "max_balace = df.groupby(['CustomerID'])['CustAccountBalance'].agg('max')\n",
    "new_df['MaxBalance'] = max_balace"
   ]
  },
  {
   "cell_type": "markdown",
   "id": "23ce1c23",
   "metadata": {},
   "source": [
    "**4** (Lowest balance a customer has ever had)"
   ]
  },
  {
   "cell_type": "code",
   "execution_count": 311,
   "id": "6154194d",
   "metadata": {},
   "outputs": [],
   "source": [
    "min_balace = df.groupby(['CustomerID'])['CustAccountBalance'].agg('min')\n",
    "new_df['MinBalance'] = min_balace"
   ]
  },
  {
   "cell_type": "markdown",
   "id": "7a4082e2",
   "metadata": {},
   "source": [
    "**5** (Number of transaction carried out just during the summer (June, July, August and September)"
   ]
  },
  {
   "cell_type": "code",
   "execution_count": 28,
   "id": "d8f28243",
   "metadata": {},
   "outputs": [],
   "source": [
    "df['TransactionDate'] = pd.to_datetime(df['TransactionDate'])"
   ]
  },
  {
   "cell_type": "code",
   "execution_count": 67,
   "id": "02d7ef3f",
   "metadata": {},
   "outputs": [],
   "source": [
    "df2 = [df[df['TransactionDate'].dt.month == 6],df[df['TransactionDate'].dt.month == 7]]"
   ]
  },
  {
   "cell_type": "code",
   "execution_count": 68,
   "id": "9c2ea056",
   "metadata": {
    "collapsed": true
   },
   "outputs": [
    {
     "data": {
      "text/plain": [
       "[       TransactionID CustomerID CustomerDOB CustGender CustLocation  \\\n",
       " 84               T85   C3839727     20/1/83          M    GHAZIABAD   \n",
       " 85               T86   C2715454      1/5/83          M       NASHIK   \n",
       " 86               T87   C5931634     15/8/95          F      CHENNAI   \n",
       " 87               T88   C7918237      3/9/74          M        JAMMU   \n",
       " 88               T89   C1625292    18/11/88          F   AURANGABAD   \n",
       " ...              ...        ...         ...        ...          ...   \n",
       " 791469       T791470   C5935088     18/9/87          M      GURGAON   \n",
       " 791470       T791471   C6824061      2/7/92          F       MUMBAI   \n",
       " 791471       T791472   C8423487      4/6/97          F     ITANAGAR   \n",
       " 791472       T791473   C7630463     20/1/97          M       RAIPUR   \n",
       " 791473       T791474   C2349754     27/4/41          M  BOISAR EAST   \n",
       " \n",
       "         CustAccountBalance TransactionDate  TransactionTime  \\\n",
       " 84                21868.16      2016-06-08            90811   \n",
       " 85                13421.46      2016-06-08            32822   \n",
       " 86                 1942.83      2016-06-08           121618   \n",
       " 87                23302.14      2016-06-08           122039   \n",
       " 88                 1880.10      2016-06-08           121749   \n",
       " ...                    ...             ...              ...   \n",
       " 791469             1032.66      2016-06-09              610   \n",
       " 791470            20158.24      2016-06-09             2723   \n",
       " 791471             1069.64      2016-06-09             3510   \n",
       " 791472            63281.01      2016-06-09            83524   \n",
       " 791473          1026006.91      2016-06-09            91406   \n",
       " \n",
       "         TransactionAmount (INR)  \n",
       " 84                       500.00  \n",
       " 85                        11.00  \n",
       " 86                        28.00  \n",
       " 87                      2200.00  \n",
       " 88                      1499.00  \n",
       " ...                         ...  \n",
       " 791469                   255.00  \n",
       " 791470                  2012.00  \n",
       " 791471                   199.00  \n",
       " 791472                    25.00  \n",
       " 791473                  1436.58  \n",
       " \n",
       " [46225 rows x 9 columns],\n",
       "        TransactionID CustomerID CustomerDOB CustGender CustLocation  \\\n",
       " 193             T194   C4325361    1/1/1800          M      KOLKATA   \n",
       " 194             T195   C5633923     12/4/91          M        NOIDA   \n",
       " 195             T196   C1938713     10/1/67          M      LUCKNOW   \n",
       " 196             T197   C7512180    11/11/78          M     ZIRAKPUR   \n",
       " 197             T198   C3720487     27/9/75          M       JAIPUR   \n",
       " ...              ...        ...         ...        ...          ...   \n",
       " 904173       T904174   C2842377     31/5/95          M  MUZAFFARPUR   \n",
       " 904174       T904175   C4325271     20/1/93          F    HYDERABAD   \n",
       " 904175       T904176   C8937629     19/1/55          F     ROURKELA   \n",
       " 904176       T904177   C2115711     11/7/83          M    GHAZIABAD   \n",
       " 904177       T904178   C7238035    22/10/91          F    NEW DELHI   \n",
       " \n",
       "         CustAccountBalance TransactionDate  TransactionTime  \\\n",
       " 193              133203.58      2016-07-08            93946   \n",
       " 194                 359.23      2016-07-08            94712   \n",
       " 195              268685.24      2016-07-08           121356   \n",
       " 196             1130141.97      2016-07-08           115829   \n",
       " 197                1223.92      2016-07-08           115644   \n",
       " ...                    ...             ...              ...   \n",
       " 904173             5910.57      2016-07-09            81738   \n",
       " 904174            53664.23      2016-07-09            82537   \n",
       " 904175            96575.32      2016-07-09            81321   \n",
       " 904176           523803.47      2016-07-09            82727   \n",
       " 904177           129214.76      2016-07-09            71407   \n",
       " \n",
       "         TransactionAmount (INR)  \n",
       " 193                   100000.00  \n",
       " 194                       60.00  \n",
       " 195                     1220.00  \n",
       " 196                      614.00  \n",
       " 197                       69.00  \n",
       " ...                         ...  \n",
       " 904173                   500.00  \n",
       " 904174                     0.00  \n",
       " 904175                    29.00  \n",
       " 904176                  1000.00  \n",
       " 904177                   459.00  \n",
       " \n",
       " [48422 rows x 9 columns]]"
      ]
     },
     "execution_count": 68,
     "metadata": {},
     "output_type": "execute_result"
    }
   ],
   "source": [
    "df2"
   ]
  },
  {
   "cell_type": "markdown",
   "id": "12dfd2e2",
   "metadata": {},
   "source": [
    "**8** (Age of customers on transition days) ???????"
   ]
  },
  {
   "cell_type": "code",
   "execution_count": 251,
   "id": "900b9f90",
   "metadata": {},
   "outputs": [],
   "source": [
    "new_df['Age'] = df['TransactionDate'].dt.year - df['CustomerDOB'].dt.year"
   ]
  },
  {
   "cell_type": "code",
   "execution_count": 252,
   "id": "813b77fd",
   "metadata": {
    "collapsed": true
   },
   "outputs": [
    {
     "data": {
      "text/html": [
       "<div>\n",
       "<style scoped>\n",
       "    .dataframe tbody tr th:only-of-type {\n",
       "        vertical-align: middle;\n",
       "    }\n",
       "\n",
       "    .dataframe tbody tr th {\n",
       "        vertical-align: top;\n",
       "    }\n",
       "\n",
       "    .dataframe thead th {\n",
       "        text-align: right;\n",
       "    }\n",
       "</style>\n",
       "<table border=\"1\" class=\"dataframe\">\n",
       "  <thead>\n",
       "    <tr style=\"text-align: right;\">\n",
       "      <th></th>\n",
       "      <th>NumTransaction</th>\n",
       "      <th>AvgAmountTransaction</th>\n",
       "      <th>AvgBalance</th>\n",
       "      <th>AvgDiffBalTrans</th>\n",
       "      <th>Gender</th>\n",
       "      <th>MaxAmountTransaction</th>\n",
       "      <th>MinAmountTransaction</th>\n",
       "      <th>MaxBalance</th>\n",
       "      <th>MinBalance</th>\n",
       "      <th>Age</th>\n",
       "    </tr>\n",
       "    <tr>\n",
       "      <th>CustomerID</th>\n",
       "      <th></th>\n",
       "      <th></th>\n",
       "      <th></th>\n",
       "      <th></th>\n",
       "      <th></th>\n",
       "      <th></th>\n",
       "      <th></th>\n",
       "      <th></th>\n",
       "      <th></th>\n",
       "      <th></th>\n",
       "    </tr>\n",
       "  </thead>\n",
       "  <tbody>\n",
       "    <tr>\n",
       "      <th>C1010011</th>\n",
       "      <td>2</td>\n",
       "      <td>2553.00</td>\n",
       "      <td>76340.63</td>\n",
       "      <td>73787.63</td>\n",
       "      <td>F</td>\n",
       "      <td>4750.00</td>\n",
       "      <td>356.00</td>\n",
       "      <td>120180.54</td>\n",
       "      <td>32500.73</td>\n",
       "      <td>NaN</td>\n",
       "    </tr>\n",
       "    <tr>\n",
       "      <th>C1010012</th>\n",
       "      <td>1</td>\n",
       "      <td>1499.00</td>\n",
       "      <td>24204.49</td>\n",
       "      <td>22705.49</td>\n",
       "      <td>M</td>\n",
       "      <td>1499.00</td>\n",
       "      <td>1499.00</td>\n",
       "      <td>24204.49</td>\n",
       "      <td>24204.49</td>\n",
       "      <td>NaN</td>\n",
       "    </tr>\n",
       "    <tr>\n",
       "      <th>C1010014</th>\n",
       "      <td>2</td>\n",
       "      <td>727.50</td>\n",
       "      <td>100112.95</td>\n",
       "      <td>99385.45</td>\n",
       "      <td>F</td>\n",
       "      <td>1205.00</td>\n",
       "      <td>250.00</td>\n",
       "      <td>161848.76</td>\n",
       "      <td>38377.14</td>\n",
       "      <td>NaN</td>\n",
       "    </tr>\n",
       "    <tr>\n",
       "      <th>C1010018</th>\n",
       "      <td>1</td>\n",
       "      <td>30.00</td>\n",
       "      <td>496.18</td>\n",
       "      <td>466.18</td>\n",
       "      <td>F</td>\n",
       "      <td>30.00</td>\n",
       "      <td>30.00</td>\n",
       "      <td>496.18</td>\n",
       "      <td>496.18</td>\n",
       "      <td>NaN</td>\n",
       "    </tr>\n",
       "    <tr>\n",
       "      <th>C1010024</th>\n",
       "      <td>1</td>\n",
       "      <td>5000.00</td>\n",
       "      <td>87058.65</td>\n",
       "      <td>82058.65</td>\n",
       "      <td>M</td>\n",
       "      <td>5000.00</td>\n",
       "      <td>5000.00</td>\n",
       "      <td>87058.65</td>\n",
       "      <td>87058.65</td>\n",
       "      <td>NaN</td>\n",
       "    </tr>\n",
       "    <tr>\n",
       "      <th>...</th>\n",
       "      <td>...</td>\n",
       "      <td>...</td>\n",
       "      <td>...</td>\n",
       "      <td>...</td>\n",
       "      <td>...</td>\n",
       "      <td>...</td>\n",
       "      <td>...</td>\n",
       "      <td>...</td>\n",
       "      <td>...</td>\n",
       "      <td>...</td>\n",
       "    </tr>\n",
       "    <tr>\n",
       "      <th>C9099836</th>\n",
       "      <td>1</td>\n",
       "      <td>691.00</td>\n",
       "      <td>133067.23</td>\n",
       "      <td>132376.23</td>\n",
       "      <td>M</td>\n",
       "      <td>691.00</td>\n",
       "      <td>691.00</td>\n",
       "      <td>133067.23</td>\n",
       "      <td>133067.23</td>\n",
       "      <td>NaN</td>\n",
       "    </tr>\n",
       "    <tr>\n",
       "      <th>C9099877</th>\n",
       "      <td>1</td>\n",
       "      <td>222.00</td>\n",
       "      <td>96063.46</td>\n",
       "      <td>95841.46</td>\n",
       "      <td>M</td>\n",
       "      <td>222.00</td>\n",
       "      <td>222.00</td>\n",
       "      <td>96063.46</td>\n",
       "      <td>96063.46</td>\n",
       "      <td>NaN</td>\n",
       "    </tr>\n",
       "    <tr>\n",
       "      <th>C9099919</th>\n",
       "      <td>1</td>\n",
       "      <td>126.00</td>\n",
       "      <td>5559.75</td>\n",
       "      <td>5433.75</td>\n",
       "      <td>M</td>\n",
       "      <td>126.00</td>\n",
       "      <td>126.00</td>\n",
       "      <td>5559.75</td>\n",
       "      <td>5559.75</td>\n",
       "      <td>NaN</td>\n",
       "    </tr>\n",
       "    <tr>\n",
       "      <th>C9099941</th>\n",
       "      <td>1</td>\n",
       "      <td>50.00</td>\n",
       "      <td>35295.92</td>\n",
       "      <td>35245.92</td>\n",
       "      <td>M</td>\n",
       "      <td>50.00</td>\n",
       "      <td>50.00</td>\n",
       "      <td>35295.92</td>\n",
       "      <td>35295.92</td>\n",
       "      <td>NaN</td>\n",
       "    </tr>\n",
       "    <tr>\n",
       "      <th>C9099956</th>\n",
       "      <td>1</td>\n",
       "      <td>855.00</td>\n",
       "      <td>6968.93</td>\n",
       "      <td>6113.93</td>\n",
       "      <td>M</td>\n",
       "      <td>855.00</td>\n",
       "      <td>855.00</td>\n",
       "      <td>6968.93</td>\n",
       "      <td>6968.93</td>\n",
       "      <td>NaN</td>\n",
       "    </tr>\n",
       "  </tbody>\n",
       "</table>\n",
       "<p>839081 rows × 10 columns</p>\n",
       "</div>"
      ],
      "text/plain": [
       "            NumTransaction  AvgAmountTransaction  AvgBalance  AvgDiffBalTrans  \\\n",
       "CustomerID                                                                      \n",
       "C1010011                 2               2553.00    76340.63         73787.63   \n",
       "C1010012                 1               1499.00    24204.49         22705.49   \n",
       "C1010014                 2                727.50   100112.95         99385.45   \n",
       "C1010018                 1                 30.00      496.18           466.18   \n",
       "C1010024                 1               5000.00    87058.65         82058.65   \n",
       "...                    ...                   ...         ...              ...   \n",
       "C9099836                 1                691.00   133067.23        132376.23   \n",
       "C9099877                 1                222.00    96063.46         95841.46   \n",
       "C9099919                 1                126.00     5559.75          5433.75   \n",
       "C9099941                 1                 50.00    35295.92         35245.92   \n",
       "C9099956                 1                855.00     6968.93          6113.93   \n",
       "\n",
       "           Gender  MaxAmountTransaction  MinAmountTransaction  MaxBalance  \\\n",
       "CustomerID                                                                  \n",
       "C1010011        F               4750.00                356.00   120180.54   \n",
       "C1010012        M               1499.00               1499.00    24204.49   \n",
       "C1010014        F               1205.00                250.00   161848.76   \n",
       "C1010018        F                 30.00                 30.00      496.18   \n",
       "C1010024        M               5000.00               5000.00    87058.65   \n",
       "...           ...                   ...                   ...         ...   \n",
       "C9099836        M                691.00                691.00   133067.23   \n",
       "C9099877        M                222.00                222.00    96063.46   \n",
       "C9099919        M                126.00                126.00     5559.75   \n",
       "C9099941        M                 50.00                 50.00    35295.92   \n",
       "C9099956        M                855.00                855.00     6968.93   \n",
       "\n",
       "            MinBalance  Age  \n",
       "CustomerID                   \n",
       "C1010011      32500.73  NaN  \n",
       "C1010012      24204.49  NaN  \n",
       "C1010014      38377.14  NaN  \n",
       "C1010018        496.18  NaN  \n",
       "C1010024      87058.65  NaN  \n",
       "...                ...  ...  \n",
       "C9099836     133067.23  NaN  \n",
       "C9099877      96063.46  NaN  \n",
       "C9099919       5559.75  NaN  \n",
       "C9099941      35295.92  NaN  \n",
       "C9099956       6968.93  NaN  \n",
       "\n",
       "[839081 rows x 10 columns]"
      ]
     },
     "execution_count": 252,
     "metadata": {},
     "output_type": "execute_result"
    }
   ],
   "source": [
    "new_df"
   ]
  },
  {
   "cell_type": "code",
   "execution_count": 267,
   "id": "59929cda",
   "metadata": {},
   "outputs": [
    {
     "data": {
      "text/plain": [
       "985322"
      ]
     },
     "execution_count": 267,
     "metadata": {},
     "output_type": "execute_result"
    }
   ],
   "source": [
    "(df['TransactionAmount (INR)'] >100).count()"
   ]
  },
  {
   "cell_type": "code",
   "execution_count": 272,
   "id": "ec08a36e",
   "metadata": {
    "collapsed": true
   },
   "outputs": [
    {
     "data": {
      "text/plain": [
       "0          False\n",
       "1           True\n",
       "2           True\n",
       "3           True\n",
       "4           True\n",
       "           ...  \n",
       "1048562     True\n",
       "1048563     True\n",
       "1048564     True\n",
       "1048565     True\n",
       "1048566     True\n",
       "Name: TransactionAmount (INR), Length: 985322, dtype: bool"
      ]
     },
     "execution_count": 272,
     "metadata": {},
     "output_type": "execute_result"
    }
   ],
   "source": [
    "df['TransactionAmount (INR)'] >100"
   ]
  },
  {
   "cell_type": "markdown",
   "id": "c235ecec",
   "metadata": {},
   "source": [
    "**13** (Number of transitions made in the night (22-06))"
   ]
  },
  {
   "cell_type": "code",
   "execution_count": 326,
   "id": "5a3257fd",
   "metadata": {
    "collapsed": true
   },
   "outputs": [
    {
     "ename": "TypeError",
     "evalue": "Index must be DatetimeIndex",
     "output_type": "error",
     "traceback": [
      "\u001b[1;31m---------------------------------------------------------------------------\u001b[0m",
      "\u001b[1;31mTypeError\u001b[0m                                 Traceback (most recent call last)",
      "Input \u001b[1;32mIn [326]\u001b[0m, in \u001b[0;36m<cell line: 1>\u001b[1;34m()\u001b[0m\n\u001b[1;32m----> 1\u001b[0m \u001b[43mdf\u001b[49m\u001b[43m[\u001b[49m\u001b[38;5;124;43m'\u001b[39;49m\u001b[38;5;124;43mTransactionTime\u001b[39;49m\u001b[38;5;124;43m'\u001b[39;49m\u001b[43m]\u001b[49m\u001b[38;5;241;43m.\u001b[39;49m\u001b[43mbetween_time\u001b[49m\u001b[43m(\u001b[49m\u001b[38;5;124;43m'\u001b[39;49m\u001b[38;5;124;43m0:45\u001b[39;49m\u001b[38;5;124;43m'\u001b[39;49m\u001b[43m,\u001b[49m\u001b[43m \u001b[49m\u001b[38;5;124;43m'\u001b[39;49m\u001b[38;5;124;43m0:15\u001b[39;49m\u001b[38;5;124;43m'\u001b[39;49m\u001b[43m)\u001b[49m\n",
      "File \u001b[1;32m~\\anaconda3\\lib\\site-packages\\pandas\\core\\generic.py:7850\u001b[0m, in \u001b[0;36mNDFrame.between_time\u001b[1;34m(self, start_time, end_time, include_start, include_end, inclusive, axis)\u001b[0m\n\u001b[0;32m   7848\u001b[0m index \u001b[38;5;241m=\u001b[39m \u001b[38;5;28mself\u001b[39m\u001b[38;5;241m.\u001b[39m_get_axis(axis)\n\u001b[0;32m   7849\u001b[0m \u001b[38;5;28;01mif\u001b[39;00m \u001b[38;5;129;01mnot\u001b[39;00m \u001b[38;5;28misinstance\u001b[39m(index, DatetimeIndex):\n\u001b[1;32m-> 7850\u001b[0m     \u001b[38;5;28;01mraise\u001b[39;00m \u001b[38;5;167;01mTypeError\u001b[39;00m(\u001b[38;5;124m\"\u001b[39m\u001b[38;5;124mIndex must be DatetimeIndex\u001b[39m\u001b[38;5;124m\"\u001b[39m)\n\u001b[0;32m   7852\u001b[0m old_include_arg_used \u001b[38;5;241m=\u001b[39m (include_start \u001b[38;5;241m!=\u001b[39m lib\u001b[38;5;241m.\u001b[39mno_default) \u001b[38;5;129;01mor\u001b[39;00m (\n\u001b[0;32m   7853\u001b[0m     include_end \u001b[38;5;241m!=\u001b[39m lib\u001b[38;5;241m.\u001b[39mno_default\n\u001b[0;32m   7854\u001b[0m )\n\u001b[0;32m   7856\u001b[0m \u001b[38;5;28;01mif\u001b[39;00m old_include_arg_used \u001b[38;5;129;01mand\u001b[39;00m inclusive \u001b[38;5;129;01mis\u001b[39;00m \u001b[38;5;129;01mnot\u001b[39;00m \u001b[38;5;28;01mNone\u001b[39;00m:\n",
      "\u001b[1;31mTypeError\u001b[0m: Index must be DatetimeIndex"
     ]
    }
   ],
   "source": [
    "df['TransactionTime'].between_time('0:45', '0:15')"
   ]
  },
  {
   "cell_type": "code",
   "execution_count": 352,
   "id": "e235d481",
   "metadata": {
    "collapsed": true
   },
   "outputs": [
    {
     "data": {
      "text/html": [
       "<div>\n",
       "<style scoped>\n",
       "    .dataframe tbody tr th:only-of-type {\n",
       "        vertical-align: middle;\n",
       "    }\n",
       "\n",
       "    .dataframe tbody tr th {\n",
       "        vertical-align: top;\n",
       "    }\n",
       "\n",
       "    .dataframe thead th {\n",
       "        text-align: right;\n",
       "    }\n",
       "</style>\n",
       "<table border=\"1\" class=\"dataframe\">\n",
       "  <thead>\n",
       "    <tr style=\"text-align: right;\">\n",
       "      <th></th>\n",
       "      <th>TransactionID</th>\n",
       "      <th>CustomerID</th>\n",
       "      <th>CustomerDOB</th>\n",
       "      <th>CustGender</th>\n",
       "      <th>CustLocation</th>\n",
       "      <th>CustAccountBalance</th>\n",
       "      <th>TransactionDate</th>\n",
       "      <th>TransactionTime</th>\n",
       "      <th>TransactionAmount (INR)</th>\n",
       "    </tr>\n",
       "  </thead>\n",
       "  <tbody>\n",
       "    <tr>\n",
       "      <th>41</th>\n",
       "      <td>T42</td>\n",
       "      <td>C7923455</td>\n",
       "      <td>1992-10-06</td>\n",
       "      <td>M</td>\n",
       "      <td>ANDHERI (EAST) MUMBAI</td>\n",
       "      <td>5810.82</td>\n",
       "      <td>2016-08-03</td>\n",
       "      <td>1900-01-01 22:11:11</td>\n",
       "      <td>12.00</td>\n",
       "    </tr>\n",
       "    <tr>\n",
       "      <th>42</th>\n",
       "      <td>T43</td>\n",
       "      <td>C2733968</td>\n",
       "      <td>1992-12-06</td>\n",
       "      <td>F</td>\n",
       "      <td>AURANGABAD</td>\n",
       "      <td>12545.18</td>\n",
       "      <td>2016-08-03</td>\n",
       "      <td>1900-01-01 22:09:26</td>\n",
       "      <td>179.00</td>\n",
       "    </tr>\n",
       "    <tr>\n",
       "      <th>43</th>\n",
       "      <td>T44</td>\n",
       "      <td>C2023055</td>\n",
       "      <td>1993-07-30</td>\n",
       "      <td>M</td>\n",
       "      <td>MUMBAI</td>\n",
       "      <td>10630.88</td>\n",
       "      <td>2016-08-03</td>\n",
       "      <td>1900-01-01 22:20:06</td>\n",
       "      <td>421.80</td>\n",
       "    </tr>\n",
       "    <tr>\n",
       "      <th>44</th>\n",
       "      <td>T45</td>\n",
       "      <td>C1289591</td>\n",
       "      <td>1990-10-28</td>\n",
       "      <td>M</td>\n",
       "      <td>KOTA</td>\n",
       "      <td>282455.64</td>\n",
       "      <td>2016-08-03</td>\n",
       "      <td>1900-01-01 22:20:08</td>\n",
       "      <td>900.00</td>\n",
       "    </tr>\n",
       "    <tr>\n",
       "      <th>45</th>\n",
       "      <td>T46</td>\n",
       "      <td>C3526781</td>\n",
       "      <td>1980-11-02</td>\n",
       "      <td>M</td>\n",
       "      <td>CHENNAI</td>\n",
       "      <td>1589.43</td>\n",
       "      <td>2016-08-03</td>\n",
       "      <td>1900-01-01 22:26:09</td>\n",
       "      <td>90.00</td>\n",
       "    </tr>\n",
       "    <tr>\n",
       "      <th>...</th>\n",
       "      <td>...</td>\n",
       "      <td>...</td>\n",
       "      <td>...</td>\n",
       "      <td>...</td>\n",
       "      <td>...</td>\n",
       "      <td>...</td>\n",
       "      <td>...</td>\n",
       "      <td>...</td>\n",
       "      <td>...</td>\n",
       "    </tr>\n",
       "    <tr>\n",
       "      <th>1022948</th>\n",
       "      <td>T1022949</td>\n",
       "      <td>C1149857</td>\n",
       "      <td>1989-08-02</td>\n",
       "      <td>M</td>\n",
       "      <td>NASHIK</td>\n",
       "      <td>8131.98</td>\n",
       "      <td>2016-09-13</td>\n",
       "      <td>1900-01-01 22:00:24</td>\n",
       "      <td>1512.00</td>\n",
       "    </tr>\n",
       "    <tr>\n",
       "      <th>1022949</th>\n",
       "      <td>T1022950</td>\n",
       "      <td>C5926378</td>\n",
       "      <td>1990-05-08</td>\n",
       "      <td>M</td>\n",
       "      <td>MUMBAI</td>\n",
       "      <td>10168.93</td>\n",
       "      <td>2016-09-13</td>\n",
       "      <td>1900-01-01 22:02:14</td>\n",
       "      <td>511.00</td>\n",
       "    </tr>\n",
       "    <tr>\n",
       "      <th>1022950</th>\n",
       "      <td>T1022951</td>\n",
       "      <td>C6829583</td>\n",
       "      <td>1989-11-27</td>\n",
       "      <td>M</td>\n",
       "      <td>HYDERABAD</td>\n",
       "      <td>138134.84</td>\n",
       "      <td>2016-09-13</td>\n",
       "      <td>1900-01-01 22:02:17</td>\n",
       "      <td>150.00</td>\n",
       "    </tr>\n",
       "    <tr>\n",
       "      <th>1023150</th>\n",
       "      <td>T1023151</td>\n",
       "      <td>C4012627</td>\n",
       "      <td>1993-11-12</td>\n",
       "      <td>M</td>\n",
       "      <td>DEHRADUN</td>\n",
       "      <td>59130.70</td>\n",
       "      <td>2016-09-13</td>\n",
       "      <td>1900-01-01 22:09:59</td>\n",
       "      <td>150.00</td>\n",
       "    </tr>\n",
       "    <tr>\n",
       "      <th>1048095</th>\n",
       "      <td>T1048096</td>\n",
       "      <td>C4858111</td>\n",
       "      <td>1985-04-25</td>\n",
       "      <td>M</td>\n",
       "      <td>NEW DELHI</td>\n",
       "      <td>344829.08</td>\n",
       "      <td>2016-09-18</td>\n",
       "      <td>1900-01-01 22:23:14</td>\n",
       "      <td>74.95</td>\n",
       "    </tr>\n",
       "  </tbody>\n",
       "</table>\n",
       "<p>50713 rows × 9 columns</p>\n",
       "</div>"
      ],
      "text/plain": [
       "        TransactionID CustomerID CustomerDOB CustGender  \\\n",
       "41                T42   C7923455  1992-10-06          M   \n",
       "42                T43   C2733968  1992-12-06          F   \n",
       "43                T44   C2023055  1993-07-30          M   \n",
       "44                T45   C1289591  1990-10-28          M   \n",
       "45                T46   C3526781  1980-11-02          M   \n",
       "...               ...        ...         ...        ...   \n",
       "1022948      T1022949   C1149857  1989-08-02          M   \n",
       "1022949      T1022950   C5926378  1990-05-08          M   \n",
       "1022950      T1022951   C6829583  1989-11-27          M   \n",
       "1023150      T1023151   C4012627  1993-11-12          M   \n",
       "1048095      T1048096   C4858111  1985-04-25          M   \n",
       "\n",
       "                  CustLocation  CustAccountBalance TransactionDate  \\\n",
       "41       ANDHERI (EAST) MUMBAI             5810.82      2016-08-03   \n",
       "42                  AURANGABAD            12545.18      2016-08-03   \n",
       "43                      MUMBAI            10630.88      2016-08-03   \n",
       "44                        KOTA           282455.64      2016-08-03   \n",
       "45                     CHENNAI             1589.43      2016-08-03   \n",
       "...                        ...                 ...             ...   \n",
       "1022948                 NASHIK             8131.98      2016-09-13   \n",
       "1022949                 MUMBAI            10168.93      2016-09-13   \n",
       "1022950              HYDERABAD           138134.84      2016-09-13   \n",
       "1023150               DEHRADUN            59130.70      2016-09-13   \n",
       "1048095              NEW DELHI           344829.08      2016-09-18   \n",
       "\n",
       "            TransactionTime  TransactionAmount (INR)  \n",
       "41      1900-01-01 22:11:11                    12.00  \n",
       "42      1900-01-01 22:09:26                   179.00  \n",
       "43      1900-01-01 22:20:06                   421.80  \n",
       "44      1900-01-01 22:20:08                   900.00  \n",
       "45      1900-01-01 22:26:09                    90.00  \n",
       "...                     ...                      ...  \n",
       "1022948 1900-01-01 22:00:24                  1512.00  \n",
       "1022949 1900-01-01 22:02:14                   511.00  \n",
       "1022950 1900-01-01 22:02:17                   150.00  \n",
       "1023150 1900-01-01 22:09:59                   150.00  \n",
       "1048095 1900-01-01 22:23:14                    74.95  \n",
       "\n",
       "[50713 rows x 9 columns]"
      ]
     },
     "execution_count": 352,
     "metadata": {},
     "output_type": "execute_result"
    }
   ],
   "source": [
    "df[df['TransactionTime'].dt.hour  == 22]"
   ]
  },
  {
   "cell_type": "code",
   "execution_count": null,
   "id": "44126628",
   "metadata": {},
   "outputs": [],
   "source": []
  }
 ],
 "metadata": {
  "kernelspec": {
   "display_name": "Python 3 (ipykernel)",
   "language": "python",
   "name": "python3"
  },
  "language_info": {
   "codemirror_mode": {
    "name": "ipython",
    "version": 3
   },
   "file_extension": ".py",
   "mimetype": "text/x-python",
   "name": "python",
   "nbconvert_exporter": "python",
   "pygments_lexer": "ipython3",
   "version": "3.9.12"
  }
 },
 "nbformat": 4,
 "nbformat_minor": 5
}
