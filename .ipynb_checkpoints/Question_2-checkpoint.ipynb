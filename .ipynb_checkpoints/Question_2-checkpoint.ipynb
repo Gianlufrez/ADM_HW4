{
 "cells": [
  {
   "cell_type": "markdown",
   "id": "dfd07b88",
   "metadata": {},
   "source": [
    "# QUESTION 2"
   ]
  },
  {
   "cell_type": "markdown",
   "id": "33d26d5f",
   "metadata": {},
   "source": [
    "## Import dataset and data cleaning"
   ]
  },
  {
   "cell_type": "markdown",
   "id": "63d378d1",
   "metadata": {},
   "source": [
    "COSE DA FARE RIGUARDO LA DOMANDA 2.1:\n",
    "- GENERALI\n",
    "    - inventare tutte le variabili e fare il codice per crearle\n",
    "    - sistemare la sezione che dice 'notation regarding variables 9,10,11\n",
    "    - sistemare la creazione delle variabili gender of customers e most frequent location\n",
    "    - levare la data alla variabile TRANSACTIONTIME pero lasciare il type della variabili datatime perche senno il comando per creare le varibili 13,14,15 non funziona.\n",
    "    - cambiare la seconda variabile perche dice 100 USD\n",
    "- PULIZIA DATSET\n",
    "    - fare una grafico dell'età da qualche parte\n",
    "    - sistemare il drop dell'amount transaction = 0\n",
    "    - cercare di fare un barplot che ci dica quante transazioni sono state fatte per ogni citta (guarda foto 27-11 20.19)"
   ]
  },
  {
   "cell_type": "code",
   "execution_count": 374,
   "id": "2eec795a",
   "metadata": {},
   "outputs": [],
   "source": [
    "import pandas as pd\n",
    "from datetime import datetime\n",
    "import numpy as np\n",
    "import seaborn as sns\n",
    "import matplotlib.pyplot as plt"
   ]
  },
  {
   "cell_type": "code",
   "execution_count": 375,
   "id": "7b5561af",
   "metadata": {},
   "outputs": [],
   "source": [
    "df=pd.read_csv(r\"C:\\Users\\gianl\\Documents\\Università_4°anno(2022-2023\\ADM\\HOMEWORK\\HOMEWORK 4\\bank_transactions.csv\", sep=\",\")"
   ]
  },
  {
   "cell_type": "code",
   "execution_count": 376,
   "id": "75ed8542",
   "metadata": {},
   "outputs": [],
   "source": [
    "#traformiamo le variaibli in datetime\n",
    "df['TransactionTime'] = df['TransactionTime'].apply(lambda x: datetime.strptime(str(x).zfill(6), '%H%M%S'))\n",
    "df['CustomerDOB'] = pd.to_datetime(df['CustomerDOB'], format = '%d/%m/%y', errors = 'coerce')\n",
    "df['TransactionDate'] = pd.to_datetime(df['TransactionDate'], format = '%d/%m/%y', errors = 'coerce')\n",
    "#da transaction time vogliamo levare la data, applichiamo questo comando quidi per avere solo l'oario\n",
    "#df['TransactionTime'] = df['TransactionTime'].apply( lambda d : d.time() ) "
   ]
  },
  {
   "cell_type": "code",
   "execution_count": 330,
   "id": "cb1a8037",
   "metadata": {},
   "outputs": [
    {
     "data": {
      "text/html": [
       "<div>\n",
       "<style scoped>\n",
       "    .dataframe tbody tr th:only-of-type {\n",
       "        vertical-align: middle;\n",
       "    }\n",
       "\n",
       "    .dataframe tbody tr th {\n",
       "        vertical-align: top;\n",
       "    }\n",
       "\n",
       "    .dataframe thead th {\n",
       "        text-align: right;\n",
       "    }\n",
       "</style>\n",
       "<table border=\"1\" class=\"dataframe\">\n",
       "  <thead>\n",
       "    <tr style=\"text-align: right;\">\n",
       "      <th></th>\n",
       "      <th>CustAccountBalance</th>\n",
       "      <th>TransactionAmount (INR)</th>\n",
       "    </tr>\n",
       "  </thead>\n",
       "  <tbody>\n",
       "    <tr>\n",
       "      <th>count</th>\n",
       "      <td>984614.00</td>\n",
       "      <td>984614.00</td>\n",
       "    </tr>\n",
       "    <tr>\n",
       "      <th>mean</th>\n",
       "      <td>106000.34</td>\n",
       "      <td>1453.47</td>\n",
       "    </tr>\n",
       "    <tr>\n",
       "      <th>std</th>\n",
       "      <td>817536.70</td>\n",
       "      <td>6141.85</td>\n",
       "    </tr>\n",
       "    <tr>\n",
       "      <th>min</th>\n",
       "      <td>0.00</td>\n",
       "      <td>0.01</td>\n",
       "    </tr>\n",
       "    <tr>\n",
       "      <th>25%</th>\n",
       "      <td>4583.38</td>\n",
       "      <td>152.69</td>\n",
       "    </tr>\n",
       "    <tr>\n",
       "      <th>50%</th>\n",
       "      <td>16000.52</td>\n",
       "      <td>432.89</td>\n",
       "    </tr>\n",
       "    <tr>\n",
       "      <th>75%</th>\n",
       "      <td>53707.27</td>\n",
       "      <td>1127.00</td>\n",
       "    </tr>\n",
       "    <tr>\n",
       "      <th>max</th>\n",
       "      <td>115035495.10</td>\n",
       "      <td>1560034.99</td>\n",
       "    </tr>\n",
       "  </tbody>\n",
       "</table>\n",
       "</div>"
      ],
      "text/plain": [
       "       CustAccountBalance  TransactionAmount (INR)\n",
       "count           984614.00                984614.00\n",
       "mean            106000.34                  1453.47\n",
       "std             817536.70                  6141.85\n",
       "min                  0.00                     0.01\n",
       "25%               4583.38                   152.69\n",
       "50%              16000.52                   432.89\n",
       "75%              53707.27                  1127.00\n",
       "max          115035495.10               1560034.99"
      ]
     },
     "execution_count": 330,
     "metadata": {},
     "output_type": "execute_result"
    }
   ],
   "source": [
    "df.describe()"
   ]
  },
  {
   "cell_type": "code",
   "execution_count": 229,
   "id": "1a2ff1c1",
   "metadata": {
    "scrolled": true
   },
   "outputs": [
    {
     "name": "stdout",
     "output_type": "stream",
     "text": [
      "<class 'pandas.core.frame.DataFrame'>\n",
      "RangeIndex: 1048567 entries, 0 to 1048566\n",
      "Data columns (total 9 columns):\n",
      " #   Column                   Non-Null Count    Dtype         \n",
      "---  ------                   --------------    -----         \n",
      " 0   TransactionID            1048567 non-null  object        \n",
      " 1   CustomerID               1048567 non-null  object        \n",
      " 2   CustomerDOB              987831 non-null   datetime64[ns]\n",
      " 3   CustGender               1047467 non-null  object        \n",
      " 4   CustLocation             1048416 non-null  object        \n",
      " 5   CustAccountBalance       1046198 non-null  float64       \n",
      " 6   TransactionDate          1048567 non-null  datetime64[ns]\n",
      " 7   TransactionTime          1048567 non-null  object        \n",
      " 8   TransactionAmount (INR)  1048567 non-null  float64       \n",
      "dtypes: datetime64[ns](2), float64(2), object(5)\n",
      "memory usage: 72.0+ MB\n"
     ]
    }
   ],
   "source": [
    "df.info()"
   ]
  },
  {
   "cell_type": "code",
   "execution_count": null,
   "id": "01b879bc",
   "metadata": {},
   "outputs": [],
   "source": [
    "a = df.groupby('CustomerID')"
   ]
  },
  {
   "cell_type": "code",
   "execution_count": null,
   "id": "f2a39624",
   "metadata": {},
   "outputs": [],
   "source": [
    "#for i in a:\n",
    "#    print(i)"
   ]
  },
  {
   "cell_type": "markdown",
   "id": "4e225d8d",
   "metadata": {},
   "source": [
    "**Let's see how many nulls the dataset has in each column**"
   ]
  },
  {
   "cell_type": "code",
   "execution_count": 360,
   "id": "f1067a4f",
   "metadata": {},
   "outputs": [
    {
     "data": {
      "text/plain": [
       "TransactionID                 0\n",
       "CustomerID                    0\n",
       "CustomerDOB                3397\n",
       "CustGender                 1100\n",
       "CustLocation                151\n",
       "CustAccountBalance         2369\n",
       "TransactionDate               0\n",
       "TransactionTime               0\n",
       "TransactionAmount (INR)       0\n",
       "dtype: int64"
      ]
     },
     "execution_count": 360,
     "metadata": {},
     "output_type": "execute_result"
    }
   ],
   "source": [
    "df.isna().sum()"
   ]
  },
  {
   "cell_type": "markdown",
   "id": "fc2ee807",
   "metadata": {},
   "source": [
    "**There are very few missing values compering to the rest of the dataset, so we can drop it**"
   ]
  },
  {
   "cell_type": "code",
   "execution_count": 377,
   "id": "c651ac1a",
   "metadata": {},
   "outputs": [],
   "source": [
    "df = df.dropna()"
   ]
  },
  {
   "cell_type": "markdown",
   "id": "0bd6bb11",
   "metadata": {},
   "source": [
    "**As we can see, there are a lot of birthdates on January 1st, which seems a little strange. There's also a lot of customers birth on 1/1/1800. This is probably some default the bank has where this information is unknown, althought that is a little strange. I'll remove them.**"
   ]
  },
  {
   "cell_type": "code",
   "execution_count": 180,
   "id": "bd12573a",
   "metadata": {
    "collapsed": true
   },
   "outputs": [
    {
     "data": {
      "text/plain": [
       "1989-01-01    809\n",
       "1990-01-01    784\n",
       "1991-08-06    698\n",
       "1991-01-01    665\n",
       "1992-01-01    631\n",
       "             ... \n",
       "2005-02-23      1\n",
       "2042-11-28      1\n",
       "2049-09-23      1\n",
       "2040-03-14      1\n",
       "2044-10-24      1\n",
       "Name: CustomerDOB, Length: 17232, dtype: int64"
      ]
     },
     "execution_count": 180,
     "metadata": {},
     "output_type": "execute_result"
    }
   ],
   "source": [
    "df['CustomerDOB'].value_counts()"
   ]
  },
  {
   "cell_type": "code",
   "execution_count": 378,
   "id": "60bc824d",
   "metadata": {},
   "outputs": [],
   "source": [
    "df = df.loc[~(df['CustomerDOB'] == '1/1/1800')]"
   ]
  },
  {
   "cell_type": "markdown",
   "id": "3962d221",
   "metadata": {},
   "source": [
    "**There are people born after 2021, so just subtract 100 from the year of birth of these people**"
   ]
  },
  {
   "cell_type": "code",
   "execution_count": 379,
   "id": "694dd33d",
   "metadata": {},
   "outputs": [],
   "source": [
    "df.loc[df['CustomerDOB'].dt.year >= 2021, ['CustomerDOB']] -= pd.DateOffset(years = 100)"
   ]
  },
  {
   "cell_type": "markdown",
   "id": "0086d67d",
   "metadata": {},
   "source": [
    "**Let's check if there are transaction with an amount equal to 0**"
   ]
  },
  {
   "cell_type": "code",
   "execution_count": 323,
   "id": "a4152ef3",
   "metadata": {
    "collapsed": true
   },
   "outputs": [
    {
     "data": {
      "text/plain": [
       "TransactionID              0\n",
       "CustomerID                 0\n",
       "CustomerDOB                0\n",
       "CustGender                 0\n",
       "CustLocation               0\n",
       "CustAccountBalance         0\n",
       "TransactionDate            0\n",
       "TransactionTime            0\n",
       "TransactionAmount (INR)    0\n",
       "dtype: int64"
      ]
     },
     "execution_count": 323,
     "metadata": {},
     "output_type": "execute_result"
    }
   ],
   "source": [
    "df[df['TransactionAmount (INR)'] == 0].count()"
   ]
  },
  {
   "cell_type": "markdown",
   "id": "33eae825",
   "metadata": {},
   "source": [
    "Transactions with amount equal to 0 don't make any sense, maybe is just a mistake, so let's drop them"
   ]
  },
  {
   "cell_type": "code",
   "execution_count": 380,
   "id": "a6c28420",
   "metadata": {},
   "outputs": [],
   "source": [
    "df = df.drop(df[df['TransactionAmount (INR)'] == 0].index,axis = 0)"
   ]
  },
  {
   "cell_type": "markdown",
   "id": "079dc8b6",
   "metadata": {},
   "source": [
    "**We want to show how many transactions for each city there are in the dataset**"
   ]
  },
  {
   "cell_type": "markdown",
   "id": "193d247f",
   "metadata": {},
   "source": [
    "# 2.1"
   ]
  },
  {
   "cell_type": "code",
   "execution_count": 381,
   "id": "1eb8c225",
   "metadata": {},
   "outputs": [],
   "source": [
    "#Let's create a new dataframe called new_df\n",
    "new_df = pd.DataFrame()"
   ]
  },
  {
   "cell_type": "markdown",
   "id": "8c5ff98c",
   "metadata": {},
   "source": [
    "**Number of transactions**"
   ]
  },
  {
   "cell_type": "code",
   "execution_count": 382,
   "id": "b9e3b7e0",
   "metadata": {},
   "outputs": [],
   "source": [
    "new_df['NumTransaction'] = df.groupby(['CustomerID'])['TransactionID'].count()"
   ]
  },
  {
   "cell_type": "markdown",
   "id": "8b368dcd",
   "metadata": {},
   "source": [
    "**Number of transactions > 100**"
   ]
  },
  {
   "cell_type": "markdown",
   "id": "f3c1196e",
   "metadata": {},
   "source": [
    "For each customer\n",
    "* find transactions > 100\n",
    "* count number of rows for each customer"
   ]
  },
  {
   "cell_type": "code",
   "execution_count": 383,
   "id": "b0a7f3cb",
   "metadata": {},
   "outputs": [],
   "source": [
    "new_df['AmountTrans>100'] = df[df['TransactionAmount (INR)']  > 100].groupby([\"CustomerID\"])[\"TransactionAmount (INR)\"].count()\n",
    "new_df['AmountTrans>100'] = new_df['AmountTrans>100'].fillna(0)\n",
    "new_df['AmountTrans>100'] = new_df['AmountTrans>100'].astype(int)"
   ]
  },
  {
   "cell_type": "markdown",
   "id": "c632b921",
   "metadata": {},
   "source": [
    "**Average amount of transaction**"
   ]
  },
  {
   "cell_type": "code",
   "execution_count": 384,
   "id": "6ec49212",
   "metadata": {},
   "outputs": [],
   "source": [
    "new_df['AvgAmountTransaction'] = df.groupby(['CustomerID'])['TransactionAmount (INR)'].agg('mean')"
   ]
  },
  {
   "cell_type": "markdown",
   "id": "0acb4104",
   "metadata": {},
   "source": [
    "**Average balance**"
   ]
  },
  {
   "cell_type": "code",
   "execution_count": 385,
   "id": "1681f8d1",
   "metadata": {},
   "outputs": [],
   "source": [
    "#The first command is to visualize a float number approximated to two decimal places and not an exponential number.\n",
    "pd.options.display.float_format = '{:.2f}'.format \n",
    "new_df['AvgBalance'] = df.groupby(['CustomerID'])['CustAccountBalance'].agg('mean')"
   ]
  },
  {
   "cell_type": "markdown",
   "id": "128dc8ed",
   "metadata": {},
   "source": [
    "**Average difference between the balance and the transaction amount for each customer**"
   ]
  },
  {
   "cell_type": "code",
   "execution_count": 386,
   "id": "80d3280e",
   "metadata": {},
   "outputs": [],
   "source": [
    "df['provvisoria'] = df['CustAccountBalance'] - df['TransactionAmount (INR)']\n",
    "new_df['AvgDiffBalTrans'] = df.groupby(['CustomerID'])['provvisoria'].agg('mean')\n",
    "del df['provvisoria']"
   ]
  },
  {
   "cell_type": "markdown",
   "id": "7d755e4b",
   "metadata": {},
   "source": [
    "**Gender of customers???**"
   ]
  },
  {
   "cell_type": "code",
   "execution_count": null,
   "id": "98d6c226",
   "metadata": {},
   "outputs": [],
   "source": []
  },
  {
   "cell_type": "code",
   "execution_count": 307,
   "id": "fc5820e8",
   "metadata": {},
   "outputs": [],
   "source": [
    "Gender = df.groupby(['CustomerID'])['CustGender'].first()\n",
    "new_df['Gender'] = Gender"
   ]
  },
  {
   "cell_type": "code",
   "execution_count": 204,
   "id": "54546d31",
   "metadata": {
    "collapsed": true
   },
   "outputs": [
    {
     "data": {
      "text/html": [
       "<div>\n",
       "<style scoped>\n",
       "    .dataframe tbody tr th:only-of-type {\n",
       "        vertical-align: middle;\n",
       "    }\n",
       "\n",
       "    .dataframe tbody tr th {\n",
       "        vertical-align: top;\n",
       "    }\n",
       "\n",
       "    .dataframe thead th {\n",
       "        text-align: right;\n",
       "    }\n",
       "</style>\n",
       "<table border=\"1\" class=\"dataframe\">\n",
       "  <thead>\n",
       "    <tr style=\"text-align: right;\">\n",
       "      <th></th>\n",
       "      <th>NumTransaction</th>\n",
       "      <th>AvgAmountTransaction</th>\n",
       "      <th>AvgBalance</th>\n",
       "      <th>AvgDiffBalTrans</th>\n",
       "    </tr>\n",
       "    <tr>\n",
       "      <th>Gender</th>\n",
       "      <th></th>\n",
       "      <th></th>\n",
       "      <th></th>\n",
       "      <th></th>\n",
       "    </tr>\n",
       "  </thead>\n",
       "  <tbody>\n",
       "    <tr>\n",
       "      <th>F</th>\n",
       "      <td>273256</td>\n",
       "      <td>367447135.92</td>\n",
       "      <td>23877167001.38</td>\n",
       "      <td>23509719865.46</td>\n",
       "    </tr>\n",
       "    <tr>\n",
       "      <th>M</th>\n",
       "      <td>712066</td>\n",
       "      <td>852260783.19</td>\n",
       "      <td>64943365789.12</td>\n",
       "      <td>64091105005.93</td>\n",
       "    </tr>\n",
       "  </tbody>\n",
       "</table>\n",
       "</div>"
      ],
      "text/plain": [
       "        NumTransaction  AvgAmountTransaction     AvgBalance  AvgDiffBalTrans\n",
       "Gender                                                                      \n",
       "F               273256          367447135.92 23877167001.38   23509719865.46\n",
       "M               712066          852260783.19 64943365789.12   64091105005.93"
      ]
     },
     "execution_count": 204,
     "metadata": {},
     "output_type": "execute_result"
    }
   ],
   "source": [
    "new_df.groupby('Gender').count()"
   ]
  },
  {
   "cell_type": "markdown",
   "id": "d031ba50",
   "metadata": {},
   "source": [
    "**Most frequent location of the customer???**"
   ]
  },
  {
   "cell_type": "code",
   "execution_count": 13,
   "id": "2030b01c",
   "metadata": {},
   "outputs": [],
   "source": [
    "new_df['MostFreqLocation'] = df.groupby(['CustomerID'])['CustLocation'].agg(pd.Series.mode)"
   ]
  },
  {
   "cell_type": "markdown",
   "id": "ea733ccb",
   "metadata": {},
   "source": [
    "## Create 20 additional features"
   ]
  },
  {
   "cell_type": "markdown",
   "id": "703a42d2",
   "metadata": {},
   "source": [
    "The addictional futures that we will cosider are:\n",
    "\n",
    "1. Highest transiction amount\n",
    "2. Lowest transiction amount\n",
    "3. Highest balance a customer has ever had\n",
    "4. Lowest balance a customer has ever had\n",
    "5. Number of transaction carried out just during August\n",
    "6. Number of transaction carried out just during September\n",
    "7. Number of transaction carried out just during October\n",
    "8. Age of customers on transition days\n",
    "9. Number of transactions > 1000\n",
    "10. Number of transactions > 5000\n",
    "11. Number of transactions > 10000\n",
    "12. Number of times a transition has been made in the most frequent location of the customer\n",
    "13. Number of transitions made in the night (22-06)\n",
    "14. Number of transitions made in the morning (06-14)\n",
    "15. Number of transitions made in the evening (14-22)\n",
    "16.\n",
    "17.\n",
    "18. Time between birthday in 2016 and the transaction.\n",
    "19.\n",
    "20. Season of birthday (Winter, Spring, Summer, Autumn). This is similar information to the birthday, but with less granularity.\n",
    "Percentile of the transaction amount, taking into account all transaction amounts\n",
    "Percentile of the account balance, taking into account all account balances\n",
    "Average time between transactions. Comment: probably won't be that good because most people just have one transaction. But we will remove some features later anyways."
   ]
  },
  {
   "cell_type": "markdown",
   "id": "617e7028",
   "metadata": {},
   "source": [
    "**Notation regarding variables 5,6,7**"
   ]
  },
  {
   "cell_type": "markdown",
   "id": "fbbadc1b",
   "metadata": {},
   "source": [
    "With regard to variables 5, 6 and 7, at the beginning we thought to see the number of transactions carried out during the 4 different seasons, but later we noticed that the transactions within the dataset were all carried out in the months of August, September and October. For this reason we have decided to create 3 new variables that tell us how many transactions users have made in the different months (August, September and October).\n",
    "\n",
    "The following cell shows us that the transactions were actually carried out only in the 3 months indicated above."
   ]
  },
  {
   "cell_type": "code",
   "execution_count": 387,
   "id": "95a2c7a7",
   "metadata": {},
   "outputs": [
    {
     "data": {
      "text/html": [
       "<div>\n",
       "<style scoped>\n",
       "    .dataframe tbody tr th:only-of-type {\n",
       "        vertical-align: middle;\n",
       "    }\n",
       "\n",
       "    .dataframe tbody tr th {\n",
       "        vertical-align: top;\n",
       "    }\n",
       "\n",
       "    .dataframe thead th {\n",
       "        text-align: right;\n",
       "    }\n",
       "</style>\n",
       "<table border=\"1\" class=\"dataframe\">\n",
       "  <thead>\n",
       "    <tr style=\"text-align: right;\">\n",
       "      <th></th>\n",
       "      <th>TransactionID</th>\n",
       "      <th>CustomerID</th>\n",
       "      <th>CustomerDOB</th>\n",
       "      <th>CustGender</th>\n",
       "      <th>CustLocation</th>\n",
       "      <th>CustAccountBalance</th>\n",
       "      <th>TransactionDate</th>\n",
       "      <th>TransactionTime</th>\n",
       "      <th>TransactionAmount (INR)</th>\n",
       "    </tr>\n",
       "    <tr>\n",
       "      <th>TransactionDate</th>\n",
       "      <th></th>\n",
       "      <th></th>\n",
       "      <th></th>\n",
       "      <th></th>\n",
       "      <th></th>\n",
       "      <th></th>\n",
       "      <th></th>\n",
       "      <th></th>\n",
       "      <th></th>\n",
       "    </tr>\n",
       "  </thead>\n",
       "  <tbody>\n",
       "    <tr>\n",
       "      <th>8</th>\n",
       "      <td>613122</td>\n",
       "      <td>613122</td>\n",
       "      <td>613122</td>\n",
       "      <td>613122</td>\n",
       "      <td>613122</td>\n",
       "      <td>613122</td>\n",
       "      <td>613122</td>\n",
       "      <td>613122</td>\n",
       "      <td>613122</td>\n",
       "    </tr>\n",
       "    <tr>\n",
       "      <th>9</th>\n",
       "      <td>368086</td>\n",
       "      <td>368086</td>\n",
       "      <td>368086</td>\n",
       "      <td>368086</td>\n",
       "      <td>368086</td>\n",
       "      <td>368086</td>\n",
       "      <td>368086</td>\n",
       "      <td>368086</td>\n",
       "      <td>368086</td>\n",
       "    </tr>\n",
       "    <tr>\n",
       "      <th>10</th>\n",
       "      <td>3406</td>\n",
       "      <td>3406</td>\n",
       "      <td>3406</td>\n",
       "      <td>3406</td>\n",
       "      <td>3406</td>\n",
       "      <td>3406</td>\n",
       "      <td>3406</td>\n",
       "      <td>3406</td>\n",
       "      <td>3406</td>\n",
       "    </tr>\n",
       "  </tbody>\n",
       "</table>\n",
       "</div>"
      ],
      "text/plain": [
       "                 TransactionID  CustomerID  CustomerDOB  CustGender  \\\n",
       "TransactionDate                                                       \n",
       "8                       613122      613122       613122      613122   \n",
       "9                       368086      368086       368086      368086   \n",
       "10                        3406        3406         3406        3406   \n",
       "\n",
       "                 CustLocation  CustAccountBalance  TransactionDate  \\\n",
       "TransactionDate                                                      \n",
       "8                      613122              613122           613122   \n",
       "9                      368086              368086           368086   \n",
       "10                       3406                3406             3406   \n",
       "\n",
       "                 TransactionTime  TransactionAmount (INR)  \n",
       "TransactionDate                                            \n",
       "8                         613122                   613122  \n",
       "9                         368086                   368086  \n",
       "10                          3406                     3406  "
      ]
     },
     "execution_count": 387,
     "metadata": {},
     "output_type": "execute_result"
    }
   ],
   "source": [
    "df.groupby(df['TransactionDate'].dt.month).count()"
   ]
  },
  {
   "cell_type": "markdown",
   "id": "c5e823a4",
   "metadata": {},
   "source": [
    "Let's see a pie plot that show us the amount of transactions for each month."
   ]
  },
  {
   "cell_type": "code",
   "execution_count": 317,
   "id": "0a67c76a",
   "metadata": {},
   "outputs": [
    {
     "data": {
      "text/plain": [
       "<AxesSubplot:ylabel='TransactionAmount (INR)'>"
      ]
     },
     "execution_count": 317,
     "metadata": {},
     "output_type": "execute_result"
    },
    {
     "data": {
      "image/png": "[encoded data removed]",
      "text/plain": [
       "<Figure size 432x288 with 1 Axes>"
      ]
     },
     "metadata": {},
     "output_type": "display_data"
    }
   ],
   "source": [
    "df.groupby(df['TransactionDate'].dt.month).sum().plot(kind='pie', y='TransactionAmount (INR)')"
   ]
  },
  {
   "cell_type": "markdown",
   "id": "dfb9421a",
   "metadata": {},
   "source": [
    "**Notation regarding variables 9,10,11**"
   ]
  },
  {
   "cell_type": "code",
   "execution_count": 192,
   "id": "f64636c5",
   "metadata": {},
   "outputs": [
    {
     "data": {
      "text/plain": [
       "TransactionID              267271\n",
       "CustomerID                 267271\n",
       "CustomerDOB                267271\n",
       "CustGender                 267271\n",
       "CustLocation               267271\n",
       "CustAccountBalance         267271\n",
       "TransactionDate            267271\n",
       "TransactionTime            267271\n",
       "TransactionAmount (INR)    267271\n",
       "dtype: int64"
      ]
     },
     "execution_count": 192,
     "metadata": {},
     "output_type": "execute_result"
    }
   ],
   "source": [
    "#I WOULD LIKE TO MAKE A RANGE BAR PLOT, THAT IS TO COUNT THE NUMBER OF TRANSACTIONS BETWEEN 100 AND 500, THEN THE ONE BETWEEN 500 AND 2000, \n",
    "#THE ONE BETWEEN 2000 AND 10000 ETC AND I WOULD LIKE TO SHOW THAT THERE ARE ONLY 47K TRANSACTIONS> OF 5000 SO I DECIDED TO CREATE THE VARIABLES> 500,\n",
    "#> 1000 and> 5000. THAT MEANS, I TAKEN INTERVALS NOT THAT GREAT BECAUSE OTHERWISE HAD LITTLE SENSE.\n",
    "#FOR NOW I CAN SHOW WHAT I SAID WITH A COMMAND BUT IT WAS NICE TO MAKE A GRAPH THAT SHOWED IT BUT I DON'T KNOW HOW TO DO IT\n",
    "#df[df['TransactionAmount (INR)'] > 500].count()\n",
    "df[df['TransactionAmount (INR)'] > 1000].count()\n",
    "#df[df['TransactionAmount (INR)'] > 2000].count()\n",
    "#df[df['TransactionAmount (INR)'] > 5000].count()"
   ]
  },
  {
   "cell_type": "markdown",
   "id": "b4081bb9",
   "metadata": {},
   "source": [
    "#### Once the additional features considered have been defined, we create them and add them to the 'new_df' dataset."
   ]
  },
  {
   "cell_type": "markdown",
   "id": "669f9966",
   "metadata": {},
   "source": [
    "**1** Highest transiction amount"
   ]
  },
  {
   "cell_type": "code",
   "execution_count": 388,
   "id": "27b84bd6",
   "metadata": {},
   "outputs": [],
   "source": [
    "new_df['MaxAmountTransaction'] = df.groupby(['CustomerID'])['TransactionAmount (INR)'].agg('max')"
   ]
  },
  {
   "cell_type": "markdown",
   "id": "01953c14",
   "metadata": {},
   "source": [
    "**2** Lowest transiction amount"
   ]
  },
  {
   "cell_type": "code",
   "execution_count": 389,
   "id": "34fa2530",
   "metadata": {},
   "outputs": [],
   "source": [
    "new_df['MinAmountTransaction'] = df.groupby(['CustomerID'])['TransactionAmount (INR)'].agg('min')"
   ]
  },
  {
   "cell_type": "markdown",
   "id": "ddb60d1f",
   "metadata": {},
   "source": [
    "**3** Highest balance a customer has ever had"
   ]
  },
  {
   "cell_type": "code",
   "execution_count": 390,
   "id": "59628f3a",
   "metadata": {},
   "outputs": [],
   "source": [
    "new_df['MaxBalance'] = df.groupby(['CustomerID'])['CustAccountBalance'].agg('max')"
   ]
  },
  {
   "cell_type": "markdown",
   "id": "23ce1c23",
   "metadata": {},
   "source": [
    "**4** Lowest balance a customer has ever had"
   ]
  },
  {
   "cell_type": "code",
   "execution_count": 391,
   "id": "6154194d",
   "metadata": {},
   "outputs": [],
   "source": [
    "new_df['MinBalance'] = df.groupby(['CustomerID'])['CustAccountBalance'].agg('min')"
   ]
  },
  {
   "cell_type": "markdown",
   "id": "7a4082e2",
   "metadata": {},
   "source": [
    "**5** Number of transaction carried out just during August"
   ]
  },
  {
   "cell_type": "code",
   "execution_count": 392,
   "id": "02d7ef3f",
   "metadata": {},
   "outputs": [],
   "source": [
    "in_august = df[df['TransactionDate'].dt.month == 8]\n",
    "new_df['TransactionAugust'] = in_august.groupby(['CustomerID'])['TransactionDate'].count()\n",
    "new_df['TransactionAugust'] = new_df['TransactionAugust'].fillna(0) #we replace NaN values, that is who didn't make transaction in summer, with 0.\n",
    "new_df['Transactio nAugust'] = new_df['TransactionAugust'].astype(int)"
   ]
  },
  {
   "cell_type": "markdown",
   "id": "9eeec375",
   "metadata": {},
   "source": [
    "**6** Number of transaction carried out just during September"
   ]
  },
  {
   "cell_type": "code",
   "execution_count": 393,
   "id": "af159e94",
   "metadata": {},
   "outputs": [],
   "source": [
    "in_september = df[df['TransactionDate'].dt.month == 9]\n",
    "new_df['TransactionSeptember'] = in_september.groupby(['CustomerID'])['TransactionDate'].count()\n",
    "new_df['TransactionSeptember'] = new_df['TransactionSeptember'].fillna(0) #we replace NaN values, that is who didn't make transaction in summer, with 0.\n",
    "new_df['TransactionSeptember'] = new_df['TransactionSeptember'].astype(int)"
   ]
  },
  {
   "cell_type": "markdown",
   "id": "f0da6434",
   "metadata": {},
   "source": [
    "**7** Number of transaction carried out just during October"
   ]
  },
  {
   "cell_type": "code",
   "execution_count": 394,
   "id": "3e0511f9",
   "metadata": {},
   "outputs": [],
   "source": [
    "in_october = df[df['TransactionDate'].dt.month == 10]\n",
    "new_df['TransactionOctober'] = in_october.groupby(['CustomerID'])['TransactionDate'].count()\n",
    "new_df['TransactionOctober'] = new_df['TransactionOctober'].fillna(0) #we replace NaN values, that is who didn't make transaction in summer, with 0.\n",
    "new_df['TransactionOctober'] = new_df['TransactionOctober'].astype(int)"
   ]
  },
  {
   "cell_type": "markdown",
   "id": "12dfd2e2",
   "metadata": {},
   "source": [
    "**8** Age of customers on transition days"
   ]
  },
  {
   "cell_type": "code",
   "execution_count": 395,
   "id": "262b6cd8",
   "metadata": {},
   "outputs": [],
   "source": [
    "ex = df.groupby(['CustomerID'])[['TransactionDate','CustomerDOB']].first()\n",
    "new_df['Age'] = ex['TransactionDate'].dt.year - ex['CustomerDOB'].dt.year"
   ]
  },
  {
   "cell_type": "markdown",
   "id": "d15e9720",
   "metadata": {},
   "source": [
    "**9** Number of transactions > 500"
   ]
  },
  {
   "cell_type": "code",
   "execution_count": 396,
   "id": "556a2fe1",
   "metadata": {},
   "outputs": [],
   "source": [
    "new_df['AmountTrans>1000'] = df[df['TransactionAmount (INR)']  > 500].groupby([\"CustomerID\"])[\"TransactionAmount (INR)\"].count()\n",
    "new_df['AmountTrans>1000'] = new_df['AmountTrans>1000'].fillna(0)\n",
    "new_df['AmountTrans>1000'] = new_df['AmountTrans>1000'].astype(int)"
   ]
  },
  {
   "cell_type": "markdown",
   "id": "c64d8705",
   "metadata": {},
   "source": [
    "**10** Number of transactions > 1000"
   ]
  },
  {
   "cell_type": "code",
   "execution_count": 397,
   "id": "91be4cf1",
   "metadata": {},
   "outputs": [],
   "source": [
    "new_df['AmountTrans>5000'] = df[df['TransactionAmount (INR)']  > 1000].groupby([\"CustomerID\"])[\"TransactionAmount (INR)\"].count()\n",
    "new_df['AmountTrans>5000'] = new_df['AmountTrans>5000'].fillna(0)\n",
    "new_df['AmountTrans>5000'] = new_df['AmountTrans>5000'].astype(int)"
   ]
  },
  {
   "cell_type": "markdown",
   "id": "59f972f2",
   "metadata": {},
   "source": [
    "**11** Number of transactions > 5000"
   ]
  },
  {
   "cell_type": "code",
   "execution_count": 398,
   "id": "53880ef0",
   "metadata": {},
   "outputs": [],
   "source": [
    "new_df['AmountTrans>10000'] = df[df['TransactionAmount (INR)']  > 5000].groupby([\"CustomerID\"])[\"TransactionAmount (INR)\"].count()\n",
    "new_df['AmountTrans>10000'] = new_df['AmountTrans>10000'].fillna(0)\n",
    "new_df['AmountTrans>10000'] = new_df['AmountTrans>10000'].astype(int)"
   ]
  },
  {
   "cell_type": "markdown",
   "id": "8c3942e3",
   "metadata": {},
   "source": [
    "**12** Number of times a transition has been made in the most frequent location of the customer"
   ]
  },
  {
   "cell_type": "code",
   "execution_count": null,
   "id": "9cc0c09a",
   "metadata": {},
   "outputs": [],
   "source": []
  },
  {
   "cell_type": "markdown",
   "id": "c235ecec",
   "metadata": {},
   "source": [
    "**13** Number of transitions made in the night (23-06)"
   ]
  },
  {
   "cell_type": "code",
   "execution_count": 399,
   "id": "e235d481",
   "metadata": {},
   "outputs": [],
   "source": [
    "after_twentythree = df[df['TransactionTime'].dt.hour >= 23]\n",
    "before_six = df[df['TransactionTime'].dt.hour <= 6]\n",
    "between_twentythree_six = pd.concat([after_twentythree,before_six], ignore_index = True)\n",
    "new_df['Transaction_23-06'] = between_twentythree_six.groupby(['CustomerID'])['TransactionTime'].count()\n",
    "new_df['Transaction_23-06'] = new_df['Transaction_23-06'].fillna(0) #we replace NaN values, that is who didn't make transaction in summer, with 0.\n",
    "new_df['Transaction_23-06'] = new_df['Transaction_23-06'].astype(int)"
   ]
  },
  {
   "cell_type": "markdown",
   "id": "adaaf963",
   "metadata": {},
   "source": [
    "**14** Number of transitions made in the morning (07-14)"
   ]
  },
  {
   "cell_type": "code",
   "execution_count": 400,
   "id": "0da9d715",
   "metadata": {},
   "outputs": [],
   "source": [
    "after_seven = df[df['TransactionTime'].dt.hour >= 7]\n",
    "between_seven_forteen = after_seven[after_seven['TransactionTime'].dt.hour <= 14]\n",
    "new_df['Transaction_7-14'] = between_seven_forteen.groupby(['CustomerID'])['TransactionTime'].count()\n",
    "new_df['Transaction_7-14'] = new_df['Transaction_7-14'].fillna(0) #we replace NaN values, that is who didn't make transaction in summer, with 0.\n",
    "new_df['Transaction_7-14'] = new_df['Transaction_7-14'].astype(int)"
   ]
  },
  {
   "cell_type": "markdown",
   "id": "473b7724",
   "metadata": {},
   "source": [
    "**15** Number of transitions made in the evening (15-22)"
   ]
  },
  {
   "cell_type": "code",
   "execution_count": 401,
   "id": "b0699942",
   "metadata": {},
   "outputs": [],
   "source": [
    "after_fifteen = df[df['TransactionTime'].dt.hour >= 15]\n",
    "between_fifteen_twentytwo = after_fifteen[after_fifteen['TransactionTime'].dt.hour <= 22]\n",
    "new_df['Transaction_15-22'] = between_fifteen_twentytwo.groupby(['CustomerID'])['TransactionTime'].count()\n",
    "new_df['Transaction_15-22'] = new_df['Transaction_15-22'].fillna(0) #we replace NaN values, that is who didn't make transaction in summer, with 0.\n",
    "new_df['Transaction_15-22'] = new_df['Transaction_15-22'].astype(int)"
   ]
  },
  {
   "cell_type": "code",
   "execution_count": null,
   "id": "fc9006c5",
   "metadata": {},
   "outputs": [],
   "source": []
  }
 ],
 "metadata": {
  "kernelspec": {
   "display_name": "Python 3 (ipykernel)",
   "language": "python",
   "name": "python3"
  },
  "language_info": {
   "codemirror_mode": {
    "name": "ipython",
    "version": 3
   },
   "file_extension": ".py",
   "mimetype": "text/x-python",
   "name": "python",
   "nbconvert_exporter": "python",
   "pygments_lexer": "ipython3",
   "version": "3.9.12"
  }
 },
 "nbformat": 4,
 "nbformat_minor": 5
}
