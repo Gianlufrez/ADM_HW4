{
 "cells": [
  {
   "cell_type": "markdown",
   "id": "b687b2f4",
   "metadata": {},
   "source": [
    "# Homework 4 - Getting to know your customers\n",
    "\n",
    "## 1. Finding Similar Costumers\n",
    "\n",
    "Companies nowadays are implementing product suggestions to provide users with things they are likely to buy. The process often starts by finding similar behaviours among consumers; for this task, we will focus on this part in the specific.\n",
    "Here you will implement an algorithm to find the most similar match to a consumer given his bank account information. In particular, you will implement your version of the LSH algorithm that takes as input information about a consumer and finds people similar to the one in the study.\n",
    "\n",
    "## 1.1 Set up the data"
   ]
  },
  {
   "cell_type": "markdown",
   "id": "9ec219e4",
   "metadata": {},
   "source": [
    "First of all we used pandas to import the dataset of transaction of a bank in India. The features that could be useful to match similar consumer given the bank accont information are: CustomerID, CustomerDOB (to group by similar ages), CustGender, CustAccountBalance (to group by richness) and TransactionAmount (to group by how much money they use). We didn't use the location in which the customer do the transaction and the time of it, but we'll keep the date to calculate the age."
   ]
  },
  {
   "cell_type": "code",
   "execution_count": 1,
   "id": "f846e887",
   "metadata": {},
   "outputs": [],
   "source": [
    "import pandas as pd\n",
    "import numpy as np\n",
    "import matplotlib.pyplot as plt\n",
    "from collections import Counter\n",
    "from tqdm import tqdm as tq\n",
    "from math import sqrt\n",
    "import seaborn as sn\n",
    "from statistics import mean\n",
    "import warnings\n",
    "warnings.filterwarnings(\"ignore\")"
   ]
  },
  {
   "cell_type": "code",
   "execution_count": 130,
   "id": "162773eb",
   "metadata": {},
   "outputs": [],
   "source": [
    "df = pd.read_csv('/Users/giacomo/Desktop/locale/bank_transactions.csv', usecols = ['TransactionID', 'CustomerID', 'CustomerDOB', 'CustGender', 'TransactionDate', 'CustAccountBalance', 'TransactionAmount (INR)'])"
   ]
  },
  {
   "cell_type": "code",
   "execution_count": 3,
   "id": "c1f2ea23",
   "metadata": {},
   "outputs": [
    {
     "data": {
      "text/html": [
       "<div>\n",
       "<style scoped>\n",
       "    .dataframe tbody tr th:only-of-type {\n",
       "        vertical-align: middle;\n",
       "    }\n",
       "\n",
       "    .dataframe tbody tr th {\n",
       "        vertical-align: top;\n",
       "    }\n",
       "\n",
       "    .dataframe thead th {\n",
       "        text-align: right;\n",
       "    }\n",
       "</style>\n",
       "<table border=\"1\" class=\"dataframe\">\n",
       "  <thead>\n",
       "    <tr style=\"text-align: right;\">\n",
       "      <th></th>\n",
       "      <th>TransactionID</th>\n",
       "      <th>CustomerID</th>\n",
       "      <th>CustomerDOB</th>\n",
       "      <th>CustGender</th>\n",
       "      <th>CustAccountBalance</th>\n",
       "      <th>TransactionDate</th>\n",
       "      <th>TransactionAmount (INR)</th>\n",
       "    </tr>\n",
       "  </thead>\n",
       "  <tbody>\n",
       "    <tr>\n",
       "      <th>0</th>\n",
       "      <td>T1</td>\n",
       "      <td>C5841053</td>\n",
       "      <td>10/1/94</td>\n",
       "      <td>F</td>\n",
       "      <td>17819.05</td>\n",
       "      <td>2/8/16</td>\n",
       "      <td>25.0</td>\n",
       "    </tr>\n",
       "    <tr>\n",
       "      <th>1</th>\n",
       "      <td>T2</td>\n",
       "      <td>C2142763</td>\n",
       "      <td>4/4/57</td>\n",
       "      <td>M</td>\n",
       "      <td>2270.69</td>\n",
       "      <td>2/8/16</td>\n",
       "      <td>27999.0</td>\n",
       "    </tr>\n",
       "    <tr>\n",
       "      <th>2</th>\n",
       "      <td>T3</td>\n",
       "      <td>C4417068</td>\n",
       "      <td>26/11/96</td>\n",
       "      <td>F</td>\n",
       "      <td>17874.44</td>\n",
       "      <td>2/8/16</td>\n",
       "      <td>459.0</td>\n",
       "    </tr>\n",
       "    <tr>\n",
       "      <th>3</th>\n",
       "      <td>T4</td>\n",
       "      <td>C5342380</td>\n",
       "      <td>14/9/73</td>\n",
       "      <td>F</td>\n",
       "      <td>866503.21</td>\n",
       "      <td>2/8/16</td>\n",
       "      <td>2060.0</td>\n",
       "    </tr>\n",
       "    <tr>\n",
       "      <th>4</th>\n",
       "      <td>T5</td>\n",
       "      <td>C9031234</td>\n",
       "      <td>24/3/88</td>\n",
       "      <td>F</td>\n",
       "      <td>6714.43</td>\n",
       "      <td>2/8/16</td>\n",
       "      <td>1762.5</td>\n",
       "    </tr>\n",
       "    <tr>\n",
       "      <th>...</th>\n",
       "      <td>...</td>\n",
       "      <td>...</td>\n",
       "      <td>...</td>\n",
       "      <td>...</td>\n",
       "      <td>...</td>\n",
       "      <td>...</td>\n",
       "      <td>...</td>\n",
       "    </tr>\n",
       "    <tr>\n",
       "      <th>1048562</th>\n",
       "      <td>T1048563</td>\n",
       "      <td>C8020229</td>\n",
       "      <td>8/4/90</td>\n",
       "      <td>M</td>\n",
       "      <td>7635.19</td>\n",
       "      <td>18/9/16</td>\n",
       "      <td>799.0</td>\n",
       "    </tr>\n",
       "    <tr>\n",
       "      <th>1048563</th>\n",
       "      <td>T1048564</td>\n",
       "      <td>C6459278</td>\n",
       "      <td>20/2/92</td>\n",
       "      <td>M</td>\n",
       "      <td>27311.42</td>\n",
       "      <td>18/9/16</td>\n",
       "      <td>460.0</td>\n",
       "    </tr>\n",
       "    <tr>\n",
       "      <th>1048564</th>\n",
       "      <td>T1048565</td>\n",
       "      <td>C6412354</td>\n",
       "      <td>18/5/89</td>\n",
       "      <td>M</td>\n",
       "      <td>221757.06</td>\n",
       "      <td>18/9/16</td>\n",
       "      <td>770.0</td>\n",
       "    </tr>\n",
       "    <tr>\n",
       "      <th>1048565</th>\n",
       "      <td>T1048566</td>\n",
       "      <td>C6420483</td>\n",
       "      <td>30/8/78</td>\n",
       "      <td>M</td>\n",
       "      <td>10117.87</td>\n",
       "      <td>18/9/16</td>\n",
       "      <td>1000.0</td>\n",
       "    </tr>\n",
       "    <tr>\n",
       "      <th>1048566</th>\n",
       "      <td>T1048567</td>\n",
       "      <td>C8337524</td>\n",
       "      <td>5/3/84</td>\n",
       "      <td>M</td>\n",
       "      <td>75734.42</td>\n",
       "      <td>18/9/16</td>\n",
       "      <td>1166.0</td>\n",
       "    </tr>\n",
       "  </tbody>\n",
       "</table>\n",
       "<p>1048567 rows × 7 columns</p>\n",
       "</div>"
      ],
      "text/plain": [
       "        TransactionID CustomerID CustomerDOB CustGender  CustAccountBalance  \\\n",
       "0                  T1   C5841053     10/1/94          F            17819.05   \n",
       "1                  T2   C2142763      4/4/57          M             2270.69   \n",
       "2                  T3   C4417068    26/11/96          F            17874.44   \n",
       "3                  T4   C5342380     14/9/73          F           866503.21   \n",
       "4                  T5   C9031234     24/3/88          F             6714.43   \n",
       "...               ...        ...         ...        ...                 ...   \n",
       "1048562      T1048563   C8020229      8/4/90          M             7635.19   \n",
       "1048563      T1048564   C6459278     20/2/92          M            27311.42   \n",
       "1048564      T1048565   C6412354     18/5/89          M           221757.06   \n",
       "1048565      T1048566   C6420483     30/8/78          M            10117.87   \n",
       "1048566      T1048567   C8337524      5/3/84          M            75734.42   \n",
       "\n",
       "        TransactionDate  TransactionAmount (INR)  \n",
       "0                2/8/16                     25.0  \n",
       "1                2/8/16                  27999.0  \n",
       "2                2/8/16                    459.0  \n",
       "3                2/8/16                   2060.0  \n",
       "4                2/8/16                   1762.5  \n",
       "...                 ...                      ...  \n",
       "1048562         18/9/16                    799.0  \n",
       "1048563         18/9/16                    460.0  \n",
       "1048564         18/9/16                    770.0  \n",
       "1048565         18/9/16                   1000.0  \n",
       "1048566         18/9/16                   1166.0  \n",
       "\n",
       "[1048567 rows x 7 columns]"
      ]
     },
     "execution_count": 3,
     "metadata": {},
     "output_type": "execute_result"
    }
   ],
   "source": [
    "df.copy()"
   ]
  },
  {
   "cell_type": "markdown",
   "id": "96f94b29",
   "metadata": {},
   "source": [
    "The dataset is composed by 1048567 transactions and 7 features referred to: TransactionID, CustomerID\tCustomerDOB, CustGender, CustAccountBalance, TransactionDate, TransactionAmount (INR). Let's have a look into the missing values:"
   ]
  },
  {
   "cell_type": "code",
   "execution_count": 4,
   "id": "7d7b83fe",
   "metadata": {},
   "outputs": [
    {
     "data": {
      "text/plain": [
       "TransactionID                 0\n",
       "CustomerID                    0\n",
       "CustomerDOB                3397\n",
       "CustGender                 1100\n",
       "CustAccountBalance         2369\n",
       "TransactionDate               0\n",
       "TransactionAmount (INR)       0\n",
       "dtype: int64"
      ]
     },
     "execution_count": 4,
     "metadata": {},
     "output_type": "execute_result"
    }
   ],
   "source": [
    "df.isna().sum()"
   ]
  },
  {
   "cell_type": "markdown",
   "id": "22bcb4c8",
   "metadata": {},
   "source": [
    "Given that the dataset is composed by 1048567 rows the missing values are a small percentage, so we decide to drop them: "
   ]
  },
  {
   "cell_type": "code",
   "execution_count": 5,
   "id": "8395d010",
   "metadata": {},
   "outputs": [],
   "source": [
    "df = df.dropna()"
   ]
  },
  {
   "cell_type": "code",
   "execution_count": 6,
   "id": "3fe9aa5a",
   "metadata": {},
   "outputs": [
    {
     "name": "stdout",
     "output_type": "stream",
     "text": [
      "<class 'pandas.core.frame.DataFrame'>\n",
      "Int64Index: 1041765 entries, 0 to 1048566\n",
      "Data columns (total 7 columns):\n",
      " #   Column                   Non-Null Count    Dtype  \n",
      "---  ------                   --------------    -----  \n",
      " 0   TransactionID            1041765 non-null  object \n",
      " 1   CustomerID               1041765 non-null  object \n",
      " 2   CustomerDOB              1041765 non-null  object \n",
      " 3   CustGender               1041765 non-null  object \n",
      " 4   CustAccountBalance       1041765 non-null  float64\n",
      " 5   TransactionDate          1041765 non-null  object \n",
      " 6   TransactionAmount (INR)  1041765 non-null  float64\n",
      "dtypes: float64(2), object(5)\n",
      "memory usage: 63.6+ MB\n"
     ]
    }
   ],
   "source": [
    "df.info()"
   ]
  },
  {
   "cell_type": "markdown",
   "id": "baba0682",
   "metadata": {},
   "source": [
    "# 1.1.1 Cust Gender\n",
    "\n",
    "We started exploring the Gender of the customers:"
   ]
  },
  {
   "cell_type": "code",
   "execution_count": 7,
   "id": "30e8f4be",
   "metadata": {},
   "outputs": [
    {
     "data": {
      "text/plain": [
       "str"
      ]
     },
     "execution_count": 7,
     "metadata": {},
     "output_type": "execute_result"
    }
   ],
   "source": [
    "type(df['CustGender'][0])"
   ]
  },
  {
   "cell_type": "code",
   "execution_count": 8,
   "id": "bec0ece0",
   "metadata": {},
   "outputs": [
    {
     "data": {
      "text/plain": [
       "M    761098\n",
       "F    280666\n",
       "T         1\n",
       "Name: CustGender, dtype: int64"
      ]
     },
     "execution_count": 8,
     "metadata": {},
     "output_type": "execute_result"
    }
   ],
   "source": [
    "df['CustGender'].value_counts()"
   ]
  },
  {
   "cell_type": "code",
   "execution_count": 9,
   "id": "3b0fa2e6",
   "metadata": {},
   "outputs": [
    {
     "data": {
      "image/png": "[encoded data removed]",
      "text/plain": [
       "<Figure size 432x288 with 1 Axes>"
      ]
     },
     "metadata": {},
     "output_type": "display_data"
    }
   ],
   "source": [
    "df['CustGender'].value_counts().plot(kind='pie', autopct='%.2f')\n",
    "\n",
    "plt.legend()\n",
    " \n",
    "plt.show()"
   ]
  },
  {
   "cell_type": "markdown",
   "id": "0ce61399",
   "metadata": {},
   "source": [
    "We noticed that there is a 'T' classified gender in the dataset: "
   ]
  },
  {
   "cell_type": "code",
   "execution_count": 10,
   "id": "d31b39f1",
   "metadata": {},
   "outputs": [
    {
     "data": {
      "text/html": [
       "<div>\n",
       "<style scoped>\n",
       "    .dataframe tbody tr th:only-of-type {\n",
       "        vertical-align: middle;\n",
       "    }\n",
       "\n",
       "    .dataframe tbody tr th {\n",
       "        vertical-align: top;\n",
       "    }\n",
       "\n",
       "    .dataframe thead th {\n",
       "        text-align: right;\n",
       "    }\n",
       "</style>\n",
       "<table border=\"1\" class=\"dataframe\">\n",
       "  <thead>\n",
       "    <tr style=\"text-align: right;\">\n",
       "      <th></th>\n",
       "      <th>TransactionID</th>\n",
       "      <th>CustomerID</th>\n",
       "      <th>CustomerDOB</th>\n",
       "      <th>CustGender</th>\n",
       "      <th>CustAccountBalance</th>\n",
       "      <th>TransactionDate</th>\n",
       "      <th>TransactionAmount (INR)</th>\n",
       "    </tr>\n",
       "  </thead>\n",
       "  <tbody>\n",
       "    <tr>\n",
       "      <th>959987</th>\n",
       "      <td>T959988</td>\n",
       "      <td>C3380368</td>\n",
       "      <td>1/1/1800</td>\n",
       "      <td>T</td>\n",
       "      <td>50050.0</td>\n",
       "      <td>10/9/16</td>\n",
       "      <td>32500.0</td>\n",
       "    </tr>\n",
       "  </tbody>\n",
       "</table>\n",
       "</div>"
      ],
      "text/plain": [
       "       TransactionID CustomerID CustomerDOB CustGender  CustAccountBalance  \\\n",
       "959987       T959988   C3380368    1/1/1800          T             50050.0   \n",
       "\n",
       "       TransactionDate  TransactionAmount (INR)  \n",
       "959987         10/9/16                  32500.0  "
      ]
     },
     "execution_count": 10,
     "metadata": {},
     "output_type": "execute_result"
    }
   ],
   "source": [
    "df[df[\"CustGender\"] == 'T'] "
   ]
  },
  {
   "cell_type": "markdown",
   "id": "025bbbda",
   "metadata": {},
   "source": [
    "Given the big amount of transactions that we have we decided to drop it, also considering that this customer have a missing value also for the DOB. "
   ]
  },
  {
   "cell_type": "code",
   "execution_count": 11,
   "id": "63acca01",
   "metadata": {},
   "outputs": [],
   "source": [
    "df.drop(df[df.CustGender == 'T'].index, axis=0, inplace=True)"
   ]
  },
  {
   "cell_type": "markdown",
   "id": "9bf5830f",
   "metadata": {},
   "source": [
    "# 1.1.2 Age\n",
    "\n",
    "We decided to convert into datetime the date of birthday of the customers and the date of the transaction:"
   ]
  },
  {
   "cell_type": "code",
   "execution_count": 12,
   "id": "47d3d1fe",
   "metadata": {},
   "outputs": [
    {
     "name": "stdout",
     "output_type": "stream",
     "text": [
      "<class 'str'> <class 'str'>\n"
     ]
    }
   ],
   "source": [
    "print(type(df['CustomerDOB'][0]), type(df['TransactionDate'][0]))"
   ]
  },
  {
   "cell_type": "code",
   "execution_count": 13,
   "id": "298267f9",
   "metadata": {},
   "outputs": [],
   "source": [
    "df['CustomerDOB'] = pd.to_datetime(df['CustomerDOB'])\n",
    "\n",
    "df['TransactionDate'] = pd.to_datetime(df['TransactionDate']) "
   ]
  },
  {
   "cell_type": "code",
   "execution_count": 14,
   "id": "2bc14974",
   "metadata": {},
   "outputs": [
    {
     "data": {
      "text/html": [
       "<div>\n",
       "<style scoped>\n",
       "    .dataframe tbody tr th:only-of-type {\n",
       "        vertical-align: middle;\n",
       "    }\n",
       "\n",
       "    .dataframe tbody tr th {\n",
       "        vertical-align: top;\n",
       "    }\n",
       "\n",
       "    .dataframe thead th {\n",
       "        text-align: right;\n",
       "    }\n",
       "</style>\n",
       "<table border=\"1\" class=\"dataframe\">\n",
       "  <thead>\n",
       "    <tr style=\"text-align: right;\">\n",
       "      <th></th>\n",
       "      <th>TransactionID</th>\n",
       "      <th>CustomerID</th>\n",
       "      <th>CustomerDOB</th>\n",
       "      <th>CustGender</th>\n",
       "      <th>CustAccountBalance</th>\n",
       "      <th>TransactionDate</th>\n",
       "      <th>TransactionAmount (INR)</th>\n",
       "    </tr>\n",
       "  </thead>\n",
       "  <tbody>\n",
       "    <tr>\n",
       "      <th>0</th>\n",
       "      <td>T1</td>\n",
       "      <td>C5841053</td>\n",
       "      <td>1994-10-01</td>\n",
       "      <td>F</td>\n",
       "      <td>17819.05</td>\n",
       "      <td>2016-02-08</td>\n",
       "      <td>25.0</td>\n",
       "    </tr>\n",
       "  </tbody>\n",
       "</table>\n",
       "</div>"
      ],
      "text/plain": [
       "  TransactionID CustomerID CustomerDOB CustGender  CustAccountBalance  \\\n",
       "0            T1   C5841053  1994-10-01          F            17819.05   \n",
       "\n",
       "  TransactionDate  TransactionAmount (INR)  \n",
       "0      2016-02-08                     25.0  "
      ]
     },
     "execution_count": 14,
     "metadata": {},
     "output_type": "execute_result"
    }
   ],
   "source": [
    "df.head(1)"
   ]
  },
  {
   "cell_type": "code",
   "execution_count": 15,
   "id": "79f4b7dd",
   "metadata": {},
   "outputs": [
    {
     "data": {
      "text/plain": [
       "2016    1041764\n",
       "Name: TransactionDate, dtype: int64"
      ]
     },
     "execution_count": 15,
     "metadata": {},
     "output_type": "execute_result"
    }
   ],
   "source": [
    "df['TransactionDate'].dt.year.value_counts()"
   ]
  },
  {
   "cell_type": "code",
   "execution_count": 16,
   "id": "6d168e76",
   "metadata": {},
   "outputs": [
    {
     "data": {
      "text/plain": [
       "8     427368\n",
       "9     157939\n",
       "10     50742\n",
       "7      48092\n",
       "11     47036\n",
       "4      46963\n",
       "3      46755\n",
       "6      45935\n",
       "2      43510\n",
       "12     42892\n",
       "1      42460\n",
       "5      42072\n",
       "Name: TransactionDate, dtype: int64"
      ]
     },
     "execution_count": 16,
     "metadata": {},
     "output_type": "execute_result"
    }
   ],
   "source": [
    "df['TransactionDate'].dt.month.value_counts()"
   ]
  },
  {
   "cell_type": "markdown",
   "id": "f73267bb",
   "metadata": {},
   "source": [
    "All the data were taken in 2016, so we'll use this year to calculate the ages.\n",
    "Going through the Date of Birthday we can see that there is something strange: there are dates of birthday referred to 1800, probably cause it is a default value when this data is missing, and a right tail that seems to be a part of the main figure with an offset: "
   ]
  },
  {
   "cell_type": "code",
   "execution_count": 17,
   "id": "01d3004c",
   "metadata": {},
   "outputs": [
    {
     "data": {
      "image/png": "[encoded data removed]",
      "text/plain": [
       "<Figure size 432x288 with 1 Axes>"
      ]
     },
     "metadata": {
      "needs_background": "light"
     },
     "output_type": "display_data"
    }
   ],
   "source": [
    "count = Counter(df['CustomerDOB'].dt.year)\n",
    "\n",
    "plt.bar(count.keys(), count.values())\n",
    "\n",
    "plt.xlabel('Year of birth')\n",
    "\n",
    "plt.ylabel('Frequency')\n",
    " \n",
    "plt.show()"
   ]
  },
  {
   "cell_type": "code",
   "execution_count": 18,
   "id": "e9ace8f2",
   "metadata": {},
   "outputs": [
    {
     "data": {
      "text/plain": [
       "1800-01-01    56291\n",
       "Name: CustomerDOB, dtype: int64"
      ]
     },
     "execution_count": 18,
     "metadata": {},
     "output_type": "execute_result"
    }
   ],
   "source": [
    "df.loc[df['CustomerDOB'].dt.year == 1800]['CustomerDOB'].value_counts()"
   ]
  },
  {
   "cell_type": "markdown",
   "id": "b364ede9",
   "metadata": {},
   "source": [
    "We decided to replace DOB referred to year 1800 with 0 age values and rearrange the data after year 2000 adjusting the offset."
   ]
  },
  {
   "cell_type": "code",
   "execution_count": 19,
   "id": "a2284d9e",
   "metadata": {},
   "outputs": [
    {
     "data": {
      "image/png": "[encoded data removed]",
      "text/plain": [
       "<Figure size 432x288 with 1 Axes>"
      ]
     },
     "metadata": {
      "needs_background": "light"
     },
     "output_type": "display_data"
    }
   ],
   "source": [
    "df.loc[df.CustomerDOB.dt.year > 2000, 'CustomerDOB'] = df.loc[df.CustomerDOB.dt.year > 2000, 'CustomerDOB'] - pd.DateOffset(years = 100)\n",
    "\n",
    "count = Counter(df['CustomerDOB'].dt.year)\n",
    "\n",
    "plt.bar(count.keys(), count.values())\n",
    "\n",
    "plt.xlabel('Year of birth')\n",
    "\n",
    "plt.ylabel('Frequency')\n",
    " \n",
    "plt.show()"
   ]
  },
  {
   "cell_type": "markdown",
   "id": "c27a2ef5",
   "metadata": {},
   "source": [
    "We created a 'CustomerAge' column filling it with 0 values:"
   ]
  },
  {
   "cell_type": "code",
   "execution_count": 20,
   "id": "765cf6cf",
   "metadata": {},
   "outputs": [],
   "source": [
    "df['CustomerAge'] = 0 #initialize customerAge column with 0 values"
   ]
  },
  {
   "cell_type": "markdown",
   "id": "933794bf",
   "metadata": {},
   "source": [
    "Then we substitute ages that have YOB different from 1800:"
   ]
  },
  {
   "cell_type": "code",
   "execution_count": 21,
   "id": "28032e96",
   "metadata": {},
   "outputs": [],
   "source": [
    "df.loc[df['CustomerDOB'].dt.year != 1800, 'CustomerAge'] = df.loc[df['CustomerDOB'].dt.year != 1800, 'TransactionDate'].dt.year - df.loc[df['CustomerDOB'].dt.year != 1800, 'CustomerDOB'].dt.year "
   ]
  },
  {
   "cell_type": "code",
   "execution_count": 22,
   "id": "e7b7501c",
   "metadata": {},
   "outputs": [],
   "source": [
    "df['CustomerAge'] = df['CustomerAge'].astype(int)"
   ]
  },
  {
   "cell_type": "code",
   "execution_count": 23,
   "id": "e25d17e8",
   "metadata": {},
   "outputs": [],
   "source": [
    "del df['TransactionDate']"
   ]
  },
  {
   "cell_type": "code",
   "execution_count": 24,
   "id": "32578a70",
   "metadata": {},
   "outputs": [
    {
     "data": {
      "image/png": "[encoded data removed]",
      "text/plain": [
       "<Figure size 432x288 with 1 Axes>"
      ]
     },
     "metadata": {
      "needs_background": "light"
     },
     "output_type": "display_data"
    }
   ],
   "source": [
    "count = Counter(df['CustomerAge'])\n",
    "\n",
    "plt.bar(count.keys(), count.values())\n",
    "\n",
    "plt.xlabel('Ages')\n",
    "\n",
    "plt.ylabel('Frequency')\n",
    "\n",
    "plt.show()"
   ]
  },
  {
   "cell_type": "markdown",
   "id": "fba97e2b",
   "metadata": {},
   "source": [
    "Exploring the ages at the edges we can see that: "
   ]
  },
  {
   "cell_type": "code",
   "execution_count": 25,
   "id": "56ac912c",
   "metadata": {},
   "outputs": [
    {
     "data": {
      "text/plain": [
       "16"
      ]
     },
     "execution_count": 25,
     "metadata": {},
     "output_type": "execute_result"
    }
   ],
   "source": [
    "df.loc[df['CustomerAge'] != 0]['CustomerAge'].min()"
   ]
  },
  {
   "cell_type": "code",
   "execution_count": 26,
   "id": "2b71a2d2",
   "metadata": {},
   "outputs": [
    {
     "data": {
      "text/plain": [
       "115"
      ]
     },
     "execution_count": 26,
     "metadata": {},
     "output_type": "execute_result"
    }
   ],
   "source": [
    "df['CustomerAge'].max()"
   ]
  },
  {
   "cell_type": "markdown",
   "id": "9c543c43",
   "metadata": {},
   "source": [
    "Considering that the oldest person ever in India was Lucy d'Abreu who lived 113 years and 197 days (ref: Wikipedia) it seems a good choice to drop all the ages over 100 years."
   ]
  },
  {
   "cell_type": "code",
   "execution_count": 27,
   "id": "37d04e2a",
   "metadata": {},
   "outputs": [],
   "source": [
    "df.drop(df[df.CustomerAge > 100].index, axis=0, inplace=True)"
   ]
  },
  {
   "cell_type": "code",
   "execution_count": 28,
   "id": "572be54e",
   "metadata": {},
   "outputs": [
    {
     "data": {
      "image/png": "[encoded data removed]",
      "text/plain": [
       "<Figure size 432x288 with 1 Axes>"
      ]
     },
     "metadata": {
      "needs_background": "light"
     },
     "output_type": "display_data"
    }
   ],
   "source": [
    "count = Counter(df['CustomerAge'])\n",
    "\n",
    "count.pop(0, None)\n",
    "\n",
    "plt.bar(count.keys(), count.values())\n",
    "\n",
    "plt.xlabel('Ages')\n",
    "\n",
    "plt.ylabel('Frequency')\n",
    "\n",
    "plt.show()"
   ]
  },
  {
   "cell_type": "markdown",
   "id": "2feb5365",
   "metadata": {},
   "source": [
    "In order to implement a Minhash function we decide to divide the CustomAge data in class of ages. Similar ages should led to similar interest. For this reason, looking at the distribution of ages and using our intuition, it seems to be a good choice to divide in class of 5 years from 16 to 101 (18 class):"
   ]
  },
  {
   "cell_type": "code",
   "execution_count": 29,
   "id": "1e0ba1d2",
   "metadata": {},
   "outputs": [],
   "source": [
    "bins = np.array(list(range(16, 102, 5))) #bins\n",
    "\n",
    "def age(age):\n",
    "    \n",
    "    class_age = np.digitize(age, bins, right=False)  #return the number of the bin\n",
    "    \n",
    "    age = 'age_' + str(class_age) #class name\n",
    "        \n",
    "    return age"
   ]
  },
  {
   "cell_type": "code",
   "execution_count": 30,
   "id": "74f78b09",
   "metadata": {},
   "outputs": [],
   "source": [
    "df['CustomerClassAge'] = df.CustomerAge.apply(lambda x: age(x)) #build the customerclass age column"
   ]
  },
  {
   "cell_type": "code",
   "execution_count": 31,
   "id": "e36a6408",
   "metadata": {},
   "outputs": [
    {
     "data": {
      "text/html": [
       "<div>\n",
       "<style scoped>\n",
       "    .dataframe tbody tr th:only-of-type {\n",
       "        vertical-align: middle;\n",
       "    }\n",
       "\n",
       "    .dataframe tbody tr th {\n",
       "        vertical-align: top;\n",
       "    }\n",
       "\n",
       "    .dataframe thead th {\n",
       "        text-align: right;\n",
       "    }\n",
       "</style>\n",
       "<table border=\"1\" class=\"dataframe\">\n",
       "  <thead>\n",
       "    <tr style=\"text-align: right;\">\n",
       "      <th></th>\n",
       "      <th>TransactionID</th>\n",
       "      <th>CustomerID</th>\n",
       "      <th>CustomerDOB</th>\n",
       "      <th>CustGender</th>\n",
       "      <th>CustAccountBalance</th>\n",
       "      <th>TransactionAmount (INR)</th>\n",
       "      <th>CustomerAge</th>\n",
       "      <th>CustomerClassAge</th>\n",
       "    </tr>\n",
       "  </thead>\n",
       "  <tbody>\n",
       "    <tr>\n",
       "      <th>0</th>\n",
       "      <td>T1</td>\n",
       "      <td>C5841053</td>\n",
       "      <td>1994-10-01</td>\n",
       "      <td>F</td>\n",
       "      <td>17819.05</td>\n",
       "      <td>25.0</td>\n",
       "      <td>22</td>\n",
       "      <td>age_2</td>\n",
       "    </tr>\n",
       "    <tr>\n",
       "      <th>1</th>\n",
       "      <td>T2</td>\n",
       "      <td>C2142763</td>\n",
       "      <td>1957-04-04</td>\n",
       "      <td>M</td>\n",
       "      <td>2270.69</td>\n",
       "      <td>27999.0</td>\n",
       "      <td>59</td>\n",
       "      <td>age_9</td>\n",
       "    </tr>\n",
       "    <tr>\n",
       "      <th>2</th>\n",
       "      <td>T3</td>\n",
       "      <td>C4417068</td>\n",
       "      <td>1996-11-26</td>\n",
       "      <td>F</td>\n",
       "      <td>17874.44</td>\n",
       "      <td>459.0</td>\n",
       "      <td>20</td>\n",
       "      <td>age_1</td>\n",
       "    </tr>\n",
       "    <tr>\n",
       "      <th>3</th>\n",
       "      <td>T4</td>\n",
       "      <td>C5342380</td>\n",
       "      <td>1973-09-14</td>\n",
       "      <td>F</td>\n",
       "      <td>866503.21</td>\n",
       "      <td>2060.0</td>\n",
       "      <td>43</td>\n",
       "      <td>age_6</td>\n",
       "    </tr>\n",
       "    <tr>\n",
       "      <th>4</th>\n",
       "      <td>T5</td>\n",
       "      <td>C9031234</td>\n",
       "      <td>1988-03-24</td>\n",
       "      <td>F</td>\n",
       "      <td>6714.43</td>\n",
       "      <td>1762.5</td>\n",
       "      <td>28</td>\n",
       "      <td>age_3</td>\n",
       "    </tr>\n",
       "    <tr>\n",
       "      <th>...</th>\n",
       "      <td>...</td>\n",
       "      <td>...</td>\n",
       "      <td>...</td>\n",
       "      <td>...</td>\n",
       "      <td>...</td>\n",
       "      <td>...</td>\n",
       "      <td>...</td>\n",
       "      <td>...</td>\n",
       "    </tr>\n",
       "    <tr>\n",
       "      <th>1048562</th>\n",
       "      <td>T1048563</td>\n",
       "      <td>C8020229</td>\n",
       "      <td>1990-08-04</td>\n",
       "      <td>M</td>\n",
       "      <td>7635.19</td>\n",
       "      <td>799.0</td>\n",
       "      <td>26</td>\n",
       "      <td>age_3</td>\n",
       "    </tr>\n",
       "    <tr>\n",
       "      <th>1048563</th>\n",
       "      <td>T1048564</td>\n",
       "      <td>C6459278</td>\n",
       "      <td>1992-02-20</td>\n",
       "      <td>M</td>\n",
       "      <td>27311.42</td>\n",
       "      <td>460.0</td>\n",
       "      <td>24</td>\n",
       "      <td>age_2</td>\n",
       "    </tr>\n",
       "    <tr>\n",
       "      <th>1048564</th>\n",
       "      <td>T1048565</td>\n",
       "      <td>C6412354</td>\n",
       "      <td>1989-05-18</td>\n",
       "      <td>M</td>\n",
       "      <td>221757.06</td>\n",
       "      <td>770.0</td>\n",
       "      <td>27</td>\n",
       "      <td>age_3</td>\n",
       "    </tr>\n",
       "    <tr>\n",
       "      <th>1048565</th>\n",
       "      <td>T1048566</td>\n",
       "      <td>C6420483</td>\n",
       "      <td>1978-08-30</td>\n",
       "      <td>M</td>\n",
       "      <td>10117.87</td>\n",
       "      <td>1000.0</td>\n",
       "      <td>38</td>\n",
       "      <td>age_5</td>\n",
       "    </tr>\n",
       "    <tr>\n",
       "      <th>1048566</th>\n",
       "      <td>T1048567</td>\n",
       "      <td>C8337524</td>\n",
       "      <td>1984-05-03</td>\n",
       "      <td>M</td>\n",
       "      <td>75734.42</td>\n",
       "      <td>1166.0</td>\n",
       "      <td>32</td>\n",
       "      <td>age_4</td>\n",
       "    </tr>\n",
       "  </tbody>\n",
       "</table>\n",
       "<p>1041144 rows × 8 columns</p>\n",
       "</div>"
      ],
      "text/plain": [
       "        TransactionID CustomerID CustomerDOB CustGender  CustAccountBalance  \\\n",
       "0                  T1   C5841053  1994-10-01          F            17819.05   \n",
       "1                  T2   C2142763  1957-04-04          M             2270.69   \n",
       "2                  T3   C4417068  1996-11-26          F            17874.44   \n",
       "3                  T4   C5342380  1973-09-14          F           866503.21   \n",
       "4                  T5   C9031234  1988-03-24          F             6714.43   \n",
       "...               ...        ...         ...        ...                 ...   \n",
       "1048562      T1048563   C8020229  1990-08-04          M             7635.19   \n",
       "1048563      T1048564   C6459278  1992-02-20          M            27311.42   \n",
       "1048564      T1048565   C6412354  1989-05-18          M           221757.06   \n",
       "1048565      T1048566   C6420483  1978-08-30          M            10117.87   \n",
       "1048566      T1048567   C8337524  1984-05-03          M            75734.42   \n",
       "\n",
       "         TransactionAmount (INR)  CustomerAge CustomerClassAge  \n",
       "0                           25.0           22            age_2  \n",
       "1                        27999.0           59            age_9  \n",
       "2                          459.0           20            age_1  \n",
       "3                         2060.0           43            age_6  \n",
       "4                         1762.5           28            age_3  \n",
       "...                          ...          ...              ...  \n",
       "1048562                    799.0           26            age_3  \n",
       "1048563                    460.0           24            age_2  \n",
       "1048564                    770.0           27            age_3  \n",
       "1048565                   1000.0           38            age_5  \n",
       "1048566                   1166.0           32            age_4  \n",
       "\n",
       "[1041144 rows x 8 columns]"
      ]
     },
     "execution_count": 31,
     "metadata": {},
     "output_type": "execute_result"
    }
   ],
   "source": [
    "df"
   ]
  },
  {
   "cell_type": "markdown",
   "id": "70df4f92",
   "metadata": {},
   "source": [
    "Customer with age 0 (YOB 1800) are classified as 'CustomerClassAge' 0: "
   ]
  },
  {
   "cell_type": "code",
   "execution_count": 32,
   "id": "4a86806f",
   "metadata": {},
   "outputs": [
    {
     "data": {
      "text/html": [
       "<div>\n",
       "<style scoped>\n",
       "    .dataframe tbody tr th:only-of-type {\n",
       "        vertical-align: middle;\n",
       "    }\n",
       "\n",
       "    .dataframe tbody tr th {\n",
       "        vertical-align: top;\n",
       "    }\n",
       "\n",
       "    .dataframe thead th {\n",
       "        text-align: right;\n",
       "    }\n",
       "</style>\n",
       "<table border=\"1\" class=\"dataframe\">\n",
       "  <thead>\n",
       "    <tr style=\"text-align: right;\">\n",
       "      <th></th>\n",
       "      <th>TransactionID</th>\n",
       "      <th>CustomerID</th>\n",
       "      <th>CustomerDOB</th>\n",
       "      <th>CustGender</th>\n",
       "      <th>CustAccountBalance</th>\n",
       "      <th>TransactionAmount (INR)</th>\n",
       "      <th>CustomerAge</th>\n",
       "      <th>CustomerClassAge</th>\n",
       "    </tr>\n",
       "  </thead>\n",
       "  <tbody>\n",
       "    <tr>\n",
       "      <th>16</th>\n",
       "      <td>T17</td>\n",
       "      <td>C1376215</td>\n",
       "      <td>1800-01-01</td>\n",
       "      <td>M</td>\n",
       "      <td>77495.15</td>\n",
       "      <td>1423.11</td>\n",
       "      <td>0</td>\n",
       "      <td>age_0</td>\n",
       "    </tr>\n",
       "    <tr>\n",
       "      <th>22</th>\n",
       "      <td>T23</td>\n",
       "      <td>C7018081</td>\n",
       "      <td>1800-01-01</td>\n",
       "      <td>M</td>\n",
       "      <td>143.07</td>\n",
       "      <td>110.00</td>\n",
       "      <td>0</td>\n",
       "      <td>age_0</td>\n",
       "    </tr>\n",
       "    <tr>\n",
       "      <th>28</th>\n",
       "      <td>T29</td>\n",
       "      <td>C7935438</td>\n",
       "      <td>1800-01-01</td>\n",
       "      <td>M</td>\n",
       "      <td>969436.12</td>\n",
       "      <td>36.90</td>\n",
       "      <td>0</td>\n",
       "      <td>age_0</td>\n",
       "    </tr>\n",
       "    <tr>\n",
       "      <th>35</th>\n",
       "      <td>T36</td>\n",
       "      <td>C1211387</td>\n",
       "      <td>1800-01-01</td>\n",
       "      <td>M</td>\n",
       "      <td>11791.25</td>\n",
       "      <td>1075.00</td>\n",
       "      <td>0</td>\n",
       "      <td>age_0</td>\n",
       "    </tr>\n",
       "    <tr>\n",
       "      <th>151</th>\n",
       "      <td>T152</td>\n",
       "      <td>C3334638</td>\n",
       "      <td>1800-01-01</td>\n",
       "      <td>M</td>\n",
       "      <td>700.00</td>\n",
       "      <td>1500.00</td>\n",
       "      <td>0</td>\n",
       "      <td>age_0</td>\n",
       "    </tr>\n",
       "    <tr>\n",
       "      <th>...</th>\n",
       "      <td>...</td>\n",
       "      <td>...</td>\n",
       "      <td>...</td>\n",
       "      <td>...</td>\n",
       "      <td>...</td>\n",
       "      <td>...</td>\n",
       "      <td>...</td>\n",
       "      <td>...</td>\n",
       "    </tr>\n",
       "    <tr>\n",
       "      <th>1048443</th>\n",
       "      <td>T1048444</td>\n",
       "      <td>C7261226</td>\n",
       "      <td>1800-01-01</td>\n",
       "      <td>M</td>\n",
       "      <td>1393.33</td>\n",
       "      <td>200.00</td>\n",
       "      <td>0</td>\n",
       "      <td>age_0</td>\n",
       "    </tr>\n",
       "    <tr>\n",
       "      <th>1048452</th>\n",
       "      <td>T1048453</td>\n",
       "      <td>C3813481</td>\n",
       "      <td>1800-01-01</td>\n",
       "      <td>M</td>\n",
       "      <td>984605.24</td>\n",
       "      <td>219.00</td>\n",
       "      <td>0</td>\n",
       "      <td>age_0</td>\n",
       "    </tr>\n",
       "    <tr>\n",
       "      <th>1048531</th>\n",
       "      <td>T1048532</td>\n",
       "      <td>C6937679</td>\n",
       "      <td>1800-01-01</td>\n",
       "      <td>M</td>\n",
       "      <td>50698.90</td>\n",
       "      <td>598.86</td>\n",
       "      <td>0</td>\n",
       "      <td>age_0</td>\n",
       "    </tr>\n",
       "    <tr>\n",
       "      <th>1048533</th>\n",
       "      <td>T1048534</td>\n",
       "      <td>C7431884</td>\n",
       "      <td>1800-01-01</td>\n",
       "      <td>M</td>\n",
       "      <td>53771.64</td>\n",
       "      <td>520.00</td>\n",
       "      <td>0</td>\n",
       "      <td>age_0</td>\n",
       "    </tr>\n",
       "    <tr>\n",
       "      <th>1048540</th>\n",
       "      <td>T1048541</td>\n",
       "      <td>C1528025</td>\n",
       "      <td>1800-01-01</td>\n",
       "      <td>M</td>\n",
       "      <td>230894.59</td>\n",
       "      <td>290.00</td>\n",
       "      <td>0</td>\n",
       "      <td>age_0</td>\n",
       "    </tr>\n",
       "  </tbody>\n",
       "</table>\n",
       "<p>56291 rows × 8 columns</p>\n",
       "</div>"
      ],
      "text/plain": [
       "        TransactionID CustomerID CustomerDOB CustGender  CustAccountBalance  \\\n",
       "16                T17   C1376215  1800-01-01          M            77495.15   \n",
       "22                T23   C7018081  1800-01-01          M              143.07   \n",
       "28                T29   C7935438  1800-01-01          M           969436.12   \n",
       "35                T36   C1211387  1800-01-01          M            11791.25   \n",
       "151              T152   C3334638  1800-01-01          M              700.00   \n",
       "...               ...        ...         ...        ...                 ...   \n",
       "1048443      T1048444   C7261226  1800-01-01          M             1393.33   \n",
       "1048452      T1048453   C3813481  1800-01-01          M           984605.24   \n",
       "1048531      T1048532   C6937679  1800-01-01          M            50698.90   \n",
       "1048533      T1048534   C7431884  1800-01-01          M            53771.64   \n",
       "1048540      T1048541   C1528025  1800-01-01          M           230894.59   \n",
       "\n",
       "         TransactionAmount (INR)  CustomerAge CustomerClassAge  \n",
       "16                       1423.11            0            age_0  \n",
       "22                        110.00            0            age_0  \n",
       "28                         36.90            0            age_0  \n",
       "35                       1075.00            0            age_0  \n",
       "151                      1500.00            0            age_0  \n",
       "...                          ...          ...              ...  \n",
       "1048443                   200.00            0            age_0  \n",
       "1048452                   219.00            0            age_0  \n",
       "1048531                   598.86            0            age_0  \n",
       "1048533                   520.00            0            age_0  \n",
       "1048540                   290.00            0            age_0  \n",
       "\n",
       "[56291 rows x 8 columns]"
      ]
     },
     "execution_count": 32,
     "metadata": {},
     "output_type": "execute_result"
    }
   ],
   "source": [
    "df.loc[df['CustomerAge'] == 0]"
   ]
  },
  {
   "cell_type": "markdown",
   "id": "de9ae4af",
   "metadata": {},
   "source": [
    "Age_0 will not be insterted into shingles, such that the one hot vector referred to a missing value of age will have only zeros and to not group as similar people with year of birthday 1800."
   ]
  },
  {
   "cell_type": "markdown",
   "id": "8f771871",
   "metadata": {},
   "source": [
    "# 1.1.3 Different people with the same CustomerID"
   ]
  },
  {
   "cell_type": "markdown",
   "id": "8f740968",
   "metadata": {},
   "source": [
    "We decided to check the data related to transactions referred to the same CustomerID:"
   ]
  },
  {
   "cell_type": "code",
   "execution_count": 33,
   "id": "f936f205",
   "metadata": {},
   "outputs": [
    {
     "data": {
      "image/png": "[encoded data removed]",
      "text/plain": [
       "<Figure size 432x288 with 1 Axes>"
      ]
     },
     "metadata": {
      "needs_background": "light"
     },
     "output_type": "display_data"
    }
   ],
   "source": [
    "df.groupby('CustomerID').TransactionID.count().plot.hist()\n",
    "\n",
    "plt.xlabel('Number of transaction per CustomerID')\n",
    "\n",
    "plt.ylabel('Frequency')\n",
    "\n",
    "plt.show()"
   ]
  },
  {
   "cell_type": "code",
   "execution_count": 34,
   "id": "ee675b9d",
   "metadata": {},
   "outputs": [
    {
     "data": {
      "text/html": [
       "<div>\n",
       "<style scoped>\n",
       "    .dataframe tbody tr th:only-of-type {\n",
       "        vertical-align: middle;\n",
       "    }\n",
       "\n",
       "    .dataframe tbody tr th {\n",
       "        vertical-align: top;\n",
       "    }\n",
       "\n",
       "    .dataframe thead th {\n",
       "        text-align: right;\n",
       "    }\n",
       "</style>\n",
       "<table border=\"1\" class=\"dataframe\">\n",
       "  <thead>\n",
       "    <tr style=\"text-align: right;\">\n",
       "      <th></th>\n",
       "      <th>TransactionID</th>\n",
       "      <th>CustomerID</th>\n",
       "      <th>CustomerDOB</th>\n",
       "      <th>CustGender</th>\n",
       "      <th>CustAccountBalance</th>\n",
       "      <th>TransactionAmount (INR)</th>\n",
       "      <th>CustomerAge</th>\n",
       "      <th>CustomerClassAge</th>\n",
       "    </tr>\n",
       "  </thead>\n",
       "  <tbody>\n",
       "    <tr>\n",
       "      <th>33670</th>\n",
       "      <td>T33671</td>\n",
       "      <td>C1010011</td>\n",
       "      <td>1992-08-19</td>\n",
       "      <td>F</td>\n",
       "      <td>32500.73</td>\n",
       "      <td>4750.00</td>\n",
       "      <td>24</td>\n",
       "      <td>age_2</td>\n",
       "    </tr>\n",
       "    <tr>\n",
       "      <th>173508</th>\n",
       "      <td>T173509</td>\n",
       "      <td>C1010011</td>\n",
       "      <td>1983-05-08</td>\n",
       "      <td>M</td>\n",
       "      <td>120180.54</td>\n",
       "      <td>356.00</td>\n",
       "      <td>33</td>\n",
       "      <td>age_4</td>\n",
       "    </tr>\n",
       "    <tr>\n",
       "      <th>251647</th>\n",
       "      <td>T251648</td>\n",
       "      <td>C1010014</td>\n",
       "      <td>1984-08-19</td>\n",
       "      <td>M</td>\n",
       "      <td>161848.76</td>\n",
       "      <td>250.00</td>\n",
       "      <td>32</td>\n",
       "      <td>age_4</td>\n",
       "    </tr>\n",
       "    <tr>\n",
       "      <th>89543</th>\n",
       "      <td>T89544</td>\n",
       "      <td>C1010014</td>\n",
       "      <td>1992-04-06</td>\n",
       "      <td>F</td>\n",
       "      <td>38377.14</td>\n",
       "      <td>1205.00</td>\n",
       "      <td>24</td>\n",
       "      <td>age_2</td>\n",
       "    </tr>\n",
       "    <tr>\n",
       "      <th>50880</th>\n",
       "      <td>T50881</td>\n",
       "      <td>C1010031</td>\n",
       "      <td>1984-07-21</td>\n",
       "      <td>M</td>\n",
       "      <td>1754.10</td>\n",
       "      <td>404.00</td>\n",
       "      <td>32</td>\n",
       "      <td>age_4</td>\n",
       "    </tr>\n",
       "    <tr>\n",
       "      <th>...</th>\n",
       "      <td>...</td>\n",
       "      <td>...</td>\n",
       "      <td>...</td>\n",
       "      <td>...</td>\n",
       "      <td>...</td>\n",
       "      <td>...</td>\n",
       "      <td>...</td>\n",
       "      <td>...</td>\n",
       "    </tr>\n",
       "    <tr>\n",
       "      <th>407803</th>\n",
       "      <td>T407804</td>\n",
       "      <td>C9094224</td>\n",
       "      <td>1980-06-24</td>\n",
       "      <td>F</td>\n",
       "      <td>10579.38</td>\n",
       "      <td>2458.00</td>\n",
       "      <td>36</td>\n",
       "      <td>age_5</td>\n",
       "    </tr>\n",
       "    <tr>\n",
       "      <th>673478</th>\n",
       "      <td>T673479</td>\n",
       "      <td>C9095886</td>\n",
       "      <td>1992-06-04</td>\n",
       "      <td>M</td>\n",
       "      <td>284.48</td>\n",
       "      <td>123.89</td>\n",
       "      <td>24</td>\n",
       "      <td>age_2</td>\n",
       "    </tr>\n",
       "    <tr>\n",
       "      <th>500536</th>\n",
       "      <td>T500537</td>\n",
       "      <td>C9095886</td>\n",
       "      <td>1991-06-19</td>\n",
       "      <td>F</td>\n",
       "      <td>27313.55</td>\n",
       "      <td>289.37</td>\n",
       "      <td>25</td>\n",
       "      <td>age_2</td>\n",
       "    </tr>\n",
       "    <tr>\n",
       "      <th>545604</th>\n",
       "      <td>T545605</td>\n",
       "      <td>C9096252</td>\n",
       "      <td>1991-04-03</td>\n",
       "      <td>M</td>\n",
       "      <td>9424.29</td>\n",
       "      <td>50.00</td>\n",
       "      <td>25</td>\n",
       "      <td>age_2</td>\n",
       "    </tr>\n",
       "    <tr>\n",
       "      <th>276357</th>\n",
       "      <td>T276358</td>\n",
       "      <td>C9096252</td>\n",
       "      <td>1997-10-07</td>\n",
       "      <td>M</td>\n",
       "      <td>9631.05</td>\n",
       "      <td>946.00</td>\n",
       "      <td>19</td>\n",
       "      <td>age_1</td>\n",
       "    </tr>\n",
       "  </tbody>\n",
       "</table>\n",
       "<p>303959 rows × 8 columns</p>\n",
       "</div>"
      ],
      "text/plain": [
       "       TransactionID CustomerID CustomerDOB CustGender  CustAccountBalance  \\\n",
       "33670         T33671   C1010011  1992-08-19          F            32500.73   \n",
       "173508       T173509   C1010011  1983-05-08          M           120180.54   \n",
       "251647       T251648   C1010014  1984-08-19          M           161848.76   \n",
       "89543         T89544   C1010014  1992-04-06          F            38377.14   \n",
       "50880         T50881   C1010031  1984-07-21          M             1754.10   \n",
       "...              ...        ...         ...        ...                 ...   \n",
       "407803       T407804   C9094224  1980-06-24          F            10579.38   \n",
       "673478       T673479   C9095886  1992-06-04          M              284.48   \n",
       "500536       T500537   C9095886  1991-06-19          F            27313.55   \n",
       "545604       T545605   C9096252  1991-04-03          M             9424.29   \n",
       "276357       T276358   C9096252  1997-10-07          M             9631.05   \n",
       "\n",
       "        TransactionAmount (INR)  CustomerAge CustomerClassAge  \n",
       "33670                   4750.00           24            age_2  \n",
       "173508                   356.00           33            age_4  \n",
       "251647                   250.00           32            age_4  \n",
       "89543                   1205.00           24            age_2  \n",
       "50880                    404.00           32            age_4  \n",
       "...                         ...          ...              ...  \n",
       "407803                  2458.00           36            age_5  \n",
       "673478                   123.89           24            age_2  \n",
       "500536                   289.37           25            age_2  \n",
       "545604                    50.00           25            age_2  \n",
       "276357                   946.00           19            age_1  \n",
       "\n",
       "[303959 rows x 8 columns]"
      ]
     },
     "execution_count": 34,
     "metadata": {},
     "output_type": "execute_result"
    }
   ],
   "source": [
    "a = df.groupby('CustomerID').TransactionID.count()  #series with number of transaction per CustomerID\n",
    "\n",
    "df[df.CustomerID.isin(a[a > 1].index)].sort_values(by = \"CustomerID\") #same customer with more than one transaction"
   ]
  },
  {
   "cell_type": "markdown",
   "id": "cd9564d3",
   "metadata": {},
   "source": [
    "We can see that transactions addressed to the same CustomerID are instead related to different people but labeled with the same username. We can say that with high probability these kind of CustomerID are referred to a family or in general groups of people. We decided to threat them as different people defining a new ID based on original Customer ID, gender and ID: "
   ]
  },
  {
   "cell_type": "code",
   "execution_count": 35,
   "id": "d2d511b4",
   "metadata": {},
   "outputs": [],
   "source": [
    "df['New_ID'] = df['CustomerID'] + df['CustGender'] + df['CustomerAge'].astype(str) #string concatenation"
   ]
  },
  {
   "cell_type": "code",
   "execution_count": 36,
   "id": "59f3cf6f",
   "metadata": {},
   "outputs": [
    {
     "data": {
      "text/html": [
       "<div>\n",
       "<style scoped>\n",
       "    .dataframe tbody tr th:only-of-type {\n",
       "        vertical-align: middle;\n",
       "    }\n",
       "\n",
       "    .dataframe tbody tr th {\n",
       "        vertical-align: top;\n",
       "    }\n",
       "\n",
       "    .dataframe thead th {\n",
       "        text-align: right;\n",
       "    }\n",
       "</style>\n",
       "<table border=\"1\" class=\"dataframe\">\n",
       "  <thead>\n",
       "    <tr style=\"text-align: right;\">\n",
       "      <th></th>\n",
       "      <th>New_ID</th>\n",
       "      <th>CustomerID</th>\n",
       "      <th>CustGender</th>\n",
       "      <th>CustomerAge</th>\n",
       "    </tr>\n",
       "  </thead>\n",
       "  <tbody>\n",
       "    <tr>\n",
       "      <th>0</th>\n",
       "      <td>C5841053F22</td>\n",
       "      <td>C5841053</td>\n",
       "      <td>F</td>\n",
       "      <td>22</td>\n",
       "    </tr>\n",
       "    <tr>\n",
       "      <th>1</th>\n",
       "      <td>C2142763M59</td>\n",
       "      <td>C2142763</td>\n",
       "      <td>M</td>\n",
       "      <td>59</td>\n",
       "    </tr>\n",
       "    <tr>\n",
       "      <th>2</th>\n",
       "      <td>C4417068F20</td>\n",
       "      <td>C4417068</td>\n",
       "      <td>F</td>\n",
       "      <td>20</td>\n",
       "    </tr>\n",
       "    <tr>\n",
       "      <th>3</th>\n",
       "      <td>C5342380F43</td>\n",
       "      <td>C5342380</td>\n",
       "      <td>F</td>\n",
       "      <td>43</td>\n",
       "    </tr>\n",
       "    <tr>\n",
       "      <th>4</th>\n",
       "      <td>C9031234F28</td>\n",
       "      <td>C9031234</td>\n",
       "      <td>F</td>\n",
       "      <td>28</td>\n",
       "    </tr>\n",
       "    <tr>\n",
       "      <th>...</th>\n",
       "      <td>...</td>\n",
       "      <td>...</td>\n",
       "      <td>...</td>\n",
       "      <td>...</td>\n",
       "    </tr>\n",
       "    <tr>\n",
       "      <th>1048562</th>\n",
       "      <td>C8020229M26</td>\n",
       "      <td>C8020229</td>\n",
       "      <td>M</td>\n",
       "      <td>26</td>\n",
       "    </tr>\n",
       "    <tr>\n",
       "      <th>1048563</th>\n",
       "      <td>C6459278M24</td>\n",
       "      <td>C6459278</td>\n",
       "      <td>M</td>\n",
       "      <td>24</td>\n",
       "    </tr>\n",
       "    <tr>\n",
       "      <th>1048564</th>\n",
       "      <td>C6412354M27</td>\n",
       "      <td>C6412354</td>\n",
       "      <td>M</td>\n",
       "      <td>27</td>\n",
       "    </tr>\n",
       "    <tr>\n",
       "      <th>1048565</th>\n",
       "      <td>C6420483M38</td>\n",
       "      <td>C6420483</td>\n",
       "      <td>M</td>\n",
       "      <td>38</td>\n",
       "    </tr>\n",
       "    <tr>\n",
       "      <th>1048566</th>\n",
       "      <td>C8337524M32</td>\n",
       "      <td>C8337524</td>\n",
       "      <td>M</td>\n",
       "      <td>32</td>\n",
       "    </tr>\n",
       "  </tbody>\n",
       "</table>\n",
       "<p>1041144 rows × 4 columns</p>\n",
       "</div>"
      ],
      "text/plain": [
       "              New_ID CustomerID CustGender  CustomerAge\n",
       "0        C5841053F22   C5841053          F           22\n",
       "1        C2142763M59   C2142763          M           59\n",
       "2        C4417068F20   C4417068          F           20\n",
       "3        C5342380F43   C5342380          F           43\n",
       "4        C9031234F28   C9031234          F           28\n",
       "...              ...        ...        ...          ...\n",
       "1048562  C8020229M26   C8020229          M           26\n",
       "1048563  C6459278M24   C6459278          M           24\n",
       "1048564  C6412354M27   C6412354          M           27\n",
       "1048565  C6420483M38   C6420483          M           38\n",
       "1048566  C8337524M32   C8337524          M           32\n",
       "\n",
       "[1041144 rows x 4 columns]"
      ]
     },
     "execution_count": 36,
     "metadata": {},
     "output_type": "execute_result"
    }
   ],
   "source": [
    "df[['New_ID', 'CustomerID', 'CustGender', 'CustomerAge']]"
   ]
  },
  {
   "cell_type": "markdown",
   "id": "54c77c0b",
   "metadata": {},
   "source": [
    "Now people labelled with same CustomerID but different ages and gender will be labelled with different CustomerID:"
   ]
  },
  {
   "cell_type": "code",
   "execution_count": 37,
   "id": "1055f6b3",
   "metadata": {},
   "outputs": [
    {
     "data": {
      "text/html": [
       "<div>\n",
       "<style scoped>\n",
       "    .dataframe tbody tr th:only-of-type {\n",
       "        vertical-align: middle;\n",
       "    }\n",
       "\n",
       "    .dataframe tbody tr th {\n",
       "        vertical-align: top;\n",
       "    }\n",
       "\n",
       "    .dataframe thead th {\n",
       "        text-align: right;\n",
       "    }\n",
       "</style>\n",
       "<table border=\"1\" class=\"dataframe\">\n",
       "  <thead>\n",
       "    <tr style=\"text-align: right;\">\n",
       "      <th></th>\n",
       "      <th>CustomerID</th>\n",
       "      <th>New_ID</th>\n",
       "    </tr>\n",
       "  </thead>\n",
       "  <tbody>\n",
       "    <tr>\n",
       "      <th>33670</th>\n",
       "      <td>C1010011</td>\n",
       "      <td>C1010011F24</td>\n",
       "    </tr>\n",
       "    <tr>\n",
       "      <th>173508</th>\n",
       "      <td>C1010011</td>\n",
       "      <td>C1010011M33</td>\n",
       "    </tr>\n",
       "    <tr>\n",
       "      <th>251647</th>\n",
       "      <td>C1010014</td>\n",
       "      <td>C1010014M32</td>\n",
       "    </tr>\n",
       "    <tr>\n",
       "      <th>89543</th>\n",
       "      <td>C1010014</td>\n",
       "      <td>C1010014F24</td>\n",
       "    </tr>\n",
       "    <tr>\n",
       "      <th>50880</th>\n",
       "      <td>C1010031</td>\n",
       "      <td>C1010031M32</td>\n",
       "    </tr>\n",
       "    <tr>\n",
       "      <th>...</th>\n",
       "      <td>...</td>\n",
       "      <td>...</td>\n",
       "    </tr>\n",
       "    <tr>\n",
       "      <th>407803</th>\n",
       "      <td>C9094224</td>\n",
       "      <td>C9094224F36</td>\n",
       "    </tr>\n",
       "    <tr>\n",
       "      <th>673478</th>\n",
       "      <td>C9095886</td>\n",
       "      <td>C9095886M24</td>\n",
       "    </tr>\n",
       "    <tr>\n",
       "      <th>500536</th>\n",
       "      <td>C9095886</td>\n",
       "      <td>C9095886F25</td>\n",
       "    </tr>\n",
       "    <tr>\n",
       "      <th>545604</th>\n",
       "      <td>C9096252</td>\n",
       "      <td>C9096252M25</td>\n",
       "    </tr>\n",
       "    <tr>\n",
       "      <th>276357</th>\n",
       "      <td>C9096252</td>\n",
       "      <td>C9096252M19</td>\n",
       "    </tr>\n",
       "  </tbody>\n",
       "</table>\n",
       "<p>303959 rows × 2 columns</p>\n",
       "</div>"
      ],
      "text/plain": [
       "       CustomerID       New_ID\n",
       "33670    C1010011  C1010011F24\n",
       "173508   C1010011  C1010011M33\n",
       "251647   C1010014  C1010014M32\n",
       "89543    C1010014  C1010014F24\n",
       "50880    C1010031  C1010031M32\n",
       "...           ...          ...\n",
       "407803   C9094224  C9094224F36\n",
       "673478   C9095886  C9095886M24\n",
       "500536   C9095886  C9095886F25\n",
       "545604   C9096252  C9096252M25\n",
       "276357   C9096252  C9096252M19\n",
       "\n",
       "[303959 rows x 2 columns]"
      ]
     },
     "execution_count": 37,
     "metadata": {},
     "output_type": "execute_result"
    }
   ],
   "source": [
    "a = df.groupby('CustomerID').TransactionID.count()  #series with number of transaction per CustomerID\n",
    "\n",
    "df[df.CustomerID.isin(a[a>1].index)][['CustomerID', 'New_ID']].sort_values(by=\"CustomerID\") #same customer with more than one transaction"
   ]
  },
  {
   "cell_type": "markdown",
   "id": "8125b3e6",
   "metadata": {},
   "source": [
    "We can see that the max number of transaction per person decreased:"
   ]
  },
  {
   "cell_type": "code",
   "execution_count": 38,
   "id": "7f74e785",
   "metadata": {},
   "outputs": [
    {
     "data": {
      "text/plain": [
       "3"
      ]
     },
     "execution_count": 38,
     "metadata": {},
     "output_type": "execute_result"
    }
   ],
   "source": [
    "df.groupby('New_ID').TransactionID.count().max()"
   ]
  },
  {
   "cell_type": "markdown",
   "id": "297afaeb",
   "metadata": {},
   "source": [
    "We decided to merge togheter different transactions referred to the same ID (New_ID) taking the mean of transaction amount and of account balance. This can be done using aggregate from groupby."
   ]
  },
  {
   "cell_type": "code",
   "execution_count": 39,
   "id": "a54aa21e",
   "metadata": {},
   "outputs": [
    {
     "data": {
      "text/html": [
       "<div>\n",
       "<style scoped>\n",
       "    .dataframe tbody tr th:only-of-type {\n",
       "        vertical-align: middle;\n",
       "    }\n",
       "\n",
       "    .dataframe tbody tr th {\n",
       "        vertical-align: top;\n",
       "    }\n",
       "\n",
       "    .dataframe thead th {\n",
       "        text-align: right;\n",
       "    }\n",
       "</style>\n",
       "<table border=\"1\" class=\"dataframe\">\n",
       "  <thead>\n",
       "    <tr style=\"text-align: right;\">\n",
       "      <th></th>\n",
       "      <th>New_ID</th>\n",
       "      <th>TransactionAmount (INR)</th>\n",
       "      <th>CustAccountBalance</th>\n",
       "    </tr>\n",
       "  </thead>\n",
       "  <tbody>\n",
       "    <tr>\n",
       "      <th>214918</th>\n",
       "      <td>C1010117M29</td>\n",
       "      <td>840.0</td>\n",
       "      <td>11787.98</td>\n",
       "    </tr>\n",
       "    <tr>\n",
       "      <th>1027304</th>\n",
       "      <td>C1010117M29</td>\n",
       "      <td>275.0</td>\n",
       "      <td>7634.23</td>\n",
       "    </tr>\n",
       "  </tbody>\n",
       "</table>\n",
       "</div>"
      ],
      "text/plain": [
       "              New_ID  TransactionAmount (INR)  CustAccountBalance\n",
       "214918   C1010117M29                    840.0            11787.98\n",
       "1027304  C1010117M29                    275.0             7634.23"
      ]
     },
     "execution_count": 39,
     "metadata": {},
     "output_type": "execute_result"
    }
   ],
   "source": [
    "df[df['New_ID'] == 'C1010117M29'][['New_ID', 'TransactionAmount (INR)', 'CustAccountBalance']] #example"
   ]
  },
  {
   "cell_type": "code",
   "execution_count": 40,
   "id": "9abd13f9",
   "metadata": {},
   "outputs": [],
   "source": [
    "df = df.groupby('New_ID').agg({'New_ID': 'first', 'CustGender': 'first', 'CustomerAge' : 'first', 'CustomerClassAge': 'first', 'TransactionAmount (INR)': 'mean', 'CustAccountBalance': 'mean'})"
   ]
  },
  {
   "cell_type": "code",
   "execution_count": 41,
   "id": "e8f31d5d",
   "metadata": {},
   "outputs": [
    {
     "data": {
      "text/html": [
       "<div>\n",
       "<style scoped>\n",
       "    .dataframe tbody tr th:only-of-type {\n",
       "        vertical-align: middle;\n",
       "    }\n",
       "\n",
       "    .dataframe tbody tr th {\n",
       "        vertical-align: top;\n",
       "    }\n",
       "\n",
       "    .dataframe thead th {\n",
       "        text-align: right;\n",
       "    }\n",
       "</style>\n",
       "<table border=\"1\" class=\"dataframe\">\n",
       "  <thead>\n",
       "    <tr style=\"text-align: right;\">\n",
       "      <th></th>\n",
       "      <th>New_ID</th>\n",
       "      <th>TransactionAmount (INR)</th>\n",
       "      <th>CustAccountBalance</th>\n",
       "    </tr>\n",
       "    <tr>\n",
       "      <th>New_ID</th>\n",
       "      <th></th>\n",
       "      <th></th>\n",
       "      <th></th>\n",
       "    </tr>\n",
       "  </thead>\n",
       "  <tbody>\n",
       "    <tr>\n",
       "      <th>C1010117M29</th>\n",
       "      <td>C1010117M29</td>\n",
       "      <td>557.5</td>\n",
       "      <td>9711.105</td>\n",
       "    </tr>\n",
       "  </tbody>\n",
       "</table>\n",
       "</div>"
      ],
      "text/plain": [
       "                  New_ID  TransactionAmount (INR)  CustAccountBalance\n",
       "New_ID                                                               \n",
       "C1010117M29  C1010117M29                    557.5            9711.105"
      ]
     },
     "execution_count": 41,
     "metadata": {},
     "output_type": "execute_result"
    }
   ],
   "source": [
    "df[df['New_ID'] == 'C1010117M29'][['New_ID', 'TransactionAmount (INR)', 'CustAccountBalance']] #example"
   ]
  },
  {
   "cell_type": "code",
   "execution_count": 42,
   "id": "aa54cef4",
   "metadata": {},
   "outputs": [],
   "source": [
    "df = df.reset_index(drop = True) #reset the indexes "
   ]
  },
  {
   "cell_type": "code",
   "execution_count": 43,
   "id": "a03b72ee",
   "metadata": {},
   "outputs": [
    {
     "data": {
      "text/html": [
       "<div>\n",
       "<style scoped>\n",
       "    .dataframe tbody tr th:only-of-type {\n",
       "        vertical-align: middle;\n",
       "    }\n",
       "\n",
       "    .dataframe tbody tr th {\n",
       "        vertical-align: top;\n",
       "    }\n",
       "\n",
       "    .dataframe thead th {\n",
       "        text-align: right;\n",
       "    }\n",
       "</style>\n",
       "<table border=\"1\" class=\"dataframe\">\n",
       "  <thead>\n",
       "    <tr style=\"text-align: right;\">\n",
       "      <th></th>\n",
       "      <th>New_ID</th>\n",
       "      <th>CustGender</th>\n",
       "      <th>CustomerAge</th>\n",
       "      <th>CustomerClassAge</th>\n",
       "      <th>TransactionAmount (INR)</th>\n",
       "      <th>CustAccountBalance</th>\n",
       "    </tr>\n",
       "  </thead>\n",
       "  <tbody>\n",
       "    <tr>\n",
       "      <th>0</th>\n",
       "      <td>C1010011F24</td>\n",
       "      <td>F</td>\n",
       "      <td>24</td>\n",
       "      <td>age_2</td>\n",
       "      <td>4750.0</td>\n",
       "      <td>32500.73</td>\n",
       "    </tr>\n",
       "    <tr>\n",
       "      <th>1</th>\n",
       "      <td>C1010011M33</td>\n",
       "      <td>M</td>\n",
       "      <td>33</td>\n",
       "      <td>age_4</td>\n",
       "      <td>356.0</td>\n",
       "      <td>120180.54</td>\n",
       "    </tr>\n",
       "    <tr>\n",
       "      <th>2</th>\n",
       "      <td>C1010012M22</td>\n",
       "      <td>M</td>\n",
       "      <td>22</td>\n",
       "      <td>age_2</td>\n",
       "      <td>1499.0</td>\n",
       "      <td>24204.49</td>\n",
       "    </tr>\n",
       "    <tr>\n",
       "      <th>3</th>\n",
       "      <td>C1010014F24</td>\n",
       "      <td>F</td>\n",
       "      <td>24</td>\n",
       "      <td>age_2</td>\n",
       "      <td>1205.0</td>\n",
       "      <td>38377.14</td>\n",
       "    </tr>\n",
       "    <tr>\n",
       "      <th>4</th>\n",
       "      <td>C1010014M32</td>\n",
       "      <td>M</td>\n",
       "      <td>32</td>\n",
       "      <td>age_4</td>\n",
       "      <td>250.0</td>\n",
       "      <td>161848.76</td>\n",
       "    </tr>\n",
       "    <tr>\n",
       "      <th>...</th>\n",
       "      <td>...</td>\n",
       "      <td>...</td>\n",
       "      <td>...</td>\n",
       "      <td>...</td>\n",
       "      <td>...</td>\n",
       "      <td>...</td>\n",
       "    </tr>\n",
       "    <tr>\n",
       "      <th>1034947</th>\n",
       "      <td>C9099836M26</td>\n",
       "      <td>M</td>\n",
       "      <td>26</td>\n",
       "      <td>age_3</td>\n",
       "      <td>691.0</td>\n",
       "      <td>133067.23</td>\n",
       "    </tr>\n",
       "    <tr>\n",
       "      <th>1034948</th>\n",
       "      <td>C9099877M20</td>\n",
       "      <td>M</td>\n",
       "      <td>20</td>\n",
       "      <td>age_1</td>\n",
       "      <td>222.0</td>\n",
       "      <td>96063.46</td>\n",
       "    </tr>\n",
       "    <tr>\n",
       "      <th>1034949</th>\n",
       "      <td>C9099919M23</td>\n",
       "      <td>M</td>\n",
       "      <td>23</td>\n",
       "      <td>age_2</td>\n",
       "      <td>126.0</td>\n",
       "      <td>5559.75</td>\n",
       "    </tr>\n",
       "    <tr>\n",
       "      <th>1034950</th>\n",
       "      <td>C9099941M21</td>\n",
       "      <td>M</td>\n",
       "      <td>21</td>\n",
       "      <td>age_2</td>\n",
       "      <td>50.0</td>\n",
       "      <td>35295.92</td>\n",
       "    </tr>\n",
       "    <tr>\n",
       "      <th>1034951</th>\n",
       "      <td>C9099956M34</td>\n",
       "      <td>M</td>\n",
       "      <td>34</td>\n",
       "      <td>age_4</td>\n",
       "      <td>855.0</td>\n",
       "      <td>6968.93</td>\n",
       "    </tr>\n",
       "  </tbody>\n",
       "</table>\n",
       "<p>1034952 rows × 6 columns</p>\n",
       "</div>"
      ],
      "text/plain": [
       "              New_ID CustGender  CustomerAge CustomerClassAge  \\\n",
       "0        C1010011F24          F           24            age_2   \n",
       "1        C1010011M33          M           33            age_4   \n",
       "2        C1010012M22          M           22            age_2   \n",
       "3        C1010014F24          F           24            age_2   \n",
       "4        C1010014M32          M           32            age_4   \n",
       "...              ...        ...          ...              ...   \n",
       "1034947  C9099836M26          M           26            age_3   \n",
       "1034948  C9099877M20          M           20            age_1   \n",
       "1034949  C9099919M23          M           23            age_2   \n",
       "1034950  C9099941M21          M           21            age_2   \n",
       "1034951  C9099956M34          M           34            age_4   \n",
       "\n",
       "         TransactionAmount (INR)  CustAccountBalance  \n",
       "0                         4750.0            32500.73  \n",
       "1                          356.0           120180.54  \n",
       "2                         1499.0            24204.49  \n",
       "3                         1205.0            38377.14  \n",
       "4                          250.0           161848.76  \n",
       "...                          ...                 ...  \n",
       "1034947                    691.0           133067.23  \n",
       "1034948                    222.0            96063.46  \n",
       "1034949                    126.0             5559.75  \n",
       "1034950                     50.0            35295.92  \n",
       "1034951                    855.0             6968.93  \n",
       "\n",
       "[1034952 rows x 6 columns]"
      ]
     },
     "execution_count": 43,
     "metadata": {},
     "output_type": "execute_result"
    }
   ],
   "source": [
    "df\n"
   ]
  },
  {
   "cell_type": "code",
   "execution_count": 44,
   "id": "b7e0c861",
   "metadata": {},
   "outputs": [
    {
     "data": {
      "text/plain": [
       "False"
      ]
     },
     "execution_count": 44,
     "metadata": {},
     "output_type": "execute_result"
    }
   ],
   "source": [
    "df.duplicated(subset = ['New_ID']).any() #chechink for duplicates to be sure that all worked properly"
   ]
  },
  {
   "cell_type": "markdown",
   "id": "7ea7c79c",
   "metadata": {},
   "source": [
    "# 1.1.5 Customer Account Balance"
   ]
  },
  {
   "cell_type": "markdown",
   "id": "6f1e5ce5",
   "metadata": {},
   "source": [
    "First of all we check the type:"
   ]
  },
  {
   "cell_type": "code",
   "execution_count": 45,
   "id": "61529986",
   "metadata": {},
   "outputs": [
    {
     "data": {
      "text/plain": [
       "numpy.float64"
      ]
     },
     "execution_count": 45,
     "metadata": {},
     "output_type": "execute_result"
    }
   ],
   "source": [
    "type(df['CustAccountBalance'][0])"
   ]
  },
  {
   "cell_type": "markdown",
   "id": "17f8efa5",
   "metadata": {},
   "source": [
    "Let's have a look to the distribution of the bank amount in function of ages:"
   ]
  },
  {
   "cell_type": "code",
   "execution_count": 46,
   "id": "933ae7db",
   "metadata": {},
   "outputs": [
    {
     "data": {
      "image/png": "[encoded data removed]",
      "text/plain": [
       "<Figure size 432x288 with 1 Axes>"
      ]
     },
     "metadata": {
      "needs_background": "light"
     },
     "output_type": "display_data"
    }
   ],
   "source": [
    "df[['CustAccountBalance', 'CustomerAge']].plot.scatter(x = 'CustomerAge', y = 'CustAccountBalance', c = 'red')\n",
    "\n",
    "\n",
    "plt.show()"
   ]
  },
  {
   "cell_type": "markdown",
   "id": "654e0deb",
   "metadata": {},
   "source": [
    "We decided to binning the CustAccountBalance through the qcut function: \"The pandas documentation describes qcut as a “Quantile-based discretization function.” This basically means that qcut tries to divide up the underlying data into equal sized bins. The function defines the bins using percentiles based on the distribution of the data, not the actual numeric edges of the bins. \""
   ]
  },
  {
   "cell_type": "code",
   "execution_count": 47,
   "id": "e084ce47",
   "metadata": {},
   "outputs": [
    {
     "data": {
      "text/plain": [
       "count    1.034952e+06\n",
       "mean     1.150577e+05\n",
       "std      8.427398e+05\n",
       "min      0.000000e+00\n",
       "25%      4.754290e+03\n",
       "50%      1.682766e+04\n",
       "75%      5.757180e+04\n",
       "max      1.150355e+08\n",
       "Name: CustAccountBalance, dtype: float64"
      ]
     },
     "execution_count": 47,
     "metadata": {},
     "output_type": "execute_result"
    }
   ],
   "source": [
    "df['CustAccountBalance'].describe()"
   ]
  },
  {
   "cell_type": "code",
   "execution_count": 48,
   "id": "3bf4cb96",
   "metadata": {},
   "outputs": [
    {
     "data": {
      "text/plain": [
       "0.000000e+00    2595\n",
       "1.000000e-02     299\n",
       "2.000000e-02      79\n",
       "3.000000e-02      44\n",
       "4.000000e-02      86\n",
       "                ... \n",
       "5.536969e+07      11\n",
       "6.138221e+07       1\n",
       "6.979933e+07       4\n",
       "8.224463e+07      18\n",
       "1.150355e+08      10\n",
       "Name: CustAccountBalance, Length: 164951, dtype: int64"
      ]
     },
     "execution_count": 48,
     "metadata": {},
     "output_type": "execute_result"
    }
   ],
   "source": [
    "df['CustAccountBalance'].value_counts().sort_index()"
   ]
  },
  {
   "cell_type": "markdown",
   "id": "13490ece",
   "metadata": {},
   "source": [
    "We decide to label people with 11 classes of richness, from 0 to 10. The 'richness_0' class contains all the accounts with bank amount less than 3.37 (0-0,01 bin) that could corresponds to people which have inactive account or that do not use too much that bank account. For that reason we decided to group them togheter."
   ]
  },
  {
   "cell_type": "code",
   "execution_count": 49,
   "id": "cff7c873",
   "metadata": {},
   "outputs": [],
   "source": [
    "bin_labels = ['richness_0', 'richness_1', 'richness_2', 'richness_3', 'richness_4', 'richness_5', 'richness_6', 'richness_7', 'richness_8', 'richness_9', 'richness_10']"
   ]
  },
  {
   "cell_type": "code",
   "execution_count": 50,
   "id": "f7fefae3",
   "metadata": {},
   "outputs": [],
   "source": [
    "#Use qcut to put into the right bin each value of bank amount creating richness class column \n",
    "\n",
    "df['Richness'] = pd.qcut(df['CustAccountBalance'], q = [0,0.01, .1, .2, .3, .4, .5, .6, .7, .8, .9, 1], labels = bin_labels)"
   ]
  },
  {
   "cell_type": "markdown",
   "id": "3f86e0e2",
   "metadata": {},
   "source": [
    "We need to save the edges values of the bins to use them in part 1.3 of the homework:"
   ]
  },
  {
   "cell_type": "code",
   "execution_count": 51,
   "id": "1cc6d0be",
   "metadata": {},
   "outputs": [],
   "source": [
    "query_bins_richness = np.quantile(df['CustAccountBalance'], [0,0.01, .1, .2, .3, .4, .5, .6, .7, .8, .9, 1])"
   ]
  },
  {
   "cell_type": "code",
   "execution_count": 52,
   "id": "28fb49ea",
   "metadata": {},
   "outputs": [
    {
     "name": "stdout",
     "output_type": "stream",
     "text": [
      "Stored 'query_bins_richness' (ndarray)\n"
     ]
    }
   ],
   "source": [
    "%store query_bins_richness #store in memory"
   ]
  },
  {
   "cell_type": "code",
   "execution_count": 53,
   "id": "5051d805",
   "metadata": {},
   "outputs": [
    {
     "data": {
      "text/html": [
       "<div>\n",
       "<style scoped>\n",
       "    .dataframe tbody tr th:only-of-type {\n",
       "        vertical-align: middle;\n",
       "    }\n",
       "\n",
       "    .dataframe tbody tr th {\n",
       "        vertical-align: top;\n",
       "    }\n",
       "\n",
       "    .dataframe thead th {\n",
       "        text-align: right;\n",
       "    }\n",
       "</style>\n",
       "<table border=\"1\" class=\"dataframe\">\n",
       "  <thead>\n",
       "    <tr style=\"text-align: right;\">\n",
       "      <th></th>\n",
       "      <th>New_ID</th>\n",
       "      <th>CustGender</th>\n",
       "      <th>CustomerAge</th>\n",
       "      <th>CustomerClassAge</th>\n",
       "      <th>TransactionAmount (INR)</th>\n",
       "      <th>CustAccountBalance</th>\n",
       "      <th>Richness</th>\n",
       "    </tr>\n",
       "  </thead>\n",
       "  <tbody>\n",
       "    <tr>\n",
       "      <th>206988</th>\n",
       "      <td>C2618951F0</td>\n",
       "      <td>F</td>\n",
       "      <td>0</td>\n",
       "      <td>age_0</td>\n",
       "      <td>17196.00</td>\n",
       "      <td>0.0</td>\n",
       "      <td>richness_0</td>\n",
       "    </tr>\n",
       "    <tr>\n",
       "      <th>80572</th>\n",
       "      <td>C1622848M23</td>\n",
       "      <td>M</td>\n",
       "      <td>23</td>\n",
       "      <td>age_2</td>\n",
       "      <td>350.00</td>\n",
       "      <td>0.0</td>\n",
       "      <td>richness_0</td>\n",
       "    </tr>\n",
       "    <tr>\n",
       "      <th>941651</th>\n",
       "      <td>C8338070M42</td>\n",
       "      <td>M</td>\n",
       "      <td>42</td>\n",
       "      <td>age_6</td>\n",
       "      <td>490.00</td>\n",
       "      <td>0.0</td>\n",
       "      <td>richness_0</td>\n",
       "    </tr>\n",
       "    <tr>\n",
       "      <th>427475</th>\n",
       "      <td>C4328426M33</td>\n",
       "      <td>M</td>\n",
       "      <td>33</td>\n",
       "      <td>age_4</td>\n",
       "      <td>1000.00</td>\n",
       "      <td>0.0</td>\n",
       "      <td>richness_0</td>\n",
       "    </tr>\n",
       "    <tr>\n",
       "      <th>488009</th>\n",
       "      <td>C4817922M67</td>\n",
       "      <td>M</td>\n",
       "      <td>67</td>\n",
       "      <td>age_11</td>\n",
       "      <td>480.00</td>\n",
       "      <td>0.0</td>\n",
       "      <td>richness_0</td>\n",
       "    </tr>\n",
       "    <tr>\n",
       "      <th>...</th>\n",
       "      <td>...</td>\n",
       "      <td>...</td>\n",
       "      <td>...</td>\n",
       "      <td>...</td>\n",
       "      <td>...</td>\n",
       "      <td>...</td>\n",
       "      <td>...</td>\n",
       "    </tr>\n",
       "    <tr>\n",
       "      <th>295881</th>\n",
       "      <td>C3316830M49</td>\n",
       "      <td>M</td>\n",
       "      <td>49</td>\n",
       "      <td>age_7</td>\n",
       "      <td>28019.32</td>\n",
       "      <td>115035495.1</td>\n",
       "      <td>richness_10</td>\n",
       "    </tr>\n",
       "    <tr>\n",
       "      <th>423744</th>\n",
       "      <td>C4316889M49</td>\n",
       "      <td>M</td>\n",
       "      <td>49</td>\n",
       "      <td>age_7</td>\n",
       "      <td>4364.00</td>\n",
       "      <td>115035495.1</td>\n",
       "      <td>richness_10</td>\n",
       "    </tr>\n",
       "    <tr>\n",
       "      <th>244635</th>\n",
       "      <td>C2916887M49</td>\n",
       "      <td>M</td>\n",
       "      <td>49</td>\n",
       "      <td>age_7</td>\n",
       "      <td>600.00</td>\n",
       "      <td>115035495.1</td>\n",
       "      <td>richness_10</td>\n",
       "    </tr>\n",
       "    <tr>\n",
       "      <th>908942</th>\n",
       "      <td>C8116818M49</td>\n",
       "      <td>M</td>\n",
       "      <td>49</td>\n",
       "      <td>age_7</td>\n",
       "      <td>3149.00</td>\n",
       "      <td>115035495.1</td>\n",
       "      <td>richness_10</td>\n",
       "    </tr>\n",
       "    <tr>\n",
       "      <th>155471</th>\n",
       "      <td>C2216823M49</td>\n",
       "      <td>M</td>\n",
       "      <td>49</td>\n",
       "      <td>age_7</td>\n",
       "      <td>4699.00</td>\n",
       "      <td>115035495.1</td>\n",
       "      <td>richness_10</td>\n",
       "    </tr>\n",
       "  </tbody>\n",
       "</table>\n",
       "<p>1034952 rows × 7 columns</p>\n",
       "</div>"
      ],
      "text/plain": [
       "             New_ID CustGender  CustomerAge CustomerClassAge  \\\n",
       "206988   C2618951F0          F            0            age_0   \n",
       "80572   C1622848M23          M           23            age_2   \n",
       "941651  C8338070M42          M           42            age_6   \n",
       "427475  C4328426M33          M           33            age_4   \n",
       "488009  C4817922M67          M           67           age_11   \n",
       "...             ...        ...          ...              ...   \n",
       "295881  C3316830M49          M           49            age_7   \n",
       "423744  C4316889M49          M           49            age_7   \n",
       "244635  C2916887M49          M           49            age_7   \n",
       "908942  C8116818M49          M           49            age_7   \n",
       "155471  C2216823M49          M           49            age_7   \n",
       "\n",
       "        TransactionAmount (INR)  CustAccountBalance     Richness  \n",
       "206988                 17196.00                 0.0   richness_0  \n",
       "80572                    350.00                 0.0   richness_0  \n",
       "941651                   490.00                 0.0   richness_0  \n",
       "427475                  1000.00                 0.0   richness_0  \n",
       "488009                   480.00                 0.0   richness_0  \n",
       "...                         ...                 ...          ...  \n",
       "295881                 28019.32         115035495.1  richness_10  \n",
       "423744                  4364.00         115035495.1  richness_10  \n",
       "244635                   600.00         115035495.1  richness_10  \n",
       "908942                  3149.00         115035495.1  richness_10  \n",
       "155471                  4699.00         115035495.1  richness_10  \n",
       "\n",
       "[1034952 rows x 7 columns]"
      ]
     },
     "execution_count": 53,
     "metadata": {},
     "output_type": "execute_result"
    }
   ],
   "source": [
    "df.sort_values(by = 'CustAccountBalance', ascending = True)"
   ]
  },
  {
   "cell_type": "code",
   "execution_count": 54,
   "id": "ffdc87db",
   "metadata": {},
   "outputs": [],
   "source": [
    "del df['CustAccountBalance']"
   ]
  },
  {
   "cell_type": "markdown",
   "id": "3f76c147",
   "metadata": {},
   "source": [
    "# 1.1.6 Transaction Amount (INR)"
   ]
  },
  {
   "cell_type": "markdown",
   "id": "5b12a2af",
   "metadata": {},
   "source": [
    "Check the type:"
   ]
  },
  {
   "cell_type": "code",
   "execution_count": 55,
   "id": "012ef2f4",
   "metadata": {},
   "outputs": [
    {
     "data": {
      "text/plain": [
       "numpy.float64"
      ]
     },
     "execution_count": 55,
     "metadata": {},
     "output_type": "execute_result"
    }
   ],
   "source": [
    "type(df['TransactionAmount (INR)'][0])"
   ]
  },
  {
   "cell_type": "markdown",
   "id": "67ac56c3",
   "metadata": {},
   "source": [
    "Let's have a look to the distribution of the transaction amount in function of ages:"
   ]
  },
  {
   "cell_type": "code",
   "execution_count": 56,
   "id": "71cd1f35",
   "metadata": {},
   "outputs": [
    {
     "data": {
      "image/png": "[encoded data removed]",
      "text/plain": [
       "<Figure size 432x288 with 1 Axes>"
      ]
     },
     "metadata": {
      "needs_background": "light"
     },
     "output_type": "display_data"
    }
   ],
   "source": [
    "df[['TransactionAmount (INR)', 'CustomerAge']].plot(kind = 'scatter', x= 'CustomerAge', y = 'TransactionAmount (INR)', c = 'green')\n",
    "\n",
    "plt.show()"
   ]
  },
  {
   "cell_type": "code",
   "execution_count": 57,
   "id": "df757550",
   "metadata": {},
   "outputs": [
    {
     "data": {
      "text/plain": [
       "count    1.034952e+06\n",
       "mean     1.566104e+03\n",
       "std      6.541172e+03\n",
       "min      0.000000e+00\n",
       "25%      1.620000e+02\n",
       "50%      4.590000e+02\n",
       "75%      1.200000e+03\n",
       "max      1.560035e+06\n",
       "Name: TransactionAmount (INR), dtype: float64"
      ]
     },
     "execution_count": 57,
     "metadata": {},
     "output_type": "execute_result"
    }
   ],
   "source": [
    "df['TransactionAmount (INR)'].describe()"
   ]
  },
  {
   "cell_type": "markdown",
   "id": "5bc3a559",
   "metadata": {},
   "source": [
    "The procedure is the same of the previous point and consists in creating a new column called 'expenditure' in which are inserted the class of 'how much does a user spend'."
   ]
  },
  {
   "cell_type": "code",
   "execution_count": 58,
   "id": "c488df83",
   "metadata": {},
   "outputs": [],
   "source": [
    "bin_labels = ['exp_1', 'exp_2', 'exp_3', 'exp_4', 'exp_5', 'exp_6', 'exp_7', 'exp_8', 'exp_9', 'exp_10']"
   ]
  },
  {
   "cell_type": "code",
   "execution_count": 59,
   "id": "11b10152",
   "metadata": {},
   "outputs": [],
   "source": [
    "#Use qcut to create the expenditure column\n",
    "\n",
    "df['Expenditure'] = pd.qcut(df['TransactionAmount (INR)'], q = [0, .1, .2, .3, .4, .5, .6, .7, .8, .9, 1], labels = bin_labels)"
   ]
  },
  {
   "cell_type": "markdown",
   "id": "b83aed02",
   "metadata": {},
   "source": [
    "We need to save the values of the edges of the bin to insert into them the query in the following point:"
   ]
  },
  {
   "cell_type": "code",
   "execution_count": 60,
   "id": "7f5563f5",
   "metadata": {},
   "outputs": [],
   "source": [
    "query_bins_expenditure = np.quantile(df['TransactionAmount (INR)'], [0, .1, .2, .3, .4, .5, .6, .7, .8, .9, 1])"
   ]
  },
  {
   "cell_type": "code",
   "execution_count": 61,
   "id": "06a3e444",
   "metadata": {},
   "outputs": [
    {
     "name": "stdout",
     "output_type": "stream",
     "text": [
      "Stored 'query_bins_expenditure' (ndarray)\n"
     ]
    }
   ],
   "source": [
    "%store query_bins_expenditure #store in memory"
   ]
  },
  {
   "cell_type": "code",
   "execution_count": 62,
   "id": "c0bacedb",
   "metadata": {},
   "outputs": [
    {
     "data": {
      "text/html": [
       "<div>\n",
       "<style scoped>\n",
       "    .dataframe tbody tr th:only-of-type {\n",
       "        vertical-align: middle;\n",
       "    }\n",
       "\n",
       "    .dataframe tbody tr th {\n",
       "        vertical-align: top;\n",
       "    }\n",
       "\n",
       "    .dataframe thead th {\n",
       "        text-align: right;\n",
       "    }\n",
       "</style>\n",
       "<table border=\"1\" class=\"dataframe\">\n",
       "  <thead>\n",
       "    <tr style=\"text-align: right;\">\n",
       "      <th></th>\n",
       "      <th>New_ID</th>\n",
       "      <th>CustGender</th>\n",
       "      <th>CustomerAge</th>\n",
       "      <th>CustomerClassAge</th>\n",
       "      <th>TransactionAmount (INR)</th>\n",
       "      <th>Richness</th>\n",
       "      <th>Expenditure</th>\n",
       "    </tr>\n",
       "  </thead>\n",
       "  <tbody>\n",
       "    <tr>\n",
       "      <th>0</th>\n",
       "      <td>C1010011F24</td>\n",
       "      <td>F</td>\n",
       "      <td>24</td>\n",
       "      <td>age_2</td>\n",
       "      <td>4750.0</td>\n",
       "      <td>richness_7</td>\n",
       "      <td>exp_10</td>\n",
       "    </tr>\n",
       "    <tr>\n",
       "      <th>1</th>\n",
       "      <td>C1010011M33</td>\n",
       "      <td>M</td>\n",
       "      <td>33</td>\n",
       "      <td>age_4</td>\n",
       "      <td>356.0</td>\n",
       "      <td>richness_9</td>\n",
       "      <td>exp_5</td>\n",
       "    </tr>\n",
       "    <tr>\n",
       "      <th>2</th>\n",
       "      <td>C1010012M22</td>\n",
       "      <td>M</td>\n",
       "      <td>22</td>\n",
       "      <td>age_2</td>\n",
       "      <td>1499.0</td>\n",
       "      <td>richness_6</td>\n",
       "      <td>exp_8</td>\n",
       "    </tr>\n",
       "    <tr>\n",
       "      <th>3</th>\n",
       "      <td>C1010014F24</td>\n",
       "      <td>F</td>\n",
       "      <td>24</td>\n",
       "      <td>age_2</td>\n",
       "      <td>1205.0</td>\n",
       "      <td>richness_7</td>\n",
       "      <td>exp_8</td>\n",
       "    </tr>\n",
       "    <tr>\n",
       "      <th>4</th>\n",
       "      <td>C1010014M32</td>\n",
       "      <td>M</td>\n",
       "      <td>32</td>\n",
       "      <td>age_4</td>\n",
       "      <td>250.0</td>\n",
       "      <td>richness_9</td>\n",
       "      <td>exp_4</td>\n",
       "    </tr>\n",
       "  </tbody>\n",
       "</table>\n",
       "</div>"
      ],
      "text/plain": [
       "        New_ID CustGender  CustomerAge CustomerClassAge  \\\n",
       "0  C1010011F24          F           24            age_2   \n",
       "1  C1010011M33          M           33            age_4   \n",
       "2  C1010012M22          M           22            age_2   \n",
       "3  C1010014F24          F           24            age_2   \n",
       "4  C1010014M32          M           32            age_4   \n",
       "\n",
       "   TransactionAmount (INR)    Richness Expenditure  \n",
       "0                   4750.0  richness_7      exp_10  \n",
       "1                    356.0  richness_9       exp_5  \n",
       "2                   1499.0  richness_6       exp_8  \n",
       "3                   1205.0  richness_7       exp_8  \n",
       "4                    250.0  richness_9       exp_4  "
      ]
     },
     "execution_count": 62,
     "metadata": {},
     "output_type": "execute_result"
    }
   ],
   "source": [
    "df.head()"
   ]
  },
  {
   "cell_type": "code",
   "execution_count": 63,
   "id": "b706537a",
   "metadata": {},
   "outputs": [],
   "source": [
    "del df['TransactionAmount (INR)'], df['CustomerAge']"
   ]
  },
  {
   "cell_type": "markdown",
   "id": "a4701ab9",
   "metadata": {},
   "source": [
    "# 1.1.7 Final Dataset"
   ]
  },
  {
   "cell_type": "markdown",
   "id": "6b48fbb8",
   "metadata": {},
   "source": [
    "The final result is the following: "
   ]
  },
  {
   "cell_type": "code",
   "execution_count": 64,
   "id": "5581f5dc",
   "metadata": {},
   "outputs": [
    {
     "data": {
      "text/html": [
       "<div>\n",
       "<style scoped>\n",
       "    .dataframe tbody tr th:only-of-type {\n",
       "        vertical-align: middle;\n",
       "    }\n",
       "\n",
       "    .dataframe tbody tr th {\n",
       "        vertical-align: top;\n",
       "    }\n",
       "\n",
       "    .dataframe thead th {\n",
       "        text-align: right;\n",
       "    }\n",
       "</style>\n",
       "<table border=\"1\" class=\"dataframe\">\n",
       "  <thead>\n",
       "    <tr style=\"text-align: right;\">\n",
       "      <th></th>\n",
       "      <th>New_ID</th>\n",
       "      <th>CustGender</th>\n",
       "      <th>CustomerClassAge</th>\n",
       "      <th>Richness</th>\n",
       "      <th>Expenditure</th>\n",
       "    </tr>\n",
       "  </thead>\n",
       "  <tbody>\n",
       "    <tr>\n",
       "      <th>0</th>\n",
       "      <td>C1010011F24</td>\n",
       "      <td>F</td>\n",
       "      <td>age_2</td>\n",
       "      <td>richness_7</td>\n",
       "      <td>exp_10</td>\n",
       "    </tr>\n",
       "    <tr>\n",
       "      <th>1</th>\n",
       "      <td>C1010011M33</td>\n",
       "      <td>M</td>\n",
       "      <td>age_4</td>\n",
       "      <td>richness_9</td>\n",
       "      <td>exp_5</td>\n",
       "    </tr>\n",
       "    <tr>\n",
       "      <th>2</th>\n",
       "      <td>C1010012M22</td>\n",
       "      <td>M</td>\n",
       "      <td>age_2</td>\n",
       "      <td>richness_6</td>\n",
       "      <td>exp_8</td>\n",
       "    </tr>\n",
       "    <tr>\n",
       "      <th>3</th>\n",
       "      <td>C1010014F24</td>\n",
       "      <td>F</td>\n",
       "      <td>age_2</td>\n",
       "      <td>richness_7</td>\n",
       "      <td>exp_8</td>\n",
       "    </tr>\n",
       "    <tr>\n",
       "      <th>4</th>\n",
       "      <td>C1010014M32</td>\n",
       "      <td>M</td>\n",
       "      <td>age_4</td>\n",
       "      <td>richness_9</td>\n",
       "      <td>exp_4</td>\n",
       "    </tr>\n",
       "    <tr>\n",
       "      <th>...</th>\n",
       "      <td>...</td>\n",
       "      <td>...</td>\n",
       "      <td>...</td>\n",
       "      <td>...</td>\n",
       "      <td>...</td>\n",
       "    </tr>\n",
       "    <tr>\n",
       "      <th>1034947</th>\n",
       "      <td>C9099836M26</td>\n",
       "      <td>M</td>\n",
       "      <td>age_3</td>\n",
       "      <td>richness_9</td>\n",
       "      <td>exp_7</td>\n",
       "    </tr>\n",
       "    <tr>\n",
       "      <th>1034948</th>\n",
       "      <td>C9099877M20</td>\n",
       "      <td>M</td>\n",
       "      <td>age_1</td>\n",
       "      <td>richness_9</td>\n",
       "      <td>exp_4</td>\n",
       "    </tr>\n",
       "    <tr>\n",
       "      <th>1034949</th>\n",
       "      <td>C9099919M23</td>\n",
       "      <td>M</td>\n",
       "      <td>age_2</td>\n",
       "      <td>richness_3</td>\n",
       "      <td>exp_3</td>\n",
       "    </tr>\n",
       "    <tr>\n",
       "      <th>1034950</th>\n",
       "      <td>C9099941M21</td>\n",
       "      <td>M</td>\n",
       "      <td>age_2</td>\n",
       "      <td>richness_7</td>\n",
       "      <td>exp_1</td>\n",
       "    </tr>\n",
       "    <tr>\n",
       "      <th>1034951</th>\n",
       "      <td>C9099956M34</td>\n",
       "      <td>M</td>\n",
       "      <td>age_4</td>\n",
       "      <td>richness_4</td>\n",
       "      <td>exp_7</td>\n",
       "    </tr>\n",
       "  </tbody>\n",
       "</table>\n",
       "<p>1034952 rows × 5 columns</p>\n",
       "</div>"
      ],
      "text/plain": [
       "              New_ID CustGender CustomerClassAge    Richness Expenditure\n",
       "0        C1010011F24          F            age_2  richness_7      exp_10\n",
       "1        C1010011M33          M            age_4  richness_9       exp_5\n",
       "2        C1010012M22          M            age_2  richness_6       exp_8\n",
       "3        C1010014F24          F            age_2  richness_7       exp_8\n",
       "4        C1010014M32          M            age_4  richness_9       exp_4\n",
       "...              ...        ...              ...         ...         ...\n",
       "1034947  C9099836M26          M            age_3  richness_9       exp_7\n",
       "1034948  C9099877M20          M            age_1  richness_9       exp_4\n",
       "1034949  C9099919M23          M            age_2  richness_3       exp_3\n",
       "1034950  C9099941M21          M            age_2  richness_7       exp_1\n",
       "1034951  C9099956M34          M            age_4  richness_4       exp_7\n",
       "\n",
       "[1034952 rows x 5 columns]"
      ]
     },
     "execution_count": 64,
     "metadata": {},
     "output_type": "execute_result"
    }
   ],
   "source": [
    "df = df.reset_index(drop = True)\n",
    "df"
   ]
  },
  {
   "cell_type": "code",
   "execution_count": 65,
   "id": "558aab33",
   "metadata": {},
   "outputs": [],
   "source": [
    "df.to_csv('/Users/giacomo/Desktop/ADM_HW4/data.csv', sep = '\\t') #save the dataset"
   ]
  },
  {
   "cell_type": "markdown",
   "id": "7e465c55",
   "metadata": {},
   "source": [
    "# 1.2 Fingerprint hashing\n",
    "\n",
    "Using the previously selected data with the features you found pertinent, you have to:\n",
    "\n",
    "Implement your minhash function from scratch. No ready-made hash functions are allowed. Read the class material and search the internet if you need to. For reference, it may be practical to look at the description of hash functions in the book.\n",
    "\n",
    "Process the dataset and add each record to the MinHash. The subtask's goal is to try and map each consumer to its bin; to ensure this works well, be sure you understand how MinHash works and choose a matching threshold to use. Before moving on, experiment with different thresholds, explaining your choice."
   ]
  },
  {
   "cell_type": "code",
   "execution_count": 65,
   "id": "2e649f53",
   "metadata": {},
   "outputs": [],
   "source": [
    "import pandas as pd\n",
    "from tqdm import tqdm as tq\n",
    "import warnings\n",
    "import numpy as np\n",
    "warnings.filterwarnings(\"ignore\")"
   ]
  },
  {
   "cell_type": "code",
   "execution_count": 143,
   "id": "172d4498",
   "metadata": {},
   "outputs": [],
   "source": [
    "df = pd.read_csv(\"/Users/giacomo/Desktop/ADM_HW4/data.csv\", sep = '\\t') #load the \"cleaned\" dataset"
   ]
  },
  {
   "cell_type": "code",
   "execution_count": 144,
   "id": "1dae9645",
   "metadata": {},
   "outputs": [
    {
     "data": {
      "text/html": [
       "<div>\n",
       "<style scoped>\n",
       "    .dataframe tbody tr th:only-of-type {\n",
       "        vertical-align: middle;\n",
       "    }\n",
       "\n",
       "    .dataframe tbody tr th {\n",
       "        vertical-align: top;\n",
       "    }\n",
       "\n",
       "    .dataframe thead th {\n",
       "        text-align: right;\n",
       "    }\n",
       "</style>\n",
       "<table border=\"1\" class=\"dataframe\">\n",
       "  <thead>\n",
       "    <tr style=\"text-align: right;\">\n",
       "      <th></th>\n",
       "      <th>Unnamed: 0</th>\n",
       "      <th>New_ID</th>\n",
       "      <th>CustGender</th>\n",
       "      <th>CustomerClassAge</th>\n",
       "      <th>Richness</th>\n",
       "      <th>Expenditure</th>\n",
       "    </tr>\n",
       "  </thead>\n",
       "  <tbody>\n",
       "    <tr>\n",
       "      <th>0</th>\n",
       "      <td>0</td>\n",
       "      <td>C1010011F24</td>\n",
       "      <td>F</td>\n",
       "      <td>age_2</td>\n",
       "      <td>richness_7</td>\n",
       "      <td>exp_10</td>\n",
       "    </tr>\n",
       "    <tr>\n",
       "      <th>1</th>\n",
       "      <td>1</td>\n",
       "      <td>C1010011M33</td>\n",
       "      <td>M</td>\n",
       "      <td>age_4</td>\n",
       "      <td>richness_9</td>\n",
       "      <td>exp_5</td>\n",
       "    </tr>\n",
       "    <tr>\n",
       "      <th>2</th>\n",
       "      <td>2</td>\n",
       "      <td>C1010012M22</td>\n",
       "      <td>M</td>\n",
       "      <td>age_2</td>\n",
       "      <td>richness_6</td>\n",
       "      <td>exp_8</td>\n",
       "    </tr>\n",
       "    <tr>\n",
       "      <th>3</th>\n",
       "      <td>3</td>\n",
       "      <td>C1010014F24</td>\n",
       "      <td>F</td>\n",
       "      <td>age_2</td>\n",
       "      <td>richness_7</td>\n",
       "      <td>exp_8</td>\n",
       "    </tr>\n",
       "    <tr>\n",
       "      <th>4</th>\n",
       "      <td>4</td>\n",
       "      <td>C1010014M32</td>\n",
       "      <td>M</td>\n",
       "      <td>age_4</td>\n",
       "      <td>richness_9</td>\n",
       "      <td>exp_4</td>\n",
       "    </tr>\n",
       "    <tr>\n",
       "      <th>...</th>\n",
       "      <td>...</td>\n",
       "      <td>...</td>\n",
       "      <td>...</td>\n",
       "      <td>...</td>\n",
       "      <td>...</td>\n",
       "      <td>...</td>\n",
       "    </tr>\n",
       "    <tr>\n",
       "      <th>1034947</th>\n",
       "      <td>1034947</td>\n",
       "      <td>C9099836M26</td>\n",
       "      <td>M</td>\n",
       "      <td>age_3</td>\n",
       "      <td>richness_9</td>\n",
       "      <td>exp_7</td>\n",
       "    </tr>\n",
       "    <tr>\n",
       "      <th>1034948</th>\n",
       "      <td>1034948</td>\n",
       "      <td>C9099877M20</td>\n",
       "      <td>M</td>\n",
       "      <td>age_1</td>\n",
       "      <td>richness_9</td>\n",
       "      <td>exp_4</td>\n",
       "    </tr>\n",
       "    <tr>\n",
       "      <th>1034949</th>\n",
       "      <td>1034949</td>\n",
       "      <td>C9099919M23</td>\n",
       "      <td>M</td>\n",
       "      <td>age_2</td>\n",
       "      <td>richness_3</td>\n",
       "      <td>exp_3</td>\n",
       "    </tr>\n",
       "    <tr>\n",
       "      <th>1034950</th>\n",
       "      <td>1034950</td>\n",
       "      <td>C9099941M21</td>\n",
       "      <td>M</td>\n",
       "      <td>age_2</td>\n",
       "      <td>richness_7</td>\n",
       "      <td>exp_1</td>\n",
       "    </tr>\n",
       "    <tr>\n",
       "      <th>1034951</th>\n",
       "      <td>1034951</td>\n",
       "      <td>C9099956M34</td>\n",
       "      <td>M</td>\n",
       "      <td>age_4</td>\n",
       "      <td>richness_4</td>\n",
       "      <td>exp_7</td>\n",
       "    </tr>\n",
       "  </tbody>\n",
       "</table>\n",
       "<p>1034952 rows × 6 columns</p>\n",
       "</div>"
      ],
      "text/plain": [
       "         Unnamed: 0       New_ID CustGender CustomerClassAge    Richness  \\\n",
       "0                 0  C1010011F24          F            age_2  richness_7   \n",
       "1                 1  C1010011M33          M            age_4  richness_9   \n",
       "2                 2  C1010012M22          M            age_2  richness_6   \n",
       "3                 3  C1010014F24          F            age_2  richness_7   \n",
       "4                 4  C1010014M32          M            age_4  richness_9   \n",
       "...             ...          ...        ...              ...         ...   \n",
       "1034947     1034947  C9099836M26          M            age_3  richness_9   \n",
       "1034948     1034948  C9099877M20          M            age_1  richness_9   \n",
       "1034949     1034949  C9099919M23          M            age_2  richness_3   \n",
       "1034950     1034950  C9099941M21          M            age_2  richness_7   \n",
       "1034951     1034951  C9099956M34          M            age_4  richness_4   \n",
       "\n",
       "        Expenditure  \n",
       "0            exp_10  \n",
       "1             exp_5  \n",
       "2             exp_8  \n",
       "3             exp_8  \n",
       "4             exp_4  \n",
       "...             ...  \n",
       "1034947       exp_7  \n",
       "1034948       exp_4  \n",
       "1034949       exp_3  \n",
       "1034950       exp_1  \n",
       "1034951       exp_7  \n",
       "\n",
       "[1034952 rows x 6 columns]"
      ]
     },
     "execution_count": 144,
     "metadata": {},
     "output_type": "execute_result"
    }
   ],
   "source": [
    "df"
   ]
  },
  {
   "cell_type": "code",
   "execution_count": 145,
   "id": "cbec36df",
   "metadata": {},
   "outputs": [],
   "source": [
    "del df['Unnamed: 0']"
   ]
  },
  {
   "cell_type": "markdown",
   "id": "9dc8bf41",
   "metadata": {},
   "source": [
    "# 1.2.1 Shingles"
   ]
  },
  {
   "cell_type": "markdown",
   "id": "a34e580a",
   "metadata": {},
   "source": [
    "First of all we build the shingles from all the unique values per column in the loaded dataset. We ignore the `TransactionID` column because it is not a shingle."
   ]
  },
  {
   "cell_type": "code",
   "execution_count": 69,
   "id": "ce2defe3",
   "metadata": {},
   "outputs": [],
   "source": [
    "shingles = [] #initialize shingles\n",
    "for column_name in df.columns[1:]: \n",
    "    shingles += sorted(list(df[column_name].unique())) \n",
    "    \n",
    "shingles.remove('age_0')\n",
    "\n",
    "#In order to not aggregate people who are labelled with age_0, corresponding to the Customer DOB with year 1800 \n",
    "#(nan), we decided to remove age_0 from shingles such that those people will not have any 1 in the shingle matrix.\n",
    "#For that reason they will not be considered similar to anyone for the age, but only for the other fields."
   ]
  },
  {
   "cell_type": "code",
   "execution_count": 70,
   "id": "f6735222",
   "metadata": {},
   "outputs": [
    {
     "name": "stdout",
     "output_type": "stream",
     "text": [
      "['F', 'M', 'age_1', 'age_10', 'age_11', 'age_12', 'age_13', 'age_14', 'age_15', 'age_16', 'age_17', 'age_2', 'age_3', 'age_4', 'age_5', 'age_6', 'age_7', 'age_8', 'age_9', 'richness_0', 'richness_1', 'richness_10', 'richness_2', 'richness_3', 'richness_4', 'richness_5', 'richness_6', 'richness_7', 'richness_8', 'richness_9', 'exp_1', 'exp_10', 'exp_2', 'exp_3', 'exp_4', 'exp_5', 'exp_6', 'exp_7', 'exp_8', 'exp_9']\n"
     ]
    }
   ],
   "source": [
    "print(shingles)"
   ]
  },
  {
   "cell_type": "markdown",
   "id": "56a97def",
   "metadata": {},
   "source": [
    "# 1.2.2 Create Shingle Matrix"
   ]
  },
  {
   "cell_type": "markdown",
   "id": "2dae9e7b",
   "metadata": {},
   "source": [
    "First of all we create the function which maps each transaction into a vector of 0/1 based on the shingles. "
   ]
  },
  {
   "cell_type": "code",
   "execution_count": 71,
   "id": "b838ed76",
   "metadata": {},
   "outputs": [],
   "source": [
    "def one_hot_vector(data, index):\n",
    "    \"\"\"Creates a one hot vector for the row found in the data at the given index based on the shingles.\n",
    "    \n",
    "    :args\n",
    "    data - a pandas dataframe containing the data.\n",
    "    index - an int which corresponds to the row that will be turned into a one hot vector.\n",
    "    \n",
    "    :returns\n",
    "    a numpy array one hot representation of the row\n",
    "    \"\"\"\n",
    "    \n",
    "    values = data.loc[index][['CustGender', 'CustomerClassAge', 'Richness', 'Expenditure']].values #extract values\n",
    "    \n",
    "    indeces = np.where(values.reshape(values.size, 1) == shingles)[1]  #save indexes\n",
    "    \n",
    "    vector = np.zeros(len(shingles), dtype = int)  #initialize vector\n",
    "    \n",
    "    vector[indeces] = 1  #substitute 1 in the correct positions\n",
    "    \n",
    "    return vector"
   ]
  },
  {
   "cell_type": "markdown",
   "id": "579bb582",
   "metadata": {},
   "source": [
    "Example:"
   ]
  },
  {
   "cell_type": "code",
   "execution_count": 72,
   "id": "d1700709",
   "metadata": {},
   "outputs": [
    {
     "name": "stdout",
     "output_type": "stream",
     "text": [
      "['F', 'M', 'age_1', 'age_10', 'age_11', 'age_12', 'age_13', 'age_14', 'age_15', 'age_16', 'age_17', 'age_2', 'age_3', 'age_4', 'age_5', 'age_6', 'age_7', 'age_8', 'age_9', 'richness_0', 'richness_1', 'richness_10', 'richness_2', 'richness_3', 'richness_4', 'richness_5', 'richness_6', 'richness_7', 'richness_8', 'richness_9', 'exp_1', 'exp_10', 'exp_2', 'exp_3', 'exp_4', 'exp_5', 'exp_6', 'exp_7', 'exp_8', 'exp_9']\n"
     ]
    }
   ],
   "source": [
    "print(shingles)"
   ]
  },
  {
   "cell_type": "code",
   "execution_count": 73,
   "id": "487e1675",
   "metadata": {},
   "outputs": [
    {
     "data": {
      "text/plain": [
       "New_ID              C1010011M33\n",
       "CustGender                    M\n",
       "CustomerClassAge          age_4\n",
       "Richness             richness_9\n",
       "Expenditure               exp_5\n",
       "Name: 1, dtype: object"
      ]
     },
     "execution_count": 73,
     "metadata": {},
     "output_type": "execute_result"
    }
   ],
   "source": [
    "df.loc[1]"
   ]
  },
  {
   "cell_type": "code",
   "execution_count": 74,
   "id": "c41f5cfb",
   "metadata": {},
   "outputs": [
    {
     "name": "stdout",
     "output_type": "stream",
     "text": [
      "[0 1 0 0 0 0 0 0 0 0 0 0 0 1 0 0 0 0 0 0 0 0 0 0 0 0 0 0 0 1 0 0 0 0 0 1 0\n",
      " 0 0 0]\n"
     ]
    }
   ],
   "source": [
    "print(one_hot_vector(df, 1)) #one hot vector of user C1010011M33"
   ]
  },
  {
   "cell_type": "markdown",
   "id": "e6a3d5da",
   "metadata": {},
   "source": [
    "Now we can build a sparse matrix with all the encoded transaction. We don't need to insert into the matrix the name of the Customer cause they are linked to the index of the shingle matrix through the index of the column.  "
   ]
  },
  {
   "cell_type": "code",
   "execution_count": 76,
   "id": "77acd2db",
   "metadata": {},
   "outputs": [
    {
     "name": "stderr",
     "output_type": "stream",
     "text": [
      "100%|███████████████████████████████| 1034952/1034952 [12:49<00:00, 1344.65it/s]\n"
     ]
    }
   ],
   "source": [
    "shingle_matrix = np.zeros((len(df), 40), dtype = int)\n",
    "\n",
    "for i in tq(range(len(df))):\n",
    "    # Append the one hot vectors as rows\n",
    "    shingle_matrix[df.index[i]] = one_hot_vector(df, i) \n",
    "\n",
    "# We need to transpose because for the shuffling, the Shingles need to be the rows\n",
    "shingle_matrix = shingle_matrix.T"
   ]
  },
  {
   "cell_type": "code",
   "execution_count": 77,
   "id": "cc15b117",
   "metadata": {},
   "outputs": [
    {
     "name": "stdout",
     "output_type": "stream",
     "text": [
      "Stored 'shingle_matrix' (ndarray)\n"
     ]
    }
   ],
   "source": [
    "%store shingle_matrix #store shingle matrix in memory"
   ]
  },
  {
   "cell_type": "code",
   "execution_count": 79,
   "id": "7eb74d9c",
   "metadata": {},
   "outputs": [],
   "source": [
    "#recall shingle matrix from memory\n",
    "%store -r shingle_matrix "
   ]
  },
  {
   "cell_type": "markdown",
   "id": "0555b759",
   "metadata": {},
   "source": [
    "# 1.2.3 Create the Signature Matrix\n",
    "From the Shingle Matrix, we will now create the signature matrix by doing the following:\n",
    "1. Shuffle the rows of the Shingle Matrix.\n",
    "1. Create a vector where each element corresponds to the index of the row of each column (Shingle) where the first 1 is found.\n",
    "1. Append this vector to the Signature Matrix.\n",
    "1. Repeat $n$ times.\n",
    "\n",
    "The goal of the MinHash is to replace a large set with a smaller \"signature\" that still preserves the underlying similarity metric."
   ]
  },
  {
   "cell_type": "code",
   "execution_count": 80,
   "id": "01a28ff4",
   "metadata": {},
   "outputs": [],
   "source": [
    "n_permutations = 20 #number of permutations = number of rows of the signature matrix\n",
    "signature_matrix = np.zeros((20, shingle_matrix.shape[1]), dtype = int) #initialize signature matrix\n",
    "seed = np.random.randint(0, 100000)\n",
    "np.random.seed(seed) #set seed for reproducibility"
   ]
  },
  {
   "cell_type": "code",
   "execution_count": 81,
   "id": "55cee0c8",
   "metadata": {},
   "outputs": [
    {
     "name": "stderr",
     "output_type": "stream",
     "text": [
      "100%|███████████████████████████████████████████| 20/20 [00:34<00:00,  1.72s/it]\n"
     ]
    }
   ],
   "source": [
    "for i in tq(range(n_permutations)):\n",
    "    # 1. Shuffle rows\n",
    "    np.random.shuffle(shingle_matrix)\n",
    "    \n",
    "    # 2. Create the vector of indeces where the first 1 is found. np.argmax stops at the first occurrence\n",
    "    signature_row = np.argmax(shingle_matrix == 1, axis=0) + 1\n",
    "    \n",
    "    # 3. Add to signature matrix\n",
    "    signature_matrix[i] = signature_row"
   ]
  },
  {
   "cell_type": "code",
   "execution_count": 82,
   "id": "42835b12",
   "metadata": {},
   "outputs": [
    {
     "data": {
      "text/plain": [
       "array([[17, 14, 16, ..., 16, 16, 16],\n",
       "       [ 9, 11, 23, ...,  6,  2,  3],\n",
       "       [ 9, 14, 27, ...,  7, 13, 14],\n",
       "       ...,\n",
       "       [ 7, 17,  8, ...,  8,  3, 16],\n",
       "       [24,  3, 10, ...,  6, 20,  7],\n",
       "       [ 2,  1,  1, ...,  1,  1,  1]])"
      ]
     },
     "execution_count": 82,
     "metadata": {},
     "output_type": "execute_result"
    }
   ],
   "source": [
    "signature_matrix"
   ]
  },
  {
   "cell_type": "code",
   "execution_count": 83,
   "id": "8e6c2a16",
   "metadata": {},
   "outputs": [
    {
     "data": {
      "text/plain": [
       "(20, 1034952)"
      ]
     },
     "execution_count": 83,
     "metadata": {},
     "output_type": "execute_result"
    }
   ],
   "source": [
    "signature_matrix.shape"
   ]
  },
  {
   "cell_type": "markdown",
   "id": "b96bf70c",
   "metadata": {},
   "source": [
    "The index of the column can be referred to the customer ID looking at the index of the initial dataframe: "
   ]
  },
  {
   "cell_type": "code",
   "execution_count": 84,
   "id": "5f6e9b2f",
   "metadata": {},
   "outputs": [
    {
     "data": {
      "text/html": [
       "<div>\n",
       "<style scoped>\n",
       "    .dataframe tbody tr th:only-of-type {\n",
       "        vertical-align: middle;\n",
       "    }\n",
       "\n",
       "    .dataframe tbody tr th {\n",
       "        vertical-align: top;\n",
       "    }\n",
       "\n",
       "    .dataframe thead th {\n",
       "        text-align: right;\n",
       "    }\n",
       "</style>\n",
       "<table border=\"1\" class=\"dataframe\">\n",
       "  <thead>\n",
       "    <tr style=\"text-align: right;\">\n",
       "      <th></th>\n",
       "      <th>New_ID</th>\n",
       "      <th>CustGender</th>\n",
       "      <th>CustomerClassAge</th>\n",
       "      <th>Richness</th>\n",
       "      <th>Expenditure</th>\n",
       "    </tr>\n",
       "  </thead>\n",
       "  <tbody>\n",
       "    <tr>\n",
       "      <th>0</th>\n",
       "      <td>C1010011F24</td>\n",
       "      <td>F</td>\n",
       "      <td>age_2</td>\n",
       "      <td>richness_7</td>\n",
       "      <td>exp_10</td>\n",
       "    </tr>\n",
       "    <tr>\n",
       "      <th>1</th>\n",
       "      <td>C1010011M33</td>\n",
       "      <td>M</td>\n",
       "      <td>age_4</td>\n",
       "      <td>richness_9</td>\n",
       "      <td>exp_5</td>\n",
       "    </tr>\n",
       "    <tr>\n",
       "      <th>2</th>\n",
       "      <td>C1010012M22</td>\n",
       "      <td>M</td>\n",
       "      <td>age_2</td>\n",
       "      <td>richness_6</td>\n",
       "      <td>exp_8</td>\n",
       "    </tr>\n",
       "    <tr>\n",
       "      <th>3</th>\n",
       "      <td>C1010014F24</td>\n",
       "      <td>F</td>\n",
       "      <td>age_2</td>\n",
       "      <td>richness_7</td>\n",
       "      <td>exp_8</td>\n",
       "    </tr>\n",
       "    <tr>\n",
       "      <th>4</th>\n",
       "      <td>C1010014M32</td>\n",
       "      <td>M</td>\n",
       "      <td>age_4</td>\n",
       "      <td>richness_9</td>\n",
       "      <td>exp_4</td>\n",
       "    </tr>\n",
       "    <tr>\n",
       "      <th>...</th>\n",
       "      <td>...</td>\n",
       "      <td>...</td>\n",
       "      <td>...</td>\n",
       "      <td>...</td>\n",
       "      <td>...</td>\n",
       "    </tr>\n",
       "    <tr>\n",
       "      <th>1034947</th>\n",
       "      <td>C9099836M26</td>\n",
       "      <td>M</td>\n",
       "      <td>age_3</td>\n",
       "      <td>richness_9</td>\n",
       "      <td>exp_7</td>\n",
       "    </tr>\n",
       "    <tr>\n",
       "      <th>1034948</th>\n",
       "      <td>C9099877M20</td>\n",
       "      <td>M</td>\n",
       "      <td>age_1</td>\n",
       "      <td>richness_9</td>\n",
       "      <td>exp_4</td>\n",
       "    </tr>\n",
       "    <tr>\n",
       "      <th>1034949</th>\n",
       "      <td>C9099919M23</td>\n",
       "      <td>M</td>\n",
       "      <td>age_2</td>\n",
       "      <td>richness_3</td>\n",
       "      <td>exp_3</td>\n",
       "    </tr>\n",
       "    <tr>\n",
       "      <th>1034950</th>\n",
       "      <td>C9099941M21</td>\n",
       "      <td>M</td>\n",
       "      <td>age_2</td>\n",
       "      <td>richness_7</td>\n",
       "      <td>exp_1</td>\n",
       "    </tr>\n",
       "    <tr>\n",
       "      <th>1034951</th>\n",
       "      <td>C9099956M34</td>\n",
       "      <td>M</td>\n",
       "      <td>age_4</td>\n",
       "      <td>richness_4</td>\n",
       "      <td>exp_7</td>\n",
       "    </tr>\n",
       "  </tbody>\n",
       "</table>\n",
       "<p>1034952 rows × 5 columns</p>\n",
       "</div>"
      ],
      "text/plain": [
       "              New_ID CustGender CustomerClassAge    Richness Expenditure\n",
       "0        C1010011F24          F            age_2  richness_7      exp_10\n",
       "1        C1010011M33          M            age_4  richness_9       exp_5\n",
       "2        C1010012M22          M            age_2  richness_6       exp_8\n",
       "3        C1010014F24          F            age_2  richness_7       exp_8\n",
       "4        C1010014M32          M            age_4  richness_9       exp_4\n",
       "...              ...        ...              ...         ...         ...\n",
       "1034947  C9099836M26          M            age_3  richness_9       exp_7\n",
       "1034948  C9099877M20          M            age_1  richness_9       exp_4\n",
       "1034949  C9099919M23          M            age_2  richness_3       exp_3\n",
       "1034950  C9099941M21          M            age_2  richness_7       exp_1\n",
       "1034951  C9099956M34          M            age_4  richness_4       exp_7\n",
       "\n",
       "[1034952 rows x 5 columns]"
      ]
     },
     "execution_count": 84,
     "metadata": {},
     "output_type": "execute_result"
    }
   ],
   "source": [
    "df"
   ]
  },
  {
   "cell_type": "markdown",
   "id": "202e5dac",
   "metadata": {},
   "source": [
    "For example the first column of the signature matrix is referred to the customer C1010011F24."
   ]
  },
  {
   "cell_type": "markdown",
   "id": "c5e4a7fc",
   "metadata": {},
   "source": [
    "# 1.2.4 Divide Signature Matrix into Bands"
   ]
  },
  {
   "cell_type": "markdown",
   "id": "be0d2a0f",
   "metadata": {},
   "source": [
    "The example signature matrix below is divided into $b$ bands of $r$ rows each, and each band is hashed separately. For this example, we are setting band , which means that we will consider any titles with the same first two rows to be similar. The larger we make b the less likely there will be another Paper that matches all of the same permutations."
   ]
  },
  {
   "cell_type": "markdown",
   "id": "47d1a09d",
   "metadata": {},
   "source": [
    "![signature_matrix_into_bands](https://storage.googleapis.com/lds-media/images/locality-sensitive-hashing-lsh-buckets.width-1200.png)"
   ]
  },
  {
   "cell_type": "markdown",
   "id": "2cbfbb53",
   "metadata": {},
   "source": [
    "The $\\textit{probability}$ that the minhash function for a random permutation of rows produces the $\\textbf{same values}$ for two sets is equal to the $\\textbf{Jaccard similarity}$ of those sets.\n"
   ]
  },
  {
   "cell_type": "markdown",
   "id": "3d14c2ab",
   "metadata": {},
   "source": [
    "The size of the bands control the probability that two items with a given Jaccard similarity end up in the same bucket. If the number of bands is larger, you will end up with much smaller sets. For instance, $b = p$, where $p$ is the number of permutations (i.e. rows in the signature matrix) would almost certainly lead to $N$ buckets of only one item because there would be only one item that was perfect similar across every permutation."
   ]
  },
  {
   "cell_type": "markdown",
   "id": "9d80f180",
   "metadata": {},
   "source": [
    "In order to create the buckets we decide to create a dictionary that will have the sub_vector as keys and the indexes of the column where they are found as values. These indexes will allow us to substistute the related customer:"
   ]
  },
  {
   "cell_type": "code",
   "execution_count": 85,
   "id": "e1b2a6fd",
   "metadata": {},
   "outputs": [],
   "source": [
    "def create_buckets(b, signature):\n",
    "    \n",
    "    indexes = list(range(signature.shape[1])) #create a list of indexes \n",
    "\n",
    "    signature_matrix_transposed = signature.T #transpose the matrix to get subvectors column\n",
    "\n",
    "    cluster = {} #initialize the dictionary containing as keys the subvector and as values the indexes of the customer\n",
    "\n",
    "    for i in tq(range(0, signature.shape[0], b)):  #iterate over the row with step size equal to bandsize\n",
    "    \n",
    "        #take the subvector of dimension i, i+b (band size) from the column\n",
    "        mini_vectors = signature_matrix_transposed[:, i:i+b] \n",
    "    \n",
    "    # sorts the subvectors associated to the indexes to maintain the relationship with the index of the customers.\n",
    "    # We use a tuple instead of a list because tuples can be hashable and therefore \n",
    "    # usable as keys for dictionaries. Sorting will allow us to have the same subvector as neighbors\n",
    "    \n",
    "        c = [(i, tuple(v)) for v, i in sorted(zip(mini_vectors.tolist(), indexes))]\n",
    "    \n",
    "        curr_vector = c[0][1] #take the subvector from the tuple composed by index and subvector\n",
    "    \n",
    "    #Now we have equal subvector as neighbor, so we can iterate over these groups of equal subvector\n",
    "        for i, v in c:  \n",
    "        \n",
    "            if v not in cluster: #if the subvector is not a key in the cluster --> initialize it \n",
    "            \n",
    "                cluster[v] = []\n",
    "        \n",
    "            if curr_vector != v: #when the iteration go over the group of equal subvector updtate the current vector\n",
    "            \n",
    "                curr_vector = v\n",
    "\n",
    "            cluster[v].append(i) #append as values the indexes where that subvector is found \n",
    "    \n",
    "    return cluster"
   ]
  },
  {
   "cell_type": "markdown",
   "id": "9513e5b2",
   "metadata": {},
   "source": [
    "We can create a dictionary containing the buckets with band size 4:"
   ]
  },
  {
   "cell_type": "code",
   "execution_count": 86,
   "id": "07468cb2",
   "metadata": {},
   "outputs": [
    {
     "name": "stderr",
     "output_type": "stream",
     "text": [
      "100%|█████████████████████████████████████████████| 5/5 [00:26<00:00,  5.34s/it]\n"
     ]
    }
   ],
   "source": [
    "cluster_4 = create_buckets(4, signature_matrix)"
   ]
  },
  {
   "cell_type": "markdown",
   "id": "d6603439",
   "metadata": {},
   "source": [
    "We can see that the keys are the subvector:"
   ]
  },
  {
   "cell_type": "code",
   "execution_count": 87,
   "id": "7b4f09d2",
   "metadata": {},
   "outputs": [
    {
     "name": "stdout",
     "output_type": "stream",
     "text": [
      "[(1, 4, 1, 1), (1, 4, 1, 13), (1, 4, 2, 1), (1, 4, 2, 13), (1, 4, 6, 1)]\n"
     ]
    }
   ],
   "source": [
    "print(list(cluster_4.keys())[:5])"
   ]
  },
  {
   "cell_type": "markdown",
   "id": "376c03ba",
   "metadata": {},
   "source": [
    "And the values are the column index where they've been found:"
   ]
  },
  {
   "cell_type": "code",
   "execution_count": 88,
   "id": "ad023f15",
   "metadata": {},
   "outputs": [
    {
     "data": {
      "text/plain": [
       "[810, 4964, 6058, 7325, 9634]"
      ]
     },
     "execution_count": 88,
     "metadata": {},
     "output_type": "execute_result"
    }
   ],
   "source": [
    "cluster_4[list(cluster_4.keys())[0]][0:5]  #first 5 index referred to the first key of the dictionary:"
   ]
  },
  {
   "cell_type": "markdown",
   "id": "520a5562",
   "metadata": {},
   "source": [
    "Through them we can recover the name of the customers defining a function that substitute the values of each keys with the 'New_ID' value in the dataframe:"
   ]
  },
  {
   "cell_type": "code",
   "execution_count": 89,
   "id": "3b9f0cc5",
   "metadata": {},
   "outputs": [],
   "source": [
    "def substitute_keys(buckets, data):\n",
    "    \n",
    "    for key in list(buckets.keys()):\n",
    "    \n",
    "        buckets[key] = data.loc[buckets[key]]['New_ID'].to_list() #subtitute the indexes with the customers name\n",
    "\n",
    "    return buckets"
   ]
  },
  {
   "cell_type": "code",
   "execution_count": 90,
   "id": "a147d058",
   "metadata": {},
   "outputs": [],
   "source": [
    "cluster_4 = substitute_keys(cluster_4, df)"
   ]
  },
  {
   "cell_type": "markdown",
   "id": "eca7df30",
   "metadata": {},
   "source": [
    "We can see that now the values of each key are the customer name:"
   ]
  },
  {
   "cell_type": "code",
   "execution_count": 91,
   "id": "67934ce2",
   "metadata": {},
   "outputs": [
    {
     "data": {
      "text/plain": [
       "['C1012563M20', 'C1024912M20', 'C1028262M20', 'C1032276M20', 'C1039184M20']"
      ]
     },
     "execution_count": 91,
     "metadata": {},
     "output_type": "execute_result"
    }
   ],
   "source": [
    "cluster_4[list(cluster_4.keys())[0]][0:5]"
   ]
  },
  {
   "cell_type": "markdown",
   "id": "8fcf5dc1",
   "metadata": {},
   "source": [
    "We can now visually check how much similar the customer in a bucket are:"
   ]
  },
  {
   "cell_type": "code",
   "execution_count": 92,
   "id": "04f32080",
   "metadata": {},
   "outputs": [
    {
     "data": {
      "text/html": [
       "<div>\n",
       "<style scoped>\n",
       "    .dataframe tbody tr th:only-of-type {\n",
       "        vertical-align: middle;\n",
       "    }\n",
       "\n",
       "    .dataframe tbody tr th {\n",
       "        vertical-align: top;\n",
       "    }\n",
       "\n",
       "    .dataframe thead th {\n",
       "        text-align: right;\n",
       "    }\n",
       "</style>\n",
       "<table border=\"1\" class=\"dataframe\">\n",
       "  <thead>\n",
       "    <tr style=\"text-align: right;\">\n",
       "      <th></th>\n",
       "      <th>New_ID</th>\n",
       "      <th>CustGender</th>\n",
       "      <th>CustomerClassAge</th>\n",
       "      <th>Richness</th>\n",
       "      <th>Expenditure</th>\n",
       "    </tr>\n",
       "  </thead>\n",
       "  <tbody>\n",
       "    <tr>\n",
       "      <th>810</th>\n",
       "      <td>C1012563M20</td>\n",
       "      <td>M</td>\n",
       "      <td>age_1</td>\n",
       "      <td>richness_4</td>\n",
       "      <td>exp_4</td>\n",
       "    </tr>\n",
       "    <tr>\n",
       "      <th>4964</th>\n",
       "      <td>C1024912M20</td>\n",
       "      <td>M</td>\n",
       "      <td>age_1</td>\n",
       "      <td>richness_4</td>\n",
       "      <td>exp_4</td>\n",
       "    </tr>\n",
       "    <tr>\n",
       "      <th>6058</th>\n",
       "      <td>C1028262M20</td>\n",
       "      <td>M</td>\n",
       "      <td>age_1</td>\n",
       "      <td>richness_4</td>\n",
       "      <td>exp_4</td>\n",
       "    </tr>\n",
       "    <tr>\n",
       "      <th>7325</th>\n",
       "      <td>C1032276M20</td>\n",
       "      <td>M</td>\n",
       "      <td>age_1</td>\n",
       "      <td>richness_4</td>\n",
       "      <td>exp_4</td>\n",
       "    </tr>\n",
       "    <tr>\n",
       "      <th>9634</th>\n",
       "      <td>C1039184M20</td>\n",
       "      <td>M</td>\n",
       "      <td>age_1</td>\n",
       "      <td>richness_4</td>\n",
       "      <td>exp_4</td>\n",
       "    </tr>\n",
       "    <tr>\n",
       "      <th>...</th>\n",
       "      <td>...</td>\n",
       "      <td>...</td>\n",
       "      <td>...</td>\n",
       "      <td>...</td>\n",
       "      <td>...</td>\n",
       "    </tr>\n",
       "    <tr>\n",
       "      <th>1030000</th>\n",
       "      <td>C9033312M20</td>\n",
       "      <td>M</td>\n",
       "      <td>age_1</td>\n",
       "      <td>richness_4</td>\n",
       "      <td>exp_4</td>\n",
       "    </tr>\n",
       "    <tr>\n",
       "      <th>1030481</th>\n",
       "      <td>C9034785M18</td>\n",
       "      <td>M</td>\n",
       "      <td>age_1</td>\n",
       "      <td>richness_4</td>\n",
       "      <td>exp_4</td>\n",
       "    </tr>\n",
       "    <tr>\n",
       "      <th>1030514</th>\n",
       "      <td>C9034858M20</td>\n",
       "      <td>M</td>\n",
       "      <td>age_1</td>\n",
       "      <td>richness_4</td>\n",
       "      <td>exp_4</td>\n",
       "    </tr>\n",
       "    <tr>\n",
       "      <th>1031887</th>\n",
       "      <td>C9039191M20</td>\n",
       "      <td>M</td>\n",
       "      <td>age_1</td>\n",
       "      <td>richness_4</td>\n",
       "      <td>exp_4</td>\n",
       "    </tr>\n",
       "    <tr>\n",
       "      <th>1032678</th>\n",
       "      <td>C9041722M19</td>\n",
       "      <td>M</td>\n",
       "      <td>age_1</td>\n",
       "      <td>richness_4</td>\n",
       "      <td>exp_4</td>\n",
       "    </tr>\n",
       "  </tbody>\n",
       "</table>\n",
       "<p>254 rows × 5 columns</p>\n",
       "</div>"
      ],
      "text/plain": [
       "              New_ID CustGender CustomerClassAge    Richness Expenditure\n",
       "810      C1012563M20          M            age_1  richness_4       exp_4\n",
       "4964     C1024912M20          M            age_1  richness_4       exp_4\n",
       "6058     C1028262M20          M            age_1  richness_4       exp_4\n",
       "7325     C1032276M20          M            age_1  richness_4       exp_4\n",
       "9634     C1039184M20          M            age_1  richness_4       exp_4\n",
       "...              ...        ...              ...         ...         ...\n",
       "1030000  C9033312M20          M            age_1  richness_4       exp_4\n",
       "1030481  C9034785M18          M            age_1  richness_4       exp_4\n",
       "1030514  C9034858M20          M            age_1  richness_4       exp_4\n",
       "1031887  C9039191M20          M            age_1  richness_4       exp_4\n",
       "1032678  C9041722M19          M            age_1  richness_4       exp_4\n",
       "\n",
       "[254 rows x 5 columns]"
      ]
     },
     "execution_count": 92,
     "metadata": {},
     "output_type": "execute_result"
    }
   ],
   "source": [
    "df[df['New_ID'].isin(cluster_4[list(cluster_4.keys())[0]])] "
   ]
  },
  {
   "cell_type": "markdown",
   "id": "807c3071",
   "metadata": {},
   "source": [
    "And the number of bucket that we have: "
   ]
  },
  {
   "cell_type": "code",
   "execution_count": 93,
   "id": "e7d33636",
   "metadata": {},
   "outputs": [
    {
     "data": {
      "text/plain": [
       "4798"
      ]
     },
     "execution_count": 93,
     "metadata": {},
     "output_type": "execute_result"
    }
   ],
   "source": [
    "len(cluster_4)"
   ]
  },
  {
   "cell_type": "markdown",
   "id": "4d85dcc9",
   "metadata": {},
   "source": [
    "We can now visually check what happen for $\\textbf{band size = 2}$:"
   ]
  },
  {
   "cell_type": "code",
   "execution_count": 94,
   "id": "31adc967",
   "metadata": {},
   "outputs": [
    {
     "name": "stderr",
     "output_type": "stream",
     "text": [
      "100%|███████████████████████████████████████████| 10/10 [01:10<00:00,  7.08s/it]\n"
     ]
    },
    {
     "name": "stdout",
     "output_type": "stream",
     "text": [
      "The number of buckets is  599\n"
     ]
    },
    {
     "data": {
      "text/html": [
       "<div>\n",
       "<style scoped>\n",
       "    .dataframe tbody tr th:only-of-type {\n",
       "        vertical-align: middle;\n",
       "    }\n",
       "\n",
       "    .dataframe tbody tr th {\n",
       "        vertical-align: top;\n",
       "    }\n",
       "\n",
       "    .dataframe thead th {\n",
       "        text-align: right;\n",
       "    }\n",
       "</style>\n",
       "<table border=\"1\" class=\"dataframe\">\n",
       "  <thead>\n",
       "    <tr style=\"text-align: right;\">\n",
       "      <th></th>\n",
       "      <th>New_ID</th>\n",
       "      <th>CustGender</th>\n",
       "      <th>CustomerClassAge</th>\n",
       "      <th>Richness</th>\n",
       "      <th>Expenditure</th>\n",
       "    </tr>\n",
       "  </thead>\n",
       "  <tbody>\n",
       "    <tr>\n",
       "      <th>5</th>\n",
       "      <td>C1010018F26</td>\n",
       "      <td>F</td>\n",
       "      <td>age_3</td>\n",
       "      <td>richness_1</td>\n",
       "      <td>exp_1</td>\n",
       "    </tr>\n",
       "    <tr>\n",
       "      <th>7</th>\n",
       "      <td>C1010028F28</td>\n",
       "      <td>F</td>\n",
       "      <td>age_3</td>\n",
       "      <td>richness_10</td>\n",
       "      <td>exp_6</td>\n",
       "    </tr>\n",
       "    <tr>\n",
       "      <th>10</th>\n",
       "      <td>C1010035M24</td>\n",
       "      <td>M</td>\n",
       "      <td>age_2</td>\n",
       "      <td>richness_4</td>\n",
       "      <td>exp_1</td>\n",
       "    </tr>\n",
       "    <tr>\n",
       "      <th>19</th>\n",
       "      <td>C1010045M29</td>\n",
       "      <td>M</td>\n",
       "      <td>age_3</td>\n",
       "      <td>richness_4</td>\n",
       "      <td>exp_4</td>\n",
       "    </tr>\n",
       "    <tr>\n",
       "      <th>55</th>\n",
       "      <td>C1010157M24</td>\n",
       "      <td>M</td>\n",
       "      <td>age_2</td>\n",
       "      <td>richness_4</td>\n",
       "      <td>exp_1</td>\n",
       "    </tr>\n",
       "    <tr>\n",
       "      <th>...</th>\n",
       "      <td>...</td>\n",
       "      <td>...</td>\n",
       "      <td>...</td>\n",
       "      <td>...</td>\n",
       "      <td>...</td>\n",
       "    </tr>\n",
       "    <tr>\n",
       "      <th>1034926</th>\n",
       "      <td>C9099142M46</td>\n",
       "      <td>M</td>\n",
       "      <td>age_7</td>\n",
       "      <td>richness_4</td>\n",
       "      <td>exp_9</td>\n",
       "    </tr>\n",
       "    <tr>\n",
       "      <th>1034930</th>\n",
       "      <td>C9099183M25</td>\n",
       "      <td>M</td>\n",
       "      <td>age_2</td>\n",
       "      <td>richness_4</td>\n",
       "      <td>exp_1</td>\n",
       "    </tr>\n",
       "    <tr>\n",
       "      <th>1034943</th>\n",
       "      <td>C9099740M24</td>\n",
       "      <td>M</td>\n",
       "      <td>age_2</td>\n",
       "      <td>richness_4</td>\n",
       "      <td>exp_6</td>\n",
       "    </tr>\n",
       "    <tr>\n",
       "      <th>1034946</th>\n",
       "      <td>C9099832M32</td>\n",
       "      <td>M</td>\n",
       "      <td>age_4</td>\n",
       "      <td>richness_4</td>\n",
       "      <td>exp_6</td>\n",
       "    </tr>\n",
       "    <tr>\n",
       "      <th>1034951</th>\n",
       "      <td>C9099956M34</td>\n",
       "      <td>M</td>\n",
       "      <td>age_4</td>\n",
       "      <td>richness_4</td>\n",
       "      <td>exp_7</td>\n",
       "    </tr>\n",
       "  </tbody>\n",
       "</table>\n",
       "<p>91990 rows × 5 columns</p>\n",
       "</div>"
      ],
      "text/plain": [
       "              New_ID CustGender CustomerClassAge     Richness Expenditure\n",
       "5        C1010018F26          F            age_3   richness_1       exp_1\n",
       "7        C1010028F28          F            age_3  richness_10       exp_6\n",
       "10       C1010035M24          M            age_2   richness_4       exp_1\n",
       "19       C1010045M29          M            age_3   richness_4       exp_4\n",
       "55       C1010157M24          M            age_2   richness_4       exp_1\n",
       "...              ...        ...              ...          ...         ...\n",
       "1034926  C9099142M46          M            age_7   richness_4       exp_9\n",
       "1034930  C9099183M25          M            age_2   richness_4       exp_1\n",
       "1034943  C9099740M24          M            age_2   richness_4       exp_6\n",
       "1034946  C9099832M32          M            age_4   richness_4       exp_6\n",
       "1034951  C9099956M34          M            age_4   richness_4       exp_7\n",
       "\n",
       "[91990 rows x 5 columns]"
      ]
     },
     "execution_count": 94,
     "metadata": {},
     "output_type": "execute_result"
    }
   ],
   "source": [
    "cluster_2 = create_buckets(2, signature_matrix) #create buckets with band size 2\n",
    "\n",
    "cluster_2 = substitute_keys(cluster_2, df) #substitute index with customer names\n",
    "\n",
    "print('The number of buckets is ', len(cluster_2))\n",
    "\n",
    "df[df['New_ID'].isin(cluster_2[list(cluster_2.keys())[0]])] #show the member of a bucket as example"
   ]
  },
  {
   "cell_type": "markdown",
   "id": "f2c0c556",
   "metadata": {},
   "source": [
    "Decreasing the size of the bands the number of buckets decrease cause are grouped togheter customer that have different values in some fields."
   ]
  },
  {
   "cell_type": "markdown",
   "id": "0dfc5932",
   "metadata": {},
   "source": [
    "Checking what happen with $\\textbf{band size = 5}$:"
   ]
  },
  {
   "cell_type": "code",
   "execution_count": 95,
   "id": "e33a0ed4",
   "metadata": {},
   "outputs": [
    {
     "name": "stderr",
     "output_type": "stream",
     "text": [
      "100%|█████████████████████████████████████████████| 4/4 [00:41<00:00, 10.34s/it]\n"
     ]
    },
    {
     "name": "stdout",
     "output_type": "stream",
     "text": [
      "The number of buckets is  6110\n"
     ]
    },
    {
     "data": {
      "text/html": [
       "<div>\n",
       "<style scoped>\n",
       "    .dataframe tbody tr th:only-of-type {\n",
       "        vertical-align: middle;\n",
       "    }\n",
       "\n",
       "    .dataframe tbody tr th {\n",
       "        vertical-align: top;\n",
       "    }\n",
       "\n",
       "    .dataframe thead th {\n",
       "        text-align: right;\n",
       "    }\n",
       "</style>\n",
       "<table border=\"1\" class=\"dataframe\">\n",
       "  <thead>\n",
       "    <tr style=\"text-align: right;\">\n",
       "      <th></th>\n",
       "      <th>New_ID</th>\n",
       "      <th>CustGender</th>\n",
       "      <th>CustomerClassAge</th>\n",
       "      <th>Richness</th>\n",
       "      <th>Expenditure</th>\n",
       "    </tr>\n",
       "  </thead>\n",
       "  <tbody>\n",
       "    <tr>\n",
       "      <th>810</th>\n",
       "      <td>C1012563M20</td>\n",
       "      <td>M</td>\n",
       "      <td>age_1</td>\n",
       "      <td>richness_4</td>\n",
       "      <td>exp_4</td>\n",
       "    </tr>\n",
       "    <tr>\n",
       "      <th>4964</th>\n",
       "      <td>C1024912M20</td>\n",
       "      <td>M</td>\n",
       "      <td>age_1</td>\n",
       "      <td>richness_4</td>\n",
       "      <td>exp_4</td>\n",
       "    </tr>\n",
       "    <tr>\n",
       "      <th>6058</th>\n",
       "      <td>C1028262M20</td>\n",
       "      <td>M</td>\n",
       "      <td>age_1</td>\n",
       "      <td>richness_4</td>\n",
       "      <td>exp_4</td>\n",
       "    </tr>\n",
       "    <tr>\n",
       "      <th>7325</th>\n",
       "      <td>C1032276M20</td>\n",
       "      <td>M</td>\n",
       "      <td>age_1</td>\n",
       "      <td>richness_4</td>\n",
       "      <td>exp_4</td>\n",
       "    </tr>\n",
       "    <tr>\n",
       "      <th>9634</th>\n",
       "      <td>C1039184M20</td>\n",
       "      <td>M</td>\n",
       "      <td>age_1</td>\n",
       "      <td>richness_4</td>\n",
       "      <td>exp_4</td>\n",
       "    </tr>\n",
       "    <tr>\n",
       "      <th>...</th>\n",
       "      <td>...</td>\n",
       "      <td>...</td>\n",
       "      <td>...</td>\n",
       "      <td>...</td>\n",
       "      <td>...</td>\n",
       "    </tr>\n",
       "    <tr>\n",
       "      <th>1030000</th>\n",
       "      <td>C9033312M20</td>\n",
       "      <td>M</td>\n",
       "      <td>age_1</td>\n",
       "      <td>richness_4</td>\n",
       "      <td>exp_4</td>\n",
       "    </tr>\n",
       "    <tr>\n",
       "      <th>1030481</th>\n",
       "      <td>C9034785M18</td>\n",
       "      <td>M</td>\n",
       "      <td>age_1</td>\n",
       "      <td>richness_4</td>\n",
       "      <td>exp_4</td>\n",
       "    </tr>\n",
       "    <tr>\n",
       "      <th>1030514</th>\n",
       "      <td>C9034858M20</td>\n",
       "      <td>M</td>\n",
       "      <td>age_1</td>\n",
       "      <td>richness_4</td>\n",
       "      <td>exp_4</td>\n",
       "    </tr>\n",
       "    <tr>\n",
       "      <th>1031887</th>\n",
       "      <td>C9039191M20</td>\n",
       "      <td>M</td>\n",
       "      <td>age_1</td>\n",
       "      <td>richness_4</td>\n",
       "      <td>exp_4</td>\n",
       "    </tr>\n",
       "    <tr>\n",
       "      <th>1032678</th>\n",
       "      <td>C9041722M19</td>\n",
       "      <td>M</td>\n",
       "      <td>age_1</td>\n",
       "      <td>richness_4</td>\n",
       "      <td>exp_4</td>\n",
       "    </tr>\n",
       "  </tbody>\n",
       "</table>\n",
       "<p>254 rows × 5 columns</p>\n",
       "</div>"
      ],
      "text/plain": [
       "              New_ID CustGender CustomerClassAge    Richness Expenditure\n",
       "810      C1012563M20          M            age_1  richness_4       exp_4\n",
       "4964     C1024912M20          M            age_1  richness_4       exp_4\n",
       "6058     C1028262M20          M            age_1  richness_4       exp_4\n",
       "7325     C1032276M20          M            age_1  richness_4       exp_4\n",
       "9634     C1039184M20          M            age_1  richness_4       exp_4\n",
       "...              ...        ...              ...         ...         ...\n",
       "1030000  C9033312M20          M            age_1  richness_4       exp_4\n",
       "1030481  C9034785M18          M            age_1  richness_4       exp_4\n",
       "1030514  C9034858M20          M            age_1  richness_4       exp_4\n",
       "1031887  C9039191M20          M            age_1  richness_4       exp_4\n",
       "1032678  C9041722M19          M            age_1  richness_4       exp_4\n",
       "\n",
       "[254 rows x 5 columns]"
      ]
     },
     "execution_count": 95,
     "metadata": {},
     "output_type": "execute_result"
    }
   ],
   "source": [
    "cluster_5 = create_buckets(5, signature_matrix) #create buckets with band size 2\n",
    "\n",
    "cluster_5 = substitute_keys(cluster_5, df) #substitute index with customer names\n",
    "\n",
    "print('The number of buckets is ', len(cluster_5))\n",
    "\n",
    "df[df['New_ID'].isin(cluster_5[list(cluster_5.keys())[0]])] "
   ]
  },
  {
   "cell_type": "markdown",
   "id": "16989f38",
   "metadata": {},
   "source": [
    "There is a larger number of bucket (so a less number of customer per bucket) and the customers have all the same values in the different fields.  \n",
    "\n",
    "So, the choice of the band size $depends$ on how much similar customer do you want in your bucket. Supposing our request is not too restrictive we can choose $\\textbf{4 as band size}$ to execute the query for the next point. "
   ]
  },
  {
   "cell_type": "markdown",
   "id": "addaa88b",
   "metadata": {},
   "source": [
    "# 1.3 Locality Sensitive Hashing\n",
    "\n",
    "Now that you prepared your algorithm, it's query time!\n",
    "We have prepared some dummy users for you to work with.\n",
    "\n",
    "Download this csv and report the most similar users (comparing them against the dataset provided in Kaggle).\n",
    "Did your hashing method work properly, what scores have you obtained and how long did it take to run? Provide information and analysis about the results"
   ]
  },
  {
   "cell_type": "markdown",
   "id": "cc07dbfc",
   "metadata": {},
   "source": [
    "# 1.3.1 Pre-processing Query dataset"
   ]
  },
  {
   "cell_type": "markdown",
   "id": "315ade6a",
   "metadata": {},
   "source": [
    "First of all we need to pre-process the query dataset in the same way we pre-process the initial Kaggle dataset dividing the procedure in the following steps: \n",
    "\n",
    "    - Create classes through the ages\n",
    "    \n",
    "    - Create classes through the bank amount\n",
    "    \n",
    "    - Create classes through the transaction amount\n",
    "    \n",
    "    - Create a name for the customers"
   ]
  },
  {
   "cell_type": "code",
   "execution_count": 146,
   "id": "177961ed",
   "metadata": {},
   "outputs": [],
   "source": [
    "query = pd.read_csv(\"/Users/giacomo/Desktop/ADM_HW4/query_users.csv\")"
   ]
  },
  {
   "cell_type": "code",
   "execution_count": 147,
   "id": "8ff96075",
   "metadata": {},
   "outputs": [
    {
     "data": {
      "text/html": [
       "<div>\n",
       "<style scoped>\n",
       "    .dataframe tbody tr th:only-of-type {\n",
       "        vertical-align: middle;\n",
       "    }\n",
       "\n",
       "    .dataframe tbody tr th {\n",
       "        vertical-align: top;\n",
       "    }\n",
       "\n",
       "    .dataframe thead th {\n",
       "        text-align: right;\n",
       "    }\n",
       "</style>\n",
       "<table border=\"1\" class=\"dataframe\">\n",
       "  <thead>\n",
       "    <tr style=\"text-align: right;\">\n",
       "      <th></th>\n",
       "      <th>CustomerDOB</th>\n",
       "      <th>CustGender</th>\n",
       "      <th>CustLocation</th>\n",
       "      <th>CustAccountBalance</th>\n",
       "      <th>TransactionDate</th>\n",
       "      <th>TransactionTime</th>\n",
       "      <th>TransactionAmount (INR)</th>\n",
       "    </tr>\n",
       "  </thead>\n",
       "  <tbody>\n",
       "    <tr>\n",
       "      <th>0</th>\n",
       "      <td>27/7/78</td>\n",
       "      <td>M</td>\n",
       "      <td>DELHI</td>\n",
       "      <td>94695.61</td>\n",
       "      <td>2/9/16</td>\n",
       "      <td>140310</td>\n",
       "      <td>65.0</td>\n",
       "    </tr>\n",
       "    <tr>\n",
       "      <th>1</th>\n",
       "      <td>6/11/92</td>\n",
       "      <td>M</td>\n",
       "      <td>PANCHKULA</td>\n",
       "      <td>7584.09</td>\n",
       "      <td>2/9/16</td>\n",
       "      <td>120214</td>\n",
       "      <td>6025.0</td>\n",
       "    </tr>\n",
       "    <tr>\n",
       "      <th>2</th>\n",
       "      <td>14/8/91</td>\n",
       "      <td>M</td>\n",
       "      <td>PATNA</td>\n",
       "      <td>7180.60</td>\n",
       "      <td>10/8/16</td>\n",
       "      <td>221732</td>\n",
       "      <td>541.5</td>\n",
       "    </tr>\n",
       "    <tr>\n",
       "      <th>3</th>\n",
       "      <td>3/1/87</td>\n",
       "      <td>M</td>\n",
       "      <td>CHENNAI</td>\n",
       "      <td>56847.75</td>\n",
       "      <td>29/8/16</td>\n",
       "      <td>144138</td>\n",
       "      <td>1000.0</td>\n",
       "    </tr>\n",
       "    <tr>\n",
       "      <th>4</th>\n",
       "      <td>4/1/95</td>\n",
       "      <td>M</td>\n",
       "      <td>GURGAON</td>\n",
       "      <td>84950.13</td>\n",
       "      <td>25/9/16</td>\n",
       "      <td>233309</td>\n",
       "      <td>80.0</td>\n",
       "    </tr>\n",
       "  </tbody>\n",
       "</table>\n",
       "</div>"
      ],
      "text/plain": [
       "  CustomerDOB CustGender CustLocation  CustAccountBalance TransactionDate  \\\n",
       "0     27/7/78          M        DELHI            94695.61          2/9/16   \n",
       "1     6/11/92          M    PANCHKULA             7584.09          2/9/16   \n",
       "2     14/8/91          M        PATNA             7180.60         10/8/16   \n",
       "3      3/1/87          M      CHENNAI            56847.75         29/8/16   \n",
       "4      4/1/95          M      GURGAON            84950.13         25/9/16   \n",
       "\n",
       "   TransactionTime  TransactionAmount (INR)  \n",
       "0           140310                     65.0  \n",
       "1           120214                   6025.0  \n",
       "2           221732                    541.5  \n",
       "3           144138                   1000.0  \n",
       "4           233309                     80.0  "
      ]
     },
     "execution_count": 147,
     "metadata": {},
     "output_type": "execute_result"
    }
   ],
   "source": [
    "query.head()"
   ]
  },
  {
   "cell_type": "code",
   "execution_count": 148,
   "id": "812535b3",
   "metadata": {},
   "outputs": [],
   "source": [
    "del query['CustLocation'], query['TransactionTime'] #Delete the data that we don't need "
   ]
  },
  {
   "cell_type": "markdown",
   "id": "7b864938",
   "metadata": {},
   "source": [
    "First of all we convert them into class of age, richness and expenditure."
   ]
  },
  {
   "cell_type": "markdown",
   "id": "8ebca7cf",
   "metadata": {},
   "source": [
    "### Customer Class Age\n",
    "\n",
    "Starting with the age, we used the same procedure of point 1.1:"
   ]
  },
  {
   "cell_type": "code",
   "execution_count": 149,
   "id": "7153e938",
   "metadata": {},
   "outputs": [],
   "source": [
    "#In order to calculate the ages we need to transform into datetime birthday and year of the transactions\n",
    "\n",
    "query['CustomerDOB'] = pd.to_datetime(query['CustomerDOB']) \n",
    "\n",
    "query['TransactionDate'] = pd.to_datetime(query['TransactionDate'])\n",
    "\n",
    "query['CustomerAge'] = 0 #initialize with values zero the ages\n",
    "\n",
    "#give an age only to queries that have a different YOB from 1800\n",
    "query.loc[query['CustomerDOB'].dt.year != 1800, 'CustomerAge'] = query.loc[query['CustomerDOB'].dt.year != 1800, 'TransactionDate'].dt.year - query.loc[query['CustomerDOB'].dt.year != 1800, 'CustomerDOB'].dt.year "
   ]
  },
  {
   "cell_type": "code",
   "execution_count": 150,
   "id": "4217a4b4",
   "metadata": {},
   "outputs": [
    {
     "data": {
      "text/html": [
       "<div>\n",
       "<style scoped>\n",
       "    .dataframe tbody tr th:only-of-type {\n",
       "        vertical-align: middle;\n",
       "    }\n",
       "\n",
       "    .dataframe tbody tr th {\n",
       "        vertical-align: top;\n",
       "    }\n",
       "\n",
       "    .dataframe thead th {\n",
       "        text-align: right;\n",
       "    }\n",
       "</style>\n",
       "<table border=\"1\" class=\"dataframe\">\n",
       "  <thead>\n",
       "    <tr style=\"text-align: right;\">\n",
       "      <th></th>\n",
       "      <th>CustomerDOB</th>\n",
       "      <th>CustGender</th>\n",
       "      <th>CustAccountBalance</th>\n",
       "      <th>TransactionDate</th>\n",
       "      <th>TransactionAmount (INR)</th>\n",
       "      <th>CustomerAge</th>\n",
       "    </tr>\n",
       "  </thead>\n",
       "  <tbody>\n",
       "    <tr>\n",
       "      <th>0</th>\n",
       "      <td>1978-07-27</td>\n",
       "      <td>M</td>\n",
       "      <td>94695.61</td>\n",
       "      <td>2016-02-09</td>\n",
       "      <td>65.0</td>\n",
       "      <td>38</td>\n",
       "    </tr>\n",
       "    <tr>\n",
       "      <th>1</th>\n",
       "      <td>1992-06-11</td>\n",
       "      <td>M</td>\n",
       "      <td>7584.09</td>\n",
       "      <td>2016-02-09</td>\n",
       "      <td>6025.0</td>\n",
       "      <td>24</td>\n",
       "    </tr>\n",
       "    <tr>\n",
       "      <th>2</th>\n",
       "      <td>1991-08-14</td>\n",
       "      <td>M</td>\n",
       "      <td>7180.60</td>\n",
       "      <td>2016-10-08</td>\n",
       "      <td>541.5</td>\n",
       "      <td>25</td>\n",
       "    </tr>\n",
       "    <tr>\n",
       "      <th>3</th>\n",
       "      <td>1987-03-01</td>\n",
       "      <td>M</td>\n",
       "      <td>56847.75</td>\n",
       "      <td>2016-08-29</td>\n",
       "      <td>1000.0</td>\n",
       "      <td>29</td>\n",
       "    </tr>\n",
       "    <tr>\n",
       "      <th>4</th>\n",
       "      <td>1995-04-01</td>\n",
       "      <td>M</td>\n",
       "      <td>84950.13</td>\n",
       "      <td>2016-09-25</td>\n",
       "      <td>80.0</td>\n",
       "      <td>21</td>\n",
       "    </tr>\n",
       "  </tbody>\n",
       "</table>\n",
       "</div>"
      ],
      "text/plain": [
       "  CustomerDOB CustGender  CustAccountBalance TransactionDate  \\\n",
       "0  1978-07-27          M            94695.61      2016-02-09   \n",
       "1  1992-06-11          M             7584.09      2016-02-09   \n",
       "2  1991-08-14          M             7180.60      2016-10-08   \n",
       "3  1987-03-01          M            56847.75      2016-08-29   \n",
       "4  1995-04-01          M            84950.13      2016-09-25   \n",
       "\n",
       "   TransactionAmount (INR)  CustomerAge  \n",
       "0                     65.0           38  \n",
       "1                   6025.0           24  \n",
       "2                    541.5           25  \n",
       "3                   1000.0           29  \n",
       "4                     80.0           21  "
      ]
     },
     "execution_count": 150,
     "metadata": {},
     "output_type": "execute_result"
    }
   ],
   "source": [
    "query.head(5)"
   ]
  },
  {
   "cell_type": "code",
   "execution_count": 151,
   "id": "f3c1caf0",
   "metadata": {},
   "outputs": [],
   "source": [
    "del query['TransactionDate'], query['CustomerDOB'] #deleting the data that we don't need"
   ]
  },
  {
   "cell_type": "markdown",
   "id": "b2b9bc70",
   "metadata": {},
   "source": [
    "We $\\textit{binned the ages}$ into the same classes of point 1.1, using the function $\"\\textbf{age}\"$: "
   ]
  },
  {
   "cell_type": "code",
   "execution_count": 152,
   "id": "eb97a388",
   "metadata": {},
   "outputs": [],
   "source": [
    "bins = np.array(list(range(16, 102, 5)))  #bins\n",
    "\n",
    "query['CustomerClassAge'] = query.CustomerAge.apply(lambda x: age(x)) #build a new column called class age"
   ]
  },
  {
   "cell_type": "code",
   "execution_count": 153,
   "id": "b83d7646",
   "metadata": {},
   "outputs": [],
   "source": [
    "del query['CustomerAge'] #deleting the column with the ages"
   ]
  },
  {
   "cell_type": "code",
   "execution_count": 154,
   "id": "6a9af51a",
   "metadata": {},
   "outputs": [
    {
     "data": {
      "text/html": [
       "<div>\n",
       "<style scoped>\n",
       "    .dataframe tbody tr th:only-of-type {\n",
       "        vertical-align: middle;\n",
       "    }\n",
       "\n",
       "    .dataframe tbody tr th {\n",
       "        vertical-align: top;\n",
       "    }\n",
       "\n",
       "    .dataframe thead th {\n",
       "        text-align: right;\n",
       "    }\n",
       "</style>\n",
       "<table border=\"1\" class=\"dataframe\">\n",
       "  <thead>\n",
       "    <tr style=\"text-align: right;\">\n",
       "      <th></th>\n",
       "      <th>CustGender</th>\n",
       "      <th>CustAccountBalance</th>\n",
       "      <th>TransactionAmount (INR)</th>\n",
       "      <th>CustomerClassAge</th>\n",
       "    </tr>\n",
       "  </thead>\n",
       "  <tbody>\n",
       "    <tr>\n",
       "      <th>0</th>\n",
       "      <td>M</td>\n",
       "      <td>94695.61</td>\n",
       "      <td>65.0</td>\n",
       "      <td>age_5</td>\n",
       "    </tr>\n",
       "    <tr>\n",
       "      <th>1</th>\n",
       "      <td>M</td>\n",
       "      <td>7584.09</td>\n",
       "      <td>6025.0</td>\n",
       "      <td>age_2</td>\n",
       "    </tr>\n",
       "    <tr>\n",
       "      <th>2</th>\n",
       "      <td>M</td>\n",
       "      <td>7180.60</td>\n",
       "      <td>541.5</td>\n",
       "      <td>age_2</td>\n",
       "    </tr>\n",
       "    <tr>\n",
       "      <th>3</th>\n",
       "      <td>M</td>\n",
       "      <td>56847.75</td>\n",
       "      <td>1000.0</td>\n",
       "      <td>age_3</td>\n",
       "    </tr>\n",
       "    <tr>\n",
       "      <th>4</th>\n",
       "      <td>M</td>\n",
       "      <td>84950.13</td>\n",
       "      <td>80.0</td>\n",
       "      <td>age_2</td>\n",
       "    </tr>\n",
       "  </tbody>\n",
       "</table>\n",
       "</div>"
      ],
      "text/plain": [
       "  CustGender  CustAccountBalance  TransactionAmount (INR) CustomerClassAge\n",
       "0          M            94695.61                     65.0            age_5\n",
       "1          M             7584.09                   6025.0            age_2\n",
       "2          M             7180.60                    541.5            age_2\n",
       "3          M            56847.75                   1000.0            age_3\n",
       "4          M            84950.13                     80.0            age_2"
      ]
     },
     "execution_count": 154,
     "metadata": {},
     "output_type": "execute_result"
    }
   ],
   "source": [
    "query.head()"
   ]
  },
  {
   "cell_type": "markdown",
   "id": "ca6448eb",
   "metadata": {},
   "source": [
    "### Richness"
   ]
  },
  {
   "cell_type": "markdown",
   "id": "793feafb",
   "metadata": {},
   "source": [
    "In this case we cannot use the quantiles function 'qcut' to divide into bins the account balance of the customer cause it will be a different results from the classes of the point 1.1. For this reason we used the bins that we saved in point 1.1 and the $\\textit{function pd.cut}$ that binned the values with the bins we insert labelling them with the names of the classes. "
   ]
  },
  {
   "cell_type": "code",
   "execution_count": 155,
   "id": "7e0ef813",
   "metadata": {},
   "outputs": [],
   "source": [
    "bin_labels = ['richness_0', 'richness_1', 'richness_2', 'richness_3', 'richness_4', 'richness_5', 'richness_6', 'richness_7', 'richness_8', 'richness_9', 'richness_10']"
   ]
  },
  {
   "cell_type": "markdown",
   "id": "b5d24295",
   "metadata": {},
   "source": [
    "We recalled from memory the bins of the classes of richness:"
   ]
  },
  {
   "cell_type": "code",
   "execution_count": 156,
   "id": "bed58616",
   "metadata": {},
   "outputs": [],
   "source": [
    "%store -r query_bins_richness  "
   ]
  },
  {
   "cell_type": "code",
   "execution_count": 157,
   "id": "f6e83732",
   "metadata": {},
   "outputs": [],
   "source": [
    "#create the column with the classes of richness:\n",
    "\n",
    "query['Richness'] = pd.cut(query.CustAccountBalance, bins = query_bins_richness, labels=bin_labels, right=False)"
   ]
  },
  {
   "cell_type": "code",
   "execution_count": 158,
   "id": "03009d76",
   "metadata": {},
   "outputs": [],
   "source": [
    "del query['CustAccountBalance'] #deleting the column that we don't need"
   ]
  },
  {
   "cell_type": "code",
   "execution_count": 159,
   "id": "e69fbf0d",
   "metadata": {},
   "outputs": [
    {
     "data": {
      "text/html": [
       "<div>\n",
       "<style scoped>\n",
       "    .dataframe tbody tr th:only-of-type {\n",
       "        vertical-align: middle;\n",
       "    }\n",
       "\n",
       "    .dataframe tbody tr th {\n",
       "        vertical-align: top;\n",
       "    }\n",
       "\n",
       "    .dataframe thead th {\n",
       "        text-align: right;\n",
       "    }\n",
       "</style>\n",
       "<table border=\"1\" class=\"dataframe\">\n",
       "  <thead>\n",
       "    <tr style=\"text-align: right;\">\n",
       "      <th></th>\n",
       "      <th>CustGender</th>\n",
       "      <th>TransactionAmount (INR)</th>\n",
       "      <th>CustomerClassAge</th>\n",
       "      <th>Richness</th>\n",
       "    </tr>\n",
       "  </thead>\n",
       "  <tbody>\n",
       "    <tr>\n",
       "      <th>0</th>\n",
       "      <td>M</td>\n",
       "      <td>65.0</td>\n",
       "      <td>age_5</td>\n",
       "      <td>richness_9</td>\n",
       "    </tr>\n",
       "    <tr>\n",
       "      <th>1</th>\n",
       "      <td>M</td>\n",
       "      <td>6025.0</td>\n",
       "      <td>age_2</td>\n",
       "      <td>richness_4</td>\n",
       "    </tr>\n",
       "    <tr>\n",
       "      <th>2</th>\n",
       "      <td>M</td>\n",
       "      <td>541.5</td>\n",
       "      <td>age_2</td>\n",
       "      <td>richness_4</td>\n",
       "    </tr>\n",
       "    <tr>\n",
       "      <th>3</th>\n",
       "      <td>M</td>\n",
       "      <td>1000.0</td>\n",
       "      <td>age_3</td>\n",
       "      <td>richness_8</td>\n",
       "    </tr>\n",
       "    <tr>\n",
       "      <th>4</th>\n",
       "      <td>M</td>\n",
       "      <td>80.0</td>\n",
       "      <td>age_2</td>\n",
       "      <td>richness_9</td>\n",
       "    </tr>\n",
       "  </tbody>\n",
       "</table>\n",
       "</div>"
      ],
      "text/plain": [
       "  CustGender  TransactionAmount (INR) CustomerClassAge    Richness\n",
       "0          M                     65.0            age_5  richness_9\n",
       "1          M                   6025.0            age_2  richness_4\n",
       "2          M                    541.5            age_2  richness_4\n",
       "3          M                   1000.0            age_3  richness_8\n",
       "4          M                     80.0            age_2  richness_9"
      ]
     },
     "execution_count": 159,
     "metadata": {},
     "output_type": "execute_result"
    }
   ],
   "source": [
    "query.head() #check the result"
   ]
  },
  {
   "cell_type": "markdown",
   "id": "1a6dc24d",
   "metadata": {},
   "source": [
    "### Expenditure"
   ]
  },
  {
   "cell_type": "markdown",
   "id": "489843d0",
   "metadata": {},
   "source": [
    "We repeated the same procedure of the richness for the expenditure class:"
   ]
  },
  {
   "cell_type": "code",
   "execution_count": 160,
   "id": "7da897f1",
   "metadata": {},
   "outputs": [],
   "source": [
    "%store -r query_bins_expenditure"
   ]
  },
  {
   "cell_type": "code",
   "execution_count": 161,
   "id": "c0e0c515",
   "metadata": {},
   "outputs": [],
   "source": [
    "#create the column expenditure\n",
    "\n",
    "bin_labels = ['exp_1', 'exp_2', 'exp_3', 'exp_4', 'exp_5', 'exp_6', 'exp_7', 'exp_8', 'exp_9', 'exp_10']\n",
    "\n",
    "query['Expenditure'] = pd.cut(query['TransactionAmount (INR)'], bins = query_bins_expenditure, labels=bin_labels, right=False)"
   ]
  },
  {
   "cell_type": "code",
   "execution_count": 162,
   "id": "1e8dc6f2",
   "metadata": {},
   "outputs": [],
   "source": [
    "del query['TransactionAmount (INR)'] #deleting the column that we don't need"
   ]
  },
  {
   "cell_type": "code",
   "execution_count": 163,
   "id": "65ee30ec",
   "metadata": {},
   "outputs": [
    {
     "data": {
      "text/html": [
       "<div>\n",
       "<style scoped>\n",
       "    .dataframe tbody tr th:only-of-type {\n",
       "        vertical-align: middle;\n",
       "    }\n",
       "\n",
       "    .dataframe tbody tr th {\n",
       "        vertical-align: top;\n",
       "    }\n",
       "\n",
       "    .dataframe thead th {\n",
       "        text-align: right;\n",
       "    }\n",
       "</style>\n",
       "<table border=\"1\" class=\"dataframe\">\n",
       "  <thead>\n",
       "    <tr style=\"text-align: right;\">\n",
       "      <th></th>\n",
       "      <th>CustGender</th>\n",
       "      <th>CustomerClassAge</th>\n",
       "      <th>Richness</th>\n",
       "      <th>Expenditure</th>\n",
       "    </tr>\n",
       "  </thead>\n",
       "  <tbody>\n",
       "    <tr>\n",
       "      <th>0</th>\n",
       "      <td>M</td>\n",
       "      <td>age_5</td>\n",
       "      <td>richness_9</td>\n",
       "      <td>exp_2</td>\n",
       "    </tr>\n",
       "    <tr>\n",
       "      <th>1</th>\n",
       "      <td>M</td>\n",
       "      <td>age_2</td>\n",
       "      <td>richness_4</td>\n",
       "      <td>exp_10</td>\n",
       "    </tr>\n",
       "    <tr>\n",
       "      <th>2</th>\n",
       "      <td>M</td>\n",
       "      <td>age_2</td>\n",
       "      <td>richness_4</td>\n",
       "      <td>exp_6</td>\n",
       "    </tr>\n",
       "    <tr>\n",
       "      <th>3</th>\n",
       "      <td>M</td>\n",
       "      <td>age_3</td>\n",
       "      <td>richness_8</td>\n",
       "      <td>exp_8</td>\n",
       "    </tr>\n",
       "    <tr>\n",
       "      <th>4</th>\n",
       "      <td>M</td>\n",
       "      <td>age_2</td>\n",
       "      <td>richness_9</td>\n",
       "      <td>exp_2</td>\n",
       "    </tr>\n",
       "  </tbody>\n",
       "</table>\n",
       "</div>"
      ],
      "text/plain": [
       "  CustGender CustomerClassAge    Richness Expenditure\n",
       "0          M            age_5  richness_9       exp_2\n",
       "1          M            age_2  richness_4      exp_10\n",
       "2          M            age_2  richness_4       exp_6\n",
       "3          M            age_3  richness_8       exp_8\n",
       "4          M            age_2  richness_9       exp_2"
      ]
     },
     "execution_count": 163,
     "metadata": {},
     "output_type": "execute_result"
    }
   ],
   "source": [
    "query.head() #check the result"
   ]
  },
  {
   "cell_type": "markdown",
   "id": "ef245317",
   "metadata": {},
   "source": [
    "### Giving a Name to Query-Customer"
   ]
  },
  {
   "cell_type": "markdown",
   "id": "bd9416c8",
   "metadata": {},
   "source": [
    "The last step that we decided to make is to give a name to this customer -> Query_User_i where i goes from 0 to 49:"
   ]
  },
  {
   "cell_type": "code",
   "execution_count": 164,
   "id": "8e10fdf1",
   "metadata": {
    "scrolled": true
   },
   "outputs": [],
   "source": [
    "#create two column and combine them to create the name:\n",
    "\n",
    "query['sub'] = 'Query_User_' #prefix\n",
    "\n",
    "query['num'] = range(50) #numbers\n",
    "\n",
    "query['New_ID'] = query['sub'] + query['num'].astype(str) #concatenating prefix and number\n",
    "\n",
    "del query['num'], query['sub'] #deleting the prefix and the numbers"
   ]
  },
  {
   "cell_type": "code",
   "execution_count": 165,
   "id": "d4dc19ab",
   "metadata": {},
   "outputs": [],
   "source": [
    "query = query[['New_ID', 'CustGender', 'CustomerClassAge', 'Richness', 'Expenditure']] #reorder the column"
   ]
  },
  {
   "cell_type": "code",
   "execution_count": 166,
   "id": "fc473082",
   "metadata": {},
   "outputs": [
    {
     "data": {
      "text/html": [
       "<div>\n",
       "<style scoped>\n",
       "    .dataframe tbody tr th:only-of-type {\n",
       "        vertical-align: middle;\n",
       "    }\n",
       "\n",
       "    .dataframe tbody tr th {\n",
       "        vertical-align: top;\n",
       "    }\n",
       "\n",
       "    .dataframe thead th {\n",
       "        text-align: right;\n",
       "    }\n",
       "</style>\n",
       "<table border=\"1\" class=\"dataframe\">\n",
       "  <thead>\n",
       "    <tr style=\"text-align: right;\">\n",
       "      <th></th>\n",
       "      <th>New_ID</th>\n",
       "      <th>CustGender</th>\n",
       "      <th>CustomerClassAge</th>\n",
       "      <th>Richness</th>\n",
       "      <th>Expenditure</th>\n",
       "    </tr>\n",
       "  </thead>\n",
       "  <tbody>\n",
       "    <tr>\n",
       "      <th>0</th>\n",
       "      <td>Query_User_0</td>\n",
       "      <td>M</td>\n",
       "      <td>age_5</td>\n",
       "      <td>richness_9</td>\n",
       "      <td>exp_2</td>\n",
       "    </tr>\n",
       "    <tr>\n",
       "      <th>1</th>\n",
       "      <td>Query_User_1</td>\n",
       "      <td>M</td>\n",
       "      <td>age_2</td>\n",
       "      <td>richness_4</td>\n",
       "      <td>exp_10</td>\n",
       "    </tr>\n",
       "    <tr>\n",
       "      <th>2</th>\n",
       "      <td>Query_User_2</td>\n",
       "      <td>M</td>\n",
       "      <td>age_2</td>\n",
       "      <td>richness_4</td>\n",
       "      <td>exp_6</td>\n",
       "    </tr>\n",
       "    <tr>\n",
       "      <th>3</th>\n",
       "      <td>Query_User_3</td>\n",
       "      <td>M</td>\n",
       "      <td>age_3</td>\n",
       "      <td>richness_8</td>\n",
       "      <td>exp_8</td>\n",
       "    </tr>\n",
       "    <tr>\n",
       "      <th>4</th>\n",
       "      <td>Query_User_4</td>\n",
       "      <td>M</td>\n",
       "      <td>age_2</td>\n",
       "      <td>richness_9</td>\n",
       "      <td>exp_2</td>\n",
       "    </tr>\n",
       "  </tbody>\n",
       "</table>\n",
       "</div>"
      ],
      "text/plain": [
       "         New_ID CustGender CustomerClassAge    Richness Expenditure\n",
       "0  Query_User_0          M            age_5  richness_9       exp_2\n",
       "1  Query_User_1          M            age_2  richness_4      exp_10\n",
       "2  Query_User_2          M            age_2  richness_4       exp_6\n",
       "3  Query_User_3          M            age_3  richness_8       exp_8\n",
       "4  Query_User_4          M            age_2  richness_9       exp_2"
      ]
     },
     "execution_count": 166,
     "metadata": {},
     "output_type": "execute_result"
    }
   ],
   "source": [
    "query.head() #cheching the result query dataset"
   ]
  },
  {
   "cell_type": "markdown",
   "id": "d1f30809",
   "metadata": {},
   "source": [
    "# 1.3.2 Execute the query step by step."
   ]
  },
  {
   "cell_type": "markdown",
   "id": "b14afc1c",
   "metadata": {},
   "source": [
    "$\\textbf{Procedure:}$\n",
    "\n",
    "To execute the query and return as output the most similar customer to each query we need to do the same MinHash procedure with the same type of shuffling to the rows. Such that the algorithm to divide into bucket is fast (less than 40 seconds) we decided to concatenate the new shingle matrix (shingle query) to the shingle matrix of the initial dataset and to re-execute the bucket-creation procedure. Then we will create a function that takes as input the the name of the query and gives as output the buckets that contain the most similar users to him. "
   ]
  },
  {
   "cell_type": "markdown",
   "id": "ee754fbb",
   "metadata": {},
   "source": [
    "### Shingle matrix for the query"
   ]
  },
  {
   "cell_type": "markdown",
   "id": "8701d021",
   "metadata": {},
   "source": [
    "First of all we define the shingles:"
   ]
  },
  {
   "cell_type": "code",
   "execution_count": 167,
   "id": "42f98498",
   "metadata": {},
   "outputs": [],
   "source": [
    "shingles = ['F', 'M', 'age_1', 'age_10', 'age_11', 'age_12', 'age_13', 'age_14', 'age_15', 'age_16', 'age_17', 'age_2', 'age_3', 'age_4', 'age_5', 'age_6', 'age_7', 'age_8', 'age_9', 'richness_0', 'richness_1', 'richness_10', 'richness_2', 'richness_3', 'richness_4', 'richness_5', 'richness_6', 'richness_7', 'richness_8', 'richness_9', 'exp_1', 'exp_10', 'exp_2', 'exp_3', 'exp_4', 'exp_5', 'exp_6', 'exp_7', 'exp_8', 'exp_9']"
   ]
  },
  {
   "cell_type": "markdown",
   "id": "fdf4c982",
   "metadata": {},
   "source": [
    "We build the $\\textit{\"shingle query\"}$ using the 'one_hot_vector' function:"
   ]
  },
  {
   "cell_type": "code",
   "execution_count": 168,
   "id": "c36a843b",
   "metadata": {},
   "outputs": [
    {
     "name": "stderr",
     "output_type": "stream",
     "text": [
      "100%|█████████████████████████████████████████| 50/50 [00:00<00:00, 1002.42it/s]\n"
     ]
    }
   ],
   "source": [
    "shingle_query = np.zeros((len(query), 40), dtype = int)\n",
    "\n",
    "for i in tq(range(len(query))):\n",
    "    # Append the one hot vectors as rows\n",
    "    shingle_query[query.index[i]] = one_hot_vector(query, i) \n",
    "\n",
    "# We need to transpose because for the shuffling, the Shingles need to be the rows\n",
    "shingle_query = shingle_query.T"
   ]
  },
  {
   "cell_type": "markdown",
   "id": "9a8f3ce2",
   "metadata": {},
   "source": [
    "An example to see if it worked properly:"
   ]
  },
  {
   "cell_type": "code",
   "execution_count": 169,
   "id": "56773908",
   "metadata": {},
   "outputs": [
    {
     "data": {
      "text/plain": [
       "New_ID              Query_User_1\n",
       "CustGender                     M\n",
       "CustomerClassAge           age_2\n",
       "Richness              richness_4\n",
       "Expenditure               exp_10\n",
       "Name: 1, dtype: object"
      ]
     },
     "execution_count": 169,
     "metadata": {},
     "output_type": "execute_result"
    }
   ],
   "source": [
    "query.loc[1]"
   ]
  },
  {
   "cell_type": "code",
   "execution_count": 170,
   "id": "3b235aa8",
   "metadata": {},
   "outputs": [
    {
     "name": "stdout",
     "output_type": "stream",
     "text": [
      "['F', 'M', 'age_1', 'age_10', 'age_11', 'age_12', 'age_13', 'age_14', 'age_15', 'age_16', 'age_17', 'age_2', 'age_3', 'age_4', 'age_5', 'age_6', 'age_7', 'age_8', 'age_9', 'richness_0', 'richness_1', 'richness_10', 'richness_2', 'richness_3', 'richness_4', 'richness_5', 'richness_6', 'richness_7', 'richness_8', 'richness_9', 'exp_1', 'exp_10', 'exp_2', 'exp_3', 'exp_4', 'exp_5', 'exp_6', 'exp_7', 'exp_8', 'exp_9']\n"
     ]
    }
   ],
   "source": [
    "print(shingles)"
   ]
  },
  {
   "cell_type": "code",
   "execution_count": 171,
   "id": "028cb82d",
   "metadata": {},
   "outputs": [
    {
     "data": {
      "text/plain": [
       "array([0, 1, 0, 0, 0, 0, 0, 0, 0, 0, 0, 1, 0, 0, 0, 0, 0, 0, 0, 0, 0, 0,\n",
       "       0, 0, 1, 0, 0, 0, 0, 0, 0, 1, 0, 0, 0, 0, 0, 0, 0, 0])"
      ]
     },
     "execution_count": 171,
     "metadata": {},
     "output_type": "execute_result"
    }
   ],
   "source": [
    "shingle_query[:, 1]"
   ]
  },
  {
   "cell_type": "markdown",
   "id": "ee242fcd",
   "metadata": {},
   "source": [
    "Then we concatenate the shingle query matrix to the initial shingle matrix: "
   ]
  },
  {
   "cell_type": "code",
   "execution_count": 172,
   "id": "154ee0d7",
   "metadata": {},
   "outputs": [],
   "source": [
    "#recall from memory the shingle_matrix of the initial dataset\n",
    "%store -r shingle_matrix"
   ]
  },
  {
   "cell_type": "code",
   "execution_count": 173,
   "id": "4de4d590",
   "metadata": {},
   "outputs": [],
   "source": [
    "new_shingle_matrix = np.concatenate((shingle_matrix, shingle_query), axis = 1) #concatenate the two matrix"
   ]
  },
  {
   "cell_type": "code",
   "execution_count": 174,
   "id": "cb5d72f5",
   "metadata": {},
   "outputs": [
    {
     "data": {
      "text/plain": [
       "(40, 1035002)"
      ]
     },
     "execution_count": 174,
     "metadata": {},
     "output_type": "execute_result"
    }
   ],
   "source": [
    "new_shingle_matrix.shape"
   ]
  },
  {
   "cell_type": "markdown",
   "id": "6c51525a",
   "metadata": {},
   "source": [
    "### Create the new signature matrix"
   ]
  },
  {
   "cell_type": "markdown",
   "id": "18c77232",
   "metadata": {},
   "source": [
    "Now we can repeat the same MinHash procedure to build the signature matrix: "
   ]
  },
  {
   "cell_type": "code",
   "execution_count": 175,
   "id": "0e364f22",
   "metadata": {},
   "outputs": [
    {
     "name": "stderr",
     "output_type": "stream",
     "text": [
      "100%|███████████████████████████████████████████| 20/20 [00:34<00:00,  1.70s/it]\n"
     ]
    }
   ],
   "source": [
    "n_permutations = 20 #number of permutations = number of rows of the signature matrix\n",
    "\n",
    "new_signature_matrix = np.zeros((20, new_shingle_matrix.shape[1]), dtype = int) #initialize signature matrix\n",
    "\n",
    "for i in tq(range(n_permutations)):\n",
    "    # 1. Shuffle rows\n",
    "    np.random.shuffle(new_shingle_matrix)\n",
    "    \n",
    "    # 2. Create the vector of indeces where the first 1 is found. np.argmax stops at the first occurrence\n",
    "    signature_row = np.argmax(new_shingle_matrix == 1, axis=0) + 1\n",
    "    \n",
    "    # 3. Add to signature matrix\n",
    "    new_signature_matrix[i] = signature_row\n"
   ]
  },
  {
   "cell_type": "markdown",
   "id": "d2f6a18e",
   "metadata": {},
   "source": [
    "To use the \"$\\textit{substitute_keys}$\" function we need to concatenate to the initial dataframe the data related to the query: "
   ]
  },
  {
   "cell_type": "code",
   "execution_count": 176,
   "id": "0467b12b",
   "metadata": {},
   "outputs": [],
   "source": [
    "df = df.append(query, ignore_index = True) #append query dataframe to the initial dataframe"
   ]
  },
  {
   "cell_type": "code",
   "execution_count": 177,
   "id": "331268b6",
   "metadata": {},
   "outputs": [
    {
     "data": {
      "text/html": [
       "<div>\n",
       "<style scoped>\n",
       "    .dataframe tbody tr th:only-of-type {\n",
       "        vertical-align: middle;\n",
       "    }\n",
       "\n",
       "    .dataframe tbody tr th {\n",
       "        vertical-align: top;\n",
       "    }\n",
       "\n",
       "    .dataframe thead th {\n",
       "        text-align: right;\n",
       "    }\n",
       "</style>\n",
       "<table border=\"1\" class=\"dataframe\">\n",
       "  <thead>\n",
       "    <tr style=\"text-align: right;\">\n",
       "      <th></th>\n",
       "      <th>New_ID</th>\n",
       "      <th>CustGender</th>\n",
       "      <th>CustomerClassAge</th>\n",
       "      <th>Richness</th>\n",
       "      <th>Expenditure</th>\n",
       "    </tr>\n",
       "  </thead>\n",
       "  <tbody>\n",
       "    <tr>\n",
       "      <th>0</th>\n",
       "      <td>C1010011F24</td>\n",
       "      <td>F</td>\n",
       "      <td>age_2</td>\n",
       "      <td>richness_7</td>\n",
       "      <td>exp_10</td>\n",
       "    </tr>\n",
       "    <tr>\n",
       "      <th>1</th>\n",
       "      <td>C1010011M33</td>\n",
       "      <td>M</td>\n",
       "      <td>age_4</td>\n",
       "      <td>richness_9</td>\n",
       "      <td>exp_5</td>\n",
       "    </tr>\n",
       "    <tr>\n",
       "      <th>2</th>\n",
       "      <td>C1010012M22</td>\n",
       "      <td>M</td>\n",
       "      <td>age_2</td>\n",
       "      <td>richness_6</td>\n",
       "      <td>exp_8</td>\n",
       "    </tr>\n",
       "    <tr>\n",
       "      <th>3</th>\n",
       "      <td>C1010014F24</td>\n",
       "      <td>F</td>\n",
       "      <td>age_2</td>\n",
       "      <td>richness_7</td>\n",
       "      <td>exp_8</td>\n",
       "    </tr>\n",
       "    <tr>\n",
       "      <th>4</th>\n",
       "      <td>C1010014M32</td>\n",
       "      <td>M</td>\n",
       "      <td>age_4</td>\n",
       "      <td>richness_9</td>\n",
       "      <td>exp_4</td>\n",
       "    </tr>\n",
       "    <tr>\n",
       "      <th>...</th>\n",
       "      <td>...</td>\n",
       "      <td>...</td>\n",
       "      <td>...</td>\n",
       "      <td>...</td>\n",
       "      <td>...</td>\n",
       "    </tr>\n",
       "    <tr>\n",
       "      <th>1034997</th>\n",
       "      <td>Query_User_45</td>\n",
       "      <td>F</td>\n",
       "      <td>age_3</td>\n",
       "      <td>richness_10</td>\n",
       "      <td>exp_4</td>\n",
       "    </tr>\n",
       "    <tr>\n",
       "      <th>1034998</th>\n",
       "      <td>Query_User_46</td>\n",
       "      <td>M</td>\n",
       "      <td>age_6</td>\n",
       "      <td>richness_6</td>\n",
       "      <td>exp_2</td>\n",
       "    </tr>\n",
       "    <tr>\n",
       "      <th>1034999</th>\n",
       "      <td>Query_User_47</td>\n",
       "      <td>M</td>\n",
       "      <td>age_2</td>\n",
       "      <td>richness_10</td>\n",
       "      <td>exp_2</td>\n",
       "    </tr>\n",
       "    <tr>\n",
       "      <th>1035000</th>\n",
       "      <td>Query_User_48</td>\n",
       "      <td>F</td>\n",
       "      <td>age_2</td>\n",
       "      <td>richness_4</td>\n",
       "      <td>exp_8</td>\n",
       "    </tr>\n",
       "    <tr>\n",
       "      <th>1035001</th>\n",
       "      <td>Query_User_49</td>\n",
       "      <td>M</td>\n",
       "      <td>age_3</td>\n",
       "      <td>richness_5</td>\n",
       "      <td>exp_4</td>\n",
       "    </tr>\n",
       "  </tbody>\n",
       "</table>\n",
       "<p>1035002 rows × 5 columns</p>\n",
       "</div>"
      ],
      "text/plain": [
       "                New_ID CustGender CustomerClassAge     Richness Expenditure\n",
       "0          C1010011F24          F            age_2   richness_7      exp_10\n",
       "1          C1010011M33          M            age_4   richness_9       exp_5\n",
       "2          C1010012M22          M            age_2   richness_6       exp_8\n",
       "3          C1010014F24          F            age_2   richness_7       exp_8\n",
       "4          C1010014M32          M            age_4   richness_9       exp_4\n",
       "...                ...        ...              ...          ...         ...\n",
       "1034997  Query_User_45          F            age_3  richness_10       exp_4\n",
       "1034998  Query_User_46          M            age_6   richness_6       exp_2\n",
       "1034999  Query_User_47          M            age_2  richness_10       exp_2\n",
       "1035000  Query_User_48          F            age_2   richness_4       exp_8\n",
       "1035001  Query_User_49          M            age_3   richness_5       exp_4\n",
       "\n",
       "[1035002 rows x 5 columns]"
      ]
     },
     "execution_count": 177,
     "metadata": {},
     "output_type": "execute_result"
    }
   ],
   "source": [
    "df"
   ]
  },
  {
   "cell_type": "markdown",
   "id": "5e391bd5",
   "metadata": {},
   "source": [
    "### Buckets creation"
   ]
  },
  {
   "cell_type": "markdown",
   "id": "719457f2",
   "metadata": {},
   "source": [
    "We choose the band size b and then we can created the dictionary with the buckets:"
   ]
  },
  {
   "cell_type": "code",
   "execution_count": 180,
   "id": "2fa59b80",
   "metadata": {},
   "outputs": [
    {
     "name": "stderr",
     "output_type": "stream",
     "text": [
      "100%|█████████████████████████████████████████████| 5/5 [00:52<00:00, 10.44s/it]\n"
     ]
    },
    {
     "name": "stdout",
     "output_type": "stream",
     "text": [
      "The number of buckets is  4679\n"
     ]
    },
    {
     "data": {
      "text/html": [
       "<div>\n",
       "<style scoped>\n",
       "    .dataframe tbody tr th:only-of-type {\n",
       "        vertical-align: middle;\n",
       "    }\n",
       "\n",
       "    .dataframe tbody tr th {\n",
       "        vertical-align: top;\n",
       "    }\n",
       "\n",
       "    .dataframe thead th {\n",
       "        text-align: right;\n",
       "    }\n",
       "</style>\n",
       "<table border=\"1\" class=\"dataframe\">\n",
       "  <thead>\n",
       "    <tr style=\"text-align: right;\">\n",
       "      <th></th>\n",
       "      <th>New_ID</th>\n",
       "      <th>CustGender</th>\n",
       "      <th>CustomerClassAge</th>\n",
       "      <th>Richness</th>\n",
       "      <th>Expenditure</th>\n",
       "    </tr>\n",
       "  </thead>\n",
       "  <tbody>\n",
       "    <tr>\n",
       "      <th>6913</th>\n",
       "      <td>C1031019M57</td>\n",
       "      <td>M</td>\n",
       "      <td>age_9</td>\n",
       "      <td>richness_7</td>\n",
       "      <td>exp_8</td>\n",
       "    </tr>\n",
       "    <tr>\n",
       "      <th>10075</th>\n",
       "      <td>C1040536F60</td>\n",
       "      <td>F</td>\n",
       "      <td>age_9</td>\n",
       "      <td>richness_7</td>\n",
       "      <td>exp_8</td>\n",
       "    </tr>\n",
       "    <tr>\n",
       "      <th>10638</th>\n",
       "      <td>C1042285F60</td>\n",
       "      <td>F</td>\n",
       "      <td>age_9</td>\n",
       "      <td>richness_7</td>\n",
       "      <td>exp_8</td>\n",
       "    </tr>\n",
       "    <tr>\n",
       "      <th>17829</th>\n",
       "      <td>C1125238M56</td>\n",
       "      <td>M</td>\n",
       "      <td>age_9</td>\n",
       "      <td>richness_7</td>\n",
       "      <td>exp_8</td>\n",
       "    </tr>\n",
       "    <tr>\n",
       "      <th>25721</th>\n",
       "      <td>C1210613F58</td>\n",
       "      <td>F</td>\n",
       "      <td>age_9</td>\n",
       "      <td>richness_7</td>\n",
       "      <td>exp_8</td>\n",
       "    </tr>\n",
       "    <tr>\n",
       "      <th>...</th>\n",
       "      <td>...</td>\n",
       "      <td>...</td>\n",
       "      <td>...</td>\n",
       "      <td>...</td>\n",
       "      <td>...</td>\n",
       "    </tr>\n",
       "    <tr>\n",
       "      <th>987429</th>\n",
       "      <td>C8721514F56</td>\n",
       "      <td>F</td>\n",
       "      <td>age_9</td>\n",
       "      <td>richness_7</td>\n",
       "      <td>exp_8</td>\n",
       "    </tr>\n",
       "    <tr>\n",
       "      <th>1011667</th>\n",
       "      <td>C8917230M57</td>\n",
       "      <td>M</td>\n",
       "      <td>age_9</td>\n",
       "      <td>richness_7</td>\n",
       "      <td>exp_8</td>\n",
       "    </tr>\n",
       "    <tr>\n",
       "      <th>1014438</th>\n",
       "      <td>C8925228M56</td>\n",
       "      <td>M</td>\n",
       "      <td>age_9</td>\n",
       "      <td>richness_7</td>\n",
       "      <td>exp_8</td>\n",
       "    </tr>\n",
       "    <tr>\n",
       "      <th>1024523</th>\n",
       "      <td>C9017164F59</td>\n",
       "      <td>F</td>\n",
       "      <td>age_9</td>\n",
       "      <td>richness_7</td>\n",
       "      <td>exp_8</td>\n",
       "    </tr>\n",
       "    <tr>\n",
       "      <th>1030764</th>\n",
       "      <td>C9035728M60</td>\n",
       "      <td>M</td>\n",
       "      <td>age_9</td>\n",
       "      <td>richness_7</td>\n",
       "      <td>exp_8</td>\n",
       "    </tr>\n",
       "  </tbody>\n",
       "</table>\n",
       "<p>79 rows × 5 columns</p>\n",
       "</div>"
      ],
      "text/plain": [
       "              New_ID CustGender CustomerClassAge    Richness Expenditure\n",
       "6913     C1031019M57          M            age_9  richness_7       exp_8\n",
       "10075    C1040536F60          F            age_9  richness_7       exp_8\n",
       "10638    C1042285F60          F            age_9  richness_7       exp_8\n",
       "17829    C1125238M56          M            age_9  richness_7       exp_8\n",
       "25721    C1210613F58          F            age_9  richness_7       exp_8\n",
       "...              ...        ...              ...         ...         ...\n",
       "987429   C8721514F56          F            age_9  richness_7       exp_8\n",
       "1011667  C8917230M57          M            age_9  richness_7       exp_8\n",
       "1014438  C8925228M56          M            age_9  richness_7       exp_8\n",
       "1024523  C9017164F59          F            age_9  richness_7       exp_8\n",
       "1030764  C9035728M60          M            age_9  richness_7       exp_8\n",
       "\n",
       "[79 rows x 5 columns]"
      ]
     },
     "execution_count": 180,
     "metadata": {},
     "output_type": "execute_result"
    }
   ],
   "source": [
    "cluster_query = create_buckets(4, new_signature_matrix) #create buckets with band size 4\n",
    "\n",
    "cluster_query = substitute_keys(cluster_query, df) #substitute index with customer names\n",
    "\n",
    "print('The number of buckets is ', len(cluster_query))\n",
    "\n",
    "df[df['New_ID'].isin(cluster_query[list(cluster_query.keys())[0]])] #show as example the first group of similar customers"
   ]
  },
  {
   "cell_type": "markdown",
   "id": "981eb7e9",
   "metadata": {},
   "source": [
    "### Search the buckets where the query is included"
   ]
  },
  {
   "cell_type": "markdown",
   "id": "eef91b28",
   "metadata": {},
   "source": [
    "We created a function that takes as $\\textbf{input}$ the name of the query (e.g. $\\textit{Query_user_35}$) and gives as $\\textbf{output}$ the keys of the buckets in which it's contained(e.g. $\\textit{Query_user_35: [(1,1,1,2), (1,3,4,3), ...]}$):"
   ]
  },
  {
   "cell_type": "code",
   "execution_count": 181,
   "id": "6cde5a4b",
   "metadata": {},
   "outputs": [],
   "source": [
    "def search_bucket(name):\n",
    "    \n",
    "    index = [] #initialize the list where will be inserted the keys where the name is found\n",
    "    \n",
    "    keys = list(cluster_query.keys()) #list of keys of the dictionary containing the buckets\n",
    "\n",
    "    values = list(cluster_query.values()) #list of values of the dictionary containing the buckets\n",
    "    \n",
    "    #values is a list of lists where the inner contains the values related to the keys.\n",
    "\n",
    "    for i, v in enumerate(values): # i -> index of the keys, v -> list of values\n",
    "        \n",
    "        if name in v:\n",
    "            \n",
    "            index.append(keys[i]) #append the keys where the name is found using the index\n",
    "            \n",
    "    return index #return the list of keys"
   ]
  },
  {
   "cell_type": "markdown",
   "id": "1b1a6449",
   "metadata": {},
   "source": [
    "Now we decided to create a $\\textbf{dictionary}$ where we store as $keys$ the name of the query customer and as $values$ a list of buckets keys where the query customer is inserted. Through them we can find groups of customer similar to the queries: "
   ]
  },
  {
   "cell_type": "code",
   "execution_count": 183,
   "id": "203f5ed3",
   "metadata": {},
   "outputs": [],
   "source": [
    "# Creation of a dictionary where all the info about the similar users to all the queries all inserted: \n",
    "\n",
    "# Keys   -> Query names (e.g. 'Query_User_2', 'Query_User_41', ...)\n",
    "\n",
    "# Values -> List of keys, i.e. The link to the buckets (e.g. [(9, 4, 8, 12), (21, 20, 19, 10), ...] )\n",
    "\n",
    "query_buckets = {} #initialize query_bucket\n",
    "\n",
    "queries_name = list(df.iloc[-50:]['New_ID']) #list of query customer name\n",
    "\n",
    "for q in queries_name:\n",
    "    \n",
    "    query_buckets[q] = search_bucket(q) #keys = query customer name, values = list of bucket where it's found"
   ]
  },
  {
   "cell_type": "markdown",
   "id": "f30abd34",
   "metadata": {},
   "source": [
    "Example: "
   ]
  },
  {
   "cell_type": "code",
   "execution_count": 186,
   "id": "ee3d9d59",
   "metadata": {},
   "outputs": [
    {
     "name": "stdout",
     "output_type": "stream",
     "text": [
      "[(9, 4, 8, 12), (21, 20, 19, 10), (7, 14, 5, 10), (11, 4, 12, 5), (8, 2, 9, 9)]\n"
     ]
    }
   ],
   "source": [
    "print(query_buckets['Query_User_32'])"
   ]
  },
  {
   "cell_type": "markdown",
   "id": "00db899d",
   "metadata": {},
   "source": [
    "The work is done! "
   ]
  },
  {
   "cell_type": "markdown",
   "id": "051725c5",
   "metadata": {},
   "source": [
    "### Find the similar customers gived the query_name"
   ]
  },
  {
   "cell_type": "markdown",
   "id": "d92c908d",
   "metadata": {},
   "source": [
    "We decided to create a function $\\textit{similar_to_query}$ that takes as $\\textbf{input}$ the name of the query (e.g. $\\textit{Query_User_43})$ and gives as $\\textbf{output}$ the components of all the different $\\textit{clusters}$ where this users is inserted. In the follow lines we can see an example on how it works:"
   ]
  },
  {
   "cell_type": "code",
   "execution_count": 187,
   "id": "d5ff0818",
   "metadata": {},
   "outputs": [],
   "source": [
    "def similar_to_query(query_name):\n",
    "    \n",
    "    keys = query_buckets[query_name] #list of bucket keys of where the name is found\n",
    "    \n",
    "    similar_customers = {}  #initialize a dict: keys = name of the group, values = similar customer to the query\n",
    "    \n",
    "    for i,k in enumerate(keys):\n",
    "        \n",
    "        similar_customers['Group_' + str(i)] = cluster_query[k] #build the dictionary\n",
    "       \n",
    "    return similar_customers"
   ]
  },
  {
   "cell_type": "code",
   "execution_count": 190,
   "id": "2812c5a8",
   "metadata": {},
   "outputs": [],
   "source": [
    "similar_to_34 = similar_to_query('Query_User_34')"
   ]
  },
  {
   "cell_type": "code",
   "execution_count": 191,
   "id": "aa877c4b",
   "metadata": {},
   "outputs": [
    {
     "name": "stdout",
     "output_type": "stream",
     "text": [
      "{'Group_0': ['Query_User_34'], 'Group_1': ['C1010122F28', 'C1010712F27', 'C1010876F30', 'C1010921F28', 'C1011387F30', 'C1011643F26', 'C1012035F30', 'C1012774F26', 'C1012838F30', 'C1012847F30', 'C1012872F30', 'C1012956F27', 'C1013092F28', 'C1013175F27', 'C1014278F26', 'C1014534F28', 'C1015449F26', 'C1015749F27', 'C1015918F28', 'C1015983F30', 'C1016525F27', 'C1016525F29', 'C1017071F26', 'C1017289F28', 'C1017847F26', 'C1018037F30', 'C1018361F30', 'C1018649F29', 'C1019220F27', 'C1019711F29', 'C1019750F26', 'C1019980F29', 'C1020227F28', 'C1020261F30', 'C1020821F26', 'C1020887F29', 'C1021160F29', 'C1021475F27', 'C1021838F26', 'C1021877F29', 'C1022144F27', 'C1022286F28', 'C1022414F29', 'C1022812F30', 'C1023570F26', 'C1024563F29', 'C1024580F26', 'C1024674F29', 'C1024817F26', 'C1025236F29', 'C1025932F30', 'C1026036F30', 'C1026685F29', 'C1027663F26', 'C1027848F30', 'C1027926F26', 'C1028023F28', 'C1028359F26', 'C1028414F28', 'C1028868F26', 'C1029042F27', 'C1029576F28', 'C1029813F26', 'C1029828F26', 'C1030418F30', 'C1030626F27', 'C1030718F27', 'C1030849F27', 'C1031344F27', 'C1031468F26', 'C1031636F27', 'C1031690F30', 'C1031761F26', 'C1032064F27', 'C1032247F26', 'C1032812F29', 'C1032868F26', 'C1032874F26', 'C1032923F29', 'C1032969F28', 'C1033017F28', 'C1033174F30', 'C1033463F27', 'C1033487F27', 'C1033527F27', 'C1033538F30', 'C1033876F27', 'C1033878F27', 'C1034211F26', 'C1034448F30', 'C1034781F29', 'C1034887F29', 'C1034992F26', 'C1035025F30', 'C1035064F29', 'C1035092F28', 'C1035168F29', 'C1035714F27', 'C1035960F26', 'C1035986F28', 'C1036162F28', 'C1036241F26', 'C1036264F26', 'C1036463F26', 'C1036832F30', 'C1036976F28', 'C1037316F28', 'C1037338F26', 'C1037540F29', 'C1037614F30', 'C1037647F27', 'C1037963F29', 'C1037990F30', 'C1038173F30', 'C1038779F29', 'C1038948F28', 'C1038971F30', 'C1039243F27', 'C1039573F26', 'C1039856F30', 'C1039878F30', 'C1040413F26', 'C1040436F27', 'C1040591F28', 'C1041013F28', 'C1041092F26', 'C1041136F30', 'C1041159F26', 'C1041522F27', 'C1041555F27', 'C1041838F30', 'C1042186F27', 'C1042243F28', 'C1042315F27', 'C1042892F26', 'C1042929F29', 'C1042958F27', 'C1043134F29', 'C1043269F29', 'C1043325F28', 'C1043964F28', 'C1045655F29', 'C1050635F29', 'C1051643F28', 'C1052091F29', 'C1052612F29', 'C1053678F28', 'C1053679F28', 'C1055934F30', 'C1056537F28', 'C1058622F26', 'C1060621F27', 'C1062830F28', 'C1065758F29', 'C1066177F30', 'C1066778F28', 'C1067873F26', 'C1068847F26', 'C1073891F29', 'C1076077F26', 'C1076281F28', 'C1077213F26', 'C1077274F30', 'C1078179F30', 'C1084832F26', 'C1092316F27', 'C1092323F27', 'C1093926F29', 'C1094552F28', 'C1095225F29', 'C1110159F29', 'C1110578F28', 'C1110747F26', 'C1111042F29', 'C1111189F28', 'C1111638F28', 'C1111652F27', 'C1111732F26', 'C1111747F29', 'C1111762F28', 'C1111958F30', 'C1112069F30', 'C1112079F30', 'C1112218F28', 'C1112224F27', 'C1112428F26', 'C1112614F30', 'C1112788F30', 'C1112927F26', 'C1113815F28', 'C1113821F27', 'C1113866F27', 'C1113945F27', 'C1113956F26', 'C1113991F30', 'C1114365F27', 'C1114374F26', 'C1114419F26', 'C1115021F29', 'C1115042F30', 'C1115080F28', 'C1115138F28', 'C1115479F29', 'C1115765F27', 'C1116143F26', 'C1116386F28', 'C1116551F27', 'C1116719F29', 'C1116861F29', 'C1116875F30', 'C1117130F30', 'C1117334F26', 'C1117374F26', 'C1117884F29', 'C1118427F29', 'C1118977F27', 'C1119249F28', 'C1119361F27', 'C1119427F29', 'C1119578F26', 'C1119818F26', 'C1120354F28', 'C1120948F26', 'C1121348F29', 'C1121366F30', 'C1121388F29', 'C1121638F28', 'C1121670F27', 'C1121676F30', 'C1122162F26', 'C1122516F30', 'C1122625F28', 'C1122630F26', 'C1122748F26', 'C1122869F29', 'C1122929F26', 'C1123038F30', 'C1123471F28', 'C1123712F29', 'C1123817F29', 'C1123836F30', 'C1123931F27', 'C1124018F29', 'C1124149F26', 'C1124218F28', 'C1124282F28', 'C1124355F28', 'C1124390F27', 'C1124485F27', 'C1124644F29', 'C1124870F26', 'C1124874F27', 'C1124876F29', 'C1124988F26', 'C1125765F26', 'C1126083F26', 'C1126138F26', 'C1126170F27', 'C1126214F26', 'C1126346F26', 'C1126461F29', 'C1126688F27', 'C1126852F26', 'C1127046F26', 'C1127270F27', 'C1127949F28', 'C1128976F29', 'C1129080F27', 'C1129659F29', 'C1129919F30', 'C1130426F29', 'C1130883F30', 'C1131322F28', 'C1131445F27', 'C1131531F29', 'C1131654F29', 'C1132083F30', 'C1132411F26', 'C1132786F29', 'C1132812F29', 'C1133042F26', 'C1134036F27', 'C1134088F27', 'C1134311F28', 'C1134312F28', 'C1134384F29', 'C1134440F30', 'C1134466F30', 'C1134684F28', 'C1134771F26', 'C1135426F26', 'C1135614F29', 'C1135636F28', 'C1136822F27', 'C1136880F27', 'C1136924F27', 'C1137458F29', 'C1137756F27', 'C1137884F27', 'C1137953F29', 'C1138249F28', 'C1138253F26', 'C1138430F28', 'C1139012F28', 'C1139028F28', 'C1139367F27', 'C1139919F30', 'C1140016F28', 'C1140273F29', 'C1140284F27', 'C1140312F30', 'C1140361F28', 'C1140380F30', 'C1140728F27', 'C1140768F29', 'C1140861F29', 'C1141123F26', 'C1141125F30', 'C1141216F29', 'C1141231F30', 'C1141577F26', 'C1141582F27', 'C1141583F30', 'C1141844F29', 'C1141864F26', 'C1141950F28', 'C1141957F28', 'C1142670F29', 'C1142692F27', 'C1142856F26', 'C1144671F28', 'C1148744F27', 'C1149675F30', 'C1150658F29', 'C1151457F26', 'C1152418F26', 'C1153623F28', 'C1153632F28', 'C1156766F29', 'C1157959F29', 'C1158754F28', 'C1162243F26', 'C1166982F28', 'C1168328F28', 'C1168553F27', 'C1168786F29', 'C1171135F28', 'C1171349F30', 'C1171368F30', 'C1172044F27', 'C1172248F28', 'C1172714F28', 'C1174485F29', 'C1176976F27', 'C1177272F30', 'C1180871F27', 'C1183491F28', 'C1185659F28', 'C1186081F30', 'C1187488F28', 'C1189085F28', 'C1191158F29', 'C1192651F27', 'C1193879F28', 'C1194926F30', 'C1195277F29', 'C1195412F26', 'C1196313F28', 'C1198611F29', 'C1210327F27', 'C1210475F27', 'C1210532F27', 'C1210680F29', 'C1211172F28', 'C1211240F27', 'C1211512F26', 'C1211563F28', 'C1211652F29', 'C1211671F30', 'C1211688F27', 'C1211813F29', 'C1211813F30', 'C1212631F27', 'C1212672F29', 'C1212765F28', 'C1212885F29', 'C1213280F30', 'C1213456F27', 'C1213917F29', 'C1213932F30', 'C1214255F26', 'C1214447F27', 'C1214468F27', 'C1214973F28', 'C1215087F29', 'C1215092F26', 'C1215257F27', 'C1215415F26', 'C1215523F30', 'C1215554F28', 'C1215818F27', 'C1216192F29', 'C1216574F26', 'C1216636F26', 'C1216718F30', 'C1217381F28', 'C1217416F26', 'C1218119F26', 'C1218338F26', 'C1218365F29', 'C1218435F29', 'C1218453F29', 'C1218556F30', 'C1219082F26', 'C1219788F30', 'C1219852F29', 'C1220021F28', 'C1220238F26', 'C1220313F27', 'C1220320F27', 'C1220659F30', 'C1220948F30', 'C1221177F30', 'C1221352F26', 'C1221379F26', 'C1221678F28', 'C1221924F28', 'C1222131F29', 'C1222389F27', 'C1222420F26', 'C1222717F30', 'C1222834F30', 'C1223076F30', 'C1223145F27', 'C1223277F28', 'C1223511F29', 'C1223816F26', 'C1223975F27', 'C1224066F27', 'C1224180F27', 'C1224748F30', 'C1224758F30', 'C1224770F29', 'C1224848F26', 'C1224872F26', 'C1224959F30', 'C1225029F26', 'C1225174F26', 'C1225441F26', 'C1225979F30', 'C1226159F27', 'C1226186F27', 'C1226635F27', 'C1226816F28', 'C1227085F29', 'C1227091F29', 'C1227222F28', 'C1227822F26', 'C1228119F28', 'C1228315F28', 'C1228345F27', 'C1228815F26', 'C1228949F26', 'C1228951F26', 'C1229189F27', 'C1229588F26', 'C1229841F26', 'C1229853F27', 'C1229981F30', 'C1230431F26', 'C1230830F28', 'C1230926F27', 'C1231067F29', 'C1231071F28', 'C1231335F27', 'C1231346F28', 'C1231434F30', 'C1231466F29', 'C1231834F26', 'C1232071F26', 'C1232191F28', 'C1232262F27', 'C1232456F27', 'C1232678F26', 'C1232913F28', 'C1233166F27', 'C1233181F30', 'C1233570F27', 'C1233676F28', 'C1233880F27', 'C1234772F27', 'C1234864F30', 'C1235040F28', 'C1235332F27', 'C1235438F30', 'C1235619F30', 'C1235681F30', 'C1235747F27', 'C1235866F28', 'C1235990F30', 'C1236145F28', 'C1236344F26', 'C1236483F26', 'C1237054F30', 'C1237134F28', 'C1237513F29', 'C1238258F28', 'C1238338F29', 'C1239225F27', 'C1239440F29', 'C1239514F27', 'C1239523F27', 'C1239878F26', 'C1240040F29', 'C1240081F28', 'C1240225F29', 'C1240251F27', 'C1240364F30', 'C1240748F28', 'C1241161F27', 'C1241584F27', 'C1241828F29', 'C1242113F27', 'C1242136F26', 'C1242388F27', 'C1242927F30', 'C1243060F26', 'C1243211F26', 'C1243724F28', 'C1246528F27', 'C1248573F30', 'C1250189F27', 'C1252652F29', 'C1255880F29', 'C1258369F27', 'C1261117F29', 'C1262445F26', 'C1263042F29', 'C1267640F30', 'C1269729F27', 'C1270129F27', 'C1271637F27', 'C1273571F26', 'C1273864F29', 'C1278642F28', 'C1279833F29', 'C1281989F26', 'C1284335F27', 'C1287241F30', 'C1290364F26', 'C1296362F28', 'C1310054F28', 'C1310169F28', 'C1310189F27', 'C1310354F30', 'C1310631F26', 'C1310712F29', 'C1310827F28', 'C1311018F27', 'C1311061F30', 'C1311221F28', 'C1311419F29', 'C1311659F29', 'C1311814F29', 'C1312341F26', 'C1312480F28', 'C1312671F28', 'C1312678F30', 'C1312813F27', 'C1313021F26', 'C1313160F27', 'C1313250F26', 'C1313755F26', 'C1313829F27', 'C1313842F29', 'C1314066F26', 'C1314152F29', 'C1314256F28', 'C1314447F28', 'C1314591F29', 'C1314671F27', 'C1314735F27', 'C1315392F28', 'C1315662F28', 'C1315720F27', 'C1315834F29', 'C1316311F28', 'C1316517F29', 'C1316534F26', 'C1316617F29', 'C1316759F26', 'C1316930F26', 'C1317064F26', 'C1317079F29', 'C1317169F30', 'C1317533F26', 'C1318387F26', 'C1318577F27', 'C1318617F27', 'C1319591F28', 'C1319750F30', 'C1319861F28', 'C1319926F28', 'C1319963F27', 'C1320186F29', 'C1320363F27', 'C1320683F26', 'C1320751F27', 'C1320813F26', 'C1320925F27', 'C1320943F27', 'C1320986F27', 'C1321014F29', 'C1321148F26', 'C1321175F27', 'C1321232F27', 'C1321330F29', 'C1321678F30', 'C1322329F26', 'C1322461F28', 'C1322841F27', 'C1323156F27', 'C1323259F28', 'C1323582F26', 'C1323836F27', 'C1324019F30', 'C1324248F28', 'C1324822F26', 'C1325043F29', 'C1325044F26', 'C1325235F27', 'C1325887F29', 'C1325977F30', 'C1326173F27', 'C1326312F29', 'C1326425F30', 'C1327039F27', 'C1327473F28', 'C1327475F27', 'C1327657F29', 'C1327886F26', 'C1327953F30', 'C1328060F29', 'C1328086F26', 'C1328231F27', 'C1328286F29', 'C1328390F26', 'C1328423F27', 'C1328491F28', 'C1328620F27', 'C1329075F28', 'C1329170F30', 'C1329412F27', 'C1329553F29', 'C1329569F27', 'C1329853F26', 'C1330189F26', 'C1330440F29', 'C1330566F26', 'C1330623F27', 'C1330836F29', 'C1331128F27', 'C1331160F27', 'C1331261F27', 'C1331490F29', 'C1331549F27', 'C1331772F27', 'C1331813F26', 'C1332044F27', 'C1332177F27', 'C1332240F29', 'C1332841F27', 'C1332939F28', 'C1332955F29', 'C1333029F30', 'C1333216F26', 'C1333291F28', 'C1333684F28', 'C1334332F29', 'C1334413F30', 'C1334638F28', 'C1334817F30', 'C1335031F28', 'C1335180F29', 'C1335884F29', 'C1335970F28', 'C1336443F26', 'C1336477F29', 'C1336824F29', 'C1337281F28', 'C1337376F26', 'C1337438F29', 'C1337770F26', 'C1337822F28', 'C1338073F27', 'C1338169F27', 'C1338313F30', 'C1338380F30', 'C1338433F28', 'C1339218F27', 'C1339392F26', 'C1339954F30', 'C1340220F28', 'C1340237F27', 'C1340332F29', 'C1340733F26', 'C1341182F30', 'C1341465F28', 'C1341578F27', 'C1341820F26', 'C1341870F30', 'C1341887F30', 'C1342031F26', 'C1342518F29', 'C1342534F27', 'C1342670F28', 'C1342889F27', 'C1353656F26', 'C1356854F29', 'C1356954F29', 'C1358153F26', 'C1358458F26', 'C1362831F30', 'C1362855F30', 'C1368530F27', 'C1370533F30', 'C1371880F28', 'C1373436F27', 'C1375923F27', 'C1375952F27', 'C1376047F26', 'C1380865F29', 'C1382145F29', 'C1389020F28', 'C1390588F29', 'C1390683F26', 'C1390948F28', 'C1394937F30', 'C1395251F29', 'C1396367F28', 'C1396724F28', 'C1397844F29', 'C1397969F26', 'C1410562F29', 'C1411146F30', 'C1411424F29', 'C1411444F27', 'C1411491F27', 'C1411722F28', 'C1411833F28', 'C1411844F29', 'C1411990F26', 'C1412179F29', 'C1413263F28', 'C1413340F30', 'C1413347F28', 'C1413454F29', 'C1413616F30', 'C1413924F29', 'C1414083F28', 'C1414229F28', 'C1414288F29', 'C1415077F29', 'C1415268F27', 'C1415283F26', 'C1415926F28', 'C1416380F28', 'C1416564F30', 'C1416574F28', 'C1416816F30', 'C1416870F27', 'C1417116F30', 'C1417211F28', 'C1417584F28', 'C1417668F28', 'C1417991F28', 'C1418187F27', 'C1418446F29', 'C1418687F26', 'C1418690F27', 'C1418859F27', 'C1419056F28', 'C1419382F27', 'C1419788F30', 'C1420512F27', 'C1420626F29', 'C1420627F29', 'C1420677F27', 'C1420851F28', 'C1420914F26', 'C1420926F26', 'C1420956F27', 'C1421322F30', 'C1421389F29', 'C1421491F28', 'C1421515F28', 'C1421675F27', 'C1421718F26', 'C1421864F27', 'C1421943F26', 'C1422040F28', 'C1422116F27', 'C1422152F27', 'C1422234F30', 'C1422711F27', 'C1422961F30', 'C1423312F28', 'C1423419F26', 'C1423472F28', 'C1423543F30', 'C1423773F29', 'C1423844F30', 'C1423925F26', 'C1423933F27', 'C1424072F26', 'C1424452F29', 'C1424627F29', 'C1424661F26', 'C1424671F29', 'C1424838F26', 'C1425432F29', 'C1425620F30', 'C1425740F26', 'C1425772F26', 'C1426659F30', 'C1426729F29', 'C1426934F29', 'C1426966F28', 'C1426989F30', 'C1427285F26', 'C1427585F26', 'C1427820F27', 'C1427926F30', 'C1427932F30', 'C1428211F28', 'C1428265F27', 'C1428327F28', 'C1428386F28', 'C1429143F30', 'C1429170F30', 'C1429183F30', 'C1429211F27', 'C1429479F26', 'C1429887F30', 'C1430456F29', 'C1430472F26', 'C1430729F27', 'C1431272F28', 'C1431484F28', 'C1431523F30', 'C1431891F29', 'C1432024F29', 'C1432231F26', 'C1432312F30', 'C1432533F28', 'C1432776F29', 'C1432820F27', 'C1432889F28', 'C1432892F30', 'C1433148F26', 'C1433313F30', 'C1433321F27', 'C1433384F26', 'C1433821F27', 'C1433848F28', 'C1434083F30', 'C1434421F30', 'C1434440F28', 'C1434689F29', 'C1434720F26', 'C1434758F26', 'C1434763F27', 'C1434884F27', 'C1435031F30', 'C1435082F28', 'C1435220F28', 'C1435283F26', 'C1435286F27', 'C1435752F27', 'C1436214F30', 'C1436480F27', 'C1436775F27', 'C1437133F30', 'C1437165F28', 'C1437645F30', 'C1438927F28', 'C1439370F26', 'C1439914F30', 'C1439960F30', 'C1440021F30', 'C1440234F29', 'C1440441F30', 'C1440476F26', 'C1440849F29', 'C1441056F27', 'C1441149F30', 'C1441235F30', 'C1441545F29', 'C1441812F29', 'C1442031F29', 'C1442078F27', 'C1442247F28', 'C1442684F30', 'C1442841F30', 'C1442875F30', 'C1449011F28', 'C1450815F30', 'C1452812F26', 'C1454056F30', 'C1454076F30', 'C1456385F30', 'C1458768F27', 'C1459637F27', 'C1461579F28', 'C1462521F29', 'C1463025F29', 'C1467154F27', 'C1468719F28', 'C1470390F27', 'C1471419F30', 'C1474449F27', 'C1476583F30', 'C1477769F27', 'C1479054F27', 'C1482227F26', 'C1487232F30', 'C1487525F27', 'C1487671F26', 'C1488238F30', 'C1488767F29', 'C1490680F27', 'C1497137F26', 'C1510161F29', 'C1510336F27', 'C1510638F29', 'C1510642F28', 'C1510715F28', 'C1511051F27', 'C1511051F30', 'C1511076F26', 'C1511163F28', 'C1511221F28', 'C1511240F26', 'C1511356F28', 'C1511622F28', 'C1511985F28', 'C1511991F28', 'C1512090F27', 'C1512218F29', 'C1512455F27', 'C1512564F27', 'C1512666F26', 'C1512916F26', 'C1513021F26', 'C1513074F28', 'C1513147F26', 'C1513220F28', 'C1513545F29', 'C1513918F30', 'C1513982F27', 'C1514085F28', 'C1514266F26', 'C1514587F29', 'C1514638F26', 'C1514883F29', 'C1514884F26', 'C1515044F28', 'C1515168F26', 'C1515258F27', 'C1515625F29', 'C1515679F29', 'C1515730F30', 'C1515881F30', 'C1515911F27', 'C1515991F27', 'C1516022F27', 'C1516113F26', 'C1516635F30', 'C1516654F30', 'C1517051F27', 'C1517355F26', 'C1517383F26', 'C1518512F26', 'C1518714F29', 'C1518752F27', 'C1518773F28', 'C1518830F27', 'C1519070F28', 'C1519136F28', 'C1519231F28', 'C1519370F27', 'C1519447F29', 'C1519463F26', 'C1519589F27', 'C1519635F30', 'C1519837F27', 'C1519960F27', 'C1519988F28', 'C1520263F29', 'C1520634F29', 'C1520744F29', 'C1520912F26', 'C1520974F28', 'C1521091F26', 'C1521277F26', 'C1521934F29', 'C1521968F29', 'C1522186F29', 'C1522439F29', 'C1522811F29', 'C1522825F29', 'C1523127F26', 'C1523652F29', 'C1523839F29', 'C1523943F30', 'C1524046F29', 'C1524276F28', 'C1524446F27', 'C1524446F30', 'C1524579F29', 'C1524788F30', 'C1524813F26', 'C1524891F28', 'C1525680F29', 'C1525884F28', 'C1526074F30', 'C1526129F27', 'C1526178F27', 'C1526561F30', 'C1526671F26', 'C1527140F27', 'C1527177F29', 'C1527262F28', 'C1527815F27', 'C1527862F26', 'C1527928F30', 'C1528046F29', 'C1528088F30', 'C1528231F29', 'C1528634F27', 'C1528888F26', 'C1528975F26', 'C1529159F30', 'C1529234F29', 'C1529284F27', 'C1529291F27', 'C1529873F26', 'C1530042F29', 'C1530279F29', 'C1530447F30', 'C1530791F29', 'C1530968F27', 'C1531127F30', 'C1531149F30', 'C1531178F28', 'C1531221F28', 'C1531239F26', 'C1531371F27', 'C1531452F27', 'C1531532F30', 'C1531624F26', 'C1531674F27', 'C1531770F30', 'C1531838F29', 'C1531862F29', 'C1531967F27', 'C1532256F26', 'C1532480F26', 'C1533350F26', 'C1533364F27', 'C1533480F29', 'C1533625F27', 'C1533755F30', 'C1534221F29', 'C1534275F26', 'C1534611F28', 'C1534746F26', 'C1534758F27', 'C1535052F28', 'C1535064F27', 'C1535271F27', 'C1535358F27', 'C1535490F26', 'C1535867F26', 'C1536081F30', 'C1536143F26', 'C1536441F29', 'C1536616F26', 'C1536631F27', 'C1537032F30', 'C1537146F28', 'C1537272F27', 'C1537321F27', 'C1537412F27', 'C1537629F28', 'C1538180F29', 'C1538874F27', 'C1539271F27', 'C1539320F26', 'C1539623F26', 'C1540238F26', 'C1540913F27', 'C1540940F26', 'C1540943F27', 'C1541051F28', 'C1541380F29', 'C1542370F27', 'C1542642F26', 'C1542717F28', 'C1543062F26', 'C1543074F30', 'C1546311F30', 'C1549713F28', 'C1550080F27', 'C1550621F29', 'C1552052F26', 'C1552684F29', 'C1562615F29', 'C1564071F27', 'C1566127F30', 'C1567922F26', 'C1568039F26', 'C1570181F26', 'C1570433F30', 'C1570936F26', 'C1573813F27', 'C1577219F27', 'C1577239F30', 'C1578079F29', 'C1581122F27', 'C1585655F28', 'C1585729F29', 'C1595549F27', 'C1598046F30', 'C1610113F28', 'C1610151F28', 'C1610266F26', 'C1610917F27', 'C1611089F30', 'C1611413F30', 'C1611586F28', 'C1611618F27', 'C1611674F28', 'C1611952F28', 'C1612532F27', 'C1612557F26', 'C1612678F27', 'C1613361F26', 'C1613369F26', 'C1613516F29', 'C1613786F26', 'C1614074F26', 'C1614192F28', 'C1614468F27', 'C1614526F27', 'C1614681F27', 'C1614823F29', 'C1615278F29', 'C1615482F28', 'C1615488F28', 'C1616529F30', 'C1616555F29', 'C1616578F30', 'C1616750F27', 'C1616832F27', 'C1616880F27', 'C1616912F30', 'C1617279F29', 'C1617429F26', 'C1617838F28', 'C1618357F29', 'C1618489F29', 'C1618534F26', 'C1618762F26', 'C1619254F27', 'C1619325F26', 'C1619550F30', 'C1619576F28', 'C1619640F30', 'C1619643F26', 'C1619684F27', 'C1620123F27', 'C1620314F27', 'C1620334F27', 'C1620633F28', 'C1620646F26', 'C1620680F30', 'C1620744F26', 'C1620818F29', 'C1620966F27', 'C1621068F26', 'C1621280F26', 'C1621442F28', 'C1621875F27', 'C1621990F29', 'C1622159F29', 'C1622215F28', 'C1622233F28', 'C1622350F26', 'C1622418F27', 'C1622476F29', 'C1622918F27', 'C1623019F26', 'C1623055F30', 'C1623319F29', 'C1623857F27', 'C1624085F28', 'C1624259F28', 'C1624434F26', 'C1624558F29', 'C1624626F29', 'C1625241F27', 'C1625529F29', 'C1626016F30', 'C1627178F30', 'C1627254F29', 'C1627953F30', 'C1627954F30', 'C1628173F28', 'C1628258F29', 'C1628452F27', 'C1628927F30', 'C1629085F30', 'C1629326F27', 'C1629329F27', 'C1629461F27', 'C1629668F26', 'C1629871F26', 'C1629928F28', 'C1630113F30', 'C1630159F28', 'C1630314F28', 'C1630461F28', 'C1630470F27', 'C1630590F30', 'C1630592F28', 'C1631043F27', 'C1631214F28', 'C1631223F28', 'C1631361F28', 'C1631814F26', 'C1631833F27', 'C1631890F28', 'C1632067F27', 'C1632169F29', 'C1632550F28', 'C1632568F26', 'C1632821F26', 'C1632956F29', 'C1632959F29', 'C1633138F26', 'C1633626F30', 'C1633765F30', 'C1634461F30', 'C1634574F28', 'C1634742F29', 'C1635127F28', 'C1635185F29', 'C1635476F26', 'C1636256F29', 'C1636352F28', 'C1636433F26', 'C1636691F28', 'C1637232F27', 'C1637367F27', 'C1637854F28', 'C1637921F30', 'C1637937F30', 'C1638013F27', 'C1638131F27', 'C1638624F30', 'C1638911F30', 'C1638980F28', 'C1639048F30', 'C1639312F28', 'C1639548F30', 'C1639672F26', 'C1639714F27', 'C1639788F26', 'C1640088F28', 'C1640174F26', 'C1640250F28', 'C1640322F30', 'C1640512F28', 'C1640583F28', 'C1640653F28', 'C1640818F27', 'C1640883F30', 'C1640992F30', 'C1641263F30', 'C1641264F28', 'C1641287F27', 'C1641292F29', 'C1641659F26', 'C1641883F27', 'C1642017F28', 'C1642091F29', 'C1642118F27', 'C1642350F30', 'C1642383F28', 'C1642390F30', 'C1642632F27', 'C1642714F28', 'C1642934F28', 'C1652945F27', 'C1654076F29', 'C1655179F30', 'C1656166F30', 'C1656362F30', 'C1659435F26', 'C1663430F26', 'C1663946F26', 'C1667931F26', 'C1668891F30', 'C1669458F27', 'C1673471F27', 'C1673541F26', 'C1679021F28', 'C1679036F28', 'C1682641F28', 'C1684037F30', 'C1684336F27', 'C1685576F30', 'C1685968F29', 'C1686949F27', 'C1687643F26', 'C1687919F30', 'C1688028F26', 'C1688249F30', 'C1689019F28', 'C1696379F28', 'C1710117F28', 'C1710147F28', 'C1710151F28', 'C1710171F29', 'C1710178F28', 'C1710258F28', 'C1710562F27', 'C1710623F26', 'C1710773F26', 'C1711130F26', 'C1711153F29', 'C1711282F28', 'C1711448F28', 'C1711470F29', 'C1711623F28', 'C1711630F27', 'C1711812F30', 'C1711958F28', 'C1712314F30', 'C1712533F27', 'C1712554F26', 'C1712644F26', 'C1712829F26', 'C1713159F27', 'C1713260F26', 'C1713392F28', 'C1713656F27', 'C1714060F28', 'C1714292F28', 'C1715285F30', 'C1715541F30', 'C1715585F28', 'C1715943F28', 'C1715983F26', 'C1716265F26', 'C1716318F26', 'C1716822F27', 'C1716877F27', 'C1717025F26', 'C1717373F27', 'C1717423F27', 'C1717464F29', 'C1717585F27', 'C1717722F26', 'C1717822F29', 'C1718013F26', 'C1718386F26', 'C1718489F27', 'C1718542F27', 'C1718629F30', 'C1718756F28', 'C1718956F30', 'C1719061F28', 'C1719231F27', 'C1719420F28', 'C1719423F28', 'C1719535F30', 'C1719877F26', 'C1720154F28', 'C1720925F30', 'C1720981F28', 'C1721332F27', 'C1721473F28', 'C1721660F28', 'C1721843F27', 'C1721911F29', 'C1721932F27', 'C1722511F28', 'C1722674F26', 'C1722724F26', 'C1722942F26', 'C1723082F30', 'C1723773F28', 'C1723851F26', 'C1724163F28', 'C1724170F30', 'C1724227F26', 'C1724317F29', 'C1724636F27', 'C1724675F29', 'C1724750F26', 'C1724987F26', 'C1725013F29', 'C1725150F27', 'C1725412F26', 'C1726112F27', 'C1726139F26', 'C1726432F27', 'C1726728F30', 'C1726753F28', 'C1726868F30', 'C1727426F29', 'C1727783F29', 'C1727859F27', 'C1727988F30', 'C1728018F27', 'C1728617F27', 'C1728663F26', 'C1728863F26', 'C1729331F29', 'C1729462F29', 'C1729770F30', 'C1729862F27', 'C1729936F28', 'C1730134F30', 'C1730144F26', 'C1730845F27', 'C1730949F27', 'C1730964F26', 'C1731286F29', 'C1731338F28', 'C1731381F27', 'C1731820F27', 'C1731842F28', 'C1731948F27', 'C1732053F30', 'C1732071F27', 'C1732121F28', 'C1732217F27', 'C1732514F28', 'C1732572F28', 'C1732932F26', 'C1733066F28', 'C1733542F27', 'C1733828F29', 'C1734083F26', 'C1734449F29', 'C1734652F28', 'C1734915F27', 'C1735142F29', 'C1735554F27', 'C1736035F27', 'C1736077F30', 'C1736254F26', 'C1736566F27', 'C1736619F29', 'C1736781F29', 'C1736970F30', 'C1737238F30', 'C1737292F30', 'C1737413F28', 'C1737768F28', 'C1737814F27', 'C1737866F27', 'C1738231F26', 'C1738434F29', 'C1738458F27', 'C1738540F27', 'C1738720F30', 'C1739177F30', 'C1739464F28', 'C1739470F29', 'C1739515F30', 'C1739827F27', 'C1739926F30', 'C1740081F28', 'C1740421F30', 'C1741169F26', 'C1741231F27', 'C1741538F27', 'C1742439F28', 'C1742552F29', 'C1742612F29', 'C1742618F30', 'C1742828F26', 'C1742831F30', 'C1742855F26', 'C1746258F27', 'C1755013F29', 'C1758785F27', 'C1761653F26', 'C1763611F27', 'C1766866F26', 'C1767670F30', 'C1768471F30', 'C1768579F27', 'C1771182F28', 'C1771380F30', 'C1771927F30', 'C1777359F28', 'C1779024F27', 'C1781146F26', 'C1781953F26', 'C1784858F26', 'C1787965F27', 'C1788289F30', 'C1789330F26', 'C1789520F29', 'C1791692F29', 'C1793213F27', 'C1794730F26', 'C1810078F28', 'C1810083F27', 'C1810175F30', 'C1810228F27', 'C1810279F29', 'C1810771F27', 'C1810892F28', 'C1811377F30', 'C1811668F29', 'C1811915F27', 'C1811956F28', 'C1811959F30', 'C1812378F26', 'C1812971F30', 'C1813129F29', 'C1813131F26', 'C1813143F30', 'C1813152F27', 'C1813169F29', 'C1813315F26', 'C1813579F29', 'C1813587F30', 'C1813815F26', 'C1813890F26', 'C1814086F28', 'C1814430F26', 'C1814489F26', 'C1814658F29', 'C1814983F28', 'C1815076F28', 'C1815090F28', 'C1815182F28', 'C1815484F28', 'C1815667F30', 'C1815686F26', 'C1815861F27', 'C1816045F27', 'C1816290F26', 'C1816333F27', 'C1816743F26', 'C1816831F27', 'C1816879F29', 'C1816915F27', 'C1817242F28', 'C1817251F28', 'C1817453F30', 'C1817840F28', 'C1818234F27', 'C1818645F27', 'C1818691F26', 'C1818758F29', 'C1819075F28', 'C1819118F30', 'C1819221F27', 'C1819222F27', 'C1819230F27', 'C1819469F27', 'C1819473F27', 'C1819552F28', 'C1819827F30', 'C1819889F28', 'C1820028F26', 'C1820738F29', 'C1820887F28', 'C1821165F27', 'C1821637F29', 'C1821659F27', 'C1821762F30', 'C1822332F27', 'C1822536F30', 'C1822666F28', 'C1822744F29', 'C1822957F26', 'C1823089F27', 'C1823138F30', 'C1823538F28', 'C1823557F26', 'C1823585F28', 'C1823592F29', 'C1824537F29', 'C1824779F28', 'C1824856F29', 'C1825113F27', 'C1825158F26', 'C1825268F26', 'C1825434F26', 'C1825718F26', 'C1826482F30', 'C1826638F26', 'C1826778F26', 'C1827033F26', 'C1827267F30', 'C1827371F28', 'C1827426F29', 'C1827646F26', 'C1827789F27', 'C1827892F26', 'C1827939F30', 'C1828084F26', 'C1828290F28', 'C1828339F28', 'C1828371F27', 'C1828479F26', 'C1828826F26', 'C1829054F30', 'C1829129F30', 'C1829258F28', 'C1829490F27', 'C1829962F30', 'C1830345F30', 'C1830634F30', 'C1830853F28', 'C1830855F29', 'C1831019F26', 'C1831114F30', 'C1831233F30', 'C1831435F27', 'C1831558F27', 'C1831725F27', 'C1831789F26', 'C1832451F29', 'C1832466F27', 'C1832672F29', 'C1832712F28', 'C1833620F28', 'C1833868F26', 'C1834534F26', 'C1835212F30', 'C1835278F30', 'C1835755F30', 'C1835772F26', 'C1835775F26', 'C1835923F30', 'C1836340F29', 'C1836341F26', 'C1836448F27', 'C1836766F27', 'C1836832F27', 'C1836891F27', 'C1836919F29', 'C1837366F26', 'C1837418F27', 'C1838058F26', 'C1838755F30', 'C1838783F29', 'C1839226F27', 'C1839630F26', 'C1840213F27', 'C1840466F27', 'C1841239F27', 'C1841439F28', 'C1841525F27', 'C1841571F27', 'C1841929F28', 'C1842553F27', 'C1842939F29', 'C1843691F30', 'C1858050F26', 'C1859539F30', 'C1862428F28', 'C1862570F27', 'C1863645F27', 'C1864984F28', 'C1865052F29', 'C1866861F26', 'C1868472F30', 'C1868486F30', 'C1868543F27', 'C1870090F29', 'C1870837F28', 'C1872092F29', 'C1873438F27', 'C1874875F26', 'C1876068F26', 'C1878476F26', 'C1879658F28', 'C1879686F28', 'C1884878F26', 'C1889656F26', 'C1890512F29', 'C1893513F26', 'C1895115F29', 'C1896351F28', 'C1896915F29', 'C1897183F26', 'C1899932F27', 'C1910382F29', 'C1910568F26', 'C1910574F27', 'C1910911F30', 'C1911251F26', 'C1911636F29', 'C1911885F26', 'C1911954F27', 'C1911966F30', 'C1911974F30', 'C1912066F27', 'C1912248F28', 'C1912358F27', 'C1912548F27', 'C1912685F26', 'C1913180F29', 'C1913219F28', 'C1913226F30', 'C1913327F30', 'C1913443F27', 'C1913549F30', 'C1913942F27', 'C1913974F29', 'C1914421F27', 'C1914518F27', 'C1914548F27', 'C1914585F27', 'C1914977F26', 'C1915036F29', 'C1915038F29', 'C1915222F27', 'C1915223F29', 'C1915272F26', 'C1915273F27', 'C1916415F30', 'C1916529F30', 'C1916533F29', 'C1916786F29', 'C1916880F26', 'C1917224F26', 'C1917645F28', 'C1918015F27', 'C1918346F28', 'C1918371F30', 'C1918418F29', 'C1918561F30', 'C1918635F27', 'C1919218F30', 'C1919223F27', 'C1919337F27', 'C1919669F29', 'C1919883F28', 'C1919888F30', 'C1919936F29', 'C1920411F30', 'C1920483F28', 'C1920591F30', 'C1920733F26', 'C1920912F26', 'C1920919F30', 'C1920944F26', 'C1920967F27', 'C1921067F26', 'C1921124F30', 'C1921284F26', 'C1921480F26', 'C1921648F30', 'C1921826F30', 'C1922165F29', 'C1922413F28', 'C1922544F26', 'C1922814F26', 'C1922937F27', 'C1923079F27', 'C1923537F26', 'C1924663F30', 'C1924722F30', 'C1924753F27', 'C1924854F27', 'C1924913F29', 'C1925125F29', 'C1925272F29', 'C1925521F28', 'C1925621F30', 'C1925985F30', 'C1926132F27', 'C1926138F29', 'C1926149F27', 'C1926370F27', 'C1926760F29', 'C1926937F30', 'C1926947F26', 'C1926977F29', 'C1927112F30', 'C1927439F26', 'C1927924F30', 'C1927962F30', 'C1927982F27', 'C1928052F29', 'C1928065F27', 'C1928126F27', 'C1928127F27', 'C1928152F28', 'C1928485F28', 'C1928551F28', 'C1928637F27', 'C1928688F27', 'C1928888F27', 'C1928964F26', 'C1929087F28', 'C1929120F26', 'C1929159F30', 'C1929342F26', 'C1929415F26', 'C1930341F29', 'C1930354F29', 'C1930390F27', 'C1930471F27', 'C1930623F30', 'C1930688F26', 'C1931045F26', 'C1931489F26', 'C1931740F27', 'C1931814F28', 'C1931825F29', 'C1932017F26', 'C1932076F30', 'C1932164F28', 'C1932169F27', 'C1932189F27', 'C1932313F30', 'C1932422F26', 'C1932587F27', 'C1932737F29', 'C1932920F26', 'C1933027F28', 'C1933316F28', 'C1933387F29', 'C1933923F29', 'C1934276F28', 'C1934353F28', 'C1934383F29', 'C1934581F26', 'C1934725F28', 'C1935270F29', 'C1935639F30', 'C1935961F26', 'C1936168F28', 'C1936369F26', 'C1936476F29', 'C1936819F28', 'C1937082F30', 'C1937176F28', 'C1937189F28', 'C1937229F29', 'C1937472F28', 'C1937623F29', 'C1937657F30', 'C1937824F29', 'C1938219F27', 'C1938231F28', 'C1938763F30', 'C1938787F29', 'C1938876F26', 'C1939555F29', 'C1939990F30', 'C1940264F26', 'C1940271F26', 'C1940438F27', 'C1940972F28', 'C1941073F28', 'C1941127F27', 'C1941539F30', 'C1941677F28', 'C1942175F26', 'C1942326F26', 'C1942785F28', 'C1942832F26', 'C1943013F26', 'C1944441F29', 'C1952015F26', 'C1955037F29', 'C1958764F27', 'C1959444F27', 'C1961090F27', 'C1961533F28', 'C1963033F27', 'C1963430F26', 'C1966092F28', 'C1968436F30', 'C1970112F27', 'C1971165F26', 'C1973288F26', 'C1973555F29', 'C1975585F26', 'C1976091F26', 'C1977139F26', 'C1977252F30', 'C1977982F27', 'C1979865F26', 'C1984063F30', 'C1990392F26', 'C1991716F27', 'C1994156F30', 'C1995261F29', 'C1996359F27', 'C1996376F28', 'C2010046F28', 'C2010147F27', 'C2010162F28', 'C2010252F26', 'C2010318F29', 'C2010437F27', 'C2010468F30', 'C2010479F29', 'C2010766F30', 'C2010775F28', 'C2010777F29', 'C2011024F29', 'C2011058F29', 'C2011651F29', 'C2011818F27', 'C2012175F30', 'C2012322F26', 'C2012521F30', 'C2012527F26', 'C2012553F27', 'C2012615F30', 'C2012686F27', 'C2013115F28', 'C2013123F26', 'C2013486F28', 'C2013544F29', 'C2013861F26', 'C2013931F28', 'C2014050F28', 'C2014288F26', 'C2014821F28', 'C2014870F29', 'C2014948F28', 'C2014992F28', 'C2015024F29', 'C2015270F27', 'C2015447F27', 'C2015672F26', 'C2015842F27', 'C2015884F27', 'C2015928F27', 'C2015935F30', 'C2015950F27', 'C2016383F27', 'C2016535F27', 'C2016945F26', 'C2016958F29', 'C2017582F27', 'C2018123F29', 'C2018336F27', 'C2018382F29', 'C2018589F26', 'C2018611F30', 'C2018732F28', 'C2018986F27', 'C2019237F27', 'C2019649F30', 'C2019811F27', 'C2019848F27', 'C2019880F26', 'C2020845F26', 'C2020944F27', 'C2021043F27', 'C2021483F26', 'C2021557F27', 'C2021591F29', 'C2021944F27', 'C2022115F29', 'C2022283F28', 'C2022358F26', 'C2022574F26', 'C2022592F30', 'C2022688F26', 'C2022980F30', 'C2023134F27', 'C2023271F27', 'C2023370F29', 'C2023917F27', 'C2024273F26', 'C2024423F28', 'C2024779F27', 'C2024786F26', 'C2024966F29', 'C2025374F27', 'C2026034F27', 'C2026191F26', 'C2026215F26', 'C2026791F28', 'C2027721F29', 'C2027963F30', 'C2027988F26', 'C2028229F29', 'C2028263F28', 'C2028386F28', 'C2028686F26', 'C2028849F27', 'C2028890F27', 'C2029476F26', 'C2029476F27', 'C2029838F26', 'C2029918F30', 'C2029927F27', 'C2030333F28', 'C2030427F30', 'C2030475F27', 'C2030628F27', 'C2030857F28', 'C2031320F27', 'C2031442F27', 'C2031570F27', 'C2031668F26', 'C2032066F26', 'C2032216F27', 'C2032237F27', 'C2032258F26', 'C2032370F27', 'C2032377F30', 'C2032529F30', 'C2032573F28', 'C2032614F28', 'C2032620F28', 'C2032643F29', 'C2032678F28', 'C2032870F27', 'C2033030F29', 'C2033044F30', 'C2033327F27', 'C2033452F27', 'C2033475F30', 'C2033842F26', 'C2033918F29', 'C2034018F27', 'C2034075F28', 'C2034114F27', 'C2034286F28', 'C2034341F29', 'C2034349F28', 'C2034386F27', 'C2035028F30', 'C2035081F30', 'C2035129F29', 'C2035234F26', 'C2035241F30', 'C2035452F30', 'C2035691F30', 'C2035718F27', 'C2035846F30', 'C2035847F29', 'C2036174F28', 'C2036263F26', 'C2036340F26', 'C2036729F29', 'C2036821F26', 'C2036989F29', 'C2037384F27', 'C2037912F30', 'C2038086F28', 'C2038138F27', 'C2038219F26', 'C2038422F27', 'C2038650F30', 'C2039450F27', 'C2039475F27', 'C2040038F28', 'C2040150F29', 'C2040287F28', 'C2040486F27', 'C2040779F28', 'C2040867F28', 'C2040912F29', 'C2040962F26', 'C2040962F29', 'C2041712F28', 'C2041818F29', 'C2041822F30', 'C2042631F28', 'C2042749F26', 'C2042989F29', 'C2045439F28', 'C2049690F30', 'C2050582F30', 'C2054937F30', 'C2055441F27', 'C2058221F28', 'C2058743F27', 'C2061246F30', 'C2061258F30', 'C2064691F27', 'C2064970F26', 'C2065219F30', 'C2065978F27', 'C2065985F27', 'C2068527F27', 'C2068829F26', 'C2069441F28', 'C2069955F26', 'C2076412F26', 'C2077252F26', 'C2077469F30', 'C2077932F29', 'C2078157F30', 'C2079749F28', 'C2080824F29', 'C2081684F29', 'C2082185F28', 'C2082429F26', 'C2082967F26', 'C2083079F29', 'C2087653F26', 'C2088050F26', 'C2092351F27', 'C2098757F29', 'C2110040F28', 'C2110292F26', 'C2110752F26', 'C2110767F28', 'C2110788F27', 'C2111051F30', 'C2111312F30', 'C2111346F30', 'C2111642F29', 'C2111732F26', 'C2111826F30', 'C2112315F29', 'C2112320F26', 'C2112358F27', 'C2112459F28', 'C2112479F27', 'C2112634F30', 'C2112674F26', 'C2112791F27', 'C2112835F29', 'C2113313F26', 'C2113338F26', 'C2113974F27', 'C2114244F28', 'C2114432F28', 'C2114450F27', 'C2114556F27', 'C2114841F27', 'C2114846F30', 'C2114858F29', 'C2114931F28', 'C2115280F27', 'C2115438F28', 'C2115476F26', 'C2115820F28', 'C2116317F27', 'C2116318F26', 'C2116342F30', 'C2116472F28', 'C2116525F29', 'C2116767F30', 'C2116854F27', 'C2117149F30', 'C2117264F28', 'C2117929F28', 'C2118113F28', 'C2118164F27', 'C2118388F29', 'C2118720F26', 'C2118721F26', 'C2118732F28', 'C2118737F26', 'C2118739F26', 'C2119081F28', 'C2119246F30', 'C2119628F27', 'C2120071F27', 'C2121151F27', 'C2121242F27', 'C2121517F26', 'C2121636F27', 'C2121650F27', 'C2121824F29', 'C2121848F29', 'C2122176F26', 'C2122453F28', 'C2122561F30', 'C2122761F27', 'C2122848F26', 'C2122939F26', 'C2122958F30', 'C2123274F26', 'C2123852F27', 'C2124069F26', 'C2124151F28', 'C2124223F27', 'C2124273F28', 'C2124280F30', 'C2124554F29', 'C2124653F27', 'C2124660F26', 'C2124681F29', 'C2124682F26', 'C2124767F29', 'C2125043F30', 'C2125240F27', 'C2125629F27', 'C2125843F27', 'C2126319F26', 'C2126633F27', 'C2126889F28', 'C2127247F28', 'C2127856F27', 'C2127931F26', 'C2127948F27', 'C2127968F26', 'C2127985F26', 'C2128159F27', 'C2128423F28', 'C2128649F27', 'C2128762F26', 'C2128873F26', 'C2128967F30', 'C2129311F27', 'C2129468F29', 'C2130169F29', 'C2130691F27', 'C2131839F26', 'C2132673F27', 'C2132725F27', 'C2132778F27', 'C2132925F26', 'C2133544F30', 'C2133763F26', 'C2134378F28', 'C2134578F28', 'C2134754F29', 'C2134911F27', 'C2134975F27', 'C2135451F30', 'C2135461F30', 'C2135486F26', 'C2135657F30', 'C2135934F26', 'C2136139F28', 'C2136163F29', 'C2136383F26', 'C2136738F28', 'C2137051F30', 'C2137141F26', 'C2137159F30', 'C2137339F29', 'C2137348F27', 'C2137391F26', 'C2137416F27', 'C2137521F26', 'C2137545F28', 'C2137619F30', 'C2137872F30', 'C2138068F28', 'C2138420F30', 'C2138714F29', 'C2138925F28', 'C2139186F27', 'C2139253F27', 'C2139379F26', 'C2139417F27', 'C2140057F28', 'C2140146F26', 'C2140156F28', 'C2140252F28', 'C2140276F28', 'C2140466F26', 'C2140730F28', 'C2140746F26', 'C2141129F30', 'C2141956F29', 'C2142039F29', 'C2142223F26', 'C2142274F27', 'C2142316F27', 'C2142842F30', 'C2142956F29', 'C2145345F26', 'C2146463F27', 'C2146922F28', 'C2149725F28', 'C2154060F30', 'C2156058F27', 'C2157019F29', 'C2158280F28', 'C2161081F27', 'C2162184F29', 'C2164986F28', 'C2167676F30', 'C2168449F30', 'C2170415F26', 'C2170478F26', 'C2173479F27', 'C2176089F26', 'C2177748F27', 'C2184377F27', 'C2185549F30', 'C2187253F30', 'C2195184F27', 'C2195241F29', 'C2198242F28', 'C2210028F27', 'C2210167F28', 'C2210183F26', 'C2210524F29', 'C2210892F26', 'C2211140F28', 'C2211465F28', 'C2211685F29', 'C2211781F26', 'C2211819F29', 'C2212069F28', 'C2212336F26', 'C2212345F26', 'C2212675F27', 'C2212683F29', 'C2212953F27', 'C2212969F30', 'C2212981F30', 'C2213154F27', 'C2213175F29', 'C2213687F26', 'C2213753F29', 'C2213811F29', 'C2213938F27', 'C2213979F28', 'C2214072F28', 'C2214331F27', 'C2214451F26', 'C2214574F29', 'C2214915F26', 'C2215052F26', 'C2215270F26', 'C2215386F29', 'C2215418F30', 'C2215670F30', 'C2215882F29', 'C2216066F26', 'C2216127F26', 'C2216177F29', 'C2216329F28', 'C2216340F26', 'C2216343F28', 'C2216514F30', 'C2216556F29', 'C2216760F27', 'C2216921F27', 'C2217186F26', 'C2217191F30', 'C2217684F28', 'C2217839F26', 'C2218916F27', 'C2219289F26', 'C2219483F29', 'C2219573F30', 'C2219717F26', 'C2219844F28', 'C2219857F26', 'C2219956F28', 'C2219991F28', 'C2220222F27', 'C2220673F28', 'C2220817F26', 'C2221035F29', 'C2221616F30', 'C2221919F27', 'C2222180F27', 'C2222357F27', 'C2222716F30', 'C2223120F27', 'C2223157F30', 'C2223183F26', 'C2223840F26', 'C2224052F29', 'C2224077F29', 'C2224147F26', 'C2224211F30', 'C2224384F26', 'C2224391F28', 'C2224568F29', 'C2224619F29', 'C2224659F26', 'C2224856F30', 'C2224889F28', 'C2226054F30', 'C2226724F28', 'C2227170F28', 'C2228063F28', 'C2228076F30', 'C2228189F28', 'C2228249F28', 'C2228274F28', 'C2228820F26', 'C2228972F28', 'C2229090F27', 'C2229580F30', 'C2229975F30', 'C2230166F26', 'C2230441F29', 'C2230461F29', 'C2230660F30', 'C2230866F27', 'C2230945F26', 'C2230975F26', 'C2231365F27', 'C2231524F27', 'C2232074F28', 'C2232186F28', 'C2232366F26', 'C2232632F28', 'C2232724F28', 'C2232830F26', 'C2232852F26', 'C2232875F29', 'C2233078F29', 'C2233249F30', 'C2233348F30', 'C2233411F29', 'C2233422F27', 'C2233535F30', 'C2233548F30', 'C2233686F29', 'C2234016F30', 'C2234068F28', 'C2234152F27', 'C2234980F27', 'C2235077F30', 'C2235232F29', 'C2235262F27', 'C2235471F26', 'C2235636F28', 'C2235664F26', 'C2236256F27', 'C2236356F28', 'C2236721F30', 'C2237183F30', 'C2237315F27', 'C2237336F27', 'C2237363F27', 'C2237487F27', 'C2237912F29', 'C2238171F27', 'C2238190F30', 'C2238245F30', 'C2238382F30', 'C2238473F30', 'C2238750F27', 'C2239235F27', 'C2239482F27', 'C2239582F30', 'C2239864F30', 'C2239978F26', 'C2240136F30', 'C2240388F27', 'C2240421F27', 'C2241015F28', 'C2241152F27', 'C2241155F30', 'C2241263F27', 'C2241823F30', 'C2242579F27', 'C2242844F27', 'C2249756F28', 'C2252952F27', 'C2253024F26', 'C2256733F27', 'C2256758F29', 'C2258749F27', 'C2258752F27', 'C2259492F28', 'C2261660F27', 'C2261956F29', 'C2270554F30', 'C2272715F28', 'C2273040F30', 'C2274227F30', 'C2276020F27', 'C2279419F29', 'C2282186F29', 'C2282418F26', 'C2283025F27', 'C2286745F27', 'C2287589F27', 'C2289755F27', 'C2291762F27', 'C2294960F27', 'C2295530F27', 'C2310036F28', 'C2310137F30', 'C2310371F28', 'C2310424F26', 'C2310546F29', 'C2310585F29', 'C2310971F27', 'C2311038F26', 'C2311122F27', 'C2311170F28', 'C2311171F28', 'C2311185F28', 'C2311351F26', 'C2311620F28', 'C2311625F28', 'C2311791F30', 'C2311981F30', 'C2312389F30', 'C2312687F30', 'C2312824F26', 'C2312924F27', 'C2313174F29', 'C2313516F29', 'C2313934F29', 'C2313939F27', 'C2314153F28', 'C2314454F26', 'C2314489F28', 'C2314537F27', 'C2314613F26', 'C2314640F29', 'C2315154F29', 'C2315232F29', 'C2315972F27', 'C2316528F26', 'C2316816F27', 'C2316977F29', 'C2316979F30', 'C2317013F30', 'C2317086F26', 'C2317249F28', 'C2317292F28', 'C2317416F29', 'C2318326F27', 'C2318369F26', 'C2318484F28', 'C2318548F28', 'C2319432F28', 'C2319466F27', 'C2319861F30', 'C2320055F27', 'C2320057F27', 'C2320256F26', 'C2320361F27', 'C2320690F29', 'C2320730F28', 'C2321124F30', 'C2321129F27', 'C2321153F27', 'C2321317F29', 'C2321620F27', 'C2322253F28', 'C2322715F28', 'C2322747F28', 'C2322858F29', 'C2323078F27', 'C2323362F27', 'C2323485F28', 'C2323661F29', 'C2323855F29', 'C2324623F29', 'C2324686F27', 'C2324750F29', 'C2324854F27', 'C2325273F28', 'C2325790F28', 'C2325953F28', 'C2326077F30', 'C2326121F29', 'C2326179F27', 'C2326612F26', 'C2326643F28', 'C2326870F28', 'C2327131F29', 'C2327140F28', 'C2327820F27', 'C2327836F28', 'C2327856F27', 'C2327919F26', 'C2328020F27', 'C2328219F27', 'C2328233F29', 'C2328260F27', 'C2328291F28', 'C2328313F28', 'C2328337F26', 'C2328522F27', 'C2329023F28', 'C2329353F29', 'C2329546F26', 'C2329849F27', 'C2330155F26', 'C2330870F28', 'C2330947F27', 'C2331382F27', 'C2331452F29', 'C2331460F28', 'C2332256F28', 'C2332654F28', 'C2332840F28', 'C2332936F28', 'C2333427F30', 'C2333680F27', 'C2333873F26', 'C2333961F28', 'C2334477F29', 'C2335073F29', 'C2335087F30', 'C2335128F26', 'C2335143F28', 'C2335170F28', 'C2335357F27', 'C2335674F30', 'C2335820F26', 'C2335942F29', 'C2336048F28', 'C2336076F28', 'C2336334F26', 'C2336354F26', 'C2336463F29', 'C2336473F29', 'C2336669F26', 'C2336877F27', 'C2337273F27', 'C2337292F28', 'C2337382F29', 'C2337590F27', 'C2337639F29', 'C2337661F30', 'C2337873F28', 'C2337875F30', 'C2338033F29', 'C2338090F30', 'C2338138F30', 'C2338212F27', 'C2338258F26', 'C2338385F30', 'C2338679F27', 'C2339441F27', 'C2339889F26', 'C2339981F30', 'C2340422F27', 'C2340423F27', 'C2340458F30', 'C2340478F27', 'C2340876F28', 'C2341050F28', 'C2341055F27', 'C2341073F29', 'C2341939F30', 'C2341979F28', 'C2342055F28', 'C2342519F29', 'C2342658F27', 'C2342720F30', 'C2342729F30', 'C2343485F29', 'C2346127F30', 'C2352666F28', 'C2354055F30', 'C2355172F30', 'C2356224F26', 'C2358049F26', 'C2358052F26', 'C2359250F27', 'C2360022F29', 'C2360584F27', 'C2360689F28', 'C2361562F26', 'C2361634F27', 'C2362139F28', 'C2366192F29', 'C2369460F27', 'C2371370F30', 'C2371535F28', 'C2373429F27', 'C2373553F30', 'C2377218F30', 'C2381528F28', 'C2384319F27', 'C2385386F27', 'C2389716F27', 'C2393827F30', 'C2393926F29', 'C2395320F27', 'C2396751F28', 'C2410149F27', 'C2410315F28', 'C2410391F29', 'C2410579F29', 'C2410624F28', 'C2410733F29', 'C2410747F26', 'C2410961F28', 'C2411025F27', 'C2411535F28', 'C2411554F28', 'C2411674F30', 'C2411860F30', 'C2412915F26', 'C2413016F30', 'C2413313F29', 'C2414363F26', 'C2414643F26', 'C2415091F28', 'C2415125F28', 'C2415675F28', 'C2415682F28', 'C2415912F28', 'C2415969F28', 'C2415980F28', 'C2416057F28', 'C2416850F29', 'C2416958F26', 'C2417150F26', 'C2417223F26', 'C2417224F30', 'C2417254F30', 'C2417286F26', 'C2417651F26', 'C2417846F26', 'C2418140F29', 'C2418145F27', 'C2418177F26', 'C2418375F29', 'C2418619F30', 'C2418622F28', 'C2418721F26', 'C2419466F29', 'C2419630F26', 'C2419631F27', 'C2420391F28', 'C2420425F29', 'C2420675F30', 'C2420936F27', 'C2420949F30', 'C2420985F28', 'C2421040F27', 'C2421443F28', 'C2421485F30', 'C2421716F30', 'C2421829F27', 'C2422345F27', 'C2422380F26', 'C2422430F30', 'C2422561F27', 'C2422580F27', 'C2422741F27', 'C2422829F26', 'C2422915F27', 'C2423089F27', 'C2423117F30', 'C2423166F26', 'C2423176F27', 'C2423385F27', 'C2423514F29', 'C2423537F26', 'C2423935F26', 'C2424312F30', 'C2424511F29', 'C2424530F29', 'C2424640F27', 'C2424791F26', 'C2425189F29', 'C2425226F26', 'C2425273F28', 'C2425436F27', 'C2425572F28', 'C2425991F30', 'C2426155F27', 'C2426162F27', 'C2426975F29', 'C2426981F29', 'C2427036F26', 'C2427353F28', 'C2427547F27', 'C2427762F29', 'C2427887F27', 'C2427931F26', 'C2428172F27', 'C2428357F27', 'C2428592F28', 'C2428630F26', 'C2428950F26', 'C2429071F30', 'C2429136F26', 'C2429156F29', 'C2429346F27', 'C2429415F26', 'C2429576F29', 'C2429773F26', 'C2429830F26', 'C2429886F26', 'C2430016F28', 'C2430034F28', 'C2430254F28', 'C2430665F27', 'C2430814F28', 'C2430854F28', 'C2431064F29', 'C2431166F28', 'C2431238F27', 'C2431243F29', 'C2431429F27', 'C2431718F26', 'C2431723F26', 'C2431816F29', 'C2432180F26', 'C2432847F27', 'C2432922F29', 'C2432930F29', 'C2433337F26', 'C2433480F30', 'C2433547F28', 'C2433590F26', 'C2433687F26', 'C2434042F30', 'C2434376F30', 'C2434448F29', 'C2434576F26', 'C2434623F29', 'C2434727F27', 'C2434738F27', 'C2434773F27', 'C2435092F30', 'C2435337F29', 'C2435637F26', 'C2435711F27', 'C2435924F26', 'C2437144F28', 'C2437192F30', 'C2437484F27', 'C2437742F28', 'C2437811F27', 'C2437854F28', 'C2438071F29', 'C2438349F30', 'C2438384F30', 'C2438714F26', 'C2438836F26', 'C2438913F28', 'C2439012F30', 'C2439149F29', 'C2439482F27', 'C2439535F30', 'C2439750F26', 'C2439863F30', 'C2439872F26', 'C2440037F28', 'C2440118F26', 'C2440271F28', 'C2440717F28', 'C2441356F27', 'C2441514F28', 'C2441520F27', 'C2442332F27', 'C2442740F29', 'C2445381F26', 'C2446461F27', 'C2448475F27', 'C2452991F26', 'C2454147F27', 'C2455188F30', 'C2457928F29', 'C2459590F30', 'C2463252F27', 'C2468749F29', 'C2470576F30', 'C2473287F26', 'C2477111F29', 'C2480314F27', 'C2480359F28', 'C2480360F28', 'C2481438F27', 'C2482731F28', 'C2483678F27', 'C2495789F29', 'C2496772F28', 'C2498013F28', 'C2499383F27', 'C2510038F28', 'C2510059F26', 'C2510969F26', 'C2511080F30', 'C2511313F29', 'C2511542F26', 'C2511878F30', 'C2511917F26', 'C2511985F28', 'C2512068F28', 'C2512220F26', 'C2512377F26', 'C2512565F27', 'C2512653F26', 'C2512889F26', 'C2513087F29', 'C2513118F27', 'C2513177F27', 'C2513375F26', 'C2513384F26', 'C2513434F27', 'C2513750F28', 'C2513954F29', 'C2514117F28', 'C2514412F26', 'C2514434F27', 'C2514535F30', 'C2514741F26', 'C2514913F28', 'C2515290F26', 'C2515423F28', 'C2515624F27', 'C2515644F26', 'C2515755F30', 'C2515955F28', 'C2516687F30', 'C2517240F26', 'C2517283F26', 'C2517428F27', 'C2518247F30', 'C2518390F29', 'C2518492F28', 'C2518560F30', 'C2518639F27', 'C2519023F29', 'C2519033F29', 'C2519233F27', 'C2519235F28', 'C2519642F29', 'C2519877F27', 'C2520868F26', 'C2520884F26', 'C2521330F29', 'C2521534F27', 'C2521828F29', 'C2521839F27', 'C2521931F29', 'C2522029F26', 'C2522371F27', 'C2522490F29', 'C2522545F26', 'C2522789F26', 'C2522869F29', 'C2523165F26', 'C2523320F29', 'C2523375F29', 'C2523511F29', 'C2523542F26', 'C2523730F26', 'C2523823F28', 'C2524030F26', 'C2524149F26', 'C2524386F28', 'C2524543F26', 'C2524619F26', 'C2524644F29', 'C2524946F27', 'C2525144F28', 'C2525282F26', 'C2525637F29', 'C2525738F27', 'C2526169F29', 'C2526412F30', 'C2526513F29', 'C2527080F27', 'C2527564F27', 'C2527666F26', 'C2527767F29', 'C2527812F27', 'C2527813F27', 'C2527820F27', 'C2527879F26', 'C2528265F28', 'C2528278F28', 'C2528411F28', 'C2528621F27', 'C2528672F27', 'C2528888F26', 'C2528972F28', 'C2529074F27', 'C2529143F29', 'C2529544F29', 'C2529828F26', 'C2529967F30', 'C2529987F27', 'C2530813F27', 'C2530826F26', 'C2530880F28', 'C2530986F27', 'C2531040F26', 'C2531085F26', 'C2531780F26', 'C2532061F28', 'C2532757F28', 'C2532941F28', 'C2532943F26', 'C2532968F29', 'C2533035F27', 'C2533060F30', 'C2533129F30', 'C2533164F30', 'C2534068F26', 'C2534148F28', 'C2534192F28', 'C2534472F26', 'C2534492F29', 'C2534591F28', 'C2534671F28', 'C2534770F29', 'C2534841F27', 'C2535418F26', 'C2535515F29', 'C2536083F30', 'C2536423F26', 'C2536465F27', 'C2536492F29', 'C2536554F29', 'C2536559F26', 'C2536627F27', 'C2536641F27', 'C2536892F30', 'C2537045F30', 'C2537524F28', 'C2538090F30', 'C2538144F27', 'C2538265F28', 'C2538345F30', 'C2538738F30', 'C2539027F29', 'C2539217F27', 'C2539423F27', 'C2539888F30', 'C2539983F30', 'C2540217F26', 'C2540311F30', 'C2540361F30', 'C2540851F27', 'C2541121F30', 'C2541252F28', 'C2541536F28', 'C2541576F27', 'C2541869F28', 'C2542034F29', 'C2542045F29', 'C2542290F27', 'C2542438F29', 'C2542478F29', 'C2542638F27', 'C2542871F27', 'C2542882F26', 'C2542892F27', 'C2542911F30', 'C2542971F29', 'C2543141F26', 'C2543247F26', 'C2547764F27', 'C2550685F29', 'C2551316F29', 'C2558011F26', 'C2558519F26', 'C2558536F26', 'C2558680F26', 'C2561257F28', 'C2561526F28', 'C2563072F26', 'C2565442F27', 'C2567234F28', 'C2568415F30', 'C2568888F26', 'C2571553F28', 'C2573568F30', 'C2574276F30', 'C2577262F30', 'C2577744F27', 'C2578425F26', 'C2582464F26', 'C2583640F27', 'C2590786F30', 'C2591780F27', 'C2594450F27', 'C2596376F28', 'C2610035F27', 'C2610321F28', 'C2610845F26', 'C2610950F28', 'C2611220F27', 'C2611424F27', 'C2611470F29', 'C2611549F28', 'C2611819F30', 'C2611837F29', 'C2612366F30', 'C2612469F27', 'C2612690F26', 'C2612824F29', 'C2613055F30', 'C2613062F30', 'C2613111F28', 'C2613944F27', 'C2613951F26', 'C2614290F28', 'C2614487F27', 'C2614488F26', 'C2614492F27', 'C2615184F28', 'C2615228F26', 'C2615280F27', 'C2615382F26', 'C2615430F30', 'C2615687F29', 'C2615764F26', 'C2616843F28', 'C2616911F29', 'C2617382F28', 'C2617661F28', 'C2617752F26', 'C2617984F26', 'C2618273F27', 'C2618349F27', 'C2618419F26', 'C2618615F28', 'C2618678F26', 'C2618767F28', 'C2619042F30', 'C2619239F28', 'C2619251F27', 'C2619372F30', 'C2620574F30', 'C2620616F29', 'C2620663F30', 'C2620886F28', 'C2621135F26', 'C2621229F26', 'C2621282F26', 'C2621423F29', 'C2621555F27', 'C2622230F30', 'C2622544F28', 'C2622567F30', 'C2623362F29', 'C2623844F26', 'C2623926F30', 'C2623970F27', 'C2623977F27', 'C2624076F29', 'C2624343F30', 'C2624713F29', 'C2624813F30', 'C2625145F29', 'C2625170F29', 'C2625240F28', 'C2625669F29', 'C2625755F27', 'C2626113F29', 'C2626142F27', 'C2626329F27', 'C2626412F29', 'C2626466F30', 'C2626557F28', 'C2626568F29', 'C2627562F29', 'C2627616F26', 'C2627687F26', 'C2627941F26', 'C2628126F27', 'C2628156F26', 'C2628359F29', 'C2628546F28', 'C2628662F27', 'C2628958F27', 'C2629312F30', 'C2629364F26', 'C2629540F28', 'C2630324F27', 'C2631570F27', 'C2631719F26', 'C2631780F27', 'C2631913F27', 'C2632115F27', 'C2632120F28', 'C2632315F27', 'C2632623F30', 'C2632655F30', 'C2632941F26', 'C2632970F30', 'C2633023F27', 'C2633090F30', 'C2633886F27', 'C2633926F26', 'C2633975F29', 'C2634368F27', 'C2634411F28', 'C2634684F30', 'C2634962F29', 'C2635073F28', 'C2635190F28', 'C2635251F29', 'C2635280F26', 'C2635280F27', 'C2635582F29', 'C2635588F27', 'C2635640F28', 'C2635682F28', 'C2636187F29', 'C2636341F29', 'C2636416F26', 'C2636643F28', 'C2637050F29', 'C2637255F27', 'C2637357F26', 'C2637617F30', 'C2637692F28', 'C2638058F27', 'C2638178F27', 'C2638580F28', 'C2638677F26', 'C2639171F30', 'C2639181F28', 'C2639918F30', 'C2639970F30', 'C2640049F28', 'C2640242F28', 'C2640327F30', 'C2640438F27', 'C2640738F28', 'C2640833F29', 'C2641567F27', 'C2641623F26', 'C2641836F29', 'C2641888F27', 'C2642051F29', 'C2642239F26', 'C2642864F26', 'C2642891F30', 'C2643358F30', 'C2644675F30', 'C2644951F26', 'C2645943F26', 'C2646849F26', 'C2650832F30', 'C2652643F29', 'C2653856F26', 'C2655621F27', 'C2656984F29', 'C2659466F27', 'C2662057F28', 'C2664280F28', 'C2665431F27', 'C2669539F27', 'C2670441F26', 'C2671423F30', 'C2672020F29', 'C2672614F30', 'C2673056F28', 'C2674175F29', 'C2676072F26', 'C2679459F26', 'C2679755F27', 'C2682772F27', 'C2685526F30', 'C2694563F28', 'C2695147F28', 'C2696316F28', 'C2696390F27', 'C2699866F28', 'C2710022F28', 'C2710024F28', 'C2710132F27', 'C2710184F28', 'C2710582F27', 'C2710839F28', 'C2711019F26', 'C2711166F27', 'C2711449F27', 'C2711485F27', 'C2711592F27', 'C2711657F30', 'C2711963F27', 'C2711965F28', 'C2712144F28', 'C2712449F26', 'C2713038F30', 'C2713082F30', 'C2713190F27', 'C2713517F30', 'C2714223F28', 'C2714377F26', 'C2714511F30', 'C2715020F26', 'C2715070F30', 'C2715134F26', 'C2715458F26', 'C2715552F28', 'C2715654F28', 'C2715869F29', 'C2716513F29', 'C2716920F29', 'C2716982F27', 'C2717081F26', 'C2717260F27', 'C2717863F28', 'C2718338F26', 'C2718630F30', 'C2718823F27', 'C2719050F27', 'C2719377F27', 'C2720018F26', 'C2720433F28', 'C2720442F30', 'C2720762F29', 'C2720875F26', 'C2720927F27', 'C2720946F28', 'C2721123F30', 'C2721335F28', 'C2721473F28', 'C2721550F27', 'C2721835F27', 'C2721949F29', 'C2721959F26', 'C2722172F29', 'C2722351F26', 'C2722967F30', 'C2722985F26', 'C2723091F26', 'C2723116F26', 'C2723349F26', 'C2723389F29', 'C2723454F28', 'C2723548F30', 'C2723575F29', 'C2723791F26', 'C2723946F30', 'C2723991F26', 'C2724278F28', 'C2724584F29', 'C2724643F26', 'C2725243F30', 'C2725415F29', 'C2725473F29', 'C2725815F27', 'C2725918F30', 'C2725969F30', 'C2726162F26', 'C2726186F29', 'C2726312F27', 'C2726746F28', 'C2726760F26', 'C2726834F29', 'C2726972F30', 'C2727190F28', 'C2727784F29', 'C2727945F26', 'C2727956F27', 'C2728045F26', 'C2728211F27', 'C2728229F28', 'C2728249F27', 'C2728324F28', 'C2728658F28', 'C2729362F26', 'C2729371F27', 'C2729638F27', 'C2729653F30', 'C2729865F27', 'C2729935F28', 'C2730367F26', 'C2730466F29', 'C2730568F28', 'C2730845F30', 'C2730921F27', 'C2731316F30', 'C2731389F26', 'C2731672F26', 'C2731861F29', 'C2732541F28', 'C2732643F29', 'C2732723F27', 'C2733214F29', 'C2733469F26', 'C2733847F27', 'C2734137F26', 'C2734179F27', 'C2734344F27', 'C2734345F29', 'C2734429F26', 'C2734787F29', 'C2734881F29', 'C2735028F27', 'C2735117F28', 'C2735216F26', 'C2735271F27', 'C2735730F27', 'C2735916F26', 'C2736079F30', 'C2736263F26', 'C2736483F29', 'C2736722F27', 'C2737033F30', 'C2737053F30', 'C2737217F28', 'C2737664F30', 'C2737860F27', 'C2737980F30', 'C2738651F28', 'C2738868F28', 'C2739023F30', 'C2739036F30', 'C2739113F28', 'C2739255F29', 'C2739429F27', 'C2739549F27', 'C2739564F27', 'C2740237F29', 'C2740245F29', 'C2740560F30', 'C2740826F26', 'C2740836F27', 'C2741074F27', 'C2741086F28', 'C2741288F27', 'C2741584F27', 'C2741678F26', 'C2741768F28', 'C2742368F26', 'C2742473F30', 'C2742519F27', 'C2742662F30', 'C2742773F30', 'C2742820F27', 'C2742878F29', 'C2742954F28', 'C2743352F28', 'C2747992F26', 'C2749388F26', 'C2749723F28', 'C2750445F27', 'C2759416F27', 'C2761125F29', 'C2761135F29', 'C2761866F27', 'C2762886F28', 'C2768454F30', 'C2771449F30', 'C2771939F27', 'C2773477F27', 'C2774116F29', 'C2774648F29', 'C2781990F26', 'C2783043F27', 'C2783659F27', 'C2785513F28', 'C2788432F29', 'C2791131F29', 'C2791663F29', 'C2793292F27', 'C2810017F27', 'C2810261F26', 'C2810675F30', 'C2810823F30', 'C2810863F27', 'C2810881F29', 'C2811124F28', 'C2811214F27', 'C2811290F29', 'C2811360F30', 'C2811489F27', 'C2811552F29', 'C2811675F27', 'C2811926F30', 'C2811944F30', 'C2812349F29', 'C2812733F26', 'C2812762F28', 'C2813035F29', 'C2813356F26', 'C2813381F28', 'C2813914F28', 'C2814387F27', 'C2815318F30', 'C2815468F27', 'C2815611F26', 'C2815729F26', 'C2815775F27', 'C2816056F27', 'C2816083F29', 'C2816416F28', 'C2817083F26', 'C2817570F28', 'C2817589F26', 'C2817772F26', 'C2817858F28', 'C2817883F28', 'C2818132F28', 'C2818157F30', 'C2818163F26', 'C2818178F27', 'C2818179F29', 'C2818184F26', 'C2818418F28', 'C2818887F27', 'C2819178F26', 'C2819433F27', 'C2819647F30', 'C2819729F30', 'C2820022F26', 'C2820111F29', 'C2820630F26', 'C2820990F26', 'C2821523F29', 'C2821554F27', 'C2821566F26', 'C2821865F27', 'C2821871F27', 'C2822188F29', 'C2822241F28', 'C2822385F26', 'C2822858F30', 'C2822868F30', 'C2822978F27', 'C2822980F28', 'C2823065F26', 'C2823133F27', 'C2823389F27', 'C2823676F27', 'C2823891F27', 'C2824375F28', 'C2824473F28', 'C2824614F29', 'C2824685F30', 'C2824860F27', 'C2825440F29', 'C2825541F26', 'C2825983F30', 'C2826182F26', 'C2826383F28', 'C2826389F28', 'C2826423F27', 'C2826759F26', 'C2826985F29', 'C2827237F27', 'C2827238F30', 'C2827457F29', 'C2827771F27', 'C2827835F26', 'C2827972F30', 'C2828083F29', 'C2828147F28', 'C2828154F28', 'C2828638F27', 'C2828961F29', 'C2829178F26', 'C2829688F28', 'C2830011F27', 'C2830460F30', 'C2830486F30', 'C2830882F28', 'C2830885F28', 'C2830919F27', 'C2830988F30', 'C2831031F26', 'C2831329F30', 'C2831876F29', 'C2831890F29', 'C2832531F26', 'C2832867F29', 'C2833067F26', 'C2833716F26', 'C2833722F26', 'C2833834F27', 'C2833868F27', 'C2833875F27', 'C2833912F26', 'C2834555F26', 'C2835047F29', 'C2835158F26', 'C2835952F28', 'C2836255F29', 'C2836886F27', 'C2837033F30', 'C2837114F30', 'C2837261F27', 'C2837579F29', 'C2837763F27', 'C2838214F27', 'C2838476F27', 'C2838878F30', 'C2839314F29', 'C2839384F27', 'C2839876F30', 'C2839913F26', 'C2840249F28', 'C2840458F30', 'C2840482F26', 'C2840715F29', 'C2840844F27', 'C2841041F28', 'C2841277F27', 'C2841561F30', 'C2842244F28', 'C2842370F30', 'C2842673F28', 'C2842818F27', 'C2843650F27', 'C2844363F26', 'C2844675F28', 'C2852257F26', 'C2852553F26', 'C2856591F28', 'C2857118F29', 'C2858151F30', 'C2859685F26', 'C2861076F27', 'C2861092F26', 'C2861244F30', 'C2863171F30', 'C2864953F28', 'C2868579F27', 'C2870834F30', 'C2870866F28', 'C2871418F30', 'C2871624F27', 'C2871947F27', 'C2877226F30', 'C2879392F30', 'C2879586F30', 'C2879762F28', 'C2885974F29', 'C2888770F28', 'C2891758F27', 'C2894333F27', 'C2895255F27', 'C2895690F29', 'C2896744F27', 'C2910013F28', 'C2910043F27', 'C2910332F27', 'C2910586F27', 'C2910588F30', 'C2910626F28', 'C2910717F26', 'C2910780F26', 'C2910936F29', 'C2911018F27', 'C2911042F30', 'C2911088F26', 'C2911138F28', 'C2911169F28', 'C2911557F29', 'C2911622F27', 'C2911650F29', 'C2911751F30', 'C2911836F30', 'C2911852F29', 'C2911923F28', 'C2911951F30', 'C2912089F27', 'C2912577F27', 'C2912672F29', 'C2912827F27', 'C2913034F28', 'C2913132F29', 'C2913184F30', 'C2914548F28', 'C2914813F27', 'C2914922F28', 'C2914981F28', 'C2915072F28', 'C2915245F29', 'C2915282F30', 'C2915424F26', 'C2915639F28', 'C2915919F27', 'C2916079F26', 'C2916314F30', 'C2916631F30', 'C2916654F26', 'C2917354F26', 'C2917552F27', 'C2917583F30', 'C2917768F29', 'C2918026F27', 'C2918770F26', 'C2918771F26', 'C2919062F28', 'C2919344F27', 'C2919423F27', 'C2919462F28', 'C2919469F29', 'C2919623F30', 'C2919647F28', 'C2919666F27', 'C2919884F27', 'C2919958F30', 'C2920080F27', 'C2920451F30', 'C2920716F26', 'C2921074F29', 'C2921184F26', 'C2921372F29', 'C2921677F29', 'C2921786F26', 'C2921946F27', 'C2922123F29', 'C2922342F27', 'C2922384F26', 'C2922431F28', 'C2922869F30', 'C2923019F26', 'C2923085F26', 'C2923211F26', 'C2923373F27', 'C2923380F27', 'C2923618F30', 'C2923651F27', 'C2923984F26', 'C2924633F29', 'C2924825F26', 'C2925145F29', 'C2925178F26', 'C2925385F28', 'C2925424F29', 'C2925448F29', 'C2925486F26', 'C2925522F29', 'C2925640F26', 'C2926036F30', 'C2926133F27', 'C2926147F27', 'C2926413F30', 'C2926420F28', 'C2926420F30', 'C2926464F30', 'C2926719F26', 'C2927170F28', 'C2927785F29', 'C2927917F30', 'C2928177F29', 'C2928214F27', 'C2928265F29', 'C2928625F27', 'C2928886F26', 'C2929162F29', 'C2929182F30', 'C2929288F26', 'C2929471F29', 'C2929772F28', 'C2929885F26', 'C2930276F26', 'C2930330F26', 'C2930344F29', 'C2930851F27', 'C2931142F28', 'C2931145F30', 'C2931330F27', 'C2931575F26', 'C2931867F29', 'C2932017F28', 'C2932033F30', 'C2932064F27', 'C2932261F26', 'C2932360F30', 'C2932416F27', 'C2932540F27', 'C2932683F28', 'C2932813F27', 'C2932848F27', 'C2932885F30', 'C2933081F27', 'C2933156F29', 'C2934123F27', 'C2934148F27', 'C2934246F27', 'C2934248F27', 'C2934257F27', 'C2934284F27', 'C2934739F26', 'C2934929F30', 'C2934944F28', 'C2934945F29', 'C2934957F29', 'C2935158F28', 'C2935172F29', 'C2935286F27', 'C2935288F27', 'C2935390F26', 'C2935676F26', 'C2936135F26', 'C2936157F28', 'C2936944F30', 'C2937281F28', 'C2937291F28', 'C2937838F30', 'C2937935F27', 'C2938048F28', 'C2938375F26', 'C2938413F26', 'C2939015F26', 'C2939212F27', 'C2939252F29', 'C2939347F28', 'C2939578F28', 'C2940019F27', 'C2940083F28', 'C2940140F27', 'C2940242F29', 'C2940332F28', 'C2940411F30', 'C2940424F27', 'C2940458F27', 'C2940859F27', 'C2941037F28', 'C2941046F28', 'C2941354F27', 'C2941635F28', 'C2941659F27', 'C2941854F29', 'C2942139F27', 'C2942360F30', 'C2942464F27', 'C2942468F29', 'C2942745F28', 'C2942919F29', 'C2943357F30', 'C2943676F27', 'C2945183F27', 'C2949759F28', 'C2950724F28', 'C2958775F27', 'C2960557F28', 'C2961289F30', 'C2961583F30', 'C2965235F28', 'C2966153F29', 'C2966818F26', 'C2968355F26', 'C2968575F27', 'C2968968F29', 'C2969773F27', 'C2973351F26', 'C2977414F28', 'C2979867F29', 'C2982745F29', 'C2987191F28', 'C2990739F30', 'C2995240F29', 'C2996385F28', 'C2998027F28', 'C3010132F30', 'C3010317F29', 'C3010725F26', 'C3010862F28', 'C3010938F26', 'C3011061F30', 'C3011612F28', 'C3011618F29', 'C3012338F30', 'C3012579F26', 'C3012613F28', 'C3012875F30', 'C3013116F29', 'C3013135F29', 'C3013214F29', 'C3013577F29', 'C3013845F28', 'C3013867F28', 'C3014232F27', 'C3014256F26', 'C3014424F26', 'C3014624F28', 'C3015143F29', 'C3015737F27', 'C3015924F28', 'C3015926F26', 'C3015965F27', 'C3016342F27', 'C3016533F27', 'C3016553F29', 'C3016563F27', 'C3016629F27', 'C3016931F27', 'C3017026F26', 'C3017034F29', 'C3017087F29', 'C3017139F30', 'C3017255F26', 'C3017338F29', 'C3017591F29', 'C3017875F29', 'C3018085F26', 'C3018291F30', 'C3018422F29', 'C3018618F26', 'C3018677F27', 'C3018981F27', 'C3019431F27', 'C3019771F30', 'C3020738F29', 'C3020978F27', 'C3021154F26', 'C3021488F26', 'C3021811F27', 'C3022774F28', 'C3022924F29', 'C3022940F26', 'C3023223F28', 'C3023334F26', 'C3023435F28', 'C3023672F26', 'C3023844F27', 'C3023849F30', 'C3023873F28', 'C3023988F26', 'C3024731F28', 'C3025226F26', 'C3025574F28', 'C3025763F28', 'C3026122F27', 'C3026435F27', 'C3026454F30', 'C3026585F27', 'C3027616F29', 'C3027926F29', 'C3028370F30', 'C3028745F29', 'C3028965F29', 'C3028988F26', 'C3029265F26', 'C3029379F28', 'C3029484F29', 'C3029649F29', 'C3029791F29', 'C3029976F26', 'C3030363F26', 'C3030665F28', 'C3030716F29', 'C3031050F27', 'C3031191F30', 'C3031387F26', 'C3031522F27', 'C3031656F29', 'C3032265F26', 'C3032329F30', 'C3032747F30', 'C3032841F30', 'C3032850F27', 'C3032856F30', 'C3033619F27', 'C3033972F26', 'C3034282F28', 'C3034370F27', 'C3034620F30', 'C3034772F27', 'C3034811F27', 'C3034989F29', 'C3035153F28', 'C3035251F29', 'C3035492F29', 'C3035651F30', 'C3035661F29', 'C3035748F26', 'C3035992F28', 'C3036031F27', 'C3036147F30', 'C3036344F28', 'C3036422F29', 'C3036836F29', 'C3037074F30', 'C3037079F27', 'C3037122F30', 'C3037291F29', 'C3038015F30', 'C3038280F27', 'C3038836F30', 'C3039037F30', 'C3039147F30', 'C3039172F29', 'C3039471F29', 'C3040130F29', 'C3040560F28', 'C3040576F28', 'C3040886F27', 'C3041142F26', 'C3041361F29', 'C3041512F26', 'C3041672F28', 'C3042241F28', 'C3042343F28', 'C3042769F28', 'C3042978F30', 'C3045418F28', 'C3046045F29', 'C3047483F30', 'C3047513F26', 'C3049039F28', 'C3050687F29', 'C3051063F27', 'C3052540F26', 'C3052692F29', 'C3054938F26', 'C3055347F28', 'C3057727F30', 'C3059242F30', 'C3059253F30', 'C3061635F29', 'C3062170F29', 'C3062519F29', 'C3062580F27', 'C3062963F27', 'C3063033F27', 'C3063664F26', 'C3069737F28', 'C3070542F30', 'C3070858F26', 'C3071622F27', 'C3071912F30', 'C3074021F28', 'C3074323F28', 'C3076263F28', 'C3077754F27', 'C3078317F26', 'C3078621F28', 'C3079777F28', 'C3080318F28', 'C3081250F26', 'C3084513F26', 'C3087940F30', 'C3088252F30', 'C3089321F30', 'C3096741F27', 'C3098488F26', 'C3099522F30', 'C3110041F28', 'C3110045F27', 'C3110092F26', 'C3111067F26', 'C3111089F29', 'C3111420F27', 'C3111761F29', 'C3111782F27', 'C3111848F30', 'C3111868F29', 'C3111926F28', 'C3111958F28', 'C3112046F27', 'C3112215F26', 'C3112231F28', 'C3112285F30', 'C3112533F27', 'C3112540F27', 'C3112613F27', 'C3112630F27', 'C3112684F27', 'C3112965F30', 'C3113038F30', 'C3113477F28', 'C3113629F26', 'C3113675F26', 'C3113731F26', 'C3113841F26', 'C3114540F29', 'C3114543F26', 'C3114822F29', 'C3114918F28', 'C3114972F28', 'C3115246F26', 'C3115589F30', 'C3115642F28', 'C3115692F29', 'C3115766F27', 'C3115820F29', 'C3116330F30', 'C3116578F26', 'C3116664F30', 'C3116930F29', 'C3117179F30', 'C3117291F28', 'C3117824F27', 'C3117919F26', 'C3118015F28', 'C3118092F30', 'C3118359F29', 'C3118633F30', 'C3118846F27', 'C3119377F29', 'C3119611F26', 'C3119733F26', 'C3119744F26', 'C3119815F27', 'C3119866F27', 'C3119950F30', 'C3119971F30', 'C3120272F29', 'C3120915F28', 'C3121024F30', 'C3121877F26', 'C3122144F27', 'C3122257F28', 'C3122356F27', 'C3122416F29', 'C3122477F26', 'C3122826F27', 'C3122991F26', 'C3123032F26', 'C3123051F30', 'C3123112F30', 'C3123163F27', 'C3123885F29', 'C3124014F29', 'C3124364F28', 'C3124392F28', 'C3124568F26', 'C3124653F30', 'C3124868F26', 'C3125778F27', 'C3126141F27', 'C3126659F27', 'C3127116F26', 'C3127934F26', 'C3127943F26', 'C3128057F27', 'C3128076F29', 'C3128426F27', 'C3128930F29', 'C3128957F26', 'C3129133F29', 'C3129138F27', 'C3129230F29', 'C3129426F27', 'C3129620F30', 'C3129677F29', 'C3129856F26', 'C3129858F26', 'C3129876F27', 'C3130328F27', 'C3130444F27', 'C3131426F28', 'C3131430F27', 'C3131483F27', 'C3131636F29', 'C3131818F26', 'C3131852F26', 'C3132024F26', 'C3132087F26', 'C3132172F26', 'C3132782F27', 'C3132930F27', 'C3133277F26', 'C3133691F27', 'C3133718F29', 'C3133719F29', 'C3133779F26', 'C3133983F26', 'C3134019F28', 'C3134223F28', 'C3134274F26', 'C3134386F28', 'C3134460F26', 'C3134586F27', 'C3134756F27', 'C3134826F30', 'C3134938F26', 'C3135041F27', 'C3135317F27', 'C3135338F26', 'C3135372F26', 'C3135389F30', 'C3135462F26', 'C3135477F26', 'C3135881F27', 'C3135976F26', 'C3136565F30', 'C3136629F26', 'C3136672F26', 'C3136920F30', 'C3137157F30', 'C3137262F28', 'C3137389F27', 'C3137416F29', 'C3137535F26', 'C3138168F27', 'C3138442F26', 'C3138575F28', 'C3138757F29', 'C3138774F28', 'C3138862F28', 'C3138967F30', 'C3139171F30', 'C3139217F27', 'C3139342F28', 'C3139552F27', 'C3139990F26', 'C3140047F26', 'C3140141F30', 'C3140144F29', 'C3140459F30', 'C3140571F27', 'C3140728F28', 'C3140742F29', 'C3141068F29', 'C3141091F27', 'C3141352F29', 'C3141578F27', 'C3141754F26', 'C3141859F28', 'C3141875F30', 'C3142086F29', 'C3142156F27', 'C3142170F27', 'C3142361F27', 'C3142628F27', 'C3142836F27', 'C3144292F30', 'C3144361F30', 'C3144670F28', 'C3146559F27', 'C3146828F26', 'C3146889F30', 'C3148444F26', 'C3149364F26', 'C3149741F28', 'C3150672F29', 'C3152219F26', 'C3152276F26', 'C3152441F26', 'C3153761F28', 'C3155052F29', 'C3159471F27', 'C3161621F29', 'C3163057F28', 'C3163286F27', 'C3165989F27', 'C3168972F30', 'C3170949F26', 'C3170972F26', 'C3171361F30', 'C3171877F28', 'C3172489F28', 'C3174662F29', 'C3177287F30', 'C3177666F27', 'C3180381F28', 'C3181934F26', 'C3183111F27', 'C3186759F30', 'C3189711F27', 'C3191614F29', 'C3193851F28', 'C3193862F28', 'C3194327F27', 'C3194764F26', 'C3196332F28', 'C3197131F26', 'C3210288F30', 'C3210843F29', 'C3211229F27', 'C3211255F28', 'C3211269F27', 'C3211357F29', 'C3211545F28', 'C3211549F26', 'C3211686F27', 'C3211716F30', 'C3211775F26', 'C3211842F30', 'C3212080F30', 'C3212656F29', 'C3212661F30', 'C3212929F26', 'C3213043F30', 'C3213115F27', 'C3213185F29', 'C3213261F30', 'C3213333F26', 'C3213343F26', 'C3213554F26', 'C3213666F29', 'C3213850F26', 'C3214050F28', 'C3214265F29', 'C3214375F26', 'C3215017F26', 'C3215239F27', 'C3215255F26', 'C3215569F30', 'C3215682F26', 'C3215774F28', 'C3216180F26', 'C3216414F30', 'C3216686F26', 'C3216723F26', 'C3216849F27', 'C3216917F27', 'C3217026F27', 'C3217227F30', 'C3217322F30', 'C3217622F30', 'C3217735F26', 'C3218113F29', 'C3218328F30', 'C3218734F26', 'C3219017F26', 'C3219155F29', 'C3219844F28', 'C3219867F27', 'C3219872F26', 'C3219938F28', 'C3220979F26', 'C3221023F29', 'C3221231F26', 'C3221444F28', 'C3221568F27', 'C3221817F27', 'C3221847F29', 'C3221957F29', 'C3222092F27', 'C3222375F26', 'C3222585F26', 'C3222991F26', 'C3223265F28', 'C3223425F28', 'C3223735F29', 'C3223878F28', 'C3224366F28', 'C3224379F29', 'C3224521F26', 'C3224821F26', 'C3224980F27', 'C3225591F28', 'C3225774F30', 'C3225881F27', 'C3225923F30', 'C3226012F30', 'C3226166F27', 'C3226354F28', 'C3226452F28', 'C3226526F28', 'C3227087F29', 'C3227233F29', 'C3227746F26', 'C3227767F29', 'C3227786F27', 'C3228138F26', 'C3228192F27', 'C3228211F29', 'C3228267F26', 'C3228425F26', 'C3228483F26', 'C3228823F26', 'C3228934F27', 'C3228967F30', 'C3229182F30', 'C3229570F28', 'C3229828F27', 'C3229862F26', 'C3229962F26', 'C3230688F27', 'C3231363F27', 'C3232076F27', 'C3232252F26', 'C3232379F30', 'C3232863F26', 'C3232973F30', 'C3233233F30', 'C3233480F27', 'C3233727F29', 'C3234245F28', 'C3234271F29', 'C3234284F29', 'C3234456F30', 'C3234491F29', 'C3234877F30', 'C3235028F28', 'C3235329F29', 'C3235433F26', 'C3235744F26', 'C3236014F30', 'C3236315F28', 'C3236434F27', 'C3236517F26', 'C3236592F30', 'C3236657F26', 'C3237054F29', 'C3237222F26', 'C3237353F27', 'C3237576F27', 'C3237836F27', 'C3238645F30', 'C3238876F30', 'C3239775F27', 'C3239884F30', 'C3240139F27', 'C3240541F30', 'C3240566F30', 'C3240718F27', 'C3240744F29', 'C3241713F29', 'C3242172F26', 'C3242666F27', 'C3242756F28', 'C3245863F26', 'C3251063F28', 'C3252866F28', 'C3254025F30', 'C3254963F28', 'C3256930F28', 'C3258221F28', 'C3259665F26', 'C3260742F29', 'C3263026F30', 'C3263070F26', 'C3263477F28', 'C3270821F30', 'C3271328F30', 'C3274437F26', 'C3274642F28', 'C3278450F28', 'C3278483F26', 'C3278628F28', 'C3279437F29', 'C3280485F29', 'C3283573F29', 'C3283748F28', 'C3285380F28', 'C3285575F29', 'C3286756F27', 'C3289630F27', 'C3293845F28', 'C3295157F27', 'C3295191F27', 'C3296587F26', 'C3296734F28', 'C3310237F29', 'C3310470F29', 'C3310519F26', 'C3310942F27', 'C3311017F27', 'C3311019F28', 'C3311245F26', 'C3311571F29', 'C3312088F30', 'C3312332F26', 'C3312425F27', 'C3312449F27', 'C3312831F29', 'C3312883F27', 'C3313126F30', 'C3313181F30', 'C3313211F27', 'C3313332F26', 'C3313468F26', 'C3313938F27', 'C3314345F26', 'C3314444F26', 'C3315611F29', 'C3315757F27', 'C3315913F27', 'C3316032F26', 'C3316437F28', 'C3316484F28', 'C3316716F26', 'C3316762F30', 'C3316767F26', 'C3316869F29', 'C3317046F26', 'C3317275F27', 'C3317352F26', 'C3317626F29', 'C3317837F26', 'C3317920F28', 'C3318333F27', 'C3318526F27', 'C3318586F27', 'C3318886F26', 'C3319440F27', 'C3319628F27', 'C3319727F28', 'C3319881F30', 'C3320255F29', 'C3321117F30', 'C3321144F30', 'C3321245F29', 'C3321456F26', 'C3321719F29', 'C3321921F29', 'C3322325F26', 'C3322471F26', 'C3322922F30', 'C3323066F29', 'C3323540F27', 'C3323643F27', 'C3323715F30', 'C3323728F28', 'C3323838F27', 'C3324144F26', 'C3324292F29', 'C3324385F29', 'C3324432F28', 'C3324689F26', 'C3324856F28', 'C3325543F28', 'C3326022F30', 'C3326775F26', 'C3327386F30', 'C3327423F28', 'C3327827F30', 'C3327920F27', 'C3328056F28', 'C3328074F26', 'C3328138F28', 'C3328148F27', 'C3328234F27', 'C3328236F28', 'C3328274F29', 'C3328547F28', 'C3328864F26', 'C3329054F30', 'C3329268F27', 'C3329741F28', 'C3329934F30', 'C3329961F30', 'C3330192F28', 'C3330344F30', 'C3330460F26', 'C3330535F28', 'C3331192F27', 'C3331621F30', 'C3331733F26', 'C3331834F26', 'C3331855F27', 'C3332155F28', 'C3332190F27', 'C3332327F27', 'C3332579F26', 'C3332824F26', 'C3333585F28', 'C3333586F27', 'C3333786F26', 'C3333858F27', 'C3334211F29', 'C3334344F29', 'C3334380F26', 'C3334488F28', 'C3334961F27', 'C3334964F29', 'C3335017F28', 'C3335088F29', 'C3335175F29', 'C3335615F26', 'C3335846F29', 'C3336074F30', 'C3336284F27', 'C3336491F29', 'C3336730F30', 'C3337038F27', 'C3337119F28', 'C3337134F28', 'C3337389F29', 'C3337890F30', 'C3338153F30', 'C3338328F30', 'C3338679F30', 'C3339021F26', 'C3339081F29', 'C3339182F30', 'C3339363F26', 'C3339459F28', 'C3339524F28', 'C3340016F29', 'C3340146F27', 'C3340222F28', 'C3340230F29', 'C3341546F30', 'C3342275F26', 'C3342312F27', 'C3342418F28', 'C3342467F26', 'C3342568F27', 'C3342773F28', 'C3344315F30', 'C3350648F29', 'C3350649F29', 'C3350653F29', 'C3352083F29', 'C3352824F28', 'C3353749F28', 'C3353915F28', 'C3354336F26', 'C3363069F30', 'C3367617F30', 'C3368727F29', 'C3369423F28', 'C3372640F30', 'C3373164F28', 'C3374466F29', 'C3376227F28', 'C3378136F30', 'C3384739F30', 'C3385560F28', 'C3385938F29', 'C3388029F26', 'C3389751F29', 'C3391128F29', 'C3396311F28', 'C3398034F28', 'C3410572F27', 'C3411072F30', 'C3411075F30', 'C3411134F29', 'C3411216F28', 'C3411287F28', 'C3411573F29', 'C3411653F30', 'C3411658F29', 'C3411672F27', 'C3411982F28', 'C3412038F30', 'C3412573F30', 'C3412634F27', 'C3412641F29', 'C3412648F30', 'C3412757F27', 'C3412963F27', 'C3413039F30', 'C3413582F29', 'C3413638F29', 'C3413938F26', 'C3414083F30', 'C3414225F29', 'C3414560F30', 'C3414621F28', 'C3414819F27', 'C3415620F26', 'C3415816F27', 'C3416255F26', 'C3416331F30', 'C3416586F30', 'C3416936F27', 'C3416954F27', 'C3417028F26', 'C3417227F27', 'C3417517F27', 'C3418477F29', 'C3418552F27', 'C3418613F26', 'C3419073F28', 'C3419078F28', 'C3419191F26', 'C3419419F29', 'C3419485F26', 'C3419634F29', 'C3419690F29', 'C3419758F29', 'C3420052F27', 'C3420114F28', 'C3420243F27', 'C3420417F30', 'C3420970F26', 'C3421085F26', 'C3421239F28', 'C3421292F26', 'C3421353F30', 'C3421368F29', 'C3421558F27', 'C3421611F27', 'C3421625F30', 'C3421734F26', 'C3421790F28', 'C3421878F27', 'C3421883F27', 'C3422191F27', 'C3422535F28', 'C3422832F30', 'C3422844F29', 'C3422854F29', 'C3423271F28', 'C3423417F28', 'C3424316F27', 'C3424553F26', 'C3424561F29', 'C3424570F27', 'C3424678F27', 'C3424864F26', 'C3424874F26', 'C3424915F30', 'C3425425F26', 'C3425749F26', 'C3425887F26', 'C3426152F27', 'C3426372F26', 'C3426654F29', 'C3426691F26', 'C3427179F26', 'C3427239F28', 'C3427445F28', 'C3427654F30', 'C3427761F27', 'C3427864F26', 'C3428281F29', 'C3428760F26', 'C3428814F30', 'C3429248F26', 'C3429968F26', 'C3429969F30', 'C3430132F30', 'C3430353F30', 'C3430364F26', 'C3430428F30', 'C3430463F30', 'C3431337F26', 'C3431442F29', 'C3431458F28', 'C3431571F27', 'C3431749F26', 'C3431941F30', 'C3432058F27', 'C3432081F26', 'C3432112F28', 'C3432137F26', 'C3432169F29', 'C3432211F26', 'C3433270F28', 'C3433980F29', 'C3434215F27', 'C3434629F28', 'C3434633F29', 'C3434733F27', 'C3434765F27', 'C3434861F28', 'C3434921F30', 'C3434971F26', 'C3435033F28', 'C3435092F30', 'C3435166F29', 'C3435215F30', 'C3435225F26', 'C3435736F27', 'C3436039F28', 'C3436049F29', 'C3436062F27', 'C3436364F26', 'C3436383F26', 'C3436387F26', 'C3436520F26', 'C3436729F29', 'C3437045F29', 'C3437235F29', 'C3437767F28', 'C3437833F27', 'C3438019F28', 'C3438227F28', 'C3438242F30', 'C3438830F30', 'C3439019F30', 'C3439032F30', 'C3439527F28', 'C3439836F27', 'C3439984F29', 'C3440113F29', 'C3441049F26', 'C3441146F27', 'C3441388F29', 'C3441485F29', 'C3441536F28', 'C3441750F28', 'C3441819F26', 'C3441824F27', 'C3441983F28', 'C3442046F26', 'C3442161F29', 'C3442349F28', 'C3442892F30', 'C3444341F30', 'C3445483F26', 'C3447421F26', 'C3447557F26', 'C3449148F30', 'C3454021F30', 'C3454044F30', 'C3454683F27', 'C3458042F26', 'C3458051F26', 'C3458723F27', 'C3459315F26', 'C3459644F26', 'C3461245F30', 'C3461652F26', 'C3462515F27', 'C3462838F28', 'C3463024F29', 'C3463044F29', 'C3465914F27', 'C3467392F26', 'C3467645F30', 'C3468579F27', 'C3470156F26', 'C3471659F27', 'C3473590F29', 'C3477247F27', 'C3484377F30', 'C3486042F30', 'C3487588F28', 'C3494039F28', 'C3496549F26', 'C3499419F27', 'C3510016F28', 'C3510133F29', 'C3510611F29', 'C3510661F29', 'C3511017F30', 'C3511087F30', 'C3511327F30', 'C3511345F28', 'C3511445F29', 'C3511627F29', 'C3512220F26', 'C3512545F28', 'C3512647F27', 'C3512987F26', 'C3513075F27', 'C3513213F27', 'C3513364F28', 'C3513365F30', 'C3513390F29', 'C3513636F27', 'C3514419F29', 'C3514539F27', 'C3514941F29', 'C3515233F29', 'C3515337F26', 'C3515415F28', 'C3515619F30', 'C3515782F26', 'C3515869F26', 'C3515882F29', 'C3515916F28', 'C3516069F27', 'C3516212F30', 'C3516384F27', 'C3516542F29', 'C3516726F26', 'C3517274F26', 'C3517469F29', 'C3517663F26', 'C3517822F30', 'C3518046F28', 'C3518171F27', 'C3518252F30', 'C3518339F29', 'C3518673F28', 'C3518918F27', 'C3519363F27', 'C3519476F29', 'C3519558F28', 'C3519816F29', 'C3519853F28', 'C3519869F28', 'C3520448F30', 'C3520573F29', 'C3520846F28', 'C3520940F27', 'C3521228F29', 'C3521352F27', 'C3521482F28', 'C3521873F30', 'C3522058F26', 'C3522081F29', 'C3522134F29', 'C3522527F27', 'C3522566F26', 'C3522631F26', 'C3522679F26', 'C3522682F27', 'C3523329F28', 'C3523488F26', 'C3523577F28', 'C3523584F26', 'C3523677F27', 'C3523691F27', 'C3524089F26', 'C3524366F28', 'C3524467F28', 'C3524527F30', 'C3524640F27', 'C3524658F27', 'C3524941F30', 'C3524943F30', 'C3524959F30', 'C3525123F26', 'C3525428F26', 'C3525456F29', 'C3525479F27', 'C3525555F28', 'C3525579F30', 'C3525715F27', 'C3525740F30', 'C3525755F27', 'C3526129F29', 'C3526737F26', 'C3526837F30', 'C3526962F27', 'C3527079F29', 'C3527185F30', 'C3527853F26', 'C3528079F26', 'C3528514F29', 'C3528570F26', 'C3528682F29', 'C3528713F28', 'C3528941F30', 'C3528977F30', 'C3529156F27', 'C3529416F27', 'C3529431F27', 'C3530121F26', 'C3530368F29', 'C3530423F29', 'C3530522F27', 'C3530754F27', 'C3530857F28', 'C3530912F27', 'C3530922F29', 'C3531011F29', 'C3531022F30', 'C3531079F29', 'C3531280F28', 'C3531339F26', 'C3531351F27', 'C3531423F29', 'C3531789F29', 'C3531851F27', 'C3532039F29', 'C3532043F29', 'C3532557F26', 'C3532638F28', 'C3532855F27', 'C3532867F29', 'C3532872F26', 'C3532876F30', 'C3533442F26', 'C3533961F26', 'C3534141F27', 'C3534142F28', 'C3534172F28', 'C3534287F26', 'C3534416F30', 'C3534759F27', 'C3534973F27', 'C3535236F26', 'C3535253F27', 'C3535474F29', 'C3535573F26', 'C3535883F29', 'C3535939F28', 'C3536053F27', 'C3536133F29', 'C3536387F26', 'C3536477F29', 'C3536716F28', 'C3537130F30', 'C3537244F29', 'C3537365F26', 'C3537522F27', 'C3537646F30', 'C3537677F30', 'C3538088F26', 'C3538218F26', 'C3538319F30', 'C3538361F28', 'C3538555F29', 'C3538785F27', 'C3538928F26', 'C3539751F27', 'C3539881F26', 'C3540254F29', 'C3540323F30', 'C3540352F27', 'C3540378F27', 'C3540449F30', 'C3540853F26', 'C3540967F28', 'C3540984F27', 'C3541153F26', 'C3541316F29', 'C3541354F29', 'C3541574F27', 'C3541649F29', 'C3541869F29', 'C3542145F27', 'C3542687F27', 'C3542977F29', 'C3543055F26', 'C3543274F26', 'C3547158F26', 'C3547963F27', 'C3549268F29', 'C3553617F28', 'C3554091F30', 'C3556566F28', 'C3558072F26', 'C3562834F27', 'C3562887F28', 'C3563028F28', 'C3563429F26', 'C3563684F27', 'C3564268F26', 'C3564338F30', 'C3569472F30', 'C3571171F29', 'C3572628F30', 'C3574012F28', 'C3574463F26', 'C3576079F26', 'C3579868F26', 'C3580833F27', 'C3581912F26', 'C3583569F30', 'C3588732F29', 'C3588860F28', 'C3590592F29', 'C3591166F29', 'C3591652F28', 'C3592692F28', 'C3596355F28', 'C3598787F29', 'C3599182F26', 'C3610135F30', 'C3610220F28', 'C3610388F27', 'C3610613F30', 'C3610820F30', 'C3610862F28', 'C3610929F27', 'C3611049F30', 'C3611276F26', 'C3611323F27', 'C3611630F27', 'C3612522F26', 'C3612528F27', 'C3612533F27', 'C3612626F29', 'C3612672F28', 'C3612753F27', 'C3612929F26', 'C3613644F26', 'C3613647F26', 'C3614130F26', 'C3614189F26', 'C3614364F27', 'C3614480F27', 'C3614629F29', 'C3614667F27', 'C3615136F26', 'C3615151F27', 'C3615382F30', 'C3615532F27', 'C3616538F29', 'C3616563F29', 'C3616714F27', 'C3616730F26', 'C3617179F29', 'C3617566F26', 'C3617864F28', 'C3618042F30', 'C3618318F30', 'C3618466F28', 'C3618685F29', 'C3618862F26', 'C3618942F28', 'C3619053F29', 'C3619160F27', 'C3619214F28', 'C3619282F26', 'C3619456F28', 'C3619524F29', 'C3619738F29', 'C3619849F30', 'C3620123F30', 'C3620336F28', 'C3620473F29', 'C3620526F30', 'C3620968F26', 'C3620972F28', 'C3621159F27', 'C3621319F30', 'C3621383F27', 'C3621472F28', 'C3621528F28', 'C3621552F27', 'C3621658F30', 'C3621663F27', 'C3621665F27', 'C3621841F30', 'C3621978F26', 'C3622169F29', 'C3622661F26', 'C3622886F26', 'C3622949F30', 'C3623112F28', 'C3623131F29', 'C3623134F27', 'C3623158F30', 'C3623377F30', 'C3623452F28', 'C3623629F27', 'C3623869F28', 'C3624129F30', 'C3624519F30', 'C3624642F30', 'C3624762F26', 'C3624816F26', 'C3624827F26', 'C3624841F28', 'C3624850F28', 'C3625048F26', 'C3625150F27', 'C3625282F30', 'C3625458F28', 'C3625783F27', 'C3625844F30', 'C3625856F27', 'C3626141F27', 'C3626636F26', 'C3627781F29', 'C3627986F27', 'C3628180F28', 'C3628327F28', 'C3628611F27', 'C3628660F27', 'C3628751F28', 'C3628970F26', 'C3629059F27', 'C3629661F29', 'C3629750F29', 'C3630158F26', 'C3630864F26', 'C3630942F26', 'C3630959F27', 'C3631352F26', 'C3632286F26', 'C3632734F28', 'C3632755F29', 'C3632820F29', 'C3632938F27', 'C3633353F26', 'C3633364F28', 'C3633411F28', 'C3633634F27', 'C3633957F28', 'C3634256F27', 'C3634413F30', 'C3634432F29', 'C3635018F28', 'C3635062F29', 'C3635086F30', 'C3635614F26', 'C3635615F26', 'C3636023F30', 'C3636384F26', 'C3636391F26', 'C3636627F27', 'C3636934F29', 'C3637083F29', 'C3637125F30', 'C3637152F28', 'C3637187F30', 'C3637236F29', 'C3637321F26', 'C3637364F26', 'C3637512F26', 'C3637761F26', 'C3638314F26', 'C3638474F29', 'C3638718F28', 'C3639258F28', 'C3639349F28', 'C3639378F28', 'C3639969F29', 'C3640243F28', 'C3640447F27', 'C3640464F27', 'C3640476F26', 'C3640818F26', 'C3641034F28', 'C3641241F27', 'C3641967F29', 'C3642056F28', 'C3642119F29', 'C3642218F27', 'C3642281F28', 'C3642579F27', 'C3654923F26', 'C3657385F30', 'C3661211F28', 'C3661826F27', 'C3662514F29', 'C3662528F27', 'C3665947F27', 'C3669555F27', 'C3669581F27', 'C3670131F26', 'C3670825F28', 'C3672141F26', 'C3672522F26', 'C3673373F26', 'C3673636F28', 'C3676052F26', 'C3676459F26', 'C3677127F29', 'C3679066F28', 'C3683665F27', 'C3687412F26', 'C3690774F30', 'C3696352F28', 'C3696388F28', 'C3699828F30', 'C3710069F26', 'C3710214F30', 'C3710386F29', 'C3710573F29', 'C3711078F30', 'C3711265F26', 'C3711316F30', 'C3711391F30', 'C3711627F28', 'C3711650F27', 'C3711686F29', 'C3711884F29', 'C3712133F28', 'C3712283F26', 'C3712515F27', 'C3712581F27', 'C3712714F26', 'C3712771F29', 'C3713078F28', 'C3713319F26', 'C3713336F26', 'C3714137F28', 'C3714233F29', 'C3714425F27', 'C3714487F27', 'C3714612F29', 'C3714968F26', 'C3715372F30', 'C3715440F28', 'C3715447F28', 'C3715645F28', 'C3716125F26', 'C3716164F28', 'C3716486F26', 'C3716545F27', 'C3716620F29', 'C3716730F27', 'C3716870F30', 'C3717331F28', 'C3717414F26', 'C3717576F29', 'C3717845F26', 'C3717852F28', 'C3718173F27', 'C3718469F27', 'C3718613F30', 'C3718631F26', 'C3719353F27', 'C3719877F29', 'C3719926F28', 'C3719970F28', 'C3720131F28', 'C3720372F26', 'C3720651F28', 'C3720923F28', 'C3720926F26', 'C3720945F26', 'C3721045F26', 'C3721069F27', 'C3721234F26', 'C3721363F30', 'C3721441F29', 'C3722374F27', 'C3722568F27', 'C3722640F26', 'C3723072F26', 'C3723072F27', 'C3723387F30', 'C3723667F30', 'C3723788F28', 'C3723861F26', 'C3724076F29', 'C3724137F28', 'C3724333F27', 'C3724647F26', 'C3724775F26', 'C3724960F27', 'C3724991F30', 'C3725769F26', 'C3726132F26', 'C3726167F27', 'C3726344F26', 'C3727018F26', 'C3727155F27', 'C3727920F27', 'C3728290F26', 'C3728356F27', 'C3728382F26', 'C3728678F30', 'C3728768F28', 'C3728846F30', 'C3729128F27', 'C3729174F29', 'C3729229F26', 'C3729279F26', 'C3729319F29', 'C3729424F29', 'C3729476F30', 'C3729683F28', 'C3729858F27', 'C3729892F27', 'C3730127F30', 'C3730171F27', 'C3730360F29', 'C3730567F28', 'C3731078F27', 'C3731187F30', 'C3731280F29', 'C3731762F29', 'C3731846F29', 'C3731957F30', 'C3732116F27', 'C3732156F28', 'C3732251F29', 'C3732379F30', 'C3732413F30', 'C3732561F28', 'C3732974F28', 'C3733035F29', 'C3733150F30', 'C3733472F28', 'C3733472F30', 'C3733526F29', 'C3733952F26', 'C3734077F28', 'C3734313F27', 'C3734378F29', 'C3734572F28', 'C3734731F29', 'C3735048F30', 'C3735161F28', 'C3735235F27', 'C3735383F30', 'C3735670F26', 'C3735987F26', 'C3736055F30', 'C3736440F26', 'C3736571F26', 'C3736648F30', 'C3736670F26', 'C3736823F29', 'C3737069F29', 'C3737543F29', 'C3738324F29', 'C3739234F28', 'C3739441F28', 'C3739535F28', 'C3740057F28', 'C3740121F26', 'C3740261F29', 'C3740286F28', 'C3740547F28', 'C3740771F28', 'C3740840F26', 'C3741826F27', 'C3741868F30', 'C3741881F30', 'C3742044F30', 'C3742377F30', 'C3742452F27', 'C3742591F27', 'C3742890F26', 'C3743224F26', 'C3744658F28', 'C3746486F27', 'C3749671F30', 'C3752621F28', 'C3756792F26', 'C3758339F26', 'C3760717F29', 'C3760870F30', 'C3761274F30', 'C3762368F27', 'C3762567F29', 'C3762643F27', 'C3763012F26', 'C3763564F28', 'C3765416F27', 'C3767419F26', 'C3768453F30', 'C3768979F29', 'C3772583F26', 'C3772985F27', 'C3773081F28', 'C3773573F29', 'C3774047F29', 'C3774617F28', 'C3778322F29', 'C3781937F26', 'C3784347F30', 'C3785965F29', 'C3788665F28', 'C3789049F28', 'C3789785F27', 'C3790864F27', 'C3791617F29', 'C3793292F27', 'C3795227F29', 'C3796882F26', 'C3798032F28', 'C3798713F30', 'C3810119F28', 'C3810187F29', 'C3810526F29', 'C3810575F27', 'C3810716F30', 'C3810753F29', 'C3810769F26', 'C3810928F27', 'C3811034F30', 'C3811289F26', 'C3811577F30', 'C3811621F28', 'C3811944F30', 'C3812254F30', 'C3812681F29', 'C3812838F27', 'C3813216F26', 'C3813430F26', 'C3813623F29', 'C3813653F26', 'C3813679F28', 'C3813838F26', 'C3813871F26', 'C3814048F27', 'C3814077F29', 'C3814140F28', 'C3814167F28', 'C3814858F29', 'C3815063F29', 'C3815372F30', 'C3815413F28', 'C3815769F30', 'C3815979F27', 'C3816348F30', 'C3816648F26', 'C3817030F28', 'C3817326F27', 'C3817367F28', 'C3817511F27', 'C3817628F28', 'C3818591F30', 'C3818661F30', 'C3818682F27', 'C3818735F28', 'C3818848F28', 'C3818963F26', 'C3819269F27', 'C3819445F28', 'C3819655F27', 'C3819870F26', 'C3819874F27', 'C3820313F27', 'C3820445F29', 'C3820722F26', 'C3821227F29', 'C3821351F27', 'C3821616F27', 'C3822189F29', 'C3822373F26', 'C3822813F27', 'C3823138F26', 'C3823372F30', 'C3823389F29', 'C3823512F27', 'C3823567F27', 'C3823657F26', 'C3823850F27', 'C3824116F26', 'C3824242F27', 'C3824529F28', 'C3824547F30', 'C3824731F29', 'C3824825F28', 'C3824835F27', 'C3824845F26', 'C3825349F29', 'C3825528F28', 'C3825747F27', 'C3825946F26', 'C3825949F26', 'C3826133F27', 'C3826925F29', 'C3827548F28', 'C3827582F27', 'C3827691F28', 'C3827732F30', 'C3827735F29', 'C3828013F30', 'C3828278F28', 'C3828278F29', 'C3828582F28', 'C3828777F28', 'C3828789F28', 'C3828977F26', 'C3828985F26', 'C3828992F30', 'C3829067F27', 'C3829127F27', 'C3829142F30', 'C3829355F30', 'C3829442F27', 'C3829453F28', 'C3829728F28', 'C3829814F26', 'C3829942F28', 'C3829983F30', 'C3830362F27', 'C3830872F27', 'C3831492F27', 'C3832360F27', 'C3832420F26', 'C3832534F28', 'C3832630F28', 'C3833283F30', 'C3833359F27', 'C3833664F30', 'C3833772F30', 'C3833888F27', 'C3833891F26', 'C3834245F28', 'C3834359F29', 'C3834582F28', 'C3834691F28', 'C3834869F30', 'C3835086F30', 'C3835119F29', 'C3835135F29', 'C3835192F29', 'C3835313F29', 'C3835335F30', 'C3835375F29', 'C3835381F29', 'C3836025F27', 'C3836240F26', 'C3836447F26', 'C3836840F28', 'C3837066F28', 'C3837138F28', 'C3837837F30', 'C3837957F26', 'C3838184F30', 'C3838269F28', 'C3838368F29', 'C3838574F27', 'C3839834F26', 'C3839942F29', 'C3839951F29', 'C3839958F29', 'C3840030F28', 'C3840153F26', 'C3840183F26', 'C3840234F28', 'C3840387F30', 'C3840565F30', 'C3840633F27', 'C3840649F30', 'C3841057F27', 'C3841473F27', 'C3841862F26', 'C3842148F28', 'C3842529F27', 'C3842853F26', 'C3842863F26', 'C3842933F29', 'C3846879F26', 'C3848044F28', 'C3851642F29', 'C3855157F30', 'C3855940F30', 'C3858034F26', 'C3858057F26', 'C3861279F30', 'C3863013F27', 'C3863025F26', 'C3863037F28', 'C3863422F26', 'C3864139F27', 'C3871476F30', 'C3871926F30', 'C3876220F28', 'C3877620F27', 'C3882276F27', 'C3882464F26', 'C3884337F27', 'C3885958F29', 'C3889432F26', 'C3889643F26', 'C3890777F30', 'C3893240F28', 'C3893288F28', 'C3896328F28', 'C3910018F28', 'C3910047F28', 'C3910089F27', 'C3910154F29', 'C3910169F27', 'C3910184F28', 'C3910461F29', 'C3911032F30', 'C3911056F30', 'C3911149F29', 'C3911160F28', 'C3911229F27', 'C3911385F30', 'C3911618F27', 'C3911659F28', 'C3911717F30', 'C3911925F30', 'C3911946F28', 'C3912027F27', 'C3912089F30', 'C3912248F28', 'C3912778F27', 'C3913059F30', 'C3913315F28', 'C3913665F26', 'C3914073F26', 'C3914565F29', 'C3914614F27', 'C3914628F28', 'C3915330F27', 'C3915624F30', 'C3915766F26', 'C3915828F27', 'C3915919F28', 'C3916661F30', 'C3917054F26', 'C3917086F28', 'C3917228F27', 'C3917246F27', 'C3917486F29', 'C3917539F28', 'C3918132F29', 'C3918323F27', 'C3918347F26', 'C3918352F26', 'C3918528F28', 'C3919027F28', 'C3919175F26', 'C3919389F27', 'C3919421F26', 'C3919527F28', 'C3919657F27', 'C3919680F27', 'C3919824F28', 'C3919890F26', 'C3919950F27', 'C3920476F29', 'C3920782F28', 'C3920831F28', 'C3920876F26', 'C3920920F27', 'C3920945F27', 'C3920984F26', 'C3921248F26', 'C3921272F30', 'C3921317F29', 'C3921545F27', 'C3921553F29', 'C3921629F27', 'C3922075F27', 'C3922136F29', 'C3922240F28', 'C3922339F28', 'C3922392F26', 'C3922425F29', 'C3922667F28', 'C3922711F28', 'C3922953F28', 'C3922972F28', 'C3922988F30', 'C3923250F26', 'C3923562F27', 'C3923656F26', 'C3923751F28', 'C3923931F26', 'C3924060F29', 'C3924114F28', 'C3924322F27', 'C3924437F28', 'C3924616F29', 'C3924630F29', 'C3924651F30', 'C3924833F26', 'C3924986F30', 'C3925322F26', 'C3925326F28', 'C3925349F26', 'C3925418F27', 'C3926081F30', 'C3926126F27', 'C3926142F27', 'C3926149F27', 'C3926184F29', 'C3926511F30', 'C3926975F30', 'C3926978F26', 'C3927228F27', 'C3927584F26', 'C3927592F27', 'C3928189F28', 'C3928385F27', 'C3928545F28', 'C3929119F30', 'C3929423F27', 'C3929445F29', 'C3929513F26', 'C3929554F29', 'C3929978F30', 'C3930039F27', 'C3930342F27', 'C3930566F28', 'C3931030F29', 'C3931182F28', 'C3932239F26', 'C3932488F30', 'C3932687F27', 'C3932872F26', 'C3933589F27', 'C3933753F29', 'C3933769F29', 'C3933987F29', 'C3934019F29', 'C3934158F26', 'C3934216F26', 'C3934290F26', 'C3934348F28', 'C3934452F28', 'C3934736F27', 'C3934750F29', 'C3934778F27', 'C3934929F28', 'C3935045F28', 'C3935056F30', 'C3935081F28', 'C3935085F30', 'C3935237F29', 'C3935332F29', 'C3935487F26', 'C3935554F29', 'C3936254F26', 'C3936264F27', 'C3936781F29', 'C3937343F26', 'C3937570F28', 'C3937861F28', 'C3938087F26', 'C3938366F29', 'C3938386F29', 'C3938462F27', 'C3938483F26', 'C3938866F30', 'C3938972F27', 'C3939377F27', 'C3939583F28', 'C3940050F28', 'C3940232F28', 'C3940244F28', 'C3940414F27', 'C3940429F27', 'C3940436F27', 'C3940445F30', 'C3941375F29', 'C3941512F30', 'C3941787F28', 'C3941861F30', 'C3941931F28', 'C3942516F27', 'C3942537F29', 'C3942632F30', 'C3942823F30', 'C3942842F26', 'C3942848F26', 'C3944945F27', 'C3945134F27', 'C3949786F27', 'C3950072F27', 'C3952428F26', 'C3956513F28', 'C3958127F26', 'C3959715F29', 'C3961282F30', 'C3961586F28', 'C3962611F27', 'C3962819F28', 'C3963655F26', 'C3968692F27', 'C3971862F28', 'C3971982F30', 'C3972724F28', 'C3975561F26', 'C3976042F27', 'C3977623F27', 'C3981981F26', 'C3984058F30', 'C3984360F27', 'C3984388F27', 'C3985125F26', 'C3985348F29', 'C3985525F27', 'C3985957F29', 'C3989525F29', 'C3989774F27', 'C3991136F29', 'C3997118F26', 'C3998326F27', 'C3999843F28', 'C3999967F28', 'C4010139F28', 'C4010939F30', 'C4011082F30', 'C4011124F28', 'C4011145F30', 'C4011155F30', 'C4011244F28', 'C4011272F29', 'C4012019F30', 'C4012088F26', 'C4012157F30', 'C4012730F26', 'C4012814F26', 'C4012869F26', 'C4012964F30', 'C4013039F26', 'C4013128F28', 'C4013411F29', 'C4013688F26', 'C4013811F26', 'C4013980F29', 'C4014779F28', 'C4015072F26', 'C4015243F26', 'C4015268F26', 'C4015446F27', 'C4015636F28', 'C4016164F27', 'C4016358F28', 'C4016574F26', 'C4016787F26', 'C4016987F30', 'C4017043F29', 'C4017276F30', 'C4017422F30', 'C4017432F27', 'C4018114F28', 'C4018151F26', 'C4018259F28', 'C4018312F29', 'C4018360F29', 'C4018550F28', 'C4018828F26', 'C4019053F28', 'C4019177F28', 'C4019371F27', 'C4019625F28', 'C4019890F28', 'C4020382F28', 'C4020428F29', 'C4020645F28', 'C4020778F29', 'C4021038F27', 'C4021392F30', 'C4021562F27', 'C4022212F28', 'C4022238F30', 'C4022311F27', 'C4022324F29', 'C4022484F29', 'C4022737F29', 'C4022919F27', 'C4022974F26', 'C4022979F26', 'C4023314F30', 'C4023526F28', 'C4023620F30', 'C4023690F26', 'C4023821F28', 'C4024142F28', 'C4024370F27', 'C4024455F27', 'C4024568F29', 'C4024588F27', 'C4024672F27', 'C4024831F28', 'C4025157F27', 'C4025223F30', 'C4025257F28', 'C4025363F27', 'C4025471F29', 'C4025550F26', 'C4025674F29', 'C4026011F30', 'C4026153F27', 'C4026192F26', 'C4026912F29', 'C4026915F27', 'C4026924F29', 'C4026952F29', 'C4027538F28', 'C4027555F27', 'C4027657F26', 'C4027872F27', 'C4027937F27', 'C4027948F26', 'C4028125F28', 'C4028452F28', 'C4028562F26', 'C4029567F29', 'C4029657F29', 'C4029757F28', 'C4029784F28', 'C4029819F26', 'C4029856F26', 'C4030035F28', 'C4030355F29', 'C4030421F29', 'C4030450F27', 'C4030491F26', 'C4031045F29', 'C4031084F29', 'C4031227F26', 'C4031333F27', 'C4031686F27', 'C4031815F29', 'C4031971F29', 'C4032187F29', 'C4032236F26', 'C4032512F28', 'C4032516F28', 'C4032630F28', 'C4032736F29', 'C4032771F26', 'C4032915F28', 'C4032935F26', 'C4032981F28', 'C4033215F29', 'C4033434F27', 'C4033449F27', 'C4033711F28', 'C4033818F27', 'C4034011F27', 'C4034139F26', 'C4034562F28', 'C4035150F27', 'C4035222F27', 'C4035791F27', 'C4036082F30', 'C4036314F26', 'C4036338F30', 'C4036646F27', 'C4036842F27', 'C4037114F26', 'C4037239F28', 'C4037569F30', 'C4037934F30', 'C4038287F30', 'C4038624F28', 'C4038834F30', 'C4039330F28', 'C4039358F29', 'C4039628F28', 'C4039835F30', 'C4040043F30', 'C4040334F26', 'C4040419F27', 'C4041013F28', 'C4041282F28', 'C4041322F29', 'C4041370F29', 'C4041592F28', 'C4042047F26', 'C4042058F29', 'C4042254F28', 'C4042291F26', 'C4042518F27', 'C4042623F26', 'C4044925F27', 'C4046378F30', 'C4050673F29', 'C4057938F29', 'C4058016F26', 'C4059411F27', 'C4062021F28', 'C4062639F27', 'C4063048F26', 'C4063087F26', 'C4067977F26', 'C4069513F27', 'C4069574F27', 'C4071352F30', 'C4073946F26', 'C4077218F30', 'C4078777F27', 'C4079420F26', 'C4079454F26', 'C4079562F29', 'C4080526F27', 'C4084359F27', 'C4084389F27', 'C4087614F26', 'C4087631F26', 'C4088067F26', 'C4089748F27', 'C4091637F28', 'C4094949F28', 'C4095292F27', 'C4096534F26', 'C4097176F26', 'C4098252F28', 'C4110041F26', 'C4110116F28', 'C4110135F28', 'C4110441F29', 'C4110662F30', 'C4110732F26', 'C4110749F27', 'C4111012F30', 'C4111154F29', 'C4111336F26', 'C4111383F30', 'C4111555F28', 'C4111921F29', 'C4111934F30', 'C4112566F29', 'C4112629F30', 'C4112750F27', 'C4112751F26', 'C4112846F27', 'C4112878F26', 'C4112938F30', 'C4112988F30', 'C4113020F30', 'C4113417F29', 'C4113826F28', 'C4113956F30', 'C4113976F30', 'C4114364F27', 'C4114665F27', 'C4114666F30', 'C4115057F26', 'C4115267F27', 'C4115658F26', 'C4115978F26', 'C4116223F26', 'C4116792F26', 'C4117189F26', 'C4117288F26', 'C4117735F30', 'C4117819F30', 'C4118266F27', 'C4118267F27', 'C4118379F29', 'C4118540F27', 'C4118566F27', 'C4118714F28', 'C4118981F29', 'C4119083F28', 'C4119288F29', 'C4119374F26', 'C4119449F29', 'C4119588F30', 'C4119589F26', 'C4119636F27', 'C4119661F27', 'C4119769F28', 'C4119926F30', 'C4119952F29', 'C4120620F30', 'C4120687F28', 'C4120851F29', 'C4120886F28', 'C4121061F29', 'C4121116F27', 'C4121229F26', 'C4121357F30', 'C4121418F28', 'C4121513F29', 'C4121516F27', 'C4121516F29', 'C4121528F27', 'C4121662F26', 'C4121719F29', 'C4121838F27', 'C4122188F26', 'C4122284F30', 'C4122388F26', 'C4122639F26', 'C4122981F27', 'C4123091F28', 'C4123126F27', 'C4123527F27', 'C4123819F27', 'C4123866F27', 'C4123888F30', 'C4123961F29', 'C4124061F27', 'C4124356F30', 'C4124379F28', 'C4124382F27', 'C4124842F27', 'C4125088F27', 'C4125128F28', 'C4125238F27', 'C4125488F29', 'C4125783F27', 'C4125938F29', 'C4125945F30', 'C4126647F27', 'C4126676F28', 'C4126724F28', 'C4127016F26', 'C4127324F28', 'C4127771F27', 'C4127788F27', 'C4127935F30', 'C4128054F26', 'C4128072F26', 'C4128216F28', 'C4128253F28', 'C4128346F27', 'C4128385F28', 'C4128449F27', 'C4128552F26', 'C4128811F26', 'C4128849F30', 'C4128850F26', 'C4128914F26', 'C4129355F29', 'C4129986F28', 'C4130317F28', 'C4130392F28', 'C4130413F29', 'C4130641F28', 'C4130976F27', 'C4131823F28', 'C4131892F28', 'C4132034F28', 'C4132446F26', 'C4132560F28', 'C4132618F27', 'C4132756F26', 'C4132847F26', 'C4132912F29', 'C4133068F29', 'C4133233F26', 'C4133362F28', 'C4133521F30', 'C4133943F26', 'C4134253F27', 'C4134522F26', 'C4134715F26', 'C4134784F29', 'C4134837F27', 'C4134956F27', 'C4135366F29', 'C4135463F26', 'C4135690F28', 'C4135753F26', 'C4136184F26', 'C4136582F26', 'C4137246F28', 'C4137522F29', 'C4138039F30', 'C4138078F26', 'C4138143F29', 'C4138161F30', 'C4138733F29', 'C4139017F27', 'C4139074F28', 'C4139388F26', 'C4139584F27', 'C4139965F29', 'C4140051F28', 'C4140227F28', 'C4140460F27', 'C4140777F27', 'C4140835F30', 'C4140914F29', 'C4140937F29', 'C4141425F26', 'C4142262F26', 'C4142313F27', 'C4142715F29', 'C4147165F26', 'C4150445F27', 'C4150671F29', 'C4150719F28', 'C4152681F29', 'C4152988F27', 'C4153184F28', 'C4153655F28', 'C4153835F26', 'C4155179F30', 'C4155637F27', 'C4158357F27', 'C4159538F30', 'C4161277F30', 'C4161511F30', 'C4161552F26', 'C4163013F28', 'C4164925F28', 'C4165269F26', 'C4166016F26', 'C4168318F26', 'C4168627F29', 'C4171533F28', 'C4171683F27', 'C4173276F26', 'C4184037F27', 'C4185927F29', 'C4188178F27', 'C4189585F29', 'C4190625F26', 'C4210017F28', 'C4210060F27', 'C4210184F27', 'C4210286F28', 'C4210546F26', 'C4210748F27', 'C4210831F28', 'C4210936F26', 'C4211020F26', 'C4211577F29', 'C4211812F29', 'C4211889F26', 'C4211934F28', 'C4212389F27', 'C4212624F30', 'C4212848F29', 'C4213113F27', 'C4213843F27', 'C4214814F29', 'C4214822F30', 'C4215425F27', 'C4215435F28', 'C4215765F26', 'C4215943F26', 'C4216539F28', 'C4216588F30', 'C4216592F27', 'C4216784F26', 'C4216936F27', 'C4217475F28', 'C4217475F30', 'C4217948F28', 'C4218191F26', 'C4218322F29', 'C4218453F27', 'C4218636F27', 'C4218674F28', 'C4219014F28', 'C4219226F30', 'C4219611F29', 'C4219626F29', 'C4219865F28', 'C4220316F29', 'C4220634F27', 'C4220827F28', 'C4220987F27', 'C4221131F26', 'C4221327F26', 'C4221449F28', 'C4221774F30', 'C4221842F29', 'C4222355F27', 'C4222361F27', 'C4222875F26', 'C4223911F30', 'C4223957F26', 'C4223987F26', 'C4224011F28', 'C4224281F28', 'C4224539F30', 'C4224612F26', 'C4224627F27', 'C4224665F29', 'C4225091F28', 'C4225484F28', 'C4225559F29', 'C4225590F28', 'C4225936F27', 'C4226027F30', 'C4226347F26', 'C4226428F30', 'C4226986F30', 'C4227191F28', 'C4227286F26', 'C4227751F27', 'C4227824F26', 'C4227981F26', 'C4228037F29', 'C4228635F27', 'C4228786F28', 'C4229013F28', 'C4229147F30', 'C4229181F29', 'C4229416F29', 'C4230142F26', 'C4230328F26', 'C4230423F26', 'C4231167F28', 'C4231871F26', 'C4231935F29', 'C4232228F26', 'C4232286F26', 'C4232712F29', 'C4232789F27', 'C4232831F29', 'C4232886F26', 'C4232965F27', 'C4233083F29', 'C4233271F28', 'C4233357F28', 'C4233732F26', 'C4233845F28', 'C4233918F26', 'C4234324F29', 'C4234338F29', 'C4234384F30', 'C4234460F29', 'C4234727F27', 'C4234743F29', 'C4234765F26', 'C4234855F28', 'C4234916F28', 'C4235075F29', 'C4235136F29', 'C4235177F28', 'C4235221F27', 'C4235251F27', 'C4235358F27', 'C4235373F29', 'C4235387F29', 'C4235418F26', 'C4235468F29', 'C4235588F29', 'C4236111F26', 'C4236225F30', 'C4236377F26', 'C4236451F29', 'C4236685F27', 'C4236951F30', 'C4237391F30', 'C4237732F28', 'C4237819F28', 'C4237891F26', 'C4237942F30', 'C4238169F30', 'C4238285F27', 'C4238372F29', 'C4238623F30', 'C4238627F30', 'C4238742F29', 'C4239415F29', 'C4239435F27', 'C4239457F29', 'C4239484F28', 'C4239717F29', 'C4239777F29', 'C4240072F28', 'C4240131F26', 'C4240267F29', 'C4240287F29', 'C4240572F28', 'C4240642F30', 'C4240882F27', 'C4240972F26', 'C4241131F28', 'C4241258F30', 'C4241277F30', 'C4241690F27', 'C4241713F29', 'C4242065F29', 'C4242465F28', 'C4242918F29', 'C4244350F30', 'C4245460F28', 'C4247651F29', 'C4249671F29', 'C4252058F29', 'C4252488F26', 'C4255151F30', 'C4256449F27', 'C4259747F29', 'C4260647F28', 'C4261879F27', 'C4262717F27', 'C4263011F29', 'C4263066F28', 'C4264951F26', 'C4265021F29', 'C4265437F27', 'C4270475F26', 'C4272131F26', 'C4274449F29', 'C4276051F26', 'C4278579F26', 'C4279378F30', 'C4280367F28', 'C4281968F29', 'C4282319F27', 'C4284470F28', 'C4284621F27', 'C4285415F27', 'C4292018F29', 'C4296357F28', 'C4310116F28', 'C4310165F28', 'C4310263F26', 'C4310366F29', 'C4310431F29', 'C4310488F26', 'C4310747F30', 'C4310851F29', 'C4310986F30', 'C4311049F30', 'C4311214F26', 'C4311260F27', 'C4311483F29', 'C4311630F27', 'C4311640F28', 'C4311648F28', 'C4311816F30', 'C4311822F30', 'C4311888F29', 'C4312143F30', 'C4312292F29', 'C4312435F27', 'C4312623F30', 'C4312689F30', 'C4312716F26', 'C4312823F30', 'C4312914F26', 'C4312963F27', 'C4313058F30', 'C4313126F29', 'C4313183F27', 'C4313250F26', 'C4313292F28', 'C4313534F27', 'C4313819F27', 'C4313963F30', 'C4314148F29', 'C4314250F29', 'C4314451F27', 'C4314822F28', 'C4314836F27', 'C4315045F29', 'C4315122F27', 'C4315652F26', 'C4316181F26', 'C4316842F28', 'C4316859F26', 'C4317214F28', 'C4317277F27', 'C4317373F26', 'C4317375F28', 'C4317616F29', 'C4317855F28', 'C4317966F27', 'C4318347F26', 'C4318684F28', 'C4318972F27', 'C4319225F27', 'C4319268F28', 'C4319340F26', 'C4319720F30', 'C4319752F30', 'C4320079F26', 'C4320351F28', 'C4320532F28', 'C4320923F30', 'C4321082F26', 'C4321228F26', 'C4321468F27', 'C4321513F26', 'C4322159F29', 'C4322318F26', 'C4322354F28', 'C4322379F27', 'C4322522F26', 'C4322535F30', 'C4322560F27', 'C4322565F30', 'C4322633F27', 'C4322838F27', 'C4322867F27', 'C4322926F28', 'C4322936F28', 'C4323030F27', 'C4323124F30', 'C4323188F30', 'C4323885F27', 'C4323935F26', 'C4324154F28', 'C4324356F28', 'C4324829F26', 'C4324888F29', 'C4324939F30', 'C4325056F30', 'C4325058F30', 'C4325459F27', 'C4325549F28', 'C4325656F29', 'C4325669F26', 'C4325725F27', 'C4325824F27', 'C4325867F27', 'C4325940F29', 'C4325959F30', 'C4327267F28', 'C4327286F26', 'C4327335F28', 'C4327562F27', 'C4327677F27', 'C4327846F26', 'C4327858F27', 'C4328015F29', 'C4328341F28', 'C4328543F26', 'C4328737F26', 'C4329040F27', 'C4329370F29', 'C4329435F27', 'C4329922F26', 'C4330073F29', 'C4330324F26', 'C4330962F26', 'C4331032F28', 'C4331060F29', 'C4331120F30', 'C4331149F27', 'C4331715F27', 'C4332048F29', 'C4332218F26', 'C4332854F27', 'C4332881F27', 'C4332965F27', 'C4333847F27', 'C4334269F26', 'C4334361F26', 'C4334470F30', 'C4334715F29', 'C4334884F27', 'C4335037F28', 'C4335180F28', 'C4335272F27', 'C4335484F29', 'C4335976F26', 'C4336014F30', 'C4336320F29', 'C4336442F29', 'C4336584F27', 'C4336652F30', 'C4337335F27', 'C4337350F26', 'C4337939F30', 'C4338040F30', 'C4338177F30', 'C4338467F30', 'C4338717F27', 'C4338915F28', 'C4339346F27', 'C4339557F28', 'C4339583F27', 'C4340130F26', 'C4340136F30', 'C4340259F29', 'C4340436F30', 'C4340474F28', 'C4340570F28', 'C4340811F29', 'C4340842F30', 'C4341856F27', 'C4342237F26', 'C4342311F27', 'C4344319F30', 'C4345488F26', 'C4347288F29', 'C4347691F29', 'C4349515F28', 'C4351242F26', 'C4352426F26', 'C4352974F27', 'C4353549F26', 'C4358088F26', 'C4358352F27', 'C4361250F28', 'C4363449F28', 'C4364238F29', 'C4366015F28', 'C4366139F30', 'C4371984F30', 'C4373522F29', 'C4376083F26', 'C4377258F27', 'C4377440F27', 'C4377973F29', 'C4384378F27', 'C4385541F29', 'C4388224F30', 'C4390384F26', 'C4390880F27', 'C4391116F28', 'C4391626F28', 'C4394574F28', 'C4396948F29', 'C4396980F29', 'C4397166F26', 'C4399178F26', 'C4399314F27', 'C4410090F27', 'C4410163F28', 'C4410166F28', 'C4410515F27', 'C4410768F26', 'C4411090F27', 'C4411182F29', 'C4411282F28', 'C4411341F30', 'C4411566F28', 'C4411586F29', 'C4411843F26', 'C4412160F26', 'C4412269F26', 'C4412417F26', 'C4412621F27', 'C4412676F27', 'C4412728F28', 'C4412747F27', 'C4412924F26', 'C4413041F30', 'C4413056F30', 'C4413445F30', 'C4413590F26', 'C4413855F27', 'C4414068F28', 'C4414083F26', 'C4414129F28', 'C4414212F28', 'C4414261F26', 'C4414519F30', 'C4414591F29', 'C4414930F28', 'C4414966F28', 'C4414972F27', 'C4415126F29', 'C4416035F29', 'C4416050F27', 'C4416386F30', 'C4416568F27', 'C4416652F26', 'C4416890F28', 'C4417218F26', 'C4417323F27', 'C4417336F30', 'C4417963F26', 'C4418292F27', 'C4418326F29', 'C4418355F30', 'C4418392F29', 'C4418431F29', 'C4418868F27', 'C4418987F27', 'C4419059F29', 'C4419092F28', 'C4419122F28', 'C4419716F29', 'C4419739F29', 'C4419865F27', 'C4420265F29', 'C4420689F27', 'C4420711F26', 'C4420855F28', 'C4420923F27', 'C4420983F26', 'C4421047F28', 'C4421365F26', 'C4421469F28', 'C4421881F26', 'C4421991F28', 'C4422154F29', 'C4422157F28', 'C4422237F26', 'C4422317F26', 'C4422332F26', 'C4422358F26', 'C4422445F28', 'C4422460F29', 'C4422846F29', 'C4422946F27', 'C4423012F27', 'C4423018F28', 'C4423940F30', 'C4424081F29', 'C4424243F26', 'C4424525F29', 'C4424551F30', 'C4425190F29', 'C4425367F26', 'C4425453F29', 'C4425551F29', 'C4425589F29', 'C4425756F26', 'C4425871F26', 'C4426160F27', 'C4426163F27', 'C4426232F29', 'C4426363F26', 'C4426440F30', 'C4426533F27', 'C4426658F27', 'C4426972F29', 'C4427068F26', 'C4427411F26', 'C4427467F29', 'C4427880F26', 'C4427940F27', 'C4428078F27', 'C4428277F29', 'C4428343F28', 'C4428413F27', 'C4429333F29', 'C4429562F29', 'C4430126F30', 'C4430343F27', 'C4430836F30', 'C4431017F26', 'C4431177F30', 'C4431854F27', 'C4431954F30', 'C4432369F30', 'C4432465F30', 'C4432659F30', 'C4432728F27', 'C4432836F30', 'C4432844F26', 'C4433072F30', 'C4433115F27', 'C4433334F26', 'C4434056F26', 'C4434375F29', 'C4434461F29', 'C4434566F29', 'C4434967F27', 'C4435214F26', 'C4435224F27', 'C4435488F26', 'C4435527F27', 'C4435592F29', 'C4435620F26', 'C4436124F29', 'C4436638F26', 'C4436678F28', 'C4436724F27', 'C4437456F26', 'C4437762F26', 'C4437781F28', 'C4438031F26', 'C4438137F29', 'C4438289F30', 'C4438358F30', 'C4438938F27', 'C4439236F27', 'C4439726F29', 'C4439963F26', 'C4440030F30', 'C4440173F28', 'C4440323F30', 'C4440661F27', 'C4440866F28', 'C4440879F26', 'C4441749F26', 'C4441821F26', 'C4442014F29', 'C4442071F26', 'C4442126F27', 'C4442212F26', 'C4442240F28', 'C4442332F30', 'C4442352F27', 'C4442415F28', 'C4442654F30', 'C4442953F29', 'C4448446F27', 'C4450653F29', 'C4455188F30', 'C4456857F29', 'C4457917F29', 'C4458069F26', 'C4458120F30', 'C4461243F30', 'C4461274F30', 'C4461476F28', 'C4461862F27', 'C4462064F28', 'C4462531F27', 'C4466825F26', 'C4470856F30', 'C4471637F27', 'C4473616F30', 'C4475948F27', 'C4483359F27', 'C4486736F28', 'C4492332F27', 'C4496289F27', 'C4499164F26', 'C4510123F29', 'C4510730F28', 'C4510948F30', 'C4511157F28', 'C4511232F26', 'C4511425F27', 'C4511550F27', 'C4511562F26', 'C4511569F27', 'C4511618F30', 'C4511663F28', 'C4512015F30', 'C4512039F30', 'C4512450F30', 'C4512724F26', 'C4512913F30', 'C4513688F26', 'C4513852F27', 'C4514221F28', 'C4514841F27', 'C4514958F28', 'C4514990F28', 'C4515064F28', 'C4515224F27', 'C4515287F26', 'C4515437F26', 'C4515564F28', 'C4516034F26', 'C4516226F26', 'C4516356F26', 'C4516743F29', 'C4516768F26', 'C4517033F27', 'C4517054F26', 'C4517059F30', 'C4517491F30', 'C4518063F28', 'C4518376F29', 'C4518378F29', 'C4518465F26', 'C4518770F27', 'C4519255F30', 'C4519446F26', 'C4519612F28', 'C4519632F27', 'C4519925F28', 'C4520175F29', 'C4520234F26', 'C4520454F28', 'C4520492F28', 'C4520734F26', 'C4520913F30', 'C4520934F27', 'C4521137F27', 'C4521347F29', 'C4521365F29', 'C4521454F26', 'C4521644F27', 'C4521887F27', 'C4522040F28', 'C4522520F27', 'C4522530F26', 'C4522627F28', 'C4522926F27', 'C4522983F27', 'C4523153F26', 'C4523187F27', 'C4523438F28', 'C4523921F30', 'C4524073F27', 'C4524229F28', 'C4524529F26', 'C4524763F29', 'C4525324F29', 'C4525365F30', 'C4525820F27', 'C4525927F28', 'C4525944F27', 'C4525952F29', 'C4526130F29', 'C4526342F26', 'C4526715F26', 'C4528346F28', 'C4528628F27', 'C4528865F30', 'C4529136F30', 'C4529640F30', 'C4529954F26', 'C4530046F28', 'C4530659F29', 'C4530992F26', 'C4531142F30', 'C4531857F29', 'C4532155F29', 'C4532274F26', 'C4532559F28', 'C4532837F26', 'C4533891F27', 'C4534037F28', 'C4534739F27', 'C4534774F27', 'C4534990F27', 'C4535016F30', 'C4535056F29', 'C4535077F28', 'C4535122F29', 'C4535175F26', 'C4535185F26', 'C4535277F27', 'C4535571F29', 'C4535983F26', 'C4535985F26', 'C4536148F30', 'C4536426F29', 'C4536484F26', 'C4536774F29', 'C4536962F26', 'C4537055F30', 'C4537091F27', 'C4537136F28', 'C4537183F28', 'C4537253F29', 'C4537385F27', 'C4537544F26', 'C4537686F26', 'C4537820F27', 'C4537990F30', 'C4538048F26', 'C4538170F27', 'C4538184F27', 'C4538321F30', 'C4538346F26', 'C4538816F26', 'C4538889F30', 'C4538965F30', 'C4539247F27', 'C4539331F29', 'C4539441F30', 'C4539713F29', 'C4539984F30', 'C4540229F27', 'C4540272F29', 'C4540350F26', 'C4540483F27', 'C4540568F28', 'C4540633F26', 'C4540826F27', 'C4541546F27', 'C4541576F27', 'C4541667F28', 'C4541737F28', 'C4542458F28', 'C4543423F29', 'C4546036F28', 'C4546543F27', 'C4553768F28', 'C4555190F30', 'C4555191F30', 'C4558589F26', 'C4559765F29', 'C4564911F28', 'C4568352F26', 'C4571952F30', 'C4573814F29', 'C4577229F30', 'C4579711F28', 'C4582123F29', 'C4582225F27', 'C4584355F27', 'C4584391F27', 'C4585571F30', 'C4585989F29', 'C4587571F26', 'C4591012F29', 'C4592118F30', 'C4595069F29', 'C4595640F29', 'C4599490F27', 'C4610048F26', 'C4610269F28', 'C4610412F26', 'C4610575F28', 'C4610637F26', 'C4611067F30', 'C4611156F30', 'C4611271F26', 'C4611536F26', 'C4611811F30', 'C4612090F28', 'C4612516F29', 'C4612575F27', 'C4612911F26', 'C4613120F27', 'C4613254F30', 'C4613877F26', 'C4613953F30', 'C4613982F30', 'C4614083F28', 'C4614248F29', 'C4614882F27', 'C4615244F27', 'C4615321F30', 'C4615514F28', 'C4615630F29', 'C4615638F29', 'C4615652F26', 'C4615730F28', 'C4615875F29', 'C4615932F28', 'C4616318F26', 'C4616813F29', 'C4616866F28', 'C4617642F28', 'C4617726F26', 'C4618339F27', 'C4618371F26', 'C4618437F28', 'C4618720F27', 'C4618785F28', 'C4619423F27', 'C4619740F30', 'C4619791F30', 'C4619911F30', 'C4619990F27', 'C4620242F29', 'C4620341F29', 'C4620375F27', 'C4620376F28', 'C4620450F28', 'C4620479F30', 'C4620578F30', 'C4620717F27', 'C4621271F29', 'C4621741F29', 'C4621916F27', 'C4622259F28', 'C4622266F28', 'C4622485F29', 'C4622615F27', 'C4622690F30', 'C4623228F27', 'C4623315F30', 'C4623368F29', 'C4623648F26', 'C4623669F27', 'C4623841F29', 'C4623886F26', 'C4624211F28', 'C4624671F29', 'C4625158F26', 'C4625273F26', 'C4625436F29', 'C4625560F28', 'C4625928F28', 'C4626038F30', 'C4626059F30', 'C4626072F29', 'C4626121F29', 'C4626651F29', 'C4626724F28', 'C4626964F30', 'C4626988F28', 'C4627315F28', 'C4627863F26', 'C4627936F27', 'C4628041F29', 'C4628154F27', 'C4628217F26', 'C4628234F27', 'C4628250F27', 'C4628285F27', 'C4628490F27', 'C4628722F28', 'C4629059F28', 'C4629120F30', 'C4629546F26', 'C4629860F27', 'C4629979F30', 'C4630651F29', 'C4630821F27', 'C4630933F26', 'C4630945F26', 'C4631024F29', 'C4631639F29', 'C4631713F30', 'C4631768F30', 'C4631821F29', 'C4632063F27', 'C4632066F27', 'C4632080F27', 'C4632265F26', 'C4632847F28', 'C4632948F27', 'C4633686F28', 'C4633740F26', 'C4633917F26', 'C4633983F26', 'C4634340F29', 'C4634464F29', 'C4634631F26', 'C4634874F27', 'C4634941F29', 'C4634985F26', 'C4635063F28', 'C4635076F30', 'C4635245F30', 'C4635846F29', 'C4635869F28', 'C4636034F27', 'C4636170F28', 'C4636289F26', 'C4636722F27', 'C4636834F28', 'C4637252F30', 'C4637323F26', 'C4637512F29', 'C4637547F28', 'C4637770F29', 'C4637949F30', 'C4638141F27', 'C4638527F26', 'C4638745F30', 'C4638755F30', 'C4639044F30', 'C4639634F27', 'C4639834F27', 'C4639960F26', 'C4640014F30', 'C4640265F26', 'C4640270F29', 'C4640621F30', 'C4640944F27', 'C4641069F26', 'C4641335F29', 'C4641692F27', 'C4641820F26', 'C4641889F29', 'C4642060F29', 'C4642744F30', 'C4646013F29', 'C4646260F29', 'C4649668F30', 'C4652820F28', 'C4655957F30', 'C4659217F30', 'C4661162F29', 'C4661242F30', 'C4662612F27', 'C4664366F30', 'C4665318F27', 'C4665919F27', 'C4667645F30', 'C4670418F26', 'C4671320F30', 'C4674220F30', 'C4678468F26', 'C4679034F28', 'C4679147F28', 'C4679881F29', 'C4683623F27', 'C4685175F28', 'C4685560F30', 'C4685942F29', 'C4692049F29', 'C4696277F27', 'C4696772F28', 'C4710062F28', 'C4710139F27', 'C4710289F26', 'C4710534F26', 'C4711013F29', 'C4711073F27', 'C4711238F26', 'C4711343F26', 'C4711423F28', 'C4711848F30', 'C4712158F29', 'C4712467F27', 'C4712530F29', 'C4712581F27', 'C4713255F28', 'C4713574F29', 'C4713853F26', 'C4713990F30', 'C4714424F26', 'C4714427F27', 'C4714443F27', 'C4714880F29', 'C4714938F28', 'C4715049F26', 'C4715190F28', 'C4715388F30', 'C4715476F30', 'C4715818F27', 'C4715919F28', 'C4715935F27', 'C4715982F28', 'C4716124F29', 'C4716349F27', 'C4716434F26', 'C4716585F30', 'C4716848F29', 'C4717049F29', 'C4717075F29', 'C4717214F30', 'C4717383F29', 'C4718258F29', 'C4718332F29', 'C4718433F27', 'C4718556F27', 'C4719072F28', 'C4719287F28', 'C4719691F29', 'C4719849F26', 'C4720540F28', 'C4720588F28', 'C4720871F29', 'C4720889F28', 'C4720921F28', 'C4720933F28', 'C4720938F26', 'C4721573F29', 'C4721650F30', 'C4722155F27', 'C4722269F28', 'C4722364F26', 'C4722564F30', 'C4722778F26', 'C4722981F30', 'C4723053F29', 'C4723249F28', 'C4723321F29', 'C4723338F27', 'C4723829F29', 'C4723989F29', 'C4724732F26', 'C4724834F26', 'C4725015F26', 'C4725176F30', 'C4725269F28', 'C4725415F29', 'C4726073F30', 'C4726149F27', 'C4726353F27', 'C4726364F28', 'C4726433F30', 'C4726448F30', 'C4726845F30', 'C4726973F30', 'C4727086F30', 'C4727149F27', 'C4727314F28', 'C4727430F27', 'C4727447F28', 'C4728148F26', 'C4728165F28', 'C4728451F27', 'C4728592F26', 'C4728818F30', 'C4728964F30', 'C4728966F26', 'C4729163F29', 'C4729182F28', 'C4729324F27', 'C4729479F29', 'C4729689F28', 'C4729815F26', 'C4730319F26', 'C4730353F29', 'C4730548F28', 'C4730748F29', 'C4731982F27', 'C4732128F28', 'C4732379F27', 'C4732432F28', 'C4732560F30', 'C4732565F28', 'C4732611F26', 'C4732627F29', 'C4732727F27', 'C4732829F26', 'C4732970F27', 'C4733037F29', 'C4733344F26', 'C4734061F27', 'C4734348F27', 'C4734392F26', 'C4734749F28', 'C4734882F26', 'C4734969F30', 'C4734979F27', 'C4735120F27', 'C4735171F26', 'C4737016F27', 'C4737185F26', 'C4737437F27', 'C4737628F30', 'C4737848F29', 'C4738191F26', 'C4738277F28', 'C4738425F29', 'C4738791F29', 'C4739015F28', 'C4739055F28', 'C4739227F28', 'C4739634F27', 'C4739914F29', 'C4740464F27', 'C4740539F28', 'C4741044F26', 'C4741081F30', 'C4741119F27', 'C4741285F29', 'C4741288F30', 'C4741570F27', 'C4741791F28', 'C4742131F27', 'C4742364F30', 'C4742389F29', 'C4742777F30', 'C4743941F28', 'C4745969F26', 'C4749076F28', 'C4749618F29', 'C4749772F28', 'C4750649F29', 'C4751026F26', 'C4751960F26', 'C4752475F26', 'C4753674F29', 'C4753743F28', 'C4753918F26', 'C4754027F30', 'C4757523F28', 'C4758714F27', 'C4761233F30', 'C4761286F30', 'C4764315F30', 'C4767158F29', 'C4767260F27', 'C4768864F26', 'C4772488F28', 'C4772711F28', 'C4772864F30', 'C4776924F26', 'C4778491F28', 'C4780349F28', 'C4783114F28', 'C4784319F27', 'C4785655F28', 'C4789677F26', 'C4791059F29', 'C4792315F27', 'C4793487F29', 'C4795240F29', 'C4796347F28', 'C4796763F28', 'C4797278F26', 'C4810055F27', 'C4810189F28', 'C4810348F29', 'C4810381F27', 'C4810682F28', 'C4810956F27', 'C4811048F27', 'C4811085F30', 'C4811420F29', 'C4811519F29', 'C4811538F29', 'C4811637F29', 'C4812058F26', 'C4812281F30', 'C4812559F27', 'C4812937F26', 'C4813018F27', 'C4813281F26', 'C4813358F26', 'C4813772F26', 'C4813975F27', 'C4814085F28', 'C4814416F26', 'C4814635F28', 'C4814772F27', 'C4814874F29', 'C4814971F27', 'C4815048F29', 'C4815652F28', 'C4815960F26', 'C4816518F30', 'C4816574F27', 'C4816616F30', 'C4816724F26', 'C4816768F29', 'C4816930F26', 'C4817424F30', 'C4817575F30', 'C4817917F28', 'C4818340F26', 'C4818442F27', 'C4818648F26', 'C4818934F27', 'C4819020F28', 'C4819040F29', 'C4819139F30', 'C4819173F28', 'C4819235F27', 'C4819467F26', 'C4819648F29', 'C4819749F30', 'C4819872F28', 'C4819888F27', 'C4820128F28', 'C4820139F28', 'C4820177F27', 'C4820212F27', 'C4820920F26', 'C4820932F28', 'C4820936F26', 'C4820940F28', 'C4820942F28', 'C4821279F29', 'C4821352F30', 'C4821473F27', 'C4821613F30', 'C4821738F26', 'C4821785F26', 'C4821878F30', 'C4821984F27', 'C4822387F26', 'C4822390F27', 'C4822441F28', 'C4822837F27', 'C4823015F26', 'C4823074F27', 'C4823273F28', 'C4823392F27', 'C4823744F30', 'C4823982F27', 'C4824224F28', 'C4824526F29', 'C4824653F27', 'C4824712F29', 'C4824812F27', 'C4825734F27', 'C4825767F26', 'C4826478F28', 'C4826983F28', 'C4827526F27', 'C4827581F26', 'C4827586F26', 'C4827941F27', 'C4828318F27', 'C4828646F27', 'C4828726F28', 'C4828766F28', 'C4828871F26', 'C4828968F26', 'C4829082F28', 'C4829119F26', 'C4829452F29', 'C4829663F26', 'C4829740F28', 'C4829848F30', 'C4829864F30', 'C4829870F26', 'C4829954F27', 'C4829990F27', 'C4830119F26', 'C4830336F29', 'C4830485F27', 'C4830551F28', 'C4830845F30', 'C4830960F26', 'C4831066F27', 'C4831121F30', 'C4831129F27', 'C4831168F30', 'C4831532F27', 'C4831857F28', 'C4832061F26', 'C4832227F27', 'C4832364F27', 'C4832527F28', 'C4832549F28', 'C4832675F29', 'C4832884F29', 'C4833186F27', 'C4833259F29', 'C4833425F26', 'C4833456F27', 'C4833540F27', 'C4833919F26', 'C4833985F26', 'C4833986F26', 'C4834032F30', 'C4834086F27', 'C4834330F29', 'C4834356F29', 'C4834431F29', 'C4834617F26', 'C4834811F30', 'C4834864F26', 'C4835020F28', 'C4835052F26', 'C4835059F30', 'C4835671F26', 'C4835863F29', 'C4836067F30', 'C4836889F27', 'C4837316F26', 'C4837323F27', 'C4837445F28', 'C4838111F30', 'C4838244F27', 'C4838347F28', 'C4838455F27', 'C4838912F30', 'C4839171F28', 'C4839253F28', 'C4839464F29', 'C4839555F28', 'C4840172F26', 'C4840374F26', 'C4840656F27', 'C4841263F30', 'C4841461F26', 'C4841512F27', 'C4841830F30', 'C4841844F30', 'C4841948F28', 'C4842487F29', 'C4842628F27', 'C4842635F28', 'C4842641F27', 'C4842650F27', 'C4842777F30', 'C4849035F28', 'C4849751F28', 'C4851549F26', 'C4852266F26', 'C4853660F26', 'C4855186F30', 'C4855261F26', 'C4856961F28', 'C4858022F26', 'C4863242F28', 'C4863668F27', 'C4864184F27', 'C4868380F26', 'C4868444F30', 'C4868627F29', 'C4868775F28', 'C4869762F27', 'C4870455F26', 'C4873024F28', 'C4873823F27', 'C4874260F30', 'C4876058F30', 'C4885339F27', 'C4885915F29', 'C4886170F26', 'C4889783F27', 'C4895735F29', 'C4896748F28', 'C4898487F26', 'C4910165F28', 'C4910442F26', 'C4910472F29', 'C4910567F29', 'C4910726F27', 'C4910777F26', 'C4911234F27', 'C4911321F30', 'C4911412F27', 'C4911618F28', 'C4911632F29', 'C4911986F30', 'C4912559F27', 'C4912571F26', 'C4912669F28', 'C4912759F26', 'C4912865F28', 'C4912939F26', 'C4913375F26', 'C4913448F28', 'C4914032F28', 'C4914049F28', 'C4914249F26', 'C4914449F26', 'C4914914F28', 'C4915250F27', 'C4915611F28', 'C4916752F26', 'C4916865F27', 'C4916871F28', 'C4917167F28', 'C4917221F26', 'C4917382F26', 'C4917512F27', 'C4917676F30', 'C4918280F29', 'C4918577F27', 'C4918633F27', 'C4918714F26', 'C4919167F30', 'C4920464F28', 'C4920839F28', 'C4920858F29', 'C4920872F28', 'C4920935F26', 'C4920949F30', 'C4921127F28', 'C4921289F26', 'C4921314F30', 'C4921388F27', 'C4921489F30', 'C4921529F27', 'C4921671F30', 'C4921783F30', 'C4921831F29', 'C4921881F30', 'C4921979F29', 'C4922116F29', 'C4922384F26', 'C4922884F29', 'C4923047F26', 'C4923082F27', 'C4923276F30', 'C4923315F28', 'C4923547F29', 'C4923563F30', 'C4923816F26', 'C4923824F27', 'C4923848F29', 'C4924464F27', 'C4925069F26', 'C4925446F29', 'C4925531F29', 'C4925989F30', 'C4926013F30', 'C4926024F26', 'C4926030F29', 'C4926154F27', 'C4926163F27', 'C4926177F27', 'C4926636F26', 'C4926641F26', 'C4926668F30', 'C4926712F29', 'C4926752F26', 'C4928062F27', 'C4928128F28', 'C4928192F29', 'C4928212F27', 'C4928213F29', 'C4928262F27', 'C4928745F27', 'C4928753F28', 'C4928790F30', 'C4928823F30', 'C4928891F26', 'C4929326F28', 'C4929362F27', 'C4929476F28', 'C4929640F26', 'C4930052F28', 'C4930363F29', 'C4930819F28', 'C4930837F27', 'C4930851F28', 'C4930882F28', 'C4930983F28', 'C4931088F30', 'C4931856F26', 'C4931866F29', 'C4931885F26', 'C4932056F27', 'C4932156F27', 'C4932176F27', 'C4932237F29', 'C4932551F28', 'C4932834F27', 'C4932886F27', 'C4933044F27', 'C4933074F29', 'C4934057F28', 'C4934147F28', 'C4934311F26', 'C4935278F29', 'C4935935F30', 'C4936088F27', 'C4936130F26', 'C4936221F26', 'C4936473F29', 'C4936727F26', 'C4936744F28', 'C4936813F28', 'C4937386F27', 'C4937491F30', 'C4937582F27', 'C4937772F26', 'C4938048F30', 'C4938151F27', 'C4939426F30', 'C4939643F28', 'C4939874F30', 'C4939974F28', 'C4940259F28', 'C4940283F28', 'C4940411F27', 'C4940442F27', 'C4940483F27', 'C4940636F27', 'C4940857F29', 'C4940868F27', 'C4941039F27', 'C4941244F27', 'C4941468F26', 'C4941678F26', 'C4942084F26', 'C4942116F27', 'C4942326F27', 'C4942352F27', 'C4942367F26', 'C4942514F27', 'C4942584F27', 'C4942815F30', 'C4953771F28', 'C4957678F26', 'C4958031F26', 'C4960840F30', 'C4963074F28', 'C4963692F26', 'C4963884F30', 'C4967689F30', 'C4968982F29', 'C4971965F30', 'C4973028F30', 'C4974389F27', 'C4975975F27', 'C4977240F30', 'C4977281F30', 'C4981658F27', 'C4982589F29', 'C4988543F26', 'C4988851F26', 'C4989014F28', 'C4989022F28', 'C4993861F27', 'C4995770F29', 'C4996890F26', 'C5010020F26', 'C5010026F28', 'C5010051F28', 'C5010065F27', 'C5010214F26', 'C5010233F26', 'C5010522F29', 'C5010553F27', 'C5010671F30', 'C5010712F26', 'C5010759F27', 'C5010858F27', 'C5011113F26', 'C5011221F29', 'C5011368F26', 'C5011481F28', 'C5012337F30', 'C5012419F27', 'C5012486F27', 'C5012526F27', 'C5012771F27', 'C5012988F26', 'C5013029F30', 'C5013183F29', 'C5013336F27', 'C5013456F30', 'C5013869F27', 'C5014038F26', 'C5014054F26', 'C5014841F29', 'C5014855F27', 'C5015755F26', 'C5015791F27', 'C5016768F29', 'C5016867F29', 'C5016958F29', 'C5017058F29', 'C5017140F26', 'C5017154F29', 'C5017492F29', 'C5018015F28', 'C5018030F26', 'C5018186F29', 'C5018362F26', 'C5018382F30', 'C5019091F29', 'C5019233F28', 'C5019248F29', 'C5019451F28', 'C5019481F28', 'C5019517F28', 'C5019786F30', 'C5019816F28', 'C5019960F28', 'C5020021F26', 'C5020264F30', 'C5020533F30', 'C5020738F29', 'C5020970F27', 'C5020975F26', 'C5021030F26', 'C5021149F26', 'C5021336F27', 'C5021458F30', 'C5021460F30', 'C5022176F27', 'C5022366F26', 'C5022449F28', 'C5022768F28', 'C5022844F26', 'C5022961F27', 'C5023024F28', 'C5023034F30', 'C5023621F30', 'C5023881F28', 'C5023965F26', 'C5024626F29', 'C5024781F28', 'C5024970F30', 'C5025127F26', 'C5025130F28', 'C5025163F27', 'C5025382F26', 'C5025533F28', 'C5025782F27', 'C5025960F29', 'C5025975F29', 'C5026078F28', 'C5026091F26', 'C5026154F27', 'C5026183F27', 'C5026448F30', 'C5026466F29', 'C5026627F27', 'C5026741F28', 'C5027092F29', 'C5027133F30', 'C5027371F28', 'C5027384F28', 'C5027579F27', 'C5028120F27', 'C5028168F28', 'C5028265F28', 'C5028543F30', 'C5028611F27', 'C5029129F29', 'C5029547F29', 'C5029983F30', 'C5030384F29', 'C5030470F27', 'C5030759F29', 'C5031186F30', 'C5031572F27', 'C5032021F30', 'C5032025F29', 'C5032050F30', 'C5032085F29', 'C5032238F28', 'C5032368F30', 'C5032454F28', 'C5032678F29', 'C5032756F30', 'C5032877F27', 'C5033177F26', 'C5033317F26', 'C5033355F27', 'C5033385F30', 'C5033558F30', 'C5033581F29', 'C5033938F26', 'C5034273F30', 'C5034382F26', 'C5034771F29', 'C5035036F28', 'C5035334F27', 'C5035962F26', 'C5036129F28', 'C5036462F26', 'C5036968F30', 'C5037016F27', 'C5037185F28', 'C5037292F28', 'C5037324F28', 'C5037355F27', 'C5037779F26', 'C5037978F30', 'C5038044F27', 'C5038067F30', 'C5038145F30', 'C5038347F26', 'C5038383F30', 'C5038462F28', 'C5038744F30', 'C5039055F30', 'C5039424F29', 'C5039461F29', 'C5039576F28', 'C5040226F28', 'C5040337F30', 'C5040490F26', 'C5040634F27', 'C5041372F29', 'C5041692F28', 'C5041889F30', 'C5041935F28', 'C5042014F29', 'C5042038F29', 'C5042172F26', 'C5042235F30', 'C5042346F28', 'C5042741F29', 'C5042948F29', 'C5043413F29', 'C5044619F28', 'C5050691F29', 'C5054087F30', 'C5055244F26', 'C5058111F30', 'C5058153F30', 'C5058745F27', 'C5061268F30', 'C5062521F29', 'C5062664F27', 'C5065456F27', 'C5067424F26', 'C5070850F30', 'C5076220F28', 'C5076240F28', 'C5077211F30', 'C5077436F28', 'C5078623F26', 'C5079492F26', 'C5081925F26', 'C5083627F27', 'C5085532F30', 'C5085972F29', 'C5087025F29', 'C5089184F28', 'C5092019F29', 'C5096376F28', 'C5110011F28', 'C5110040F26', 'C5110157F27', 'C5110486F29', 'C5110652F29', 'C5110782F26', 'C5111182F26', 'C5111242F27', 'C5111274F26', 'C5111276F29', 'C5111622F27', 'C5111760F27', 'C5111827F29', 'C5112013F30', 'C5112039F26', 'C5112344F27', 'C5112446F27', 'C5112882F29', 'C5113369F28', 'C5113747F26', 'C5113965F27', 'C5114036F26', 'C5114064F26', 'C5114245F30', 'C5114845F29', 'C5115028F28', 'C5115113F26', 'C5115134F29', 'C5115268F27', 'C5115414F27', 'C5115487F29', 'C5115652F28', 'C5116471F28', 'C5116530F27', 'C5116549F27', 'C5116662F26', 'C5116741F26', 'C5116943F28', 'C5116948F30', 'C5117880F30', 'C5117988F26', 'C5118018F29', 'C5118138F29', 'C5119345F29', 'C5119451F26', 'C5119460F29', 'C5119649F27', 'C5119978F29', 'C5120030F27', 'C5120289F30', 'C5120712F28', 'C5120954F26', 'C5121191F26', 'C5121681F28', 'C5121821F27', 'C5122352F27', 'C5122664F26', 'C5122714F26', 'C5122960F26', 'C5123059F27', 'C5123374F26', 'C5123532F29', 'C5124119F28', 'C5124780F29', 'C5125069F27', 'C5125463F29', 'C5125525F30', 'C5125579F29', 'C5125924F28', 'C5126190F26', 'C5126537F26', 'C5126737F28', 'C5127028F26', 'C5127314F28', 'C5127780F27', 'C5127975F30', 'C5128072F26', 'C5128231F26', 'C5128238F27', 'C5128270F29', 'C5128287F28', 'C5128462F26', 'C5128619F27', 'C5128758F29', 'C5129036F27', 'C5129128F26', 'C5129640F28', 'C5129771F27', 'C5129818F30', 'C5129851F26', 'C5129992F26', 'C5130132F26', 'C5130658F27', 'C5131359F27', 'C5131664F29', 'C5131741F27', 'C5131832F29', 'C5131962F30', 'C5132032F30', 'C5132046F28', 'C5132136F27', 'C5132175F28', 'C5132190F29', 'C5132427F26', 'C5132513F28', 'C5132684F27', 'C5132728F28', 'C5133241F29', 'C5133369F28', 'C5133453F29', 'C5133786F26', 'C5133866F27', 'C5133914F29', 'C5134248F30', 'C5134257F27', 'C5134268F27', 'C5134421F29', 'C5134758F26', 'C5135157F26', 'C5135212F27', 'C5135367F29', 'C5135423F29', 'C5135513F29', 'C5135990F26', 'C5136031F27', 'C5136335F26', 'C5136625F28', 'C5136634F27', 'C5136775F26', 'C5136814F29', 'C5136858F30', 'C5136975F30', 'C5137049F29', 'C5137112F30', 'C5137240F28', 'C5137390F30', 'C5137953F30', 'C5138044F26', 'C5138119F30', 'C5138450F26', 'C5138849F27', 'C5138939F30', 'C5139687F26', 'C5139855F30', 'C5140140F28', 'C5140265F26', 'C5140536F28', 'C5140789F28', 'C5140928F26', 'C5141572F29', 'C5141589F29', 'C5141975F28', 'C5142045F28', 'C5142433F28', 'C5142649F27', 'C5142720F30', 'C5142779F30', 'C5146829F26', 'C5147754F28', 'C5149733F28', 'C5156811F30', 'C5158118F30', 'C5158283F28', 'C5159731F29', 'C5159742F29', 'C5163528F28', 'C5164942F28', 'C5164954F28', 'C5165213F28', 'C5168751F29', 'C5170172F26', 'C5170428F26', 'C5171327F30', 'C5171531F27', 'C5171929F30', 'C5174973F26', 'C5177268F30', 'C5177423F30', 'C5181915F29', 'C5182261F26', 'C5187680F26', 'C5188218F30', 'C5189082F28', 'C5190891F27', 'C5191360F26', 'C5193291F27', 'C5193561F26', 'C5196341F28', 'C5198423F29', 'C5210041F26', 'C5210170F28', 'C5210358F27', 'C5211091F28', 'C5211225F27', 'C5211552F28', 'C5211585F29', 'C5211628F27', 'C5211651F29', 'C5211733F30', 'C5212040F27', 'C5212058F27', 'C5212357F26', 'C5212390F26', 'C5212521F27', 'C5212621F27', 'C5213135F27', 'C5213664F29', 'C5214463F26', 'C5214548F30', 'C5214857F29', 'C5215029F30', 'C5215192F27', 'C5215653F28', 'C5215956F26', 'C5216237F26', 'C5216264F29', 'C5216320F29', 'C5216771F26', 'C5216981F29', 'C5217167F27', 'C5217215F28', 'C5217321F26', 'C5217527F26', 'C5217627F28', 'C5217747F30', 'C5218273F27', 'C5218487F29', 'C5218592F28', 'C5219358F29', 'C5219437F26', 'C5219491F27', 'C5219748F30', 'C5220057F29', 'C5220414F29', 'C5220762F29', 'C5220822F28', 'C5220834F26', 'C5220838F27', 'C5220934F27', 'C5221064F29', 'C5221131F28', 'C5221241F29', 'C5221433F26', 'C5221555F26', 'C5221629F27', 'C5221633F27', 'C5221776F30', 'C5221868F27', 'C5221870F26', 'C5222120F26', 'C5222132F27', 'C5222385F27', 'C5222780F29', 'C5222915F27', 'C5223063F27', 'C5223117F26', 'C5223240F27', 'C5223247F28', 'C5223582F29', 'C5223715F28', 'C5223845F27', 'C5223854F29', 'C5223876F30', 'C5223918F26', 'C5223991F27', 'C5224021F28', 'C5224034F29', 'C5224220F29', 'C5224374F28', 'C5224647F29', 'C5224791F26', 'C5224943F26', 'C5224946F30', 'C5224955F30', 'C5224977F26', 'C5225118F29', 'C5225265F30', 'C5225347F26', 'C5225565F28', 'C5225712F27', 'C5225729F27', 'C5225742F30', 'C5225764F26', 'C5225838F30', 'C5226122F27', 'C5226321F26', 'C5226786F28', 'C5227055F26', 'C5227116F27', 'C5227442F26', 'C5227650F29', 'C5227724F29', 'C5227852F28', 'C5227932F26', 'C5227936F30', 'C5228091F26', 'C5228283F28', 'C5228384F26', 'C5228472F27', 'C5228835F30', 'C5229869F26', 'C5230321F29', 'C5230578F29', 'C5230841F28', 'C5230858F30', 'C5230963F27', 'C5231055F28', 'C5231485F29', 'C5231571F29', 'C5231685F26', 'C5231862F29', 'C5231919F27', 'C5231945F27', 'C5232039F27', 'C5232136F28', 'C5232190F27', 'C5232523F28', 'C5232623F30', 'C5232636F26', 'C5232652F27', 'C5232658F27', 'C5232817F26', 'C5233174F28', 'C5233311F28', 'C5233619F29', 'C5234075F27', 'C5234332F27', 'C5234489F30', 'C5234649F28', 'C5235148F29', 'C5235233F29', 'C5235353F26', 'C5235473F28', 'C5235742F27', 'C5235814F26', 'C5236738F29', 'C5236967F30', 'C5237056F30', 'C5237413F28', 'C5237668F27', 'C5237961F30', 'C5238133F26', 'C5238311F30', 'C5238413F26', 'C5238891F26', 'C5239347F28', 'C5239350F27', 'C5239457F27', 'C5239550F26', 'C5240064F26', 'C5240125F26', 'C5240356F30', 'C5240445F27', 'C5240473F27', 'C5240754F29', 'C5240874F27', 'C5240885F26', 'C5241177F28', 'C5241446F26', 'C5241569F27', 'C5241619F28', 'C5241831F28', 'C5242031F29', 'C5242339F27', 'C5242416F29', 'C5242655F26', 'C5242758F29', 'C5242844F27', 'C5243485F29', 'C5245947F26', 'C5246182F30', 'C5246238F28', 'C5250131F27', 'C5250646F29', 'C5252641F27', 'C5252657F29', 'C5252959F27', 'C5253931F28', 'C5256978F28', 'C5258252F28', 'C5260759F29', 'C5263017F28', 'C5263077F26', 'C5267536F29', 'C5270026F30', 'C5272768F28', 'C5274147F29', 'C5274683F28', 'C5275526F26', 'C5278421F26', 'C5281511F28', 'C5284352F27', 'C5285576F27', 'C5285963F29', 'C5288553F26', 'C5288814F28', 'C5289529F29', 'C5292183F28', 'C5293130F28', 'C5293878F30', 'C5296337F28', 'C5299855F28', 'C5310044F28', 'C5310075F28', 'C5310174F28', 'C5310564F29', 'C5310829F28', 'C5311228F28', 'C5311521F27', 'C5311524F29', 'C5311534F28', 'C5311772F27', 'C5311785F30', 'C5311791F27', 'C5312667F29', 'C5312671F29', 'C5313343F26', 'C5313674F29', 'C5313917F26', 'C5313941F29', 'C5314050F28', 'C5314062F26', 'C5314192F28', 'C5314573F30', 'C5315132F28', 'C5315184F26', 'C5315422F28', 'C5315468F30', 'C5315688F28', 'C5316481F26', 'C5316625F30', 'C5316668F29', 'C5316777F30', 'C5316786F26', 'C5316822F28', 'C5316857F27', 'C5316964F29', 'C5317131F29', 'C5317412F29', 'C5317616F27', 'C5317745F26', 'C5318171F27', 'C5318364F29', 'C5318435F27', 'C5318877F28', 'C5318929F29', 'C5319069F27', 'C5319069F29', 'C5319281F28', 'C5319474F26', 'C5319630F30', 'C5319632F27', 'C5319692F27', 'C5320091F28', 'C5320233F30', 'C5320321F28', 'C5320547F27', 'C5320614F26', 'C5320644F27', 'C5320918F27', 'C5320990F27', 'C5321128F28', 'C5321358F29', 'C5321417F30', 'C5321434F28', 'C5321744F26', 'C5321823F30', 'C5322075F26', 'C5322447F29', 'C5322614F28', 'C5322945F27', 'C5322964F30', 'C5323068F26', 'C5323182F26', 'C5323358F28', 'C5323613F30', 'C5323624F27', 'C5323650F30', 'C5323980F26', 'C5324063F29', 'C5324238F30', 'C5324333F28', 'C5324470F27', 'C5324478F27', 'C5324734F26', 'C5325635F28', 'C5325991F26', 'C5326145F26', 'C5326172F27', 'C5326182F27', 'C5326246F27', 'C5326251F30', 'C5326471F27', 'C5326960F27', 'C5327526F29', 'C5327663F29', 'C5327717F28', 'C5327731F26', 'C5327848F27', 'C5327955F26', 'C5328241F28', 'C5328268F27', 'C5328325F26', 'C5328543F27', 'C5328582F29', 'C5328885F26', 'C5328912F30', 'C5328967F29', 'C5329132F29', 'C5329236F26', 'C5329444F27', 'C5329580F26', 'C5329651F27', 'C5329662F29', 'C5329830F27', 'C5329880F26', 'C5330317F28', 'C5330466F28', 'C5330674F27', 'C5331062F26', 'C5331076F27', 'C5331161F29', 'C5331168F28', 'C5331258F29', 'C5331522F27', 'C5331614F29', 'C5332428F26', 'C5332533F28', 'C5332718F30', 'C5332866F28', 'C5332922F28', 'C5333284F29', 'C5333390F27', 'C5333484F26', 'C5333712F30', 'C5333886F26', 'C5333887F29', 'C5333976F29', 'C5334049F27', 'C5334392F28', 'C5334973F29', 'C5335122F30', 'C5335262F30', 'C5335375F29', 'C5335434F30', 'C5335672F28', 'C5336175F28', 'C5336421F29', 'C5336488F29', 'C5336725F27', 'C5336812F26', 'C5336920F26', 'C5337172F29', 'C5337258F28', 'C5337289F28', 'C5337463F28', 'C5337492F28', 'C5337841F30', 'C5338060F30', 'C5338158F30', 'C5338277F26', 'C5338560F27', 'C5338663F27', 'C5338735F27', 'C5339320F28', 'C5339376F29', 'C5339433F29', 'C5340064F29', 'C5340486F30', 'C5340562F30', 'C5340687F27', 'C5340863F30', 'C5341041F26', 'C5341126F29', 'C5341187F27', 'C5341657F28', 'C5341839F26', 'C5341975F28', 'C5342127F27', 'C5342184F27', 'C5342264F28', 'C5342675F28', 'C5342748F30', 'C5342986F30', 'C5344376F30', 'C5347726F27', 'C5349611F30', 'C5349654F30', 'C5352927F27', 'C5352991F27', 'C5353650F28', 'C5355030F29', 'C5358092F26', 'C5359536F30', 'C5362534F27', 'C5364074F27', 'C5367750F30', 'C5368442F28', 'C5368863F26', 'C5370481F30', 'C5373050F28', 'C5374325F27', 'C5374486F29', 'C5376263F28', 'C5378033F29', 'C5379223F29', 'C5382191F29', 'C5384061F30', 'C5388837F28', 'C5391711F27', 'C5392683F28', 'C5392835F27', 'C5393811F28', 'C5396852F26', 'C5399336F27', 'C5399773F29', 'C5410137F28', 'C5410353F26', 'C5410712F29', 'C5410833F28', 'C5410945F29', 'C5411159F27', 'C5411638F28', 'C5411874F30', 'C5412046F29', 'C5412421F30', 'C5412425F26', 'C5412515F27', 'C5412590F30', 'C5413142F26', 'C5413453F29', 'C5413892F27', 'C5413925F30', 'C5413939F30', 'C5414124F29', 'C5414154F28', 'C5414161F28', 'C5414253F28', 'C5414475F27', 'C5414549F28', 'C5415011F28', 'C5415015F29', 'C5416632F26', 'C5417469F29', 'C5417628F26', 'C5418348F26', 'C5418485F28', 'C5418516F30', 'C5418539F27', 'C5418675F26', 'C5418758F28', 'C5418760F26', 'C5419874F28', 'C5419950F30', 'C5420043F27', 'C5420433F30', 'C5420512F30', 'C5420666F29', 'C5420689F26', 'C5420956F28', 'C5420967F27', 'C5421113F30', 'C5421172F26', 'C5421186F30', 'C5421226F29', 'C5421391F30', 'C5421586F27', 'C5421877F27', 'C5422167F29', 'C5422412F28', 'C5422440F28', 'C5422458F30', 'C5422484F28', 'C5422716F26', 'C5422970F30', 'C5423079F26', 'C5423356F28', 'C5423425F28', 'C5423441F28', 'C5424453F27', 'C5424548F30', 'C5424831F26', 'C5424849F27', 'C5425062F30', 'C5425450F26', 'C5425977F28', 'C5426082F30', 'C5426333F27', 'C5426558F26', 'C5426775F26', 'C5427456F29', 'C5427536F26', 'C5427626F29', 'C5427677F29', 'C5427745F29', 'C5427954F26', 'C5428077F30', 'C5428273F27', 'C5428671F26', 'C5428687F30', 'C5428772F26', 'C5429023F28', 'C5429144F28', 'C5429315F28', 'C5429326F27', 'C5429439F28', 'C5429453F27', 'C5429562F28', 'C5429644F27', 'C5429826F27', 'C5430219F29', 'C5430488F28', 'C5430571F29', 'C5430821F29', 'C5430833F30', 'C5430923F26', 'C5431022F28', 'C5431083F26', 'C5431363F27', 'C5431578F27', 'C5431879F29', 'C5432736F27', 'C5432864F26', 'C5432985F29', 'C5433081F30', 'C5433348F26', 'C5433614F27', 'C5433828F27', 'C5433855F30', 'C5434115F28', 'C5434228F29', 'C5434358F27', 'C5434464F30', 'C5434561F28', 'C5435161F29', 'C5435461F30', 'C5435779F30', 'C5436274F29', 'C5436782F30', 'C5437154F30', 'C5437685F27', 'C5438067F27', 'C5438135F26', 'C5438135F30', 'C5438143F30', 'C5438734F30', 'C5439371F29', 'C5439455F27', 'C5439819F30', 'C5440068F28', 'C5440112F26', 'C5440241F29', 'C5440320F28', 'C5440333F30', 'C5440466F30', 'C5440727F29', 'C5440735F27', 'C5440735F30', 'C5440776F28', 'C5440958F26', 'C5441151F30', 'C5441647F27', 'C5441816F29', 'C5442725F28', 'C5442784F26', 'C5442924F29', 'C5444937F26', 'C5445418F26', 'C5448443F27', 'C5451389F26', 'C5452279F26', 'C5452926F27', 'C5460813F30', 'C5461214F30', 'C5462281F26', 'C5462515F27', 'C5466523F30', 'C5466833F26', 'C5469452F27', 'C5471435F30', 'C5471648F27', 'C5472784F28', 'C5473534F30', 'C5473581F29', 'C5474640F30', 'C5474680F28', 'C5481150F27', 'C5481932F26', 'C5483939F29', 'C5484154F30', 'C5488480F29', 'C5490812F30', 'C5492328F27', 'C5494374F27', 'C5495751F29', 'C5496759F26', 'C5496787F27', 'C5496833F26', 'C5497763F27', 'C5497916F26', 'C5510134F28', 'C5510347F29', 'C5510691F26', 'C5510746F26', 'C5510863F29', 'C5510954F30', 'C5510964F30', 'C5511046F28', 'C5511275F29', 'C5511325F30', 'C5511379F30', 'C5511645F28', 'C5511868F26', 'C5512537F27', 'C5512589F29', 'C5512635F27', 'C5512834F30', 'C5513047F26', 'C5513182F29', 'C5513238F28', 'C5513460F30', 'C5513466F28', 'C5513665F26', 'C5513768F29', 'C5513952F26', 'C5514531F27', 'C5514746F27', 'C5514815F28', 'C5514838F29', 'C5515267F26', 'C5515323F30', 'C5515563F30', 'C5515780F27', 'C5515814F26', 'C5515851F27', 'C5516321F26', 'C5516434F26', 'C5516455F29', 'C5516552F27', 'C5516675F26', 'C5516917F27', 'C5516919F29', 'C5517014F29', 'C5517033F29', 'C5517117F29', 'C5517266F28', 'C5517267F26', 'C5517424F29', 'C5517425F30', 'C5517658F30', 'C5517885F28', 'C5518280F27', 'C5518348F28', 'C5518363F26', 'C5518477F30', 'C5518953F27', 'C5519153F26', 'C5519480F26', 'C5519483F27', 'C5519573F29', 'C5519679F27', 'C5519726F30', 'C5520748F26', 'C5521016F29', 'C5521155F30', 'C5521327F30', 'C5521337F30', 'C5521356F29', 'C5521487F29', 'C5521613F26', 'C5521617F29', 'C5521811F29', 'C5521879F30', 'C5521927F26', 'C5522363F26', 'C5522677F26', 'C5522724F26', 'C5522725F28', 'C5522755F26', 'C5522931F26', 'C5523068F27', 'C5523114F27', 'C5523511F30', 'C5523534F26', 'C5523585F29', 'C5523741F30', 'C5523885F30', 'C5524085F29', 'C5524116F29', 'C5524179F28', 'C5524280F28', 'C5524455F28', 'C5524470F29', 'C5524820F26', 'C5524836F27', 'C5524927F28', 'C5525143F27', 'C5525449F28', 'C5525589F28', 'C5525772F30', 'C5525967F30', 'C5525987F30', 'C5526051F27', 'C5526184F27', 'C5526187F27', 'C5526415F30', 'C5526556F26', 'C5526561F26', 'C5526678F27', 'C5526721F28', 'C5527218F26', 'C5527228F30', 'C5527336F28', 'C5527882F26', 'C5527918F30', 'C5527935F27', 'C5527960F26', 'C5527991F27', 'C5528121F28', 'C5528252F29', 'C5528285F26', 'C5528472F26', 'C5528479F27', 'C5528789F26', 'C5528972F27', 'C5529028F28', 'C5529389F29', 'C5529921F30', 'C5530366F30', 'C5530553F26', 'C5530635F27', 'C5530817F28', 'C5531127F30', 'C5531862F29', 'C5532022F27', 'C5532081F27', 'C5532149F28', 'C5532278F26', 'C5532639F30', 'C5532953F28', 'C5533011F28', 'C5533074F27', 'C5533381F26', 'C5533758F29', 'C5533953F26', 'C5534042F26', 'C5534161F27', 'C5534269F29', 'C5534791F27', 'C5535042F29', 'C5536112F29', 'C5536612F26', 'C5536689F28', 'C5536781F29', 'C5536932F27', 'C5537044F30', 'C5537133F30', 'C5537170F29', 'C5537182F30', 'C5537520F28', 'C5537641F29', 'C5537657F28', 'C5537674F30', 'C5538183F27', 'C5538191F29', 'C5538318F26', 'C5538366F29', 'C5538533F27', 'C5538539F27', 'C5539076F28', 'C5539347F28', 'C5539414F29', 'C5539454F29', 'C5540061F27', 'C5540124F26', 'C5540467F27', 'C5540554F30', 'C5540733F28', 'C5540752F26', 'C5540872F26', 'C5540965F28', 'C5541051F28', 'C5541114F30', 'C5541265F30', 'C5541278F27', 'C5541334F29', 'C5541542F27', 'C5541811F29', 'C5541845F30', 'C5541928F29', 'C5542838F30', 'C5542847F26', 'C5542915F29', 'C5550141F27', 'C5551685F29', 'C5555650F27', 'C5556813F29', 'C5558023F26', 'C5558155F30', 'C5560690F29', 'C5561515F29', 'C5561563F26', 'C5561651F26', 'C5561884F27', 'C5563152F30', 'C5566778F29', 'C5568474F30', 'C5570854F30', 'C5571992F30', 'C5572888F26', 'C5575040F28', 'C5575916F26', 'C5576036F27', 'C5576082F26', 'C5576636F27', 'C5578243F26', 'C5580725F29', 'C5585988F29', 'C5585989F29', 'C5588124F27', 'C5588580F26', 'C5599177F26', 'C5610156F28', 'C5610159F29', 'C5610432F26', 'C5610433F29', 'C5610446F28', 'C5610469F28', 'C5610479F29', 'C5610526F28', 'C5610735F26', 'C5611126F29', 'C5611177F28', 'C5611191F30', 'C5611242F28', 'C5611284F29', 'C5611433F29', 'C5611575F27', 'C5611643F27', 'C5611660F27', 'C5611748F30', 'C5611759F30', 'C5612032F27', 'C5612114F26', 'C5612412F28', 'C5612430F27', 'C5612669F30', 'C5613018F30', 'C5613289F30', 'C5613971F29', 'C5614027F28', 'C5614216F28', 'C5614230F27', 'C5614824F27', 'C5614933F28', 'C5615129F28', 'C5615268F27', 'C5615331F26', 'C5616139F26', 'C5616536F27', 'C5616539F30', 'C5616685F30', 'C5616947F26', 'C5617027F26', 'C5617212F28', 'C5617943F28', 'C5618292F27', 'C5618332F26', 'C5618381F29', 'C5618624F30', 'C5619417F29', 'C5619468F28', 'C5619573F28', 'C5619580F30', 'C5619623F26', 'C5619664F27', 'C5619983F26', 'C5620135F30', 'C5620345F28', 'C5620625F30', 'C5620643F27', 'C5621189F26', 'C5621235F26', 'C5621348F27', 'C5621685F28', 'C5621980F27', 'C5622265F30', 'C5622386F26', 'C5622418F29', 'C5622426F29', 'C5622590F26', 'C5622851F26', 'C5623518F30', 'C5623677F26', 'C5623929F27', 'C5624075F29', 'C5624659F29', 'C5625073F30', 'C5625176F29', 'C5625489F29', 'C5625564F28', 'C5625574F28', 'C5625742F30', 'C5625761F27', 'C5625980F26', 'C5626134F27', 'C5626232F28', 'C5626773F26', 'C5627265F29', 'C5627325F29', 'C5627341F28', 'C5627613F29', 'C5627771F28', 'C5627843F26', 'C5628060F26', 'C5628270F29', 'C5628543F30', 'C5628887F26', 'C5628986F30', 'C5629576F30', 'C5629816F30', 'C5630249F26', 'C5630317F30', 'C5630389F29', 'C5630853F27', 'C5631120F28', 'C5631176F26', 'C5631349F27', 'C5631830F27', 'C5631874F27', 'C5631913F26', 'C5633088F30', 'C5633556F27', 'C5633814F27', 'C5633889F28', 'C5634144F28', 'C5634174F27', 'C5634426F30', 'C5634731F27', 'C5634973F27', 'C5635042F28', 'C5635211F29', 'C5635257F27', 'C5635660F30', 'C5636023F27', 'C5636046F27', 'C5636142F28', 'C5636171F28', 'C5636369F29', 'C5636635F26', 'C5637684F30', 'C5637713F26', 'C5637720F26', 'C5637790F29', 'C5637823F28', 'C5638618F26', 'C5638830F26', 'C5639234F27', 'C5639241F28', 'C5639328F27', 'C5639437F30', 'C5639878F30', 'C5639963F29', 'C5640052F28', 'C5640246F26', 'C5641029F26', 'C5641056F27', 'C5641521F27', 'C5641559F27', 'C5641643F27', 'C5641816F29', 'C5641865F30', 'C5642668F30', 'C5650050F27', 'C5655250F26', 'C5662477F26', 'C5663048F26', 'C5664244F28', 'C5664342F30', 'C5666830F26', 'C5669721F28', 'C5669763F27', 'C5670460F26', 'C5671172F28', 'C5672060F29', 'C5672581F26', 'C5675185F29', 'C5675514F26', 'C5677129F26', 'C5678021F29', 'C5681921F29', 'C5689216F30', 'C5691672F28', 'C5694347F27', 'C5710125F28', 'C5710261F26', 'C5710265F26', 'C5710485F26', 'C5710578F29', 'C5710824F29', 'C5711085F29', 'C5711236F27', 'C5711473F27', 'C5711478F29', 'C5711642F29', 'C5711721F28', 'C5711889F30', 'C5711940F30', 'C5712051F30', 'C5712221F30', 'C5712353F30', 'C5712520F30', 'C5712671F27', 'C5712848F26', 'C5712866F29', 'C5712867F29', 'C5712889F29', 'C5713427F27', 'C5713589F26', 'C5713641F26', 'C5713683F29', 'C5713834F26', 'C5713981F26', 'C5714182F28', 'C5714462F28', 'C5714558F27', 'C5714668F28', 'C5714833F27', 'C5715031F26', 'C5715241F26', 'C5715320F30', 'C5715924F27', 'C5715978F28', 'C5716231F26', 'C5716416F30', 'C5716466F26', 'C5716931F27', 'C5716940F27', 'C5717075F28', 'C5717682F28', 'C5717774F26', 'C5717949F28', 'C5718038F26', 'C5718056F27', 'C5718123F27', 'C5718228F29', 'C5718314F30', 'C5718320F30', 'C5718331F30', 'C5718355F28', 'C5719039F28', 'C5719178F26', 'C5719286F27', 'C5719335F27', 'C5719456F28', 'C5719578F27', 'C5719787F30', 'C5719823F29', 'C5719869F28', 'C5719888F28', 'C5720221F26', 'C5720758F29', 'C5720972F27', 'C5720982F27', 'C5721020F27', 'C5721040F27', 'C5721190F27', 'C5721381F29', 'C5721966F26', 'C5722114F30', 'C5722354F27', 'C5722772F28', 'C5722815F29', 'C5722864F26', 'C5722913F26', 'C5722951F27', 'C5722956F26', 'C5723033F27', 'C5723668F29', 'C5723818F28', 'C5723861F27', 'C5723958F26', 'C5724220F26', 'C5724222F29', 'C5724290F28', 'C5724521F26', 'C5724744F30', 'C5725183F29', 'C5725457F29', 'C5725517F27', 'C5725738F26', 'C5725750F30', 'C5726326F30', 'C5726741F28', 'C5726753F30', 'C5726767F26', 'C5726789F29', 'C5726986F27', 'C5727748F27', 'C5727830F28', 'C5728131F28', 'C5728243F27', 'C5728478F27', 'C5728528F28', 'C5728677F27', 'C5728688F27', 'C5729141F29', 'C5729211F26', 'C5729620F26', 'C5731347F27', 'C5731417F27', 'C5731427F26', 'C5731535F27', 'C5731742F27', 'C5732038F29', 'C5732162F26', 'C5732358F26', 'C5732448F26', 'C5732527F28', 'C5732542F26', 'C5732554F28', 'C5732626F28', 'C5732750F27', 'C5732777F27', 'C5732948F28', 'C5733131F30', 'C5733354F28', 'C5733732F26', 'C5733879F27', 'C5733881F27', 'C5733950F26', 'C5733989F26', 'C5734161F26', 'C5734367F27', 'C5734371F28', 'C5734461F30', 'C5734723F27', 'C5734770F26', 'C5734922F29', 'C5735036F29', 'C5735224F27', 'C5735354F29', 'C5735533F28', 'C5735646F26', 'C5735652F30', 'C5736051F27', 'C5736120F26', 'C5736131F28', 'C5736152F28', 'C5736477F26', 'C5736569F26', 'C5736774F30', 'C5737351F29', 'C5737556F27', 'C5738327F26', 'C5738412F29', 'C5738788F29', 'C5739134F28', 'C5739226F26', 'C5739477F27', 'C5739558F27', 'C5739573F27', 'C5739988F30', 'C5740415F26', 'C5740422F27', 'C5740435F27', 'C5740437F27', 'C5740649F30', 'C5740937F27', 'C5741214F29', 'C5741860F28', 'C5742155F27', 'C5742288F26', 'C5742348F27', 'C5742455F28', 'C5742482F28', 'C5742625F30', 'C5747757F27', 'C5749329F26', 'C5749715F28', 'C5750121F27', 'C5750189F27', 'C5750628F29', 'C5753146F28', 'C5753851F29', 'C5756777F29', 'C5757271F30', 'C5757570F28', 'C5758157F30', 'C5759778F29', 'C5761233F30', 'C5764913F28', 'C5767290F27', 'C5768573F27', 'C5772481F28', 'C5773076F28', 'C5777060F30', 'C5777227F30', 'C5781975F29', 'C5784359F30', 'C5788256F30', 'C5789370F30', 'C5790865F30', 'C5795183F29', 'C5798711F27', 'C5810050F28', 'C5810059F26', 'C5810287F27', 'C5810618F28', 'C5810638F30', 'C5810713F26', 'C5810930F28', 'C5811088F30', 'C5811689F27', 'C5812214F26', 'C5812257F28', 'C5812426F28', 'C5812565F27', 'C5812572F28', 'C5812579F27', 'C5813363F26', 'C5813531F26', 'C5813747F26', 'C5814059F28', 'C5814283F28', 'C5814286F28', 'C5814337F26', 'C5815027F28', 'C5815047F29', 'C5815159F28', 'C5815219F26', 'C5815261F27', 'C5815672F29', 'C5815951F28', 'C5816323F30', 'C5816365F27', 'C5816534F29', 'C5816542F27', 'C5816749F26', 'C5816776F27', 'C5816941F29', 'C5817680F28', 'C5818317F28', 'C5818351F28', 'C5818458F27', 'C5818480F29', 'C5818517F27', 'C5818851F27', 'C5819820F27', 'C5819991F28', 'C5820689F27', 'C5820836F30', 'C5821147F26', 'C5821220F30', 'C5821477F28', 'C5821589F29', 'C5822129F30', 'C5822231F28', 'C5822355F26', 'C5823090F26', 'C5823133F26', 'C5824016F28', 'C5824326F27', 'C5824335F30', 'C5824351F28', 'C5824744F29', 'C5824982F26', 'C5825019F27', 'C5825129F27', 'C5825447F29', 'C5825560F29', 'C5825738F27', 'C5825777F30', 'C5825930F30', 'C5826082F29', 'C5826736F29', 'C5826782F29', 'C5827035F29', 'C5827386F28', 'C5827540F26', 'C5827644F29', 'C5827717F27', 'C5827823F28', 'C5827842F30', 'C5827865F26', 'C5827911F27', 'C5827979F26', 'C5828058F26', 'C5828138F27', 'C5828144F28', 'C5828348F26', 'C5828374F28', 'C5828915F27', 'C5829449F29', 'C5829827F30', 'C5829837F27', 'C5829892F27', 'C5829928F30', 'C5829992F26', 'C5830312F29', 'C5830336F27', 'C5830470F30', 'C5830857F30', 'C5830872F28', 'C5831118F30', 'C5831460F26', 'C5831523F27', 'C5831554F27', 'C5831649F29', 'C5831680F27', 'C5832037F27', 'C5832227F26', 'C5832313F26', 'C5832517F28', 'C5832559F28', 'C5832661F28', 'C5833054F27', 'C5833379F27', 'C5833652F30', 'C5833745F29', 'C5833924F29', 'C5833975F26', 'C5834643F28', 'C5834738F29', 'C5834827F27', 'C5834846F30', 'C5835059F30', 'C5835074F29', 'C5835162F29', 'C5835319F29', 'C5835643F29', 'C5835828F26', 'C5836024F30', 'C5836615F27', 'C5836927F28', 'C5836961F29', 'C5837078F29', 'C5837156F30', 'C5837347F26', 'C5837613F29', 'C5837848F28', 'C5838268F26', 'C5838328F30', 'C5838672F30', 'C5838825F26', 'C5839233F27', 'C5839317F27', 'C5839415F29', 'C5839425F27', 'C5839715F29', 'C5839720F26', 'C5839827F30', 'C5839963F29', 'C5840080F29', 'C5840269F28', 'C5840335F30', 'C5840466F30', 'C5840514F28', 'C5840734F28', 'C5840813F27', 'C5840833F27', 'C5841235F27', 'C5841331F26', 'C5841339F27', 'C5841575F28', 'C5841838F27', 'C5842041F29', 'C5842063F28', 'C5842277F29', 'C5842320F26', 'C5842332F27', 'C5842726F29', 'C5842975F27', 'C5843031F30', 'C5846858F26', 'C5850079F27', 'C5855289F26', 'C5858180F26', 'C5862564F27', 'C5862580F27', 'C5862749F27', 'C5862883F28', 'C5863043F26', 'C5864912F28', 'C5871963F30', 'C5872649F30', 'C5874452F29', 'C5878941F27', 'C5878943F27', 'C5879686F29', 'C5881248F26', 'C5883592F29', 'C5883673F27', 'C5885547F30', 'C5887482F26', 'C5889536F29', 'C5891114F29', 'C5894015F28', 'C5894027F28', 'C5894933F27', 'C5896378F28', 'C5896772F28', 'C5899350F27', 'C5910070F28', 'C5910219F26', 'C5910442F28', 'C5910512F27', 'C5910568F29', 'C5910632F26', 'C5910665F30', 'C5911272F27', 'C5911480F29', 'C5911613F30', 'C5911766F28', 'C5911929F30', 'C5912480F30', 'C5912529F30', 'C5912541F27', 'C5912622F30', 'C5912680F30', 'C5912687F27', 'C5912784F27', 'C5912952F26', 'C5912963F30', 'C5913177F26', 'C5913792F28', 'C5913946F26', 'C5914051F26', 'C5914078F28', 'C5914290F28', 'C5914527F28', 'C5914840F29', 'C5914975F29', 'C5915615F29', 'C5915674F26', 'C5915681F27', 'C5915771F27', 'C5915792F29', 'C5916015F27', 'C5916035F26', 'C5916172F26', 'C5916418F26', 'C5916518F30', 'C5916543F29', 'C5916586F30', 'C5916885F26', 'C5916986F29', 'C5917738F28', 'C5918144F26', 'C5918340F27', 'C5918380F29', 'C5918484F29', 'C5918527F27', 'C5918580F29', 'C5918667F26', 'C5918735F26', 'C5918763F26', 'C5919331F27', 'C5919549F26', 'C5919569F30', 'C5919587F28', 'C5919840F27', 'C5920012F27', 'C5920015F27', 'C5920361F28', 'C5920448F28', 'C5920616F29', 'C5920625F29', 'C5920853F28', 'C5921148F27', 'C5921632F30', 'C5921639F27', 'C5921681F27', 'C5921749F30', 'C5921819F26', 'C5922437F28', 'C5922458F29', 'C5922474F29', 'C5922547F28', 'C5922834F26', 'C5922845F29', 'C5922862F27', 'C5922985F30', 'C5923039F27', 'C5923350F27', 'C5923392F29', 'C5923587F29', 'C5923657F30', 'C5923821F26', 'C5924271F27', 'C5924316F28', 'C5924338F30', 'C5924350F30', 'C5924388F29', 'C5924427F29', 'C5924428F29', 'C5924738F29', 'C5924762F26', 'C5924882F28', 'C5925575F26', 'C5925618F27', 'C5925844F27', 'C5925962F29', 'C5926090F30', 'C5926164F27', 'C5926188F27', 'C5926269F26', 'C5926290F28', 'C5926378F29', 'C5926453F27', 'C5926626F27', 'C5927033F27', 'C5927219F28', 'C5927516F28', 'C5927582F26', 'C5927740F27', 'C5927814F26', 'C5927927F27', 'C5928622F27', 'C5928678F27', 'C5929150F30', 'C5929164F30', 'C5929179F27', 'C5929332F26', 'C5929440F29', 'C5929673F27', 'C5929676F26', 'C5929729F27', 'C5930324F28', 'C5930870F27', 'C5930913F27', 'C5931190F29', 'C5931832F26', 'C5932139F26', 'C5932145F30', 'C5932323F30', 'C5932514F27', 'C5932861F27', 'C5932953F26', 'C5933016F29', 'C5933338F28', 'C5933483F27', 'C5933663F27', 'C5933745F26', 'C5933766F30', 'C5933858F27', 'C5934068F26', 'C5934069F27', 'C5935224F30', 'C5935225F30', 'C5935237F26', 'C5935856F30', 'C5936175F28', 'C5936262F29', 'C5936415F26', 'C5936464F29', 'C5936859F26', 'C5936885F27', 'C5937011F30', 'C5937161F30', 'C5938129F27', 'C5938151F27', 'C5938454F27', 'C5938484F28', 'C5938722F27', 'C5939441F29', 'C5939737F28', 'C5940069F29', 'C5940086F29', 'C5940141F26', 'C5940238F26', 'C5940251F28', 'C5940420F28', 'C5940440F30', 'C5940545F30', 'C5940570F28', 'C5940681F30', 'C5940888F27', 'C5941260F27', 'C5941263F27', 'C5941265F28', 'C5941635F26', 'C5941865F27', 'C5942016F26', 'C5942160F28', 'C5942261F28', 'C5942456F28', 'C5942616F29', 'C5942785F28', 'C5942860F26', 'C5943657F27', 'C5946220F28', 'C5947771F27', 'C5953149F28', 'C5953623F26', 'C5954917F28', 'C5955191F30', 'C5958022F26', 'C5958517F26', 'C5958776F27', 'C5960643F27', 'C5961474F29', 'C5961847F27', 'C5968620F27', 'C5970367F26', 'C5970886F28', 'C5971431F30', 'C5977235F30', 'C5978174F30', 'C5978453F26', 'C5978752F26', 'C5979824F29', 'C5982465F26', 'C5985537F27', 'C5985566F30', 'C5988777F29', 'C5988877F26', 'C5993371F30', 'C5995280F29', 'C5996386F28', 'C5999130F26', 'C5999141F26', 'C5999260F26', 'C6010146F28', 'C6010180F30', 'C6010276F28', 'C6010480F29', 'C6010520F26', 'C6010574F27', 'C6011653F29', 'C6011661F28', 'C6011763F28', 'C6011811F29', 'C6011859F29', 'C6011945F30', 'C6012023F30', 'C6012553F29', 'C6012648F27', 'C6012715F26', 'C6012831F29', 'C6013279F30', 'C6013330F29', 'C6013656F26', 'C6013847F27', 'C6013914F30', 'C6013970F28', 'C6014017F27', 'C6014178F30', 'C6014274F26', 'C6014485F27', 'C6015011F28', 'C6015754F27', 'C6015858F27', 'C6015974F28', 'C6015975F26', 'C6016378F30', 'C6016530F26', 'C6017048F29', 'C6017059F26', 'C6017381F28', 'C6017558F26', 'C6017681F30', 'C6017690F26', 'C6017829F28', 'C6017835F29', 'C6018115F27', 'C6018526F26', 'C6018829F29', 'C6019114F29', 'C6019126F30', 'C6019354F27', 'C6019423F30', 'C6019567F28', 'C6019920F27', 'C6019988F28', 'C6020018F27', 'C6020444F29', 'C6021321F26', 'C6021411F30', 'C6021443F28', 'C6021671F27', 'C6021721F30', 'C6021930F27', 'C6021932F27', 'C6021948F29', 'C6022119F29', 'C6022348F27', 'C6022436F27', 'C6022579F26', 'C6022735F27', 'C6022741F26', 'C6023087F28', 'C6023115F27', 'C6023359F29', 'C6023388F29', 'C6023447F30', 'C6023538F29', 'C6023749F28', 'C6023941F29', 'C6024252F26', 'C6024385F28', 'C6024389F28', 'C6024456F28', 'C6024474F28', 'C6024752F28', 'C6024947F30', 'C6024976F26', 'C6025033F30', 'C6025444F29', 'C6025448F26', 'C6025483F29', 'C6025644F27', 'C6025712F26', 'C6025716F26', 'C6025788F26', 'C6025969F26', 'C6026141F27', 'C6026186F27', 'C6026461F27', 'C6027287F28', 'C6027442F27', 'C6027745F29', 'C6027869F30', 'C6028147F28', 'C6028151F29', 'C6028270F28', 'C6028415F28', 'C6028489F26', 'C6028611F29', 'C6028935F26', 'C6029064F28', 'C6029162F29', 'C6029190F27', 'C6029342F27', 'C6029622F26', 'C6030623F28', 'C6030981F28', 'C6031512F27', 'C6031591F28', 'C6031761F26', 'C6031990F30', 'C6032076F27', 'C6032682F29', 'C6032955F29', 'C6032966F26', 'C6032981F29', 'C6032982F27', 'C6033131F30', 'C6033531F27', 'C6033829F30', 'C6034083F28', 'C6034289F29', 'C6034335F28', 'C6034369F29', 'C6034374F28', 'C6034443F30', 'C6034567F26', 'C6035051F29', 'C6035219F27', 'C6035223F27', 'C6035291F27', 'C6035374F27', 'C6035660F26', 'C6036084F30', 'C6036474F29', 'C6036876F30', 'C6037332F26', 'C6037624F27', 'C6037632F27', 'C6038381F27', 'C6038773F30', 'C6038779F26', 'C6039289F28', 'C6039355F26', 'C6039540F28', 'C6039928F30', 'C6040059F26', 'C6040124F27', 'C6040175F26', 'C6040189F26', 'C6040355F28', 'C6040379F30', 'C6040414F26', 'C6040480F27', 'C6040640F30', 'C6040691F30', 'C6041553F27', 'C6041814F30', 'C6041859F29', 'C6041883F29', 'C6042653F27', 'C6042761F28', 'C6046282F29', 'C6048550F30', 'C6056227F26', 'C6056268F26', 'C6059778F29', 'C6061063F27', 'C6063084F29', 'C6065087F29', 'C6066459F30', 'C6070862F28', 'C6071925F30', 'C6073723F28', 'C6077490F27', 'C6078073F29', 'C6078484F26', 'C6089687F28', 'C6091772F28', 'C6093236F30', 'C6095528F27', 'C6098639F29', 'C6110442F27', 'C6110579F28', 'C6110581F29', 'C6110729F28', 'C6110757F28', 'C6110967F26', 'C6111019F28', 'C6111048F27', 'C6111350F29', 'C6111418F30', 'C6111669F29', 'C6111848F30', 'C6111920F30', 'C6111933F27', 'C6112325F26', 'C6112373F26', 'C6112779F26', 'C6113166F26', 'C6113233F26', 'C6113316F26', 'C6113452F27', 'C6113685F26', 'C6113734F26', 'C6113856F26', 'C6113983F30', 'C6114174F28', 'C6114420F27', 'C6115030F26', 'C6115252F27', 'C6115270F26', 'C6115569F30', 'C6115631F26', 'C6115856F27', 'C6115984F28', 'C6116438F26', 'C6116464F28', 'C6116547F30', 'C6116647F30', 'C6116884F29', 'C6117244F30', 'C6117258F27', 'C6117483F26', 'C6117912F28', 'C6118331F27', 'C6118346F26', 'C6118785F26', 'C6119158F30', 'C6119412F29', 'C6119431F26', 'C6119434F26', 'C6119752F30', 'C6120250F29', 'C6120645F27', 'C6120650F27', 'C6120792F29', 'C6120814F28', 'C6121032F29', 'C6121179F26', 'C6121263F29', 'C6121589F27', 'C6121838F29', 'C6121888F26', 'C6121969F26', 'C6122181F30', 'C6122412F27', 'C6122452F27', 'C6122680F27', 'C6122913F30', 'C6123034F26', 'C6123073F30', 'C6123147F26', 'C6123351F26', 'C6123519F29', 'C6123616F27', 'C6123820F27', 'C6123862F30', 'C6123864F29', 'C6124673F27', 'C6125117F27', 'C6125138F27', 'C6125148F26', 'C6125149F27', 'C6125190F28', 'C6125723F27', 'C6125781F26', 'C6126631F26', 'C6126641F26', 'C6126667F28', 'C6126727F28', 'C6126926F28', 'C6126931F30', 'C6127022F26', 'C6127353F28', 'C6127787F29', 'C6127889F26', 'C6127955F27', 'C6128052F26', 'C6128080F26', 'C6128083F27', 'C6128458F26', 'C6128513F28', 'C6128657F26', 'C6128828F26', 'C6129080F30', 'C6129135F27', 'C6129481F29', 'C6129825F26', 'C6130377F26', 'C6131022F26', 'C6131144F27', 'C6131391F26', 'C6131587F27', 'C6131760F26', 'C6131821F26', 'C6132050F28', 'C6132286F26', 'C6132411F26', 'C6132426F26', 'C6132455F27', 'C6132579F28', 'C6132588F28', 'C6132645F29', 'C6132931F28', 'C6132947F29', 'C6132954F26', 'C6133364F26', 'C6133467F30', 'C6133819F26', 'C6133883F27', 'C6134018F30', 'C6134242F26', 'C6134263F26', 'C6134439F29', 'C6134478F30', 'C6134940F26', 'C6135035F28', 'C6135139F27', 'C6135142F27', 'C6135142F29', 'C6135661F28', 'C6135728F27', 'C6135930F26', 'C6136147F26', 'C6136381F26', 'C6136757F29', 'C6137672F27', 'C6138119F27', 'C6138138F30', 'C6138282F27', 'C6138453F26', 'C6138717F30', 'C6139187F30', 'C6139970F29', 'C6140126F30', 'C6140340F30', 'C6140420F30', 'C6140456F27', 'C6140569F27', 'C6140761F28', 'C6140788F26', 'C6141745F28', 'C6141853F29', 'C6142074F29', 'C6142448F28', 'C6142450F28', 'C6142791F30', 'C6146445F27', 'C6149084F28', 'C6150685F29', 'C6150687F29', 'C6153834F26', 'C6156155F30', 'C6156585F28', 'C6158012F26', 'C6158345F26', 'C6159680F27', 'C6160612F27', 'C6161643F26', 'C6162825F28', 'C6162868F28', 'C6162871F28', 'C6163026F28', 'C6163058F29', 'C6166019F28', 'C6168326F26', 'C6169728F27', 'C6172118F26', 'C6172759F27', 'C6172984F30', 'C6173471F27', 'C6173522F29', 'C6173567F29', 'C6174669F29', 'C6174683F29', 'C6176269F28', 'C6181983F29', 'C6185511F30', 'C6190392F26', 'C6195231F29', 'C6195263F30', 'C6196568F26', 'C6196745F28', 'C6199186F26', 'C6210547F27', 'C6210715F30', 'C6210787F29', 'C6211017F26', 'C6211070F26', 'C6211087F30', 'C6211913F30', 'C6211932F28', 'C6211973F30', 'C6212015F27', 'C6212083F29', 'C6212852F29', 'C6213031F27', 'C6213150F29', 'C6213354F26', 'C6214888F29', 'C6214985F26', 'C6215081F30', 'C6215135F26', 'C6215567F30', 'C6215752F27', 'C6216532F27', 'C6216645F30', 'C6216730F28', 'C6216772F26', 'C6216789F30', 'C6217048F29', 'C6217683F26', 'C6217730F30', 'C6218075F29', 'C6218349F29', 'C6218559F27', 'C6218762F29', 'C6218945F27', 'C6219230F29', 'C6219292F27', 'C6219433F26', 'C6219434F27', 'C6219580F28', 'C6219781F28', 'C6219970F28', 'C6220625F27', 'C6220813F30', 'C6220851F27', 'C6221435F26', 'C6221626F26', 'C6221733F29', 'C6221864F27', 'C6222063F26', 'C6222277F27', 'C6222416F28', 'C6222470F26', 'C6222814F27', 'C6222833F29', 'C6222930F26', 'C6223041F26', 'C6223120F27', 'C6223139F27', 'C6223183F28', 'C6223316F29', 'C6223319F29', 'C6223427F28', 'C6223622F27', 'C6223826F29', 'C6223841F26', 'C6224080F28', 'C6224332F30', 'C6224360F30', 'C6224439F28', 'C6224448F27', 'C6224642F29', 'C6224923F30', 'C6224991F27', 'C6225232F30', 'C6225291F26', 'C6225486F29', 'C6225523F28', 'C6225583F28', 'C6225717F28', 'C6226262F29', 'C6226415F27', 'C6226716F29', 'C6226739F29', 'C6226745F26', 'C6226890F28', 'C6226962F29', 'C6227119F28', 'C6227166F26', 'C6227653F27', 'C6228123F28', 'C6228144F27', 'C6228266F29', 'C6228458F26', 'C6228461F28', 'C6228577F26', 'C6228824F26', 'C6228859F26', 'C6229187F27', 'C6229388F27', 'C6229429F29', 'C6229575F29', 'C6229633F29', 'C6229789F27', 'C6229819F27', 'C6229836F26', 'C6229977F30', 'C6230062F29', 'C6230081F28', 'C6230344F28', 'C6230569F28', 'C6230819F28', 'C6231156F27', 'C6231170F27', 'C6231234F29', 'C6231365F27', 'C6231826F29', 'C6231832F26', 'C6231889F29', 'C6231985F27', 'C6232059F29', 'C6232092F28', 'C6232173F28', 'C6232289F29', 'C6232341F27', 'C6232551F28', 'C6232935F26', 'C6232945F28', 'C6233285F30', 'C6233562F28', 'C6233656F28', 'C6233714F29', 'C6233789F29', 'C6234033F28', 'C6234170F27', 'C6234181F28', 'C6234214F26', 'C6234233F26', 'C6234244F27', 'C6234284F30', 'C6234526F26', 'C6234883F27', 'C6235050F30', 'C6235224F29', 'C6235655F28', 'C6235665F30', 'C6235824F29', 'C6236041F30', 'C6236771F30', 'C6236824F26', 'C6237356F26', 'C6237368F26', 'C6237389F27', 'C6237836F30', 'C6238012F26', 'C6238041F26', 'C6238111F27', 'C6238241F26', 'C6238533F29', 'C6238661F30', 'C6239130F29', 'C6239379F28', 'C6239736F29', 'C6240280F28', 'C6240988F29', 'C6241246F30', 'C6241665F29', 'C6241870F30', 'C6242428F27', 'C6246383F30', 'C6247924F27', 'C6252412F26', 'C6252473F26', 'C6255830F27', 'C6256547F28', 'C6258065F26', 'C6258066F26', 'C6258148F30', 'C6261240F30', 'C6262431F28', 'C6262574F27', 'C6264211F26', 'C6265034F29', 'C6266959F26', 'C6267386F28', 'C6267652F29', 'C6268317F26', 'C6268866F26', 'C6269542F27', 'C6270885F30', 'C6272772F28', 'C6274663F28', 'C6275540F26', 'C6276229F28', 'C6277133F29', 'C6279733F28', 'C6282475F26', 'C6283942F29', 'C6284370F27', 'C6288219F30', 'C6291984F30', 'C6293183F29', 'C6294783F26', 'C6310022F29', 'C6310139F28', 'C6310161F29', 'C6310278F30', 'C6310391F27', 'C6310579F28', 'C6310649F30', 'C6310780F26', 'C6311647F27', 'C6311834F29', 'C6313067F26', 'C6313146F30', 'C6313367F26', 'C6313518F27', 'C6314262F27', 'C6314550F26', 'C6314557F26', 'C6314834F27', 'C6315243F27', 'C6315514F30', 'C6316131F26', 'C6316334F29', 'C6316388F30', 'C6316424F26', 'C6316737F30', 'C6316878F27', 'C6317274F28', 'C6317355F26', 'C6317881F29', 'C6318084F26', 'C6318150F29', 'C6319131F28', 'C6319246F29', 'C6319388F29', 'C6319464F29', 'C6319476F27', 'C6319480F27', 'C6319656F26', 'C6319777F30', 'C6320013F29', 'C6320420F29', 'C6320457F28', 'C6320622F26', 'C6320936F26', 'C6320957F27', 'C6320968F27', 'C6321130F27', 'C6321268F26', 'C6321754F30', 'C6321822F29', 'C6321834F28', 'C6321916F26', 'C6322537F27', 'C6322820F26', 'C6322880F30', 'C6323156F29', 'C6323339F27', 'C6323570F29', 'C6324241F27', 'C6324348F28', 'C6324584F29', 'C6324821F28', 'C6325670F30', 'C6326026F30', 'C6326138F27', 'C6326324F29', 'C6326428F28', 'C6326573F28', 'C6326980F27', 'C6327134F28', 'C6327249F28', 'C6327560F29', 'C6328125F28', 'C6328247F28', 'C6328330F28', 'C6328459F26', 'C6328627F27', 'C6328864F28', 'C6329267F28', 'C6329411F29', 'C6329460F29', 'C6329820F26', 'C6329860F26', 'C6329889F26', 'C6329890F30', 'C6330091F28', 'C6330544F28', 'C6330588F28', 'C6330725F29', 'C6330820F30', 'C6330866F27', 'C6331132F27', 'C6331275F29', 'C6331537F27', 'C6331686F29', 'C6332036F26', 'C6332141F28', 'C6332522F26', 'C6332575F28', 'C6332847F27', 'C6333457F27', 'C6333576F27', 'C6333734F30', 'C6333833F27', 'C6334341F27', 'C6334492F27', 'C6334929F28', 'C6334954F27', 'C6335079F30', 'C6335176F29', 'C6335440F30', 'C6335945F26', 'C6335964F28', 'C6336048F27', 'C6336424F27', 'C6336613F26', 'C6336734F27', 'C6336770F27', 'C6337076F27', 'C6337249F29', 'C6337479F29', 'C6337485F26', 'C6337578F29', 'C6337834F30', 'C6338378F27', 'C6338415F30', 'C6338422F29', 'C6339178F28', 'C6339213F27', 'C6339282F27', 'C6340123F26', 'C6340231F29', 'C6340352F30', 'C6340425F30', 'C6340453F26', 'C6340540F26', 'C6341172F29', 'C6341627F26', 'C6341637F26', 'C6341641F27', 'C6341781F26', 'C6341874F26', 'C6341875F28', 'C6342019F29', 'C6342067F29', 'C6342068F26', 'C6342119F28', 'C6342290F26', 'C6342329F26', 'C6342330F27', 'C6342574F26', 'C6342636F27', 'C6343023F26', 'C6344742F30', 'C6345775F28', 'C6349644F30', 'C6350645F29', 'C6351637F29', 'C6354054F30', 'C6354063F30', 'C6355150F26', 'C6355217F26', 'C6356856F29', 'C6356912F28', 'C6358063F26', 'C6359617F27', 'C6360275F30', 'C6360677F27', 'C6362426F26', 'C6362566F27', 'C6368581F27', 'C6370011F30', 'C6371468F30', 'C6374531F28', 'C6374677F28', 'C6376051F30', 'C6377912F27', 'C6378137F30', 'C6382752F27', 'C6384756F30', 'C6392152F30', 'C6397182F26', 'C6410138F28', 'C6410259F26', 'C6411030F26', 'C6411066F29', 'C6411128F30', 'C6411539F29', 'C6411569F29', 'C6411724F30', 'C6412079F30', 'C6412183F30', 'C6412411F26', 'C6412453F27', 'C6412530F30', 'C6412691F27', 'C6412747F30', 'C6412953F30', 'C6413130F27', 'C6413419F30', 'C6413437F28', 'C6413630F29', 'C6413644F28', 'C6413861F27', 'C6414147F26', 'C6414289F26', 'C6414824F27', 'C6415031F28', 'C6415240F27', 'C6415313F30', 'C6415750F28', 'C6416121F26', 'C6416733F30', 'C6416924F28', 'C6417218F26', 'C6417284F26', 'C6417436F30', 'C6417482F28', 'C6417626F28', 'C6418323F26', 'C6418440F30', 'C6418864F27', 'C6419066F27', 'C6419256F28', 'C6419286F28', 'C6419327F27', 'C6419439F27', 'C6419733F28', 'C6420091F27', 'C6420331F26', 'C6420415F28', 'C6420456F29', 'C6420655F27', 'C6420857F26', 'C6420926F26', 'C6420966F26', 'C6421439F29', 'C6421548F30', 'C6422187F28', 'C6422225F28', 'C6422823F27', 'C6422978F30', 'C6423382F29', 'C6423425F28', 'C6423440F28', 'C6423547F27', 'C6423860F26', 'C6423922F28', 'C6423986F29', 'C6424338F28', 'C6424442F28', 'C6424523F30', 'C6424582F26', 'C6424737F26', 'C6424869F27', 'C6425524F28', 'C6425735F27', 'C6425991F30', 'C6426138F27', 'C6426155F27', 'C6426191F29', 'C6426635F27', 'C6426765F26', 'C6427240F28', 'C6427719F26', 'C6427939F26', 'C6428165F26', 'C6428234F28', 'C6428262F28', 'C6428466F26', 'C6428539F28', 'C6428987F29', 'C6429029F27', 'C6429031F28', 'C6429044F27', 'C6429141F29', 'C6429418F27', 'C6429460F29', 'C6429747F28', 'C6430191F29', 'C6430683F27', 'C6430863F28', 'C6430957F28', 'C6431146F26', 'C6431436F29', 'C6431715F30', 'C6431852F26', 'C6431882F26', 'C6432173F26', 'C6432539F28', 'C6432791F29', 'C6432835F30', 'C6432887F28', 'C6433220F28', 'C6433232F29', 'C6433281F26', 'C6433591F28', 'C6433615F27', 'C6433738F29', 'C6433770F26', 'C6433870F30', 'C6434113F28', 'C6434271F27', 'C6434438F28', 'C6434550F28', 'C6434575F26', 'C6434758F28', 'C6434933F26', 'C6435064F27', 'C6435067F30', 'C6435113F28', 'C6435366F29', 'C6435656F29', 'C6435683F26', 'C6435854F26', 'C6435919F26', 'C6435978F28', 'C6436074F26', 'C6436361F26', 'C6436489F29', 'C6436642F29', 'C6436665F26', 'C6436765F27', 'C6437344F30', 'C6437461F26', 'C6437677F30', 'C6437765F29', 'C6437868F27', 'C6437872F28', 'C6438021F30', 'C6438156F30', 'C6438385F27', 'C6438421F27', 'C6438781F28', 'C6439334F26', 'C6439552F26', 'C6439755F26', 'C6439765F29', 'C6439878F27', 'C6440389F28', 'C6440656F30', 'C6440721F30', 'C6441812F30', 'C6441970F29', 'C6442191F27', 'C6442366F30', 'C6442432F28', 'C6442880F26', 'C6443049F26', 'C6443624F27', 'C6444328F30', 'C6446874F26', 'C6449065F28', 'C6458050F26', 'C6458053F26', 'C6459423F27', 'C6461159F29', 'C6467345F29', 'C6468514F27', 'C6468782F29', 'C6469491F27', 'C6469954F29', 'C6471621F27', 'C6471973F30', 'C6476028F26', 'C6477272F30', 'C6483690F27', 'C6484887F26', 'C6486433F29', 'C6487015F29', 'C6487421F26', 'C6487852F26', 'C6489553F29', 'C6493157F28', 'C6493524F26', 'C6493818F28', 'C6494424F27', 'C6497155F26', 'C6510065F28', 'C6510489F26', 'C6510741F26', 'C6511023F30', 'C6511433F27', 'C6511856F28', 'C6511891F30', 'C6512055F27', 'C6512139F26', 'C6512338F27', 'C6512342F29', 'C6512855F26', 'C6512952F27', 'C6513031F27', 'C6513132F29', 'C6513133F26', 'C6513330F28', 'C6513945F30', 'C6513953F30', 'C6514275F28', 'C6514329F26', 'C6514953F26', 'C6515286F28', 'C6515388F26', 'C6515668F28', 'C6515669F28', 'C6515754F28', 'C6516040F28', 'C6516188F29', 'C6516312F28', 'C6516360F30', 'C6516361F27', 'C6516371F26', 'C6516441F27', 'C6516632F30', 'C6517051F29', 'C6517881F26', 'C6518081F28', 'C6518576F28', 'C6519272F28', 'C6519291F28', 'C6519343F26', 'C6519415F26', 'C6519513F29', 'C6519532F27', 'C6519639F26', 'C6519838F27', 'C6519878F26', 'C6519964F27', 'C6520035F26', 'C6520431F29', 'C6520937F29', 'C6520962F26', 'C6520971F26', 'C6520974F26', 'C6520987F27', 'C6521051F29', 'C6521054F26', 'C6521279F29', 'C6521676F28', 'C6521875F26', 'C6521920F29', 'C6522248F28', 'C6522314F26', 'C6522520F27', 'C6522659F27', 'C6522935F30', 'C6522942F26', 'C6523016F27', 'C6523139F26', 'C6523239F26', 'C6523322F29', 'C6523422F27', 'C6523434F28', 'C6523925F26', 'C6524244F28', 'C6524576F30', 'C6524659F30', 'C6524731F27', 'C6524949F29', 'C6525185F29', 'C6525516F28', 'C6525818F27', 'C6525827F26', 'C6525979F26', 'C6526011F30', 'C6526158F27', 'C6526445F30', 'C6526614F27', 'C6526877F28', 'C6527412F26', 'C6527466F26', 'C6528081F30', 'C6528148F27', 'C6528762F28', 'C6528914F26', 'C6529138F27', 'C6529163F26', 'C6529183F29', 'C6529387F27', 'C6529450F26', 'C6529584F26', 'C6529866F26', 'C6529883F30', 'C6529889F26', 'C6529956F30', 'C6530080F27', 'C6530313F26', 'C6530448F29', 'C6530536F28', 'C6530771F26', 'C6531015F26', 'C6531223F26', 'C6531789F27', 'C6531812F29', 'C6531814F26', 'C6531870F27', 'C6532634F28', 'C6533169F30', 'C6533219F29', 'C6533627F28', 'C6533683F29', 'C6534274F28', 'C6534322F27', 'C6534348F29', 'C6534480F28', 'C6534749F27', 'C6535176F28', 'C6535231F29', 'C6535489F29', 'C6535782F30', 'C6536069F30', 'C6536547F29', 'C6536587F30', 'C6536820F26', 'C6536854F28', 'C6536968F30', 'C6537017F30', 'C6537028F28', 'C6537076F26', 'C6537085F30', 'C6537184F30', 'C6538063F26', 'C6538135F30', 'C6538715F26', 'C6538730F27', 'C6539018F29', 'C6539531F29', 'C6539531F30', 'C6540016F27', 'C6540019F26', 'C6540230F28', 'C6540252F26', 'C6540382F30', 'C6540617F26', 'C6540623F30', 'C6540782F29', 'C6540826F28', 'C6540848F30', 'C6540854F30', 'C6541075F29', 'C6541461F26', 'C6541833F28', 'C6541888F29', 'C6542242F28', 'C6542686F29', 'C6542887F27', 'C6543033F30', 'C6548737F27', 'C6549190F26', 'C6551963F26', 'C6552912F27', 'C6553076F30', 'C6553145F28', 'C6556053F27', 'C6559256F30', 'C6561465F28', 'C6562534F27', 'C6563015F27', 'C6564492F29', 'C6564676F27', 'C6570870F30', 'C6576227F29', 'C6579734F28', 'C6584384F27', 'C6585616F28', 'C6589259F30', 'C6589712F27', 'C6590374F29', 'C6594082F28', 'C6596877F26', 'C6598020F27', 'C6610070F28', 'C6610125F30', 'C6610186F30', 'C6610236F28', 'C6610437F27', 'C6610513F27', 'C6611082F30', 'C6611126F28', 'C6611274F27', 'C6611372F26', 'C6611440F26', 'C6611812F29', 'C6612288F26', 'C6612412F30', 'C6612554F29', 'C6612656F30', 'C6612673F30', 'C6612921F29', 'C6612932F30', 'C6613114F27', 'C6613290F28', 'C6613353F26', 'C6613652F26', 'C6613823F26', 'C6613912F26', 'C6613978F27', 'C6614083F27', 'C6614084F27', 'C6614843F29', 'C6615679F28', 'C6615739F28', 'C6615774F26', 'C6615788F30', 'C6615837F27', 'C6615865F28', 'C6615872F27', 'C6616013F27', 'C6616525F29', 'C6616529F30', 'C6616967F28', 'C6617042F29', 'C6617212F30', 'C6617238F30', 'C6617330F28', 'C6617348F26', 'C6617487F27', 'C6617718F26', 'C6617864F26', 'C6618281F30', 'C6618418F29', 'C6618489F27', 'C6618580F27', 'C6618652F30', 'C6618712F30', 'C6618773F30', 'C6619033F28', 'C6619284F26', 'C6619364F29', 'C6619438F29', 'C6619832F27', 'C6619952F28', 'C6619969F26', 'C6620369F27', 'C6620639F27', 'C6620784F26', 'C6620882F27', 'C6620929F26', 'C6620937F26', 'C6621184F30', 'C6621211F27', 'C6621235F26', 'C6621270F28', 'C6621378F29', 'C6622169F30', 'C6622267F27', 'C6622359F26', 'C6622621F26', 'C6623122F27', 'C6623536F30', 'C6623974F30', 'C6624043F30', 'C6624230F27', 'C6624287F29', 'C6624722F30', 'C6624744F29', 'C6624780F30', 'C6624786F28', 'C6625227F27', 'C6625256F26', 'C6625748F27', 'C6626121F29', 'C6626191F27', 'C6626286F30', 'C6626378F27', 'C6626521F26', 'C6626714F28', 'C6626775F30', 'C6626783F30', 'C6626862F28', 'C6626913F27', 'C6627023F29', 'C6627041F29', 'C6627689F26', 'C6627729F29', 'C6627957F27', 'C6628172F26', 'C6628869F26', 'C6628929F28', 'C6628950F26', 'C6629025F30', 'C6629117F28', 'C6629156F27', 'C6629243F28', 'C6629444F26', 'C6630575F30', 'C6630722F26', 'C6631014F28', 'C6631515F26', 'C6632014F29', 'C6632049F29', 'C6632356F30', 'C6633048F29', 'C6633074F30', 'C6633516F27', 'C6633613F27', 'C6634177F28', 'C6634212F29', 'C6634223F30', 'C6634249F26', 'C6634729F27', 'C6634746F26', 'C6634852F28', 'C6634932F26', 'C6635020F26', 'C6635065F28', 'C6635422F29', 'C6636339F26', 'C6636353F29', 'C6636854F27', 'C6636873F29', 'C6636892F27', 'C6636967F28', 'C6637059F29', 'C6637117F26', 'C6637170F26', 'C6637182F30', 'C6637691F30', 'C6637750F28', 'C6637828F30', 'C6638054F27', 'C6638113F29', 'C6638191F26', 'C6638357F29', 'C6638547F27', 'C6638857F28', 'C6639062F30', 'C6639375F27', 'C6639670F26', 'C6639691F28', 'C6640322F30', 'C6640386F28', 'C6640815F29', 'C6640973F29', 'C6641064F28', 'C6641184F26', 'C6641623F29', 'C6641629F29', 'C6641686F26', 'C6641886F29', 'C6641887F30', 'C6642385F27', 'C6642814F26', 'C6642847F27', 'C6642882F27', 'C6645843F26', 'C6646834F26', 'C6649245F29', 'C6650649F29', 'C6650662F29', 'C6654047F30', 'C6655659F27', 'C6656782F26', 'C6658789F27', 'C6659713F29', 'C6660568F28', 'C6660824F30', 'C6662683F27', 'C6663213F27', 'C6668332F26', 'C6668855F26', 'C6671341F30', 'C6672633F30', 'C6673076F29', 'C6677370F28', 'C6678078F29', 'C6678469F26', 'C6680889F29', 'C6683047F28', 'C6689082F28', 'C6691676F29', 'C6692639F27', 'C6694147F30', 'C6694442F27', 'C6699827F30', 'C6710042F28', 'C6710645F29', 'C6710888F29', 'C6711115F28', 'C6711174F28', 'C6711192F28', 'C6711212F29', 'C6711456F27', 'C6711585F27', 'C6711758F30', 'C6711960F30', 'C6711992F28', 'C6712126F30', 'C6712333F29', 'C6712338F30', 'C6712663F30', 'C6712738F27', 'C6712974F26', 'C6713480F30', 'C6713523F26', 'C6713548F29', 'C6713851F27', 'C6714017F27', 'C6714130F30', 'C6714276F26', 'C6714580F29', 'C6714760F29', 'C6714887F26', 'C6714939F28', 'C6715082F29', 'C6715177F27', 'C6715446F28', 'C6715459F29', 'C6715482F28', 'C6715964F26', 'C6716081F26', 'C6716247F27', 'C6716362F30', 'C6716387F28', 'C6716490F26', 'C6716519F29', 'C6716646F30', 'C6717292F28', 'C6717575F29', 'C6718335F26', 'C6718466F26', 'C6718692F27', 'C6718860F27', 'C6718946F27', 'C6719189F26', 'C6719354F26', 'C6719430F28', 'C6719448F27', 'C6719658F27', 'C6720551F30', 'C6720637F28', 'C6720936F29', 'C6721184F30', 'C6721253F27', 'C6721267F29', 'C6721278F26', 'C6721462F28', 'C6721965F27', 'C6722034F27', 'C6722130F26', 'C6722515F30', 'C6722811F29', 'C6722833F30', 'C6722888F30', 'C6723369F29', 'C6723526F28', 'C6723663F27', 'C6723743F28', 'C6723747F29', 'C6723759F29', 'C6723835F27', 'C6723867F29', 'C6723892F26', 'C6723934F27', 'C6723970F29', 'C6724224F26', 'C6724226F30', 'C6724238F30', 'C6724249F28', 'C6724285F30', 'C6724677F30', 'C6724758F26', 'C6724789F29', 'C6724961F30', 'C6724971F29', 'C6725175F28', 'C6725180F27', 'C6725217F26', 'C6725260F26', 'C6725384F29', 'C6725425F26', 'C6725485F26', 'C6725692F28', 'C6725730F28', 'C6725738F30', 'C6725852F26', 'C6725887F26', 'C6726192F27', 'C6726373F28', 'C6726441F30', 'C6726478F30', 'C6727244F26', 'C6727418F26', 'C6727480F26', 'C6727633F30', 'C6727932F30', 'C6728043F26', 'C6728644F27', 'C6728691F29', 'C6728883F30', 'C6728948F29', 'C6729325F29', 'C6729361F29', 'C6729653F29', 'C6729743F27', 'C6729814F26', 'C6729946F30', 'C6730076F28', 'C6730148F28', 'C6730316F27', 'C6730856F28', 'C6730923F27', 'C6730950F28', 'C6731069F26', 'C6731078F29', 'C6731781F27', 'C6731783F27', 'C6732082F27', 'C6732264F26', 'C6732518F27', 'C6732917F27', 'C6733455F27', 'C6733527F30', 'C6733544F27', 'C6733671F28', 'C6733711F26', 'C6733877F27', 'C6734224F27', 'C6734365F28', 'C6734576F26', 'C6734613F27', 'C6734731F29', 'C6734929F26', 'C6735048F30', 'C6735122F26', 'C6735235F30', 'C6735321F27', 'C6735328F30', 'C6735612F30', 'C6735768F30', 'C6735783F29', 'C6736080F30', 'C6736179F28', 'C6736758F29', 'C6737129F28', 'C6737177F30', 'C6737191F30', 'C6737557F28', 'C6737724F29', 'C6737855F30', 'C6737912F30', 'C6738244F26', 'C6738485F27', 'C6738921F28', 'C6739238F30', 'C6739367F28', 'C6739480F29', 'C6739548F27', 'C6740373F30', 'C6740429F30', 'C6740550F28', 'C6740556F28', 'C6740632F27', 'C6740638F29', 'C6740754F28', 'C6741042F29', 'C6741122F29', 'C6741330F28', 'C6741785F26', 'C6742132F27', 'C6742270F28', 'C6742278F27', 'C6742343F27', 'C6742585F26', 'C6742823F27', 'C6742917F30', 'C6743091F26', 'C6745017F29', 'C6745423F26', 'C6756816F29', 'C6757444F28', 'C6759582F30', 'C6761611F27', 'C6761945F27', 'C6763069F27', 'C6769961F26', 'C6770311F26', 'C6770511F30', 'C6771745F27', 'C6772722F28', 'C6773227F26', 'C6773350F26', 'C6774678F29', 'C6775520F26', 'C6777192F26', 'C6777434F27', 'C6777991F27', 'C6778476F28', 'C6779867F29', 'C6784846F26', 'C6785541F27', 'C6791132F26', 'C6792690F27', 'C6793154F28', 'C6793724F30', 'C6795281F29', 'C6795440F26', 'C6795474F26', 'C6796827F26', 'C6810144F27', 'C6810254F29', 'C6810620F30', 'C6810960F30', 'C6810984F28', 'C6811030F30', 'C6811259F28', 'C6811413F29', 'C6811612F30', 'C6811827F28', 'C6811967F27', 'C6811984F28', 'C6812347F26', 'C6812573F30', 'C6812664F30', 'C6812686F30', 'C6812916F26', 'C6813132F29', 'C6813245F28', 'C6813357F26', 'C6813379F30', 'C6813971F30', 'C6814051F26', 'C6814182F27', 'C6814519F27', 'C6814552F29', 'C6814664F26', 'C6815492F29', 'C6815631F29', 'C6815680F26', 'C6816326F26', 'C6816572F28', 'C6816970F29', 'C6817086F29', 'C6817270F28', 'C6817889F28', 'C6817968F27', 'C6818372F29', 'C6818862F27', 'C6819021F29', 'C6819388F29', 'C6819611F30', 'C6819784F26', 'C6819886F27', 'C6819916F28', 'C6819960F28', 'C6820041F27', 'C6820240F30', 'C6820286F27', 'C6820857F26', 'C6821091F26', 'C6821220F28', 'C6821343F29', 'C6821437F27', 'C6822173F29', 'C6822433F28', 'C6822520F26', 'C6822639F28', 'C6822717F26', 'C6822838F29', 'C6823191F30', 'C6823682F27', 'C6823723F28', 'C6823848F26', 'C6823961F26', 'C6824217F29', 'C6824237F26', 'C6824268F28', 'C6824272F28', 'C6824354F28', 'C6824386F27', 'C6824911F29', 'C6825016F30', 'C6825059F29', 'C6825152F29', 'C6825359F30', 'C6825432F29', 'C6825469F26', 'C6825664F30', 'C6825781F27', 'C6826052F27', 'C6826120F26', 'C6826192F27', 'C6826740F28', 'C6826950F27', 'C6826971F27', 'C6827350F28', 'C6827628F30', 'C6827629F26', 'C6827826F30', 'C6827886F26', 'C6827992F26', 'C6828232F30', 'C6828249F27', 'C6828577F26', 'C6828989F26', 'C6829129F27', 'C6829159F26', 'C6829591F29', 'C6829870F30', 'C6829890F26', 'C6830189F26', 'C6830465F27', 'C6830569F28', 'C6830643F27', 'C6831248F30', 'C6831386F30', 'C6831567F29', 'C6832279F26', 'C6832286F26', 'C6832338F30', 'C6832512F27', 'C6832545F28', 'C6832585F28', 'C6832674F28', 'C6832682F26', 'C6832683F29', 'C6832863F29', 'C6832887F30', 'C6832972F26', 'C6832983F29', 'C6833077F26', 'C6833861F28', 'C6833977F26', 'C6834232F26', 'C6834715F27', 'C6834724F27', 'C6834774F27', 'C6834788F29', 'C6835081F28', 'C6835162F30', 'C6835342F26', 'C6835656F29', 'C6835882F26', 'C6836075F27', 'C6836085F30', 'C6836377F28', 'C6836530F26', 'C6836549F26', 'C6836743F29', 'C6837031F28', 'C6837383F26', 'C6837420F30', 'C6837615F28', 'C6837642F27', 'C6837818F28', 'C6838729F29', 'C6839265F29', 'C6839363F26', 'C6839560F27', 'C6840088F30', 'C6840160F30', 'C6840175F28', 'C6840460F27', 'C6840465F27', 'C6840568F28', 'C6840986F26', 'C6841555F28', 'C6842016F27', 'C6842048F26', 'C6842174F27', 'C6842335F27', 'C6842372F28', 'C6842451F26', 'C6842468F28', 'C6842637F27', 'C6842711F30', 'C6842816F30', 'C6844961F26', 'C6845548F30', 'C6850643F29', 'C6854030F30', 'C6855119F30', 'C6858223F28', 'C6858743F27', 'C6861623F27', 'C6864967F28', 'C6866159F30', 'C6866587F30', 'C6867491F26', 'C6869584F29', 'C6870824F28', 'C6871456F30', 'C6874485F27', 'C6878430F26', 'C6878675F28', 'C6879492F26', 'C6885377F29', 'C6887669F26', 'C6895261F27', 'C6897156F26', 'C6910187F28', 'C6910647F28', 'C6910978F29', 'C6911213F26', 'C6911214F28', 'C6911262F27', 'C6911329F30', 'C6911365F30', 'C6911461F28', 'C6911586F28', 'C6911691F27', 'C6911984F29', 'C6912184F30', 'C6912316F30', 'C6912426F30', 'C6912468F30', 'C6912761F26', 'C6913240F30', 'C6913260F30', 'C6913282F28', 'C6913376F26', 'C6913489F27', 'C6913570F26', 'C6913643F26', 'C6914430F27', 'C6914448F27', 'C6914463F27', 'C6914631F29', 'C6914868F27', 'C6914870F30', 'C6914982F28', 'C6915487F26', 'C6915578F30', 'C6915632F26', 'C6915950F28', 'C6916330F28', 'C6916368F27', 'C6916551F29', 'C6916619F26', 'C6916964F28', 'C6917183F26', 'C6917241F28', 'C6917323F27', 'C6918042F26', 'C6918059F29', 'C6918314F29', 'C6918715F26', 'C6918987F27', 'C6919029F28', 'C6919080F28', 'C6919278F28', 'C6919318F29', 'C6919470F26', 'C6919616F27', 'C6919672F30', 'C6919951F27', 'C6919954F28', 'C6920377F28', 'C6920491F29', 'C6920691F27', 'C6920919F27', 'C6920926F27', 'C6920936F26', 'C6920970F27', 'C6921377F29', 'C6921520F29', 'C6921873F29', 'C6922191F29', 'C6922319F26', 'C6922420F28', 'C6922428F26', 'C6922468F29', 'C6922529F26', 'C6922564F28', 'C6922690F26', 'C6922822F26', 'C6922961F27', 'C6923021F27', 'C6923146F27', 'C6923166F27', 'C6923372F29', 'C6923831F26', 'C6923832F26', 'C6923923F30', 'C6924046F30', 'C6924136F28', 'C6924388F27', 'C6924472F28', 'C6924553F29', 'C6924664F27', 'C6924946F30', 'C6925042F27', 'C6925792F28', 'C6925911F30', 'C6925953F27', 'C6925983F27', 'C6926028F27', 'C6926346F26', 'C6926359F29', 'C6926459F27', 'C6926619F26', 'C6926670F28', 'C6926674F27', 'C6927263F26', 'C6927315F28', 'C6927554F26', 'C6927586F26', 'C6927619F29', 'C6927660F26', 'C6927771F29', 'C6927835F28', 'C6928375F26', 'C6928619F27', 'C6928879F28', 'C6929134F30', 'C6929288F26', 'C6929291F27', 'C6929378F28', 'C6929460F29', 'C6930062F29', 'C6930331F30', 'C6930366F28', 'C6930376F27', 'C6930746F27', 'C6931990F27', 'C6932530F27', 'C6932648F29', 'C6932722F28', 'C6932761F26', 'C6932819F30', 'C6933033F30', 'C6933650F27', 'C6933774F30', 'C6933788F26', 'C6933867F26', 'C6933977F28', 'C6934177F26', 'C6934254F27', 'C6934281F28', 'C6934313F28', 'C6934327F29', 'C6934358F29', 'C6934458F29', 'C6934765F27', 'C6934951F28', 'C6935036F29', 'C6935214F27', 'C6935220F30', 'C6935230F27', 'C6935258F27', 'C6935668F28', 'C6935672F26', 'C6936035F28', 'C6936144F28', 'C6936239F26', 'C6936543F30', 'C6936654F26', 'C6936656F26', 'C6937119F28', 'C6937128F28', 'C6937155F29', 'C6937330F27', 'C6937340F26', 'C6937462F28', 'C6938217F26', 'C6939414F29', 'C6939954F30', 'C6940047F27', 'C6940128F30', 'C6940144F26', 'C6940180F28', 'C6940740F29', 'C6940815F27', 'C6941589F30', 'C6941640F26', 'C6941748F26', 'C6941837F29', 'C6941838F29', 'C6942051F26', 'C6942433F28', 'C6942846F26', 'C6942848F30', 'C6942850F27', 'C6942854F26', 'C6942974F27', 'C6943040F26', 'C6945385F27', 'C6946891F26', 'C6948746F27', 'C6951574F26', 'C6955174F30', 'C6955843F29', 'C6956138F30', 'C6956886F29', 'C6957256F27', 'C6957544F28', 'C6960777F29', 'C6962678F29', 'C6962815F27', 'C6963874F28', 'C6963916F26', 'C6966117F30', 'C6968418F30', 'C6971458F30', 'C6971952F30', 'C6974071F29', 'C6976017F30', 'C6976917F27', 'C6977330F28', 'C6982111F28', 'C6982280F26', 'C6985940F28', 'C6988521F26', 'C6989123F28', 'C6989650F28', 'C6990539F29', 'C6996347F28', 'C6996376F28', 'C6996846F26', 'C6998688F29', 'C7010326F27', 'C7010548F27', 'C7010653F26', 'C7011214F26', 'C7011392F29', 'C7011512F26', 'C7011732F30', 'C7011740F27', 'C7011766F29', 'C7011842F30', 'C7011860F30', 'C7012047F30', 'C7012662F26', 'C7012817F26', 'C7012947F30', 'C7013015F28', 'C7013059F30', 'C7013085F27', 'C7013324F27', 'C7013688F26', 'C7013842F27', 'C7014226F28', 'C7014655F28', 'C7014873F29', 'C7014883F29', 'C7014972F26', 'C7015013F28', 'C7015233F29', 'C7015360F30', 'C7015676F28', 'C7016225F27', 'C7016429F27', 'C7016456F28', 'C7016519F29', 'C7016878F28', 'C7016980F30', 'C7017058F30', 'C7017392F27', 'C7017530F28', 'C7017969F28', 'C7018058F26', 'C7018723F30', 'C7018954F27', 'C7019459F27', 'C7019773F26', 'C7019885F28', 'C7020382F28', 'C7020515F28', 'C7020956F27', 'C7021146F30', 'C7021228F26', 'C7021263F28', 'C7021325F29', 'C7021575F29', 'C7021581F27', 'C7021617F28', 'C7021918F29', 'C7021968F27', 'C7022448F28', 'C7022972F27', 'C7023266F28', 'C7023267F27', 'C7023715F26', 'C7023788F28', 'C7024267F28', 'C7024285F28', 'C7024478F28', 'C7024546F30', 'C7024689F27', 'C7024755F26', 'C7025234F26', 'C7025339F28', 'C7025392F28', 'C7025429F28', 'C7025437F26', 'C7025717F30', 'C7025785F26', 'C7026150F27', 'C7026572F29', 'C7026887F30', 'C7026932F28', 'C7027030F26', 'C7027087F27', 'C7027178F26', 'C7027312F30', 'C7027334F30', 'C7027443F28', 'C7027959F30', 'C7027974F26', 'C7028019F27', 'C7028270F28', 'C7029188F30', 'C7029657F29', 'C7029673F29', 'C7029821F26', 'C7029885F27', 'C7030050F29', 'C7030341F30', 'C7030814F28', 'C7030852F28', 'C7031257F27', 'C7031284F26', 'C7031422F26', 'C7031480F29', 'C7031853F28', 'C7031944F27', 'C7032312F27', 'C7032358F27', 'C7032617F28', 'C7032915F27', 'C7032982F27', 'C7033021F27', 'C7033086F30', 'C7033385F28', 'C7033524F30', 'C7033543F28', 'C7033721F28', 'C7033822F29', 'C7033855F29', 'C7033969F29', 'C7033977F26', 'C7033977F30', 'C7034620F29', 'C7034633F28', 'C7034845F30', 'C7035016F29', 'C7035036F29', 'C7035043F30', 'C7035113F30', 'C7035677F29', 'C7035824F26', 'C7035868F30', 'C7036172F28', 'C7037072F28', 'C7037561F28', 'C7037591F29', 'C7038134F30', 'C7038289F27', 'C7038332F30', 'C7038746F30', 'C7038852F30', 'C7039178F29', 'C7040041F29', 'C7040326F30', 'C7040374F27', 'C7040472F30', 'C7040516F27', 'C7040521F26', 'C7040818F29', 'C7041132F27', 'C7041225F30', 'C7041431F28', 'C7041484F26', 'C7041641F28', 'C7041775F29', 'C7041847F30', 'C7042081F30', 'C7042451F26', 'C7043291F26', 'C7047544F26', 'C7047645F29', 'C7049271F29', 'C7051945F26', 'C7052686F29', 'C7053311F27', 'C7056322F30', 'C7056827F29', 'C7061879F27', 'C7062189F29', 'C7063013F26', 'C7063079F28', 'C7070873F26', 'C7071981F27', 'C7076056F26', 'C7076115F30', 'C7077258F30', 'C7078641F28', 'C7081271F26', 'C7087035F29', 'C7091739F27', 'C7092668F28', 'C7092922F29', 'C7095575F27', 'C7097840F29', 'C7110083F26', 'C7110171F30', 'C7110666F30', 'C7111070F27', 'C7111154F30', 'C7111238F27', 'C7111240F28', 'C7111472F27', 'C7111647F29', 'C7111681F29', 'C7111786F30', 'C7111872F29', 'C7111881F29', 'C7111933F30', 'C7111948F27', 'C7112314F27', 'C7112544F27', 'C7112551F27', 'C7112587F28', 'C7112949F26', 'C7113080F28', 'C7113118F29', 'C7113130F29', 'C7113385F26', 'C7113930F28', 'C7114062F27', 'C7114239F29', 'C7114828F26', 'C7114875F29', 'C7114941F26', 'C7115245F26', 'C7115584F26', 'C7115714F27', 'C7116340F30', 'C7116347F30', 'C7116460F26', 'C7116659F30', 'C7116833F29', 'C7117215F26', 'C7117369F27', 'C7117653F30', 'C7117837F26', 'C7117852F28', 'C7118035F28', 'C7118134F29', 'C7118240F27', 'C7118467F27', 'C7118620F27', 'C7118725F29', 'C7118987F27', 'C7119183F26', 'C7119328F29', 'C7119441F29', 'C7119620F27', 'C7119759F26', 'C7119781F30', 'C7119945F27', 'C7119960F30', 'C7119986F28', 'C7120745F26', 'C7120879F28', 'C7120931F27', 'C7120945F26', 'C7120975F27', 'C7120990F26', 'C7121030F26', 'C7121048F29', 'C7121173F26', 'C7121384F30', 'C7121453F26', 'C7121952F27', 'C7122124F27', 'C7122335F27', 'C7122348F26', 'C7122490F30', 'C7122836F29', 'C7123032F27', 'C7123046F26', 'C7123342F30', 'C7123873F27', 'C7123913F27', 'C7124390F28', 'C7124818F27', 'C7125052F30', 'C7125114F28', 'C7125448F29', 'C7125728F26', 'C7126134F27', 'C7126140F27', 'C7126168F27', 'C7126454F29', 'C7126492F27', 'C7126522F26', 'C7126643F28', 'C7126738F26', 'C7126869F28', 'C7127250F26', 'C7127263F28', 'C7127515F26', 'C7128054F26', 'C7128238F28', 'C7128676F27', 'C7128683F27', 'C7128989F30', 'C7129062F27', 'C7129370F27', 'C7129426F29', 'C7129437F29', 'C7129718F28', 'C7129872F26', 'C7129983F26', 'C7130627F27', 'C7130688F27', 'C7130743F27', 'C7130892F30', 'C7131122F28', 'C7131366F27', 'C7131865F29', 'C7132534F26', 'C7132583F26', 'C7132947F28', 'C7133020F29', 'C7133527F26', 'C7133530F27', 'C7133748F26', 'C7133752F26', 'C7133783F26', 'C7133829F27', 'C7133888F28', 'C7134070F28', 'C7134375F29', 'C7134425F29', 'C7135044F28', 'C7135813F29', 'C7135824F29', 'C7135871F29', 'C7136728F29', 'C7136979F26', 'C7137043F29', 'C7137087F26', 'C7137089F30', 'C7137519F27', 'C7137913F26', 'C7138133F27', 'C7138418F26', 'C7138729F30', 'C7138768F27', 'C7138814F30', 'C7139689F28', 'C7139960F29', 'C7140084F28', 'C7140084F30', 'C7140363F27', 'C7140448F30', 'C7140682F30', 'C7140780F28', 'C7140841F26', 'C7140856F26', 'C7140951F28', 'C7140971F26', 'C7140987F29', 'C7141237F28', 'C7141250F30', 'C7142114F28', 'C7142319F27', 'C7142654F28', 'C7142824F27', 'C7143635F27', 'C7143690F27', 'C7144374F30', 'C7149758F28', 'C7151260F26', 'C7151523F26', 'C7151650F29', 'C7151918F30', 'C7153860F26', 'C7155119F30', 'C7161223F30', 'C7162568F29', 'C7167913F26', 'C7167932F26', 'C7168323F26', 'C7168528F27', 'C7168547F27', 'C7168636F27', 'C7171875F29', 'C7172567F26', 'C7172986F27', 'C7173769F28', 'C7174482F29', 'C7175621F30', 'C7176279F28', 'C7177471F27', 'C7178357F29', 'C7179060F28', 'C7182236F27', 'C7182246F27', 'C7182657F28', 'C7182982F26', 'C7186462F29', 'C7187446F26', 'C7189562F29', 'C7192370F27', 'C7196223F27', 'C7196715F28', 'C7197864F29', 'C7210074F28', 'C7210265F30', 'C7210281F26', 'C7210530F27', 'C7210534F27', 'C7210847F26', 'C7210957F28', 'C7211279F26', 'C7211325F30', 'C7212069F30', 'C7212260F26', 'C7212559F29', 'C7212678F30', 'C7213171F26', 'C7214251F26', 'C7214831F27', 'C7214835F29', 'C7214879F29', 'C7215261F26', 'C7215438F27', 'C7215563F28', 'C7215615F26', 'C7215760F30', 'C7215982F27', 'C7216020F28', 'C7216325F27', 'C7216535F29', 'C7216712F29', 'C7216826F27', 'C7217049F28', 'C7217138F30', 'C7217183F28', 'C7217349F26', 'C7217355F28', 'C7217360F28', 'C7217451F30', 'C7218220F29', 'C7218473F29', 'C7218481F27', 'C7218534F27', 'C7218676F30', 'C7218719F26', 'C7218844F27', 'C7219056F28', 'C7219086F29', 'C7219320F26', 'C7219320F29', 'C7219351F29', 'C7219437F26', 'C7219513F27', 'C7219575F30', 'C7219590F28', 'C7219857F26', 'C7219870F27', 'C7219916F30', 'C7220212F29', 'C7220449F29', 'C7220731F29', 'C7220883F29', 'C7221187F27', 'C7221276F28', 'C7221859F28', 'C7222091F26', 'C7222147F26', 'C7222361F26', 'C7222468F27', 'C7222475F29', 'C7222478F28', 'C7222577F26', 'C7223079F30', 'C7223092F27', 'C7223138F27', 'C7223312F27', 'C7223371F27', 'C7223446F28', 'C7223766F26', 'C7224126F30', 'C7224155F28', 'C7224570F29', 'C7224638F29', 'C7224823F27', 'C7224856F26', 'C7225126F27', 'C7225136F27', 'C7225185F29', 'C7225221F27', 'C7225342F27', 'C7225569F28', 'C7225729F26', 'C7225755F26', 'C7225761F26', 'C7225960F27', 'C7225965F30', 'C7225990F26', 'C7226041F30', 'C7226652F27', 'C7227131F27', 'C7227960F30', 'C7228649F27', 'C7228729F26', 'C7228759F28', 'C7228886F28', 'C7228953F29', 'C7229350F28', 'C7229941F28', 'C7230151F26', 'C7230346F26', 'C7230351F29', 'C7230819F27', 'C7230926F26', 'C7231667F29', 'C7231819F29', 'C7231890F29', 'C7232019F26', 'C7232075F29', 'C7232132F28', 'C7232291F26', 'C7232512F28', 'C7232557F27', 'C7232968F29', 'C7232979F26', 'C7232987F29', 'C7233017F26', 'C7233239F26', 'C7233357F28', 'C7233389F26', 'C7233647F27', 'C7233779F29', 'C7233984F26', 'C7234154F28', 'C7234161F30', 'C7234324F29', 'C7234386F29', 'C7234531F28', 'C7234590F29', 'C7235066F29', 'C7235069F27', 'C7235140F29', 'C7235156F26', 'C7235247F27', 'C7236014F30', 'C7236090F27', 'C7236335F29', 'C7237581F29', 'C7237584F29', 'C7237713F26', 'C7237774F26', 'C7237923F26', 'C7237944F28', 'C7238075F26', 'C7238083F26', 'C7238450F26', 'C7238465F28', 'C7238569F29', 'C7238864F26', 'C7238871F26', 'C7239051F26', 'C7239243F27', 'C7239433F29', 'C7240141F26', 'C7240232F28', 'C7240235F28', 'C7240388F26', 'C7240479F30', 'C7240850F27', 'C7241230F30', 'C7241390F29', 'C7241572F27', 'C7241644F26', 'C7241785F28', 'C7241819F30', 'C7242148F27', 'C7242270F28', 'C7242478F28', 'C7242827F27', 'C7242855F28', 'C7245488F26', 'C7249034F30', 'C7252634F29', 'C7253751F28', 'C7254935F28', 'C7257350F28', 'C7259251F27', 'C7261443F28', 'C7261615F27', 'C7262268F28', 'C7262575F27', 'C7263020F28', 'C7267524F27', 'C7268384F26', 'C7268645F27', 'C7270021F29', 'C7272628F27', 'C7276387F26', 'C7277661F27', 'C7278547F26', 'C7279411F26', 'C7279744F28', 'C7283443F29', 'C7286054F30', 'C7287963F30', 'C7296359F28', 'C7297166F26', 'C7297783F30', 'C7299937F28', 'C7310124F28', 'C7310284F28', 'C7310585F27', 'C7310770F26', 'C7311154F28', 'C7311515F26', 'C7311677F29', 'C7311722F29', 'C7311891F26', 'C7311937F26', 'C7311973F27', 'C7312019F27', 'C7312078F29', 'C7312354F30', 'C7313237F27', 'C7313315F26', 'C7313766F26', 'C7313823F28', 'C7313834F26', 'C7313850F27', 'C7314063F26', 'C7314214F28', 'C7314440F26', 'C7314741F27', 'C7314928F26', 'C7315026F28', 'C7315029F29', 'C7315156F28', 'C7315170F27', 'C7315257F27', 'C7315730F26', 'C7316320F27', 'C7316759F26', 'C7316779F26', 'C7316968F29', 'C7317036F28', 'C7317090F29', 'C7317658F26', 'C7318155F27', 'C7318280F27', 'C7318323F27', 'C7318421F27', 'C7318477F27', 'C7318832F27', 'C7318849F26', 'C7319126F30', 'C7319237F30', 'C7319344F29', 'C7319355F29', 'C7319412F29', 'C7319655F27', 'C7319732F30', 'C7320278F27', 'C7320319F30', 'C7320486F30', 'C7320673F28', 'C7320866F28', 'C7320975F30', 'C7321469F29', 'C7321689F28', 'C7321879F27', 'C7322020F26', 'C7322034F27', 'C7322117F29', 'C7322385F27', 'C7322636F26', 'C7322663F26', 'C7322772F30', 'C7322882F29', 'C7323056F27', 'C7323117F28', 'C7323520F28', 'C7323646F29', 'C7323653F27', 'C7323719F28', 'C7324850F28', 'C7324867F28', 'C7325229F26', 'C7325268F30', 'C7325462F29', 'C7325521F26', 'C7325611F27', 'C7326134F27', 'C7326170F27', 'C7326268F28', 'C7326344F26', 'C7326458F30', 'C7326679F30', 'C7327176F30', 'C7327218F27', 'C7327456F27', 'C7327972F30', 'C7328176F27', 'C7328178F26', 'C7328215F28', 'C7328559F28', 'C7328654F27', 'C7328866F26', 'C7328935F30', 'C7328936F29', 'C7329067F30', 'C7329356F27', 'C7329385F27', 'C7329465F29', 'C7329855F27', 'C7329886F29', 'C7330020F28', 'C7330173F30', 'C7330869F27', 'C7331124F30', 'C7331566F27', 'C7331571F27', 'C7331790F30', 'C7331847F29', 'C7332564F28', 'C7332626F28', 'C7332931F26', 'C7332936F26', 'C7332939F27', 'C7332979F26', 'C7333033F29', 'C7333146F29', 'C7333555F30', 'C7333557F30', 'C7333570F28', 'C7333970F26', 'C7333983F29', 'C7333990F26', 'C7334347F28', 'C7334419F30', 'C7334784F26', 'C7334924F27', 'C7335014F28', 'C7335123F29', 'C7335146F29', 'C7335219F30', 'C7335614F30', 'C7335860F29', 'C7336235F26', 'C7336324F26', 'C7337043F29', 'C7337563F28', 'C7337778F27', 'C7337958F26', 'C7337961F30', 'C7338044F26', 'C7338139F30', 'C7338264F27', 'C7338330F28', 'C7338518F26', 'C7338758F26', 'C7339189F30', 'C7339486F29', 'C7339534F27', 'C7339616F28', 'C7340063F30', 'C7340120F30', 'C7340272F28', 'C7340390F30', 'C7340746F26', 'C7340774F29', 'C7340850F27', 'C7341128F26', 'C7341750F26', 'C7341830F27', 'C7341961F28', 'C7342018F28', 'C7342019F28', 'C7342073F27', 'C7342191F26', 'C7342311F28', 'C7342313F28', 'C7342581F27', 'C7342684F28', 'C7342779F28', 'C7342963F29', 'C7344992F26', 'C7346255F27', 'C7347029F30', 'C7351276F26', 'C7351612F29', 'C7352655F29', 'C7361627F29', 'C7361815F27', 'C7362671F29', 'C7364772F26', 'C7369765F28', 'C7369872F28', 'C7371970F30', 'C7373422F30', 'C7373738F28', 'C7374937F27', 'C7376061F28', 'C7377216F30', 'C7377248F30', 'C7379049F27', 'C7379779F28', 'C7383623F27', 'C7385577F30', 'C7386180F26', 'C7387016F29', 'C7388281F30', 'C7389725F27', 'C7390256F29', 'C7391159F28', 'C7391191F29', 'C7392017F29', 'C7392619F29', 'C7398360F27', 'C7399880F30', 'C7410157F27', 'C7410285F26', 'C7410518F28', 'C7410573F27', 'C7410991F27', 'C7411012F27', 'C7411032F28', 'C7411217F29', 'C7411264F28', 'C7411454F28', 'C7411522F27', 'C7411577F27', 'C7411681F27', 'C7411834F28', 'C7411980F27', 'C7412130F29', 'C7412591F27', 'C7412644F27', 'C7412688F30', 'C7413156F27', 'C7413321F26', 'C7413417F28', 'C7413452F27', 'C7413651F26', 'C7413652F26', 'C7413761F26', 'C7413944F30', 'C7414242F27', 'C7415715F28', 'C7416372F28', 'C7416423F30', 'C7416534F30', 'C7417057F27', 'C7417446F27', 'C7417570F30', 'C7417616F26', 'C7417861F26', 'C7417957F27', 'C7418356F27', 'C7418473F27', 'C7419023F27', 'C7419374F27', 'C7419461F28', 'C7419641F30', 'C7419860F28', 'C7419875F27', 'C7419876F30', 'C7419971F28', 'C7420091F26', 'C7420282F27', 'C7420889F28', 'C7420982F27', 'C7421287F28', 'C7421313F30', 'C7422455F29', 'C7422872F29', 'C7423251F26', 'C7423377F27', 'C7423451F28', 'C7423779F29', 'C7423944F30', 'C7424051F26', 'C7424136F29', 'C7424231F28', 'C7424272F28', 'C7424525F30', 'C7424870F26', 'C7425146F26', 'C7425443F29', 'C7425537F30', 'C7425575F27', 'C7425733F27', 'C7425750F26', 'C7425784F26', 'C7426036F28', 'C7426347F26', 'C7426491F30', 'C7426719F30', 'C7426837F27', 'C7427729F27', 'C7427816F26', 'C7427924F30', 'C7427952F27', 'C7428114F27', 'C7428253F29', 'C7428254F27', 'C7428262F30', 'C7428414F26', 'C7428440F28', 'C7428671F27', 'C7428738F28', 'C7428914F30', 'C7428927F26', 'C7429040F28', 'C7429044F28', 'C7429426F27', 'C7429440F29', 'C7429556F26', 'C7429820F26', 'C7429928F28', 'C7430023F29', 'C7430137F30', 'C7430325F26', 'C7430367F27', 'C7430378F26', 'C7430464F29', 'C7430617F27', 'C7431150F30', 'C7431284F28', 'C7431629F29', 'C7431680F29', 'C7431757F27', 'C7431955F27', 'C7432015F28', 'C7432516F28', 'C7432981F27', 'C7433165F27', 'C7433587F27', 'C7433633F27', 'C7433656F30', 'C7433867F27', 'C7433976F26', 'C7434342F28', 'C7434365F27', 'C7434421F26', 'C7434439F26', 'C7434460F29', 'C7434463F29', 'C7434466F29', 'C7434520F28', 'C7434673F30', 'C7434734F26', 'C7434811F26', 'C7434934F30', 'C7435020F29', 'C7435111F26', 'C7435267F27', 'C7435313F29', 'C7435527F27', 'C7435763F30', 'C7435939F26', 'C7436059F30', 'C7436067F30', 'C7436578F26', 'C7436862F26', 'C7437032F29', 'C7437144F30', 'C7437459F27', 'C7437626F27', 'C7437941F27', 'C7438112F27', 'C7438179F30', 'C7438633F27', 'C7438987F26', 'C7439331F27', 'C7439431F29', 'C7439438F27', 'C7439957F29', 'C7440022F29', 'C7440190F27', 'C7440336F30', 'C7440769F29', 'C7440820F29', 'C7440883F29', 'C7441545F29', 'C7441564F28', 'C7441579F30', 'C7441823F29', 'C7441832F29', 'C7442616F27', 'C7442869F30', 'C7446342F30', 'C7447424F30', 'C7453141F28', 'C7454064F30', 'C7454928F30', 'C7455828F27', 'C7457562F28', 'C7458161F30', 'C7458733F27', 'C7458939F29', 'C7461222F30', 'C7463060F26', 'C7464037F27', 'C7468539F27', 'C7468582F27', 'C7468642F27', 'C7470821F26', 'C7471348F30', 'C7474247F30', 'C7474987F27', 'C7476061F26', 'C7478639F28', 'C7480843F29', 'C7482467F26', 'C7482746F27', 'C7484345F27', 'C7484354F30', 'C7487018F29', 'C7488241F30', 'C7493870F28', 'C7495255F29', 'C7495636F29', 'C7496332F28', 'C7499128F26', 'C7510125F28', 'C7510132F28', 'C7510143F28', 'C7510539F27', 'C7510736F26', 'C7510921F26', 'C7511826F30', 'C7511859F30', 'C7511938F30', 'C7512016F30', 'C7512511F27', 'C7512561F27', 'C7512652F27', 'C7512656F30', 'C7512829F27', 'C7512911F30', 'C7513089F26', 'C7513265F28', 'C7513381F26', 'C7513955F30', 'C7514061F26', 'C7514223F28', 'C7514289F28', 'C7514387F26', 'C7514557F30', 'C7514647F27', 'C7514835F29', 'C7514941F28', 'C7515025F26', 'C7515057F27', 'C7515252F26', 'C7515622F26', 'C7515715F28', 'C7515934F27', 'C7515965F27', 'C7516263F27', 'C7516337F28', 'C7516345F28', 'C7516516F27', 'C7516964F29', 'C7517029F26', 'C7517046F29', 'C7518234F27', 'C7518439F27', 'C7518480F29', 'C7519332F27', 'C7519844F27', 'C7519850F27', 'C7519862F26', 'C7520061F30', 'C7520721F29', 'C7521259F28', 'C7521365F29', 'C7521472F27', 'C7521641F27', 'C7521869F27', 'C7522127F29', 'C7522314F26', 'C7522364F27', 'C7522839F27', 'C7522924F30', 'C7523377F27', 'C7523691F26', 'C7523868F28', 'C7524086F30', 'C7524151F28', 'C7524541F29', 'C7525141F27', 'C7525471F29', 'C7526257F29', 'C7526419F28', 'C7526583F26', 'C7526739F28', 'C7526766F26', 'C7526819F26', 'C7526985F27', 'C7527171F26', 'C7527374F28', 'C7527617F26', 'C7527739F28', 'C7527990F30', 'C7528029F29', 'C7528033F29', 'C7528162F29', 'C7528239F28', 'C7528338F26', 'C7528391F28', 'C7528428F28', 'C7528844F30', 'C7528880F26', 'C7528947F28', 'C7528977F26', 'C7529241F26', 'C7529435F29', 'C7529853F27', 'C7530272F27', 'C7530325F29', 'C7530818F27', 'C7530938F27', 'C7531424F29', 'C7531480F29', 'C7532255F26', 'C7532439F26', 'C7532619F27', 'C7532775F28', 'C7533112F27', 'C7533385F27', 'C7533575F26', 'C7533713F29', 'C7534442F30', 'C7534474F30', 'C7534528F28', 'C7534771F29', 'C7535113F29', 'C7535136F28', 'C7535239F27', 'C7535338F26', 'C7535511F27', 'C7535682F30', 'C7535830F29', 'C7535933F30', 'C7536059F27', 'C7536167F29', 'C7537290F29', 'C7538129F26', 'C7538149F27', 'C7538266F28', 'C7538957F28', 'C7539336F27', 'C7539988F29', 'C7540166F26', 'C7540389F30', 'C7540834F29', 'C7541088F29', 'C7541219F27', 'C7541263F30', 'C7541860F27', 'C7541956F29', 'C7542278F27', 'C7542320F27', 'C7542457F29', 'C7542645F29', 'C7545438F28', 'C7549529F28', 'C7550643F29', 'C7555272F26', 'C7556286F26', 'C7558112F27', 'C7561266F30', 'C7562658F27', 'C7563017F26', 'C7563041F29', 'C7563082F29', 'C7564916F28', 'C7568058F26', 'C7568438F30', 'C7571450F30', 'C7574691F28', 'C7576962F27', 'C7576992F26', 'C7577933F27', 'C7584376F27', 'C7585592F27', 'C7585757F29', 'C7587644F26', 'C7589259F30', 'C7590825F30', 'C7593232F28', 'C7593976F29', 'C7594336F27', 'C7596838F26', 'C7598054F28', 'C7598172F28', 'C7610216F30', 'C7610521F27', 'C7610714F27', 'C7610714F28', 'C7610733F26', 'C7610741F27', 'C7610847F27', 'C7611026F26', 'C7611649F30', 'C7611883F30', 'C7611984F30', 'C7612075F29', 'C7612183F30', 'C7612280F26', 'C7612863F29', 'C7613034F30', 'C7613066F29', 'C7613165F29', 'C7613330F29', 'C7613460F26', 'C7613557F26', 'C7613954F30', 'C7614064F28', 'C7614438F27', 'C7614522F30', 'C7614961F28', 'C7615075F28', 'C7615134F27', 'C7615254F27', 'C7615272F26', 'C7615428F28', 'C7615926F28', 'C7615931F27', 'C7616147F26', 'C7616288F26', 'C7616318F27', 'C7616618F26', 'C7616760F26', 'C7617231F28', 'C7617347F26', 'C7617671F26', 'C7617881F29', 'C7617883F28', 'C7618020F26', 'C7618030F27', 'C7618126F28', 'C7618174F29', 'C7618322F29', 'C7618440F29', 'C7618459F30', 'C7618512F27', 'C7618585F27', 'C7618970F27', 'C7619033F29', 'C7619179F28', 'C7619856F28', 'C7619865F30', 'C7620691F27', 'C7620838F29', 'C7620918F30', 'C7621251F26', 'C7621276F28', 'C7621466F26', 'C7621554F27', 'C7621816F27', 'C7622269F28', 'C7622346F27', 'C7622372F26', 'C7622558F27', 'C7622934F26', 'C7622992F27', 'C7623044F26', 'C7623311F29', 'C7623446F28', 'C7623815F26', 'C7623844F29', 'C7624283F28', 'C7624541F30', 'C7624688F29', 'C7624790F30', 'C7624851F27', 'C7624981F26', 'C7625119F29', 'C7625255F30', 'C7625343F30', 'C7625828F29', 'C7626016F30', 'C7626190F27', 'C7626870F28', 'C7626911F30', 'C7626975F30', 'C7627014F26', 'C7627040F29', 'C7627162F30', 'C7627324F28', 'C7627328F28', 'C7627341F28', 'C7627369F28', 'C7627822F26', 'C7627834F28', 'C7627857F29', 'C7627938F27', 'C7627948F27', 'C7627987F26', 'C7628251F29', 'C7628280F28', 'C7628385F28', 'C7628773F28', 'C7629278F27', 'C7629367F27', 'C7629515F29', 'C7629824F26', 'C7630638F28', 'C7630658F28', 'C7630681F28', 'C7630832F28', 'C7630837F28', 'C7631563F27', 'C7631637F29', 'C7632154F29', 'C7632159F28', 'C7632391F27', 'C7632477F28', 'C7632626F28', 'C7632856F29', 'C7632870F26', 'C7633384F27', 'C7633391F28', 'C7633425F27', 'C7633554F30', 'C7633580F26', 'C7633713F30', 'C7633783F29', 'C7634159F28', 'C7634245F26', 'C7634249F29', 'C7634636F30', 'C7634755F27', 'C7634845F29', 'C7634926F27', 'C7634940F27', 'C7635323F29', 'C7635425F26', 'C7635891F26', 'C7636088F30', 'C7636545F30', 'C7636674F27', 'C7636724F29', 'C7636975F30', 'C7637067F30', 'C7637362F29', 'C7637367F29', 'C7637689F28', 'C7637782F29', 'C7638049F26', 'C7638055F26', 'C7638228F27', 'C7638790F30', 'C7638826F26', 'C7638924F27', 'C7639364F27', 'C7639689F26', 'C7639956F30', 'C7640179F26', 'C7640232F29', 'C7640430F27', 'C7640491F30', 'C7640617F30', 'C7640621F27', 'C7640888F30', 'C7640990F27', 'C7641216F30', 'C7641219F30', 'C7641730F27', 'C7641838F28', 'C7641892F30', 'C7642365F27', 'C7642422F29', 'C7642451F28', 'C7642453F28', 'C7642478F28', 'C7642568F26', 'C7642572F27', 'C7642842F26', 'C7642856F27', 'C7642857F26', 'C7643091F26', 'C7645814F26', 'C7649022F28', 'C7650111F27', 'C7650640F29', 'C7651949F30', 'C7651953F30', 'C7654618F27', 'C7660584F27', 'C7661470F29', 'C7663076F26', 'C7664332F29', 'C7668780F28', 'C7669427F28', 'C7669588F29', 'C7670419F28', 'C7671333F30', 'C7671972F30', 'C7672773F28', 'C7679026F28', 'C7679085F27', 'C7679791F28', 'C7684347F27', 'C7684413F26', 'C7685452F26', 'C7686017F29', 'C7686172F26', 'C7694932F27', 'C7696375F28', 'C7698092F28', 'C7699885F28', 'C7710479F28', 'C7710746F26', 'C7710923F28', 'C7710985F27', 'C7711068F30', 'C7711292F27', 'C7711468F29', 'C7711940F26', 'C7712150F29', 'C7712577F27', 'C7712659F28', 'C7713164F30', 'C7713165F26', 'C7713549F30', 'C7713663F26', 'C7714045F26', 'C7714142F28', 'C7714149F26', 'C7714278F28', 'C7714373F29', 'C7714664F27', 'C7714950F26', 'C7715080F26', 'C7715217F26', 'C7715232F29', 'C7715621F28', 'C7715952F28', 'C7715953F28', 'C7716036F27', 'C7716360F30', 'C7716516F26', 'C7716574F26', 'C7716644F26', 'C7716819F29', 'C7717372F26', 'C7717456F30', 'C7717613F26', 'C7717617F28', 'C7717952F28', 'C7717968F26', 'C7718174F29', 'C7718451F26', 'C7718538F27', 'C7718547F27', 'C7718930F29', 'C7719148F28', 'C7719387F26', 'C7719428F28', 'C7719614F30', 'C7719647F29', 'C7719656F30', 'C7719889F29', 'C7720289F27', 'C7720826F26', 'C7720946F26', 'C7720962F28', 'C7721339F30', 'C7721812F29', 'C7722430F28', 'C7722945F30', 'C7723070F27', 'C7723314F29', 'C7723427F28', 'C7723460F28', 'C7723535F26', 'C7723651F27', 'C7723654F27', 'C7723740F28', 'C7723748F29', 'C7723817F27', 'C7723829F30', 'C7723925F28', 'C7723945F27', 'C7724353F28', 'C7724377F28', 'C7724514F26', 'C7724559F29', 'C7724649F26', 'C7724682F30', 'C7724882F27', 'C7724971F26', 'C7725187F26', 'C7725270F26', 'C7725526F28', 'C7725531F28', 'C7725824F29', 'C7726174F27', 'C7726911F28', 'C7727162F26', 'C7727778F30', 'C7727876F27', 'C7727960F30', 'C7728648F27', 'C7729278F27', 'C7729353F30', 'C7729790F29', 'C7729823F27', 'C7730589F28', 'C7730629F27', 'C7730925F26', 'C7730955F27', 'C7731350F30', 'C7731519F28', 'C7731949F26', 'C7732051F29', 'C7732245F26', 'C7732341F30', 'C7732979F27', 'C7733184F28', 'C7733372F26', 'C7733441F26', 'C7733629F30', 'C7733655F27', 'C7733772F26', 'C7733844F27', 'C7733928F29', 'C7734144F29', 'C7734246F29', 'C7735159F29', 'C7735228F27', 'C7735351F29', 'C7735645F29', 'C7735681F30', 'C7736358F29', 'C7736477F29', 'C7736752F27', 'C7737017F30', 'C7737038F30', 'C7737573F27', 'C7737618F27', 'C7737728F27', 'C7737811F28', 'C7737839F29', 'C7738538F27', 'C7738551F26', 'C7738856F27', 'C7738889F26', 'C7738891F28', 'C7739127F28', 'C7739177F28', 'C7739218F27', 'C7739328F26', 'C7739382F29', 'C7739480F30', 'C7739543F28', 'C7739779F26', 'C7740214F28', 'C7740229F29', 'C7740257F28', 'C7740276F29', 'C7740311F29', 'C7740365F28', 'C7740878F26', 'C7741263F29', 'C7741731F28', 'C7741817F29', 'C7742441F29', 'C7742782F27', 'C7742818F30', 'C7745468F28', 'C7747458F30', 'C7750632F29', 'C7754090F30', 'C7754868F29', 'C7755938F30', 'C7756814F29', 'C7756920F28', 'C7757952F29', 'C7759538F30', 'C7760144F29', 'C7760628F29', 'C7761881F26', 'C7762285F26', 'C7764054F27', 'C7766959F26', 'C7767380F26', 'C7768748F29', 'C7771981F27', 'C7774117F29', 'C7774181F29', 'C7776072F26', 'C7779477F26', 'C7784333F27', 'C7785520F27', 'C7786161F26', 'C7788079F26', 'C7791146F28', 'C7792770F26', 'C7793022F26', 'C7793155F29', 'C7795175F27', 'C7798433F26', 'C7810163F28', 'C7810265F29', 'C7810329F28', 'C7810947F28', 'C7810991F28', 'C7811168F27', 'C7811683F28', 'C7811735F30', 'C7811769F30', 'C7811830F27', 'C7812249F26', 'C7812433F28', 'C7812452F27', 'C7812845F29', 'C7813225F30', 'C7813351F29', 'C7813981F27', 'C7814084F28', 'C7814621F29', 'C7815387F27', 'C7815513F26', 'C7816032F27', 'C7816160F26', 'C7816353F27', 'C7816368F29', 'C7816436F30', 'C7816536F30', 'C7816588F26', 'C7816641F26', 'C7816719F29', 'C7816792F27', 'C7816837F28', 'C7816967F30', 'C7817247F26', 'C7817363F26', 'C7817363F28', 'C7817368F26', 'C7817524F27', 'C7817871F26', 'C7817944F26', 'C7818054F26', 'C7818285F29', 'C7818468F26', 'C7818624F30', 'C7818674F28', 'C7818927F28', 'C7819413F27', 'C7819574F28', 'C7819846F29', 'C7820419F29', 'C7820843F27', 'C7820886F26', 'C7820944F26', 'C7821175F27', 'C7821219F26', 'C7821476F28', 'C7821557F29', 'C7821573F26', 'C7822359F26', 'C7822373F29', 'C7822385F26', 'C7822853F29', 'C7822871F26', 'C7822931F28', 'C7822972F26', 'C7823151F26', 'C7823391F29', 'C7823414F28', 'C7823754F28', 'C7823861F27', 'C7823937F27', 'C7823970F26', 'C7824049F26', 'C7824121F27', 'C7824131F30', 'C7824143F29', 'C7824232F26', 'C7824427F28', 'C7824441F29', 'C7824668F27', 'C7824730F30', 'C7824931F30', 'C7824949F29', 'C7825052F28', 'C7825137F27', 'C7825160F29', 'C7825362F29', 'C7825611F29', 'C7825729F29', 'C7825955F30', 'C7826171F29', 'C7826280F28', 'C7826455F27', 'C7826728F30', 'C7827028F29', 'C7827211F27', 'C7827349F30', 'C7827960F30', 'C7828178F26', 'C7828391F28', 'C7828417F28', 'C7828576F28', 'C7828855F28', 'C7828942F30', 'C7829150F29', 'C7829218F27', 'C7829481F29', 'C7829484F29', 'C7829711F26', 'C7829717F27', 'C7829724F27', 'C7830817F28', 'C7830844F27', 'C7830949F26', 'C7831164F28', 'C7831569F30', 'C7831717F27', 'C7831733F30', 'C7831765F29', 'C7831783F27', 'C7831824F29', 'C7831825F26', 'C7831833F27', 'C7831836F29', 'C7832050F27', 'C7832518F27', 'C7832567F30', 'C7832579F27', 'C7832751F28', 'C7832945F26', 'C7832977F26', 'C7832990F29', 'C7833153F30', 'C7833630F29', 'C7833778F29', 'C7834275F27', 'C7834370F29', 'C7834569F29', 'C7834612F30', 'C7834860F29', 'C7835133F27', 'C7835154F28', 'C7835177F29', 'C7835213F27', 'C7835764F30', 'C7835816F29', 'C7835818F29', 'C7836041F30', 'C7836162F26', 'C7837042F28', 'C7837115F30', 'C7837360F27', 'C7837712F27', 'C7837739F29', 'C7837913F27', 'C7838388F26', 'C7838479F26', 'C7838481F30', 'C7838622F26', 'C7838779F26', 'C7839124F28', 'C7839533F30', 'C7839547F29', 'C7839756F27', 'C7840051F30', 'C7840231F29', 'C7840741F29', 'C7840912F29', 'C7840930F28', 'C7841011F29', 'C7841353F26', 'C7841571F26', 'C7842133F29', 'C7842375F29', 'C7842725F27', 'C7844256F30', 'C7844662F28', 'C7848253F29', 'C7848515F27', 'C7849036F30', 'C7849391F26', 'C7849541F30', 'C7850166F27', 'C7850168F27', 'C7853786F28', 'C7854378F26', 'C7861582F28', 'C7862021F28', 'C7862688F29', 'C7863074F26', 'C7867185F29', 'C7870473F27', 'C7870935F28', 'C7873314F27', 'C7873570F26', 'C7876050F26', 'C7876144F26', 'C7877257F30', 'C7877273F30', 'C7878144F30', 'C7880375F30', 'C7880542F28', 'C7881156F27', 'C7891015F29', 'C7893485F29', 'C7894913F27', 'C7910016F26', 'C7910016F28', 'C7910191F28', 'C7910242F28', 'C7910755F26', 'C7911342F30', 'C7911565F29', 'C7911643F27', 'C7911652F28', 'C7911660F26', 'C7911748F30', 'C7911965F28', 'C7912224F28', 'C7912271F28', 'C7912319F26', 'C7912530F27', 'C7912637F28', 'C7912831F29', 'C7913161F26', 'C7913277F26', 'C7913581F29', 'C7913631F30', 'C7913635F29', 'C7913820F29', 'C7914064F26', 'C7914079F27', 'C7914259F28', 'C7914469F26', 'C7914652F29', 'C7914822F27', 'C7915050F26', 'C7915130F29', 'C7915645F26', 'C7915737F26', 'C7916018F27', 'C7916317F27', 'C7916418F30', 'C7916440F27', 'C7916778F26', 'C7916780F30', 'C7916947F27', 'C7916972F30', 'C7917021F26', 'C7917116F29', 'C7917176F29', 'C7917451F30', 'C7918018F28', 'C7918050F28', 'C7918119F29', 'C7918149F30', 'C7918171F27', 'C7918532F30', 'C7918629F30', 'C7918688F27', 'C7918758F29', 'C7918883F28', 'C7919257F27', 'C7919312F29', 'C7919319F27', 'C7919834F26', 'C7919880F27', 'C7919991F27', 'C7920388F30', 'C7920671F26', 'C7920727F26', 'C7920953F27', 'C7921120F26', 'C7921143F26', 'C7921281F28', 'C7921389F27', 'C7921415F28', 'C7921489F28', 'C7921768F30', 'C7922363F27', 'C7922412F27', 'C7922538F26', 'C7922772F29', 'C7923238F28', 'C7923329F29', 'C7923361F30', 'C7923392F26', 'C7923547F28', 'C7923732F27', 'C7923811F27', 'C7923852F26', 'C7924078F28', 'C7924533F26', 'C7924864F27', 'C7925281F26', 'C7925458F27', 'C7925642F28', 'C7925669F27', 'C7925753F30', 'C7925762F28', 'C7925790F27', 'C7926067F30', 'C7926181F27', 'C7926188F27', 'C7926411F30', 'C7926440F27', 'C7926464F30', 'C7926465F28', 'C7926669F26', 'C7926767F26', 'C7927252F26', 'C7927285F28', 'C7927311F27', 'C7927692F28', 'C7927821F26', 'C7928080F26', 'C7928130F28', 'C7928258F29', 'C7928267F29', 'C7928282F29', 'C7928343F28', 'C7928625F27', 'C7928651F27', 'C7928723F28', 'C7928992F26', 'C7929173F26', 'C7929192F30', 'C7929244F29', 'C7929485F27', 'C7929524F29', 'C7929975F28', 'C7929982F30', 'C7930671F26', 'C7930824F26', 'C7930825F30', 'C7931112F30', 'C7931546F27', 'C7931716F26', 'C7931722F30', 'C7931821F26', 'C7932333F27', 'C7932474F26', 'C7932638F26', 'C7933077F30', 'C7933439F27', 'C7933612F27', 'C7933678F27', 'C7933744F26', 'C7933814F28', 'C7933837F26', 'C7933988F30', 'C7934243F27', 'C7934364F29', 'C7934462F30', 'C7934785F27', 'C7934922F27', 'C7934942F29', 'C7935087F29', 'C7935139F28', 'C7935241F27', 'C7935358F29', 'C7935412F26', 'C7935661F26', 'C7935680F30', 'C7935818F29', 'C7936346F26', 'C7936381F26', 'C7936424F26', 'C7936744F29', 'C7936821F27', 'C7937675F26', 'C7937962F29', 'C7937971F29', 'C7938026F30', 'C7938471F26', 'C7939359F28', 'C7939389F27', 'C7939442F29', 'C7940182F27', 'C7940362F30', 'C7940453F26', 'C7940615F30', 'C7940649F28', 'C7941082F26', 'C7941521F26', 'C7941548F27', 'C7942091F28', 'C7942711F30', 'C7942736F27', 'C7943280F26', 'C7943524F29', 'C7945427F28', 'C7950624F29', 'C7951380F29', 'C7956577F28', 'C7956917F28', 'C7957956F26', 'C7958031F26', 'C7958282F28', 'C7959325F26', 'C7963078F30', 'C7969516F27', 'C7972045F29', 'C7974231F30', 'C7977219F30', 'C7978074F30', 'C7980846F29', 'C7981915F26', 'C7981929F26', 'C7982433F26', 'C7983176F28', 'C7991125F29', 'C7994383F28', 'C8010024F26', 'C8010138F28', 'C8010211F26', 'C8010215F26', 'C8010262F29', 'C8010744F26', 'C8011014F30', 'C8011075F30', 'C8011112F28', 'C8011427F28', 'C8011575F26', 'C8011676F27', 'C8011785F30', 'C8011978F30', 'C8012242F26', 'C8012756F30', 'C8012880F29', 'C8012949F27', 'C8013032F27', 'C8013068F30', 'C8013153F28', 'C8013325F26', 'C8013842F29', 'C8013881F26', 'C8013986F30', 'C8014177F26', 'C8014351F26', 'C8014417F30', 'C8014567F29', 'C8014661F29', 'C8014873F27', 'C8015180F28', 'C8015239F26', 'C8015284F26', 'C8015426F28', 'C8015517F30', 'C8015638F28', 'C8015884F27', 'C8015950F28', 'C8016051F26', 'C8016188F26', 'C8016323F26', 'C8016345F26', 'C8016572F29', 'C8016722F29', 'C8017052F27', 'C8017368F29', 'C8017416F30', 'C8017856F26', 'C8018139F29', 'C8018612F30', 'C8018647F30', 'C8019027F26', 'C8019227F28', 'C8019243F27', 'C8019335F29', 'C8019355F27', 'C8019378F27', 'C8019737F26', 'C8019832F29', 'C8019980F28', 'C8020938F27', 'C8021183F27', 'C8022220F26', 'C8022518F27', 'C8022689F29', 'C8022771F29', 'C8022777F27', 'C8023031F29', 'C8023081F30', 'C8023150F27', 'C8023344F27', 'C8023442F28', 'C8023577F29', 'C8023632F27', 'C8023836F26', 'C8024085F28', 'C8024134F26', 'C8024157F26', 'C8024214F30', 'C8024254F28', 'C8024268F28', 'C8024334F27', 'C8024368F27', 'C8024387F30', 'C8024464F28', 'C8024466F27', 'C8024582F29', 'C8024626F26', 'C8024760F30', 'C8024815F28', 'C8024847F26', 'C8024928F27', 'C8024943F30', 'C8025247F26', 'C8025265F26', 'C8025487F29', 'C8025571F28', 'C8025655F30', 'C8025788F28', 'C8026135F27', 'C8026174F27', 'C8026554F26', 'C8026674F27', 'C8026830F28', 'C8026984F30', 'C8027048F29', 'C8027140F26', 'C8027190F27', 'C8027370F28', 'C8027846F28', 'C8027980F26', 'C8028053F26', 'C8028213F28', 'C8028331F28', 'C8028365F26', 'C8028419F26', 'C8028624F27', 'C8028656F27', 'C8028754F29', 'C8028779F27', 'C8028938F26', 'C8028960F29', 'C8029037F30', 'C8029055F28', 'C8029358F26', 'C8029913F30', 'C8029914F30', 'C8030021F29', 'C8030142F29', 'C8030338F27', 'C8030525F28', 'C8030530F29', 'C8030655F30', 'C8030976F27', 'C8031118F27', 'C8031329F26', 'C8031350F26', 'C8031814F29', 'C8031924F27', 'C8032049F27', 'C8032086F28', 'C8032376F26', 'C8032590F28', 'C8032646F27', 'C8033012F29', 'C8033051F30', 'C8033255F28', 'C8033845F27', 'C8033884F27', 'C8034266F26', 'C8034360F29', 'C8034627F29', 'C8034742F27', 'C8035069F30', 'C8035153F28', 'C8035263F28', 'C8035560F26', 'C8035855F26', 'C8035877F28', 'C8035911F26', 'C8036063F30', 'C8036133F26', 'C8036290F26', 'C8036324F26', 'C8036483F29', 'C8036862F28', 'C8037144F29', 'C8037149F30', 'C8037384F26', 'C8037616F28', 'C8037816F27', 'C8038282F28', 'C8038787F29', 'C8039544F30', 'C8039835F26', 'C8039871F29', 'C8039940F29', 'C8040176F27', 'C8040426F26', 'C8040928F27', 'C8041146F26', 'C8041721F26', 'C8041748F26', 'C8041828F29', 'C8041864F27', 'C8042057F28', 'C8042358F27', 'C8042688F27', 'C8042841F26', 'C8044656F28', 'C8044778F30', 'C8045752F27', 'C8047443F30', 'C8054015F30', 'C8056215F26', 'C8056812F30', 'C8058117F27', 'C8058779F27', 'C8063066F26', 'C8064327F30', 'C8065064F29', 'C8068591F27', 'C8071317F30', 'C8072746F28', 'C8073162F28', 'C8073441F27', 'C8074043F28', 'C8074070F29', 'C8084326F30', 'C8085570F30', 'C8089060F28', 'C8089649F28', 'C8093975F28', 'C8095124F27', 'C8095242F30', 'C8096530F26', 'C8096775F28', 'C8099888F28', 'C8110366F28', 'C8110734F30', 'C8110749F29', 'C8110840F29', 'C8110881F28', 'C8111136F30', 'C8111185F30', 'C8111228F26', 'C8111451F29', 'C8111566F28', 'C8111621F27', 'C8111812F29', 'C8112341F26', 'C8112519F27', 'C8112638F27', 'C8113035F26', 'C8113157F30', 'C8113189F30', 'C8113454F30', 'C8113935F26', 'C8113948F27', 'C8114027F26', 'C8114467F27', 'C8115037F29', 'C8115045F26', 'C8115061F29', 'C8115255F27', 'C8115418F29', 'C8115555F28', 'C8115756F26', 'C8115965F26', 'C8116291F27', 'C8116567F28', 'C8116580F30', 'C8116682F30', 'C8116749F26', 'C8116892F26', 'C8117328F26', 'C8117732F26', 'C8117832F26', 'C8117914F26', 'C8118038F27', 'C8118528F27', 'C8118878F30', 'C8119023F30', 'C8119052F28', 'C8119182F30', 'C8119486F30', 'C8119547F30', 'C8119666F27', 'C8119739F26', 'C8119766F30', 'C8120331F28', 'C8120442F29', 'C8120686F27', 'C8120913F26', 'C8121038F26', 'C8121271F30', 'C8121389F30', 'C8121776F26', 'C8121827F30', 'C8122469F29', 'C8123324F27', 'C8124263F28', 'C8124356F30', 'C8124386F28', 'C8124444F28', 'C8124578F26', 'C8124591F30', 'C8125176F29', 'C8125339F26', 'C8125490F29', 'C8125617F29', 'C8126165F27', 'C8126489F27', 'C8127061F26', 'C8127254F28', 'C8127954F30', 'C8128082F29', 'C8128211F27', 'C8128819F30', 'C8129082F28', 'C8129374F30', 'C8129990F26', 'C8130133F29', 'C8130462F29', 'C8130827F27', 'C8130840F29', 'C8130958F28', 'C8131186F26', 'C8131515F27', 'C8131524F27', 'C8131573F27', 'C8131689F29', 'C8131755F27', 'C8131766F27', 'C8131832F27', 'C8132161F28', 'C8132532F26', 'C8132554F28', 'C8132754F28', 'C8132828F26', 'C8132951F26', 'C8133089F30', 'C8133484F27', 'C8133828F26', 'C8134236F30', 'C8134377F28', 'C8134480F29', 'C8135011F28', 'C8135077F28', 'C8135323F27', 'C8135368F27', 'C8135585F27', 'C8136135F29', 'C8136248F29', 'C8136333F26', 'C8136725F27', 'C8136942F28', 'C8137063F27', 'C8137648F27', 'C8137866F28', 'C8137950F30', 'C8138323F26', 'C8139052F28', 'C8139114F30', 'C8139377F28', 'C8139426F29', 'C8139557F28', 'C8139557F30', 'C8139965F28', 'C8140152F28', 'C8140276F29', 'C8140640F30', 'C8140941F29', 'C8140950F26', 'C8141284F27', 'C8141511F30', 'C8142089F27', 'C8142754F28', 'C8148424F27', 'C8148867F27', 'C8150249F30', 'C8154060F30', 'C8157342F28', 'C8158128F27', 'C8159431F27', 'C8159521F30', 'C8162119F29', 'C8162187F28', 'C8163077F28', 'C8170849F30', 'C8172280F26', 'C8173034F28', 'C8173516F29', 'C8174435F29', 'C8177231F27', 'C8179390F27', 'C8179483F26', 'C8183083F28', 'C8185880F28', 'C8185963F29', 'C8186037F30', 'C8186157F26', 'C8186789F27', 'C8187267F30', 'C8187987F30', 'C8188043F26', 'C8189046F28', 'C8189756F27', 'C8191391F26', 'C8193263F28', 'C8193874F28', 'C8199373F27', 'C8210183F29', 'C8210714F26', 'C8211047F28', 'C8211151F28', 'C8211355F28', 'C8211434F29', 'C8211562F29', 'C8211741F29', 'C8211760F27', 'C8212315F26', 'C8212518F27', 'C8212627F28', 'C8212966F30', 'C8213652F28', 'C8213935F28', 'C8214090F28', 'C8214256F28', 'C8214314F26', 'C8214356F29', 'C8215223F27', 'C8215613F28', 'C8215640F27', 'C8215759F27', 'C8216030F29', 'C8216047F28', 'C8216461F30', 'C8216577F27', 'C8216665F30', 'C8216963F26', 'C8217788F26', 'C8218280F27', 'C8218455F26', 'C8219439F29', 'C8219657F30', 'C8219738F30', 'C8219835F28', 'C8220062F27', 'C8220622F26', 'C8220633F27', 'C8220966F27', 'C8221356F30', 'C8221369F30', 'C8221545F29', 'C8221676F27', 'C8221847F29', 'C8221867F27', 'C8221890F29', 'C8221938F27', 'C8222134F27', 'C8222318F27', 'C8222343F26', 'C8222828F27', 'C8222859F27', 'C8222920F28', 'C8223073F26', 'C8223336F27', 'C8223471F30', 'C8223838F30', 'C8223845F29', 'C8223869F26', 'C8224312F30', 'C8224320F29', 'C8224338F27', 'C8224379F30', 'C8224518F29', 'C8224556F30', 'C8224561F27', 'C8224640F30', 'C8224672F29', 'C8224856F28', 'C8224874F27', 'C8224929F26', 'C8225186F28', 'C8225268F28', 'C8225448F29', 'C8225553F26', 'C8225731F26', 'C8225736F28', 'C8225741F27', 'C8225743F27', 'C8225761F27', 'C8225783F26', 'C8226120F29', 'C8226184F27', 'C8226389F27', 'C8226427F26', 'C8226473F27', 'C8226987F27', 'C8227022F26', 'C8227057F29', 'C8227090F26', 'C8227169F27', 'C8227784F27', 'C8227879F27', 'C8227946F29', 'C8228272F29', 'C8228282F27', 'C8228290F29', 'C8228629F27', 'C8229165F29', 'C8229328F28', 'C8229433F26', 'C8229782F28', 'C8229930F27', 'C8230085F27', 'C8230463F30', 'C8230564F28', 'C8230661F30', 'C8230768F27', 'C8230772F28', 'C8231021F29', 'C8231314F28', 'C8231620F29', 'C8231768F26', 'C8232028F26', 'C8232081F27', 'C8232484F28', 'C8233359F27', 'C8233423F29', 'C8233446F28', 'C8233845F30', 'C8233968F26', 'C8234038F30', 'C8234122F28', 'C8234330F28', 'C8234412F30', 'C8234420F30', 'C8234678F28', 'C8234732F27', 'C8234763F27', 'C8234790F26', 'C8234980F27', 'C8235171F27', 'C8235272F27', 'C8235273F28', 'C8235334F26', 'C8235474F26', 'C8235940F30', 'C8236420F29', 'C8236613F27', 'C8236961F28', 'C8237076F30', 'C8237341F28', 'C8237467F28', 'C8237788F28', 'C8238050F27', 'C8238130F26', 'C8238612F26', 'C8238772F29', 'C8238839F27', 'C8238878F30', 'C8239338F27', 'C8239486F27', 'C8240040F28', 'C8240167F26', 'C8240559F29', 'C8240767F29', 'C8240882F27', 'C8240886F30', 'C8240928F29', 'C8241016F27', 'C8241061F29', 'C8241764F28', 'C8242482F28', 'C8248490F27', 'C8248725F29', 'C8248728F27', 'C8250623F29', 'C8252029F26', 'C8252411F26', 'C8261156F27', 'C8261588F30', 'C8262472F26', 'C8263016F28', 'C8263621F27', 'C8265432F27', 'C8270530F30', 'C8272718F28', 'C8272970F27', 'C8273162F28', 'C8274272F30', 'C8275573F26', 'C8275987F27', 'C8277679F27', 'C8278290F26', 'C8279414F26', 'C8279725F28', 'C8279741F28', 'C8285134F26', 'C8286727F27', 'C8289573F29', 'C8290739F30', 'C8291149F28', 'C8292122F30', 'C8293244F27', 'C8293466F29', 'C8293874F28', 'C8294178F29', 'C8310028F28', 'C8310461F27', 'C8310652F28', 'C8310732F27', 'C8311066F27', 'C8311138F30', 'C8311674F28', 'C8311684F28', 'C8311734F27', 'C8311855F30', 'C8311917F30', 'C8312070F29', 'C8312422F27', 'C8312644F30', 'C8312731F26', 'C8313123F29', 'C8313225F29', 'C8313859F26', 'C8313920F27', 'C8314029F28', 'C8315143F28', 'C8315264F27', 'C8315289F30', 'C8315444F27', 'C8316476F30', 'C8316573F28', 'C8316781F30', 'C8316833F30', 'C8317311F26', 'C8317384F26', 'C8317426F27', 'C8317456F30', 'C8317637F30', 'C8319072F30', 'C8319346F27', 'C8319365F27', 'C8319570F27', 'C8319640F29', 'C8319864F27', 'C8320247F27', 'C8320424F30', 'C8320560F30', 'C8320727F28', 'C8321075F29', 'C8321140F30', 'C8321172F28', 'C8321572F27', 'C8321750F26', 'C8321869F29', 'C8322179F29', 'C8322383F27', 'C8322638F26', 'C8322652F26', 'C8322954F30', 'C8323347F29', 'C8323472F28', 'C8323713F26', 'C8323827F29', 'C8323931F30', 'C8324031F30', 'C8324228F28', 'C8324269F29', 'C8324358F30', 'C8324511F29', 'C8324637F28', 'C8325219F26', 'C8325226F26', 'C8325289F30', 'C8325779F30', 'C8326173F27', 'C8326433F27', 'C8326486F27', 'C8326513F29', 'C8326534F28', 'C8326818F27', 'C8326960F28', 'C8327415F26', 'C8328262F27', 'C8328582F26', 'C8328616F27', 'C8328753F28', 'C8328984F28', 'C8329316F27', 'C8329543F29', 'C8329619F28', 'C8329677F28', 'C8329842F27', 'C8330320F27', 'C8330327F29', 'C8330848F30', 'C8331059F26', 'C8331252F26', 'C8331343F27', 'C8331362F26', 'C8331512F27', 'C8331691F27', 'C8331724F26', 'C8331882F29', 'C8331887F28', 'C8331926F29', 'C8332037F26', 'C8332053F28', 'C8332069F27', 'C8332222F26', 'C8332458F27', 'C8332632F28', 'C8332723F27', 'C8332962F28', 'C8332967F28', 'C8333138F28', 'C8333185F30', 'C8333835F27', 'C8333970F26', 'C8334161F28', 'C8334218F26', 'C8334239F28', 'C8334542F26', 'C8334558F28', 'C8335060F28', 'C8335125F26', 'C8335455F29', 'C8335630F29', 'C8335735F30', 'C8336018F27', 'C8336176F28', 'C8336489F29', 'C8336628F27', 'C8337245F26', 'C8337662F30', 'C8337958F30', 'C8338041F29', 'C8338157F30', 'C8338225F28', 'C8338325F29', 'C8338454F28', 'C8338622F30', 'C8338946F30', 'C8339554F28', 'C8340057F26', 'C8340564F28', 'C8340815F27', 'C8340919F26', 'C8341814F27', 'C8341868F29', 'C8342370F30', 'C8342931F28', 'C8343941F28', 'C8344944F27', 'C8350288F30', 'C8350661F29', 'C8357535F28', 'C8358973F27', 'C8359434F27', 'C8359445F27', 'C8359674F26', 'C8360621F27', 'C8360748F29', 'C8361072F27', 'C8362246F28', 'C8363090F28', 'C8364658F27', 'C8367529F29', 'C8371028F28', 'C8371187F28', 'C8371782F27', 'C8376385F30', 'C8378449F28', 'C8380386F28', 'C8383752F30', 'C8383942F29', 'C8384314F30', 'C8387677F26', 'C8391642F28', 'C8393860F30', 'C8395225F29', 'C8395250F27', 'C8395377F27', 'C8396283F27', 'C8396722F27', 'C8397154F26', 'C8397762F28', 'C8397832F29', 'C8410022F26', 'C8410070F26', 'C8410238F26', 'C8410316F29', 'C8410683F26', 'C8410733F28', 'C8410914F28', 'C8410947F28', 'C8410968F28', 'C8411417F29', 'C8411430F27', 'C8412084F30', 'C8412270F26', 'C8412312F28', 'C8412522F27', 'C8412546F27', 'C8412678F30', 'C8412868F26', 'C8412968F26', 'C8413052F28', 'C8413081F30', 'C8413265F26', 'C8413655F29', 'C8413937F27', 'C8413957F27', 'C8414026F28', 'C8414115F26', 'C8414352F26', 'C8414434F26', 'C8414454F27', 'C8414466F26', 'C8414589F29', 'C8414857F26', 'C8414982F28', 'C8415216F27', 'C8415274F27', 'C8415443F30', 'C8415476F29', 'C8415871F27', 'C8416185F26', 'C8416251F27', 'C8416314F27', 'C8416332F27', 'C8416537F27', 'C8416675F28', 'C8417060F28', 'C8417355F26', 'C8417490F30', 'C8417729F26', 'C8418384F27', 'C8418436F28', 'C8418953F29', 'C8419030F28', 'C8419219F26', 'C8419376F29', 'C8419413F26', 'C8419635F26', 'C8420050F27', 'C8420466F30', 'C8420582F29', 'C8420611F29', 'C8420620F28', 'C8420653F26', 'C8420717F27', 'C8420852F27', 'C8420955F28', 'C8421072F26', 'C8421162F27', 'C8421276F28', 'C8421338F29', 'C8421433F27', 'C8421487F29', 'C8421885F27', 'C8421992F29', 'C8422427F29', 'C8422747F26', 'C8422846F30', 'C8422951F27', 'C8423054F27', 'C8423214F29', 'C8424073F30', 'C8424145F26', 'C8424265F27', 'C8424281F28', 'C8424356F30', 'C8424379F27', 'C8424432F30', 'C8424657F27', 'C8424744F29', 'C8424871F26', 'C8425126F27', 'C8425153F28', 'C8425374F29', 'C8425743F30', 'C8425775F27', 'C8425913F30', 'C8426067F30', 'C8426150F27', 'C8426172F27', 'C8426175F27', 'C8426414F28', 'C8427248F28', 'C8427279F26', 'C8427625F29', 'C8427635F28', 'C8427744F29', 'C8428126F28', 'C8428439F28', 'C8428470F26', 'C8428645F26', 'C8428728F28', 'C8428763F28', 'C8428845F26', 'C8429080F27', 'C8429258F26', 'C8429312F29', 'C8429368F27', 'C8429684F29', 'C8430217F28', 'C8430412F29', 'C8430432F30', 'C8430442F28', 'C8430865F28', 'C8431070F28', 'C8431391F26', 'C8431481F29', 'C8431624F29', 'C8432161F30', 'C8432226F26', 'C8432537F26', 'C8432590F27', 'C8432592F27', 'C8432645F28', 'C8432734F30', 'C8432774F28', 'C8432881F26', 'C8432888F29', 'C8432960F28', 'C8433077F27', 'C8434057F27', 'C8434118F28', 'C8434232F29', 'C8434438F28', 'C8434480F26', 'C8434689F28', 'C8434953F28', 'C8435265F28', 'C8435329F27', 'C8435333F29', 'C8435382F27', 'C8435584F29', 'C8435642F29', 'C8435723F30', 'C8435846F26', 'C8435866F26', 'C8436176F26', 'C8436331F29', 'C8436427F29', 'C8436620F26', 'C8437072F29', 'C8437111F30', 'C8437120F29', 'C8437165F28', 'C8437363F26', 'C8437536F29', 'C8437625F27', 'C8437677F30', 'C8438351F27', 'C8438475F27', 'C8438749F29', 'C8438779F27', 'C8438974F27', 'C8439062F26', 'C8439261F27', 'C8439433F27', 'C8440127F26', 'C8440139F28', 'C8440289F28', 'C8440334F30', 'C8440620F29', 'C8440755F28', 'C8440787F28', 'C8441020F28', 'C8441216F30', 'C8441858F27', 'C8441874F27', 'C8441957F28', 'C8442346F27', 'C8442372F27', 'C8444621F30', 'C8445324F27', 'C8447449F30', 'C8452651F29', 'C8452838F26', 'C8454037F30', 'C8454065F30', 'C8456044F27', 'C8456239F26', 'C8458517F26', 'C8458754F27', 'C8459160F27', 'C8459423F27', 'C8461178F30', 'C8464030F27', 'C8464049F27', 'C8465715F30', 'C8466268F30', 'C8467741F30', 'C8471425F30', 'C8471658F27', 'C8471978F30', 'C8472018F29', 'C8473756F28', 'C8474461F27', 'C8475963F27', 'C8476061F26', 'C8477173F29', 'C8479033F28', 'C8479088F28', 'C8484364F27', 'C8488725F28', 'C8492333F27', 'C8492918F29', 'C8496356F27', 'C8496734F28', 'C8499357F27', 'C8510017F27', 'C8510022F26', 'C8510065F28', 'C8510135F27', 'C8510345F29', 'C8510451F29', 'C8511032F30', 'C8511037F30', 'C8511251F28', 'C8511412F26', 'C8511641F30', 'C8511838F30', 'C8512270F26', 'C8512526F26', 'C8512551F26', 'C8512666F28', 'C8512759F29', 'C8512915F29', 'C8512929F26', 'C8513030F30', 'C8513032F27', 'C8513141F27', 'C8513832F27', 'C8513946F27', 'C8514289F28', 'C8514427F26', 'C8514465F27', 'C8514519F26', 'C8514534F29', 'C8514666F29', 'C8514750F27', 'C8515046F26', 'C8515820F27', 'C8516322F29', 'C8516345F30', 'C8516428F30', 'C8516560F29', 'C8516938F26', 'C8517134F30', 'C8518050F30', 'C8518149F30', 'C8518154F29', 'C8518866F26', 'C8519354F27', 'C8519819F27', 'C8520032F28', 'C8520061F26', 'C8520078F27', 'C8520233F26', 'C8520317F29', 'C8520634F27', 'C8520950F26', 'C8521089F29', 'C8521551F27', 'C8521669F28', 'C8521733F30', 'C8521914F27', 'C8522183F26', 'C8522765F29', 'C8522883F30', 'C8522969F30', 'C8522970F27', 'C8523075F26', 'C8523224F26', 'C8523275F28', 'C8523632F27', 'C8523654F27', 'C8523911F28', 'C8524138F30', 'C8524347F30', 'C8524446F30', 'C8524522F29', 'C8524674F26', 'C8524945F30', 'C8525185F26', 'C8525291F29', 'C8525444F29', 'C8525564F28', 'C8525749F26', 'C8526068F30', 'C8526075F30', 'C8526173F29', 'C8526175F27', 'C8526556F28', 'C8527125F26', 'C8527223F30', 'C8527385F30', 'C8527986F30', 'C8528132F27', 'C8528162F26', 'C8528281F28', 'C8528423F28', 'C8528635F26', 'C8528864F26', 'C8529580F29', 'C8530490F30', 'C8530540F30', 'C8530832F27', 'C8531040F29', 'C8531071F27', 'C8531233F27', 'C8531331F28', 'C8531652F29', 'C8532142F27', 'C8532328F27', 'C8532556F27', 'C8532826F27', 'C8532850F30', 'C8533040F26', 'C8533042F28', 'C8533120F26', 'C8533448F26', 'C8533451F30', 'C8533453F27', 'C8533677F27', 'C8533920F26', 'C8534032F28', 'C8534049F26', 'C8534171F26', 'C8534220F26', 'C8534518F28', 'C8534742F27', 'C8534838F27', 'C8535043F29', 'C8535144F28', 'C8535165F30', 'C8535187F28', 'C8535334F29', 'C8535519F27', 'C8535717F27', 'C8535848F27', 'C8536061F28', 'C8536330F26', 'C8536438F27', 'C8536668F27', 'C8536834F26', 'C8537133F29', 'C8537169F28', 'C8537721F28', 'C8537930F30', 'C8538127F30', 'C8538211F28', 'C8538728F28', 'C8538916F28', 'C8539535F27', 'C8539624F26', 'C8539659F28', 'C8539921F29', 'C8540114F30', 'C8540337F27', 'C8540637F30', 'C8540752F26', 'C8540876F30', 'C8540938F29', 'C8541187F30', 'C8541277F30', 'C8541646F26', 'C8541659F26', 'C8541834F28', 'C8541978F28', 'C8542414F28', 'C8542433F28', 'C8542713F28', 'C8545965F26', 'C8546253F27', 'C8548530F30', 'C8556813F29', 'C8558028F26', 'C8560227F28', 'C8563013F26', 'C8563046F27', 'C8568549F27', 'C8569447F27', 'C8569524F27', 'C8570592F30', 'C8570877F30', 'C8571392F30', 'C8571417F30', 'C8571486F30', 'C8573137F26', 'C8574153F29', 'C8576042F26', 'C8576219F27', 'C8578349F29', 'C8580848F29', 'C8583031F28', 'C8583733F30', 'C8589775F27', 'C8593377F27', 'C8594190F28', 'C8596762F28', 'C8610032F28', 'C8610153F26', 'C8610311F27', 'C8610617F27', 'C8610748F28', 'C8610884F29', 'C8611178F27', 'C8611266F29', 'C8611286F28', 'C8611926F26', 'C8612389F26', 'C8612485F29', 'C8612552F27', 'C8612565F27', 'C8612921F27', 'C8613048F26', 'C8613133F29', 'C8613231F26', 'C8613275F26', 'C8613970F30', 'C8614637F28', 'C8614665F27', 'C8614719F28', 'C8614771F28', 'C8614959F26', 'C8615061F26', 'C8615066F29', 'C8615428F26', 'C8615476F29', 'C8615719F26', 'C8615721F27', 'C8615831F29', 'C8616175F29', 'C8616543F30', 'C8616628F26', 'C8616781F26', 'C8616848F28', 'C8616935F29', 'C8616946F29', 'C8617380F26', 'C8617478F29', 'C8618311F27', 'C8618483F27', 'C8618827F27', 'C8619075F26', 'C8619143F26', 'C8619265F29', 'C8619484F27', 'C8619665F30', 'C8619670F30', 'C8619723F26', 'C8619740F30', 'C8619934F28', 'C8620290F26', 'C8620418F29', 'C8620544F28', 'C8620658F28', 'C8620916F28', 'C8620984F26', 'C8621372F27', 'C8621625F28', 'C8621629F27', 'C8621647F28', 'C8621861F27', 'C8622035F30', 'C8622085F26', 'C8622170F29', 'C8622355F26', 'C8622411F29', 'C8622434F29', 'C8622458F30', 'C8622525F30', 'C8623523F28', 'C8623786F30', 'C8623830F29', 'C8624237F26', 'C8624677F27', 'C8624776F26', 'C8625212F28', 'C8625235F29', 'C8625381F26', 'C8625849F30', 'C8625852F26', 'C8625926F30', 'C8625959F30', 'C8625983F26', 'C8626141F27', 'C8626171F29', 'C8626181F27', 'C8626446F27', 'C8626933F29', 'C8626969F30', 'C8627044F26', 'C8627079F26', 'C8627129F26', 'C8627475F28', 'C8627476F27', 'C8627537F26', 'C8627985F30', 'C8628113F26', 'C8628225F29', 'C8628318F27', 'C8628733F28', 'C8629019F28', 'C8629020F30', 'C8629025F28', 'C8629083F27', 'C8629389F28', 'C8629470F26', 'C8629667F28', 'C8629828F30', 'C8629963F28', 'C8630018F28', 'C8630336F30', 'C8630372F29', 'C8630728F29', 'C8630982F26', 'C8631162F27', 'C8631164F30', 'C8631272F30', 'C8631282F30', 'C8631344F27', 'C8631431F29', 'C8631484F27', 'C8631945F27', 'C8632079F28', 'C8632547F28', 'C8632841F26', 'C8632863F28', 'C8633083F26', 'C8633256F30', 'C8633428F27', 'C8633485F29', 'C8633652F27', 'C8633883F27', 'C8634311F28', 'C8634490F29', 'C8634715F26', 'C8634890F30', 'C8635158F26', 'C8635185F28', 'C8635566F27', 'C8635737F27', 'C8635813F29', 'C8636163F28', 'C8636232F30', 'C8636334F26', 'C8636421F27', 'C8636462F29', 'C8636480F29', 'C8636649F29', 'C8636658F27', 'C8636722F30', 'C8636835F30', 'C8637121F28', 'C8637159F28', 'C8637263F30', 'C8637320F27', 'C8637379F26', 'C8637443F28', 'C8637812F27', 'C8638079F28', 'C8638424F27', 'C8639040F30', 'C8639469F27', 'C8639719F26', 'C8639857F30', 'C8640040F26', 'C8640131F26', 'C8640180F26', 'C8640185F26', 'C8640327F30', 'C8640459F30', 'C8640473F30', 'C8640672F30', 'C8640873F29', 'C8640892F27', 'C8640947F28', 'C8641058F29', 'C8641243F27', 'C8641937F28', 'C8642125F27', 'C8642359F28', 'C8642551F27', 'C8642649F28', 'C8642841F30', 'C8642844F26', 'C8648521F30', 'C8649455F27', 'C8652671F27', 'C8653679F26', 'C8654915F28', 'C8654942F28', 'C8655914F30', 'C8657914F28', 'C8658038F26', 'C8658711F28', 'C8661266F30', 'C8661615F27', 'C8662516F29', 'C8662642F29', 'C8665350F27', 'C8668577F27', 'C8669443F30', 'C8670416F27', 'C8671449F30', 'C8672062F29', 'C8673264F26', 'C8673491F27', 'C8674459F29', 'C8676047F26', 'C8676084F27', 'C8676265F29', 'C8684887F26', 'C8685529F28', 'C8689739F27', 'C8693842F30', 'C8693987F28', 'C8696350F29', 'C8698086F28', 'C8710175F28', 'C8710228F30', 'C8710278F26', 'C8710486F27', 'C8711087F28', 'C8711116F28', 'C8711474F29', 'C8711555F29', 'C8711588F26', 'C8711626F27', 'C8711659F29', 'C8711721F29', 'C8711725F27', 'C8711822F30', 'C8712214F26', 'C8712314F26', 'C8712651F28', 'C8712892F28', 'C8713046F26', 'C8713161F29', 'C8713221F30', 'C8713691F26', 'C8714032F28', 'C8714061F28', 'C8715133F28', 'C8715267F26', 'C8715617F28', 'C8715640F29', 'C8715659F28', 'C8716273F26', 'C8716339F26', 'C8716450F26', 'C8716475F30', 'C8716562F29', 'C8716623F28', 'C8716653F26', 'C8717033F29', 'C8717638F30', 'C8718353F26', 'C8718676F27', 'C8718873F29', 'C8719236F27', 'C8719351F29', 'C8719375F27', 'C8719424F26', 'C8719577F30', 'C8719624F30', 'C8719728F29', 'C8720176F26', 'C8720479F28', 'C8720525F30', 'C8720959F26', 'C8721420F27', 'C8722188F27', 'C8722232F27', 'C8722323F27', 'C8722689F28', 'C8722929F26', 'C8723123F27', 'C8723347F27', 'C8723474F27', 'C8723488F28', 'C8724055F29', 'C8724381F28', 'C8724571F26', 'C8724858F30', 'C8725484F29', 'C8725776F28', 'C8726080F26', 'C8726161F27', 'C8726177F27', 'C8726212F29', 'C8726467F30', 'C8726474F29', 'C8726522F30', 'C8726627F28', 'C8726662F28', 'C8726942F29', 'C8726962F29', 'C8726966F29', 'C8727450F27', 'C8727511F29', 'C8727583F30', 'C8727619F26', 'C8727966F28', 'C8728392F27', 'C8728440F27', 'C8728473F30', 'C8728611F27', 'C8728888F30', 'C8729116F30', 'C8729178F27', 'C8729366F29', 'C8729448F28', 'C8729988F30', 'C8730453F29', 'C8730462F26', 'C8730542F28', 'C8731066F29', 'C8731141F30', 'C8731271F28', 'C8731282F28', 'C8731551F30', 'C8731643F29', 'C8731688F26', 'C8731816F28', 'C8731863F29', 'C8732023F29', 'C8732359F30', 'C8732483F30', 'C8732682F30', 'C8732769F26', 'C8732989F26', 'C8733262F30', 'C8733268F28', 'C8733557F30', 'C8733659F30', 'C8733662F27', 'C8733752F29', 'C8734227F27', 'C8734556F26', 'C8734725F29', 'C8734759F27', 'C8734911F28', 'C8734943F29', 'C8735226F27', 'C8735234F30', 'C8735274F30', 'C8735359F27', 'C8735477F30', 'C8735678F28', 'C8736078F27', 'C8736169F28', 'C8736558F26', 'C8736584F30', 'C8737122F28', 'C8737879F28', 'C8738058F30', 'C8739017F29', 'C8739023F29', 'C8739258F28', 'C8739345F26', 'C8739455F29', 'C8739621F26', 'C8739814F30', 'C8740435F26', 'C8740454F26', 'C8740531F28', 'C8740868F26', 'C8740939F27', 'C8741465F29', 'C8741784F28', 'C8741815F28', 'C8741858F30', 'C8741890F30', 'C8742141F26', 'C8742392F26', 'C8742690F27', 'C8742839F26', 'C8742886F26', 'C8745879F26', 'C8747018F30', 'C8751249F26', 'C8755138F30', 'C8757533F28', 'C8757981F29', 'C8760848F30', 'C8761164F28', 'C8761267F30', 'C8762517F27', 'C8762836F27', 'C8763013F26', 'C8763030F30', 'C8768445F30', 'C8769420F28', 'C8771360F30', 'C8771552F27', 'C8772826F30', 'C8774630F29', 'C8782283F27', 'C8784355F27', 'C8785970F29', 'C8787670F26', 'C8788869F26', 'C8791072F27', 'C8796318F28', 'C8796773F26', 'C8810070F28', 'C8810151F28', 'C8810284F26', 'C8810429F26', 'C8810748F30', 'C8810759F26', 'C8810925F29', 'C8811013F30', 'C8811041F30', 'C8811137F28', 'C8811712F27', 'C8811967F28', 'C8812090F27', 'C8812319F26', 'C8812586F27', 'C8812677F27', 'C8812968F29', 'C8813161F27', 'C8813224F30', 'C8813916F29', 'C8814060F27', 'C8814219F26', 'C8814261F28', 'C8814315F26', 'C8814460F27', 'C8814620F27', 'C8814767F28', 'C8814948F26', 'C8814955F26', 'C8815083F26', 'C8815164F28', 'C8815213F29', 'C8815392F29', 'C8816536F29', 'C8816825F26', 'C8816976F27', 'C8817146F26', 'C8817273F26', 'C8817630F27', 'C8817666F26', 'C8817685F30', 'C8818272F26', 'C8818317F27', 'C8818371F29', 'C8818419F27', 'C8818725F30', 'C8818778F28', 'C8818931F27', 'C8819214F29', 'C8819376F29', 'C8819390F27', 'C8819468F27', 'C8819527F30', 'C8819770F30', 'C8820123F30', 'C8820674F27', 'C8820957F26', 'C8821379F28', 'C8821881F29', 'C8822359F26', 'C8822464F30', 'C8822550F26', 'C8822579F27', 'C8822674F29', 'C8822718F27', 'C8822979F26', 'C8823340F28', 'C8823382F29', 'C8823457F30', 'C8823491F28', 'C8823591F26', 'C8823865F29', 'C8824371F30', 'C8824632F27', 'C8824691F29', 'C8824719F28', 'C8824844F29', 'C8824850F26', 'C8824862F26', 'C8824890F27', 'C8824940F27', 'C8825077F27', 'C8825114F26', 'C8825148F29', 'C8825154F28', 'C8825414F29', 'C8825511F29', 'C8825568F28', 'C8826123F27', 'C8826174F27', 'C8826189F29', 'C8826390F26', 'C8826450F28', 'C8827264F28', 'C8827288F28', 'C8827980F30', 'C8827992F27', 'C8828991F30', 'C8829161F30', 'C8829349F28', 'C8829429F29', 'C8830386F26', 'C8830388F30', 'C8830855F30', 'C8831332F27', 'C8831547F27', 'C8831734F27', 'C8831868F29', 'C8832019F27', 'C8832192F26', 'C8832442F29', 'C8832871F27', 'C8832915F29', 'C8832961F29', 'C8833052F26', 'C8833184F27', 'C8833640F30', 'C8833791F28', 'C8833990F30', 'C8834212F29', 'C8834312F28', 'C8834362F26', 'C8834743F27', 'C8834979F26', 'C8834981F29', 'C8835171F29', 'C8835660F30', 'C8835685F29', 'C8836261F26', 'C8836514F26', 'C8836544F30', 'C8836572F27', 'C8836813F26', 'C8836874F30', 'C8836886F28', 'C8837048F29', 'C8837162F30', 'C8837264F27', 'C8837726F26', 'C8837891F29', 'C8837928F29', 'C8837931F28', 'C8838057F27', 'C8838131F27', 'C8838180F30', 'C8838288F30', 'C8838738F26', 'C8838767F29', 'C8838829F26', 'C8839087F29', 'C8839327F29', 'C8839432F29', 'C8839568F30', 'C8839781F29', 'C8840154F27', 'C8840368F30', 'C8840659F30', 'C8840664F30', 'C8841042F28', 'C8841560F27', 'C8841685F29', 'C8841842F27', 'C8841935F30', 'C8842655F29', 'C8842840F30', 'C8842980F29', 'C8849090F30', 'C8851091F27', 'C8851363F29', 'C8855367F30', 'C8856117F28', 'C8858075F26', 'C8863020F29', 'C8863071F30', 'C8866956F26', 'C8870534F30', 'C8870826F26', 'C8870826F28', 'C8870983F29', 'C8873943F26', 'C8876056F26', 'C8876061F26', 'C8877080F30', 'C8878425F26', 'C8884213F28', 'C8884360F27', 'C8896777F27', 'C8910077F28', 'C8910081F28', 'C8910472F27', 'C8910559F27', 'C8910746F29', 'C8911031F26', 'C8911072F30', 'C8911212F29', 'C8911251F29', 'C8911343F30', 'C8911578F27', 'C8911655F29', 'C8911937F27', 'C8911973F28', 'C8912242F26', 'C8912550F27', 'C8912559F28', 'C8912632F29', 'C8912742F30', 'C8912820F28', 'C8912961F29', 'C8912978F30', 'C8912992F28', 'C8913039F28', 'C8913063F30', 'C8913135F30', 'C8913256F26', 'C8913818F27', 'C8914084F26', 'C8914153F28', 'C8914455F27', 'C8915429F26', 'C8915665F28', 'C8915729F27', 'C8915755F26', 'C8915755F27', 'C8916213F30', 'C8916338F30', 'C8917137F30', 'C8917257F26', 'C8917331F26', 'C8918326F26', 'C8918353F26', 'C8919155F28', 'C8919548F30', 'C8919572F30', 'C8919581F29', 'C8919983F30', 'C8920163F27', 'C8920663F27', 'C8920673F26', 'C8921145F30', 'C8921240F26', 'C8921474F27', 'C8921545F27', 'C8921552F26', 'C8921553F30', 'C8921950F29', 'C8922162F27', 'C8922278F26', 'C8922486F29', 'C8922629F26', 'C8922675F26', 'C8922917F30', 'C8923013F27', 'C8923072F27', 'C8923079F27', 'C8923079F29', 'C8923356F29', 'C8923485F28', 'C8924030F28', 'C8924372F27', 'C8924472F28', 'C8924491F28', 'C8924641F30', 'C8924841F29', 'C8924846F27', 'C8925487F26', 'C8925647F28', 'C8925715F27', 'C8926146F27', 'C8926155F30', 'C8926411F30', 'C8926574F28', 'C8926677F27', 'C8926813F28', 'C8927061F26', 'C8927515F27', 'C8927855F27', 'C8927890F27', 'C8928038F26', 'C8928160F27', 'C8928249F28', 'C8928253F29', 'C8928261F28', 'C8928277F28', 'C8928534F28', 'C8928564F30', 'C8928731F26', 'C8928846F27', 'C8928914F27', 'C8928918F29', 'C8929245F28', 'C8929860F26', 'C8930214F28', 'C8930315F30', 'C8930328F26', 'C8931564F28', 'C8932086F27', 'C8932159F28', 'C8932663F28', 'C8932922F29', 'C8932937F29', 'C8933074F30', 'C8933368F28', 'C8933763F28', 'C8933787F30', 'C8933876F29', 'C8933955F26', 'C8934014F27', 'C8934048F28', 'C8934145F28', 'C8934221F30', 'C8934312F28', 'C8934389F28', 'C8934484F30', 'C8935077F30', 'C8935111F27', 'C8935641F26', 'C8935642F30', 'C8936984F30', 'C8937477F29', 'C8937675F29', 'C8937740F26', 'C8937781F28', 'C8938131F30', 'C8938413F27', 'C8938951F27', 'C8939177F30', 'C8939483F29', 'C8939729F30', 'C8940336F28', 'C8940579F28', 'C8940655F28', 'C8940835F27', 'C8941224F30', 'C8941837F29', 'C8941858F29', 'C8941868F29', 'C8942332F26', 'C8942332F27', 'C8942476F29', 'C8942572F27', 'C8942732F29', 'C8942952F30', 'C8942978F30', 'C8945187F27', 'C8946871F26', 'C8948535F27', 'C8950676F29', 'C8952254F26', 'C8952673F29', 'C8953661F28', 'C8955116F30', 'C8956021F27', 'C8956853F29', 'C8958246F28', 'C8958325F27', 'C8960835F30', 'C8962832F28', 'C8963536F28', 'C8965789F29', 'C8970417F30', 'C8974256F30', 'C8975526F26', 'C8978473F28', 'C8979369F30', 'C8981920F26', 'C8982249F30', 'C8986786F28', 'C8992616F28', 'C8996237F27', 'C8996386F28', 'C8996755F27', 'C8997844F29', 'C8998958F26', 'C8999684F28', 'C9010038F27', 'C9010164F26', 'C9010329F29', 'C9010529F27', 'C9010735F30', 'C9010763F26', 'C9011043F30', 'C9011055F28', 'C9011083F27', 'C9011224F26', 'C9011329F29', 'C9011469F29', 'C9011563F29', 'C9011567F27', 'C9011739F29', 'C9011826F29', 'C9011853F30', 'C9012574F29', 'C9013086F30', 'C9013160F29', 'C9013288F26', 'C9013467F27', 'C9014259F28', 'C9014472F27', 'C9014555F26', 'C9014589F28', 'C9014839F27', 'C9014853F27', 'C9014923F26', 'C9015153F26', 'C9015288F29', 'C9015674F28', 'C9016024F27', 'C9016140F29', 'C9016190F29', 'C9016552F30', 'C9016578F30', 'C9016579F26', 'C9017073F28', 'C9017460F29', 'C9018311F29', 'C9018369F28', 'C9018467F26', 'C9018638F30', 'C9018672F27', 'C9018862F29', 'C9019049F28', 'C9019589F30', 'C9019614F30', 'C9019677F30', 'C9019830F27', 'C9019832F28', 'C9019976F28', 'C9020373F30', 'C9020457F27', 'C9020685F26', 'C9020755F29', 'C9020826F26', 'C9021363F30', 'C9021623F30', 'C9021655F28', 'C9022190F27', 'C9022455F26', 'C9022732F30', 'C9022841F30', 'C9022938F26', 'C9022965F26', 'C9023473F29', 'C9023592F27', 'C9024049F30', 'C9024187F26', 'C9024252F28', 'C9024346F27', 'C9024633F26', 'C9024830F30', 'C9025240F29', 'C9025368F30', 'C9025420F26', 'C9025924F30', 'C9025946F30', 'C9026042F30', 'C9027727F27', 'C9027812F26', 'C9027875F26', 'C9027918F30', 'C9028149F28', 'C9028171F29', 'C9028275F29', 'C9028928F30', 'C9029192F27', 'C9029426F27', 'C9029440F29', 'C9029467F29', 'C9030071F28', 'C9030077F28', 'C9030273F26', 'C9030427F30', 'C9030947F27', 'C9031020F26', 'C9032011F28', 'C9032123F26', 'C9032148F26', 'C9032588F27', 'C9032984F28', 'C9033136F27', 'C9033680F28', 'C9033851F29', 'C9033888F29', 'C9034090F28', 'C9034128F28', 'C9034232F28', 'C9034472F29', 'C9034517F28', 'C9034689F30', 'C9034786F27', 'C9035126F28', 'C9035332F27', 'C9035718F28', 'C9035873F29', 'C9035973F26', 'C9036011F30', 'C9036475F27', 'C9036476F26', 'C9036664F26', 'C9036830F26', 'C9036935F28', 'C9037157F29', 'C9037348F28', 'C9038056F27', 'C9038059F26', 'C9038121F27', 'C9038189F29', 'C9038355F26', 'C9038650F27', 'C9038672F27', 'C9038876F28', 'C9038878F26', 'C9039251F27', 'C9039475F29', 'C9039640F28', 'C9039869F30', 'C9040050F27', 'C9040130F26', 'C9040385F28', 'C9040437F26', 'C9040860F30', 'C9041346F29', 'C9041364F28', 'C9041464F30', 'C9041471F28', 'C9041936F30', 'C9042112F27', 'C9042784F26', 'C9045859F30', 'C9049717F28', 'C9055269F26', 'C9057961F28', 'C9059421F26', 'C9059631F26', 'C9059769F29', 'C9061131F27', 'C9062569F27', 'C9063412F26', 'C9065215F26', 'C9066188F30', 'C9067450F26', 'C9069412F28', 'C9070455F26', 'C9072275F28', 'C9072282F28', 'C9073669F29', 'C9074487F29', 'C9074881F26', 'C9077278F30', 'C9077454F26', 'C9077914F27', 'C9079641F28', 'C9079738F28', 'C9079839F29', 'C9081643F29', 'C9082740F27', 'C9084327F27', 'C9084376F27', 'C9087064F26', 'C9089019F28', 'C9089676F26', 'C9090275F29', 'C9090329F26', 'C9091124F29', 'C9091145F28', 'C9096720F28', 'C9096773F27', 'C9097081F27', 'C9098748F28', 'C9099180F26', 'Query_User_31', 'Query_User_34'], 'Group_2': ['C1010876F30', 'C1010921F28', 'C1011387F30', 'C1011643F26', 'C1012035F30', 'C1012774F26', 'C1012838F30', 'C1012872F30', 'C1015918F28', 'C1015944F29', 'C1017289F28', 'C1017645F26', 'C1017847F26', 'C1018037F30', 'C1018361F30', 'C1019560F27', 'C1022414F29', 'C1022970F28', 'C1024563F29', 'C1024580F26', 'C1028359F26', 'C1029828F26', 'C1030718F27', 'C1032581F29', 'C1032969F28', 'C1033017F28', 'C1034211F26', 'C1034448F30', 'C1034887F29', 'C1035960F26', 'C1035986F28', 'C1036264F26', 'C1037540F29', 'C1037963F29', 'C1038055F29', 'C1038948F28', 'C1041159F26', 'C1042186F27', 'C1042820F27', 'C1043134F29', 'C1043964F28', 'C1060621F27', 'C1062830F28', 'C1064644F27', 'C1065758F29', 'C1066177F30', 'C1076281F28', 'C1077213F26', 'C1092316F27', 'C1093926F29', 'C1112069F30', 'C1112876F30', 'C1112927F26', 'C1114374F26', 'C1114419F26', 'C1115021F29', 'C1115138F28', 'C1116551F27', 'C1118427F29', 'C1119361F27', 'C1121970F27', 'C1123038F30', 'C1123712F29', 'C1124218F28', 'C1124355F28', 'C1127949F28', 'C1128121F30', 'C1130883F30', 'C1132411F26', 'C1134311F28', 'C1135426F26', 'C1136139F26', 'C1136822F27', 'C1136924F27', 'C1137756F27', 'C1137953F29', 'C1138253F26', 'C1138672F30', 'C1139871F28', 'C1140312F30', 'C1140361F28', 'C1141583F30', 'C1142670F29', 'C1144671F28', 'C1151457F26', 'C1171349F30', 'C1172044F27', 'C1188730F26', 'C1195277F29', 'C1211240F27', 'C1212087F26', 'C1214468F27', 'C1216192F29', 'C1218338F26', 'C1218365F29', 'C1218525F27', 'C1220021F28', 'C1220948F30', 'C1221723F27', 'C1221923F27', 'C1221941F27', 'C1222086F29', 'C1222420F26', 'C1223277F28', 'C1223816F26', 'C1224770F29', 'C1224848F26', 'C1225174F26', 'C1225441F26', 'C1226186F27', 'C1226635F27', 'C1226816F28', 'C1226868F30', 'C1228949F26', 'C1231067F29', 'C1231071F28', 'C1232071F26', 'C1232913F28', 'C1235332F27', 'C1235747F27', 'C1235866F28', 'C1235990F30', 'C1236483F26', 'C1237054F30', 'C1237134F28', 'C1238258F28', 'C1238827F26', 'C1241178F28', 'C1241828F29', 'C1242113F27', 'C1242668F30', 'C1242927F30', 'C1252652F29', 'C1271637F27', 'C1273571F26', 'C1281989F26', 'C1310054F28', 'C1310354F30', 'C1310631F26', 'C1311061F30', 'C1311221F28', 'C1313816F29', 'C1314152F29', 'C1315720F27', 'C1319861F28', 'C1320186F29', 'C1320943F27', 'C1320986F27', 'C1321678F30', 'C1323156F27', 'C1323582F26', 'C1323749F26', 'C1323836F27', 'C1324724F30', 'C1325887F29', 'C1326312F29', 'C1327657F29', 'C1328086F26', 'C1328390F26', 'C1328620F27', 'C1330017F26', 'C1330189F26', 'C1330623F27', 'C1331813F26', 'C1332177F27', 'C1333216F26', 'C1334066F26', 'C1335473F26', 'C1335970F28', 'C1336443F26', 'C1337281F28', 'C1341465F28', 'C1342518F29', 'C1356854F29', 'C1362831F30', 'C1373436F27', 'C1396724F28', 'C1411424F29', 'C1411444F27', 'C1412179F29', 'C1413924F29', 'C1415926F28', 'C1418687F26', 'C1420851F28', 'C1421460F29', 'C1422234F30', 'C1422961F30', 'C1423419F26', 'C1423472F28', 'C1423543F30', 'C1424114F26', 'C1424581F30', 'C1424838F26', 'C1425080F26', 'C1425432F29', 'C1426934F29', 'C1428265F27', 'C1429887F30', 'C1431272F28', 'C1431484F28', 'C1432312F30', 'C1432533F28', 'C1433321F27', 'C1433384F26', 'C1434423F27', 'C1434440F28', 'C1435082F28', 'C1436275F30', 'C1436367F26', 'C1436542F28', 'C1437165F28', 'C1439960F30', 'C1440441F30', 'C1440658F26', 'C1440849F29', 'C1441149F30', 'C1441812F29', 'C1442031F29', 'C1442078F27', 'C1442636F26', 'C1479054F27', 'C1482227F26', 'C1487671F26', 'C1497137F26', 'C1510161F29', 'C1510642F28', 'C1511163F28', 'C1511221F28', 'C1511823F27', 'C1511985F28', 'C1512564F27', 'C1512916F26', 'C1513671F27', 'C1514587F29', 'C1515931F29', 'C1516635F30', 'C1517051F27', 'C1518773F28', 'C1519463F26', 'C1519589F27', 'C1519988F28', 'C1520634F29', 'C1520914F29', 'C1520974F28', 'C1521968F29', 'C1522825F29', 'C1524276F28', 'C1524356F29', 'C1524446F27', 'C1525680F29', 'C1526561F30', 'C1527140F27', 'C1528088F30', 'C1528634F27', 'C1528975F26', 'C1529234F29', 'C1530750F30', 'C1531221F28', 'C1531674F27', 'C1533364F27', 'C1533625F27', 'C1533950F27', 'C1534611F28', 'C1534746F26', 'C1535064F27', 'C1535490F26', 'C1536143F26', 'C1536616F26', 'C1538036F29', 'C1540913F27', 'C1541051F28', 'C1541354F27', 'C1541380F29', 'C1542717F28', 'C1577239F30', 'C1585729F29', 'C1595440F29', 'C1610266F26', 'C1611952F28', 'C1612413F26', 'C1612532F27', 'C1612678F27', 'C1613516F29', 'C1614192F28', 'C1614681F27', 'C1615482F28', 'C1615488F28', 'C1616578F30', 'C1616778F29', 'C1616880F27', 'C1617429F26', 'C1618489F29', 'C1618762F26', 'C1619254F27', 'C1619576F28', 'C1620314F27', 'C1620646F26', 'C1620680F30', 'C1620744F26', 'C1620888F30', 'C1621990F29', 'C1622476F29', 'C1622827F26', 'C1623055F30', 'C1623857F27', 'C1625241F27', 'C1625292F28', 'C1626016F30', 'C1628452F27', 'C1628978F28', 'C1629326F27', 'C1629461F27', 'C1629871F26', 'C1629928F28', 'C1630592F28', 'C1631214F28', 'C1632821F26', 'C1633138F26', 'C1634657F26', 'C1635127F28', 'C1637921F30', 'C1638131F27', 'C1638911F30', 'C1639548F30', 'C1640322F30', 'C1640647F29', 'C1640883F30', 'C1641264F28', 'C1642091F29', 'C1642118F27', 'C1642350F30', 'C1642632F27', 'C1655179F30', 'C1673471F27', 'C1687919F30', 'C1688028F26', 'C1688249F30', 'C1710171F29', 'C1710623F26', 'C1711282F28', 'C1711470F29', 'C1712554F26', 'C1713260F26', 'C1714068F28', 'C1715230F27', 'C1715585F28', 'C1715943F28', 'C1717464F29', 'C1717722F26', 'C1718756F28', 'C1719061F28', 'C1719772F29', 'C1720288F28', 'C1721473F28', 'C1726728F30', 'C1729770F30', 'C1729936F28', 'C1731820F27', 'C1731948F27', 'C1732217F27', 'C1732514F28', 'C1732932F26', 'C1733542F27', 'C1734915F27', 'C1736077F30', 'C1736566F27', 'C1736970F30', 'C1737238F30', 'C1737292F30', 'C1738285F29', 'C1738458F27', 'C1738720F30', 'C1739177F30', 'C1739464F28', 'C1739827F27', 'C1742439F28', 'C1742552F29', 'C1742855F26', 'C1768471F30', 'C1771182F28', 'C1781953F26', 'C1788289F30', 'C1793213F27', 'C1810228F27', 'C1810771F27', 'C1812378F26', 'C1812418F26', 'C1813169F29', 'C1813579F29', 'C1813890F26', 'C1815363F26', 'C1816333F27', 'C1816743F26', 'C1817840F28', 'C1818234F27', 'C1819075F28', 'C1819118F30', 'C1819230F27', 'C1819469F27', 'C1820738F29', 'C1820887F28', 'C1820923F26', 'C1821165F27', 'C1821746F26', 'C1823089F27', 'C1823585F28', 'C1825434F26', 'C1825718F26', 'C1827371F28', 'C1828479F26', 'C1829490F27', 'C1829962F30', 'C1830345F30', 'C1830855F29', 'C1831233F30', 'C1832686F26', 'C1833620F28', 'C1833868F26', 'C1834382F28', 'C1837474F26', 'C1837579F26', 'C1838058F26', 'C1841525F27', 'C1841929F28', 'C1859539F30', 'C1862570F27', 'C1868478F28', 'C1870837F28', 'C1873438F27', 'C1874875F26', 'C1876068F26', 'C1879658F28', 'C1890512F29', 'C1896915F29', 'C1897183F26', 'C1912066F27', 'C1912358F27', 'C1912548F27', 'C1912685F26', 'C1913226F30', 'C1913443F27', 'C1914585F27', 'C1915038F29', 'C1915223F29', 'C1917224F26', 'C1919669F29', 'C1919883F28', 'C1920591F30', 'C1920944F26', 'C1920967F27', 'C1921826F30', 'C1924663F30', 'C1924854F27', 'C1926977F29', 'C1927982F27', 'C1928052F29', 'C1928551F28', 'C1928964F26', 'C1929342F26', 'C1929415F26', 'C1930354F29', 'C1930688F26', 'C1931489F26', 'C1932164F28', 'C1932169F27', 'C1932313F30', 'C1932422F26', 'C1933162F27', 'C1933561F27', 'C1933923F29', 'C1934353F28', 'C1934581F26', 'C1935961F26', 'C1937229F29', 'C1937657F30', 'C1939555F29', 'C1940271F26', 'C1942326F26', 'C1944237F27', 'C1958764F27', 'C1964680F27', 'C1968436F30', 'C1971165F26', 'C1973555F29', 'C1977139F26', 'C1977982F27', 'C1979865F26', 'C1990392F26', 'C1991716F27', 'C1996359F27', 'C2010252F26', 'C2012615F30', 'C2013123F26', 'C2013486F28', 'C2013861F26', 'C2014821F28', 'C2015672F26', 'C2016383F27', 'C2018382F29', 'C2018589F26', 'C2018732F28', 'C2019237F27', 'C2019847F29', 'C2021483F26', 'C2021532F28', 'C2022115F29', 'C2022358F26', 'C2023134F27', 'C2024779F27', 'C2024966F29', 'C2028386F28', 'C2028890F27', 'C2029918F30', 'C2029927F27', 'C2031124F27', 'C2031320F27', 'C2032573F28', 'C2032614F28', 'C2032620F28', 'C2033475F30', 'C2033918F29', 'C2034075F28', 'C2035028F30', 'C2035452F30', 'C2035847F29', 'C2036340F26', 'C2038138F27', 'C2038219F26', 'C2038422F27', 'C2040287F28', 'C2040486F27', 'C2040779F28', 'C2040962F26', 'C2042631F28', 'C2049690F30', 'C2050986F29', 'C2061258F30', 'C2067064F26', 'C2068527F27', 'C2078157F30', 'C2079749F28', 'C2080824F29', 'C2082429F26', 'C2082967F26', 'C2083079F29', 'C2110040F28', 'C2111826F30', 'C2112315F29', 'C2114841F27', 'C2114846F30', 'C2115476F26', 'C2116715F29', 'C2116767F30', 'C2117264F28', 'C2117929F28', 'C2118388F29', 'C2118732F28', 'C2119246F30', 'C2120071F27', 'C2120281F28', 'C2122176F26', 'C2122915F26', 'C2124660F26', 'C2124744F28', 'C2125240F27', 'C2126633F27', 'C2127856F27', 'C2128873F26', 'C2130169F29', 'C2132327F27', 'C2132725F27', 'C2132925F26', 'C2133924F27', 'C2134378F28', 'C2134911F27', 'C2134975F27', 'C2135451F30', 'C2137732F28', 'C2139186F27', 'C2139417F27', 'C2140057F28', 'C2140146F26', 'C2141129F30', 'C2154060F30', 'C2158280F28', 'C2161081F27', 'C2176089F26', 'C2177748F27', 'C2185549F30', 'C2195241F29', 'C2210028F27', 'C2210892F26', 'C2211685F29', 'C2212683F29', 'C2213154F27', 'C2213753F29', 'C2215052F26', 'C2216066F26', 'C2216177F29', 'C2219717F26', 'C2219956F28', 'C2220673F28', 'C2222180F27', 'C2223120F27', 'C2223183F26', 'C2224147F26', 'C2224384F26', 'C2224391F28', 'C2224856F30', 'C2227170F28', 'C2228189F28', 'C2229975F30', 'C2231365F27', 'C2232366F26', 'C2232830F26', 'C2233411F29', 'C2233422F27', 'C2233686F29', 'C2234152F27', 'C2235077F30', 'C2235262F27', 'C2235636F28', 'C2236356F28', 'C2238245F30', 'C2238473F30', 'C2239582F30', 'C2240650F29', 'C2240690F29', 'C2241155F30', 'C2243292F30', 'C2252952F27', 'C2274227F30', 'C2282186F29', 'C2287589F27', 'C2310137F30', 'C2310371F28', 'C2310424F26', 'C2310546F29', 'C2311185F28', 'C2311625F28', 'C2312687F30', 'C2314613F26', 'C2315232F29', 'C2316977F29', 'C2317086F26', 'C2318326F27', 'C2318484F28', 'C2319861F30', 'C2320055F27', 'C2320057F27', 'C2320256F26', 'C2320690F29', 'C2320726F27', 'C2321153F27', 'C2321832F30', 'C2321931F27', 'C2322253F28', 'C2322335F30', 'C2324854F27', 'C2325790F28', 'C2326870F28', 'C2327131F29', 'C2327871F26', 'C2328020F27', 'C2328313F28', 'C2328840F26', 'C2329023F28', 'C2329353F29', 'C2329546F26', 'C2330947F27', 'C2331382F27', 'C2331460F28', 'C2332256F28', 'C2332840F28', 'C2332936F28', 'C2334477F29', 'C2335087F30', 'C2335143F28', 'C2336048F28', 'C2336669F26', 'C2336877F27', 'C2337590F27', 'C2341073F29', 'C2342519F29', 'C2342729F30', 'C2352666F28', 'C2356224F26', 'C2360584F27', 'C2366192F29', 'C2369460F27', 'C2371535F28', 'C2373429F27', 'C2393926F29', 'C2396751F28', 'C2410624F28', 'C2410961F28', 'C2411025F27', 'C2411860F30', 'C2412915F26', 'C2413016F30', 'C2414643F26', 'C2415125F28', 'C2415682F28', 'C2416057F28', 'C2418140F29', 'C2422829F26', 'C2423176F27', 'C2424511F29', 'C2424640F27', 'C2425991F30', 'C2426975F29', 'C2426981F29', 'C2427931F26', 'C2428357F27', 'C2429136F26', 'C2429415F26', 'C2429886F26', 'C2430665F27', 'C2430814F28', 'C2432847F27', 'C2434042F30', 'C2434262F29', 'C2434727F27', 'C2434773F27', 'C2435637F26', 'C2438836F26', 'C2438913F28', 'C2439482F27', 'C2440118F26', 'C2445381F26', 'C2455188F30', 'C2457928F29', 'C2470576F30', 'C2480360F28', 'C2481438F27', 'C2492262F26', 'C2495789F29', 'C2510969F26', 'C2512653F26', 'C2513087F29', 'C2513177F27', 'C2513384F26', 'C2513954F29', 'C2514117F28', 'C2516687F30', 'C2517283F26', 'C2518639F27', 'C2519235F28', 'C2519642F29', 'C2520088F26', 'C2523542F26', 'C2525637F29', 'C2525738F27', 'C2526579F29', 'C2529828F26', 'C2529987F27', 'C2530168F26', 'C2530832F29', 'C2533035F27', 'C2533129F30', 'C2534192F28', 'C2536465F27', 'C2536554F29', 'C2538090F30', 'C2538265F28', 'C2542871F27', 'C2542882F26', 'C2542911F30', 'C2543247F26', 'C2547764F27', 'C2561257F28', 'C2562516F26', 'C2563072F26', 'C2567234F28', 'C2571553F28', 'C2577262F30', 'C2577744F27', 'C2591780F27', 'C2594450F27', 'C2612477F26', 'C2615382F26', 'C2616911F29', 'C2618678F26', 'C2618767F28', 'C2619239F28', 'C2619372F30', 'C2620040F26', 'C2622230F30', 'C2622544F28', 'C2623970F27', 'C2623977F27', 'C2624713F29', 'C2624813F30', 'C2625712F27', 'C2626142F27', 'C2626412F29', 'C2626466F30', 'C2627544F27', 'C2628546F28', 'C2628958F27', 'C2629540F28', 'C2630011F26', 'C2630324F27', 'C2631719F26', 'C2632623F30', 'C2632655F30', 'C2633926F26', 'C2633975F29', 'C2634665F26', 'C2635682F28', 'C2636117F26', 'C2636341F29', 'C2636416F26', 'C2637050F29', 'C2638178F27', 'C2639476F28', 'C2639918F30', 'C2640327F30', 'C2641836F29', 'C2642239F26', 'C2642891F30', 'C2645943F26', 'C2652643F29', 'C2655621F27', 'C2664246F28', 'C2671423F30', 'C2673056F28', 'C2674175F29', 'C2682772F27', 'C2685526F30', 'C2694563F28', 'C2711485F27', 'C2714377F26', 'C2715552F28', 'C2715869F29', 'C2716982F27', 'C2718588F27', 'C2718630F30', 'C2722351F26', 'C2722967F30', 'C2723389F29', 'C2726834F29', 'C2729362F26', 'C2729865F27', 'C2730845F30', 'C2732541F28', 'C2732643F29', 'C2733847F27', 'C2734132F26', 'C2734247F29', 'C2735028F27', 'C2735730F27', 'C2736079F30', 'C2741074F27', 'C2741164F28', 'C2741288F27', 'C2741678F26', 'C2742878F29', 'C2743352F28', 'C2747992F26', 'C2762886F28', 'C2773477F27', 'C2781990F26', 'C2793292F27', 'C2795448F29', 'C2795478F29', 'C2810261F26', 'C2811214F27', 'C2813226F29', 'C2813381F28', 'C2813914F28', 'C2815729F26', 'C2816083F29', 'C2816264F30', 'C2817083F26', 'C2817233F30', 'C2817589F26', 'C2817772F26', 'C2817858F28', 'C2818418F28', 'C2818887F27', 'C2819647F30', 'C2822978F27', 'C2824473F28', 'C2824860F27', 'C2826182F26', 'C2826389F28', 'C2827457F29', 'C2827972F30', 'C2828083F29', 'C2828154F28', 'C2829688F28', 'C2830882F28', 'C2830885F28', 'C2830983F27', 'C2830988F30', 'C2831329F30', 'C2831876F29', 'C2832867F29', 'C2833067F26', 'C2834555F26', 'C2836886F27', 'C2837261F27', 'C2837456F26', 'C2837579F29', 'C2837763F27', 'C2840458F30', 'C2840844F27', 'C2841041F28', 'C2841625F30', 'C2842370F30', 'C2842673F28', 'C2843650F27', 'C2844675F28', 'C2852257F26', 'C2852553F26', 'C2861076F27', 'C2861092F26', 'C2861244F30', 'C2870866F28', 'C2877226F30', 'C2887280F26', 'C2910332F27', 'C2910936F29', 'C2911751F30', 'C2911836F30', 'C2911951F30', 'C2912089F27', 'C2912577F27', 'C2914069F26', 'C2915240F30', 'C2915245F29', 'C2915424F26', 'C2915639F28', 'C2916314F30', 'C2917552F27', 'C2919062F28', 'C2919439F26', 'C2919666F27', 'C2919958F30', 'C2921372F29', 'C2923211F26', 'C2925486F26', 'C2925640F26', 'C2926147F27', 'C2926413F30', 'C2929772F28', 'C2932033F30', 'C2932261F26', 'C2932540F27', 'C2933081F27', 'C2934257F27', 'C2934929F30', 'C2934945F29', 'C2935288F27', 'C2937281F28', 'C2937291F28', 'C2937935F27', 'C2938375F26', 'C2940019F27', 'C2940141F29', 'C2940458F27', 'C2942360F30', 'C2945981F27', 'C2950724F28', 'C2961289F30', 'C2965922F27', 'C2966153F29', 'C2966818F26', 'C2982745F29', 'C2990739F30', 'C2994680F28', 'C3012613F28', 'C3013577F29', 'C3013867F28', 'C3014232F27', 'C3015669F29', 'C3015737F27', 'C3015924F28', 'C3016533F27', 'C3016931F27', 'C3017034F29', 'C3017087F29', 'C3017255F26', 'C3018618F26', 'C3021488F26', 'C3021512F27', 'C3022250F26', 'C3022924F29', 'C3023435F28', 'C3023844F27', 'C3025574F28', 'C3026435F27', 'C3026454F30', 'C3027926F29', 'C3028370F30', 'C3029649F29', 'C3030563F27', 'C3031050F27', 'C3033972F26', 'C3034282F28', 'C3034772F27', 'C3035992F28', 'C3036031F27', 'C3039037F30', 'C3041142F26', 'C3041672F28', 'C3042241F28', 'C3045490F27', 'C3047483F30', 'C3062580F27', 'C3070542F30', 'C3074021F28', 'C3076263F28', 'C3112540F27', 'C3112613F27', 'C3113629F26', 'C3114972F28', 'C3115642F28', 'C3115692F29', 'C3116578F26', 'C3117179F30', 'C3117824F27', 'C3118092F30', 'C3121024F30', 'C3123885F29', 'C3124364F28', 'C3124392F28', 'C3124868F26', 'C3125778F27', 'C3127116F26', 'C3129426F27', 'C3129620F30', 'C3129677F29', 'C3131426F28', 'C3131852F26', 'C3133779F26', 'C3134274F26', 'C3135041F27', 'C3135477F26', 'C3135881F27', 'C3136629F26', 'C3137861F29', 'C3138575F28', 'C3138862F28', 'C3139217F27', 'C3139342F28', 'C3142156F27', 'C3142170F27', 'C3144670F28', 'C3168972F30', 'C3172489F28', 'C3180381F28', 'C3181934F26', 'C3191614F29', 'C3194327F27', 'C3211255F28', 'C3211269F27', 'C3211545F28', 'C3212929F26', 'C3213043F30', 'C3213343F26', 'C3213666F29', 'C3214265F29', 'C3215017F26', 'C3215255F26', 'C3217227F30', 'C3217322F30', 'C3218075F27', 'C3218328F30', 'C3219155F29', 'C3221817F27', 'C3224751F26', 'C3225923F30', 'C3226012F30', 'C3227767F29', 'C3228267F26', 'C3228934F27', 'C3229570F28', 'C3231363F27', 'C3232076F27', 'C3232252F26', 'C3233727F29', 'C3234271F29', 'C3234284F29', 'C3234355F28', 'C3235744F26', 'C3236657F26', 'C3237222F26', 'C3237353F27', 'C3238972F30', 'C3239775F27', 'C3240060F28', 'C3241122F28', 'C3254963F28', 'C3259665F26', 'C3260742F29', 'C3263477F28', 'C3271328F30', 'C3279437F29', 'C3282670F26', 'C3283748F28', 'C3285380F28', 'C3293845F28', 'C3312048F28', 'C3312088F30', 'C3312425F27', 'C3312473F26', 'C3312831F29', 'C3313332F26', 'C3315390F29', 'C3315757F27', 'C3316716F26', 'C3316762F30', 'C3317046F26', 'C3317115F28', 'C3317275F27', 'C3319727F28', 'C3321144F30', 'C3321245F29', 'C3322970F27', 'C3323066F29', 'C3324292F29', 'C3324432F28', 'C3325543F28', 'C3326022F30', 'C3327423F28', 'C3328234F27', 'C3328274F29', 'C3329054F30', 'C3329934F30', 'C3329961F30', 'C3330460F26', 'C3331733F26', 'C3332155F28', 'C3332327F27', 'C3333858F27', 'C3334211F29', 'C3334964F29', 'C3336284F27', 'C3337389F29', 'C3338153F30', 'C3338679F30', 'C3339021F26', 'C3339459F28', 'C3340230F29', 'C3348792F28', 'C3352824F28', 'C3354336F26', 'C3367888F26', 'C3374466F29', 'C3388029F26', 'C3410572F27', 'C3411653F30', 'C3412573F30', 'C3412634F27', 'C3413582F29', 'C3413638F29', 'C3413651F27', 'C3414225F29', 'C3415816F27', 'C3416331F30', 'C3416936F27', 'C3417028F26', 'C3417224F26', 'C3417816F26', 'C3419634F29', 'C3419758F29', 'C3420970F26', 'C3421532F27', 'C3421790F28', 'C3421878F27', 'C3422535F28', 'C3422854F29', 'C3424570F27', 'C3425425F26', 'C3425749F26', 'C3429968F26', 'C3430132F30', 'C3431458F28', 'C3431571F27', 'C3432235F26', 'C3433980F29', 'C3434178F28', 'C3434633F29', 'C3434921F30', 'C3435736F27', 'C3436049F29', 'C3438227F28', 'C3438242F30', 'C3438830F30', 'C3439881F28', 'C3439972F27', 'C3440113F29', 'C3441388F29', 'C3441750F28', 'C3441819F26', 'C3459644F26', 'C3462838F28', 'C3463044F29', 'C3467392F26', 'C3468579F27', 'C3471659F27', 'C3473590F29', 'C3499419F27', 'C3510016F28', 'C3510133F29', 'C3511345F28', 'C3512220F26', 'C3513365F30', 'C3513390F29', 'C3515782F26', 'C3516384F27', 'C3518339F29', 'C3519558F28', 'C3519853F28', 'C3519929F29', 'C3520448F30', 'C3520573F29', 'C3521228F29', 'C3523577F28', 'C3523621F26', 'C3523773F26', 'C3525715F27', 'C3526129F29', 'C3528079F26', 'C3528713F28', 'C3530368F29', 'C3530857F28', 'C3531011F29', 'C3531242F29', 'C3531280F28', 'C3531851F27', 'C3532638F28', 'C3532872F26', 'C3533442F26', 'C3534172F28', 'C3535236F26', 'C3535939F28', 'C3536387F26', 'C3537244F29', 'C3537522F27', 'C3537677F30', 'C3538218F26', 'C3540254F29', 'C3540352F27', 'C3540853F26', 'C3543274F26', 'C3553617F28', 'C3554091F30', 'C3563429F26', 'C3571171F29', 'C3579868F26', 'C3581912F26', 'C3610220F28', 'C3610613F30', 'C3610929F27', 'C3612528F27', 'C3612533F27', 'C3614130F26', 'C3614189F26', 'C3614364F27', 'C3617246F30', 'C3619053F29', 'C3620123F30', 'C3620336F28', 'C3621528F28', 'C3621834F29', 'C3622949F30', 'C3624521F26', 'C3625783F27', 'C3627986F27', 'C3628660F27', 'C3628751F28', 'C3628953F28', 'C3628970F26', 'C3629059F27', 'C3629750F29', 'C3630864F26', 'C3630942F26', 'C3632734F28', 'C3632820F29', 'C3632938F27', 'C3633364F28', 'C3635062F29', 'C3637187F30', 'C3637761F26', 'C3638718F28', 'C3639969F29', 'C3640447F27', 'C3641034F28', 'C3641967F29', 'C3642281F28', 'C3662528F27', 'C3670825F28', 'C3711078F30', 'C3712283F26', 'C3714487F27', 'C3714612F29', 'C3714968F26', 'C3715372F30', 'C3715447F28', 'C3715645F28', 'C3716164F28', 'C3716870F30', 'C3719113F26', 'C3719222F28', 'C3720372F26', 'C3720945F26', 'C3723072F26', 'C3723861F26', 'C3724137F28', 'C3724960F27', 'C3725769F26', 'C3728091F29', 'C3728768F28', 'C3728846F30', 'C3729229F26', 'C3729476F30', 'C3729683F28', 'C3731280F29', 'C3731762F29', 'C3731846F29', 'C3733472F30', 'C3736091F26', 'C3736440F26', 'C3737069F29', 'C3737543F29', 'C3739441F28', 'C3740121F26', 'C3740261F29', 'C3740771F28', 'C3742890F26', 'C3744658F28', 'C3749671F30', 'C3752621F28', 'C3756792F26', 'C3760717F29', 'C3762368F27', 'C3762643F27', 'C3764628F27', 'C3768453F30', 'C3772985F27', 'C3785965F29', 'C3786588F26', 'C3788758F26', 'C3793292F27', 'C3810526F29', 'C3810716F30', 'C3810753F29', 'C3811034F30', 'C3812254F30', 'C3812681F29', 'C3813216F26', 'C3813430F26', 'C3813838F26', 'C3814167F28', 'C3815413F28', 'C3815979F27', 'C3816348F30', 'C3817172F28', 'C3817511F27', 'C3818549F27', 'C3818591F30', 'C3821227F29', 'C3824547F30', 'C3825349F29', 'C3825946F26', 'C3825949F26', 'C3826925F29', 'C3827548F28', 'C3828582F28', 'C3828992F30', 'C3829355F30', 'C3829728F28', 'C3829983F30', 'C3830511F30', 'C3831492F27', 'C3831755F28', 'C3832534F28', 'C3832538F29', 'C3833359F27', 'C3833755F27', 'C3833888F27', 'C3835192F29', 'C3835381F29', 'C3836025F27', 'C3836447F26', 'C3837138F28', 'C3837837F30', 'C3841312F26', 'C3842529F27', 'C3842853F26', 'C3858034F26', 'C3858057F26', 'C3861279F30', 'C3863025F26', 'C3871926F30', 'C3876220F28', 'C3884337F27', 'C3893240F28', 'C3910461F29', 'C3910646F26', 'C3911032F30', 'C3911056F30', 'C3911229F27', 'C3911385F30', 'C3912027F27', 'C3912830F30', 'C3913833F30', 'C3914073F26', 'C3914614F27', 'C3915624F30', 'C3915914F29', 'C3915981F29', 'C3916661F30', 'C3917054F26', 'C3917086F28', 'C3917436F27', 'C3918323F27', 'C3919824F28', 'C3920476F29', 'C3921272F30', 'C3922075F27', 'C3922339F28', 'C3923250F26', 'C3925191F26', 'C3925322F26', 'C3926142F27', 'C3926149F27', 'C3926975F30', 'C3927592F27', 'C3929324F29', 'C3929978F30', 'C3932687F27', 'C3932872F26', 'C3933589F27', 'C3934929F28', 'C3935081F28', 'C3935085F30', 'C3935237F29', 'C3938087F26', 'C3940232F28', 'C3940429F27', 'C3941512F30', 'C3941787F28', 'C3941931F28', 'C3942537F29', 'C3942842F26', 'C3945134F27', 'C3950072F27', 'C3956513F28', 'C3958977F28', 'C3971862F28', 'C3981981F26', 'C3984388F27', 'C3985125F26', 'C3985957F29', 'C3991136F29', 'C3991658F28', 'C4011244F28', 'C4012019F30', 'C4012088F26', 'C4012157F30', 'C4013128F28', 'C4013411F29', 'C4016358F28', 'C4018114F28', 'C4018259F28', 'C4018360F29', 'C4019053F28', 'C4019890F28', 'C4020382F28', 'C4022238F30', 'C4023526F28', 'C4024455F27', 'C4025157F27', 'C4026192F26', 'C4026912F29', 'C4028290F26', 'C4028562F26', 'C4029757F28', 'C4029819F26', 'C4032512F28', 'C4032915F28', 'C4035791F27', 'C4036842F27', 'C4038287F30', 'C4040043F30', 'C4040419F27', 'C4041013F28', 'C4041144F28', 'C4042518F27', 'C4044214F27', 'C4046378F30', 'C4058016F26', 'C4068912F27', 'C4077218F30', 'C4084389F27', 'C4087631F26', 'C4089748F27', 'C4111336F26', 'C4111555F28', 'C4111921F29', 'C4111934F30', 'C4112566F29', 'C4112629F30', 'C4112750F27', 'C4112751F26', 'C4113616F30', 'C4113661F27', 'C4113826F28', 'C4114666F30', 'C4115267F27', 'C4115658F26', 'C4118545F27', 'C4118566F27', 'C4118714F28', 'C4119083F28', 'C4119449F29', 'C4119589F26', 'C4121116F27', 'C4121357F30', 'C4121516F29', 'C4121657F28', 'C4122188F26', 'C4122284F30', 'C4122981F27', 'C4123819F27', 'C4124356F30', 'C4124379F28', 'C4124842F27', 'C4125088F27', 'C4125938F29', 'C4126676F28', 'C4126724F28', 'C4127788F27', 'C4128072F26', 'C4128811F26', 'C4128849F30', 'C4130392F28', 'C4133943F26', 'C4134522F26', 'C4135463F26', 'C4135690F28', 'C4137522F29', 'C4138078F26', 'C4140460F27', 'C4142313F27', 'C4147165F26', 'C4147655F27', 'C4150445F27', 'C4152681F29', 'C4153835F26', 'C4154675F28', 'C4155179F30', 'C4159538F30', 'C4168485F28', 'C4171683F27', 'C4187085F30', 'C4210286F28', 'C4211577F29', 'C4212624F30', 'C4212848F29', 'C4215435F28', 'C4215765F26', 'C4216868F28', 'C4217475F28', 'C4218322F29', 'C4219611F29', 'C4220987F27', 'C4221842F29', 'C4221883F28', 'C4222355F27', 'C4223987F26', 'C4226347F26', 'C4227286F26', 'C4228037F29', 'C4229416F29', 'C4229779F27', 'C4232626F26', 'C4233083F29', 'C4233271F28', 'C4233357F28', 'C4233777F30', 'C4233918F26', 'C4234855F28', 'C4235418F26', 'C4236685F27', 'C4237391F30', 'C4237819F28', 'C4238627F30', 'C4239164F28', 'C4239415F29', 'C4239435F27', 'C4239777F29', 'C4240131F26', 'C4240572F28', 'C4240882F27', 'C4241131F28', 'C4241277F30', 'C4256449F27', 'C4260775F26', 'C4263614F27', 'C4265021F29', 'C4265437F27', 'C4270475F26', 'C4280367F28', 'C4284470F28', 'C4284621F27', 'C4285415F27', 'C4292018F29', 'C4310431F29', 'C4310747F30', 'C4311483F29', 'C4312292F29', 'C4312623F30', 'C4312823F30', 'C4312914F26', 'C4313819F27', 'C4314148F29', 'C4317277F27', 'C4317966F27', 'C4320351F28', 'C4322318F26', 'C4322926F28', 'C4323124F30', 'C4325056F30', 'C4325058F30', 'C4325549F28', 'C4325824F27', 'C4329922F26', 'C4330069F28', 'C4332881F27', 'C4334884F27', 'C4336652F30', 'C4337759F27', 'C4338040F30', 'C4339557F28', 'C4340130F26', 'C4340570F28', 'C4344473F27', 'C4345488F26', 'C4347288F29', 'C4349515F28', 'C4351092F29', 'C4361250F28', 'C4366015F28', 'C4371984F30', 'C4384378F27', 'C4390880F27', 'C4396980F29', 'C4410515F27', 'C4410768F26', 'C4411276F28', 'C4412621F27', 'C4413445F30', 'C4414261F26', 'C4414519F30', 'C4414930F28', 'C4417014F26', 'C4417336F30', 'C4418392F29', 'C4418868F27', 'C4419122F28', 'C4419716F29', 'C4419777F29', 'C4420265F29', 'C4420923F27', 'C4422237F26', 'C4422445F28', 'C4422846F29', 'C4423377F26', 'C4423940F30', 'C4425190F29', 'C4425589F29', 'C4425756F26', 'C4427411F26', 'C4430126F30', 'C4430232F30', 'C4430358F26', 'C4431017F26', 'C4431954F30', 'C4433031F26', 'C4434056F26', 'C4434461F29', 'C4434566F29', 'C4435224F27', 'C4435488F26', 'C4436638F26', 'C4436724F27', 'C4438289F30', 'C4438981F30', 'C4439726F29', 'C4439836F28', 'C4441749F26', 'C4442212F26', 'C4442240F28', 'C4442332F30', 'C4442352F27', 'C4461243F30', 'C4471637F27', 'C4471791F26', 'C4486736F28', 'C4491950F26', 'C4510948F30', 'C4511425F27', 'C4511569F27', 'C4511618F30', 'C4512039F30', 'C4512111F27', 'C4514168F30', 'C4514467F27', 'C4514841F27', 'C4515126F30', 'C4516226F26', 'C4516356F26', 'C4516743F29', 'C4516768F26', 'C4517054F26', 'C4517491F30', 'C4520234F26', 'C4520454F28', 'C4521365F29', 'C4522040F28', 'C4523438F28', 'C4524229F28', 'C4528628F27', 'C4529640F30', 'C4530046F28', 'C4530746F30', 'C4530992F26', 'C4532559F28', 'C4532837F26', 'C4534359F28', 'C4535016F30', 'C4535056F29', 'C4535666F27', 'C4535985F26', 'C4536484F26', 'C4537253F29', 'C4537544F26', 'C4537843F29', 'C4538048F26', 'C4538816F26', 'C4538889F30', 'C4542791F30', 'C4543423F29', 'C4546036F28', 'C4555191F30', 'C4582225F27', 'C4611551F26', 'C4611811F30', 'C4612575F27', 'C4612911F26', 'C4613120F27', 'C4614882F27', 'C4615514F28', 'C4615830F26', 'C4616813F29', 'C4617320F30', 'C4620242F29', 'C4620375F27', 'C4620376F28', 'C4621916F27', 'C4622266F28', 'C4624211F28', 'C4625158F26', 'C4625436F29', 'C4625560F28', 'C4626724F28', 'C4626964F30', 'C4627863F26', 'C4628234F27', 'C4628285F27', 'C4628722F28', 'C4629979F30', 'C4630945F26', 'C4631031F26', 'C4631768F30', 'C4632063F27', 'C4632066F27', 'C4632948F27', 'C4633983F26', 'C4634464F29', 'C4634874F27', 'C4635869F28', 'C4636034F27', 'C4636170F28', 'C4636289F26', 'C4639634F27', 'C4639960F26', 'C4640944F27', 'C4641069F26', 'C4641462F26', 'C4646260F29', 'C4659217F30', 'C4661159F26', 'C4679147F28', 'C4683623F27', 'C4711073F27', 'C4711238F26', 'C4711884F27', 'C4712278F28', 'C4712467F27', 'C4712581F27', 'C4713151F30', 'C4714424F26', 'C4715919F28', 'C4716124F29', 'C4718258F29', 'C4718332F29', 'C4719072F28', 'C4720540F28', 'C4723053F29', 'C4723829F29', 'C4726149F27', 'C4726364F28', 'C4727430F27', 'C4728148F26', 'C4728165F28', 'C4729479F29', 'C4729689F28', 'C4730548F28', 'C4732829F26', 'C4734392F26', 'C4734969F30', 'C4737185F26', 'C4737749F28', 'C4739634F27', 'C4740262F28', 'C4740464F27', 'C4742369F30', 'C4742692F30', 'C4742853F27', 'C4750649F29', 'C4751960F26', 'C4752475F26', 'C4758714F27', 'C4761655F26', 'C4772488F28', 'C4772711F28', 'C4780349F28', 'C4784319F27', 'C4791059F29', 'C4793487F29', 'C4796763F28', 'C4797278F26', 'C4810055F27', 'C4811048F27', 'C4811538F29', 'C4812058F26', 'C4812459F26', 'C4812559F27', 'C4813358F26', 'C4813772F26', 'C4814635F28', 'C4816616F30', 'C4816768F29', 'C4816855F28', 'C4818648F26', 'C4819040F29', 'C4819139F30', 'C4819173F28', 'C4819452F26', 'C4819749F30', 'C4820128F28', 'C4821738F26', 'C4822441F28', 'C4824712F29', 'C4826029F26', 'C4827941F27', 'C4828646F27', 'C4828726F28', 'C4828766F28', 'C4828871F26', 'C4829452F29', 'C4829848F30', 'C4830119F26', 'C4830845F30', 'C4831066F27', 'C4832061F26', 'C4833456F27', 'C4833919F26', 'C4833986F26', 'C4834356F29', 'C4834811F30', 'C4835052F26', 'C4838017F29', 'C4838111F30', 'C4838455F27', 'C4839171F28', 'C4841461F26', 'C4842487F29', 'C4842814F26', 'C4848815F30', 'C4851549F26', 'C4855186F30', 'C4858022F26', 'C4858349F26', 'C4868380F26', 'C4892229F26', 'C4910777F26', 'C4911234F27', 'C4911986F30', 'C4912669F28', 'C4912759F26', 'C4913815F29', 'C4914449F26', 'C4915611F28', 'C4917221F26', 'C4917673F26', 'C4918280F29', 'C4918633F27', 'C4918714F26', 'C4919920F29', 'C4920464F28', 'C4920858F29', 'C4921314F30', 'C4921529F27', 'C4921783F30', 'C4921881F30', 'C4921979F29', 'C4922384F26', 'C4922884F29', 'C4923047F26', 'C4923315F28', 'C4923563F30', 'C4923816F26', 'C4923970F26', 'C4924464F27', 'C4925069F26', 'C4925446F29', 'C4926024F26', 'C4926163F27', 'C4926668F30', 'C4928192F29', 'C4928212F27', 'C4928280F26', 'C4928753F28', 'C4928823F30', 'C4931088F30', 'C4931856F26', 'C4932176F27', 'C4932834F27', 'C4933074F29', 'C4934057F28', 'C4936221F26', 'C4936744F28', 'C4937440F26', 'C4937772F26', 'C4938048F30', 'C4939425F27', 'C4939643F28', 'C4942084F26', 'C4977281F30', 'C4981658F27', 'C5010671F30', 'C5011113F26', 'C5011481F28', 'C5012337F30', 'C5012486F27', 'C5014038F26', 'C5014054F26', 'C5016518F30', 'C5016768F29', 'C5017058F29', 'C5017140F26', 'C5018157F27', 'C5018382F30', 'C5019816F28', 'C5021460F30', 'C5022366F26', 'C5023881F28', 'C5026078F28', 'C5026091F26', 'C5026627F27', 'C5028611F27', 'C5030470F27', 'C5031572F27', 'C5032021F30', 'C5032238F28', 'C5032756F30', 'C5033985F26', 'C5034273F30', 'C5035036F28', 'C5035334F27', 'C5036462F26', 'C5038145F30', 'C5039424F29', 'C5039576F28', 'C5041889F30', 'C5043413F29', 'C5058111F30', 'C5058745F27', 'C5065456F27', 'C5077211F30', 'C5083627F27', 'C5111182F26', 'C5112013F30', 'C5112039F26', 'C5112466F26', 'C5114064F26', 'C5114245F30', 'C5115113F26', 'C5116741F26', 'C5118138F29', 'C5119451F26', 'C5119460F29', 'C5122352F27', 'C5125069F27', 'C5128462F26', 'C5129128F26', 'C5129379F27', 'C5129640F28', 'C5131359F27', 'C5132175F28', 'C5134421F29', 'C5134758F26', 'C5135367F29', 'C5135990F26', 'C5136031F27', 'C5136634F27', 'C5136814F29', 'C5136858F30', 'C5137112F30', 'C5137390F30', 'C5137489F26', 'C5138939F30', 'C5139930F27', 'C5140536F28', 'C5140646F29', 'C5140839F26', 'C5155446F29', 'C5158283F28', 'C5171327F30', 'C5171531F27', 'C5174845F29', 'C5182261F26', 'C5193291F27', 'C5210170F28', 'C5210358F27', 'C5211091F28', 'C5212040F27', 'C5212357F26', 'C5212390F26', 'C5212421F27', 'C5214548F30', 'C5215029F30', 'C5215812F26', 'C5216981F29', 'C5218273F27', 'C5219437F26', 'C5220414F29', 'C5220822F28', 'C5220934F27', 'C5221776F30', 'C5223876F30', 'C5223918F26', 'C5224034F29', 'C5224791F26', 'C5224946F30', 'C5225347F26', 'C5225729F27', 'C5227116F27', 'C5227650F29', 'C5228091F26', 'C5230044F26', 'C5230841F28', 'C5230858F30', 'C5231055F28', 'C5231571F29', 'C5231723F27', 'C5232136F28', 'C5232190F27', 'C5232652F27', 'C5232817F26', 'C5234075F27', 'C5235353F26', 'C5236967F30', 'C5237413F28', 'C5237491F26', 'C5238311F30', 'C5239347F28', 'C5240473F27', 'C5240885F26', 'C5240945F30', 'C5242031F29', 'C5243485F29', 'C5251765F26', 'C5252657F29', 'C5252959F27', 'C5256978F28', 'C5258252F28', 'C5262548F26', 'C5263077F26', 'C5272768F28', 'C5274147F29', 'C5280913F29', 'C5292183F28', 'C5310044F28', 'C5310075F28', 'C5311228F28', 'C5311524F29', 'C5312667F29', 'C5313674F29', 'C5313941F29', 'C5314192F28', 'C5315422F28', 'C5315767F28', 'C5316481F26', 'C5317131F29', 'C5319069F27', 'C5319772F29', 'C5320091F28', 'C5321128F28', 'C5321417F30', 'C5321823F30', 'C5322447F29', 'C5322614F28', 'C5322964F30', 'C5323358F28', 'C5326471F27', 'C5327526F29', 'C5328912F30', 'C5329444F27', 'C5329651F27', 'C5330317F28', 'C5330466F28', 'C5331258F29', 'C5331614F29', 'C5333661F29', 'C5333662F29', 'C5333976F29', 'C5334437F27', 'C5335434F26', 'C5336175F28', 'C5337258F28', 'C5337463F28', 'C5337477F26', 'C5337876F29', 'C5338663F27', 'C5338735F27', 'C5339268F27', 'C5340486F30', 'C5341041F26', 'C5341657F28', 'C5342184F27', 'C5342264F28', 'C5342748F30', 'C5342986F30', 'C5347726F27', 'C5349611F30', 'C5352991F27', 'C5367750F30', 'C5368863F26', 'C5370481F30', 'C5391711F27', 'C5412590F30', 'C5416632F26', 'C5418539F27', 'C5418758F28', 'C5418760F26', 'C5419780F27', 'C5419874F28', 'C5420043F27', 'C5421113F30', 'C5421186F30', 'C5421877F27', 'C5422458F30', 'C5422484F28', 'C5425977F28', 'C5427954F26', 'C5428273F27', 'C5429326F27', 'C5429453F27', 'C5429562F28', 'C5430821F29', 'C5431363F27', 'C5432736F27', 'C5432864F26', 'C5433614F27', 'C5433855F30', 'C5435779F30', 'C5439844F28', 'C5440068F28', 'C5440112F26', 'C5440333F30', 'C5440466F30', 'C5440735F30', 'C5442725F28', 'C5444937F26', 'C5469452F27', 'C5471648F27', 'C5481125F30', 'C5481932F26', 'C5482533F28', 'C5492328F27', 'C5512834F30', 'C5513182F29', 'C5513665F26', 'C5514531F27', 'C5514746F27', 'C5514815F28', 'C5515563F30', 'C5516917F27', 'C5517117F29', 'C5517266F28', 'C5517424F29', 'C5517658F30', 'C5519573F29', 'C5521327F30', 'C5521879F30', 'C5523511F30', 'C5523534F26', 'C5523885F30', 'C5524455F28', 'C5524820F26', 'C5526187F27', 'C5527935F27', 'C5528121F28', 'C5529921F30', 'C5530366F30', 'C5532278F26', 'C5532639F30', 'C5532953F28', 'C5534269F29', 'C5534474F28', 'C5535775F26', 'C5536472F29', 'C5536612F26', 'C5536932F27', 'C5538023F29', 'C5538366F29', 'C5540124F26', 'C5540467F27', 'C5540554F30', 'C5540733F28', 'C5541928F29', 'C5542838F30', 'C5551685F29', 'C5556813F29', 'C5560690F29', 'C5563152F30', 'C5610432F26', 'C5610479F29', 'C5611433F29', 'C5611575F27', 'C5611626F30', 'C5612114F26', 'C5613018F30', 'C5614230F27', 'C5617943F28', 'C5618033F27', 'C5618624F30', 'C5619417F29', 'C5619623F26', 'C5620135F30', 'C5620625F30', 'C5621348F27', 'C5621551F26', 'C5622265F30', 'C5623518F30', 'C5623929F27', 'C5625073F30', 'C5626134F27', 'C5627265F29', 'C5627341F28', 'C5627771F28', 'C5627843F26', 'C5628986F30', 'C5629183F27', 'C5629576F30', 'C5630317F30', 'C5631120F28', 'C5631782F27', 'C5631913F26', 'C5633889F28', 'C5634174F27', 'C5634973F27', 'C5635062F28', 'C5635257F27', 'C5635439F26', 'C5636023F27', 'C5636046F27', 'C5636635F26', 'C5637720F26', 'C5640052F28', 'C5641029F26', 'C5641643F27', 'C5642724F30', 'C5663048F26', 'C5670460F26', 'C5710265F26', 'C5710578F29', 'C5711478F29', 'C5712051F30', 'C5712520F30', 'C5715320F30', 'C5715978F28', 'C5718038F26', 'C5718314F30', 'C5718320F30', 'C5719091F27', 'C5719335F27', 'C5719578F27', 'C5719823F29', 'C5720221F26', 'C5720758F29', 'C5720972F27', 'C5720982F27', 'C5722114F30', 'C5722864F26', 'C5723668F29', 'C5723818F28', 'C5726789F29', 'C5727255F30', 'C5728243F27', 'C5728688F27', 'C5729620F26', 'C5730536F29', 'C5732542F26', 'C5732750F27', 'C5733131F30', 'C5733354F28', 'C5733879F27', 'C5733950F26', 'C5733989F26', 'C5734161F26', 'C5734367F27', 'C5736152F28', 'C5736273F28', 'C5736468F26', 'C5737962F29', 'C5738327F26', 'C5738788F29', 'C5740437F27', 'C5740937F27', 'C5742455F28', 'C5742482F28', 'C5747757F27', 'C5748439F27', 'C5748467F27', 'C5749329F26', 'C5757570F28', 'C5758157F30', 'C5766435F30', 'C5773076F28', 'C5777060F30', 'C5781975F29', 'C5810287F27', 'C5810638F30', 'C5810930F28', 'C5812214F26', 'C5812565F27', 'C5812572F28', 'C5814337F26', 'C5815027F28', 'C5815219F26', 'C5818351F28', 'C5819991F28', 'C5821477F28', 'C5821589F29', 'C5821962F27', 'C5822129F30', 'C5823090F26', 'C5824326F27', 'C5824744F29', 'C5824982F26', 'C5825777F30', 'C5826356F28', 'C5826782F29', 'C5827823F28', 'C5827842F30', 'C5827911F27', 'C5827979F26', 'C5828058F26', 'C5828348F26', 'C5829928F30', 'C5830336F27', 'C5830470F30', 'C5831460F26', 'C5831523F27', 'C5831680F27', 'C5832517F28', 'C5832945F28', 'C5833652F30', 'C5833975F26', 'C5834738F29', 'C5837078F29', 'C5838268F26', 'C5839317F27', 'C5839715F29', 'C5855289F26', 'C5858180F26', 'C5858321F26', 'C5862564F27', 'C5862580F27', 'C5862749F27', 'C5874452F29', 'C5891114F29', 'C5910632F26', 'C5911480F29', 'C5912424F26', 'C5913946F26', 'C5915615F29', 'C5915771F27', 'C5915792F29', 'C5916418F26', 'C5918340F27', 'C5919549F26', 'C5920625F29', 'C5920853F28', 'C5922547F28', 'C5922985F30', 'C5923039F27', 'C5923392F29', 'C5923657F30', 'C5924078F28', 'C5924350F30', 'C5924427F29', 'C5924738F29', 'C5924882F28', 'C5925844F27', 'C5925962F29', 'C5926453F27', 'C5926626F27', 'C5927582F26', 'C5928622F27', 'C5928678F27', 'C5929150F30', 'C5930913F27', 'C5932139F26', 'C5933016F29', 'C5933663F27', 'C5933745F26', 'C5936262F29', 'C5936885F27', 'C5938086F29', 'C5938722F27', 'C5939737F28', 'C5941263F27', 'C5941635F26', 'C5942016F26', 'C5942456F28', 'C5942616F29', 'C5942860F26', 'C5947771F27', 'C5955191F30', 'C5958776F27', 'C5962542F26', 'C5967171F28', 'C5970886F28', 'C5978752F26', 'C5985566F30', 'C5995280F29', 'C6012023F30', 'C6012446F26', 'C6012637F29', 'C6012831F29', 'C6016378F30', 'C6017381F28', 'C6018829F29', 'C6019126F30', 'C6019354F27', 'C6019920F27', 'C6021411F30', 'C6022579F26', 'C6022735F27', 'C6023087F28', 'C6023115F27', 'C6023447F30', 'C6023974F29', 'C6024385F28', 'C6024456F28', 'C6025483F29', 'C6025644F27', 'C6025712F26', 'C6025716F26', 'C6026461F27', 'C6027869F30', 'C6028415F28', 'C6028489F26', 'C6028585F26', 'C6028611F29', 'C6029064F28', 'C6029254F27', 'C6031369F28', 'C6031512F27', 'C6032626F26', 'C6032966F26', 'C6033015F26', 'C6033531F27', 'C6034289F29', 'C6034374F28', 'C6034690F27', 'C6035374F27', 'C6035486F28', 'C6035660F26', 'C6036259F29', 'C6036474F29', 'C6040175F26', 'C6040189F26', 'C6042740F29', 'C6046282F29', 'C6061063F27', 'C6063084F29', 'C6077490F27', 'C6089687F28', 'C6091772F28', 'C6093236F30', 'C6112325F26', 'C6112423F26', 'C6112779F26', 'C6113054F26', 'C6113734F26', 'C6114748F29', 'C6115856F27', 'C6116647F30', 'C6117244F30', 'C6118331F27', 'C6119431F26', 'C6120814F28', 'C6121263F29', 'C6121838F29', 'C6121969F26', 'C6122181F30', 'C6122452F27', 'C6122680F27', 'C6122913F30', 'C6123034F26', 'C6123862F30', 'C6124673F27', 'C6125138F27', 'C6128513F28', 'C6131821F26', 'C6132286F26', 'C6132426F26', 'C6132931F28', 'C6133364F26', 'C6133467F30', 'C6134018F30', 'C6134263F26', 'C6135035F28', 'C6135661F28', 'C6135728F27', 'C6136381F26', 'C6138119F27', 'C6138855F26', 'C6140429F26', 'C6141853F29', 'C6142074F29', 'C6145491F27', 'C6162868F28', 'C6162871F28', 'C6163026F28', 'C6163058F29', 'C6168326F26', 'C6169728F27', 'C6172759F27', 'C6185511F30', 'C6190392F26', 'C6211017F26', 'C6212015F27', 'C6212852F29', 'C6215135F26', 'C6216772F26', 'C6217338F30', 'C6219184F30', 'C6219434F27', 'C6221273F27', 'C6223139F27', 'C6223316F29', 'C6223427F28', 'C6224332F30', 'C6224360F30', 'C6224439F28', 'C6225291F26', 'C6225717F28', 'C6226716F29', 'C6226962F29', 'C6228266F29', 'C6228458F26', 'C6229633F29', 'C6229789F27', 'C6229836F26', 'C6229977F30', 'C6230569F28', 'C6231365F27', 'C6231889F29', 'C6232092F28', 'C6232551F28', 'C6233714F29', 'C6234181F28', 'C6234244F27', 'C6235050F30', 'C6237389F27', 'C6238012F26', 'C6238041F26', 'C6240049F30', 'C6240421F26', 'C6241665F29', 'C6242428F27', 'C6258065F26', 'C6261240F30', 'C6272772F28', 'C6278822F30', 'C6282475F26', 'C6283942F29', 'C6284370F27', 'C6287758F28', 'C6294783F26', 'C6310649F30', 'C6311647F27', 'C6316737F30', 'C6317274F28', 'C6317355F26', 'C6320420F29', 'C6320622F26', 'C6320968F27', 'C6321130F27', 'C6323570F29', 'C6324022F26', 'C6325670F30', 'C6326138F27', 'C6326573F28', 'C6326980F27', 'C6327560F29', 'C6328330F28', 'C6329411F29', 'C6329860F26', 'C6330588F28', 'C6330725F29', 'C6330820F30', 'C6331537F27', 'C6332522F26', 'C6332575F28', 'C6333734F30', 'C6333833F27', 'C6334492F27', 'C6334538F30', 'C6336048F27', 'C6336613F26', 'C6336770F27', 'C6337249F29', 'C6337578F29', 'C6338415F30', 'C6340231F29', 'C6340425F30', 'C6341627F26', 'C6341875F28', 'C6342068F26', 'C6349644F30', 'C6350645F29', 'C6356856F29', 'C6356912F28', 'C6358063F26', 'C6360275F30', 'C6362566F27', 'C6374531F28', 'C6376051F30', 'C6376167F28', 'C6377912F27', 'C6378137F30', 'C6411030F26', 'C6411539F29', 'C6412079F30', 'C6412183F30', 'C6412411F26', 'C6412691F27', 'C6413630F29', 'C6413644F28', 'C6416121F26', 'C6416924F28', 'C6418323F26', 'C6418440F30', 'C6419327F27', 'C6420331F26', 'C6420415F28', 'C6420966F26', 'C6422225F28', 'C6422978F30', 'C6423986F29', 'C6424338F28', 'C6425755F28', 'C6426138F27', 'C6426635F27', 'C6426770F29', 'C6427926F28', 'C6429044F27', 'C6429747F28', 'C6430683F27', 'C6430823F29', 'C6431715F30', 'C6431882F26', 'C6432173F26', 'C6432887F28', 'C6433770F26', 'C6434211F29', 'C6436361F26', 'C6436665F26', 'C6436937F26', 'C6437344F30', 'C6437872F28', 'C6438385F27', 'C6438781F28', 'C6439878F27', 'C6440389F28', 'C6442432F28', 'C6442880F26', 'C6449065F28', 'C6464265F28', 'C6465951F27', 'C6468437F28', 'C6468514F27', 'C6469156F28', 'C6469491F27', 'C6476028F26', 'C6487015F29', 'C6489553F29', 'C6493524F26', 'C6494424F27', 'C6497155F26', 'C6510065F28', 'C6512855F26', 'C6514329F26', 'C6515388F26', 'C6515668F28', 'C6516040F28', 'C6516312F28', 'C6516632F30', 'C6518523F26', 'C6519415F26', 'C6520962F26', 'C6521051F29', 'C6521920F29', 'C6522935F30', 'C6524244F28', 'C6524731F27', 'C6525818F27', 'C6525979F26', 'C6527412F26', 'C6527466F26', 'C6528914F26', 'C6529883F30', 'C6529889F26', 'C6531223F26', 'C6531812F29', 'C6534322F27', 'C6534514F29', 'C6536854F28', 'C6536968F30', 'C6539531F29', 'C6539711F30', 'C6540230F28', 'C6540382F30', 'C6540848F30', 'C6541075F29', 'C6542242F28', 'C6542686F29', 'C6543033F30', 'C6551963F26', 'C6579734F28', 'C6590374F29', 'C6611372F26', 'C6613285F29', 'C6613680F30', 'C6613912F26', 'C6614083F27', 'C6614084F27', 'C6615679F28', 'C6615872F27', 'C6617238F30', 'C6617487F27', 'C6618580F27', 'C6619033F28', 'C6620062F30', 'C6621235F26', 'C6622145F27', 'C6626783F30', 'C6627023F29', 'C6627041F29', 'C6629117F28', 'C6629243F28', 'C6629444F26', 'C6632014F29', 'C6633660F28', 'C6634177F28', 'C6634249F26', 'C6635422F29', 'C6636854F27', 'C6636892F27', 'C6637691F30', 'C6637828F30', 'C6638547F27', 'C6639062F30', 'C6639691F28', 'C6640386F28', 'C6650649F29', 'C6656782F26', 'C6662683F27', 'C6668111F26', 'C6668332F26', 'C6668855F26', 'C6671341F30', 'C6694442F27', 'C6711115F28', 'C6711192F28', 'C6711585F27', 'C6712663F30', 'C6714017F27', 'C6716387F28', 'C6716646F30', 'C6718692F27', 'C6718946F27', 'C6719189F26', 'C6719354F26', 'C6720139F26', 'C6721184F30', 'C6721267F29', 'C6721274F29', 'C6721462F28', 'C6723369F29', 'C6723564F26', 'C6723759F29', 'C6723835F27', 'C6725175F28', 'C6725384F29', 'C6726129F26', 'C6726257F27', 'C6727932F30', 'C6728691F29', 'C6729653F29', 'C6729743F27', 'C6729946F30', 'C6730076F28', 'C6731069F26', 'C6731781F27', 'C6732518F27', 'C6733455F27', 'C6733544F27', 'C6733671F28', 'C6733877F27', 'C6734283F28', 'C6734324F28', 'C6734365F28', 'C6735122F26', 'C6735235F30', 'C6735321F27', 'C6735768F30', 'C6735783F29', 'C6736080F30', 'C6737645F30', 'C6737724F29', 'C6737855F30', 'C6740429F30', 'C6742132F27', 'C6742917F30', 'C6745423F26', 'C6760289F28', 'C6763069F27', 'C6770311F26', 'C6772722F28', 'C6774678F29', 'C6779867F29', 'C6795281F29', 'C6795474F26', 'C6810620F30', 'C6811030F30', 'C6811259F28', 'C6811546F26', 'C6811551F30', 'C6811612F30', 'C6811984F28', 'C6812476F26', 'C6812573F30', 'C6814182F27', 'C6814664F26', 'C6815631F29', 'C6815916F30', 'C6819916F28', 'C6821343F29', 'C6821437F27', 'C6822173F29', 'C6823848F26', 'C6824354F28', 'C6825781F27', 'C6826152F26', 'C6827628F30', 'C6828232F30', 'C6829159F26', 'C6829890F26', 'C6830465F27', 'C6830569F28', 'C6830643F27', 'C6831386F30', 'C6832279F26', 'C6832683F29', 'C6832863F29', 'C6832983F29', 'C6833861F28', 'C6833977F26', 'C6834788F29', 'C6835081F28', 'C6836075F27', 'C6837420F30', 'C6838729F29', 'C6840465F27', 'C6840568F28', 'C6842016F27', 'C6842372F28', 'C6850643F29', 'C6855119F30', 'C6858743F27', 'C6860232F28', 'C6871456F30', 'C6887669F26', 'C6897156F26', 'C6912184F30', 'C6914430F27', 'C6914448F27', 'C6914631F29', 'C6915487F26', 'C6915632F26', 'C6915950F28', 'C6916368F27', 'C6916743F28', 'C6918826F29', 'C6919029F28', 'C6919080F28', 'C6919318F29', 'C6919470F26', 'C6919530F26', 'C6919954F28', 'C6921820F29', 'C6921873F29', 'C6922468F29', 'C6922690F26', 'C6923021F27', 'C6923146F27', 'C6923372F29', 'C6923832F26', 'C6923923F30', 'C6924136F28', 'C6924388F27', 'C6924664F27', 'C6924745F27', 'C6925953F27', 'C6927315F28', 'C6927619F29', 'C6928375F26', 'C6929192F26', 'C6930331F30', 'C6930366F28', 'C6932420F26', 'C6933033F30', 'C6933788F26', 'C6934254F27', 'C6934321F28', 'C6934327F29', 'C6935258F27', 'C6936543F30', 'C6936742F26', 'C6939414F29', 'C6940144F26', 'C6941589F30', 'C6941748F26', 'C6941837F29', 'C6942848F30', 'C6942850F27', 'C6951574F26', 'C6956886F29', 'C6957256F27', 'C6968418F30', 'C6975058F28', 'C6977330F28', 'C6990539F29', 'C7010326F27', 'C7011392F29', 'C7011732F30', 'C7012047F30', 'C7012169F27', 'C7012444F26', 'C7012662F26', 'C7012817F26', 'C7013324F27', 'C7014972F26', 'C7015360F30', 'C7016429F27', 'C7017392F27', 'C7017530F28', 'C7017969F28', 'C7019773F26', 'C7020382F28', 'C7020515F28', 'C7020956F27', 'C7021547F28', 'C7022972F27', 'C7023715F26', 'C7024478F28', 'C7024755F26', 'C7025785F26', 'C7026150F27', 'C7026887F30', 'C7027443F28', 'C7027959F30', 'C7029821F26', 'C7030341F30', 'C7031257F27', 'C7031284F26', 'C7031422F26', 'C7033385F28', 'C7033822F29', 'C7033855F29', 'C7033977F26', 'C7034180F28', 'C7034640F27', 'C7034845F30', 'C7035677F29', 'C7035824F26', 'C7043291F26', 'C7049271F29', 'C7053311F27', 'C7056827F29', 'C7076056F26', 'C7076115F30', 'C7091739F27', 'C7111238F27', 'C7111872F29', 'C7111881F29', 'C7113080F28', 'C7113118F29', 'C7113421F26', 'C7114062F27', 'C7114828F26', 'C7115992F29', 'C7116347F30', 'C7117653F30', 'C7118314F26', 'C7118620F27', 'C7119960F30', 'C7119986F28', 'C7120879F28', 'C7120945F26', 'C7120975F27', 'C7122124F27', 'C7123913F27', 'C7124390F28', 'C7125114F28', 'C7126643F28', 'C7129426F29', 'C7129983F26', 'C7131865F29', 'C7133748F26', 'C7134375F29', 'C7135813F29', 'C7137519F27', 'C7137576F26', 'C7137683F30', 'C7139867F28', 'C7140084F28', 'C7140084F30', 'C7140448F30', 'C7141237F28', 'C7141760F26', 'C7142114F28', 'C7142824F27', 'C7143635F27', 'C7151523F26', 'C7151918F30', 'C7167932F26', 'C7168528F27', 'C7168636F27', 'C7174482F29', 'C7176279F28', 'C7182246F27', 'C7186462F29', 'C7192370F27', 'C7210074F28', 'C7210847F26', 'C7212069F30', 'C7212559F29', 'C7214831F27', 'C7215563F28', 'C7215615F26', 'C7216020F28', 'C7217138F30', 'C7217860F27', 'C7218676F30', 'C7218844F27', 'C7219320F26', 'C7219320F29', 'C7219437F26', 'C7219590F28', 'C7219916F30', 'C7220883F29', 'C7221187F27', 'C7222551F29', 'C7222577F26', 'C7225960F27', 'C7225965F30', 'C7227131F27', 'C7227960F30', 'C7228488F26', 'C7228649F27', 'C7228759F28', 'C7228953F29', 'C7231673F27', 'C7232019F26', 'C7232557F27', 'C7233017F26', 'C7233239F26', 'C7233647F27', 'C7233984F26', 'C7234590F29', 'C7236014F30', 'C7239243F27', 'C7239433F29', 'C7241230F30', 'C7242478F28', 'C7242753F26', 'C7242855F28', 'C7247652F27', 'C7252634F29', 'C7257350F28', 'C7261615F27', 'C7262575F27', 'C7268384F26', 'C7284763F28', 'C7311515F26', 'C7311891F26', 'C7312019F27', 'C7312078F29', 'C7314440F26', 'C7314741F27', 'C7315156F28', 'C7315170F27', 'C7316779F26', 'C7317090F29', 'C7319355F29', 'C7319412F29', 'C7319732F30', 'C7320278F27', 'C7322636F26', 'C7323056F27', 'C7323117F28', 'C7323182F26', 'C7326158F27', 'C7326679F30', 'C7327176F30', 'C7327218F27', 'C7328866F26', 'C7328935F30', 'C7328936F29', 'C7329465F29', 'C7331279F28', 'C7332564F28', 'C7333555F30', 'C7333983F29', 'C7335014F28', 'C7335146F29', 'C7335860F29', 'C7338044F26', 'C7339486F29', 'C7339534F27', 'C7340214F26', 'C7340272F28', 'C7342073F27', 'C7342191F26', 'C7342581F27', 'C7342684F28', 'C7351276F26', 'C7351612F29', 'C7352655F29', 'C7364772F26', 'C7373422F30', 'C7379290F27', 'C7382652F30', 'C7410157F27', 'C7411012F27', 'C7411032F28', 'C7411430F26', 'C7411980F27', 'C7412644F27', 'C7413156F27', 'C7413321F26', 'C7413652F26', 'C7415715F28', 'C7416012F26', 'C7416534F30', 'C7417419F30', 'C7419023F27', 'C7419860F28', 'C7420282F27', 'C7421313F30', 'C7421988F27', 'C7423779F29', 'C7423944F30', 'C7424136F29', 'C7427729F27', 'C7428114F27', 'C7428262F30', 'C7428927F26', 'C7431629F29', 'C7431754F30', 'C7432981F27', 'C7433587F27', 'C7433867F27', 'C7434439F26', 'C7434673F30', 'C7435313F29', 'C7435527F27', 'C7436059F30', 'C7438987F26', 'C7440022F29', 'C7440280F29', 'C7440883F29', 'C7441579F30', 'C7454928F30', 'C7455828F27', 'C7457562F28', 'C7458161F30', 'C7461222F30', 'C7468582F27', 'C7468642F27', 'C7468943F27', 'C7471348F30', 'C7474191F28', 'C7474987F27', 'C7476061F26', 'C7478639F28', 'C7482746F27', 'C7488241F30', 'C7495255F29', 'C7510921F26', 'C7511859F30', 'C7512016F30', 'C7512656F30', 'C7514387F26', 'C7514557F30', 'C7515252F26', 'C7519862F26', 'C7520734F28', 'C7521869F27', 'C7522127F29', 'C7522364F27', 'C7522924F30', 'C7523868F28', 'C7525141F27', 'C7526257F29', 'C7526583F26', 'C7529368F27', 'C7529978F28', 'C7530325F29', 'C7530818F27', 'C7530938F27', 'C7533385F27', 'C7534651F26', 'C7534771F29', 'C7535113F29', 'C7535239F27', 'C7536136F27', 'C7538266F28', 'C7540389F30', 'C7541219F27', 'C7541263F30', 'C7549184F29', 'C7556286F26', 'C7558112F27', 'C7561266F30', 'C7562658F27', 'C7568438F30', 'C7574691F28', 'C7575039F28', 'C7610714F28', 'C7610847F27', 'C7611026F26', 'C7613460F26', 'C7613557F26', 'C7613673F27', 'C7615134F27', 'C7615320F29', 'C7616760F26', 'C7617257F30', 'C7617671F26', 'C7617991F26', 'C7618126F28', 'C7618970F27', 'C7620838F29', 'C7620918F30', 'C7620954F29', 'C7621816F27', 'C7622269F28', 'C7622934F26', 'C7623044F26', 'C7623446F28', 'C7625343F30', 'C7625828F29', 'C7626870F28', 'C7627369F28', 'C7629278F27', 'C7629515F29', 'C7630638F28', 'C7630861F29', 'C7631637F29', 'C7632154F29', 'C7632159F28', 'C7632856F29', 'C7633425F27', 'C7633580F26', 'C7634755F27', 'C7634845F29', 'C7634940F27', 'C7635323F29', 'C7635425F26', 'C7637362F29', 'C7638030F29', 'C7638055F26', 'C7640888F30', 'C7642422F29', 'C7642572F27', 'C7642828F27', 'C7642856F27', 'C7651949F30', 'C7651953F30', 'C7654618F27', 'C7663076F26', 'C7684347F27', 'C7685452F26', 'C7686172F26', 'C7711468F29', 'C7712150F29', 'C7712435F26', 'C7712577F27', 'C7713549F30', 'C7713663F26', 'C7714278F28', 'C7714664F27', 'C7714950F26', 'C7715232F29', 'C7717613F26', 'C7718092F26', 'C7718451F26', 'C7719654F26', 'C7719656F30', 'C7719930F28', 'C7720826F26', 'C7720946F26', 'C7721812F29', 'C7723829F30', 'C7724682F30', 'C7724882F27', 'C7725824F29', 'C7727162F26', 'C7727778F30', 'C7727960F30', 'C7729790F29', 'C7729823F27', 'C7729915F28', 'C7730039F26', 'C7730344F26', 'C7730855F29', 'C7732979F27', 'C7733372F26', 'C7733655F27', 'C7734639F26', 'C7735645F29', 'C7736358F29', 'C7737017F30', 'C7738856F27', 'C7738889F26', 'C7739543F28', 'C7739779F26', 'C7740229F29', 'C7740311F29', 'C7742626F30', 'C7748846F30', 'C7754090F30', 'C7756940F26', 'C7759538F30', 'C7760144F29', 'C7764054F27', 'C7764531F30', 'C7767380F26', 'C7774181F29', 'C7776072F26', 'C7777747F27', 'C7810329F28', 'C7811168F27', 'C7811769F30', 'C7812433F28', 'C7813981F27', 'C7814621F29', 'C7816160F26', 'C7816353F27', 'C7816536F30', 'C7816588F26', 'C7816967F30', 'C7817583F26', 'C7818468F26', 'C7820419F29', 'C7820843F27', 'C7820886F26', 'C7821476F28', 'C7821557F29', 'C7822359F26', 'C7823391F29', 'C7823937F27', 'C7824441F29', 'C7824519F28', 'C7828391F28', 'C7828942F30', 'C7829724F27', 'C7830817F28', 'C7831824F29', 'C7832945F26', 'C7832977F26', 'C7834612F30', 'C7835177F29', 'C7835213F27', 'C7837415F26', 'C7837712F27', 'C7837913F27', 'C7838479F26', 'C7838779F26', 'C7839547F29', 'C7840641F29', 'C7841011F29', 'C7844256F30', 'C7844662F28', 'C7848515F27', 'C7853786F28', 'C7854378F26', 'C7862688F29', 'C7877257F30', 'C7880375F30', 'C7893485F29', 'C7911342F30', 'C7911565F29', 'C7911652F28', 'C7911660F26', 'C7915050F26', 'C7915737F26', 'C7916317F27', 'C7916440F27', 'C7917176F29', 'C7918629F30', 'C7920953F27', 'C7921120F26', 'C7921389F27', 'C7921489F28', 'C7922363F27', 'C7922538F26', 'C7922659F27', 'C7923732F27', 'C7923852F26', 'C7924533F26', 'C7926181F27', 'C7926188F27', 'C7926465F28', 'C7926669F26', 'C7926767F26', 'C7928080F26', 'C7929485F27', 'C7929975F28', 'C7931620F27', 'C7933439F27', 'C7933814F28', 'C7933948F29', 'C7933991F27', 'C7934243F27', 'C7934364F29', 'C7934942F29', 'C7935818F29', 'C7942736F27', 'C7943280F26', 'C7963078F30', 'C7972045F29', 'C7977219F30', 'C7980846F29', 'C7994383F28', 'C8011075F30', 'C8011785F30', 'C8013325F26', 'C8014177F26', 'C8014567F29', 'C8014661F29', 'C8015180F28', 'C8015638F28', 'C8016751F28', 'C8017416F30', 'C8019980F28', 'C8021183F27', 'C8023081F30', 'C8023150F27', 'C8023577F29', 'C8024254F28', 'C8024626F26', 'C8026135F27', 'C8026554F26', 'C8026830F28', 'C8027140F26', 'C8028053F26', 'C8028365F26', 'C8028624F27', 'C8028639F26', 'C8028656F27', 'C8028938F26', 'C8029914F30', 'C8030976F27', 'C8031118F27', 'C8031814F29', 'C8032086F28', 'C8033255F28', 'C8033725F27', 'C8034360F29', 'C8035031F28', 'C8035069F30', 'C8035855F26', 'C8037144F29', 'C8039940F29', 'C8040928F27', 'C8041146F26', 'C8041654F30', 'C8041828F29', 'C8047443F30', 'C8058117F27', 'C8064327F30', 'C8068591F27', 'C8071317F30', 'C8073441F27', 'C8074043F28', 'C8096775F28', 'C8110366F28', 'C8111566F28', 'C8112341F26', 'C8112744F27', 'C8113035F26', 'C8113935F26', 'C8115045F26', 'C8115061F29', 'C8116291F27', 'C8117328F26', 'C8118038F27', 'C8118878F30', 'C8119147F27', 'C8119182F30', 'C8120187F26', 'C8120331F28', 'C8120913F26', 'C8121271F30', 'C8121515F27', 'C8121827F30', 'C8122469F29', 'C8123358F26', 'C8125339F26', 'C8126165F27', 'C8126772F26', 'C8127254F28', 'C8128082F29', 'C8128211F27', 'C8129082F28', 'C8130133F29', 'C8130462F29', 'C8131515F27', 'C8131524F27', 'C8131573F27', 'C8133828F26', 'C8134377F28', 'C8138048F30', 'C8138323F26', 'C8139557F30', 'C8141511F30', 'C8142089F27', 'C8142754F28', 'C8172280F26', 'C8173034F28', 'C8174435F29', 'C8186037F30', 'C8187987F30', 'C8188043F26', 'C8211434F29', 'C8211562F29', 'C8212315F26', 'C8212518F27', 'C8213652F28', 'C8216047F28', 'C8216665F30', 'C8217788F26', 'C8219439F29', 'C8221356F30', 'C8221847F29', 'C8221867F27', 'C8221890F29', 'C8222318F27', 'C8222343F26', 'C8223869F26', 'C8224320F29', 'C8224672F29', 'C8224874F27', 'C8225448F29', 'C8226184F27', 'C8227169F27', 'C8227879F27', 'C8228282F27', 'C8228290F29', 'C8230222F27', 'C8230564F28', 'C8230768F27', 'C8232028F26', 'C8233423F29', 'C8233968F26', 'C8234732F27', 'C8234980F27', 'C8235171F27', 'C8235362F27', 'C8235474F26', 'C8235940F30', 'C8236038F29', 'C8236613F27', 'C8237076F30', 'C8237962F29', 'C8238839F27', 'C8240040F28', 'C8240882F27', 'C8241061F29', 'C8254643F28', 'C8263016F28', 'C8265432F27', 'C8270530F30', 'C8272718F28', 'C8279741F28', 'C8291149F28', 'C8293244F27', 'C8293466F29', 'C8311855F30', 'C8313859F26', 'C8315289F30', 'C8317384F26', 'C8317426F27', 'C8319365F27', 'C8319570F27', 'C8319721F27', 'C8321075F29', 'C8322383F27', 'C8324269F29', 'C8325226F26', 'C8326173F27', 'C8326486F27', 'C8327415F26', 'C8329619F28', 'C8329842F27', 'C8330320F27', 'C8330327F29', 'C8331059F26', 'C8331362F26', 'C8331882F29', 'C8331887F28', 'C8333835F27', 'C8333970F26', 'C8334141F30', 'C8334542F26', 'C8336628F27', 'C8337245F26', 'C8337488F26', 'C8337958F30', 'C8338454F28', 'C8339554F28', 'C8340116F27', 'C8343244F30', 'C8344944F27', 'C8360748F29', 'C8367529F29', 'C8371028F28', 'C8371187F28', 'C8376385F30', 'C8380386F28', 'C8383752F30', 'C8395225F29', 'C8411417F29', 'C8412522F27', 'C8412678F30', 'C8412968F26', 'C8413052F28', 'C8413957F27', 'C8414352F26', 'C8414434F26', 'C8414857F26', 'C8415376F30', 'C8415871F27', 'C8416332F27', 'C8416675F28', 'C8417755F30', 'C8417815F27', 'C8418384F27', 'C8418436F28', 'C8419635F26', 'C8421276F28', 'C8421433F27', 'C8421885F27', 'C8422747F26', 'C8424356F30', 'C8424379F27', 'C8424744F29', 'C8424871F26', 'C8425153F28', 'C8426067F30', 'C8426150F27', 'C8427279F26', 'C8428763F28', 'C8429080F27', 'C8429368F27', 'C8430432F30', 'C8430865F28', 'C8431070F28', 'C8431481F29', 'C8431624F29', 'C8432226F26', 'C8433077F27', 'C8434057F27', 'C8434187F28', 'C8434689F28', 'C8435329F27', 'C8436946F26', 'C8437120F29', 'C8437280F27', 'C8437536F29', 'C8438475F27', 'C8438749F29', 'C8439261F27', 'C8440139F28', 'C8440755F28', 'C8442372F27', 'C8467741F30', 'C8471978F30', 'C8476061F26', 'C8479033F28', 'C8510065F28', 'C8510135F27', 'C8510451F29', 'C8511032F30', 'C8511037F30', 'C8514289F28', 'C8514427F26', 'C8514519F26', 'C8515046F26', 'C8516322F29', 'C8516779F28', 'C8517134F30', 'C8517143F28', 'C8521457F29', 'C8522183F26', 'C8522970F27', 'C8522972F26', 'C8524347F30', 'C8524446F30', 'C8524522F29', 'C8524945F30', 'C8525564F28', 'C8527125F26', 'C8527223F30', 'C8528132F27', 'C8530869F29', 'C8531652F29', 'C8533040F26', 'C8533042F28', 'C8533120F26', 'C8533453F27', 'C8533920F26', 'C8534171F26', 'C8534742F27', 'C8536668F27', 'C8539624F26', 'C8540938F29', 'C8541659F26', 'C8542414F28', 'C8560227F28', 'C8573949F28', 'C8580848F29', 'C8610032F28', 'C8611178F27', 'C8611286F28', 'C8612565F27', 'C8614665F27', 'C8615719F26', 'C8616781F26', 'C8617478F29', 'C8619227F27', 'C8619740F30', 'C8619934F28', 'C8620020F30', 'C8620984F26', 'C8621372F27', 'C8622411F29', 'C8622434F29', 'C8622742F26', 'C8623748F26', 'C8625381F26', 'C8626969F30', 'C8628113F26', 'C8628733F28', 'C8629083F27', 'C8629163F27', 'C8629667F28', 'C8630018F28', 'C8630240F27', 'C8630336F30', 'C8631272F30', 'C8631484F27', 'C8632240F26', 'C8632547F28', 'C8633883F27', 'C8635490F26', 'C8636163F28', 'C8636480F29', 'C8636835F30', 'C8638079F28', 'C8638873F30', 'C8639469F27', 'C8639719F26', 'C8640131F26', 'C8640185F26', 'C8640431F26', 'C8642125F27', 'C8642359F28', 'C8661615F27', 'C8662516F29', 'C8671890F29', 'C8673491F27', 'C8676047F26', 'C8676265F29', 'C8711087F28', 'C8711474F29', 'C8711721F29', 'C8712214F26', 'C8712737F27', 'C8712892F28', 'C8713691F26', 'C8717638F30', 'C8719351F29', 'C8719577F30', 'C8719624F30', 'C8722188F27', 'C8722323F27', 'C8722689F28', 'C8724858F30', 'C8725484F29', 'C8725776F28', 'C8726161F27', 'C8726212F29', 'C8726467F30', 'C8726966F29', 'C8727450F27', 'C8728392F27', 'C8728611F27', 'C8729574F30', 'C8730518F30', 'C8732359F30', 'C8732682F30', 'C8732989F26', 'C8733262F30', 'C8733662F27', 'C8734227F27', 'C8734556F26', 'C8734725F29', 'C8734943F29', 'C8735226F27', 'C8735234F30', 'C8735359F27', 'C8735678F28', 'C8736169F28', 'C8736461F26', 'C8737122F28', 'C8739017F29', 'C8741784F28', 'C8742141F26', 'C8742839F26', 'C8742881F27', 'C8742984F28', 'C8747018F30', 'C8751249F26', 'C8755138F30', 'C8760848F30', 'C8768445F30', 'C8782283F27', 'C8784355F27', 'C8788869F26', 'C8791072F27', 'C8810284F26', 'C8810429F26', 'C8811013F30', 'C8811137F28', 'C8812090F27', 'C8814060F27', 'C8815164F28', 'C8815213F29', 'C8816813F28', 'C8816976F27', 'C8818317F27', 'C8818778F28', 'C8819214F29', 'C8819340F26', 'C8819376F29', 'C8819975F28', 'C8821379F28', 'C8822359F26', 'C8823591F26', 'C8823981F27', 'C8824850F26', 'C8824940F27', 'C8825077F27', 'C8827992F27', 'C8828991F30', 'C8831332F27', 'C8831868F29', 'C8832192F26', 'C8834312F28', 'C8834647F27', 'C8835171F29', 'C8836544F30', 'C8836886F28', 'C8837726F26', 'C8838131F27', 'C8838288F30', 'C8839568F30', 'C8841935F30', 'C8842850F27', 'C8849090F30', 'C8863020F29', 'C8870826F28', 'C8873943F26', 'C8877080F30', 'C8884360F27', 'C8910472F27', 'C8911343F30', 'C8911578F27', 'C8911973F28', 'C8912559F28', 'C8914153F28', 'C8914779F29', 'C8915311F26', 'C8915755F26', 'C8918139F28', 'C8918353F26', 'C8920559F26', 'C8921145F30', 'C8921552F26', 'C8922162F27', 'C8922917F30', 'C8923079F29', 'C8925647F28', 'C8925715F27', 'C8925737F27', 'C8926155F30', 'C8926813F28', 'C8927855F27', 'C8928038F26', 'C8929860F26', 'C8930214F28', 'C8932922F29', 'C8933787F30', 'C8935077F30', 'C8935111F27', 'C8937477F29', 'C8941224F30', 'C8941837F29', 'C8941976F27', 'C8942952F30', 'C8942978F30', 'C8952673F29', 'C8955116F30', 'C8958246F28', 'C8974256F30', 'C8986786F28', 'C8992616F28', 'C8996237F27', 'C8996755F27', 'C8999684F28', 'C9011043F30', 'C9011469F29', 'C9011739F29', 'C9012867F30', 'C9014391F30', 'C9014923F26', 'C9015153F26', 'C9015288F29', 'C9016024F27', 'C9016190F29', 'C9016578F30', 'C9018369F28', 'C9018467F26', 'C9018862F29', 'C9019459F26', 'C9020727F27', 'C9021363F30', 'C9021441F29', 'C9023473F29', 'C9023592F27', 'C9024830F30', 'C9025368F30', 'C9028928F26', 'C9029426F27', 'C9030077F28', 'C9030273F26', 'C9030947F27', 'C9032588F27', 'C9033940F27', 'C9034686F27', 'C9034689F30', 'C9035034F29', 'C9035332F27', 'C9036475F27', 'C9036476F26', 'C9036664F26', 'C9038672F27', 'C9045859F30', 'C9057961F28', 'C9062569F27', 'C9063412F26', 'C9066188F30', 'C9074487F29', 'C9079738F28', 'C9084327F27', 'C9096720F28', 'C9097081F27', 'C9098748F28', 'Query_User_34'], 'Group_3': ['Query_User_1', 'Query_User_34'], 'Group_4': ['Query_User_34']}\n"
     ]
    }
   ],
   "source": [
    "print(similar_to_34)"
   ]
  },
  {
   "cell_type": "markdown",
   "id": "8a0af938",
   "metadata": {},
   "source": [
    "For example we can take one of the members of a group and compare them to the query user: "
   ]
  },
  {
   "cell_type": "code",
   "execution_count": 192,
   "id": "0384662c",
   "metadata": {},
   "outputs": [
    {
     "data": {
      "text/html": [
       "<div>\n",
       "<style scoped>\n",
       "    .dataframe tbody tr th:only-of-type {\n",
       "        vertical-align: middle;\n",
       "    }\n",
       "\n",
       "    .dataframe tbody tr th {\n",
       "        vertical-align: top;\n",
       "    }\n",
       "\n",
       "    .dataframe thead th {\n",
       "        text-align: right;\n",
       "    }\n",
       "</style>\n",
       "<table border=\"1\" class=\"dataframe\">\n",
       "  <thead>\n",
       "    <tr style=\"text-align: right;\">\n",
       "      <th></th>\n",
       "      <th>New_ID</th>\n",
       "      <th>CustGender</th>\n",
       "      <th>CustomerClassAge</th>\n",
       "      <th>Richness</th>\n",
       "      <th>Expenditure</th>\n",
       "    </tr>\n",
       "  </thead>\n",
       "  <tbody>\n",
       "    <tr>\n",
       "      <th>1034986</th>\n",
       "      <td>Query_User_34</td>\n",
       "      <td>M</td>\n",
       "      <td>age_2</td>\n",
       "      <td>richness_10</td>\n",
       "      <td>exp_10</td>\n",
       "    </tr>\n",
       "  </tbody>\n",
       "</table>\n",
       "</div>"
      ],
      "text/plain": [
       "                New_ID CustGender CustomerClassAge     Richness Expenditure\n",
       "1034986  Query_User_34          M            age_2  richness_10      exp_10"
      ]
     },
     "execution_count": 192,
     "metadata": {},
     "output_type": "execute_result"
    }
   ],
   "source": [
    "df[df['New_ID'] == 'Query_User_34']"
   ]
  },
  {
   "cell_type": "code",
   "execution_count": 193,
   "id": "5bfb9b76",
   "metadata": {},
   "outputs": [
    {
     "data": {
      "text/html": [
       "<div>\n",
       "<style scoped>\n",
       "    .dataframe tbody tr th:only-of-type {\n",
       "        vertical-align: middle;\n",
       "    }\n",
       "\n",
       "    .dataframe tbody tr th {\n",
       "        vertical-align: top;\n",
       "    }\n",
       "\n",
       "    .dataframe thead th {\n",
       "        text-align: right;\n",
       "    }\n",
       "</style>\n",
       "<table border=\"1\" class=\"dataframe\">\n",
       "  <thead>\n",
       "    <tr style=\"text-align: right;\">\n",
       "      <th></th>\n",
       "      <th>New_ID</th>\n",
       "      <th>CustGender</th>\n",
       "      <th>CustomerClassAge</th>\n",
       "      <th>Richness</th>\n",
       "      <th>Expenditure</th>\n",
       "    </tr>\n",
       "  </thead>\n",
       "  <tbody>\n",
       "    <tr>\n",
       "      <th>1034953</th>\n",
       "      <td>Query_User_1</td>\n",
       "      <td>M</td>\n",
       "      <td>age_2</td>\n",
       "      <td>richness_4</td>\n",
       "      <td>exp_10</td>\n",
       "    </tr>\n",
       "    <tr>\n",
       "      <th>1034986</th>\n",
       "      <td>Query_User_34</td>\n",
       "      <td>M</td>\n",
       "      <td>age_2</td>\n",
       "      <td>richness_10</td>\n",
       "      <td>exp_10</td>\n",
       "    </tr>\n",
       "  </tbody>\n",
       "</table>\n",
       "</div>"
      ],
      "text/plain": [
       "                New_ID CustGender CustomerClassAge     Richness Expenditure\n",
       "1034953   Query_User_1          M            age_2   richness_4      exp_10\n",
       "1034986  Query_User_34          M            age_2  richness_10      exp_10"
      ]
     },
     "execution_count": 193,
     "metadata": {},
     "output_type": "execute_result"
    }
   ],
   "source": [
    "df[df['New_ID'].isin(similar_to_query('Query_User_34')['Group_3'])] "
   ]
  }
 ],
 "metadata": {
  "kernelspec": {
   "display_name": "Python 3 (ipykernel)",
   "language": "python",
   "name": "python3"
  },
  "language_info": {
   "codemirror_mode": {
    "name": "ipython",
    "version": 3
   },
   "file_extension": ".py",
   "mimetype": "text/x-python",
   "name": "python",
   "nbconvert_exporter": "python",
   "pygments_lexer": "ipython3",
   "version": "3.9.12"
  }
 },
 "nbformat": 4,
 "nbformat_minor": 5
}
