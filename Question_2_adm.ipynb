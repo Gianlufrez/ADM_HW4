{
 "cells": [
  {
   "cell_type": "markdown",
   "id": "dfd07b88",
   "metadata": {},
   "source": [
    "# QUESTION 2"
   ]
  },
  {
   "cell_type": "markdown",
   "id": "b69fd9d7",
   "metadata": {},
   "source": [
    "COSE DA FARE:\n",
    "- GENERALI\n",
    "    - levare la data da transaction time pero facendo rimanere la variabile datetime perche ho usato dt.hour quando ho creato le variabili\n",
    "    \n",
    "- PULIZIA DATASET/ANALISI PRELIMINARE\n",
    "    - de"
   ]
  },
  {
   "cell_type": "markdown",
   "id": "33d26d5f",
   "metadata": {},
   "source": [
    "## Import dataset and data cleaning"
   ]
  },
  {
   "cell_type": "code",
   "execution_count": 1,
   "id": "2eec795a",
   "metadata": {},
   "outputs": [],
   "source": [
    "import pandas as pd\n",
    "from datetime import datetime\n",
    "import numpy as np\n",
    "import seaborn as sns\n",
    "import matplotlib.pyplot as plt"
   ]
  },
  {
   "cell_type": "code",
   "execution_count": 26,
   "id": "7b5561af",
   "metadata": {},
   "outputs": [],
   "source": [
    "df=pd.read_csv(r\"C:\\Users\\gianl\\Documents\\Università_4°anno(2022-2023\\ADM\\HOMEWORK\\HOMEWORK 4\\bank_transactions.csv\", sep=\",\")"
   ]
  },
  {
   "cell_type": "code",
   "execution_count": 28,
   "id": "75ed8542",
   "metadata": {},
   "outputs": [],
   "source": [
    "#traformiamo le variaibli in datetime\n",
    "df['TransactionTime'] = df['TransactionTime'].apply(lambda x: datetime.strptime(str(x).zfill(6), '%H%M%S'))\n",
    "df['CustomerDOB'] = pd.to_datetime(df['CustomerDOB'], format = '%d/%m/%y', errors = 'coerce')\n",
    "df['TransactionDate'] = pd.to_datetime(df['TransactionDate'], format = '%d/%m/%y', errors = 'coerce')\n",
    "#da transaction time vogliamo levare la data, applichiamo questo comando quidi per avere solo l'oario\n",
    "#df['TransactionTime'] = df['TransactionTime'].apply( lambda d : d.time() ) "
   ]
  },
  {
   "cell_type": "code",
   "execution_count": 22,
   "id": "af517caa",
   "metadata": {},
   "outputs": [
    {
     "data": {
      "text/html": [
       "<div>\n",
       "<style scoped>\n",
       "    .dataframe tbody tr th:only-of-type {\n",
       "        vertical-align: middle;\n",
       "    }\n",
       "\n",
       "    .dataframe tbody tr th {\n",
       "        vertical-align: top;\n",
       "    }\n",
       "\n",
       "    .dataframe thead th {\n",
       "        text-align: right;\n",
       "    }\n",
       "</style>\n",
       "<table border=\"1\" class=\"dataframe\">\n",
       "  <thead>\n",
       "    <tr style=\"text-align: right;\">\n",
       "      <th></th>\n",
       "      <th>TransactionID</th>\n",
       "      <th>CustomerID</th>\n",
       "      <th>CustomerDOB</th>\n",
       "      <th>CustGender</th>\n",
       "      <th>CustLocation</th>\n",
       "      <th>CustAccountBalance</th>\n",
       "      <th>TransactionDate</th>\n",
       "      <th>TransactionTime</th>\n",
       "      <th>TransactionAmount (INR)</th>\n",
       "    </tr>\n",
       "  </thead>\n",
       "  <tbody>\n",
       "    <tr>\n",
       "      <th>0</th>\n",
       "      <td>T1</td>\n",
       "      <td>C5841053</td>\n",
       "      <td>1994-01-10</td>\n",
       "      <td>F</td>\n",
       "      <td>JAMSHEDPUR</td>\n",
       "      <td>17819.05</td>\n",
       "      <td>2016-08-02</td>\n",
       "      <td>1900-01-01 14:32:07</td>\n",
       "      <td>25.0</td>\n",
       "    </tr>\n",
       "    <tr>\n",
       "      <th>1</th>\n",
       "      <td>T2</td>\n",
       "      <td>C2142763</td>\n",
       "      <td>2057-04-04</td>\n",
       "      <td>M</td>\n",
       "      <td>JHAJJAR</td>\n",
       "      <td>2270.69</td>\n",
       "      <td>2016-08-02</td>\n",
       "      <td>1900-01-01 14:18:58</td>\n",
       "      <td>27999.0</td>\n",
       "    </tr>\n",
       "    <tr>\n",
       "      <th>2</th>\n",
       "      <td>T3</td>\n",
       "      <td>C4417068</td>\n",
       "      <td>1996-11-26</td>\n",
       "      <td>F</td>\n",
       "      <td>MUMBAI</td>\n",
       "      <td>17874.44</td>\n",
       "      <td>2016-08-02</td>\n",
       "      <td>1900-01-01 14:27:12</td>\n",
       "      <td>459.0</td>\n",
       "    </tr>\n",
       "    <tr>\n",
       "      <th>3</th>\n",
       "      <td>T4</td>\n",
       "      <td>C5342380</td>\n",
       "      <td>1973-09-14</td>\n",
       "      <td>F</td>\n",
       "      <td>MUMBAI</td>\n",
       "      <td>866503.21</td>\n",
       "      <td>2016-08-02</td>\n",
       "      <td>1900-01-01 14:27:14</td>\n",
       "      <td>2060.0</td>\n",
       "    </tr>\n",
       "    <tr>\n",
       "      <th>4</th>\n",
       "      <td>T5</td>\n",
       "      <td>C9031234</td>\n",
       "      <td>1988-03-24</td>\n",
       "      <td>F</td>\n",
       "      <td>NAVI MUMBAI</td>\n",
       "      <td>6714.43</td>\n",
       "      <td>2016-08-02</td>\n",
       "      <td>1900-01-01 18:11:56</td>\n",
       "      <td>1762.5</td>\n",
       "    </tr>\n",
       "  </tbody>\n",
       "</table>\n",
       "</div>"
      ],
      "text/plain": [
       "  TransactionID CustomerID CustomerDOB CustGender CustLocation  \\\n",
       "0            T1   C5841053  1994-01-10          F   JAMSHEDPUR   \n",
       "1            T2   C2142763  2057-04-04          M      JHAJJAR   \n",
       "2            T3   C4417068  1996-11-26          F       MUMBAI   \n",
       "3            T4   C5342380  1973-09-14          F       MUMBAI   \n",
       "4            T5   C9031234  1988-03-24          F  NAVI MUMBAI   \n",
       "\n",
       "   CustAccountBalance TransactionDate     TransactionTime  \\\n",
       "0            17819.05      2016-08-02 1900-01-01 14:32:07   \n",
       "1             2270.69      2016-08-02 1900-01-01 14:18:58   \n",
       "2            17874.44      2016-08-02 1900-01-01 14:27:12   \n",
       "3           866503.21      2016-08-02 1900-01-01 14:27:14   \n",
       "4             6714.43      2016-08-02 1900-01-01 18:11:56   \n",
       "\n",
       "   TransactionAmount (INR)  \n",
       "0                     25.0  \n",
       "1                  27999.0  \n",
       "2                    459.0  \n",
       "3                   2060.0  \n",
       "4                   1762.5  "
      ]
     },
     "execution_count": 22,
     "metadata": {},
     "output_type": "execute_result"
    }
   ],
   "source": [
    "df.head()"
   ]
  },
  {
   "cell_type": "code",
   "execution_count": 23,
   "id": "654a9bb0",
   "metadata": {
    "scrolled": true
   },
   "outputs": [
    {
     "name": "stdout",
     "output_type": "stream",
     "text": [
      "<class 'pandas.core.frame.DataFrame'>\n",
      "RangeIndex: 1048567 entries, 0 to 1048566\n",
      "Data columns (total 9 columns):\n",
      " #   Column                   Non-Null Count    Dtype         \n",
      "---  ------                   --------------    -----         \n",
      " 0   TransactionID            1048567 non-null  object        \n",
      " 1   CustomerID               1048567 non-null  object        \n",
      " 2   CustomerDOB              987831 non-null   datetime64[ns]\n",
      " 3   CustGender               1047467 non-null  object        \n",
      " 4   CustLocation             1048416 non-null  object        \n",
      " 5   CustAccountBalance       1046198 non-null  float64       \n",
      " 6   TransactionDate          1048567 non-null  datetime64[ns]\n",
      " 7   TransactionTime          1048567 non-null  datetime64[ns]\n",
      " 8   TransactionAmount (INR)  1048567 non-null  float64       \n",
      "dtypes: datetime64[ns](3), float64(2), object(4)\n",
      "memory usage: 72.0+ MB\n"
     ]
    }
   ],
   "source": [
    "df.info()"
   ]
  },
  {
   "cell_type": "code",
   "execution_count": 24,
   "id": "0b394880",
   "metadata": {},
   "outputs": [
    {
     "data": {
      "text/html": [
       "<div>\n",
       "<style scoped>\n",
       "    .dataframe tbody tr th:only-of-type {\n",
       "        vertical-align: middle;\n",
       "    }\n",
       "\n",
       "    .dataframe tbody tr th {\n",
       "        vertical-align: top;\n",
       "    }\n",
       "\n",
       "    .dataframe thead th {\n",
       "        text-align: right;\n",
       "    }\n",
       "</style>\n",
       "<table border=\"1\" class=\"dataframe\">\n",
       "  <thead>\n",
       "    <tr style=\"text-align: right;\">\n",
       "      <th></th>\n",
       "      <th>count</th>\n",
       "      <th>mean</th>\n",
       "      <th>std</th>\n",
       "      <th>min</th>\n",
       "      <th>25%</th>\n",
       "      <th>50%</th>\n",
       "      <th>75%</th>\n",
       "      <th>max</th>\n",
       "    </tr>\n",
       "  </thead>\n",
       "  <tbody>\n",
       "    <tr>\n",
       "      <th>CustAccountBalance</th>\n",
       "      <td>1046198.0</td>\n",
       "      <td>115403.540056</td>\n",
       "      <td>846485.380601</td>\n",
       "      <td>0.0</td>\n",
       "      <td>4721.76</td>\n",
       "      <td>16792.18</td>\n",
       "      <td>57657.36</td>\n",
       "      <td>1.150355e+08</td>\n",
       "    </tr>\n",
       "    <tr>\n",
       "      <th>TransactionAmount (INR)</th>\n",
       "      <td>1048567.0</td>\n",
       "      <td>1574.335003</td>\n",
       "      <td>6574.742978</td>\n",
       "      <td>0.0</td>\n",
       "      <td>161.00</td>\n",
       "      <td>459.03</td>\n",
       "      <td>1200.00</td>\n",
       "      <td>1.560035e+06</td>\n",
       "    </tr>\n",
       "  </tbody>\n",
       "</table>\n",
       "</div>"
      ],
      "text/plain": [
       "                             count           mean            std  min  \\\n",
       "CustAccountBalance       1046198.0  115403.540056  846485.380601  0.0   \n",
       "TransactionAmount (INR)  1048567.0    1574.335003    6574.742978  0.0   \n",
       "\n",
       "                             25%       50%       75%           max  \n",
       "CustAccountBalance       4721.76  16792.18  57657.36  1.150355e+08  \n",
       "TransactionAmount (INR)   161.00    459.03   1200.00  1.560035e+06  "
      ]
     },
     "execution_count": 24,
     "metadata": {},
     "output_type": "execute_result"
    }
   ],
   "source": [
    "df.describe().T"
   ]
  },
  {
   "cell_type": "markdown",
   "id": "fc2ee807",
   "metadata": {},
   "source": [
    "**There are some missing values but very few compering to the rest of the dataset, so we can drop it**"
   ]
  },
  {
   "cell_type": "code",
   "execution_count": 27,
   "id": "c651ac1a",
   "metadata": {},
   "outputs": [
    {
     "data": {
      "text/plain": [
       "TransactionID                 0\n",
       "CustomerID                    0\n",
       "CustomerDOB                3397\n",
       "CustGender                 1100\n",
       "CustLocation                151\n",
       "CustAccountBalance         2369\n",
       "TransactionDate               0\n",
       "TransactionTime               0\n",
       "TransactionAmount (INR)       0\n",
       "dtype: int64"
      ]
     },
     "execution_count": 27,
     "metadata": {},
     "output_type": "execute_result"
    }
   ],
   "source": [
    "df.isna().sum()"
   ]
  },
  {
   "cell_type": "code",
   "execution_count": 40,
   "id": "007be1b6",
   "metadata": {},
   "outputs": [],
   "source": [
    "df = df.dropna()"
   ]
  },
  {
   "cell_type": "markdown",
   "id": "0bd6bb11",
   "metadata": {},
   "source": [
    "**As we can see, there are a lot of birthdates on January 1st, which seems a little strange. There's also some customers birth on 1/1/1800. This is probably some default the bank has where this information is unknown, althought that is a little strange. Since observations that have CustomerDOB equal to 1/1/1800 are an irrelevant part of the whole dataset, we decided to remove them.**"
   ]
  },
  {
   "cell_type": "code",
   "execution_count": 20,
   "id": "bd12573a",
   "metadata": {},
   "outputs": [
    {
     "data": {
      "text/plain": [
       "1/1/1800    57339\n",
       "1/1/89        809\n",
       "1/1/90        784\n",
       "6/8/91        699\n",
       "1/1/91        666\n",
       "            ...  \n",
       "3/9/60          1\n",
       "17/11/52        1\n",
       "11/9/63         1\n",
       "28/2/47         1\n",
       "24/10/44        1\n",
       "Name: CustomerDOB, Length: 17254, dtype: int64"
      ]
     },
     "execution_count": 20,
     "metadata": {},
     "output_type": "execute_result"
    }
   ],
   "source": [
    "df['CustomerDOB'].value_counts()"
   ]
  },
  {
   "cell_type": "code",
   "execution_count": 29,
   "id": "60bc824d",
   "metadata": {},
   "outputs": [],
   "source": [
    "df = df.loc[~(df['CustomerDOB'] == '1/1/1800')]"
   ]
  },
  {
   "cell_type": "markdown",
   "id": "3962d221",
   "metadata": {},
   "source": [
    "**There are people born after 2021, so just subtract 100 from the year of birth of these people**"
   ]
  },
  {
   "cell_type": "code",
   "execution_count": 30,
   "id": "694dd33d",
   "metadata": {},
   "outputs": [],
   "source": [
    "df.loc[df['CustomerDOB'].dt.year >= 2021, ['CustomerDOB']] -= pd.DateOffset(years = 100)"
   ]
  },
  {
   "cell_type": "markdown",
   "id": "937a9747",
   "metadata": {},
   "source": [
    "**Let's have a look how many male and female we have in our dataset**"
   ]
  },
  {
   "cell_type": "code",
   "execution_count": 41,
   "id": "fd2ce1d0",
   "metadata": {
    "scrolled": true
   },
   "outputs": [
    {
     "data": {
      "text/plain": [
       "M    712454\n",
       "F    272868\n",
       "Name: CustGender, dtype: int64"
      ]
     },
     "execution_count": 41,
     "metadata": {},
     "output_type": "execute_result"
    }
   ],
   "source": [
    "df['CustGender'].value_counts()"
   ]
  },
  {
   "cell_type": "markdown",
   "id": "96cc3e13",
   "metadata": {},
   "source": [
    "Let's plot it with an histogram"
   ]
  },
  {
   "cell_type": "code",
   "execution_count": 63,
   "id": "b006f856",
   "metadata": {},
   "outputs": [
    {
     "data": {
      "image/png": "[encoded data removed]",
      "text/plain": [
       "<Figure size 432x288 with 1 Axes>"
      ]
     },
     "metadata": {
      "needs_background": "light"
     },
     "output_type": "display_data"
    }
   ],
   "source": [
    "sns.histplot(df.CustGender,color=\"orange\")\n",
    "plt.show()"
   ]
  },
  {
   "cell_type": "markdown",
   "id": "8c5d266d",
   "metadata": {},
   "source": [
    "Now, we want to see the total amount of transactions for females and males and we also want to see the total balance in the female and male accounts."
   ]
  },
  {
   "cell_type": "code",
   "execution_count": 54,
   "id": "15c9b2a5",
   "metadata": {
    "scrolled": true
   },
   "outputs": [
    {
     "data": {
      "text/plain": [
       "array([<AxesSubplot:ylabel='CustAccountBalance'>,\n",
       "       <AxesSubplot:ylabel='TransactionAmount (INR)'>], dtype=object)"
      ]
     },
     "execution_count": 54,
     "metadata": {},
     "output_type": "execute_result"
    },
    {
     "data": {
      "image/png": "[encoded data removed]",
      "text/plain": [
       "<Figure size 432x288 with 2 Axes>"
      ]
     },
     "metadata": {},
     "output_type": "display_data"
    }
   ],
   "source": [
    "df.groupby(df['CustGender']).sum().plot(kind='pie', subplots=True)"
   ]
  },
  {
   "cell_type": "markdown",
   "id": "58f679bc",
   "metadata": {},
   "source": [
    "As can be seen from the graphs above, the total amount of transactions of females is not proportional to the total balance of female accounts. In fact, women tend to make higher transactions than men in proportion to their balance."
   ]
  },
  {
   "cell_type": "markdown",
   "id": "b0922814",
   "metadata": {},
   "source": [
    "**Handling the dataset we discovered there are 708 transactions which correspond to an amount of 0**"
   ]
  },
  {
   "cell_type": "code",
   "execution_count": 43,
   "id": "d9feec57",
   "metadata": {},
   "outputs": [
    {
     "data": {
      "text/plain": [
       "TransactionID              708\n",
       "CustomerID                 708\n",
       "CustomerDOB                708\n",
       "CustGender                 708\n",
       "CustLocation               708\n",
       "CustAccountBalance         708\n",
       "TransactionDate            708\n",
       "TransactionTime            708\n",
       "TransactionAmount (INR)    708\n",
       "dtype: int64"
      ]
     },
     "execution_count": 43,
     "metadata": {},
     "output_type": "execute_result"
    }
   ],
   "source": [
    "df[df['TransactionAmount (INR)'] == 0].count()"
   ]
  },
  {
   "cell_type": "markdown",
   "id": "428293f8",
   "metadata": {},
   "source": [
    "A transaction with an amount of 0 does not make much sense and is perhaps due to some error or some rejected transition that was recorded anyway. For this reason we drop transactions with an amount equal to 0."
   ]
  },
  {
   "cell_type": "code",
   "execution_count": 44,
   "id": "cfe3bb3f",
   "metadata": {},
   "outputs": [],
   "source": [
    "df = df.drop(df[df['TransactionAmount (INR)'] == 0].index,axis = 0)"
   ]
  },
  {
   "cell_type": "markdown",
   "id": "7a891fe6",
   "metadata": {},
   "source": [
    "**Let's see the total amount of transactions for each month**"
   ]
  },
  {
   "cell_type": "code",
   "execution_count": 56,
   "id": "82fdd376",
   "metadata": {},
   "outputs": [
    {
     "data": {
      "text/plain": [
       "<AxesSubplot:ylabel='TransactionAmount (INR)'>"
      ]
     },
     "execution_count": 56,
     "metadata": {},
     "output_type": "execute_result"
    },
    {
     "data": {
      "image/png": "[encoded data removed]",
      "text/plain": [
       "<Figure size 432x288 with 1 Axes>"
      ]
     },
     "metadata": {},
     "output_type": "display_data"
    }
   ],
   "source": [
    "df.groupby(df['TransactionDate'].dt.month).sum().plot(kind='pie', y='TransactionAmount (INR)')"
   ]
  },
  {
   "cell_type": "markdown",
   "id": "ded6afe8",
   "metadata": {},
   "source": [
    "We can therefore see that within the dataset there are only transactions that took place in the months of August, September and October. In particular, most of the transactions were carried out in August."
   ]
  },
  {
   "cell_type": "markdown",
   "id": "6d2f5cdd",
   "metadata": {},
   "source": [
    "**Let's now take a look at the ages of the individuals within the dataset.**"
   ]
  },
  {
   "cell_type": "code",
   "execution_count": 70,
   "id": "0d9ddf89",
   "metadata": {},
   "outputs": [
    {
     "data": {
      "image/png": "[encoded data removed]",
      "text/plain": [
       "<Figure size 432x288 with 1 Axes>"
      ]
     },
     "metadata": {
      "needs_background": "light"
     },
     "output_type": "display_data"
    }
   ],
   "source": [
    "sns.histplot(df.CustomerDOB.dt.year,bins=50, color=\"green\")\n",
    "plt.show()"
   ]
  },
  {
   "cell_type": "markdown",
   "id": "62cf80f0",
   "metadata": {},
   "source": [
    "It can be seen from the graph that most of the individuals within the dataset in 2016 had an age between 22 to 34 years."
   ]
  },
  {
   "cell_type": "markdown",
   "id": "193d247f",
   "metadata": {},
   "source": [
    "# 2.1"
   ]
  },
  {
   "cell_type": "code",
   "execution_count": 72,
   "id": "1eb8c225",
   "metadata": {},
   "outputs": [],
   "source": [
    "#Let's create a new dataframe called new_df. Here we'll create all the features we have to create.\n",
    "new_df = pd.DataFrame()"
   ]
  },
  {
   "cell_type": "markdown",
   "id": "8c5ff98c",
   "metadata": {},
   "source": [
    "**Number of transactions**"
   ]
  },
  {
   "cell_type": "code",
   "execution_count": 73,
   "id": "b9e3b7e0",
   "metadata": {},
   "outputs": [],
   "source": [
    "new_df['NumTransaction'] = df.groupby(['CustomerID'])['TransactionID'].count()"
   ]
  },
  {
   "cell_type": "markdown",
   "id": "8b368dcd",
   "metadata": {},
   "source": [
    "**Number of transactions > 100 USD**"
   ]
  },
  {
   "cell_type": "markdown",
   "id": "8d64dbe8",
   "metadata": {},
   "source": [
    "We are asked to find transactions with an amount greater than 100 USD. Since, the 'TransactionAmount' feature we have is in INR (it would be the Iranian currency), we first create a variable that corresponds to TransactionAmount, but it is in USD, and then we count how many transactions are greater than 100 USD. To convert INR in USD we must consider that 1 INR is equal to 0.012 USD."
   ]
  },
  {
   "cell_type": "code",
   "execution_count": 115,
   "id": "b0a7f3cb",
   "metadata": {},
   "outputs": [],
   "source": [
    "df['TransactionAmountUSD'] = df['TransactionAmount (INR)']*0.012\n",
    "new_df['AmountTrans>100'] = df[df['TransactionAmountUSD']  > 100].groupby(['CustomerID'])['TransactionAmountUSD'].count()\n",
    "new_df['AmountTrans>100'] = new_df['AmountTrans>100'].fillna(0)\n",
    "new_df['AmountTrans>100'] = new_df['AmountTrans>100'].astype(int)"
   ]
  },
  {
   "cell_type": "markdown",
   "id": "c632b921",
   "metadata": {},
   "source": [
    "**Average amount of transaction**"
   ]
  },
  {
   "cell_type": "code",
   "execution_count": 283,
   "id": "6ec49212",
   "metadata": {},
   "outputs": [],
   "source": [
    "new_df['AvgAmountTransaction'] = df.groupby(['CustomerID'])['TransactionAmount (INR)'].agg('mean')"
   ]
  },
  {
   "cell_type": "markdown",
   "id": "0acb4104",
   "metadata": {},
   "source": [
    "**Average balance**"
   ]
  },
  {
   "cell_type": "code",
   "execution_count": 284,
   "id": "1681f8d1",
   "metadata": {},
   "outputs": [],
   "source": [
    "#The first command is to visualize a float number approximated to two decimal places and not an exponential number.\n",
    "pd.options.display.float_format = '{:.2f}'.format \n",
    "new_df['AvgBalance'] = df.groupby(['CustomerID'])['CustAccountBalance'].agg('mean')"
   ]
  },
  {
   "cell_type": "markdown",
   "id": "128dc8ed",
   "metadata": {},
   "source": [
    "**Average difference between the balance and the transaction amount for each customer**"
   ]
  },
  {
   "cell_type": "code",
   "execution_count": 285,
   "id": "80d3280e",
   "metadata": {},
   "outputs": [],
   "source": [
    "df['provvisoria'] = df['CustAccountBalance'] - df['TransactionAmount (INR)']\n",
    "new_df['AvgDiffBalTrans'] = df.groupby(['CustomerID'])['provvisoria'].agg('mean')\n",
    "del df['provvisoria']"
   ]
  },
  {
   "cell_type": "markdown",
   "id": "7d755e4b",
   "metadata": {},
   "source": [
    "**Gender of customers**"
   ]
  },
  {
   "cell_type": "code",
   "execution_count": 98,
   "id": "fc5820e8",
   "metadata": {},
   "outputs": [],
   "source": [
    "#Since within the dataset there is that a CustomerID corresponds to several people (this is probably due to the fact that\n",
    "#an account can belong to a family and the transactions can be carried out by all the members of the family), we calculate \n",
    "#the mode for each CustomerID for the Gender feature, which is the most frequent gender for each CustomerID.\n",
    "Gender = df.groupby(['CustomerID'])['CustGender'].agg(pd.Series.mode)\n",
    "\n",
    "#By calculating the fashion it is possible that for a CustomerID it is possible that a female and a male have made the same\n",
    "#number of transactions. In this case then we simply consider the first value.\n",
    "for i in Gender.index:\n",
    "    Gender[i]=Gender[i][0]\n",
    "\n",
    "#Let's add the new variable to the 'new_df' dataset.\n",
    "new_df['Gender'] = Gender"
   ]
  },
  {
   "cell_type": "markdown",
   "id": "d031ba50",
   "metadata": {},
   "source": [
    "**Most frequent location of the customer**"
   ]
  },
  {
   "cell_type": "code",
   "execution_count": 151,
   "id": "8a79f473",
   "metadata": {},
   "outputs": [],
   "source": [
    "#We calculate the most frequent location by fashion.\n",
    "frequent_location = df.groupby(['CustomerID'])['CustLocation'].agg(pd.Series.mode)\n",
    "\n",
    "#Since by doing the mode we can have a situation where the most frequent location is double and in this case a list is\n",
    "#created that contains both the most frequent locations, so let's do a for loop to replace the list with the first element\n",
    "#of the list.\n",
    "for i in frequent_location.index:\n",
    "    if type(frequent_location.loc[i])==list:\n",
    "        frequent_location[i] = frequent_location[i][0]\n",
    "        \n",
    "#Let's add the new variable to the 'new_df' dataset.\n",
    "new_df[\"MostFrequentLocation\"] = frequent_location"
   ]
  },
  {
   "cell_type": "markdown",
   "id": "ea733ccb",
   "metadata": {},
   "source": [
    "## Create 20 additional features"
   ]
  },
  {
   "cell_type": "markdown",
   "id": "703a42d2",
   "metadata": {},
   "source": [
    "The addictional futures that we will cosider are:\n",
    "\n",
    "1. Highest transiction amount in USD\n",
    "2. Lowest transiction amount in USD\n",
    "3. Highest balance a customer has ever had in USD\n",
    "4. Lowest balance a customer has ever had in USD\n",
    "5. Average amount of transactions in USD\n",
    "6. Average balance in USD\n",
    "7. Median amount of transactions in USD\n",
    "7. Number of transaction carried out just during August\n",
    "8. Number of transaction carried out just during September\n",
    "9. Number of transaction carried out just during October\n",
    "10. Age of customers on transition days\n",
    "11. Number of transactions > 1000 USD\n",
    "12. Number of transactions > 5000 USD\n",
    "13. Number of transactions > 10000 USD\n",
    "14. Number of times a transition has been made in the most frequent location of the customer\n",
    "15. Number of transitions made in the night (22-06)\n",
    "16. Number of transitions made in the morning (06-14)\n",
    "17. Number of transitions made in the evening (14-22)\n",
    "19. Average time between transactions. Comment: probably won't be that good because most people just have one transaction. But we will remove some features later anyways.\n",
    "20. Season of birthday (Winter, Spring, Summer, Autumn). This is similar information to the birthday, but with less granularity.\n",
    "Comment: Maybe we can use percentage in some places instead of number just to have some variety? E.g. percentage of transactions made at night?"
   ]
  },
  {
   "cell_type": "markdown",
   "id": "700310e7",
   "metadata": {},
   "source": [
    "**Notation regarding variables 5,6,7**"
   ]
  },
  {
   "cell_type": "markdown",
   "id": "2344f5b5",
   "metadata": {},
   "source": [
    "With regard to variables 5, 6 and 7, at the beginning we thought to see the number of transactions carried out during the 4 different seasons, but later we noticed that the transactions within the dataset were all carried out in the months of August, September and October. For this reason we have decided to create 3 new variables that tell us how many transactions users have made in the different months (August, September and October).\n",
    "\n",
    "The following cell shows us that the transactions were actually carried out only in the 3 months indicated above."
   ]
  },
  {
   "cell_type": "code",
   "execution_count": 76,
   "id": "ab276fce",
   "metadata": {
    "scrolled": true
   },
   "outputs": [
    {
     "data": {
      "text/html": [
       "<div>\n",
       "<style scoped>\n",
       "    .dataframe tbody tr th:only-of-type {\n",
       "        vertical-align: middle;\n",
       "    }\n",
       "\n",
       "    .dataframe tbody tr th {\n",
       "        vertical-align: top;\n",
       "    }\n",
       "\n",
       "    .dataframe thead th {\n",
       "        text-align: right;\n",
       "    }\n",
       "</style>\n",
       "<table border=\"1\" class=\"dataframe\">\n",
       "  <thead>\n",
       "    <tr style=\"text-align: right;\">\n",
       "      <th></th>\n",
       "      <th>TransactionID</th>\n",
       "      <th>CustomerID</th>\n",
       "      <th>CustomerDOB</th>\n",
       "      <th>CustGender</th>\n",
       "      <th>CustLocation</th>\n",
       "      <th>CustAccountBalance</th>\n",
       "      <th>TransactionDate</th>\n",
       "      <th>TransactionTime</th>\n",
       "      <th>TransactionAmount (INR)</th>\n",
       "    </tr>\n",
       "    <tr>\n",
       "      <th>TransactionDate</th>\n",
       "      <th></th>\n",
       "      <th></th>\n",
       "      <th></th>\n",
       "      <th></th>\n",
       "      <th></th>\n",
       "      <th></th>\n",
       "      <th></th>\n",
       "      <th></th>\n",
       "      <th></th>\n",
       "    </tr>\n",
       "  </thead>\n",
       "  <tbody>\n",
       "    <tr>\n",
       "      <th>8</th>\n",
       "      <td>613605</td>\n",
       "      <td>613605</td>\n",
       "      <td>613605</td>\n",
       "      <td>613605</td>\n",
       "      <td>613605</td>\n",
       "      <td>613605</td>\n",
       "      <td>613605</td>\n",
       "      <td>613605</td>\n",
       "      <td>613605</td>\n",
       "    </tr>\n",
       "    <tr>\n",
       "      <th>9</th>\n",
       "      <td>368307</td>\n",
       "      <td>368307</td>\n",
       "      <td>368307</td>\n",
       "      <td>368307</td>\n",
       "      <td>368307</td>\n",
       "      <td>368307</td>\n",
       "      <td>368307</td>\n",
       "      <td>368307</td>\n",
       "      <td>368307</td>\n",
       "    </tr>\n",
       "    <tr>\n",
       "      <th>10</th>\n",
       "      <td>3410</td>\n",
       "      <td>3410</td>\n",
       "      <td>3410</td>\n",
       "      <td>3410</td>\n",
       "      <td>3410</td>\n",
       "      <td>3410</td>\n",
       "      <td>3410</td>\n",
       "      <td>3410</td>\n",
       "      <td>3410</td>\n",
       "    </tr>\n",
       "  </tbody>\n",
       "</table>\n",
       "</div>"
      ],
      "text/plain": [
       "                 TransactionID  CustomerID  CustomerDOB  CustGender  \\\n",
       "TransactionDate                                                       \n",
       "8                       613605      613605       613605      613605   \n",
       "9                       368307      368307       368307      368307   \n",
       "10                        3410        3410         3410        3410   \n",
       "\n",
       "                 CustLocation  CustAccountBalance  TransactionDate  \\\n",
       "TransactionDate                                                      \n",
       "8                      613605              613605           613605   \n",
       "9                      368307              368307           368307   \n",
       "10                       3410                3410             3410   \n",
       "\n",
       "                 TransactionTime  TransactionAmount (INR)  \n",
       "TransactionDate                                            \n",
       "8                         613605                   613605  \n",
       "9                         368307                   368307  \n",
       "10                          3410                     3410  "
      ]
     },
     "execution_count": 76,
     "metadata": {},
     "output_type": "execute_result"
    }
   ],
   "source": [
    "df.groupby(df['TransactionDate'].dt.month).count()"
   ]
  },
  {
   "cell_type": "markdown",
   "id": "8e94d696",
   "metadata": {},
   "source": [
    "**Notation regarding variables 9,10,11**"
   ]
  },
  {
   "cell_type": "code",
   "execution_count": 192,
   "id": "723c7857",
   "metadata": {},
   "outputs": [
    {
     "data": {
      "text/plain": [
       "TransactionID              267271\n",
       "CustomerID                 267271\n",
       "CustomerDOB                267271\n",
       "CustGender                 267271\n",
       "CustLocation               267271\n",
       "CustAccountBalance         267271\n",
       "TransactionDate            267271\n",
       "TransactionTime            267271\n",
       "TransactionAmount (INR)    267271\n",
       "dtype: int64"
      ]
     },
     "execution_count": 192,
     "metadata": {},
     "output_type": "execute_result"
    }
   ],
   "source": [
    "#I WOULD LIKE TO MAKE A RANGE BAR PLOT, THAT IS TO COUNT THE NUMBER OF TRANSACTIONS BETWEEN 100 AND 500, THEN THE ONE BETWEEN 500 AND 2000, \n",
    "#THE ONE BETWEEN 2000 AND 10000 ETC AND I WOULD LIKE TO SHOW THAT THERE ARE ONLY 47K TRANSACTIONS> OF 5000 SO I DECIDED TO CREATE THE VARIABLES> 500,\n",
    "#> 1000 and> 5000. THAT MEANS, I TAKEN INTERVALS NOT THAT GREAT BECAUSE OTHERWISE HAD LITTLE SENSE.\n",
    "#FOR NOW I CAN SHOW WHAT I SAID WITH A COMMAND BUT IT WAS NICE TO MAKE A GRAPH THAT SHOWED IT BUT I DON'T KNOW HOW TO DO IT\n",
    "#df[df['TransactionAmount (INR)'] > 500].count()\n",
    "df[df['TransactionAmount (INR)'] > 1000].count()\n",
    "#df[df['TransactionAmount (INR)'] > 2000].count()\n",
    "#df[df['TransactionAmount (INR)'] > 5000].count()"
   ]
  },
  {
   "cell_type": "markdown",
   "id": "b4081bb9",
   "metadata": {},
   "source": [
    "#### Once the additional features considered have been defined, we create them and add them to the 'new_df' dataset."
   ]
  },
  {
   "cell_type": "markdown",
   "id": "669f9966",
   "metadata": {},
   "source": [
    "**1** Highest transiction amount in USD"
   ]
  },
  {
   "cell_type": "code",
   "execution_count": 132,
   "id": "27b84bd6",
   "metadata": {},
   "outputs": [],
   "source": [
    "new_df['MaxAmountTransaction'] = df.groupby(['CustomerID'])['TransactionAmountUSD'].agg('max')"
   ]
  },
  {
   "cell_type": "markdown",
   "id": "01953c14",
   "metadata": {},
   "source": [
    "**2** Lowest transiction amount in USD"
   ]
  },
  {
   "cell_type": "code",
   "execution_count": 133,
   "id": "34fa2530",
   "metadata": {},
   "outputs": [],
   "source": [
    "new_df['MinAmountTransaction'] = df.groupby(['CustomerID'])['TransactionAmountUSD'].agg('min')"
   ]
  },
  {
   "cell_type": "markdown",
   "id": "ddb60d1f",
   "metadata": {},
   "source": [
    "**3** Highest balance a customer has ever had in USD"
   ]
  },
  {
   "cell_type": "code",
   "execution_count": 134,
   "id": "59628f3a",
   "metadata": {},
   "outputs": [],
   "source": [
    "new_df['MaxBalance'] = df.groupby(['CustomerID'])['CustAccountBalanceUSD'].agg('max')"
   ]
  },
  {
   "cell_type": "markdown",
   "id": "23ce1c23",
   "metadata": {},
   "source": [
    "**4** Lowest balance a customer has ever had in USD"
   ]
  },
  {
   "cell_type": "code",
   "execution_count": 135,
   "id": "6154194d",
   "metadata": {},
   "outputs": [],
   "source": [
    "new_df['MinBalance'] = df.groupby(['CustomerID'])['CustAccountBalanceUSD'].agg('min')"
   ]
  },
  {
   "cell_type": "markdown",
   "id": "2993a513",
   "metadata": {},
   "source": [
    "**5** Average amount of transactions in USD"
   ]
  },
  {
   "cell_type": "code",
   "execution_count": 176,
   "id": "edc79767",
   "metadata": {},
   "outputs": [],
   "source": [
    "new_df['AvgAmountTransaction'] = df.groupby(['CustomerID'])['TransactionAmountUSD'].agg('mean')"
   ]
  },
  {
   "cell_type": "markdown",
   "id": "977b3c46",
   "metadata": {},
   "source": [
    "**6** Average balance in USD"
   ]
  },
  {
   "cell_type": "code",
   "execution_count": 180,
   "id": "07af6b1b",
   "metadata": {},
   "outputs": [],
   "source": [
    "pd.options.display.float_format = '{:.2f}'.format \n",
    "df['CustAccountBalanceUSD'] = df['CustAccountBalance']*0.012\n",
    "new_df['AvgBalanceUSD'] = df.groupby(['CustomerID'])['CustAccountBalanceUSD'].agg('mean')"
   ]
  },
  {
   "cell_type": "markdown",
   "id": "09a51b61",
   "metadata": {},
   "source": [
    "**7** Median amount of transactions in USD"
   ]
  },
  {
   "cell_type": "code",
   "execution_count": 181,
   "id": "a7aa2dc5",
   "metadata": {},
   "outputs": [],
   "source": [
    "new_df['MedianAmountTransaction'] = df.groupby(['CustomerID'])['TransactionAmountUSD'].agg('median')"
   ]
  },
  {
   "cell_type": "markdown",
   "id": "7a4082e2",
   "metadata": {},
   "source": [
    "**8** Number of transaction carried out just during August"
   ]
  },
  {
   "cell_type": "code",
   "execution_count": 136,
   "id": "02d7ef3f",
   "metadata": {},
   "outputs": [],
   "source": [
    "in_august = df[df['TransactionDate'].dt.month == 8]\n",
    "new_df['TransactionAugust'] = in_august.groupby(['CustomerID'])['TransactionDate'].count()\n",
    "new_df['TransactionAugust'] = new_df['TransactionAugust'].fillna(0) #we replace NaN values, that is who didn't make transaction in summer, with 0.\n",
    "new_df['Transactio nAugust'] = new_df['TransactionAugust'].astype(int)"
   ]
  },
  {
   "cell_type": "markdown",
   "id": "5e84d977",
   "metadata": {},
   "source": [
    "**9** Number of transaction carried out just during September"
   ]
  },
  {
   "cell_type": "code",
   "execution_count": 137,
   "id": "7c2b4978",
   "metadata": {},
   "outputs": [],
   "source": [
    "in_september = df[df['TransactionDate'].dt.month == 9]\n",
    "new_df['TransactionSeptember'] = in_september.groupby(['CustomerID'])['TransactionDate'].count()\n",
    "new_df['TransactionSeptember'] = new_df['TransactionSeptember'].fillna(0) #we replace NaN values, that is who didn't make transaction in summer, with 0.\n",
    "new_df['TransactionSeptember'] = new_df['TransactionSeptember'].astype(int)"
   ]
  },
  {
   "cell_type": "markdown",
   "id": "37c41e5a",
   "metadata": {},
   "source": [
    "**10** Number of transaction carried out just during October"
   ]
  },
  {
   "cell_type": "code",
   "execution_count": 138,
   "id": "b459b993",
   "metadata": {},
   "outputs": [],
   "source": [
    "in_october = df[df['TransactionDate'].dt.month == 10]\n",
    "new_df['TransactionOctober'] = in_october.groupby(['CustomerID'])['TransactionDate'].count()\n",
    "new_df['TransactionOctober'] = new_df['TransactionOctober'].fillna(0) #we replace NaN values, that is who didn't make transaction in summer, with 0.\n",
    "new_df['TransactionOctober'] = new_df['TransactionOctober'].astype(int)"
   ]
  },
  {
   "cell_type": "markdown",
   "id": "12dfd2e2",
   "metadata": {},
   "source": [
    "**11** Age of customers on transition days"
   ]
  },
  {
   "cell_type": "code",
   "execution_count": 139,
   "id": "d0711a36",
   "metadata": {},
   "outputs": [],
   "source": [
    "ex = df.groupby(['CustomerID'])[['TransactionDate','CustomerDOB']].first()\n",
    "new_df['Age'] = ex['TransactionDate'].dt.year - ex['CustomerDOB'].dt.year"
   ]
  },
  {
   "cell_type": "markdown",
   "id": "1a02344f",
   "metadata": {},
   "source": [
    "**12** Number of transactions > 500 USD"
   ]
  },
  {
   "cell_type": "code",
   "execution_count": 140,
   "id": "6b6eee39",
   "metadata": {},
   "outputs": [],
   "source": [
    "new_df['AmountTrans>1000'] = df[df['TransactionAmountUSD']  > 500].groupby([\"CustomerID\"])[\"TransactionAmountUSD\"].count()\n",
    "new_df['AmountTrans>1000'] = new_df['AmountTrans>1000'].fillna(0)\n",
    "new_df['AmountTrans>1000'] = new_df['AmountTrans>1000'].astype(int)"
   ]
  },
  {
   "cell_type": "markdown",
   "id": "3eabfa5a",
   "metadata": {},
   "source": [
    "**13** Number of transactions > 1000 USD"
   ]
  },
  {
   "cell_type": "code",
   "execution_count": 141,
   "id": "d72f2d3f",
   "metadata": {},
   "outputs": [],
   "source": [
    "new_df['AmountTrans>5000'] = df[df['TransactionAmountUSD']  > 1000].groupby([\"CustomerID\"])[\"TransactionAmountUSD\"].count()\n",
    "new_df['AmountTrans>5000'] = new_df['AmountTrans>5000'].fillna(0)\n",
    "new_df['AmountTrans>5000'] = new_df['AmountTrans>5000'].astype(int)"
   ]
  },
  {
   "cell_type": "markdown",
   "id": "f553ad1a",
   "metadata": {},
   "source": [
    "**14** Number of transactions > 5000 USD"
   ]
  },
  {
   "cell_type": "code",
   "execution_count": 142,
   "id": "9349059f",
   "metadata": {},
   "outputs": [],
   "source": [
    "new_df['AmountTrans>10000'] = df[df['TransactionAmountUSD']  > 5000].groupby([\"CustomerID\"])[\"TransactionAmountUSD\"].count()\n",
    "new_df['AmountTrans>10000'] = new_df['AmountTrans>10000'].fillna(0)\n",
    "new_df['AmountTrans>10000'] = new_df['AmountTrans>10000'].astype(int)"
   ]
  },
  {
   "cell_type": "markdown",
   "id": "eadf21ad",
   "metadata": {},
   "source": [
    "**15** Number of times a transition has been made in the most frequent location of the customer"
   ]
  },
  {
   "cell_type": "code",
   "execution_count": null,
   "id": "6231ef50",
   "metadata": {},
   "outputs": [],
   "source": []
  },
  {
   "cell_type": "markdown",
   "id": "c235ecec",
   "metadata": {},
   "source": [
    "**16** Number of transitions made in the night (23-06)"
   ]
  },
  {
   "cell_type": "code",
   "execution_count": 297,
   "id": "e235d481",
   "metadata": {},
   "outputs": [],
   "source": [
    "after_twentythree = df[df['TransactionTime'].dt.hour >= 23]\n",
    "before_six = df[df['TransactionTime'].dt.hour <= 6]\n",
    "between_twentythree_six = pd.concat([after_twentythree,before_six], ignore_index = True)\n",
    "new_df['Transaction_23-06'] = between_twentythree_six.groupby(['CustomerID'])['TransactionTime'].count()\n",
    "new_df['Transaction_23-06'] = new_df['Transaction_23-06'].fillna(0) #we replace NaN values, that is who didn't make transaction in summer, with 0.\n",
    "new_df['Transaction_23-06'] = new_df['Transaction_23-06'].astype(int)"
   ]
  },
  {
   "cell_type": "markdown",
   "id": "7e5001e8",
   "metadata": {},
   "source": [
    "**17** Number of transitions made in the morning (07-14)"
   ]
  },
  {
   "cell_type": "code",
   "execution_count": 298,
   "id": "62177fd2",
   "metadata": {},
   "outputs": [],
   "source": [
    "after_seven = df[df['TransactionTime'].dt.hour >= 7]\n",
    "between_seven_forteen = after_seven[after_seven['TransactionTime'].dt.hour <= 14]\n",
    "new_df['Transaction_7-14'] = between_seven_forteen.groupby(['CustomerID'])['TransactionTime'].count()\n",
    "new_df['Transaction_7-14'] = new_df['Transaction_7-14'].fillna(0) #we replace NaN values, that is who didn't make transaction in summer, with 0.\n",
    "new_df['Transaction_7-14'] = new_df['Transaction_7-14'].astype(int)"
   ]
  },
  {
   "cell_type": "markdown",
   "id": "de610bef",
   "metadata": {},
   "source": [
    "**18** Number of transitions made in the evening (15-22)"
   ]
  },
  {
   "cell_type": "code",
   "execution_count": 299,
   "id": "bc4bd247",
   "metadata": {},
   "outputs": [],
   "source": [
    "after_fifteen = df[df['TransactionTime'].dt.hour >= 15]\n",
    "between_fifteen_twentytwo = after_fifteen[after_fifteen['TransactionTime'].dt.hour <= 22]\n",
    "new_df['Transaction_15-22'] = between_fifteen_twentytwo.groupby(['CustomerID'])['TransactionTime'].count()\n",
    "new_df['Transaction_15-22'] = new_df['Transaction_15-22'].fillna(0) #we replace NaN values, that is who didn't make transaction in summer, with 0.\n",
    "new_df['Transaction_15-22'] = new_df['Transaction_15-22'].astype(int)"
   ]
  },
  {
   "cell_type": "markdown",
   "id": "40f865d9",
   "metadata": {},
   "source": [
    "**19** Average time between transactions"
   ]
  },
  {
   "cell_type": "code",
   "execution_count": null,
   "id": "9bceeff2",
   "metadata": {},
   "outputs": [],
   "source": []
  },
  {
   "cell_type": "markdown",
   "id": "797d498c",
   "metadata": {},
   "source": [
    "**20** Season of birthday (Winter, Spring, Summer, Autumn). This is similar information to the birthday, but with less granularity."
   ]
  },
  {
   "cell_type": "code",
   "execution_count": 149,
   "id": "acabfb13",
   "metadata": {},
   "outputs": [],
   "source": [
    "new_df['a'] = df.groupby(['CustomerID'])['CustomerDOB'].first()"
   ]
  },
  {
   "cell_type": "code",
   "execution_count": 163,
   "id": "d300339a",
   "metadata": {},
   "outputs": [],
   "source": [
    "b = new_df['a'].dt.month"
   ]
  },
  {
   "cell_type": "code",
   "execution_count": 174,
   "id": "fbb5ca73",
   "metadata": {},
   "outputs": [],
   "source": [
    "for i in b:\n",
    "    if i >= 1 and i <= 4:\n",
    "        i == 1\n",
    "    if i >= 5 and i <= 8:\n",
    "        i == 2\n",
    "    if i >= 10 and i <= 12:\n",
    "        i == 3"
   ]
  },
  {
   "cell_type": "code",
   "execution_count": 175,
   "id": "9ec78015",
   "metadata": {},
   "outputs": [
    {
     "data": {
      "text/plain": [
       "CustomerID\n",
       "C1010011     8\n",
       "C1010012     7\n",
       "C1010014     6\n",
       "C1010018     5\n",
       "C1010024     6\n",
       "            ..\n",
       "C9099836    12\n",
       "C9099877     6\n",
       "C9099919    10\n",
       "C9099941     4\n",
       "C9099956     9\n",
       "Name: a, Length: 838561, dtype: int64"
      ]
     },
     "execution_count": 175,
     "metadata": {},
     "output_type": "execute_result"
    }
   ],
   "source": [
    "b"
   ]
  },
  {
   "cell_type": "code",
   "execution_count": 182,
   "id": "cfbdb711",
   "metadata": {},
   "outputs": [
    {
     "data": {
      "text/html": [
       "<div>\n",
       "<style scoped>\n",
       "    .dataframe tbody tr th:only-of-type {\n",
       "        vertical-align: middle;\n",
       "    }\n",
       "\n",
       "    .dataframe tbody tr th {\n",
       "        vertical-align: top;\n",
       "    }\n",
       "\n",
       "    .dataframe thead th {\n",
       "        text-align: right;\n",
       "    }\n",
       "</style>\n",
       "<table border=\"1\" class=\"dataframe\">\n",
       "  <thead>\n",
       "    <tr style=\"text-align: right;\">\n",
       "      <th></th>\n",
       "      <th>NumTransaction</th>\n",
       "      <th>Gender</th>\n",
       "      <th>AmountTrans&gt;100</th>\n",
       "      <th>AmountTrans&gt;1000</th>\n",
       "      <th>AmountTrans&gt;5000</th>\n",
       "      <th>AmountTrans&gt;10000</th>\n",
       "      <th>location</th>\n",
       "      <th>MaxAmountTransaction</th>\n",
       "      <th>MinAmountTransaction</th>\n",
       "      <th>MaxBalance</th>\n",
       "      <th>...</th>\n",
       "      <th>TransactionAugust</th>\n",
       "      <th>Transactio nAugust</th>\n",
       "      <th>TransactionSeptember</th>\n",
       "      <th>TransactionOctober</th>\n",
       "      <th>Age</th>\n",
       "      <th>MostFrequentLocation</th>\n",
       "      <th>a</th>\n",
       "      <th>AvgAmountTransaction</th>\n",
       "      <th>AvgBalanceUSD</th>\n",
       "      <th>MedianAmountTransaction</th>\n",
       "    </tr>\n",
       "    <tr>\n",
       "      <th>CustomerID</th>\n",
       "      <th></th>\n",
       "      <th></th>\n",
       "      <th></th>\n",
       "      <th></th>\n",
       "      <th></th>\n",
       "      <th></th>\n",
       "      <th></th>\n",
       "      <th></th>\n",
       "      <th></th>\n",
       "      <th></th>\n",
       "      <th></th>\n",
       "      <th></th>\n",
       "      <th></th>\n",
       "      <th></th>\n",
       "      <th></th>\n",
       "      <th></th>\n",
       "      <th></th>\n",
       "      <th></th>\n",
       "      <th></th>\n",
       "      <th></th>\n",
       "      <th></th>\n",
       "    </tr>\n",
       "  </thead>\n",
       "  <tbody>\n",
       "    <tr>\n",
       "      <th>C1010011</th>\n",
       "      <td>2</td>\n",
       "      <td>F</td>\n",
       "      <td>0</td>\n",
       "      <td>0</td>\n",
       "      <td>0</td>\n",
       "      <td>0</td>\n",
       "      <td>NEW DELHI</td>\n",
       "      <td>4750.00</td>\n",
       "      <td>356.00</td>\n",
       "      <td>120180.54</td>\n",
       "      <td>...</td>\n",
       "      <td>1.00</td>\n",
       "      <td>1</td>\n",
       "      <td>1</td>\n",
       "      <td>0</td>\n",
       "      <td>24</td>\n",
       "      <td>[NEW DELHI, NOIDA]</td>\n",
       "      <td>1992-08-19</td>\n",
       "      <td>30.64</td>\n",
       "      <td>916.09</td>\n",
       "      <td>30.64</td>\n",
       "    </tr>\n",
       "    <tr>\n",
       "      <th>C1010012</th>\n",
       "      <td>1</td>\n",
       "      <td>M</td>\n",
       "      <td>0</td>\n",
       "      <td>0</td>\n",
       "      <td>0</td>\n",
       "      <td>0</td>\n",
       "      <td>MUMBAI</td>\n",
       "      <td>1499.00</td>\n",
       "      <td>1499.00</td>\n",
       "      <td>24204.49</td>\n",
       "      <td>...</td>\n",
       "      <td>1.00</td>\n",
       "      <td>1</td>\n",
       "      <td>0</td>\n",
       "      <td>0</td>\n",
       "      <td>22</td>\n",
       "      <td>MUMBAI</td>\n",
       "      <td>1994-07-28</td>\n",
       "      <td>17.99</td>\n",
       "      <td>290.45</td>\n",
       "      <td>17.99</td>\n",
       "    </tr>\n",
       "    <tr>\n",
       "      <th>C1010014</th>\n",
       "      <td>2</td>\n",
       "      <td>F</td>\n",
       "      <td>0</td>\n",
       "      <td>0</td>\n",
       "      <td>0</td>\n",
       "      <td>0</td>\n",
       "      <td>MUMBAI</td>\n",
       "      <td>1205.00</td>\n",
       "      <td>250.00</td>\n",
       "      <td>161848.76</td>\n",
       "      <td>...</td>\n",
       "      <td>2.00</td>\n",
       "      <td>2</td>\n",
       "      <td>0</td>\n",
       "      <td>0</td>\n",
       "      <td>24</td>\n",
       "      <td>MUMBAI</td>\n",
       "      <td>1992-06-04</td>\n",
       "      <td>8.73</td>\n",
       "      <td>1201.36</td>\n",
       "      <td>8.73</td>\n",
       "    </tr>\n",
       "    <tr>\n",
       "      <th>C1010018</th>\n",
       "      <td>1</td>\n",
       "      <td>F</td>\n",
       "      <td>0</td>\n",
       "      <td>0</td>\n",
       "      <td>0</td>\n",
       "      <td>0</td>\n",
       "      <td>CHAMPARAN</td>\n",
       "      <td>30.00</td>\n",
       "      <td>30.00</td>\n",
       "      <td>496.18</td>\n",
       "      <td>...</td>\n",
       "      <td>0.00</td>\n",
       "      <td>0</td>\n",
       "      <td>1</td>\n",
       "      <td>0</td>\n",
       "      <td>26</td>\n",
       "      <td>CHAMPARAN</td>\n",
       "      <td>1990-05-29</td>\n",
       "      <td>0.36</td>\n",
       "      <td>5.95</td>\n",
       "      <td>0.36</td>\n",
       "    </tr>\n",
       "    <tr>\n",
       "      <th>C1010024</th>\n",
       "      <td>1</td>\n",
       "      <td>M</td>\n",
       "      <td>0</td>\n",
       "      <td>0</td>\n",
       "      <td>0</td>\n",
       "      <td>0</td>\n",
       "      <td>KOLKATA</td>\n",
       "      <td>5000.00</td>\n",
       "      <td>5000.00</td>\n",
       "      <td>87058.65</td>\n",
       "      <td>...</td>\n",
       "      <td>1.00</td>\n",
       "      <td>1</td>\n",
       "      <td>0</td>\n",
       "      <td>0</td>\n",
       "      <td>51</td>\n",
       "      <td>KOLKATA</td>\n",
       "      <td>1965-06-21</td>\n",
       "      <td>60.00</td>\n",
       "      <td>1044.70</td>\n",
       "      <td>60.00</td>\n",
       "    </tr>\n",
       "    <tr>\n",
       "      <th>...</th>\n",
       "      <td>...</td>\n",
       "      <td>...</td>\n",
       "      <td>...</td>\n",
       "      <td>...</td>\n",
       "      <td>...</td>\n",
       "      <td>...</td>\n",
       "      <td>...</td>\n",
       "      <td>...</td>\n",
       "      <td>...</td>\n",
       "      <td>...</td>\n",
       "      <td>...</td>\n",
       "      <td>...</td>\n",
       "      <td>...</td>\n",
       "      <td>...</td>\n",
       "      <td>...</td>\n",
       "      <td>...</td>\n",
       "      <td>...</td>\n",
       "      <td>...</td>\n",
       "      <td>...</td>\n",
       "      <td>...</td>\n",
       "      <td>...</td>\n",
       "    </tr>\n",
       "    <tr>\n",
       "      <th>C9099836</th>\n",
       "      <td>1</td>\n",
       "      <td>M</td>\n",
       "      <td>0</td>\n",
       "      <td>0</td>\n",
       "      <td>0</td>\n",
       "      <td>0</td>\n",
       "      <td>BHIWANDI</td>\n",
       "      <td>691.00</td>\n",
       "      <td>691.00</td>\n",
       "      <td>133067.23</td>\n",
       "      <td>...</td>\n",
       "      <td>1.00</td>\n",
       "      <td>1</td>\n",
       "      <td>0</td>\n",
       "      <td>0</td>\n",
       "      <td>26</td>\n",
       "      <td>BHIWANDI</td>\n",
       "      <td>1990-12-24</td>\n",
       "      <td>8.29</td>\n",
       "      <td>1596.81</td>\n",
       "      <td>8.29</td>\n",
       "    </tr>\n",
       "    <tr>\n",
       "      <th>C9099877</th>\n",
       "      <td>1</td>\n",
       "      <td>M</td>\n",
       "      <td>0</td>\n",
       "      <td>0</td>\n",
       "      <td>0</td>\n",
       "      <td>0</td>\n",
       "      <td>BANGALORE</td>\n",
       "      <td>222.00</td>\n",
       "      <td>222.00</td>\n",
       "      <td>96063.46</td>\n",
       "      <td>...</td>\n",
       "      <td>0.00</td>\n",
       "      <td>0</td>\n",
       "      <td>1</td>\n",
       "      <td>0</td>\n",
       "      <td>20</td>\n",
       "      <td>BANGALORE</td>\n",
       "      <td>1996-06-09</td>\n",
       "      <td>2.66</td>\n",
       "      <td>1152.76</td>\n",
       "      <td>2.66</td>\n",
       "    </tr>\n",
       "    <tr>\n",
       "      <th>C9099919</th>\n",
       "      <td>1</td>\n",
       "      <td>M</td>\n",
       "      <td>0</td>\n",
       "      <td>0</td>\n",
       "      <td>0</td>\n",
       "      <td>0</td>\n",
       "      <td>GUNTUR</td>\n",
       "      <td>126.00</td>\n",
       "      <td>126.00</td>\n",
       "      <td>5559.75</td>\n",
       "      <td>...</td>\n",
       "      <td>1.00</td>\n",
       "      <td>1</td>\n",
       "      <td>0</td>\n",
       "      <td>0</td>\n",
       "      <td>23</td>\n",
       "      <td>GUNTUR</td>\n",
       "      <td>1993-10-21</td>\n",
       "      <td>1.51</td>\n",
       "      <td>66.72</td>\n",
       "      <td>1.51</td>\n",
       "    </tr>\n",
       "    <tr>\n",
       "      <th>C9099941</th>\n",
       "      <td>1</td>\n",
       "      <td>M</td>\n",
       "      <td>0</td>\n",
       "      <td>0</td>\n",
       "      <td>0</td>\n",
       "      <td>0</td>\n",
       "      <td>CHENNAI</td>\n",
       "      <td>50.00</td>\n",
       "      <td>50.00</td>\n",
       "      <td>35295.92</td>\n",
       "      <td>...</td>\n",
       "      <td>1.00</td>\n",
       "      <td>1</td>\n",
       "      <td>0</td>\n",
       "      <td>0</td>\n",
       "      <td>21</td>\n",
       "      <td>CHENNAI</td>\n",
       "      <td>1995-04-22</td>\n",
       "      <td>0.60</td>\n",
       "      <td>423.55</td>\n",
       "      <td>0.60</td>\n",
       "    </tr>\n",
       "    <tr>\n",
       "      <th>C9099956</th>\n",
       "      <td>1</td>\n",
       "      <td>M</td>\n",
       "      <td>0</td>\n",
       "      <td>0</td>\n",
       "      <td>0</td>\n",
       "      <td>0</td>\n",
       "      <td>MUSSOORIE</td>\n",
       "      <td>855.00</td>\n",
       "      <td>855.00</td>\n",
       "      <td>6968.93</td>\n",
       "      <td>...</td>\n",
       "      <td>0.00</td>\n",
       "      <td>0</td>\n",
       "      <td>1</td>\n",
       "      <td>0</td>\n",
       "      <td>34</td>\n",
       "      <td>MUSSOORIE</td>\n",
       "      <td>1982-09-11</td>\n",
       "      <td>10.26</td>\n",
       "      <td>83.63</td>\n",
       "      <td>10.26</td>\n",
       "    </tr>\n",
       "  </tbody>\n",
       "</table>\n",
       "<p>838561 rows × 21 columns</p>\n",
       "</div>"
      ],
      "text/plain": [
       "            NumTransaction Gender  AmountTrans>100  AmountTrans>1000  \\\n",
       "CustomerID                                                             \n",
       "C1010011                 2      F                0                 0   \n",
       "C1010012                 1      M                0                 0   \n",
       "C1010014                 2      F                0                 0   \n",
       "C1010018                 1      F                0                 0   \n",
       "C1010024                 1      M                0                 0   \n",
       "...                    ...    ...              ...               ...   \n",
       "C9099836                 1      M                0                 0   \n",
       "C9099877                 1      M                0                 0   \n",
       "C9099919                 1      M                0                 0   \n",
       "C9099941                 1      M                0                 0   \n",
       "C9099956                 1      M                0                 0   \n",
       "\n",
       "            AmountTrans>5000  AmountTrans>10000   location  \\\n",
       "CustomerID                                                   \n",
       "C1010011                   0                  0  NEW DELHI   \n",
       "C1010012                   0                  0     MUMBAI   \n",
       "C1010014                   0                  0     MUMBAI   \n",
       "C1010018                   0                  0  CHAMPARAN   \n",
       "C1010024                   0                  0    KOLKATA   \n",
       "...                      ...                ...        ...   \n",
       "C9099836                   0                  0   BHIWANDI   \n",
       "C9099877                   0                  0  BANGALORE   \n",
       "C9099919                   0                  0     GUNTUR   \n",
       "C9099941                   0                  0    CHENNAI   \n",
       "C9099956                   0                  0  MUSSOORIE   \n",
       "\n",
       "            MaxAmountTransaction  MinAmountTransaction  MaxBalance  ...  \\\n",
       "CustomerID                                                          ...   \n",
       "C1010011                 4750.00                356.00   120180.54  ...   \n",
       "C1010012                 1499.00               1499.00    24204.49  ...   \n",
       "C1010014                 1205.00                250.00   161848.76  ...   \n",
       "C1010018                   30.00                 30.00      496.18  ...   \n",
       "C1010024                 5000.00               5000.00    87058.65  ...   \n",
       "...                          ...                   ...         ...  ...   \n",
       "C9099836                  691.00                691.00   133067.23  ...   \n",
       "C9099877                  222.00                222.00    96063.46  ...   \n",
       "C9099919                  126.00                126.00     5559.75  ...   \n",
       "C9099941                   50.00                 50.00    35295.92  ...   \n",
       "C9099956                  855.00                855.00     6968.93  ...   \n",
       "\n",
       "            TransactionAugust  Transactio nAugust  TransactionSeptember  \\\n",
       "CustomerID                                                                \n",
       "C1010011                 1.00                   1                     1   \n",
       "C1010012                 1.00                   1                     0   \n",
       "C1010014                 2.00                   2                     0   \n",
       "C1010018                 0.00                   0                     1   \n",
       "C1010024                 1.00                   1                     0   \n",
       "...                       ...                 ...                   ...   \n",
       "C9099836                 1.00                   1                     0   \n",
       "C9099877                 0.00                   0                     1   \n",
       "C9099919                 1.00                   1                     0   \n",
       "C9099941                 1.00                   1                     0   \n",
       "C9099956                 0.00                   0                     1   \n",
       "\n",
       "            TransactionOctober  Age  MostFrequentLocation          a  \\\n",
       "CustomerID                                                             \n",
       "C1010011                     0   24    [NEW DELHI, NOIDA] 1992-08-19   \n",
       "C1010012                     0   22                MUMBAI 1994-07-28   \n",
       "C1010014                     0   24                MUMBAI 1992-06-04   \n",
       "C1010018                     0   26             CHAMPARAN 1990-05-29   \n",
       "C1010024                     0   51               KOLKATA 1965-06-21   \n",
       "...                        ...  ...                   ...        ...   \n",
       "C9099836                     0   26              BHIWANDI 1990-12-24   \n",
       "C9099877                     0   20             BANGALORE 1996-06-09   \n",
       "C9099919                     0   23                GUNTUR 1993-10-21   \n",
       "C9099941                     0   21               CHENNAI 1995-04-22   \n",
       "C9099956                     0   34             MUSSOORIE 1982-09-11   \n",
       "\n",
       "           AvgAmountTransaction  AvgBalanceUSD  MedianAmountTransaction  \n",
       "CustomerID                                                               \n",
       "C1010011                  30.64         916.09                    30.64  \n",
       "C1010012                  17.99         290.45                    17.99  \n",
       "C1010014                   8.73        1201.36                     8.73  \n",
       "C1010018                   0.36           5.95                     0.36  \n",
       "C1010024                  60.00        1044.70                    60.00  \n",
       "...                         ...            ...                      ...  \n",
       "C9099836                   8.29        1596.81                     8.29  \n",
       "C9099877                   2.66        1152.76                     2.66  \n",
       "C9099919                   1.51          66.72                     1.51  \n",
       "C9099941                   0.60         423.55                     0.60  \n",
       "C9099956                  10.26          83.63                    10.26  \n",
       "\n",
       "[838561 rows x 21 columns]"
      ]
     },
     "execution_count": 182,
     "metadata": {},
     "output_type": "execute_result"
    }
   ],
   "source": [
    "new_df"
   ]
  },
  {
   "cell_type": "code",
   "execution_count": null,
   "id": "a3fa8991",
   "metadata": {},
   "outputs": [],
   "source": []
  }
 ],
 "metadata": {
  "kernelspec": {
   "display_name": "Python 3 (ipykernel)",
   "language": "python",
   "name": "python3"
  },
  "language_info": {
   "codemirror_mode": {
    "name": "ipython",
    "version": 3
   },
   "file_extension": ".py",
   "mimetype": "text/x-python",
   "name": "python",
   "nbconvert_exporter": "python",
   "pygments_lexer": "ipython3",
   "version": "3.9.12"
  }
 },
 "nbformat": 4,
 "nbformat_minor": 5
}
