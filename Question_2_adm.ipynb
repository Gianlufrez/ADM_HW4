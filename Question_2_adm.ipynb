{
 "cells": [
  {
   "cell_type": "markdown",
   "id": "dfd07b88",
   "metadata": {},
   "source": [
    "# QUESTION 2"
   ]
  },
  {
   "cell_type": "markdown",
   "id": "b69fd9d7",
   "metadata": {},
   "source": [
    "COSE DA FARE:\n",
    "- GENERALI\n",
    "    - vedere la notation regarding 12,13,14 e capire se fare le transaction amount > di 500, 1000, 5000 o di abbassarre i range\n",
    "    \n",
    "    \n",
    "- PULIZIA DATASET/ANALISI PRELIMINARE\n",
    "    - de"
   ]
  },
  {
   "cell_type": "markdown",
   "id": "33d26d5f",
   "metadata": {},
   "source": [
    "## Import dataset and data cleaning"
   ]
  },
  {
   "cell_type": "code",
   "execution_count": 624,
   "id": "2eec795a",
   "metadata": {},
   "outputs": [],
   "source": [
    "import pandas as pd\n",
    "from datetime import datetime\n",
    "import numpy as np\n",
    "import seaborn as sns\n",
    "import matplotlib.pyplot as plt\n",
    "from sklearn import preprocessing\n",
    "from sklearn.decomposition import PCA\n",
    "from matplotlib.pyplot import figure"
   ]
  },
  {
   "cell_type": "code",
   "execution_count": 625,
   "id": "7b5561af",
   "metadata": {},
   "outputs": [],
   "source": [
    "df=pd.read_csv(r\"C:\\Users\\gianl\\Documents\\Università_4°anno(2022-2023\\ADM\\HOMEWORK\\HOMEWORK 4\\bank_transactions.csv\", sep=\",\")"
   ]
  },
  {
   "cell_type": "code",
   "execution_count": 626,
   "id": "75ed8542",
   "metadata": {},
   "outputs": [],
   "source": [
    "#traformiamo le variaibli in datetime\n",
    "df['TransactionTime'] = df['TransactionTime'].apply(lambda x: datetime.strptime(str(x).zfill(6), '%H%M%S'))\n",
    "df['CustomerDOB'] = pd.to_datetime(df['CustomerDOB'], format = '%d/%m/%y', errors = 'coerce')\n",
    "df['TransactionDate'] = pd.to_datetime(df['TransactionDate'], format = '%d/%m/%y', errors = 'coerce')"
   ]
  },
  {
   "cell_type": "code",
   "execution_count": 627,
   "id": "ffa629bd",
   "metadata": {},
   "outputs": [],
   "source": [
    "def times_to_time_deltas(times):\n",
    "    return list(map(lambda time: pd.Timedelta(hours=time.hour, minutes=time.minute, seconds=time.second), times))\n",
    "    \n",
    "df['TransactionDateTime'] = df.TransactionDate + pd.Series(times_to_time_deltas(df.TransactionTime), index=df.TransactionDate.index)\n",
    "del df['TransactionDate']\n",
    "del df['TransactionTime']"
   ]
  },
  {
   "cell_type": "code",
   "execution_count": 298,
   "id": "af517caa",
   "metadata": {},
   "outputs": [
    {
     "data": {
      "text/html": [
       "<div>\n",
       "<style scoped>\n",
       "    .dataframe tbody tr th:only-of-type {\n",
       "        vertical-align: middle;\n",
       "    }\n",
       "\n",
       "    .dataframe tbody tr th {\n",
       "        vertical-align: top;\n",
       "    }\n",
       "\n",
       "    .dataframe thead th {\n",
       "        text-align: right;\n",
       "    }\n",
       "</style>\n",
       "<table border=\"1\" class=\"dataframe\">\n",
       "  <thead>\n",
       "    <tr style=\"text-align: right;\">\n",
       "      <th></th>\n",
       "      <th>TransactionID</th>\n",
       "      <th>CustomerID</th>\n",
       "      <th>CustomerDOB</th>\n",
       "      <th>CustGender</th>\n",
       "      <th>CustLocation</th>\n",
       "      <th>CustAccountBalance</th>\n",
       "      <th>TransactionAmount (INR)</th>\n",
       "      <th>TransactionDateTime</th>\n",
       "      <th>TransactionAmountUSD</th>\n",
       "    </tr>\n",
       "  </thead>\n",
       "  <tbody>\n",
       "    <tr>\n",
       "      <th>0</th>\n",
       "      <td>T1</td>\n",
       "      <td>C5841053</td>\n",
       "      <td>1994-01-10</td>\n",
       "      <td>F</td>\n",
       "      <td>JAMSHEDPUR</td>\n",
       "      <td>17819.05</td>\n",
       "      <td>25.00</td>\n",
       "      <td>2016-08-02 14:32:07</td>\n",
       "      <td>0.30</td>\n",
       "    </tr>\n",
       "    <tr>\n",
       "      <th>1</th>\n",
       "      <td>T2</td>\n",
       "      <td>C2142763</td>\n",
       "      <td>1957-04-04</td>\n",
       "      <td>M</td>\n",
       "      <td>JHAJJAR</td>\n",
       "      <td>2270.69</td>\n",
       "      <td>27999.00</td>\n",
       "      <td>2016-08-02 14:18:58</td>\n",
       "      <td>335.99</td>\n",
       "    </tr>\n",
       "    <tr>\n",
       "      <th>2</th>\n",
       "      <td>T3</td>\n",
       "      <td>C4417068</td>\n",
       "      <td>1996-11-26</td>\n",
       "      <td>F</td>\n",
       "      <td>MUMBAI</td>\n",
       "      <td>17874.44</td>\n",
       "      <td>459.00</td>\n",
       "      <td>2016-08-02 14:27:12</td>\n",
       "      <td>5.51</td>\n",
       "    </tr>\n",
       "    <tr>\n",
       "      <th>3</th>\n",
       "      <td>T4</td>\n",
       "      <td>C5342380</td>\n",
       "      <td>1973-09-14</td>\n",
       "      <td>F</td>\n",
       "      <td>MUMBAI</td>\n",
       "      <td>866503.21</td>\n",
       "      <td>2060.00</td>\n",
       "      <td>2016-08-02 14:27:14</td>\n",
       "      <td>24.72</td>\n",
       "    </tr>\n",
       "    <tr>\n",
       "      <th>4</th>\n",
       "      <td>T5</td>\n",
       "      <td>C9031234</td>\n",
       "      <td>1988-03-24</td>\n",
       "      <td>F</td>\n",
       "      <td>NAVI MUMBAI</td>\n",
       "      <td>6714.43</td>\n",
       "      <td>1762.50</td>\n",
       "      <td>2016-08-02 18:11:56</td>\n",
       "      <td>21.15</td>\n",
       "    </tr>\n",
       "  </tbody>\n",
       "</table>\n",
       "</div>"
      ],
      "text/plain": [
       "  TransactionID CustomerID CustomerDOB CustGender CustLocation  \\\n",
       "0            T1   C5841053  1994-01-10          F   JAMSHEDPUR   \n",
       "1            T2   C2142763  1957-04-04          M      JHAJJAR   \n",
       "2            T3   C4417068  1996-11-26          F       MUMBAI   \n",
       "3            T4   C5342380  1973-09-14          F       MUMBAI   \n",
       "4            T5   C9031234  1988-03-24          F  NAVI MUMBAI   \n",
       "\n",
       "   CustAccountBalance  TransactionAmount (INR) TransactionDateTime  \\\n",
       "0            17819.05                    25.00 2016-08-02 14:32:07   \n",
       "1             2270.69                 27999.00 2016-08-02 14:18:58   \n",
       "2            17874.44                   459.00 2016-08-02 14:27:12   \n",
       "3           866503.21                  2060.00 2016-08-02 14:27:14   \n",
       "4             6714.43                  1762.50 2016-08-02 18:11:56   \n",
       "\n",
       "   TransactionAmountUSD  \n",
       "0                  0.30  \n",
       "1                335.99  \n",
       "2                  5.51  \n",
       "3                 24.72  \n",
       "4                 21.15  "
      ]
     },
     "execution_count": 298,
     "metadata": {},
     "output_type": "execute_result"
    }
   ],
   "source": [
    "df.head()"
   ]
  },
  {
   "cell_type": "code",
   "execution_count": 23,
   "id": "654a9bb0",
   "metadata": {
    "scrolled": true
   },
   "outputs": [
    {
     "name": "stdout",
     "output_type": "stream",
     "text": [
      "<class 'pandas.core.frame.DataFrame'>\n",
      "RangeIndex: 1048567 entries, 0 to 1048566\n",
      "Data columns (total 9 columns):\n",
      " #   Column                   Non-Null Count    Dtype         \n",
      "---  ------                   --------------    -----         \n",
      " 0   TransactionID            1048567 non-null  object        \n",
      " 1   CustomerID               1048567 non-null  object        \n",
      " 2   CustomerDOB              987831 non-null   datetime64[ns]\n",
      " 3   CustGender               1047467 non-null  object        \n",
      " 4   CustLocation             1048416 non-null  object        \n",
      " 5   CustAccountBalance       1046198 non-null  float64       \n",
      " 6   TransactionDate          1048567 non-null  datetime64[ns]\n",
      " 7   TransactionTime          1048567 non-null  datetime64[ns]\n",
      " 8   TransactionAmount (INR)  1048567 non-null  float64       \n",
      "dtypes: datetime64[ns](3), float64(2), object(4)\n",
      "memory usage: 72.0+ MB\n"
     ]
    }
   ],
   "source": [
    "df.info()"
   ]
  },
  {
   "cell_type": "code",
   "execution_count": 24,
   "id": "0b394880",
   "metadata": {},
   "outputs": [
    {
     "data": {
      "text/html": [
       "<div>\n",
       "<style scoped>\n",
       "    .dataframe tbody tr th:only-of-type {\n",
       "        vertical-align: middle;\n",
       "    }\n",
       "\n",
       "    .dataframe tbody tr th {\n",
       "        vertical-align: top;\n",
       "    }\n",
       "\n",
       "    .dataframe thead th {\n",
       "        text-align: right;\n",
       "    }\n",
       "</style>\n",
       "<table border=\"1\" class=\"dataframe\">\n",
       "  <thead>\n",
       "    <tr style=\"text-align: right;\">\n",
       "      <th></th>\n",
       "      <th>count</th>\n",
       "      <th>mean</th>\n",
       "      <th>std</th>\n",
       "      <th>min</th>\n",
       "      <th>25%</th>\n",
       "      <th>50%</th>\n",
       "      <th>75%</th>\n",
       "      <th>max</th>\n",
       "    </tr>\n",
       "  </thead>\n",
       "  <tbody>\n",
       "    <tr>\n",
       "      <th>CustAccountBalance</th>\n",
       "      <td>1046198.0</td>\n",
       "      <td>115403.540056</td>\n",
       "      <td>846485.380601</td>\n",
       "      <td>0.0</td>\n",
       "      <td>4721.76</td>\n",
       "      <td>16792.18</td>\n",
       "      <td>57657.36</td>\n",
       "      <td>1.150355e+08</td>\n",
       "    </tr>\n",
       "    <tr>\n",
       "      <th>TransactionAmount (INR)</th>\n",
       "      <td>1048567.0</td>\n",
       "      <td>1574.335003</td>\n",
       "      <td>6574.742978</td>\n",
       "      <td>0.0</td>\n",
       "      <td>161.00</td>\n",
       "      <td>459.03</td>\n",
       "      <td>1200.00</td>\n",
       "      <td>1.560035e+06</td>\n",
       "    </tr>\n",
       "  </tbody>\n",
       "</table>\n",
       "</div>"
      ],
      "text/plain": [
       "                             count           mean            std  min  \\\n",
       "CustAccountBalance       1046198.0  115403.540056  846485.380601  0.0   \n",
       "TransactionAmount (INR)  1048567.0    1574.335003    6574.742978  0.0   \n",
       "\n",
       "                             25%       50%       75%           max  \n",
       "CustAccountBalance       4721.76  16792.18  57657.36  1.150355e+08  \n",
       "TransactionAmount (INR)   161.00    459.03   1200.00  1.560035e+06  "
      ]
     },
     "execution_count": 24,
     "metadata": {},
     "output_type": "execute_result"
    }
   ],
   "source": [
    "df.describe().T"
   ]
  },
  {
   "cell_type": "markdown",
   "id": "fc2ee807",
   "metadata": {},
   "source": [
    "**There are some missing values but very few compering to the rest of the dataset, so we can drop it**"
   ]
  },
  {
   "cell_type": "code",
   "execution_count": 282,
   "id": "c651ac1a",
   "metadata": {},
   "outputs": [
    {
     "data": {
      "text/plain": [
       "TransactionID                 0\n",
       "CustomerID                    0\n",
       "CustomerDOB                3397\n",
       "CustGender                 1100\n",
       "CustLocation                151\n",
       "CustAccountBalance         2369\n",
       "TransactionDate               0\n",
       "TransactionTime               0\n",
       "TransactionAmount (INR)       0\n",
       "dtype: int64"
      ]
     },
     "execution_count": 282,
     "metadata": {},
     "output_type": "execute_result"
    }
   ],
   "source": [
    "df.isna().sum()"
   ]
  },
  {
   "cell_type": "code",
   "execution_count": 628,
   "id": "007be1b6",
   "metadata": {},
   "outputs": [],
   "source": [
    "df = df.dropna()"
   ]
  },
  {
   "cell_type": "markdown",
   "id": "0bd6bb11",
   "metadata": {},
   "source": [
    "**As we can see, there are a lot of birthdates on January 1st, which seems a little strange. There's also some customers birth on 1/1/1800. This is probably some default the bank has where this information is unknown, althought that is a little strange. Since observations that have CustomerDOB equal to 1/1/1800 are an irrelevant part of the whole dataset, we decided to remove them.**"
   ]
  },
  {
   "cell_type": "code",
   "execution_count": 283,
   "id": "bd12573a",
   "metadata": {},
   "outputs": [
    {
     "data": {
      "text/plain": [
       "1/1/1800    57339\n",
       "1/1/89        809\n",
       "1/1/90        784\n",
       "6/8/91        699\n",
       "1/1/91        666\n",
       "            ...  \n",
       "3/9/60          1\n",
       "17/11/52        1\n",
       "11/9/63         1\n",
       "28/2/47         1\n",
       "24/10/44        1\n",
       "Name: CustomerDOB, Length: 17254, dtype: int64"
      ]
     },
     "execution_count": 283,
     "metadata": {},
     "output_type": "execute_result"
    }
   ],
   "source": [
    "df['CustomerDOB'].value_counts()"
   ]
  },
  {
   "cell_type": "code",
   "execution_count": 288,
   "id": "60bc824d",
   "metadata": {},
   "outputs": [],
   "source": [
    "df = df.loc[~(df['CustomerDOB'] == '1/1/1800')]"
   ]
  },
  {
   "cell_type": "markdown",
   "id": "3962d221",
   "metadata": {},
   "source": [
    "**There are people born after 2021, so just subtract 100 from the year of birth of these people**"
   ]
  },
  {
   "cell_type": "code",
   "execution_count": 289,
   "id": "694dd33d",
   "metadata": {},
   "outputs": [],
   "source": [
    "df.loc[df['CustomerDOB'].dt.year >= 2021, ['CustomerDOB']] -= pd.DateOffset(years = 100)"
   ]
  },
  {
   "cell_type": "markdown",
   "id": "937a9747",
   "metadata": {},
   "source": [
    "**Let's have a look how many male and female we have in our dataset**"
   ]
  },
  {
   "cell_type": "code",
   "execution_count": 41,
   "id": "fd2ce1d0",
   "metadata": {
    "scrolled": true
   },
   "outputs": [
    {
     "data": {
      "text/plain": [
       "M    712454\n",
       "F    272868\n",
       "Name: CustGender, dtype: int64"
      ]
     },
     "execution_count": 41,
     "metadata": {},
     "output_type": "execute_result"
    }
   ],
   "source": [
    "df['CustGender'].value_counts()"
   ]
  },
  {
   "cell_type": "markdown",
   "id": "96cc3e13",
   "metadata": {},
   "source": [
    "Let's plot it with an histogram"
   ]
  },
  {
   "cell_type": "code",
   "execution_count": 63,
   "id": "b006f856",
   "metadata": {},
   "outputs": [
    {
     "data": {
      "image/png": "[encoded data removed]",
      "text/plain": [
       "<Figure size 432x288 with 1 Axes>"
      ]
     },
     "metadata": {
      "needs_background": "light"
     },
     "output_type": "display_data"
    }
   ],
   "source": [
    "sns.histplot(df.CustGender,color=\"orange\")\n",
    "plt.show()"
   ]
  },
  {
   "cell_type": "code",
   "execution_count": null,
   "id": "427a1d9d",
   "metadata": {},
   "outputs": [],
   "source": [
    "labels = df.CustGender.value_counts().keys()\n",
    "values = df.CustGender.value_counts().values\n",
    "explode = (0.1,0)\n",
    "\n",
    "plt.pie(values,labels=labels,explode=explode,shadow=True,autopct='%1.2f%%');"
   ]
  },
  {
   "cell_type": "markdown",
   "id": "8c5d266d",
   "metadata": {},
   "source": [
    "Now, we want to see the total amount of transactions for females and males and we also want to see the total balance in the female and male accounts."
   ]
  },
  {
   "cell_type": "code",
   "execution_count": 54,
   "id": "15c9b2a5",
   "metadata": {
    "scrolled": true
   },
   "outputs": [
    {
     "data": {
      "text/plain": [
       "array([<AxesSubplot:ylabel='CustAccountBalance'>,\n",
       "       <AxesSubplot:ylabel='TransactionAmount (INR)'>], dtype=object)"
      ]
     },
     "execution_count": 54,
     "metadata": {},
     "output_type": "execute_result"
    },
    {
     "data": {
      "image/png": "[encoded data removed]",
      "text/plain": [
       "<Figure size 432x288 with 2 Axes>"
      ]
     },
     "metadata": {},
     "output_type": "display_data"
    }
   ],
   "source": [
    "df.groupby(df['CustGender']).sum().plot(kind='pie', subplots=True)"
   ]
  },
  {
   "cell_type": "markdown",
   "id": "58f679bc",
   "metadata": {},
   "source": [
    "As can be seen from the graphs above, the total amount of transactions of females is not proportional to the total balance of female accounts. In fact, women tend to make higher transactions than men in proportion to their balance."
   ]
  },
  {
   "cell_type": "markdown",
   "id": "b0922814",
   "metadata": {},
   "source": [
    "**Handling the dataset we discovered there are 708 transactions which correspond to an amount of 0**"
   ]
  },
  {
   "cell_type": "code",
   "execution_count": 43,
   "id": "d9feec57",
   "metadata": {},
   "outputs": [
    {
     "data": {
      "text/plain": [
       "TransactionID              708\n",
       "CustomerID                 708\n",
       "CustomerDOB                708\n",
       "CustGender                 708\n",
       "CustLocation               708\n",
       "CustAccountBalance         708\n",
       "TransactionDate            708\n",
       "TransactionTime            708\n",
       "TransactionAmount (INR)    708\n",
       "dtype: int64"
      ]
     },
     "execution_count": 43,
     "metadata": {},
     "output_type": "execute_result"
    }
   ],
   "source": [
    "df[df['TransactionAmount (INR)'] == 0].count()"
   ]
  },
  {
   "cell_type": "markdown",
   "id": "428293f8",
   "metadata": {},
   "source": [
    "A transaction with an amount of 0 does not make much sense and is perhaps due to some error or some rejected transition that was recorded anyway. For this reason we drop transactions with an amount equal to 0."
   ]
  },
  {
   "cell_type": "code",
   "execution_count": 8,
   "id": "cfe3bb3f",
   "metadata": {},
   "outputs": [],
   "source": [
    "df = df.drop(df[df['TransactionAmount (INR)'] == 0].index,axis = 0)"
   ]
  },
  {
   "cell_type": "markdown",
   "id": "7a891fe6",
   "metadata": {},
   "source": [
    "**Let's see the total amount of transactions for each month**"
   ]
  },
  {
   "cell_type": "code",
   "execution_count": 56,
   "id": "82fdd376",
   "metadata": {},
   "outputs": [
    {
     "data": {
      "text/plain": [
       "<AxesSubplot:ylabel='TransactionAmount (INR)'>"
      ]
     },
     "execution_count": 56,
     "metadata": {},
     "output_type": "execute_result"
    },
    {
     "data": {
      "image/png": "[encoded data removed]",
      "text/plain": [
       "<Figure size 432x288 with 1 Axes>"
      ]
     },
     "metadata": {},
     "output_type": "display_data"
    }
   ],
   "source": [
    "df.groupby(df['TransactionDate'].dt.month).sum().plot(kind='pie', y='TransactionAmount (INR)')"
   ]
  },
  {
   "cell_type": "markdown",
   "id": "ded6afe8",
   "metadata": {},
   "source": [
    "We can therefore see that within the dataset there are only transactions that took place in the months of August, September and October. In particular, most of the transactions were carried out in August."
   ]
  },
  {
   "cell_type": "markdown",
   "id": "6d2f5cdd",
   "metadata": {},
   "source": [
    "**Let's now take a look at the ages of the individuals within the dataset.**"
   ]
  },
  {
   "cell_type": "code",
   "execution_count": 70,
   "id": "0d9ddf89",
   "metadata": {},
   "outputs": [
    {
     "data": {
      "image/png": "[encoded data removed]",
      "text/plain": [
       "<Figure size 432x288 with 1 Axes>"
      ]
     },
     "metadata": {
      "needs_background": "light"
     },
     "output_type": "display_data"
    }
   ],
   "source": [
    "sns.histplot(df.CustomerDOB.dt.year,bins=50, color=\"green\")\n",
    "plt.show()"
   ]
  },
  {
   "cell_type": "markdown",
   "id": "62cf80f0",
   "metadata": {},
   "source": [
    "It can be seen from the graph that most of the individuals within the dataset in 2016 had an age between 22 to 34 years."
   ]
  },
  {
   "cell_type": "markdown",
   "id": "193d247f",
   "metadata": {},
   "source": [
    "# 2.1 Creating feature engineering"
   ]
  },
  {
   "cell_type": "code",
   "execution_count": 629,
   "id": "1eb8c225",
   "metadata": {},
   "outputs": [],
   "source": [
    "#Let's create a new dataframe called new_df. Here we'll create all the features we have to create.\n",
    "new_df = pd.DataFrame()"
   ]
  },
  {
   "cell_type": "markdown",
   "id": "8c5ff98c",
   "metadata": {},
   "source": [
    "**Number of transactions**"
   ]
  },
  {
   "cell_type": "code",
   "execution_count": 630,
   "id": "b9e3b7e0",
   "metadata": {},
   "outputs": [],
   "source": [
    "new_df['NumTransaction'] = df.groupby(['CustomerID'])['TransactionID'].count()"
   ]
  },
  {
   "cell_type": "markdown",
   "id": "8b368dcd",
   "metadata": {},
   "source": [
    "**Number of transactions > 100 USD**"
   ]
  },
  {
   "cell_type": "markdown",
   "id": "8d64dbe8",
   "metadata": {},
   "source": [
    "We are asked to find transactions with an amount greater than 100 USD. Since, the 'TransactionAmount' feature we have is in INR (it would be the Iranian currency), we first create a variable that corresponds to TransactionAmount, but it is in USD, and then we count how many transactions are greater than 100 USD. To convert INR in USD we must consider that 1 INR is equal to 0.012 USD."
   ]
  },
  {
   "cell_type": "code",
   "execution_count": 631,
   "id": "b0a7f3cb",
   "metadata": {},
   "outputs": [],
   "source": [
    "df['TransactionAmountUSD'] = df['TransactionAmount (INR)']*0.012\n",
    "new_df['AmountTrans>100'] = df[df['TransactionAmountUSD']  > 100].groupby(['CustomerID'])['TransactionAmountUSD'].count()\n",
    "new_df['AmountTrans>100'] = new_df['AmountTrans>100'].fillna(0)\n",
    "new_df['AmountTrans>100'] = new_df['AmountTrans>100'].astype(int)"
   ]
  },
  {
   "cell_type": "markdown",
   "id": "c632b921",
   "metadata": {},
   "source": [
    "**Average amount of transaction**"
   ]
  },
  {
   "cell_type": "code",
   "execution_count": 632,
   "id": "6ec49212",
   "metadata": {},
   "outputs": [],
   "source": [
    "new_df['AvgAmountTransaction'] = df.groupby(['CustomerID'])['TransactionAmount (INR)'].agg('mean')"
   ]
  },
  {
   "cell_type": "markdown",
   "id": "0acb4104",
   "metadata": {},
   "source": [
    "**Average balance**"
   ]
  },
  {
   "cell_type": "code",
   "execution_count": 633,
   "id": "1681f8d1",
   "metadata": {},
   "outputs": [],
   "source": [
    "#The first command is to visualize a float number approximated to two decimal places and not an exponential number.\n",
    "pd.options.display.float_format = '{:.2f}'.format \n",
    "new_df['AvgBalance'] = df.groupby(['CustomerID'])['CustAccountBalance'].agg('mean')"
   ]
  },
  {
   "cell_type": "markdown",
   "id": "128dc8ed",
   "metadata": {},
   "source": [
    "**Average difference between the balance and the transaction amount for each customer**"
   ]
  },
  {
   "cell_type": "code",
   "execution_count": 634,
   "id": "80d3280e",
   "metadata": {},
   "outputs": [],
   "source": [
    "df['provvisoria'] = df['CustAccountBalance'] - df['TransactionAmount (INR)']\n",
    "new_df['AvgDiffBalTrans'] = df.groupby(['CustomerID'])['provvisoria'].agg('mean')\n",
    "del df['provvisoria']"
   ]
  },
  {
   "cell_type": "markdown",
   "id": "7d755e4b",
   "metadata": {},
   "source": [
    "**Gender of customers**"
   ]
  },
  {
   "cell_type": "code",
   "execution_count": 635,
   "id": "fc5820e8",
   "metadata": {},
   "outputs": [],
   "source": [
    "#Since within the dataset there is that a CustomerID corresponds to several people (this is probably due to the fact that\n",
    "#an account can belong to a family and the transactions can be carried out by all the members of the family), we calculate \n",
    "#the mode for each CustomerID for the Gender feature, which is the most frequent gender for each CustomerID.\n",
    "Gender = df.groupby(['CustomerID'])['CustGender'].agg(pd.Series.mode)\n",
    "\n",
    "#By calculating the fashion it is possible that for a CustomerID it is possible that a female and a male have made the same\n",
    "#number of transactions. In this case then we simply consider the first value.\n",
    "for i in Gender.index:\n",
    "    Gender[i]=Gender[i][0]\n",
    "\n",
    "#Let's add the new variable to the 'new_df' dataset.\n",
    "new_df['Gender'] = Gender"
   ]
  },
  {
   "cell_type": "markdown",
   "id": "d031ba50",
   "metadata": {},
   "source": [
    "**Most frequent location of the customer**"
   ]
  },
  {
   "cell_type": "code",
   "execution_count": 636,
   "id": "8a79f473",
   "metadata": {},
   "outputs": [],
   "source": [
    "#We calculate the most frequent location by fashion.\n",
    "frequent_location = df.groupby(['CustomerID'])['CustLocation'].agg(pd.Series.mode)\n",
    "\n",
    "#Since by doing the mode we can have a situation where the most frequent location is double and in this case a list is\n",
    "#created that contains both the most frequent locations, so let's do a for loop to replace the list with the first element\n",
    "#of the list.\n",
    "l = []\n",
    "for i in frequent_location.index:\n",
    "    if type(frequent_location.loc[i])==str:\n",
    "        l.append(frequent_location[i])\n",
    "    else:\n",
    "        l.append(frequent_location[i][0])\n",
    "        \n",
    "#Let's add the new variable to the 'new_df' dataset.\n",
    "new_df[\"MostFrequentLocation\"] = l"
   ]
  },
  {
   "cell_type": "markdown",
   "id": "ea733ccb",
   "metadata": {},
   "source": [
    "## Create 20 additional features"
   ]
  },
  {
   "cell_type": "markdown",
   "id": "703a42d2",
   "metadata": {},
   "source": [
    "The addictional futures that we will cosider are:\n",
    "\n",
    "1. Highest transiction amount in USD\n",
    "2. Lowest transiction amount in USD\n",
    "3. Highest balance a customer has ever had in USD\n",
    "4. Lowest balance a customer has ever had in USD\n",
    "5. Average amount of transactions in USD\n",
    "6. Average balance in USD\n",
    "7. Median amount of transactions in USD\n",
    "7. Number of transaction carried out just during August\n",
    "8. Number of transaction carried out just during September\n",
    "9. Number of transaction carried out just during October\n",
    "10. Age of customers on transition days\n",
    "11. Number of transactions > 1000 USD\n",
    "12. Number of transactions > 5000 USD\n",
    "13. Number of transactions > 10000 USD\n",
    "14. Number of times a transition has been made in the most frequent location of the customer\n",
    "15. Number of transitions made in the night (23-06)\n",
    "16. Number of transitions made in the morning (07-14)\n",
    "17. Number of transitions made in the evening (15-22)\n",
    "19. Average time between transactions\n",
    "20. Season of birthday (Winter, Spring, Summer, Autumn)"
   ]
  },
  {
   "cell_type": "markdown",
   "id": "700310e7",
   "metadata": {},
   "source": [
    "**Notation regarding variables 8,9,10**"
   ]
  },
  {
   "cell_type": "markdown",
   "id": "2344f5b5",
   "metadata": {},
   "source": [
    "With regard to variables 5, 6 and 7, at the beginning we thought to see the number of transactions carried out during the 4 different seasons, but later we noticed that the transactions within the dataset were all carried out in the months of August, September and October. For this reason we have decided to create 3 new variables that tell us how many transactions users have made in the different months (August, September and October).\n",
    "\n",
    "The following cell shows us that the transactions were actually carried out only in the 3 months indicated above."
   ]
  },
  {
   "cell_type": "code",
   "execution_count": 76,
   "id": "ab276fce",
   "metadata": {
    "scrolled": true
   },
   "outputs": [
    {
     "data": {
      "text/html": [
       "<div>\n",
       "<style scoped>\n",
       "    .dataframe tbody tr th:only-of-type {\n",
       "        vertical-align: middle;\n",
       "    }\n",
       "\n",
       "    .dataframe tbody tr th {\n",
       "        vertical-align: top;\n",
       "    }\n",
       "\n",
       "    .dataframe thead th {\n",
       "        text-align: right;\n",
       "    }\n",
       "</style>\n",
       "<table border=\"1\" class=\"dataframe\">\n",
       "  <thead>\n",
       "    <tr style=\"text-align: right;\">\n",
       "      <th></th>\n",
       "      <th>TransactionID</th>\n",
       "      <th>CustomerID</th>\n",
       "      <th>CustomerDOB</th>\n",
       "      <th>CustGender</th>\n",
       "      <th>CustLocation</th>\n",
       "      <th>CustAccountBalance</th>\n",
       "      <th>TransactionDate</th>\n",
       "      <th>TransactionTime</th>\n",
       "      <th>TransactionAmount (INR)</th>\n",
       "    </tr>\n",
       "    <tr>\n",
       "      <th>TransactionDate</th>\n",
       "      <th></th>\n",
       "      <th></th>\n",
       "      <th></th>\n",
       "      <th></th>\n",
       "      <th></th>\n",
       "      <th></th>\n",
       "      <th></th>\n",
       "      <th></th>\n",
       "      <th></th>\n",
       "    </tr>\n",
       "  </thead>\n",
       "  <tbody>\n",
       "    <tr>\n",
       "      <th>8</th>\n",
       "      <td>613605</td>\n",
       "      <td>613605</td>\n",
       "      <td>613605</td>\n",
       "      <td>613605</td>\n",
       "      <td>613605</td>\n",
       "      <td>613605</td>\n",
       "      <td>613605</td>\n",
       "      <td>613605</td>\n",
       "      <td>613605</td>\n",
       "    </tr>\n",
       "    <tr>\n",
       "      <th>9</th>\n",
       "      <td>368307</td>\n",
       "      <td>368307</td>\n",
       "      <td>368307</td>\n",
       "      <td>368307</td>\n",
       "      <td>368307</td>\n",
       "      <td>368307</td>\n",
       "      <td>368307</td>\n",
       "      <td>368307</td>\n",
       "      <td>368307</td>\n",
       "    </tr>\n",
       "    <tr>\n",
       "      <th>10</th>\n",
       "      <td>3410</td>\n",
       "      <td>3410</td>\n",
       "      <td>3410</td>\n",
       "      <td>3410</td>\n",
       "      <td>3410</td>\n",
       "      <td>3410</td>\n",
       "      <td>3410</td>\n",
       "      <td>3410</td>\n",
       "      <td>3410</td>\n",
       "    </tr>\n",
       "  </tbody>\n",
       "</table>\n",
       "</div>"
      ],
      "text/plain": [
       "                 TransactionID  CustomerID  CustomerDOB  CustGender  \\\n",
       "TransactionDate                                                       \n",
       "8                       613605      613605       613605      613605   \n",
       "9                       368307      368307       368307      368307   \n",
       "10                        3410        3410         3410        3410   \n",
       "\n",
       "                 CustLocation  CustAccountBalance  TransactionDate  \\\n",
       "TransactionDate                                                      \n",
       "8                      613605              613605           613605   \n",
       "9                      368307              368307           368307   \n",
       "10                       3410                3410             3410   \n",
       "\n",
       "                 TransactionTime  TransactionAmount (INR)  \n",
       "TransactionDate                                            \n",
       "8                         613605                   613605  \n",
       "9                         368307                   368307  \n",
       "10                          3410                     3410  "
      ]
     },
     "execution_count": 76,
     "metadata": {},
     "output_type": "execute_result"
    }
   ],
   "source": [
    "df.groupby(df['TransactionDate'].dt.month).count()"
   ]
  },
  {
   "cell_type": "markdown",
   "id": "8e94d696",
   "metadata": {},
   "source": [
    "**Notation regarding variables 12,13,14**"
   ]
  },
  {
   "cell_type": "code",
   "execution_count": 494,
   "id": "723c7857",
   "metadata": {},
   "outputs": [
    {
     "data": {
      "text/plain": [
       "174328"
      ]
     },
     "execution_count": 494,
     "metadata": {},
     "output_type": "execute_result"
    }
   ],
   "source": [
    "#I WOULD LIKE TO MAKE A RANGE BAR PLOT, THAT IS TO COUNT THE NUMBER OF TRANSACTIONS BETWEEN 100 AND 500, THEN THE ONE BETWEEN 500 AND 2000, \n",
    "#THE ONE BETWEEN 2000 AND 10000 ETC AND I WOULD LIKE TO SHOW THAT THERE ARE ONLY 47K TRANSACTIONS> OF 5000 SO I DECIDED TO CREATE THE VARIABLES> 500,\n",
    "#> 1000 and> 5000. THAT MEANS, I TAKEN INTERVALS NOT THAT GREAT BECAUSE OTHERWISE HAD LITTLE SENSE.\n",
    "#FOR NOW I CAN SHOW WHAT I SAID WITH A COMMAND BUT IT WAS NICE TO MAKE A GRAPH THAT SHOWED IT BUT I DON'T KNOW HOW TO DO IT\n",
    "df.TransactionID[df['TransactionAmountUSD'] > 20].count()\n",
    "#df[df['TransactionAmountUSD'] > 1000].count()\n",
    "#df[df['TransactionAmountUSD'] > 2000].count()\n",
    "#df[df['TransactionAmountUSD'] > 5000].count()\n"
   ]
  },
  {
   "cell_type": "code",
   "execution_count": 484,
   "id": "21dd95a7",
   "metadata": {},
   "outputs": [
    {
     "data": {
      "text/plain": [
       "(array([256920., 179250.,  86187.,  92177.,  48532.,  34514.,  47085.,\n",
       "         24900.,  19231.,  22198.,  15472.,  13203.,  16750.,  10003.,\n",
       "          8080.,   8661.,   6733.,   5617.,   6885.,   4626.,   3996.,\n",
       "          4040.,   3370.,   3034.,   3502.,   2503.,   2187.,   2423.,\n",
       "          1943.,   1952.,   3945.,   1684.,   1450.,   1438.,   1195.,\n",
       "          1257.,   1705.,   1106.,    924.,   1015.,    794.,   1041.,\n",
       "          1076.,    745.,    648.,    847.,    703.,    602.,    890.,\n",
       "           487.]),\n",
       " array([  0.,   2.,   4.,   6.,   8.,  10.,  12.,  14.,  16.,  18.,  20.,\n",
       "         22.,  24.,  26.,  28.,  30.,  32.,  34.,  36.,  38.,  40.,  42.,\n",
       "         44.,  46.,  48.,  50.,  52.,  54.,  56.,  58.,  60.,  62.,  64.,\n",
       "         66.,  68.,  70.,  72.,  74.,  76.,  78.,  80.,  82.,  84.,  86.,\n",
       "         88.,  90.,  92.,  94.,  96.,  98., 100.]),\n",
       " <BarContainer object of 50 artists>)"
      ]
     },
     "execution_count": 484,
     "metadata": {},
     "output_type": "execute_result"
    },
    {
     "data": {
      "image/png": "[encoded data removed]",
      "text/plain": [
       "<Figure size 432x288 with 1 Axes>"
      ]
     },
     "metadata": {
      "needs_background": "light"
     },
     "output_type": "display_data"
    }
   ],
   "source": [
    "plt.hist(df.TransactionAmountUSD, range=[0,100], bins = 50)"
   ]
  },
  {
   "cell_type": "code",
   "execution_count": 450,
   "id": "16dadcc3",
   "metadata": {},
   "outputs": [
    {
     "name": "stdout",
     "output_type": "stream",
     "text": [
      "<class 'pandas.core.frame.DataFrame'>\n",
      "Int64Index: 985322 entries, 0 to 1048566\n",
      "Data columns (total 10 columns):\n",
      " #   Column                   Non-Null Count   Dtype         \n",
      "---  ------                   --------------   -----         \n",
      " 0   TransactionID            985322 non-null  object        \n",
      " 1   CustomerID               985322 non-null  object        \n",
      " 2   CustomerDOB              985322 non-null  datetime64[ns]\n",
      " 3   CustGender               985322 non-null  object        \n",
      " 4   CustLocation             985322 non-null  object        \n",
      " 5   CustAccountBalance       985322 non-null  float64       \n",
      " 6   TransactionAmount (INR)  985322 non-null  float64       \n",
      " 7   TransactionDateTime      985322 non-null  datetime64[ns]\n",
      " 8   TransactionAmountUSD     985322 non-null  float64       \n",
      " 9   CustAccountBalanceUSD    985322 non-null  float64       \n",
      "dtypes: datetime64[ns](2), float64(4), object(4)\n",
      "memory usage: 82.7+ MB\n"
     ]
    }
   ],
   "source": [
    "df.info()"
   ]
  },
  {
   "cell_type": "code",
   "execution_count": null,
   "id": "34160e1f",
   "metadata": {},
   "outputs": [],
   "source": []
  },
  {
   "cell_type": "markdown",
   "id": "b4081bb9",
   "metadata": {},
   "source": [
    "#### Once the additional features considered have been defined, we create them and add them to the 'new_df' dataset."
   ]
  },
  {
   "cell_type": "markdown",
   "id": "669f9966",
   "metadata": {},
   "source": [
    "**1** Highest transiction amount in USD"
   ]
  },
  {
   "cell_type": "code",
   "execution_count": 637,
   "id": "27b84bd6",
   "metadata": {},
   "outputs": [],
   "source": [
    "new_df['MaxAmountTransactionUSD'] = df.groupby(['CustomerID'])['TransactionAmountUSD'].agg('max')"
   ]
  },
  {
   "cell_type": "markdown",
   "id": "01953c14",
   "metadata": {},
   "source": [
    "**2** Lowest transiction amount in USD"
   ]
  },
  {
   "cell_type": "code",
   "execution_count": 638,
   "id": "34fa2530",
   "metadata": {},
   "outputs": [],
   "source": [
    "new_df['MinAmountTransactionUSD'] = df.groupby(['CustomerID'])['TransactionAmountUSD'].agg('min')"
   ]
  },
  {
   "cell_type": "markdown",
   "id": "ddb60d1f",
   "metadata": {},
   "source": [
    "**3** Highest balance a customer has ever had in USD"
   ]
  },
  {
   "cell_type": "code",
   "execution_count": 639,
   "id": "59628f3a",
   "metadata": {},
   "outputs": [],
   "source": [
    "df['CustAccountBalanceUSD'] = df['CustAccountBalance']*0.012\n",
    "new_df['MaxBalanceUSD'] = df.groupby(['CustomerID'])['CustAccountBalanceUSD'].agg('max')"
   ]
  },
  {
   "cell_type": "markdown",
   "id": "23ce1c23",
   "metadata": {},
   "source": [
    "**4** Lowest balance a customer has ever had in USD"
   ]
  },
  {
   "cell_type": "code",
   "execution_count": 640,
   "id": "6154194d",
   "metadata": {},
   "outputs": [],
   "source": [
    "new_df['MinBalanceUSD'] = df.groupby(['CustomerID'])['CustAccountBalanceUSD'].agg('min')"
   ]
  },
  {
   "cell_type": "markdown",
   "id": "2993a513",
   "metadata": {},
   "source": [
    "**5** Average amount of transactions in USD"
   ]
  },
  {
   "cell_type": "code",
   "execution_count": 641,
   "id": "edc79767",
   "metadata": {},
   "outputs": [],
   "source": [
    "new_df['AvgAmountTransactionUSD'] = df.groupby(['CustomerID'])['TransactionAmountUSD'].agg('mean')"
   ]
  },
  {
   "cell_type": "markdown",
   "id": "977b3c46",
   "metadata": {},
   "source": [
    "**6** Average balance in USD"
   ]
  },
  {
   "cell_type": "code",
   "execution_count": 642,
   "id": "07af6b1b",
   "metadata": {},
   "outputs": [],
   "source": [
    "pd.options.display.float_format = '{:.2f}'.format \n",
    "df['CustAccountBalanceUSD'] = df['CustAccountBalance']*0.012\n",
    "new_df['AvgBalanceUSD'] = df.groupby(['CustomerID'])['CustAccountBalanceUSD'].agg('mean')"
   ]
  },
  {
   "cell_type": "markdown",
   "id": "09a51b61",
   "metadata": {},
   "source": [
    "**7** Median amount of transactions in USD"
   ]
  },
  {
   "cell_type": "code",
   "execution_count": 643,
   "id": "a7aa2dc5",
   "metadata": {},
   "outputs": [],
   "source": [
    "new_df['MedianAmountTransactionUSD'] = df.groupby(['CustomerID'])['TransactionAmountUSD'].agg('median')"
   ]
  },
  {
   "cell_type": "markdown",
   "id": "7a4082e2",
   "metadata": {},
   "source": [
    "**8** Number of transaction carried out just during August"
   ]
  },
  {
   "cell_type": "code",
   "execution_count": 644,
   "id": "02d7ef3f",
   "metadata": {},
   "outputs": [],
   "source": [
    "in_august = df[df['TransactionDateTime'].dt.month == 8]\n",
    "new_df['TransactionAugust'] = in_august.groupby(['CustomerID'])['TransactionDateTime'].count()\n",
    "new_df['TransactionAugust'] = new_df['TransactionAugust'].fillna(0) #we replace NaN values, that is who didn't make transaction in summer, with 0.\n",
    "new_df['TransactionAugust'] = new_df['TransactionAugust'].astype(int)"
   ]
  },
  {
   "cell_type": "markdown",
   "id": "5e84d977",
   "metadata": {},
   "source": [
    "**9** Number of transaction carried out just during September"
   ]
  },
  {
   "cell_type": "code",
   "execution_count": 645,
   "id": "7c2b4978",
   "metadata": {},
   "outputs": [],
   "source": [
    "in_september = df[df['TransactionDateTime'].dt.month == 9]\n",
    "new_df['TransactionSeptember'] = in_september.groupby(['CustomerID'])['TransactionDateTime'].count()\n",
    "new_df['TransactionSeptember'] = new_df['TransactionSeptember'].fillna(0) #we replace NaN values, that is who didn't make transaction in summer, with 0.\n",
    "new_df['TransactionSeptember'] = new_df['TransactionSeptember'].astype(int)"
   ]
  },
  {
   "cell_type": "markdown",
   "id": "37c41e5a",
   "metadata": {},
   "source": [
    "**10** Number of transaction carried out just during October"
   ]
  },
  {
   "cell_type": "code",
   "execution_count": 646,
   "id": "b459b993",
   "metadata": {},
   "outputs": [],
   "source": [
    "in_october = df[df['TransactionDateTime'].dt.month == 10]\n",
    "new_df['TransactionOctober'] = in_october.groupby(['CustomerID'])['TransactionDateTime'].count()\n",
    "new_df['TransactionOctober'] = new_df['TransactionOctober'].fillna(0) #we replace NaN values, that is who didn't make transaction in summer, with 0.\n",
    "new_df['TransactionOctober'] = new_df['TransactionOctober'].astype(int)"
   ]
  },
  {
   "cell_type": "markdown",
   "id": "12dfd2e2",
   "metadata": {},
   "source": [
    "**11** Age of customers on transition days"
   ]
  },
  {
   "cell_type": "code",
   "execution_count": 647,
   "id": "d0711a36",
   "metadata": {},
   "outputs": [],
   "source": [
    "ex = df.groupby(['CustomerID'])[['TransactionDateTime','CustomerDOB']].first()\n",
    "new_df['Age'] = ex['TransactionDateTime'].dt.year - ex['CustomerDOB'].dt.year"
   ]
  },
  {
   "cell_type": "markdown",
   "id": "1a02344f",
   "metadata": {},
   "source": [
    "**12** Number of transactions > 5 USD"
   ]
  },
  {
   "cell_type": "code",
   "execution_count": 648,
   "id": "6b6eee39",
   "metadata": {},
   "outputs": [],
   "source": [
    "new_df['AmountTrans>5USD'] = df[df['TransactionAmountUSD']  > 5].groupby([\"CustomerID\"])[\"TransactionAmountUSD\"].count()\n",
    "new_df['AmountTrans>5USD'] = new_df['AmountTrans>5USD'].fillna(0)\n",
    "new_df['AmountTrans>5USD'] = new_df['AmountTrans>5USD'].astype(int)"
   ]
  },
  {
   "cell_type": "markdown",
   "id": "3eabfa5a",
   "metadata": {},
   "source": [
    "**13** Number of transactions > 20 USD"
   ]
  },
  {
   "cell_type": "code",
   "execution_count": 649,
   "id": "d72f2d3f",
   "metadata": {},
   "outputs": [],
   "source": [
    "new_df['AmountTrans>20USD'] = df[df['TransactionAmountUSD']  > 20].groupby([\"CustomerID\"])[\"TransactionAmountUSD\"].count()\n",
    "new_df['AmountTrans>20USD'] = new_df['AmountTrans>20USD'].fillna(0)\n",
    "new_df['AmountTrans>20USD'] = new_df['AmountTrans>20USD'].astype(int)"
   ]
  },
  {
   "cell_type": "markdown",
   "id": "f553ad1a",
   "metadata": {},
   "source": [
    "**14** Number of transactions > 50 USD"
   ]
  },
  {
   "cell_type": "code",
   "execution_count": 650,
   "id": "9349059f",
   "metadata": {},
   "outputs": [],
   "source": [
    "new_df['AmountTrans>50USD'] = df[df['TransactionAmountUSD']  > 50].groupby([\"CustomerID\"])[\"TransactionAmountUSD\"].count()\n",
    "new_df['AmountTrans>50USD'] = new_df['AmountTrans>50USD'].fillna(0)\n",
    "new_df['AmountTrans>50USD'] = new_df['AmountTrans>50USD'].astype(int)"
   ]
  },
  {
   "cell_type": "markdown",
   "id": "eadf21ad",
   "metadata": {},
   "source": [
    "**15** Number of times a transition has been made in the most frequent location of the customer"
   ]
  },
  {
   "cell_type": "code",
   "execution_count": 651,
   "id": "6231ef50",
   "metadata": {},
   "outputs": [
    {
     "name": "stderr",
     "output_type": "stream",
     "text": [
      "C:\\Users\\gianl\\AppData\\Local\\Temp\\ipykernel_33108\\2305568774.py:1: FutureWarning: Using the level keyword in DataFrame and Series aggregations is deprecated and will be removed in a future version. Use groupby instead. df.median(level=1) should use df.groupby(level=1).median().\n",
      "  new_df['n_transactions_in_most_freq_loc'] = df.groupby([\"CustomerID\", \"CustLocation\"])['CustLocation'].count().max(level=0)\n"
     ]
    }
   ],
   "source": [
    "new_df['n_transactions_in_most_freq_loc'] = df.groupby([\"CustomerID\", \"CustLocation\"])['CustLocation'].count().max(level=0)"
   ]
  },
  {
   "cell_type": "markdown",
   "id": "c235ecec",
   "metadata": {},
   "source": [
    "**16** Number of transitions made in the night (23-06)"
   ]
  },
  {
   "cell_type": "code",
   "execution_count": 652,
   "id": "e235d481",
   "metadata": {},
   "outputs": [],
   "source": [
    "after_twentythree = df[df['TransactionDateTime'].dt.hour >= 23]\n",
    "before_six = df[df['TransactionDateTime'].dt.hour <= 6]\n",
    "between_twentythree_six = pd.concat([after_twentythree,before_six], ignore_index = True)\n",
    "new_df['Transaction_23-06'] = between_twentythree_six.groupby(['CustomerID'])['TransactionDateTime'].count()\n",
    "new_df['Transaction_23-06'] = new_df['Transaction_23-06'].fillna(0) #we replace NaN values, that is who didn't make transaction in summer, with 0.\n",
    "new_df['Transaction_23-06'] = new_df['Transaction_23-06'].astype(int)"
   ]
  },
  {
   "cell_type": "markdown",
   "id": "7e5001e8",
   "metadata": {},
   "source": [
    "**17** Number of transitions made in the morning (07-14)"
   ]
  },
  {
   "cell_type": "code",
   "execution_count": 653,
   "id": "62177fd2",
   "metadata": {},
   "outputs": [],
   "source": [
    "after_seven = df[df['TransactionDateTime'].dt.hour >= 7]\n",
    "between_seven_forteen = after_seven[after_seven['TransactionDateTime'].dt.hour <= 14]\n",
    "new_df['Transaction_7-14'] = between_seven_forteen.groupby(['CustomerID'])['TransactionDateTime'].count()\n",
    "new_df['Transaction_7-14'] = new_df['Transaction_7-14'].fillna(0) #we replace NaN values, that is who didn't make transaction in summer, with 0.\n",
    "new_df['Transaction_7-14'] = new_df['Transaction_7-14'].astype(int)"
   ]
  },
  {
   "cell_type": "markdown",
   "id": "de610bef",
   "metadata": {},
   "source": [
    "**18** Number of transitions made in the evening (15-22)"
   ]
  },
  {
   "cell_type": "code",
   "execution_count": 654,
   "id": "bc4bd247",
   "metadata": {},
   "outputs": [],
   "source": [
    "after_fifteen = df[df['TransactionDateTime'].dt.hour >= 15]\n",
    "between_fifteen_twentytwo = after_fifteen[after_fifteen['TransactionDateTime'].dt.hour <= 22]\n",
    "new_df['Transaction_15-22'] = between_fifteen_twentytwo.groupby(['CustomerID'])['TransactionDateTime'].count()\n",
    "new_df['Transaction_15-22'] = new_df['Transaction_15-22'].fillna(0) #we replace NaN values, that is who didn't make transaction in summer, with 0.\n",
    "new_df['Transaction_15-22'] = new_df['Transaction_15-22'].astype(int)"
   ]
  },
  {
   "cell_type": "markdown",
   "id": "40f865d9",
   "metadata": {},
   "source": [
    "**19** Average time between transactions"
   ]
  },
  {
   "cell_type": "code",
   "execution_count": 655,
   "id": "9bceeff2",
   "metadata": {},
   "outputs": [],
   "source": [
    "transaction_time_group = df.groupby(['CustomerID'])['TransactionDateTime']\n",
    "avg_time_between = (transaction_time_group.max() - transaction_time_group.min()) / (transaction_time_group.count() - 1)"
   ]
  },
  {
   "cell_type": "markdown",
   "id": "2aff46e3",
   "metadata": {},
   "source": [
    "For customers with only a single transaction, we would get a `NaT`, so we need to fill it."
   ]
  },
  {
   "cell_type": "code",
   "execution_count": 656,
   "id": "e858e7d7",
   "metadata": {},
   "outputs": [],
   "source": [
    "avg_time_between.fillna(pd.Timedelta(0), inplace=True)\n",
    "avg_seconds_between = list(map(lambda td: td.total_seconds(), avg_time_between))"
   ]
  },
  {
   "cell_type": "code",
   "execution_count": 657,
   "id": "9927bfcf",
   "metadata": {},
   "outputs": [],
   "source": [
    "new_df['avg_seconds_between_transactions'] = avg_seconds_between"
   ]
  },
  {
   "cell_type": "markdown",
   "id": "797d498c",
   "metadata": {},
   "source": [
    "**20** Season of birthday (Winter, Spring, Summer, Autumn)"
   ]
  },
  {
   "cell_type": "code",
   "execution_count": 658,
   "id": "dda22b8c",
   "metadata": {},
   "outputs": [],
   "source": [
    "def get_season(month):\n",
    "    \"\"\"Gets the name of the meteorological season that corresponds to the provided month.\n",
    "    \n",
    "    :args\n",
    "    month (int) - the number of the month. Should be in the interval [1, 12].\n",
    "    \n",
    "    :returns\n",
    "    the name of the meteorological month of the given month. None if the month is outside the interval [1, 12]\n",
    "    \"\"\"\n",
    "    if month in range(1, 3) or month == 12:\n",
    "        return 'winter'\n",
    "    if month in range(3, 6):\n",
    "        return 'spring'\n",
    "    if month in range(6, 9):\n",
    "        return 'summer'\n",
    "    if month in range(9, 12):\n",
    "        return 'autumn'"
   ]
  },
  {
   "cell_type": "code",
   "execution_count": 659,
   "id": "d300339a",
   "metadata": {},
   "outputs": [],
   "source": [
    "birthday_month = df.groupby(['CustomerID'])['CustomerDOB'].first().dt.month"
   ]
  },
  {
   "cell_type": "code",
   "execution_count": 660,
   "id": "45e1c8a6",
   "metadata": {},
   "outputs": [],
   "source": [
    "new_df['DOB_season'] = list(map(get_season, birthday_month))"
   ]
  },
  {
   "cell_type": "markdown",
   "id": "a2bd4c7b",
   "metadata": {},
   "source": [
    "**This is the complete dataset with all 27 features**"
   ]
  },
  {
   "cell_type": "code",
   "execution_count": 661,
   "id": "560e58d5",
   "metadata": {},
   "outputs": [
    {
     "data": {
      "text/html": [
       "<div>\n",
       "<style scoped>\n",
       "    .dataframe tbody tr th:only-of-type {\n",
       "        vertical-align: middle;\n",
       "    }\n",
       "\n",
       "    .dataframe tbody tr th {\n",
       "        vertical-align: top;\n",
       "    }\n",
       "\n",
       "    .dataframe thead th {\n",
       "        text-align: right;\n",
       "    }\n",
       "</style>\n",
       "<table border=\"1\" class=\"dataframe\">\n",
       "  <thead>\n",
       "    <tr style=\"text-align: right;\">\n",
       "      <th></th>\n",
       "      <th>NumTransaction</th>\n",
       "      <th>AmountTrans&gt;100</th>\n",
       "      <th>AvgAmountTransaction</th>\n",
       "      <th>AvgBalance</th>\n",
       "      <th>AvgDiffBalTrans</th>\n",
       "      <th>Gender</th>\n",
       "      <th>MostFrequentLocation</th>\n",
       "      <th>MaxAmountTransactionUSD</th>\n",
       "      <th>MinAmountTransactionUSD</th>\n",
       "      <th>MaxBalanceUSD</th>\n",
       "      <th>...</th>\n",
       "      <th>Age</th>\n",
       "      <th>AmountTrans&gt;5USD</th>\n",
       "      <th>AmountTrans&gt;20USD</th>\n",
       "      <th>AmountTrans&gt;50USD</th>\n",
       "      <th>n_transactions_in_most_freq_loc</th>\n",
       "      <th>Transaction_23-06</th>\n",
       "      <th>Transaction_7-14</th>\n",
       "      <th>Transaction_15-22</th>\n",
       "      <th>avg_seconds_between_transactions</th>\n",
       "      <th>DOB_season</th>\n",
       "    </tr>\n",
       "    <tr>\n",
       "      <th>CustomerID</th>\n",
       "      <th></th>\n",
       "      <th></th>\n",
       "      <th></th>\n",
       "      <th></th>\n",
       "      <th></th>\n",
       "      <th></th>\n",
       "      <th></th>\n",
       "      <th></th>\n",
       "      <th></th>\n",
       "      <th></th>\n",
       "      <th></th>\n",
       "      <th></th>\n",
       "      <th></th>\n",
       "      <th></th>\n",
       "      <th></th>\n",
       "      <th></th>\n",
       "      <th></th>\n",
       "      <th></th>\n",
       "      <th></th>\n",
       "      <th></th>\n",
       "      <th></th>\n",
       "    </tr>\n",
       "  </thead>\n",
       "  <tbody>\n",
       "    <tr>\n",
       "      <th>C1010011</th>\n",
       "      <td>2</td>\n",
       "      <td>0</td>\n",
       "      <td>2553.00</td>\n",
       "      <td>76340.63</td>\n",
       "      <td>73787.63</td>\n",
       "      <td>F</td>\n",
       "      <td>NEW DELHI</td>\n",
       "      <td>57.00</td>\n",
       "      <td>4.27</td>\n",
       "      <td>1442.17</td>\n",
       "      <td>...</td>\n",
       "      <td>24</td>\n",
       "      <td>1</td>\n",
       "      <td>1</td>\n",
       "      <td>1</td>\n",
       "      <td>1</td>\n",
       "      <td>1</td>\n",
       "      <td>1</td>\n",
       "      <td>0</td>\n",
       "      <td>4188344.00</td>\n",
       "      <td>summer</td>\n",
       "    </tr>\n",
       "    <tr>\n",
       "      <th>C1010012</th>\n",
       "      <td>1</td>\n",
       "      <td>0</td>\n",
       "      <td>1499.00</td>\n",
       "      <td>24204.49</td>\n",
       "      <td>22705.49</td>\n",
       "      <td>M</td>\n",
       "      <td>MUMBAI</td>\n",
       "      <td>17.99</td>\n",
       "      <td>17.99</td>\n",
       "      <td>290.45</td>\n",
       "      <td>...</td>\n",
       "      <td>22</td>\n",
       "      <td>1</td>\n",
       "      <td>0</td>\n",
       "      <td>0</td>\n",
       "      <td>1</td>\n",
       "      <td>0</td>\n",
       "      <td>0</td>\n",
       "      <td>1</td>\n",
       "      <td>0.00</td>\n",
       "      <td>summer</td>\n",
       "    </tr>\n",
       "    <tr>\n",
       "      <th>C1010014</th>\n",
       "      <td>2</td>\n",
       "      <td>0</td>\n",
       "      <td>727.50</td>\n",
       "      <td>100112.95</td>\n",
       "      <td>99385.45</td>\n",
       "      <td>F</td>\n",
       "      <td>MUMBAI</td>\n",
       "      <td>14.46</td>\n",
       "      <td>3.00</td>\n",
       "      <td>1942.19</td>\n",
       "      <td>...</td>\n",
       "      <td>24</td>\n",
       "      <td>1</td>\n",
       "      <td>0</td>\n",
       "      <td>0</td>\n",
       "      <td>2</td>\n",
       "      <td>0</td>\n",
       "      <td>0</td>\n",
       "      <td>2</td>\n",
       "      <td>541094.00</td>\n",
       "      <td>summer</td>\n",
       "    </tr>\n",
       "    <tr>\n",
       "      <th>C1010018</th>\n",
       "      <td>1</td>\n",
       "      <td>0</td>\n",
       "      <td>30.00</td>\n",
       "      <td>496.18</td>\n",
       "      <td>466.18</td>\n",
       "      <td>F</td>\n",
       "      <td>CHAMPARAN</td>\n",
       "      <td>0.36</td>\n",
       "      <td>0.36</td>\n",
       "      <td>5.95</td>\n",
       "      <td>...</td>\n",
       "      <td>26</td>\n",
       "      <td>0</td>\n",
       "      <td>0</td>\n",
       "      <td>0</td>\n",
       "      <td>1</td>\n",
       "      <td>0</td>\n",
       "      <td>0</td>\n",
       "      <td>1</td>\n",
       "      <td>0.00</td>\n",
       "      <td>spring</td>\n",
       "    </tr>\n",
       "    <tr>\n",
       "      <th>C1010024</th>\n",
       "      <td>1</td>\n",
       "      <td>0</td>\n",
       "      <td>5000.00</td>\n",
       "      <td>87058.65</td>\n",
       "      <td>82058.65</td>\n",
       "      <td>M</td>\n",
       "      <td>KOLKATA</td>\n",
       "      <td>60.00</td>\n",
       "      <td>60.00</td>\n",
       "      <td>1044.70</td>\n",
       "      <td>...</td>\n",
       "      <td>-49</td>\n",
       "      <td>1</td>\n",
       "      <td>1</td>\n",
       "      <td>1</td>\n",
       "      <td>1</td>\n",
       "      <td>0</td>\n",
       "      <td>1</td>\n",
       "      <td>0</td>\n",
       "      <td>0.00</td>\n",
       "      <td>summer</td>\n",
       "    </tr>\n",
       "  </tbody>\n",
       "</table>\n",
       "<p>5 rows × 27 columns</p>\n",
       "</div>"
      ],
      "text/plain": [
       "            NumTransaction  AmountTrans>100  AvgAmountTransaction  AvgBalance  \\\n",
       "CustomerID                                                                      \n",
       "C1010011                 2                0               2553.00    76340.63   \n",
       "C1010012                 1                0               1499.00    24204.49   \n",
       "C1010014                 2                0                727.50   100112.95   \n",
       "C1010018                 1                0                 30.00      496.18   \n",
       "C1010024                 1                0               5000.00    87058.65   \n",
       "\n",
       "            AvgDiffBalTrans Gender MostFrequentLocation  \\\n",
       "CustomerID                                                \n",
       "C1010011           73787.63      F            NEW DELHI   \n",
       "C1010012           22705.49      M               MUMBAI   \n",
       "C1010014           99385.45      F               MUMBAI   \n",
       "C1010018             466.18      F            CHAMPARAN   \n",
       "C1010024           82058.65      M              KOLKATA   \n",
       "\n",
       "            MaxAmountTransactionUSD  MinAmountTransactionUSD  MaxBalanceUSD  \\\n",
       "CustomerID                                                                    \n",
       "C1010011                      57.00                     4.27        1442.17   \n",
       "C1010012                      17.99                    17.99         290.45   \n",
       "C1010014                      14.46                     3.00        1942.19   \n",
       "C1010018                       0.36                     0.36           5.95   \n",
       "C1010024                      60.00                    60.00        1044.70   \n",
       "\n",
       "            ...  Age  AmountTrans>5USD  AmountTrans>20USD  AmountTrans>50USD  \\\n",
       "CustomerID  ...                                                                \n",
       "C1010011    ...   24                 1                  1                  1   \n",
       "C1010012    ...   22                 1                  0                  0   \n",
       "C1010014    ...   24                 1                  0                  0   \n",
       "C1010018    ...   26                 0                  0                  0   \n",
       "C1010024    ...  -49                 1                  1                  1   \n",
       "\n",
       "            n_transactions_in_most_freq_loc  Transaction_23-06  \\\n",
       "CustomerID                                                       \n",
       "C1010011                                  1                  1   \n",
       "C1010012                                  1                  0   \n",
       "C1010014                                  2                  0   \n",
       "C1010018                                  1                  0   \n",
       "C1010024                                  1                  0   \n",
       "\n",
       "            Transaction_7-14  Transaction_15-22  \\\n",
       "CustomerID                                        \n",
       "C1010011                   1                  0   \n",
       "C1010012                   0                  1   \n",
       "C1010014                   0                  2   \n",
       "C1010018                   0                  1   \n",
       "C1010024                   1                  0   \n",
       "\n",
       "            avg_seconds_between_transactions  DOB_season  \n",
       "CustomerID                                                \n",
       "C1010011                          4188344.00      summer  \n",
       "C1010012                                0.00      summer  \n",
       "C1010014                           541094.00      summer  \n",
       "C1010018                                0.00      spring  \n",
       "C1010024                                0.00      summer  \n",
       "\n",
       "[5 rows x 27 columns]"
      ]
     },
     "execution_count": 661,
     "metadata": {},
     "output_type": "execute_result"
    }
   ],
   "source": [
    "new_df.head()"
   ]
  },
  {
   "cell_type": "markdown",
   "id": "bc2aa16a",
   "metadata": {},
   "source": [
    "# 2.2 Reduce the dimensionality"
   ]
  },
  {
   "cell_type": "markdown",
   "id": "efee60a2",
   "metadata": {},
   "source": [
    "Since we have a dataset that contains 27 variables, we want to reduce the number of features to work with. To do this, we tried multiple way to find the best one to reduce dimensionality. Not being able to apply a simple PCA as we are dealing with qualitative and quantitative variables, we tried the following ways:\n",
    "1. Apply Factor Analysis for Mixed Data: This way of proceeding did not require normalization, however trying to apply it, 10 principal components emerged to explain at least 70% of the variance, however we would like to further reduce the dimensionality, so we thought of a other way.\n",
    "\n",
    "\n",
    "2. Apply the PCA converting all the qualitative variables to make them quantitative (binary for example): in this way the principal components that explain 70% of the variability are 7, so we tried another way to see if we could reduce the dimensionality even more.\n",
    "\n",
    "\n",
    "3. Apply the PCA by removing the qualitative variables: given that there are only three qualitative variables, namely 'gender', 'MostFrequentLocation' and 'DOB_season', if we eliminate them we see that the main components that explain at least 70% of the variability are 3/4, so let's go this way!\n",
    "\n",
    "PCA (Principal Component Analysis) has the advantage of reducing some variables, by removing those that are highly correlated with each other. On the other hand, through PCA some information will be lost and the result will be to have features that are less interpretable."
   ]
  },
  {
   "cell_type": "markdown",
   "id": "1bd9377c",
   "metadata": {},
   "source": [
    "**Let's go for the third way mantioned above**"
   ]
  },
  {
   "cell_type": "markdown",
   "id": "bcf9d404",
   "metadata": {},
   "source": [
    "So let's create a copy of new_df and then remove the qualitative features that are:\n",
    "- 'Gender'\n",
    "- 'MostFrequentLocation'\n",
    "- 'DOB_season'"
   ]
  },
  {
   "cell_type": "code",
   "execution_count": 769,
   "id": "ad89f9b4",
   "metadata": {},
   "outputs": [],
   "source": [
    "new_df2 = new_df.copy()"
   ]
  },
  {
   "cell_type": "code",
   "execution_count": 771,
   "id": "a8617ff5",
   "metadata": {},
   "outputs": [],
   "source": [
    "del new_df2['Gender']\n",
    "del new_df2['MostFrequentLocation']\n",
    "del new_df2['DOB_season']"
   ]
  },
  {
   "cell_type": "code",
   "execution_count": 774,
   "id": "1ee71384",
   "metadata": {},
   "outputs": [
    {
     "data": {
      "text/html": [
       "<div>\n",
       "<style scoped>\n",
       "    .dataframe tbody tr th:only-of-type {\n",
       "        vertical-align: middle;\n",
       "    }\n",
       "\n",
       "    .dataframe tbody tr th {\n",
       "        vertical-align: top;\n",
       "    }\n",
       "\n",
       "    .dataframe thead th {\n",
       "        text-align: right;\n",
       "    }\n",
       "</style>\n",
       "<table border=\"1\" class=\"dataframe\">\n",
       "  <thead>\n",
       "    <tr style=\"text-align: right;\">\n",
       "      <th></th>\n",
       "      <th>NumTransaction</th>\n",
       "      <th>AmountTrans&gt;100</th>\n",
       "      <th>AvgAmountTransaction</th>\n",
       "      <th>AvgBalance</th>\n",
       "      <th>AvgDiffBalTrans</th>\n",
       "      <th>MaxAmountTransactionUSD</th>\n",
       "      <th>MinAmountTransactionUSD</th>\n",
       "      <th>MaxBalanceUSD</th>\n",
       "      <th>MinBalanceUSD</th>\n",
       "      <th>AvgAmountTransactionUSD</th>\n",
       "      <th>...</th>\n",
       "      <th>TransactionOctober</th>\n",
       "      <th>Age</th>\n",
       "      <th>AmountTrans&gt;5USD</th>\n",
       "      <th>AmountTrans&gt;20USD</th>\n",
       "      <th>AmountTrans&gt;50USD</th>\n",
       "      <th>n_transactions_in_most_freq_loc</th>\n",
       "      <th>Transaction_23-06</th>\n",
       "      <th>Transaction_7-14</th>\n",
       "      <th>Transaction_15-22</th>\n",
       "      <th>avg_seconds_between_transactions</th>\n",
       "    </tr>\n",
       "    <tr>\n",
       "      <th>CustomerID</th>\n",
       "      <th></th>\n",
       "      <th></th>\n",
       "      <th></th>\n",
       "      <th></th>\n",
       "      <th></th>\n",
       "      <th></th>\n",
       "      <th></th>\n",
       "      <th></th>\n",
       "      <th></th>\n",
       "      <th></th>\n",
       "      <th></th>\n",
       "      <th></th>\n",
       "      <th></th>\n",
       "      <th></th>\n",
       "      <th></th>\n",
       "      <th></th>\n",
       "      <th></th>\n",
       "      <th></th>\n",
       "      <th></th>\n",
       "      <th></th>\n",
       "      <th></th>\n",
       "    </tr>\n",
       "  </thead>\n",
       "  <tbody>\n",
       "    <tr>\n",
       "      <th>C1010011</th>\n",
       "      <td>2</td>\n",
       "      <td>0</td>\n",
       "      <td>2553.000</td>\n",
       "      <td>76340.635</td>\n",
       "      <td>73787.635</td>\n",
       "      <td>57.000</td>\n",
       "      <td>4.272</td>\n",
       "      <td>1442.166</td>\n",
       "      <td>390.009</td>\n",
       "      <td>30.636</td>\n",
       "      <td>...</td>\n",
       "      <td>0</td>\n",
       "      <td>24</td>\n",
       "      <td>1</td>\n",
       "      <td>1</td>\n",
       "      <td>1</td>\n",
       "      <td>1</td>\n",
       "      <td>1</td>\n",
       "      <td>1</td>\n",
       "      <td>0</td>\n",
       "      <td>4188344.000</td>\n",
       "    </tr>\n",
       "    <tr>\n",
       "      <th>C1010012</th>\n",
       "      <td>1</td>\n",
       "      <td>0</td>\n",
       "      <td>1499.000</td>\n",
       "      <td>24204.490</td>\n",
       "      <td>22705.490</td>\n",
       "      <td>17.988</td>\n",
       "      <td>17.988</td>\n",
       "      <td>290.454</td>\n",
       "      <td>290.454</td>\n",
       "      <td>17.988</td>\n",
       "      <td>...</td>\n",
       "      <td>0</td>\n",
       "      <td>22</td>\n",
       "      <td>1</td>\n",
       "      <td>0</td>\n",
       "      <td>0</td>\n",
       "      <td>1</td>\n",
       "      <td>0</td>\n",
       "      <td>0</td>\n",
       "      <td>1</td>\n",
       "      <td>0.000</td>\n",
       "    </tr>\n",
       "    <tr>\n",
       "      <th>C1010014</th>\n",
       "      <td>2</td>\n",
       "      <td>0</td>\n",
       "      <td>727.500</td>\n",
       "      <td>100112.950</td>\n",
       "      <td>99385.450</td>\n",
       "      <td>14.460</td>\n",
       "      <td>3.000</td>\n",
       "      <td>1942.185</td>\n",
       "      <td>460.526</td>\n",
       "      <td>8.730</td>\n",
       "      <td>...</td>\n",
       "      <td>0</td>\n",
       "      <td>24</td>\n",
       "      <td>1</td>\n",
       "      <td>0</td>\n",
       "      <td>0</td>\n",
       "      <td>2</td>\n",
       "      <td>0</td>\n",
       "      <td>0</td>\n",
       "      <td>2</td>\n",
       "      <td>541094.000</td>\n",
       "    </tr>\n",
       "    <tr>\n",
       "      <th>C1010018</th>\n",
       "      <td>1</td>\n",
       "      <td>0</td>\n",
       "      <td>30.000</td>\n",
       "      <td>496.180</td>\n",
       "      <td>466.180</td>\n",
       "      <td>0.360</td>\n",
       "      <td>0.360</td>\n",
       "      <td>5.954</td>\n",
       "      <td>5.954</td>\n",
       "      <td>0.360</td>\n",
       "      <td>...</td>\n",
       "      <td>0</td>\n",
       "      <td>26</td>\n",
       "      <td>0</td>\n",
       "      <td>0</td>\n",
       "      <td>0</td>\n",
       "      <td>1</td>\n",
       "      <td>0</td>\n",
       "      <td>0</td>\n",
       "      <td>1</td>\n",
       "      <td>0.000</td>\n",
       "    </tr>\n",
       "    <tr>\n",
       "      <th>C1010024</th>\n",
       "      <td>1</td>\n",
       "      <td>0</td>\n",
       "      <td>5000.000</td>\n",
       "      <td>87058.650</td>\n",
       "      <td>82058.650</td>\n",
       "      <td>60.000</td>\n",
       "      <td>60.000</td>\n",
       "      <td>1044.704</td>\n",
       "      <td>1044.704</td>\n",
       "      <td>60.000</td>\n",
       "      <td>...</td>\n",
       "      <td>0</td>\n",
       "      <td>-49</td>\n",
       "      <td>1</td>\n",
       "      <td>1</td>\n",
       "      <td>1</td>\n",
       "      <td>1</td>\n",
       "      <td>0</td>\n",
       "      <td>1</td>\n",
       "      <td>0</td>\n",
       "      <td>0.000</td>\n",
       "    </tr>\n",
       "  </tbody>\n",
       "</table>\n",
       "<p>5 rows × 24 columns</p>\n",
       "</div>"
      ],
      "text/plain": [
       "            NumTransaction  AmountTrans>100  AvgAmountTransaction  AvgBalance  \\\n",
       "CustomerID                                                                      \n",
       "C1010011                 2                0              2553.000   76340.635   \n",
       "C1010012                 1                0              1499.000   24204.490   \n",
       "C1010014                 2                0               727.500  100112.950   \n",
       "C1010018                 1                0                30.000     496.180   \n",
       "C1010024                 1                0              5000.000   87058.650   \n",
       "\n",
       "            AvgDiffBalTrans  MaxAmountTransactionUSD  MinAmountTransactionUSD  \\\n",
       "CustomerID                                                                      \n",
       "C1010011          73787.635                   57.000                    4.272   \n",
       "C1010012          22705.490                   17.988                   17.988   \n",
       "C1010014          99385.450                   14.460                    3.000   \n",
       "C1010018            466.180                    0.360                    0.360   \n",
       "C1010024          82058.650                   60.000                   60.000   \n",
       "\n",
       "            MaxBalanceUSD  MinBalanceUSD  AvgAmountTransactionUSD  ...  \\\n",
       "CustomerID                                                         ...   \n",
       "C1010011         1442.166        390.009                   30.636  ...   \n",
       "C1010012          290.454        290.454                   17.988  ...   \n",
       "C1010014         1942.185        460.526                    8.730  ...   \n",
       "C1010018            5.954          5.954                    0.360  ...   \n",
       "C1010024         1044.704       1044.704                   60.000  ...   \n",
       "\n",
       "            TransactionOctober  Age  AmountTrans>5USD  AmountTrans>20USD  \\\n",
       "CustomerID                                                                 \n",
       "C1010011                     0   24                 1                  1   \n",
       "C1010012                     0   22                 1                  0   \n",
       "C1010014                     0   24                 1                  0   \n",
       "C1010018                     0   26                 0                  0   \n",
       "C1010024                     0  -49                 1                  1   \n",
       "\n",
       "            AmountTrans>50USD  n_transactions_in_most_freq_loc  \\\n",
       "CustomerID                                                       \n",
       "C1010011                    1                                1   \n",
       "C1010012                    0                                1   \n",
       "C1010014                    0                                2   \n",
       "C1010018                    0                                1   \n",
       "C1010024                    1                                1   \n",
       "\n",
       "            Transaction_23-06  Transaction_7-14  Transaction_15-22  \\\n",
       "CustomerID                                                           \n",
       "C1010011                    1                 1                  0   \n",
       "C1010012                    0                 0                  1   \n",
       "C1010014                    0                 0                  2   \n",
       "C1010018                    0                 0                  1   \n",
       "C1010024                    0                 1                  0   \n",
       "\n",
       "            avg_seconds_between_transactions  \n",
       "CustomerID                                    \n",
       "C1010011                         4188344.000  \n",
       "C1010012                               0.000  \n",
       "C1010014                          541094.000  \n",
       "C1010018                               0.000  \n",
       "C1010024                               0.000  \n",
       "\n",
       "[5 rows x 24 columns]"
      ]
     },
     "execution_count": 774,
     "metadata": {},
     "output_type": "execute_result"
    }
   ],
   "source": [
    "new_df2.head()"
   ]
  },
  {
   "cell_type": "markdown",
   "id": "c95a79a2",
   "metadata": {},
   "source": [
    "**To normalize or not to normalize... that is the question.....**\n",
    "\n",
    "The **choice we make is to normalize** because some units of measurement of the features are different from each other and because the features have a very different variability from each other; normalizing is therefore necessary (we think that in this case it is really mandatory to normalize in order to have PCA results that make sense:"
   ]
  },
  {
   "cell_type": "code",
   "execution_count": 775,
   "id": "608f0152",
   "metadata": {},
   "outputs": [],
   "source": [
    "scaler = preprocessing.MinMaxScaler()"
   ]
  },
  {
   "cell_type": "code",
   "execution_count": 776,
   "id": "7302eade",
   "metadata": {},
   "outputs": [],
   "source": [
    "new_df_normalized = scaler.fit_transform(new_df2)"
   ]
  },
  {
   "cell_type": "code",
   "execution_count": 777,
   "id": "48a6ffea",
   "metadata": {},
   "outputs": [],
   "source": [
    "new_df_normalized = pd.DataFrame(new_df_normalized, columns = [\"NumTransaction\",\"AmountTrans>100\",\"AvgAmountTransaction\",\n",
    "\"AvgBalance\",\"AvgDiffBalTrans\",\"MaxAmountTransactionUSD\",\"MinAmountTransactionUSD\",\"MaxBalanceUSD\", \"MinBalanceUSD\",\n",
    "\"AvgAmountTransactionUSD\",\"AvgBalanceUSD\",\"MedianAmountTransactionUSD\",\"TransactionAugust\",\"TransactionSeptember\", \n",
    "\"TransactionOctober\", \"Age\",\"AmountTrans>5USD\", \"AmountTrans>20USD\", \"AmountTrans>50USD\",\"n_transactions_in_most_freq_loc\",\n",
    "\"Transaction_23-06\", \"Transaction_7-14\",'Transaction_15-22','avg_seconds_between_transactions'])"
   ]
  },
  {
   "cell_type": "code",
   "execution_count": 778,
   "id": "a4d29c17",
   "metadata": {},
   "outputs": [],
   "source": [
    "def PCAplot(datanorm):\n",
    "    pca = PCA().fit(datanorm)\n",
    "    plt.figure(figsize=(10,8))\n",
    "\n",
    "    # Percentage of variance explained by each principal components\n",
    "    plt.plot(np.cumsum(pca.explained_variance_ratio_)) \n",
    "    plt.hlines(0.7, 0, 24, colors = 'orange')\n",
    "    #plt.vlines(4, 1, 0, colors = 'green')\n",
    "    plt.xlabel('Number of principal components')\n",
    "    plt.ylabel('Explained Variance')\n",
    "\n",
    "    plt.grid()\n",
    "    plt.show()"
   ]
  },
  {
   "cell_type": "code",
   "execution_count": 779,
   "id": "7267d4db",
   "metadata": {
    "scrolled": false
   },
   "outputs": [
    {
     "data": {
      "image/png": "[encoded data removed]",
      "text/plain": [
       "<Figure size 720x576 with 1 Axes>"
      ]
     },
     "metadata": {
      "needs_background": "light"
     },
     "output_type": "display_data"
    }
   ],
   "source": [
    "PCAplot(new_df_normalized)"
   ]
  },
  {
   "cell_type": "markdown",
   "id": "c174093c",
   "metadata": {},
   "source": [
    "From the graph above it can be seen that the PCA is very efficient, in fact if by absurd we wanted to explain 100% of the variability, from 24 variables we could pass to 11 principal components and not lose any information. However, we are interested in explaining at least 70% of the variance and to do this maybe 4 principal components would suffice (we will see it numerically speaking shortly). However, it can be seen that in the graph, in correspondence with 5 p.c. (actually it is in corrispondence with 4 because the graph on the x axis starts from 0, therefore 4 on the x axis would mean 5 c.p) there seems to be the shape of an elbow and this is a hint from the graph on how many p.c. to take."
   ]
  },
  {
   "cell_type": "markdown",
   "id": "07183149",
   "metadata": {},
   "source": [
    "**Elbow method**"
   ]
  },
  {
   "cell_type": "code",
   "execution_count": 780,
   "id": "48da9dc0",
   "metadata": {},
   "outputs": [],
   "source": [
    "pca = PCA(n_components=10) \n",
    "principalcompo = pca.fit_transform(new_df_normalized)"
   ]
  },
  {
   "cell_type": "code",
   "execution_count": 781,
   "id": "1884d5f3",
   "metadata": {},
   "outputs": [
    {
     "data": {
      "image/png": "[encoded data removed]",
      "text/plain": [
       "<Figure size 720x576 with 1 Axes>"
      ]
     },
     "metadata": {
      "needs_background": "light"
     },
     "output_type": "display_data"
    }
   ],
   "source": [
    "figure(figsize=(10, 8))\n",
    "PCA_values = np.arange(pca.n_components) \n",
    "plt.plot(PCA_values, pca.explained_variance_ratio_.cumsum(), 'o-', linewidth=2, color='purple')\n",
    "plt.title('Scree Plot')\n",
    "plt.xlabel('Principal Component')\n",
    "plt.ylabel('Variance Explained')\n",
    "plt.show()"
   ]
  },
  {
   "cell_type": "markdown",
   "id": "f31d905c",
   "metadata": {},
   "source": [
    "As can be seen again from the graph, at 4 (i.e. 5 p.c.) the graph takes on an elbow shape.\n",
    "\n",
    "Now let's look at how much variance is explained by the principal components and let's choose the number of p.c. to take into account."
   ]
  },
  {
   "cell_type": "code",
   "execution_count": 782,
   "id": "fffa6e83",
   "metadata": {},
   "outputs": [],
   "source": [
    "pca = PCA(n_components=5) \n",
    "principalcompo = pca.fit_transform(new_df_normalized)\n",
    "pca_df = pd.DataFrame(data = principalcompo)  "
   ]
  },
  {
   "cell_type": "code",
   "execution_count": 783,
   "id": "5d3af78d",
   "metadata": {},
   "outputs": [
    {
     "name": "stdout",
     "output_type": "stream",
     "text": [
      "[0.2166785  0.4070665  0.57468821 0.69881401 0.8073122 ]\n"
     ]
    }
   ],
   "source": [
    "print(pca.explained_variance_ratio_.cumsum())"
   ]
  },
  {
   "cell_type": "code",
   "execution_count": 784,
   "id": "823f216d",
   "metadata": {},
   "outputs": [
    {
     "name": "stdout",
     "output_type": "stream",
     "text": [
      "The variance explained by 5 principal components is:  80.73121994995897\n"
     ]
    }
   ],
   "source": [
    "print('The variance explained by 5 principal components is: ', sum(pca.explained_variance_ratio_)*100)"
   ]
  },
  {
   "cell_type": "markdown",
   "id": "9d1b3dbe",
   "metadata": {},
   "source": [
    "**In conclusion, given that 4 principal components explain just under 70% of the variance, and given that in correspondence with 5 principal components there is an elbow shape in the graph, 5 principal components are taken.**"
   ]
  },
  {
   "cell_type": "code",
   "execution_count": 785,
   "id": "61ddaf99",
   "metadata": {},
   "outputs": [
    {
     "data": {
      "text/html": [
       "<div>\n",
       "<style scoped>\n",
       "    .dataframe tbody tr th:only-of-type {\n",
       "        vertical-align: middle;\n",
       "    }\n",
       "\n",
       "    .dataframe tbody tr th {\n",
       "        vertical-align: top;\n",
       "    }\n",
       "\n",
       "    .dataframe thead th {\n",
       "        text-align: right;\n",
       "    }\n",
       "</style>\n",
       "<table border=\"1\" class=\"dataframe\">\n",
       "  <thead>\n",
       "    <tr style=\"text-align: right;\">\n",
       "      <th></th>\n",
       "      <th>0</th>\n",
       "      <th>1</th>\n",
       "      <th>2</th>\n",
       "      <th>3</th>\n",
       "      <th>4</th>\n",
       "    </tr>\n",
       "  </thead>\n",
       "  <tbody>\n",
       "    <tr>\n",
       "      <th>0</th>\n",
       "      <td>0.102</td>\n",
       "      <td>0.339</td>\n",
       "      <td>0.392</td>\n",
       "      <td>0.088</td>\n",
       "      <td>-0.068</td>\n",
       "    </tr>\n",
       "    <tr>\n",
       "      <th>1</th>\n",
       "      <td>0.026</td>\n",
       "      <td>0.030</td>\n",
       "      <td>-0.120</td>\n",
       "      <td>-0.100</td>\n",
       "      <td>0.000</td>\n",
       "    </tr>\n",
       "    <tr>\n",
       "      <th>2</th>\n",
       "      <td>0.024</td>\n",
       "      <td>0.263</td>\n",
       "      <td>-0.132</td>\n",
       "      <td>-0.207</td>\n",
       "      <td>-0.197</td>\n",
       "    </tr>\n",
       "    <tr>\n",
       "      <th>3</th>\n",
       "      <td>-0.033</td>\n",
       "      <td>-0.066</td>\n",
       "      <td>-0.162</td>\n",
       "      <td>0.158</td>\n",
       "      <td>-0.026</td>\n",
       "    </tr>\n",
       "    <tr>\n",
       "      <th>4</th>\n",
       "      <td>0.793</td>\n",
       "      <td>-0.034</td>\n",
       "      <td>0.167</td>\n",
       "      <td>-0.083</td>\n",
       "      <td>0.222</td>\n",
       "    </tr>\n",
       "    <tr>\n",
       "      <th>5</th>\n",
       "      <td>-0.020</td>\n",
       "      <td>-0.099</td>\n",
       "      <td>0.175</td>\n",
       "      <td>-0.092</td>\n",
       "      <td>0.014</td>\n",
       "    </tr>\n",
       "    <tr>\n",
       "      <th>6</th>\n",
       "      <td>-0.045</td>\n",
       "      <td>0.108</td>\n",
       "      <td>0.149</td>\n",
       "      <td>-0.201</td>\n",
       "      <td>-0.148</td>\n",
       "    </tr>\n",
       "    <tr>\n",
       "      <th>7</th>\n",
       "      <td>0.046</td>\n",
       "      <td>0.193</td>\n",
       "      <td>0.192</td>\n",
       "      <td>-0.188</td>\n",
       "      <td>-0.273</td>\n",
       "    </tr>\n",
       "    <tr>\n",
       "      <th>8</th>\n",
       "      <td>0.043</td>\n",
       "      <td>-0.207</td>\n",
       "      <td>0.130</td>\n",
       "      <td>-0.094</td>\n",
       "      <td>-0.020</td>\n",
       "    </tr>\n",
       "    <tr>\n",
       "      <th>9</th>\n",
       "      <td>-0.025</td>\n",
       "      <td>0.299</td>\n",
       "      <td>0.013</td>\n",
       "      <td>-0.090</td>\n",
       "      <td>0.450</td>\n",
       "    </tr>\n",
       "  </tbody>\n",
       "</table>\n",
       "</div>"
      ],
      "text/plain": [
       "       0      1      2      3      4\n",
       "0  0.102  0.339  0.392  0.088 -0.068\n",
       "1  0.026  0.030 -0.120 -0.100  0.000\n",
       "2  0.024  0.263 -0.132 -0.207 -0.197\n",
       "3 -0.033 -0.066 -0.162  0.158 -0.026\n",
       "4  0.793 -0.034  0.167 -0.083  0.222\n",
       "5 -0.020 -0.099  0.175 -0.092  0.014\n",
       "6 -0.045  0.108  0.149 -0.201 -0.148\n",
       "7  0.046  0.193  0.192 -0.188 -0.273\n",
       "8  0.043 -0.207  0.130 -0.094 -0.020\n",
       "9 -0.025  0.299  0.013 -0.090  0.450"
      ]
     },
     "execution_count": 785,
     "metadata": {},
     "output_type": "execute_result"
    }
   ],
   "source": [
    "pd.options.display.float_format = '{:.3f}'.format \n",
    "pca_df.head(10)"
   ]
  },
  {
   "cell_type": "markdown",
   "id": "7a78b824",
   "metadata": {},
   "source": [
    "# 2.3 Clustering"
   ]
  },
  {
   "cell_type": "code",
   "execution_count": null,
   "id": "c209e465",
   "metadata": {},
   "outputs": [],
   "source": []
  }
 ],
 "metadata": {
  "kernelspec": {
   "display_name": "Python 3 (ipykernel)",
   "language": "python",
   "name": "python3"
  },
  "language_info": {
   "codemirror_mode": {
    "name": "ipython",
    "version": 3
   },
   "file_extension": ".py",
   "mimetype": "text/x-python",
   "name": "python",
   "nbconvert_exporter": "python",
   "pygments_lexer": "ipython3",
   "version": "3.9.12"
  }
 },
 "nbformat": 4,
 "nbformat_minor": 5
}
